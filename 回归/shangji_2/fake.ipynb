{
 "cells": [
  {
   "cell_type": "code",
   "execution_count": 1,
   "metadata": {
    "vscode": {
     "languageId": "r"
    }
   },
   "outputs": [],
   "source": [
    "library(xlsx)\n",
    "df<-read.xlsx(\"3-15.xlsx\",1)\n",
    "X=as.matrix(df[,2])\n",
    "y=as.matrix(df[,3])\n",
    "# oldX=X\n",
    "# oldY=y\n",
    "# xmean=colMeans(X)\n",
    "# xsd=sd(X)*sqrt(52)\n",
    "# ymean=mean(y)\n",
    "# ysd=sd(y)*sqrt(52)\n",
    "# X=(X-xmean)/matrix(rep(xsd,53),byrow=T,nrow=53,ncol=1)\n",
    "# y=(y-ymean)/matrix(rep(ysd,53),byrow=T,nrow=53,ncol=1)"
   ]
  },
  {
   "cell_type": "code",
   "execution_count": 4,
   "metadata": {
    "vscode": {
     "languageId": "r"
    }
   },
   "outputs": [
    {
     "data": {
      "text/html": [
       "0.53"
      ],
      "text/latex": [
       "0.53"
      ],
      "text/markdown": [
       "0.53"
      ],
      "text/plain": [
       "[1] 0.53"
      ]
     },
     "metadata": {},
     "output_type": "display_data"
    },
    {
     "data": {
      "image/png": "[encoded data removed]",
      "text/plain": [
       "plot without title"
      ]
     },
     "metadata": {
      "image/png": {
       "height": 420,
       "width": 420
      }
     },
     "output_type": "display_data"
    }
   ],
   "source": [
    "library(MASS)\n",
    "bc<-boxcox(Y~X,data=df,lambda=seq(0,1,0.01))\n",
    "lambda<-bc$x[which.max(bc$y)]\n",
    "lambda"
   ]
  },
  {
   "cell_type": "markdown",
   "metadata": {},
   "source": [
    "第一问"
   ]
  },
  {
   "cell_type": "code",
   "execution_count": 15,
   "metadata": {
    "vscode": {
     "languageId": "r"
    }
   },
   "outputs": [
    {
     "data": {
      "text/html": [
       "<table class=\"dataframe\">\n",
       "<caption>A matrix: 1 × 1 of type dbl</caption>\n",
       "<tbody>\n",
       "\t<tr><td>0.8322164</td></tr>\n",
       "</tbody>\n",
       "</table>\n"
      ],
      "text/latex": [
       "A matrix: 1 × 1 of type dbl\n",
       "\\begin{tabular}{l}\n",
       "\t 0.8322164\\\\\n",
       "\\end{tabular}\n"
      ],
      "text/markdown": [
       "\n",
       "A matrix: 1 × 1 of type dbl\n",
       "\n",
       "| 0.8322164 |\n",
       "\n"
      ],
      "text/plain": [
       "     [,1]     \n",
       "[1,] 0.8322164"
      ]
     },
     "metadata": {},
     "output_type": "display_data"
    }
   ],
   "source": [
    "(betahat=solve(t(X)%*%X)%*%t(X)%*%y)"
   ]
  },
  {
   "cell_type": "markdown",
   "metadata": {},
   "source": [
    "第二问"
   ]
  },
  {
   "cell_type": "code",
   "execution_count": 16,
   "metadata": {
    "vscode": {
     "languageId": "r"
    }
   },
   "outputs": [],
   "source": [
    "e=y-X%*%betahat\n",
    "sigmahat=(t(e)%*%e)/52\n",
    "H=X%*%solve(t(X)%*%X)%*%t(X)\n",
    "hii=diag(H)\n",
    "ri=e/sqrt(c(sigmahat)*(1-hii))\n",
    "df$plotx <- H%*%y\n",
    "df$ploty <- ri"
   ]
  },
  {
   "cell_type": "code",
   "execution_count": 17,
   "metadata": {
    "vscode": {
     "languageId": "r"
    }
   },
   "outputs": [
    {
     "data": {
      "text/html": [
       "<style>\n",
       ".list-inline {list-style: none; margin:0; padding: 0}\n",
       ".list-inline>li {display: inline-block}\n",
       ".list-inline>li:not(:last-child)::after {content: \"\\00b7\"; padding: 0 .5ex}\n",
       "</style>\n",
       "<ol class=list-inline><li>6.04599340192871e-05</li><li>0.000196522891453052</li><li>5.77758214890495e-06</li><li>0.000116125211333407</li><li>8.7243025862846e-05</li><li>6.50599314096769e-09</li><li>6.99940766077868e-06</li><li>0.000275017178219376</li><li>1.06594191621615e-06</li><li>0.000218832722652607</li><li>0.000112332217332223</li><li>7.5605105332283e-05</li><li>4.4604048015572e-05</li><li>0.000196522891453052</li><li>6.04599340192871e-05</li><li>0.00014521610906393</li><li>0.000169480861082483</li><li>3.44167037157191e-06</li><li>4.50360459601322e-05</li><li>0.000137166113630748</li><li>0.000100359108035037</li><li>2.14356859611347e-05</li><li>3.79752217241028e-05</li><li>4.53441697952884e-06</li><li>5.29330204346388e-05</li><li>1.93954065121273e-05</li><li>2.7318925438649e-05</li><li>8.96705420236039e-05</li><li>0.000116821612839216</li><li>1.85522298010578e-05</li><li>2.29947821574362e-06</li><li>9.87495253319615e-05</li><li>0.000162827051777352</li><li>0.000347166299995177</li><li>2.50090376338798e-07</li><li>0.000126789835290081</li><li>3.97857094953713e-05</li><li>4.96977201654984e-05</li><li>3.24282119721137e-05</li><li>3.58196560766374e-05</li><li>3.71840929581611e-05</li><li>0.000148343149607204</li><li>1.70743283991556e-06</li><li>6.58429927441238e-05</li><li>8.90605401067068e-05</li><li>0.000124979867998264</li><li>5.74869553935906e-07</li><li>0.00014560516745376</li><li>0.000101981702724394</li><li>0.00149773192923562</li><li>2.90313028333517e-05</li><li>0.000292405355727652</li><li>3.46704374482168e-05</li></ol>\n"
      ],
      "text/latex": [
       "\\begin{enumerate*}\n",
       "\\item 6.04599340192871e-05\n",
       "\\item 0.000196522891453052\n",
       "\\item 5.77758214890495e-06\n",
       "\\item 0.000116125211333407\n",
       "\\item 8.7243025862846e-05\n",
       "\\item 6.50599314096769e-09\n",
       "\\item 6.99940766077868e-06\n",
       "\\item 0.000275017178219376\n",
       "\\item 1.06594191621615e-06\n",
       "\\item 0.000218832722652607\n",
       "\\item 0.000112332217332223\n",
       "\\item 7.5605105332283e-05\n",
       "\\item 4.4604048015572e-05\n",
       "\\item 0.000196522891453052\n",
       "\\item 6.04599340192871e-05\n",
       "\\item 0.00014521610906393\n",
       "\\item 0.000169480861082483\n",
       "\\item 3.44167037157191e-06\n",
       "\\item 4.50360459601322e-05\n",
       "\\item 0.000137166113630748\n",
       "\\item 0.000100359108035037\n",
       "\\item 2.14356859611347e-05\n",
       "\\item 3.79752217241028e-05\n",
       "\\item 4.53441697952884e-06\n",
       "\\item 5.29330204346388e-05\n",
       "\\item 1.93954065121273e-05\n",
       "\\item 2.7318925438649e-05\n",
       "\\item 8.96705420236039e-05\n",
       "\\item 0.000116821612839216\n",
       "\\item 1.85522298010578e-05\n",
       "\\item 2.29947821574362e-06\n",
       "\\item 9.87495253319615e-05\n",
       "\\item 0.000162827051777352\n",
       "\\item 0.000347166299995177\n",
       "\\item 2.50090376338798e-07\n",
       "\\item 0.000126789835290081\n",
       "\\item 3.97857094953713e-05\n",
       "\\item 4.96977201654984e-05\n",
       "\\item 3.24282119721137e-05\n",
       "\\item 3.58196560766374e-05\n",
       "\\item 3.71840929581611e-05\n",
       "\\item 0.000148343149607204\n",
       "\\item 1.70743283991556e-06\n",
       "\\item 6.58429927441238e-05\n",
       "\\item 8.90605401067068e-05\n",
       "\\item 0.000124979867998264\n",
       "\\item 5.74869553935906e-07\n",
       "\\item 0.00014560516745376\n",
       "\\item 0.000101981702724394\n",
       "\\item 0.00149773192923562\n",
       "\\item 2.90313028333517e-05\n",
       "\\item 0.000292405355727652\n",
       "\\item 3.46704374482168e-05\n",
       "\\end{enumerate*}\n"
      ],
      "text/markdown": [
       "1. 6.04599340192871e-05\n",
       "2. 0.000196522891453052\n",
       "3. 5.77758214890495e-06\n",
       "4. 0.000116125211333407\n",
       "5. 8.7243025862846e-05\n",
       "6. 6.50599314096769e-09\n",
       "7. 6.99940766077868e-06\n",
       "8. 0.000275017178219376\n",
       "9. 1.06594191621615e-06\n",
       "10. 0.000218832722652607\n",
       "11. 0.000112332217332223\n",
       "12. 7.5605105332283e-05\n",
       "13. 4.4604048015572e-05\n",
       "14. 0.000196522891453052\n",
       "15. 6.04599340192871e-05\n",
       "16. 0.00014521610906393\n",
       "17. 0.000169480861082483\n",
       "18. 3.44167037157191e-06\n",
       "19. 4.50360459601322e-05\n",
       "20. 0.000137166113630748\n",
       "21. 0.000100359108035037\n",
       "22. 2.14356859611347e-05\n",
       "23. 3.79752217241028e-05\n",
       "24. 4.53441697952884e-06\n",
       "25. 5.29330204346388e-05\n",
       "26. 1.93954065121273e-05\n",
       "27. 2.7318925438649e-05\n",
       "28. 8.96705420236039e-05\n",
       "29. 0.000116821612839216\n",
       "30. 1.85522298010578e-05\n",
       "31. 2.29947821574362e-06\n",
       "32. 9.87495253319615e-05\n",
       "33. 0.000162827051777352\n",
       "34. 0.000347166299995177\n",
       "35. 2.50090376338798e-07\n",
       "36. 0.000126789835290081\n",
       "37. 3.97857094953713e-05\n",
       "38. 4.96977201654984e-05\n",
       "39. 3.24282119721137e-05\n",
       "40. 3.58196560766374e-05\n",
       "41. 3.71840929581611e-05\n",
       "42. 0.000148343149607204\n",
       "43. 1.70743283991556e-06\n",
       "44. 6.58429927441238e-05\n",
       "45. 8.90605401067068e-05\n",
       "46. 0.000124979867998264\n",
       "47. 5.74869553935906e-07\n",
       "48. 0.00014560516745376\n",
       "49. 0.000101981702724394\n",
       "50. 0.00149773192923562\n",
       "51. 2.90313028333517e-05\n",
       "52. 0.000292405355727652\n",
       "53. 3.46704374482168e-05\n",
       "\n",
       "\n"
      ],
      "text/plain": [
       " [1] 6.045993e-05 1.965229e-04 5.777582e-06 1.161252e-04 8.724303e-05\n",
       " [6] 6.505993e-09 6.999408e-06 2.750172e-04 1.065942e-06 2.188327e-04\n",
       "[11] 1.123322e-04 7.560511e-05 4.460405e-05 1.965229e-04 6.045993e-05\n",
       "[16] 1.452161e-04 1.694809e-04 3.441670e-06 4.503605e-05 1.371661e-04\n",
       "[21] 1.003591e-04 2.143569e-05 3.797522e-05 4.534417e-06 5.293302e-05\n",
       "[26] 1.939541e-05 2.731893e-05 8.967054e-05 1.168216e-04 1.855223e-05\n",
       "[31] 2.299478e-06 9.874953e-05 1.628271e-04 3.471663e-04 2.500904e-07\n",
       "[36] 1.267898e-04 3.978571e-05 4.969772e-05 3.242821e-05 3.581966e-05\n",
       "[41] 3.718409e-05 1.483431e-04 1.707433e-06 6.584299e-05 8.906054e-05\n",
       "[46] 1.249799e-04 5.748696e-07 1.456052e-04 1.019817e-04 1.497732e-03\n",
       "[51] 2.903130e-05 2.924054e-04 3.467044e-05"
      ]
     },
     "metadata": {},
     "output_type": "display_data"
    }
   ],
   "source": [
    "c(sigmahat)*hii"
   ]
  },
  {
   "cell_type": "code",
   "execution_count": 18,
   "metadata": {
    "vscode": {
     "languageId": "r"
    }
   },
   "outputs": [
    {
     "data": {
      "image/png": "[encoded data removed]",
      "text/plain": [
       "plot without title"
      ]
     },
     "metadata": {
      "image/png": {
       "height": 420,
       "width": 420
      }
     },
     "output_type": "display_data"
    }
   ],
   "source": [
    "library(ggplot2)\n",
    "ggplot(df,aes(x=plotx,y=ploty))+geom_point()"
   ]
  },
  {
   "cell_type": "code",
   "execution_count": 19,
   "metadata": {
    "vscode": {
     "languageId": "r"
    }
   },
   "outputs": [
    {
     "data": {
      "text/html": [
       "<table class=\"dataframe\">\n",
       "<caption>A matrix: 53 × 1 of type dbl</caption>\n",
       "<tbody>\n",
       "\t<tr><td>-0.55449172</td></tr>\n",
       "\t<tr><td> 0.10937977</td></tr>\n",
       "\t<tr><td>-1.45291202</td></tr>\n",
       "\t<tr><td>-0.13054816</td></tr>\n",
       "\t<tr><td> 0.87374575</td></tr>\n",
       "\t<tr><td> 0.15368120</td></tr>\n",
       "\t<tr><td> 1.19950997</td></tr>\n",
       "\t<tr><td> 1.52115273</td></tr>\n",
       "\t<tr><td> 1.35464417</td></tr>\n",
       "\t<tr><td> 0.07579468</td></tr>\n",
       "\t<tr><td> 0.03127536</td></tr>\n",
       "\t<tr><td>-0.09704296</td></tr>\n",
       "\t<tr><td> 0.84091238</td></tr>\n",
       "\t<tr><td>-1.35808385</td></tr>\n",
       "\t<tr><td>-1.25994197</td></tr>\n",
       "\t<tr><td>-0.13350078</td></tr>\n",
       "\t<tr><td>-0.20566150</td></tr>\n",
       "\t<tr><td>-1.22369540</td></tr>\n",
       "\t<tr><td>-0.71681599</td></tr>\n",
       "\t<tr><td> 0.38346570</td></tr>\n",
       "\t<tr><td>-0.38360189</td></tr>\n",
       "\t<tr><td>-0.51218254</td></tr>\n",
       "\t<tr><td> 0.30502324</td></tr>\n",
       "\t<tr><td>-1.44115513</td></tr>\n",
       "\t<tr><td> 1.39870597</td></tr>\n",
       "\t<tr><td>-2.57163899</td></tr>\n",
       "\t<tr><td> 1.23238776</td></tr>\n",
       "\t<tr><td>-0.41568455</td></tr>\n",
       "\t<tr><td>-1.49443295</td></tr>\n",
       "\t<tr><td> 2.01175081</td></tr>\n",
       "\t<tr><td>-0.70511488</td></tr>\n",
       "\t<tr><td>-0.41280665</td></tr>\n",
       "\t<tr><td> 0.02489503</td></tr>\n",
       "\t<tr><td> 0.38635199</td></tr>\n",
       "\t<tr><td> 0.93444207</td></tr>\n",
       "\t<tr><td>-0.23943139</td></tr>\n",
       "\t<tr><td>-0.16266534</td></tr>\n",
       "\t<tr><td> 1.42941447</td></tr>\n",
       "\t<tr><td> 1.13534516</td></tr>\n",
       "\t<tr><td>-0.69915575</td></tr>\n",
       "\t<tr><td> 0.78355188</td></tr>\n",
       "\t<tr><td>-0.15327267</td></tr>\n",
       "\t<tr><td>-0.29268471</td></tr>\n",
       "\t<tr><td> 0.34517776</td></tr>\n",
       "\t<tr><td> 0.11375932</td></tr>\n",
       "\t<tr><td>-0.16841098</td></tr>\n",
       "\t<tr><td>-0.84294131</td></tr>\n",
       "\t<tr><td>-0.12485151</td></tr>\n",
       "\t<tr><td> 1.67854781</td></tr>\n",
       "\t<tr><td> 2.06676240</td></tr>\n",
       "\t<tr><td> 0.30711500</td></tr>\n",
       "\t<tr><td>-2.18784325</td></tr>\n",
       "\t<tr><td>-0.50604869</td></tr>\n",
       "</tbody>\n",
       "</table>\n"
      ],
      "text/latex": [
       "A matrix: 53 × 1 of type dbl\n",
       "\\begin{tabular}{l}\n",
       "\t -0.55449172\\\\\n",
       "\t  0.10937977\\\\\n",
       "\t -1.45291202\\\\\n",
       "\t -0.13054816\\\\\n",
       "\t  0.87374575\\\\\n",
       "\t  0.15368120\\\\\n",
       "\t  1.19950997\\\\\n",
       "\t  1.52115273\\\\\n",
       "\t  1.35464417\\\\\n",
       "\t  0.07579468\\\\\n",
       "\t  0.03127536\\\\\n",
       "\t -0.09704296\\\\\n",
       "\t  0.84091238\\\\\n",
       "\t -1.35808385\\\\\n",
       "\t -1.25994197\\\\\n",
       "\t -0.13350078\\\\\n",
       "\t -0.20566150\\\\\n",
       "\t -1.22369540\\\\\n",
       "\t -0.71681599\\\\\n",
       "\t  0.38346570\\\\\n",
       "\t -0.38360189\\\\\n",
       "\t -0.51218254\\\\\n",
       "\t  0.30502324\\\\\n",
       "\t -1.44115513\\\\\n",
       "\t  1.39870597\\\\\n",
       "\t -2.57163899\\\\\n",
       "\t  1.23238776\\\\\n",
       "\t -0.41568455\\\\\n",
       "\t -1.49443295\\\\\n",
       "\t  2.01175081\\\\\n",
       "\t -0.70511488\\\\\n",
       "\t -0.41280665\\\\\n",
       "\t  0.02489503\\\\\n",
       "\t  0.38635199\\\\\n",
       "\t  0.93444207\\\\\n",
       "\t -0.23943139\\\\\n",
       "\t -0.16266534\\\\\n",
       "\t  1.42941447\\\\\n",
       "\t  1.13534516\\\\\n",
       "\t -0.69915575\\\\\n",
       "\t  0.78355188\\\\\n",
       "\t -0.15327267\\\\\n",
       "\t -0.29268471\\\\\n",
       "\t  0.34517776\\\\\n",
       "\t  0.11375932\\\\\n",
       "\t -0.16841098\\\\\n",
       "\t -0.84294131\\\\\n",
       "\t -0.12485151\\\\\n",
       "\t  1.67854781\\\\\n",
       "\t  2.06676240\\\\\n",
       "\t  0.30711500\\\\\n",
       "\t -2.18784325\\\\\n",
       "\t -0.50604869\\\\\n",
       "\\end{tabular}\n"
      ],
      "text/markdown": [
       "\n",
       "A matrix: 53 × 1 of type dbl\n",
       "\n",
       "| -0.55449172 |\n",
       "|  0.10937977 |\n",
       "| -1.45291202 |\n",
       "| -0.13054816 |\n",
       "|  0.87374575 |\n",
       "|  0.15368120 |\n",
       "|  1.19950997 |\n",
       "|  1.52115273 |\n",
       "|  1.35464417 |\n",
       "|  0.07579468 |\n",
       "|  0.03127536 |\n",
       "| -0.09704296 |\n",
       "|  0.84091238 |\n",
       "| -1.35808385 |\n",
       "| -1.25994197 |\n",
       "| -0.13350078 |\n",
       "| -0.20566150 |\n",
       "| -1.22369540 |\n",
       "| -0.71681599 |\n",
       "|  0.38346570 |\n",
       "| -0.38360189 |\n",
       "| -0.51218254 |\n",
       "|  0.30502324 |\n",
       "| -1.44115513 |\n",
       "|  1.39870597 |\n",
       "| -2.57163899 |\n",
       "|  1.23238776 |\n",
       "| -0.41568455 |\n",
       "| -1.49443295 |\n",
       "|  2.01175081 |\n",
       "| -0.70511488 |\n",
       "| -0.41280665 |\n",
       "|  0.02489503 |\n",
       "|  0.38635199 |\n",
       "|  0.93444207 |\n",
       "| -0.23943139 |\n",
       "| -0.16266534 |\n",
       "|  1.42941447 |\n",
       "|  1.13534516 |\n",
       "| -0.69915575 |\n",
       "|  0.78355188 |\n",
       "| -0.15327267 |\n",
       "| -0.29268471 |\n",
       "|  0.34517776 |\n",
       "|  0.11375932 |\n",
       "| -0.16841098 |\n",
       "| -0.84294131 |\n",
       "| -0.12485151 |\n",
       "|  1.67854781 |\n",
       "|  2.06676240 |\n",
       "|  0.30711500 |\n",
       "| -2.18784325 |\n",
       "| -0.50604869 |\n",
       "\n"
      ],
      "text/plain": [
       "      [,1]       \n",
       " [1,] -0.55449172\n",
       " [2,]  0.10937977\n",
       " [3,] -1.45291202\n",
       " [4,] -0.13054816\n",
       " [5,]  0.87374575\n",
       " [6,]  0.15368120\n",
       " [7,]  1.19950997\n",
       " [8,]  1.52115273\n",
       " [9,]  1.35464417\n",
       "[10,]  0.07579468\n",
       "[11,]  0.03127536\n",
       "[12,] -0.09704296\n",
       "[13,]  0.84091238\n",
       "[14,] -1.35808385\n",
       "[15,] -1.25994197\n",
       "[16,] -0.13350078\n",
       "[17,] -0.20566150\n",
       "[18,] -1.22369540\n",
       "[19,] -0.71681599\n",
       "[20,]  0.38346570\n",
       "[21,] -0.38360189\n",
       "[22,] -0.51218254\n",
       "[23,]  0.30502324\n",
       "[24,] -1.44115513\n",
       "[25,]  1.39870597\n",
       "[26,] -2.57163899\n",
       "[27,]  1.23238776\n",
       "[28,] -0.41568455\n",
       "[29,] -1.49443295\n",
       "[30,]  2.01175081\n",
       "[31,] -0.70511488\n",
       "[32,] -0.41280665\n",
       "[33,]  0.02489503\n",
       "[34,]  0.38635199\n",
       "[35,]  0.93444207\n",
       "[36,] -0.23943139\n",
       "[37,] -0.16266534\n",
       "[38,]  1.42941447\n",
       "[39,]  1.13534516\n",
       "[40,] -0.69915575\n",
       "[41,]  0.78355188\n",
       "[42,] -0.15327267\n",
       "[43,] -0.29268471\n",
       "[44,]  0.34517776\n",
       "[45,]  0.11375932\n",
       "[46,] -0.16841098\n",
       "[47,] -0.84294131\n",
       "[48,] -0.12485151\n",
       "[49,]  1.67854781\n",
       "[50,]  2.06676240\n",
       "[51,]  0.30711500\n",
       "[52,] -2.18784325\n",
       "[53,] -0.50604869"
      ]
     },
     "metadata": {},
     "output_type": "display_data"
    }
   ],
   "source": [
    "ri"
   ]
  },
  {
   "cell_type": "code",
   "execution_count": null,
   "metadata": {
    "vscode": {
     "languageId": "r"
    }
   },
   "outputs": [],
   "source": []
  }
 ],
 "metadata": {
  "kernelspec": {
   "display_name": "R",
   "language": "R",
   "name": "ir"
  },
  "language_info": {
   "codemirror_mode": "r",
   "file_extension": ".r",
   "mimetype": "text/x-r-source",
   "name": "R",
   "pygments_lexer": "r",
   "version": "4.2.1"
  },
  "orig_nbformat": 4,
  "vscode": {
   "interpreter": {
    "hash": "dbd5104f6212b1fc6f64e8e19ae2007e53f3ed0d4bd4f1dbbcdf8e035cfbf35c"
   }
  }
 },
 "nbformat": 4,
 "nbformat_minor": 2
}
