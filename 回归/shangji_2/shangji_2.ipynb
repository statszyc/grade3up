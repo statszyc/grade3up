{
 "cells": [
  {
   "cell_type": "code",
   "execution_count": 112,
   "metadata": {},
   "outputs": [
    {
     "data": {
      "text/html": [
       "<div>\n",
       "<style scoped>\n",
       "    .dataframe tbody tr th:only-of-type {\n",
       "        vertical-align: middle;\n",
       "    }\n",
       "\n",
       "    .dataframe tbody tr th {\n",
       "        vertical-align: top;\n",
       "    }\n",
       "\n",
       "    .dataframe thead th {\n",
       "        text-align: right;\n",
       "    }\n",
       "</style>\n",
       "<table border=\"1\" class=\"dataframe\">\n",
       "  <thead>\n",
       "    <tr style=\"text-align: right;\">\n",
       "      <th></th>\n",
       "      <th>用户</th>\n",
       "      <th>X</th>\n",
       "      <th>Y</th>\n",
       "    </tr>\n",
       "  </thead>\n",
       "  <tbody>\n",
       "    <tr>\n",
       "      <th>0</th>\n",
       "      <td>1</td>\n",
       "      <td>679</td>\n",
       "      <td>0.79</td>\n",
       "    </tr>\n",
       "    <tr>\n",
       "      <th>1</th>\n",
       "      <td>2</td>\n",
       "      <td>292</td>\n",
       "      <td>0.44</td>\n",
       "    </tr>\n",
       "    <tr>\n",
       "      <th>2</th>\n",
       "      <td>3</td>\n",
       "      <td>1012</td>\n",
       "      <td>0.56</td>\n",
       "    </tr>\n",
       "    <tr>\n",
       "      <th>3</th>\n",
       "      <td>4</td>\n",
       "      <td>493</td>\n",
       "      <td>0.79</td>\n",
       "    </tr>\n",
       "    <tr>\n",
       "      <th>4</th>\n",
       "      <td>5</td>\n",
       "      <td>582</td>\n",
       "      <td>2.70</td>\n",
       "    </tr>\n",
       "    <tr>\n",
       "      <th>5</th>\n",
       "      <td>6</td>\n",
       "      <td>1156</td>\n",
       "      <td>3.64</td>\n",
       "    </tr>\n",
       "    <tr>\n",
       "      <th>6</th>\n",
       "      <td>7</td>\n",
       "      <td>997</td>\n",
       "      <td>4.73</td>\n",
       "    </tr>\n",
       "    <tr>\n",
       "      <th>7</th>\n",
       "      <td>8</td>\n",
       "      <td>2189</td>\n",
       "      <td>9.50</td>\n",
       "    </tr>\n",
       "    <tr>\n",
       "      <th>8</th>\n",
       "      <td>9</td>\n",
       "      <td>1097</td>\n",
       "      <td>5.34</td>\n",
       "    </tr>\n",
       "    <tr>\n",
       "      <th>9</th>\n",
       "      <td>10</td>\n",
       "      <td>2078</td>\n",
       "      <td>6.85</td>\n",
       "    </tr>\n",
       "    <tr>\n",
       "      <th>10</th>\n",
       "      <td>11</td>\n",
       "      <td>1818</td>\n",
       "      <td>5.84</td>\n",
       "    </tr>\n",
       "    <tr>\n",
       "      <th>11</th>\n",
       "      <td>12</td>\n",
       "      <td>1700</td>\n",
       "      <td>5.21</td>\n",
       "    </tr>\n",
       "    <tr>\n",
       "      <th>12</th>\n",
       "      <td>13</td>\n",
       "      <td>747</td>\n",
       "      <td>3.25</td>\n",
       "    </tr>\n",
       "    <tr>\n",
       "      <th>13</th>\n",
       "      <td>14</td>\n",
       "      <td>2030</td>\n",
       "      <td>4.43</td>\n",
       "    </tr>\n",
       "    <tr>\n",
       "      <th>14</th>\n",
       "      <td>15</td>\n",
       "      <td>1643</td>\n",
       "      <td>3.16</td>\n",
       "    </tr>\n",
       "    <tr>\n",
       "      <th>15</th>\n",
       "      <td>16</td>\n",
       "      <td>414</td>\n",
       "      <td>0.50</td>\n",
       "    </tr>\n",
       "    <tr>\n",
       "      <th>16</th>\n",
       "      <td>17</td>\n",
       "      <td>354</td>\n",
       "      <td>0.17</td>\n",
       "    </tr>\n",
       "    <tr>\n",
       "      <th>17</th>\n",
       "      <td>18</td>\n",
       "      <td>1276</td>\n",
       "      <td>1.88</td>\n",
       "    </tr>\n",
       "    <tr>\n",
       "      <th>18</th>\n",
       "      <td>19</td>\n",
       "      <td>745</td>\n",
       "      <td>0.77</td>\n",
       "    </tr>\n",
       "    <tr>\n",
       "      <th>19</th>\n",
       "      <td>20</td>\n",
       "      <td>435</td>\n",
       "      <td>1.39</td>\n",
       "    </tr>\n",
       "    <tr>\n",
       "      <th>20</th>\n",
       "      <td>21</td>\n",
       "      <td>540</td>\n",
       "      <td>0.56</td>\n",
       "    </tr>\n",
       "    <tr>\n",
       "      <th>21</th>\n",
       "      <td>22</td>\n",
       "      <td>874</td>\n",
       "      <td>1.56</td>\n",
       "    </tr>\n",
       "    <tr>\n",
       "      <th>22</th>\n",
       "      <td>23</td>\n",
       "      <td>1543</td>\n",
       "      <td>5.28</td>\n",
       "    </tr>\n",
       "    <tr>\n",
       "      <th>23</th>\n",
       "      <td>24</td>\n",
       "      <td>1029</td>\n",
       "      <td>0.64</td>\n",
       "    </tr>\n",
       "    <tr>\n",
       "      <th>24</th>\n",
       "      <td>25</td>\n",
       "      <td>710</td>\n",
       "      <td>4.00</td>\n",
       "    </tr>\n",
       "    <tr>\n",
       "      <th>25</th>\n",
       "      <td>26</td>\n",
       "      <td>1434</td>\n",
       "      <td>0.31</td>\n",
       "    </tr>\n",
       "    <tr>\n",
       "      <th>26</th>\n",
       "      <td>27</td>\n",
       "      <td>837</td>\n",
       "      <td>4.20</td>\n",
       "    </tr>\n",
       "    <tr>\n",
       "      <th>27</th>\n",
       "      <td>28</td>\n",
       "      <td>1748</td>\n",
       "      <td>4.88</td>\n",
       "    </tr>\n",
       "    <tr>\n",
       "      <th>28</th>\n",
       "      <td>29</td>\n",
       "      <td>1831</td>\n",
       "      <td>3.48</td>\n",
       "    </tr>\n",
       "    <tr>\n",
       "      <th>29</th>\n",
       "      <td>30</td>\n",
       "      <td>1428</td>\n",
       "      <td>7.58</td>\n",
       "    </tr>\n",
       "    <tr>\n",
       "      <th>30</th>\n",
       "      <td>31</td>\n",
       "      <td>1255</td>\n",
       "      <td>2.63</td>\n",
       "    </tr>\n",
       "    <tr>\n",
       "      <th>31</th>\n",
       "      <td>32</td>\n",
       "      <td>1777</td>\n",
       "      <td>4.99</td>\n",
       "    </tr>\n",
       "    <tr>\n",
       "      <th>32</th>\n",
       "      <td>33</td>\n",
       "      <td>370</td>\n",
       "      <td>0.59</td>\n",
       "    </tr>\n",
       "    <tr>\n",
       "      <th>33</th>\n",
       "      <td>34</td>\n",
       "      <td>2316</td>\n",
       "      <td>8.19</td>\n",
       "    </tr>\n",
       "    <tr>\n",
       "      <th>34</th>\n",
       "      <td>35</td>\n",
       "      <td>1130</td>\n",
       "      <td>4.79</td>\n",
       "    </tr>\n",
       "    <tr>\n",
       "      <th>35</th>\n",
       "      <td>36</td>\n",
       "      <td>463</td>\n",
       "      <td>0.51</td>\n",
       "    </tr>\n",
       "    <tr>\n",
       "      <th>36</th>\n",
       "      <td>37</td>\n",
       "      <td>770</td>\n",
       "      <td>1.74</td>\n",
       "    </tr>\n",
       "    <tr>\n",
       "      <th>37</th>\n",
       "      <td>38</td>\n",
       "      <td>724</td>\n",
       "      <td>4.10</td>\n",
       "    </tr>\n",
       "    <tr>\n",
       "      <th>38</th>\n",
       "      <td>39</td>\n",
       "      <td>808</td>\n",
       "      <td>3.94</td>\n",
       "    </tr>\n",
       "    <tr>\n",
       "      <th>39</th>\n",
       "      <td>40</td>\n",
       "      <td>790</td>\n",
       "      <td>0.96</td>\n",
       "    </tr>\n",
       "    <tr>\n",
       "      <th>40</th>\n",
       "      <td>41</td>\n",
       "      <td>783</td>\n",
       "      <td>3.29</td>\n",
       "    </tr>\n",
       "    <tr>\n",
       "      <th>41</th>\n",
       "      <td>42</td>\n",
       "      <td>406</td>\n",
       "      <td>0.44</td>\n",
       "    </tr>\n",
       "    <tr>\n",
       "      <th>42</th>\n",
       "      <td>43</td>\n",
       "      <td>1242</td>\n",
       "      <td>3.24</td>\n",
       "    </tr>\n",
       "    <tr>\n",
       "      <th>43</th>\n",
       "      <td>44</td>\n",
       "      <td>658</td>\n",
       "      <td>2.14</td>\n",
       "    </tr>\n",
       "    <tr>\n",
       "      <th>44</th>\n",
       "      <td>45</td>\n",
       "      <td>1746</td>\n",
       "      <td>5.71</td>\n",
       "    </tr>\n",
       "    <tr>\n",
       "      <th>45</th>\n",
       "      <td>46</td>\n",
       "      <td>468</td>\n",
       "      <td>0.64</td>\n",
       "    </tr>\n",
       "    <tr>\n",
       "      <th>46</th>\n",
       "      <td>47</td>\n",
       "      <td>1114</td>\n",
       "      <td>1.90</td>\n",
       "    </tr>\n",
       "    <tr>\n",
       "      <th>47</th>\n",
       "      <td>48</td>\n",
       "      <td>413</td>\n",
       "      <td>0.51</td>\n",
       "    </tr>\n",
       "    <tr>\n",
       "      <th>48</th>\n",
       "      <td>49</td>\n",
       "      <td>1787</td>\n",
       "      <td>8.33</td>\n",
       "    </tr>\n",
       "    <tr>\n",
       "      <th>49</th>\n",
       "      <td>50</td>\n",
       "      <td>3560</td>\n",
       "      <td>14.94</td>\n",
       "    </tr>\n",
       "    <tr>\n",
       "      <th>50</th>\n",
       "      <td>51</td>\n",
       "      <td>1495</td>\n",
       "      <td>5.11</td>\n",
       "    </tr>\n",
       "    <tr>\n",
       "      <th>51</th>\n",
       "      <td>52</td>\n",
       "      <td>2221</td>\n",
       "      <td>3.85</td>\n",
       "    </tr>\n",
       "    <tr>\n",
       "      <th>52</th>\n",
       "      <td>53</td>\n",
       "      <td>1526</td>\n",
       "      <td>3.93</td>\n",
       "    </tr>\n",
       "  </tbody>\n",
       "</table>\n",
       "</div>"
      ],
      "text/plain": [
       "    用户     X      Y\n",
       "0    1   679   0.79\n",
       "1    2   292   0.44\n",
       "2    3  1012   0.56\n",
       "3    4   493   0.79\n",
       "4    5   582   2.70\n",
       "5    6  1156   3.64\n",
       "6    7   997   4.73\n",
       "7    8  2189   9.50\n",
       "8    9  1097   5.34\n",
       "9   10  2078   6.85\n",
       "10  11  1818   5.84\n",
       "11  12  1700   5.21\n",
       "12  13   747   3.25\n",
       "13  14  2030   4.43\n",
       "14  15  1643   3.16\n",
       "15  16   414   0.50\n",
       "16  17   354   0.17\n",
       "17  18  1276   1.88\n",
       "18  19   745   0.77\n",
       "19  20   435   1.39\n",
       "20  21   540   0.56\n",
       "21  22   874   1.56\n",
       "22  23  1543   5.28\n",
       "23  24  1029   0.64\n",
       "24  25   710   4.00\n",
       "25  26  1434   0.31\n",
       "26  27   837   4.20\n",
       "27  28  1748   4.88\n",
       "28  29  1831   3.48\n",
       "29  30  1428   7.58\n",
       "30  31  1255   2.63\n",
       "31  32  1777   4.99\n",
       "32  33   370   0.59\n",
       "33  34  2316   8.19\n",
       "34  35  1130   4.79\n",
       "35  36   463   0.51\n",
       "36  37   770   1.74\n",
       "37  38   724   4.10\n",
       "38  39   808   3.94\n",
       "39  40   790   0.96\n",
       "40  41   783   3.29\n",
       "41  42   406   0.44\n",
       "42  43  1242   3.24\n",
       "43  44   658   2.14\n",
       "44  45  1746   5.71\n",
       "45  46   468   0.64\n",
       "46  47  1114   1.90\n",
       "47  48   413   0.51\n",
       "48  49  1787   8.33\n",
       "49  50  3560  14.94\n",
       "50  51  1495   5.11\n",
       "51  52  2221   3.85\n",
       "52  53  1526   3.93"
      ]
     },
     "execution_count": 112,
     "metadata": {},
     "output_type": "execute_result"
    }
   ],
   "source": [
    "import numpy as np\n",
    "import pandas as pd\n",
    "import matplotlib.pyplot as plt\n",
    "df=pd.read_excel(\"3-15.xlsx\")\n",
    "df"
   ]
  },
  {
   "cell_type": "code",
   "execution_count": 113,
   "metadata": {},
   "outputs": [],
   "source": [
    "X=df.iloc[:,1]\n",
    "y=df.iloc[:,2]\n",
    "oldX=X\n",
    "oldY=y\n",
    "xmean=X.mean()\n",
    "ymean=y.mean()\n",
    "xsd=X.std()*np.sqrt(52)\n",
    "ysd=y.std()*np.sqrt(52)\n",
    "X=np.matrix((X-xmean)/xsd).T\n",
    "y=np.matrix((y-ymean)/ysd).T"
   ]
  },
  {
   "cell_type": "markdown",
   "metadata": {},
   "source": [
    "第一问"
   ]
  },
  {
   "cell_type": "code",
   "execution_count": 114,
   "metadata": {},
   "outputs": [],
   "source": [
    "betahat=np.linalg.inv(X.T @ X) @ X.T @ y"
   ]
  },
  {
   "cell_type": "code",
   "execution_count": 115,
   "metadata": {},
   "outputs": [
    {
     "data": {
      "text/plain": [
       "matrix([[0.83221639]])"
      ]
     },
     "execution_count": 115,
     "metadata": {},
     "output_type": "execute_result"
    }
   ],
   "source": [
    "betahat"
   ]
  },
  {
   "cell_type": "code",
   "execution_count": 116,
   "metadata": {},
   "outputs": [
    {
     "data": {
      "text/plain": [
       "0     0.879034\n",
       "1    -0.171371\n",
       "2     2.314033\n",
       "3     0.205971\n",
       "4    -1.381972\n",
       "5    -0.244886\n",
       "6    -1.910246\n",
       "7    -2.366853\n",
       "8    -2.158384\n",
       "9    -0.118520\n",
       "10   -0.049360\n",
       "11    0.153643\n",
       "12   -1.334900\n",
       "13    2.127787\n",
       "14    1.997381\n",
       "15    0.210100\n",
       "16    0.322983\n",
       "17    1.949349\n",
       "18    1.137862\n",
       "19   -0.603909\n",
       "20    0.606046\n",
       "21    0.814664\n",
       "22   -0.484480\n",
       "23    2.295550\n",
       "24   -2.218789\n",
       "25    4.091090\n",
       "26   -1.959225\n",
       "27    0.657336\n",
       "28    2.357682\n",
       "29   -3.200621\n",
       "30    1.123358\n",
       "31    0.652276\n",
       "32   -0.039119\n",
       "33   -0.597289\n",
       "34   -1.488970\n",
       "35    0.377412\n",
       "36    0.258328\n",
       "37   -2.268128\n",
       "38   -1.804165\n",
       "39    1.110700\n",
       "40   -1.244630\n",
       "41    0.241151\n",
       "42    0.466316\n",
       "43   -0.546957\n",
       "44   -0.179901\n",
       "45    0.265505\n",
       "46    1.343133\n",
       "47    0.196481\n",
       "48   -2.651538\n",
       "49   -2.845728\n",
       "50   -0.488174\n",
       "51    3.398943\n",
       "52    0.804003\n",
       "dtype: float64"
      ]
     },
     "execution_count": 116,
     "metadata": {},
     "output_type": "execute_result"
    }
   ],
   "source": [
    "float(-ysd*betahat*xmean/xsd+ymean)+float(ysd*betahat/xsd)*oldX-oldY"
   ]
  },
  {
   "cell_type": "code",
   "execution_count": 117,
   "metadata": {},
   "outputs": [
    {
     "data": {
      "text/plain": [
       "0      2.457042\n",
       "1      1.056636\n",
       "2      3.662041\n",
       "3      1.783979\n",
       "4      2.106036\n",
       "5      4.183122\n",
       "6      3.607762\n",
       "7      7.921155\n",
       "8      3.969624\n",
       "9      7.519488\n",
       "10     6.578647\n",
       "11     6.151651\n",
       "12     2.703108\n",
       "13     7.345794\n",
       "14     5.945389\n",
       "15     1.498108\n",
       "16     1.280991\n",
       "17     4.617357\n",
       "18     2.695870\n",
       "19     1.574099\n",
       "20     1.954054\n",
       "21     3.162672\n",
       "22     5.583527\n",
       "23     3.723558\n",
       "24     2.569219\n",
       "25     5.189098\n",
       "26     3.028783\n",
       "27     6.325344\n",
       "28     6.625689\n",
       "29     5.167386\n",
       "30     4.541366\n",
       "31     6.430284\n",
       "32     1.338889\n",
       "33     8.380719\n",
       "34     4.089038\n",
       "35     1.675420\n",
       "36     2.786336\n",
       "37     2.619879\n",
       "38     2.923843\n",
       "39     2.858708\n",
       "40     2.833378\n",
       "41     1.469159\n",
       "42     4.494323\n",
       "43     2.381051\n",
       "44     6.318107\n",
       "45     1.693513\n",
       "46     4.031140\n",
       "47     1.494489\n",
       "48     6.466470\n",
       "49    12.882280\n",
       "50     5.409834\n",
       "51     8.036950\n",
       "52     5.522011\n",
       "Name: X, dtype: float64"
      ]
     },
     "execution_count": 117,
     "metadata": {},
     "output_type": "execute_result"
    }
   ],
   "source": [
    "float(ysd*betahat/xsd)*oldX"
   ]
  },
  {
   "cell_type": "markdown",
   "metadata": {},
   "source": [
    "第二问"
   ]
  },
  {
   "cell_type": "code",
   "execution_count": 118,
   "metadata": {},
   "outputs": [
    {
     "data": {
      "text/plain": [
       "matrix([[-0.55449172],\n",
       "        [ 0.10937977],\n",
       "        [-1.45291202],\n",
       "        [-0.13054816],\n",
       "        [ 0.87374575],\n",
       "        [ 0.1536812 ],\n",
       "        [ 1.19950997],\n",
       "        [ 1.52115273],\n",
       "        [ 1.35464417],\n",
       "        [ 0.07579468],\n",
       "        [ 0.03127536],\n",
       "        [-0.09704296],\n",
       "        [ 0.84091238],\n",
       "        [-1.35808385],\n",
       "        [-1.25994197],\n",
       "        [-0.13350078],\n",
       "        [-0.2056615 ],\n",
       "        [-1.2236954 ],\n",
       "        [-0.71681599],\n",
       "        [ 0.3834657 ],\n",
       "        [-0.38360189],\n",
       "        [-0.51218254],\n",
       "        [ 0.30502324],\n",
       "        [-1.44115513],\n",
       "        [ 1.39870597],\n",
       "        [-2.57163899],\n",
       "        [ 1.23238776],\n",
       "        [-0.41568455],\n",
       "        [-1.49443295],\n",
       "        [ 2.01175081],\n",
       "        [-0.70511488],\n",
       "        [-0.41280665],\n",
       "        [ 0.02489503],\n",
       "        [ 0.38635199],\n",
       "        [ 0.93444207],\n",
       "        [-0.23943139],\n",
       "        [-0.16266534],\n",
       "        [ 1.42941447],\n",
       "        [ 1.13534516],\n",
       "        [-0.69915575],\n",
       "        [ 0.78355188],\n",
       "        [-0.15327267],\n",
       "        [-0.29268471],\n",
       "        [ 0.34517776],\n",
       "        [ 0.11375932],\n",
       "        [-0.16841098],\n",
       "        [-0.84294131],\n",
       "        [-0.12485151],\n",
       "        [ 1.67854781],\n",
       "        [ 2.0667624 ],\n",
       "        [ 0.307115  ],\n",
       "        [-2.18784325],\n",
       "        [-0.50604869]])"
      ]
     },
     "execution_count": 118,
     "metadata": {},
     "output_type": "execute_result"
    }
   ],
   "source": [
    "e=y-X * betahat\n",
    "sig2hat=e.T @ e / 52\n",
    "H=X @ np.linalg.inv(X.T @ X) @ X.T\n",
    "hii=np.diag(H)\n",
    "ri=e/np.sqrt(sig2hat*(1-hii)).T\n",
    "ri"
   ]
  },
  {
   "cell_type": "code",
   "execution_count": 119,
   "metadata": {},
   "outputs": [
    {
     "data": {
      "text/plain": [
       "Text(0, 0.5, '$\\\\hat{r_i}$')"
      ]
     },
     "execution_count": 119,
     "metadata": {},
     "output_type": "execute_result"
    },
    {
     "data": {
      "image/png": "[encoded data removed]",
      "text/plain": [
       "<Figure size 640x480 with 1 Axes>"
      ]
     },
     "metadata": {},
     "output_type": "display_data"
    }
   ],
   "source": [
    "plt.plot(H @ y,ri,'b.')\n",
    "plt.axhline(y=2,color=\"r\",linestyle=\"--\")\n",
    "plt.axhline(y=-2,color=\"r\",linestyle=\"--\")\n",
    "plt.xlabel(\"$\\hat{y_i}$\")\n",
    "plt.ylabel(\"$\\hat{r_i}$\")"
   ]
  },
  {
   "cell_type": "markdown",
   "metadata": {},
   "source": [
    "第三问"
   ]
  },
  {
   "cell_type": "code",
   "execution_count": 120,
   "metadata": {},
   "outputs": [],
   "source": [
    "y=df.iloc[:,2]\n",
    "u=np.sqrt(y)\n",
    "oldu=u\n",
    "umean=u.mean()\n",
    "usd=u.std()*np.sqrt(52)\n",
    "u=np.matrix((u-umean)/usd).T"
   ]
  },
  {
   "cell_type": "code",
   "execution_count": 121,
   "metadata": {},
   "outputs": [],
   "source": [
    "#重复1\n",
    "betahat1=np.linalg.inv(X.T @ X) @ X.T @ u"
   ]
  },
  {
   "cell_type": "code",
   "execution_count": 122,
   "metadata": {},
   "outputs": [
    {
     "data": {
      "text/plain": [
       "matrix([[-0.7340396 ],\n",
       "        [-0.43986488],\n",
       "        [-1.70857322],\n",
       "        [-0.35701539],\n",
       "        [ 1.10076296],\n",
       "        [ 0.50056698],\n",
       "        [ 1.39909587],\n",
       "        [ 0.9625264 ],\n",
       "        [ 1.48902163],\n",
       "        [ 0.16535964],\n",
       "        [ 0.25884269],\n",
       "        [ 0.20768868],\n",
       "        [ 1.10666707],\n",
       "        [-0.85985592],\n",
       "        [-0.77071187],\n",
       "        [-0.59255884],\n",
       "        [-1.11538386],\n",
       "        [-0.90002196],\n",
       "        [-0.89179027],\n",
       "        [ 0.39419869],\n",
       "        [-0.75805781],\n",
       "        [-0.3493703 ],\n",
       "        [ 0.55914361],\n",
       "        [-1.63140273],\n",
       "        [ 1.60987974],\n",
       "        [-2.98048425],\n",
       "        [ 1.45524179],\n",
       "        [-0.04965999],\n",
       "        [-0.96782881],\n",
       "        [ 1.77484575],\n",
       "        [-0.31698957],\n",
       "        [-0.05511009],\n",
       "        [-0.36969656],\n",
       "        [ 0.21381293],\n",
       "        [ 1.15851694],\n",
       "        [-0.67662152],\n",
       "        [ 0.01310099],\n",
       "        [ 1.63474974],\n",
       "        [ 1.3754503 ],\n",
       "        [-0.7612945 ],\n",
       "        [ 1.05673255],\n",
       "        [-0.6719082 ],\n",
       "        [ 0.09377963],\n",
       "        [ 0.55302633],\n",
       "        [ 0.3465267 ],\n",
       "        [-0.4996549 ],\n",
       "        [-0.5559367 ],\n",
       "        [-0.57516745],\n",
       "        [ 1.34319711],\n",
       "        [-0.17264719],\n",
       "        [ 0.57558766],\n",
       "        [-1.57939204],\n",
       "        [-0.08849212]])"
      ]
     },
     "execution_count": 122,
     "metadata": {},
     "output_type": "execute_result"
    }
   ],
   "source": [
    "#重复2\n",
    "e=u-X * betahat1\n",
    "sig2hat1=e.T @ e / 52\n",
    "H1=X @ np.linalg.inv(X.T @ X) @ X.T\n",
    "hii=np.diag(H1)\n",
    "ri1=e/np.sqrt(sig2hat1*(1-hii)).T\n",
    "ri1"
   ]
  },
  {
   "cell_type": "code",
   "execution_count": 123,
   "metadata": {},
   "outputs": [
    {
     "data": {
      "text/plain": [
       "Text(0, 0.5, '$\\\\hat{r_i}$')"
      ]
     },
     "execution_count": 123,
     "metadata": {},
     "output_type": "execute_result"
    },
    {
     "data": {
      "image/png": "[encoded data removed]",
      "text/plain": [
       "<Figure size 640x480 with 1 Axes>"
      ]
     },
     "metadata": {},
     "output_type": "display_data"
    }
   ],
   "source": [
    "plt.plot(H1 @ u,ri1,'b.')\n",
    "plt.axhline(y=2,color=\"r\",linestyle=\"--\")\n",
    "plt.axhline(y=-2,color=\"r\",linestyle=\"--\")\n",
    "plt.xlabel(\"$\\hat{y_i}$\")\n",
    "plt.ylabel(\"$\\hat{r_i}$\")"
   ]
  },
  {
   "cell_type": "code",
   "execution_count": 124,
   "metadata": {},
   "outputs": [
    {
     "data": {
      "text/plain": [
       "0     0.338715\n",
       "1     0.200597\n",
       "2     0.792078\n",
       "3     0.163955\n",
       "4    -0.506771\n",
       "5    -0.232171\n",
       "6    -0.648540\n",
       "7    -0.435928\n",
       "8    -0.690571\n",
       "9    -0.075264\n",
       "10   -0.118910\n",
       "11   -0.095712\n",
       "12   -0.511351\n",
       "13    0.392131\n",
       "14    0.355637\n",
       "15    0.271442\n",
       "16    0.509865\n",
       "17    0.417324\n",
       "18    0.412049\n",
       "19   -0.180703\n",
       "20    0.348603\n",
       "21    0.161750\n",
       "22   -0.258506\n",
       "23    0.756382\n",
       "24   -0.743339\n",
       "25    1.380130\n",
       "26   -0.673405\n",
       "27    0.022858\n",
       "28    0.444438\n",
       "29   -0.821911\n",
       "30    0.146997\n",
       "31    0.025347\n",
       "32    0.169094\n",
       "33   -0.096214\n",
       "34   -0.537329\n",
       "35    0.310445\n",
       "36   -0.006056\n",
       "37   -0.755031\n",
       "38   -0.636205\n",
       "39    0.352030\n",
       "40   -0.488587\n",
       "41    0.307708\n",
       "42   -0.043490\n",
       "43   -0.255071\n",
       "44   -0.159510\n",
       "45    0.229286\n",
       "46    0.257840\n",
       "47    0.263467\n",
       "48   -0.617601\n",
       "49    0.069194\n",
       "50   -0.266311\n",
       "51    0.714203\n",
       "52    0.040924\n",
       "dtype: float64"
      ]
     },
     "execution_count": 124,
     "metadata": {},
     "output_type": "execute_result"
    }
   ],
   "source": [
    "float(-usd*betahat1*xmean/xsd+umean)+float(usd*betahat1/xsd)*oldX-oldu"
   ]
  },
  {
   "cell_type": "code",
   "execution_count": 125,
   "metadata": {},
   "outputs": [
    {
     "data": {
      "text/plain": [
       "0.0009395658370855553"
      ]
     },
     "execution_count": 125,
     "metadata": {},
     "output_type": "execute_result"
    }
   ],
   "source": [
    "float(usd*betahat1/xsd)"
   ]
  },
  {
   "cell_type": "markdown",
   "metadata": {},
   "source": [
    "第四问"
   ]
  },
  {
   "cell_type": "code",
   "execution_count": 126,
   "metadata": {},
   "outputs": [],
   "source": [
    "def rss(l):\n",
    "    yl=(y**l-1)/l\n",
    "    J=np.prod(y**(l-1))\n",
    "    Z=yl/pow(J,1/53)\n",
    "    r=Z.T @(np.eye(53)-X @ np.linalg.inv(X.T @ X) @ X.T) @Z\n",
    "    return r"
   ]
  },
  {
   "cell_type": "code",
   "execution_count": 127,
   "metadata": {},
   "outputs": [],
   "source": [
    "rssplot=pd.Series(np.linspace(-0.5,0.5,10000)).apply(rss)"
   ]
  },
  {
   "cell_type": "code",
   "execution_count": 128,
   "metadata": {},
   "outputs": [
    {
     "data": {
      "text/plain": [
       "[<matplotlib.lines.Line2D at 0x28f1be49bd0>]"
      ]
     },
     "execution_count": 128,
     "metadata": {},
     "output_type": "execute_result"
    },
    {
     "data": {
      "image/png": "[encoded data removed]",
      "text/plain": [
       "<Figure size 640x480 with 1 Axes>"
      ]
     },
     "metadata": {},
     "output_type": "display_data"
    }
   ],
   "source": [
    "plt.plot(np.linspace(-0.5,0.5,10000),rssplot)"
   ]
  },
  {
   "cell_type": "markdown",
   "metadata": {},
   "source": [
    "第四问"
   ]
  },
  {
   "cell_type": "code",
   "execution_count": 129,
   "metadata": {},
   "outputs": [],
   "source": [
    "cook=np.multiply(hii/(1-hii),np.multiply(ri,ri).T)\n",
    "# np.where(max(cook),cook)"
   ]
  },
  {
   "cell_type": "code",
   "execution_count": 130,
   "metadata": {},
   "outputs": [
    {
     "data": {
      "text/plain": [
       "<matplotlib.lines.Line2D at 0x28f1be23fd0>"
      ]
     },
     "execution_count": 130,
     "metadata": {},
     "output_type": "execute_result"
    },
    {
     "data": {
      "image/png": "[encoded data removed]",
      "text/plain": [
       "<Figure size 640x480 with 1 Axes>"
      ]
     },
     "metadata": {},
     "output_type": "display_data"
    }
   ],
   "source": [
    "plt.plot(cook.A[0],'o')\n",
    "plt.axvline(x=49,color=\"r\",linestyle=\"--\")\n",
    "plt.axvline(x=51,color=\"r\",linestyle=\"--\")"
   ]
  },
  {
   "cell_type": "code",
   "execution_count": 131,
   "metadata": {},
   "outputs": [
    {
     "data": {
      "text/plain": [
       "<matplotlib.lines.Line2D at 0x28f1be6ed10>"
      ]
     },
     "execution_count": 131,
     "metadata": {},
     "output_type": "execute_result"
    },
    {
     "data": {
      "image/png": "[encoded data removed]",
      "text/plain": [
       "<Figure size 640x480 with 1 Axes>"
      ]
     },
     "metadata": {},
     "output_type": "display_data"
    }
   ],
   "source": [
    "pd.DataFrame(cook.T).plot()\n",
    "plt.axhline(y=2,color=\"r\",linestyle=\"--\")"
   ]
  },
  {
   "cell_type": "code",
   "execution_count": null,
   "metadata": {},
   "outputs": [],
   "source": []
  }
 ],
 "metadata": {
  "kernelspec": {
   "display_name": "Python 3.10.6 64-bit",
   "language": "python",
   "name": "python3"
  },
  "language_info": {
   "codemirror_mode": {
    "name": "ipython",
    "version": 3
   },
   "file_extension": ".py",
   "mimetype": "text/x-python",
   "name": "python",
   "nbconvert_exporter": "python",
   "pygments_lexer": "ipython3",
   "version": "3.10.6"
  },
  "orig_nbformat": 4,
  "vscode": {
   "interpreter": {
    "hash": "dbd5104f6212b1fc6f64e8e19ae2007e53f3ed0d4bd4f1dbbcdf8e035cfbf35c"
   }
  }
 },
 "nbformat": 4,
 "nbformat_minor": 2
}
