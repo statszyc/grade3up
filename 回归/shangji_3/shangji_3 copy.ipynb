{
 "cells": [
  {
   "cell_type": "markdown",
   "metadata": {},
   "source": [
    "## 用向前法建立子集回归模型"
   ]
  },
  {
   "cell_type": "markdown",
   "metadata": {},
   "source": [
    "### 源代码如下："
   ]
  },
  {
   "cell_type": "code",
   "execution_count": 1,
   "metadata": {
    "vscode": {
     "languageId": "r"
    }
   },
   "outputs": [],
   "source": [
    "library(xlsx)\n",
    "df<-read.xlsx(\"5-7.xlsx\",1)[,1:6]"
   ]
  },
  {
   "cell_type": "code",
   "execution_count": 2,
   "metadata": {
    "vscode": {
     "languageId": "r"
    }
   },
   "outputs": [
    {
     "data": {
      "text/html": [
       "<table class=\"dataframe\">\n",
       "<caption>A anova: 6 × 6</caption>\n",
       "<thead>\n",
       "\t<tr><th></th><th scope=col>Df</th><th scope=col>Sum of Sq</th><th scope=col>RSS</th><th scope=col>AIC</th><th scope=col>F value</th><th scope=col>Pr(&gt;F)</th></tr>\n",
       "\t<tr><th></th><th scope=col>&lt;dbl&gt;</th><th scope=col>&lt;dbl&gt;</th><th scope=col>&lt;dbl&gt;</th><th scope=col>&lt;dbl&gt;</th><th scope=col>&lt;dbl&gt;</th><th scope=col>&lt;dbl&gt;</th></tr>\n",
       "</thead>\n",
       "<tbody>\n",
       "\t<tr><th scope=row>&lt;none&gt;</th><td>NA</td><td>        NA</td><td>14681.928</td><td>182.5852</td><td>        NA</td><td>          NA</td></tr>\n",
       "\t<tr><th scope=row>x1</th><td> 1</td><td> 5783.7802</td><td> 8898.148</td><td>170.0628</td><td>17.5499512</td><td>2.677828e-04</td></tr>\n",
       "\t<tr><th scope=row>x2</th><td> 1</td><td>  153.8070</td><td>14528.121</td><td>184.2798</td><td> 0.2858449</td><td>5.972713e-01</td></tr>\n",
       "\t<tr><th scope=row>x3</th><td> 1</td><td>  184.4707</td><td>14497.458</td><td>184.2185</td><td> 0.3435574</td><td>5.626514e-01</td></tr>\n",
       "\t<tr><th scope=row>x4</th><td> 1</td><td>10578.6846</td><td> 4103.244</td><td>147.6149</td><td>69.6094369</td><td>5.935009e-09</td></tr>\n",
       "\t<tr><th scope=row>x5</th><td> 1</td><td> 1784.3647</td><td>12897.564</td><td>180.8274</td><td> 3.7354222</td><td>6.382273e-02</td></tr>\n",
       "</tbody>\n",
       "</table>\n"
      ],
      "text/latex": [
       "A anova: 6 × 6\n",
       "\\begin{tabular}{r|llllll}\n",
       "  & Df & Sum of Sq & RSS & AIC & F value & Pr(>F)\\\\\n",
       "  & <dbl> & <dbl> & <dbl> & <dbl> & <dbl> & <dbl>\\\\\n",
       "\\hline\n",
       "\t<none> & NA &         NA & 14681.928 & 182.5852 &         NA &           NA\\\\\n",
       "\tx1 &  1 &  5783.7802 &  8898.148 & 170.0628 & 17.5499512 & 2.677828e-04\\\\\n",
       "\tx2 &  1 &   153.8070 & 14528.121 & 184.2798 &  0.2858449 & 5.972713e-01\\\\\n",
       "\tx3 &  1 &   184.4707 & 14497.458 & 184.2185 &  0.3435574 & 5.626514e-01\\\\\n",
       "\tx4 &  1 & 10578.6846 &  4103.244 & 147.6149 & 69.6094369 & 5.935009e-09\\\\\n",
       "\tx5 &  1 &  1784.3647 & 12897.564 & 180.8274 &  3.7354222 & 6.382273e-02\\\\\n",
       "\\end{tabular}\n"
      ],
      "text/markdown": [
       "\n",
       "A anova: 6 × 6\n",
       "\n",
       "| <!--/--> | Df &lt;dbl&gt; | Sum of Sq &lt;dbl&gt; | RSS &lt;dbl&gt; | AIC &lt;dbl&gt; | F value &lt;dbl&gt; | Pr(&gt;F) &lt;dbl&gt; |\n",
       "|---|---|---|---|---|---|---|\n",
       "| &lt;none&gt; | NA |         NA | 14681.928 | 182.5852 |         NA |           NA |\n",
       "| x1 |  1 |  5783.7802 |  8898.148 | 170.0628 | 17.5499512 | 2.677828e-04 |\n",
       "| x2 |  1 |   153.8070 | 14528.121 | 184.2798 |  0.2858449 | 5.972713e-01 |\n",
       "| x3 |  1 |   184.4707 | 14497.458 | 184.2185 |  0.3435574 | 5.626514e-01 |\n",
       "| x4 |  1 | 10578.6846 |  4103.244 | 147.6149 | 69.6094369 | 5.935009e-09 |\n",
       "| x5 |  1 |  1784.3647 | 12897.564 | 180.8274 |  3.7354222 | 6.382273e-02 |\n",
       "\n"
      ],
      "text/plain": [
       "       Df Sum of Sq  RSS       AIC      F value    Pr(>F)      \n",
       "<none> NA         NA 14681.928 182.5852         NA           NA\n",
       "x1      1  5783.7802  8898.148 170.0628 17.5499512 2.677828e-04\n",
       "x2      1   153.8070 14528.121 184.2798  0.2858449 5.972713e-01\n",
       "x3      1   184.4707 14497.458 184.2185  0.3435574 5.626514e-01\n",
       "x4      1 10578.6846  4103.244 147.6149 69.6094369 5.935009e-09\n",
       "x5      1  1784.3647 12897.564 180.8274  3.7354222 6.382273e-02"
      ]
     },
     "metadata": {},
     "output_type": "display_data"
    }
   ],
   "source": [
    "lm.0<-lm(y~1,data=df)\n",
    "# summary(lm.0)\n",
    "add1(lm.0,scope=.~.+x1+x2+x3+x4+x5,test=\"F\")"
   ]
  },
  {
   "cell_type": "code",
   "execution_count": 3,
   "metadata": {
    "vscode": {
     "languageId": "r"
    }
   },
   "outputs": [],
   "source": [
    "lm.1<- update(lm.0,formula=.~.+x4)\n",
    "# summary(lm.1)"
   ]
  },
  {
   "cell_type": "code",
   "execution_count": 4,
   "metadata": {
    "vscode": {
     "languageId": "r"
    }
   },
   "outputs": [
    {
     "data": {
      "text/html": [
       "<table class=\"dataframe\">\n",
       "<caption>A anova: 5 × 6</caption>\n",
       "<thead>\n",
       "\t<tr><th></th><th scope=col>Df</th><th scope=col>Sum of Sq</th><th scope=col>RSS</th><th scope=col>AIC</th><th scope=col>F value</th><th scope=col>Pr(&gt;F)</th></tr>\n",
       "\t<tr><th></th><th scope=col>&lt;dbl&gt;</th><th scope=col>&lt;dbl&gt;</th><th scope=col>&lt;dbl&gt;</th><th scope=col>&lt;dbl&gt;</th><th scope=col>&lt;dbl&gt;</th><th scope=col>&lt;dbl&gt;</th></tr>\n",
       "</thead>\n",
       "<tbody>\n",
       "\t<tr><th scope=row>&lt;none&gt;</th><td>NA</td><td>          NA</td><td>4103.244</td><td>147.6149</td><td>          NA</td><td>          NA</td></tr>\n",
       "\t<tr><th scope=row>x1</th><td> 1</td><td> 195.8051638</td><td>3907.439</td><td>148.1969</td><td>1.302883e+00</td><td>2.640916e-01</td></tr>\n",
       "\t<tr><th scope=row>x2</th><td> 1</td><td>   0.1154703</td><td>4103.128</td><td>149.6141</td><td>7.316922e-04</td><td>9.786266e-01</td></tr>\n",
       "\t<tr><th scope=row>x3</th><td> 1</td><td>2028.9136301</td><td>2074.330</td><td>129.8328</td><td>2.543074e+01</td><td>3.001027e-05</td></tr>\n",
       "\t<tr><th scope=row>x5</th><td> 1</td><td>1473.8844079</td><td>2629.359</td><td>136.7088</td><td>1.457427e+01</td><td>7.508875e-04</td></tr>\n",
       "</tbody>\n",
       "</table>\n"
      ],
      "text/latex": [
       "A anova: 5 × 6\n",
       "\\begin{tabular}{r|llllll}\n",
       "  & Df & Sum of Sq & RSS & AIC & F value & Pr(>F)\\\\\n",
       "  & <dbl> & <dbl> & <dbl> & <dbl> & <dbl> & <dbl>\\\\\n",
       "\\hline\n",
       "\t<none> & NA &           NA & 4103.244 & 147.6149 &           NA &           NA\\\\\n",
       "\tx1 &  1 &  195.8051638 & 3907.439 & 148.1969 & 1.302883e+00 & 2.640916e-01\\\\\n",
       "\tx2 &  1 &    0.1154703 & 4103.128 & 149.6141 & 7.316922e-04 & 9.786266e-01\\\\\n",
       "\tx3 &  1 & 2028.9136301 & 2074.330 & 129.8328 & 2.543074e+01 & 3.001027e-05\\\\\n",
       "\tx5 &  1 & 1473.8844079 & 2629.359 & 136.7088 & 1.457427e+01 & 7.508875e-04\\\\\n",
       "\\end{tabular}\n"
      ],
      "text/markdown": [
       "\n",
       "A anova: 5 × 6\n",
       "\n",
       "| <!--/--> | Df &lt;dbl&gt; | Sum of Sq &lt;dbl&gt; | RSS &lt;dbl&gt; | AIC &lt;dbl&gt; | F value &lt;dbl&gt; | Pr(&gt;F) &lt;dbl&gt; |\n",
       "|---|---|---|---|---|---|---|\n",
       "| &lt;none&gt; | NA |           NA | 4103.244 | 147.6149 |           NA |           NA |\n",
       "| x1 |  1 |  195.8051638 | 3907.439 | 148.1969 | 1.302883e+00 | 2.640916e-01 |\n",
       "| x2 |  1 |    0.1154703 | 4103.128 | 149.6141 | 7.316922e-04 | 9.786266e-01 |\n",
       "| x3 |  1 | 2028.9136301 | 2074.330 | 129.8328 | 2.543074e+01 | 3.001027e-05 |\n",
       "| x5 |  1 | 1473.8844079 | 2629.359 | 136.7088 | 1.457427e+01 | 7.508875e-04 |\n",
       "\n"
      ],
      "text/plain": [
       "       Df Sum of Sq    RSS      AIC      F value      Pr(>F)      \n",
       "<none> NA           NA 4103.244 147.6149           NA           NA\n",
       "x1      1  195.8051638 3907.439 148.1969 1.302883e+00 2.640916e-01\n",
       "x2      1    0.1154703 4103.128 149.6141 7.316922e-04 9.786266e-01\n",
       "x3      1 2028.9136301 2074.330 129.8328 2.543074e+01 3.001027e-05\n",
       "x5      1 1473.8844079 2629.359 136.7088 1.457427e+01 7.508875e-04"
      ]
     },
     "metadata": {},
     "output_type": "display_data"
    }
   ],
   "source": [
    "add1(lm.1,scope=.~.+x1+x2+x3+x4+x5,test=\"F\")"
   ]
  },
  {
   "cell_type": "code",
   "execution_count": 5,
   "metadata": {
    "vscode": {
     "languageId": "r"
    }
   },
   "outputs": [],
   "source": [
    "lm.2<- update(lm.1,formula=.~.+x3)\n",
    "# summary(lm.2)"
   ]
  },
  {
   "cell_type": "code",
   "execution_count": 6,
   "metadata": {
    "vscode": {
     "languageId": "r"
    }
   },
   "outputs": [
    {
     "data": {
      "text/html": [
       "<table class=\"dataframe\">\n",
       "<caption>A anova: 4 × 6</caption>\n",
       "<thead>\n",
       "\t<tr><th></th><th scope=col>Df</th><th scope=col>Sum of Sq</th><th scope=col>RSS</th><th scope=col>AIC</th><th scope=col>F value</th><th scope=col>Pr(&gt;F)</th></tr>\n",
       "\t<tr><th></th><th scope=col>&lt;dbl&gt;</th><th scope=col>&lt;dbl&gt;</th><th scope=col>&lt;dbl&gt;</th><th scope=col>&lt;dbl&gt;</th><th scope=col>&lt;dbl&gt;</th><th scope=col>&lt;dbl&gt;</th></tr>\n",
       "</thead>\n",
       "<tbody>\n",
       "\t<tr><th scope=row>&lt;none&gt;</th><td>NA</td><td>       NA</td><td>2074.330</td><td>129.8328</td><td>       NA</td><td>        NA</td></tr>\n",
       "\t<tr><th scope=row>x1</th><td> 1</td><td> 89.17209</td><td>1985.158</td><td>130.5586</td><td>1.1229848</td><td>0.29940822</td></tr>\n",
       "\t<tr><th scope=row>x2</th><td> 1</td><td>226.26853</td><td>1848.062</td><td>128.4833</td><td>3.0608900</td><td>0.09246551</td></tr>\n",
       "\t<tr><th scope=row>x5</th><td> 1</td><td> 77.80531</td><td>1996.525</td><td>130.7242</td><td>0.9742592</td><td>0.33307753</td></tr>\n",
       "</tbody>\n",
       "</table>\n"
      ],
      "text/latex": [
       "A anova: 4 × 6\n",
       "\\begin{tabular}{r|llllll}\n",
       "  & Df & Sum of Sq & RSS & AIC & F value & Pr(>F)\\\\\n",
       "  & <dbl> & <dbl> & <dbl> & <dbl> & <dbl> & <dbl>\\\\\n",
       "\\hline\n",
       "\t<none> & NA &        NA & 2074.330 & 129.8328 &        NA &         NA\\\\\n",
       "\tx1 &  1 &  89.17209 & 1985.158 & 130.5586 & 1.1229848 & 0.29940822\\\\\n",
       "\tx2 &  1 & 226.26853 & 1848.062 & 128.4833 & 3.0608900 & 0.09246551\\\\\n",
       "\tx5 &  1 &  77.80531 & 1996.525 & 130.7242 & 0.9742592 & 0.33307753\\\\\n",
       "\\end{tabular}\n"
      ],
      "text/markdown": [
       "\n",
       "A anova: 4 × 6\n",
       "\n",
       "| <!--/--> | Df &lt;dbl&gt; | Sum of Sq &lt;dbl&gt; | RSS &lt;dbl&gt; | AIC &lt;dbl&gt; | F value &lt;dbl&gt; | Pr(&gt;F) &lt;dbl&gt; |\n",
       "|---|---|---|---|---|---|---|\n",
       "| &lt;none&gt; | NA |        NA | 2074.330 | 129.8328 |        NA |         NA |\n",
       "| x1 |  1 |  89.17209 | 1985.158 | 130.5586 | 1.1229848 | 0.29940822 |\n",
       "| x2 |  1 | 226.26853 | 1848.062 | 128.4833 | 3.0608900 | 0.09246551 |\n",
       "| x5 |  1 |  77.80531 | 1996.525 | 130.7242 | 0.9742592 | 0.33307753 |\n",
       "\n"
      ],
      "text/plain": [
       "       Df Sum of Sq RSS      AIC      F value   Pr(>F)    \n",
       "<none> NA        NA 2074.330 129.8328        NA         NA\n",
       "x1      1  89.17209 1985.158 130.5586 1.1229848 0.29940822\n",
       "x2      1 226.26853 1848.062 128.4833 3.0608900 0.09246551\n",
       "x5      1  77.80531 1996.525 130.7242 0.9742592 0.33307753"
      ]
     },
     "metadata": {},
     "output_type": "display_data"
    }
   ],
   "source": [
    "add1(lm.2,scope=.~.+x1+x2+x3+x4+x5,test=\"F\")"
   ]
  },
  {
   "cell_type": "markdown",
   "metadata": {},
   "source": [
    "### 统计分析：\n",
    "\n",
    "每步在未进入模型的变量中挑选一个加入模型并建立回归模型，对新加入的变量进行F检验；对每一个变量都这样做，得到一系列F检验值。如果有变量通过了显著性检验，则在通过了显著性检验的变量中挑选F值最大的变量加入模型；否则，终止算法。\n",
    "\n",
    "上面各表的最后一列是p值，p值小于0.05代表该变量是显著的。如上各表：第一个表中变量$x_1,x_4$通过了显著性检验，且$x_4$的F值最大，于是引入$x_4$。第二张表中变量$x_3,x_5$通过了显著性检验，且$x_3$的F值最大，于是引入$x_3$。第三张表中没有变量通过显著性检验，则终止算法。\n",
    "\n"
   ]
  },
  {
   "cell_type": "markdown",
   "metadata": {},
   "source": [
    "## 用逐步回归法建立子集回归模型"
   ]
  },
  {
   "cell_type": "code",
   "execution_count": 27,
   "metadata": {
    "vscode": {
     "languageId": "r"
    }
   },
   "outputs": [],
   "source": [
    "library(\"caret\")"
   ]
  },
  {
   "cell_type": "code",
   "execution_count": 28,
   "metadata": {
    "vscode": {
     "languageId": "r"
    }
   },
   "outputs": [
    {
     "data": {
      "text/plain": [
       "Subset selection object\n",
       "5 Variables  (and intercept)\n",
       "   Forced in Forced out\n",
       "x1     FALSE      FALSE\n",
       "x2     FALSE      FALSE\n",
       "x3     FALSE      FALSE\n",
       "x4     FALSE      FALSE\n",
       "x5     FALSE      FALSE\n",
       "1 subsets of each size up to 2\n",
       "Selection Algorithm: 'sequential replacement'\n",
       "         x1  x2  x3  x4  x5 \n",
       "1  ( 1 ) \" \" \" \" \" \" \"*\" \" \"\n",
       "2  ( 1 ) \" \" \" \" \"*\" \"*\" \" \""
      ]
     },
     "metadata": {},
     "output_type": "display_data"
    }
   ],
   "source": [
    "library(caret)\n",
    "step_model<-train(y~.,\n",
    "                  data = df,\n",
    "                  method = \"leapSeq\",\n",
    "                  tuneGrid = data.frame(nvmax = 1:5),#变量个数\n",
    "                #   trControl = ctrl\n",
    "                  )\n",
    "summary(step_model)"
   ]
  },
  {
   "cell_type": "code",
   "execution_count": 29,
   "metadata": {
    "vscode": {
     "languageId": "r"
    }
   },
   "outputs": [
    {
     "data": {
      "text/html": [
       "<table class=\"dataframe\">\n",
       "<caption>A data.frame: 1 × 1</caption>\n",
       "<thead>\n",
       "\t<tr><th></th><th scope=col>nvmax</th></tr>\n",
       "\t<tr><th></th><th scope=col>&lt;int&gt;</th></tr>\n",
       "</thead>\n",
       "<tbody>\n",
       "\t<tr><th scope=row>2</th><td>2</td></tr>\n",
       "</tbody>\n",
       "</table>\n"
      ],
      "text/latex": [
       "A data.frame: 1 × 1\n",
       "\\begin{tabular}{r|l}\n",
       "  & nvmax\\\\\n",
       "  & <int>\\\\\n",
       "\\hline\n",
       "\t2 & 2\\\\\n",
       "\\end{tabular}\n"
      ],
      "text/markdown": [
       "\n",
       "A data.frame: 1 × 1\n",
       "\n",
       "| <!--/--> | nvmax &lt;int&gt; |\n",
       "|---|---|\n",
       "| 2 | 2 |\n",
       "\n"
      ],
      "text/plain": [
       "  nvmax\n",
       "2 2    "
      ]
     },
     "metadata": {},
     "output_type": "display_data"
    }
   ],
   "source": [
    "step_model$bestTune"
   ]
  },
  {
   "cell_type": "code",
   "execution_count": 10,
   "metadata": {
    "vscode": {
     "languageId": "r"
    }
   },
   "outputs": [
    {
     "name": "stdout",
     "output_type": "stream",
     "text": [
      "Start:  AIC=182.59\n",
      "y ~ 1\n",
      "\n",
      "       Df Sum of Sq     RSS    AIC F value    Pr(>F)    \n",
      "+ x4    1   10578.7  4103.2 147.62 69.6094 5.935e-09 ***\n",
      "+ x1    1    5783.8  8898.1 170.06 17.5500 0.0002678 ***\n",
      "+ x5    1    1784.4 12897.6 180.83  3.7354 0.0638227 .  \n",
      "<none>              14681.9 182.59                      \n",
      "+ x3    1     184.5 14497.5 184.22  0.3436 0.5626514    \n",
      "+ x2    1     153.8 14528.1 184.28  0.2858 0.5972713    \n",
      "---\n",
      "Signif. codes:  0 '***' 0.001 '**' 0.01 '*' 0.05 '.' 0.1 ' ' 1\n",
      "\n",
      "Step:  AIC=147.61\n",
      "y ~ x4\n",
      "\n",
      "       Df Sum of Sq     RSS    AIC F value    Pr(>F)    \n",
      "+ x3    1    2028.9  2074.3 129.83 25.4307 3.001e-05 ***\n",
      "+ x5    1    1473.9  2629.4 136.71 14.5743 0.0007509 ***\n",
      "<none>               4103.2 147.62                      \n",
      "+ x1    1     195.8  3907.4 148.20  1.3029 0.2640916    \n",
      "+ x2    1       0.1  4103.1 149.61  0.0007 0.9786266    \n",
      "- x4    1   10578.7 14681.9 182.59 69.6094 5.935e-09 ***\n",
      "---\n",
      "Signif. codes:  0 '***' 0.001 '**' 0.01 '*' 0.05 '.' 0.1 ' ' 1\n",
      "\n",
      "Step:  AIC=129.83\n",
      "y ~ x4 + x3\n",
      "\n",
      "       Df Sum of Sq     RSS    AIC  F value    Pr(>F)    \n",
      "+ x2    1     226.3  1848.1 128.48   3.0609   0.09247 .  \n",
      "<none>               2074.3 129.83                       \n",
      "+ x1    1      89.2  1985.2 130.56   1.1230   0.29941    \n",
      "+ x5    1      77.8  1996.5 130.72   0.9743   0.33308    \n",
      "- x3    1    2028.9  4103.2 147.62  25.4307 3.001e-05 ***\n",
      "- x4    1   12423.1 14497.5 184.22 155.7136 1.753e-12 ***\n",
      "---\n",
      "Signif. codes:  0 '***' 0.001 '**' 0.01 '*' 0.05 '.' 0.1 ' ' 1\n",
      "\n",
      "Step:  AIC=128.48\n",
      "y ~ x4 + x3 + x2\n",
      "\n",
      "       Df Sum of Sq     RSS    AIC  F value    Pr(>F)    \n",
      "+ x1    1     246.2  1601.9 126.34   3.6881   0.06676 .  \n",
      "<none>               1848.1 128.48                       \n",
      "- x2    1     226.3  2074.3 129.83   3.0609   0.09247 .  \n",
      "+ x5    1      12.9  1835.1 130.28   0.1693   0.68440    \n",
      "- x3    1    2255.1  4103.1 149.61  30.5058 9.689e-06 ***\n",
      "- x4    1   12330.6 14178.6 185.57 166.8043 1.462e-12 ***\n",
      "---\n",
      "Signif. codes:  0 '***' 0.001 '**' 0.01 '*' 0.05 '.' 0.1 ' ' 1\n",
      "\n",
      "Step:  AIC=126.34\n",
      "y ~ x4 + x3 + x2 + x1\n",
      "\n",
      "       Df Sum of Sq    RSS    AIC F value    Pr(>F)    \n",
      "+ x5    1     120.8 1481.1 126.06  1.8767   0.18394    \n",
      "<none>              1601.9 126.34                      \n",
      "- x1    1     246.2 1848.1 128.48  3.6881   0.06676 .  \n",
      "- x2    1     383.3 1985.2 130.56  5.7421   0.02471 *  \n",
      "- x3    1    2271.9 3873.8 149.95 34.0378 5.129e-06 ***\n",
      "- x4    1    5303.0 6904.9 166.71 79.4512 4.420e-09 ***\n",
      "---\n",
      "Signif. codes:  0 '***' 0.001 '**' 0.01 '*' 0.05 '.' 0.1 ' ' 1\n",
      "\n",
      "Step:  AIC=126.06\n",
      "y ~ x4 + x3 + x2 + x1 + x5\n",
      "\n",
      "       Df Sum of Sq    RSS    AIC F value    Pr(>F)    \n",
      "<none>              1481.1 126.06                      \n",
      "- x5    1     120.8 1601.9 126.34  1.8767   0.18394    \n",
      "- x2    1     269.4 1750.5 128.91  4.1844   0.05240 .  \n",
      "- x1    1     354.1 1835.1 130.28  5.4985   0.02803 *  \n",
      "- x3    1     432.4 1913.4 131.49  6.7146   0.01633 *  \n",
      "- x4    1    4687.6 6168.7 165.44 72.7963 1.396e-08 ***\n",
      "---\n",
      "Signif. codes:  0 '***' 0.001 '**' 0.01 '*' 0.05 '.' 0.1 ' ' 1\n"
     ]
    }
   ],
   "source": [
    "lm.step<- step(lm.0,scope=.~.+x1+x2+x3+x4+x5,test=\"F\",direction = \"both\")"
   ]
  },
  {
   "cell_type": "code",
   "execution_count": 11,
   "metadata": {
    "vscode": {
     "languageId": "r"
    }
   },
   "outputs": [
    {
     "data": {
      "text/plain": [
       "\n",
       "Call:\n",
       "lm(formula = y ~ x4 + x3 + x2 + x1 + x5, data = df)\n",
       "\n",
       "Residuals:\n",
       "     Min       1Q   Median       3Q      Max \n",
       "-13.7049  -2.8200   0.6207   3.9062  17.3937 \n",
       "\n",
       "Coefficients:\n",
       "             Estimate Std. Error t value Pr(>|t|)    \n",
       "(Intercept) 326.37699   95.85338   3.405  0.00243 ** \n",
       "x4          -22.97522    2.69281  -8.532  1.4e-08 ***\n",
       "x3            3.77078    1.45520   2.591  0.01633 *  \n",
       "x2            2.54722    1.24523   2.046  0.05240 .  \n",
       "x1            0.06780    0.02891   2.345  0.02803 *  \n",
       "x5            2.45572    1.79259   1.370  0.18394    \n",
       "---\n",
       "Signif. codes:  0 '***' 0.001 '**' 0.01 '*' 0.05 '.' 0.1 ' ' 1\n",
       "\n",
       "Residual standard error: 8.025 on 23 degrees of freedom\n",
       "Multiple R-squared:  0.8991,\tAdjusted R-squared:  0.8772 \n",
       "F-statistic:    41 on 5 and 23 DF,  p-value: 1.034e-10\n"
      ]
     },
     "metadata": {},
     "output_type": "display_data"
    }
   ],
   "source": [
    "summary(lm.step)"
   ]
  },
  {
   "cell_type": "markdown",
   "metadata": {},
   "source": [
    "所有子集回归"
   ]
  },
  {
   "cell_type": "code",
   "execution_count": 36,
   "metadata": {
    "vscode": {
     "languageId": "r"
    }
   },
   "outputs": [],
   "source": [
    "library(leaps)\n",
    "eps<- regsubsets(y~.,data=df,really.big=T,method=\"seqrep\",nbest=9,nvmax=5)\n",
    "expres<- summary(eps)"
   ]
  },
  {
   "cell_type": "code",
   "execution_count": 37,
   "metadata": {
    "vscode": {
     "languageId": "r"
    }
   },
   "outputs": [
    {
     "data": {
      "text/html": [
       "<table class=\"dataframe\">\n",
       "<caption>A data.frame: 16 × 6</caption>\n",
       "<thead>\n",
       "\t<tr><th></th><th scope=col>x1</th><th scope=col>x2</th><th scope=col>x3</th><th scope=col>x4</th><th scope=col>x5</th><th scope=col>rss</th></tr>\n",
       "\t<tr><th></th><th scope=col>&lt;chr&gt;</th><th scope=col>&lt;chr&gt;</th><th scope=col>&lt;chr&gt;</th><th scope=col>&lt;chr&gt;</th><th scope=col>&lt;chr&gt;</th><th scope=col>&lt;dbl&gt;</th></tr>\n",
       "</thead>\n",
       "<tbody>\n",
       "\t<tr><th scope=row>1  ( 1 )</th><td> </td><td> </td><td> </td><td>*</td><td> </td><td> 4103.244</td></tr>\n",
       "\t<tr><th scope=row>1  ( 2 )</th><td>*</td><td> </td><td> </td><td> </td><td> </td><td> 8898.148</td></tr>\n",
       "\t<tr><th scope=row>1  ( 3 )</th><td> </td><td> </td><td> </td><td> </td><td>*</td><td>12897.564</td></tr>\n",
       "\t<tr><th scope=row>1  ( 4 )</th><td> </td><td> </td><td>*</td><td> </td><td> </td><td>14497.458</td></tr>\n",
       "\t<tr><th scope=row>1  ( 5 )</th><td> </td><td>*</td><td> </td><td> </td><td> </td><td>14528.121</td></tr>\n",
       "\t<tr><th scope=row>2  ( 1 )</th><td> </td><td> </td><td>*</td><td>*</td><td> </td><td> 2074.330</td></tr>\n",
       "\t<tr><th scope=row>2  ( 2 )</th><td> </td><td> </td><td> </td><td>*</td><td>*</td><td> 2629.359</td></tr>\n",
       "\t<tr><th scope=row>2  ( 3 )</th><td>*</td><td> </td><td> </td><td>*</td><td> </td><td> 3907.439</td></tr>\n",
       "\t<tr><th scope=row>2  ( 4 )</th><td> </td><td>*</td><td> </td><td>*</td><td> </td><td> 4103.128</td></tr>\n",
       "\t<tr><th scope=row>2  ( 5 )</th><td>*</td><td>*</td><td> </td><td> </td><td> </td><td> 8086.433</td></tr>\n",
       "\t<tr><th scope=row>3  ( 1 )</th><td> </td><td>*</td><td>*</td><td>*</td><td> </td><td> 1848.062</td></tr>\n",
       "\t<tr><th scope=row>3  ( 2 )</th><td>*</td><td> </td><td>*</td><td>*</td><td> </td><td> 1985.158</td></tr>\n",
       "\t<tr><th scope=row>3  ( 3 )</th><td> </td><td> </td><td>*</td><td>*</td><td>*</td><td> 1996.525</td></tr>\n",
       "\t<tr><th scope=row>3  ( 4 )</th><td>*</td><td>*</td><td>*</td><td> </td><td> </td><td> 6904.928</td></tr>\n",
       "\t<tr><th scope=row>4  ( 1 )</th><td>*</td><td>*</td><td>*</td><td>*</td><td> </td><td> 1601.899</td></tr>\n",
       "\t<tr><th scope=row>5  ( 1 )</th><td>*</td><td>*</td><td>*</td><td>*</td><td>*</td><td> 1481.051</td></tr>\n",
       "</tbody>\n",
       "</table>\n"
      ],
      "text/latex": [
       "A data.frame: 16 × 6\n",
       "\\begin{tabular}{r|llllll}\n",
       "  & x1 & x2 & x3 & x4 & x5 & rss\\\\\n",
       "  & <chr> & <chr> & <chr> & <chr> & <chr> & <dbl>\\\\\n",
       "\\hline\n",
       "\t1  ( 1 ) &   &   &   & * &   &  4103.244\\\\\n",
       "\t1  ( 2 ) & * &   &   &   &   &  8898.148\\\\\n",
       "\t1  ( 3 ) &   &   &   &   & * & 12897.564\\\\\n",
       "\t1  ( 4 ) &   &   & * &   &   & 14497.458\\\\\n",
       "\t1  ( 5 ) &   & * &   &   &   & 14528.121\\\\\n",
       "\t2  ( 1 ) &   &   & * & * &   &  2074.330\\\\\n",
       "\t2  ( 2 ) &   &   &   & * & * &  2629.359\\\\\n",
       "\t2  ( 3 ) & * &   &   & * &   &  3907.439\\\\\n",
       "\t2  ( 4 ) &   & * &   & * &   &  4103.128\\\\\n",
       "\t2  ( 5 ) & * & * &   &   &   &  8086.433\\\\\n",
       "\t3  ( 1 ) &   & * & * & * &   &  1848.062\\\\\n",
       "\t3  ( 2 ) & * &   & * & * &   &  1985.158\\\\\n",
       "\t3  ( 3 ) &   &   & * & * & * &  1996.525\\\\\n",
       "\t3  ( 4 ) & * & * & * &   &   &  6904.928\\\\\n",
       "\t4  ( 1 ) & * & * & * & * &   &  1601.899\\\\\n",
       "\t5  ( 1 ) & * & * & * & * & * &  1481.051\\\\\n",
       "\\end{tabular}\n"
      ],
      "text/markdown": [
       "\n",
       "A data.frame: 16 × 6\n",
       "\n",
       "| <!--/--> | x1 &lt;chr&gt; | x2 &lt;chr&gt; | x3 &lt;chr&gt; | x4 &lt;chr&gt; | x5 &lt;chr&gt; | rss &lt;dbl&gt; |\n",
       "|---|---|---|---|---|---|---|\n",
       "| 1  ( 1 ) | <!----> | <!----> | <!----> | * | <!----> |  4103.244 |\n",
       "| 1  ( 2 ) | * | <!----> | <!----> | <!----> | <!----> |  8898.148 |\n",
       "| 1  ( 3 ) | <!----> | <!----> | <!----> | <!----> | * | 12897.564 |\n",
       "| 1  ( 4 ) | <!----> | <!----> | * | <!----> | <!----> | 14497.458 |\n",
       "| 1  ( 5 ) | <!----> | * | <!----> | <!----> | <!----> | 14528.121 |\n",
       "| 2  ( 1 ) | <!----> | <!----> | * | * | <!----> |  2074.330 |\n",
       "| 2  ( 2 ) | <!----> | <!----> | <!----> | * | * |  2629.359 |\n",
       "| 2  ( 3 ) | * | <!----> | <!----> | * | <!----> |  3907.439 |\n",
       "| 2  ( 4 ) | <!----> | * | <!----> | * | <!----> |  4103.128 |\n",
       "| 2  ( 5 ) | * | * | <!----> | <!----> | <!----> |  8086.433 |\n",
       "| 3  ( 1 ) | <!----> | * | * | * | <!----> |  1848.062 |\n",
       "| 3  ( 2 ) | * | <!----> | * | * | <!----> |  1985.158 |\n",
       "| 3  ( 3 ) | <!----> | <!----> | * | * | * |  1996.525 |\n",
       "| 3  ( 4 ) | * | * | * | <!----> | <!----> |  6904.928 |\n",
       "| 4  ( 1 ) | * | * | * | * | <!----> |  1601.899 |\n",
       "| 5  ( 1 ) | * | * | * | * | * |  1481.051 |\n",
       "\n"
      ],
      "text/plain": [
       "         x1 x2 x3 x4 x5 rss      \n",
       "1  ( 1 )          *      4103.244\n",
       "1  ( 2 ) *               8898.148\n",
       "1  ( 3 )             *  12897.564\n",
       "1  ( 4 )       *        14497.458\n",
       "1  ( 5 )    *           14528.121\n",
       "2  ( 1 )       *  *      2074.330\n",
       "2  ( 2 )          *  *   2629.359\n",
       "2  ( 3 ) *        *      3907.439\n",
       "2  ( 4 )    *     *      4103.128\n",
       "2  ( 5 ) *  *            8086.433\n",
       "3  ( 1 )    *  *  *      1848.062\n",
       "3  ( 2 ) *     *  *      1985.158\n",
       "3  ( 3 )       *  *  *   1996.525\n",
       "3  ( 4 ) *  *  *         6904.928\n",
       "4  ( 1 ) *  *  *  *      1601.899\n",
       "5  ( 1 ) *  *  *  *  *   1481.051"
      ]
     },
     "metadata": {},
     "output_type": "display_data"
    }
   ],
   "source": [
    "res<- data.frame(expres$outmat,rss=expres$rss)\n",
    "res"
   ]
  },
  {
   "cell_type": "code",
   "execution_count": 14,
   "metadata": {
    "vscode": {
     "languageId": "r"
    }
   },
   "outputs": [
    {
     "data": {
      "text/html": [
       "<style>\n",
       ".list-inline {list-style: none; margin:0; padding: 0}\n",
       ".list-inline>li {display: inline-block}\n",
       ".list-inline>li:not(:last-child)::after {content: \"\\00b7\"; padding: 0 .5ex}\n",
       "</style>\n",
       "<ol class=list-inline><li>'which'</li><li>'rsq'</li><li>'rss'</li><li>'adjr2'</li><li>'cp'</li><li>'bic'</li><li>'outmat'</li><li>'obj'</li></ol>\n"
      ],
      "text/latex": [
       "\\begin{enumerate*}\n",
       "\\item 'which'\n",
       "\\item 'rsq'\n",
       "\\item 'rss'\n",
       "\\item 'adjr2'\n",
       "\\item 'cp'\n",
       "\\item 'bic'\n",
       "\\item 'outmat'\n",
       "\\item 'obj'\n",
       "\\end{enumerate*}\n"
      ],
      "text/markdown": [
       "1. 'which'\n",
       "2. 'rsq'\n",
       "3. 'rss'\n",
       "4. 'adjr2'\n",
       "5. 'cp'\n",
       "6. 'bic'\n",
       "7. 'outmat'\n",
       "8. 'obj'\n",
       "\n",
       "\n"
      ],
      "text/plain": [
       "[1] \"which\"  \"rsq\"    \"rss\"    \"adjr2\"  \"cp\"     \"bic\"    \"outmat\" \"obj\"   "
      ]
     },
     "metadata": {},
     "output_type": "display_data"
    }
   ],
   "source": [
    "names(expres)"
   ]
  },
  {
   "cell_type": "code",
   "execution_count": 42,
   "metadata": {
    "vscode": {
     "languageId": "r"
    }
   },
   "outputs": [
    {
     "data": {
      "text/html": [
       "<table class=\"dataframe\">\n",
       "<caption>A ols_step_all_possible: 31 × 14</caption>\n",
       "<thead>\n",
       "\t<tr><th></th><th scope=col>mindex</th><th scope=col>n</th><th scope=col>predictors</th><th scope=col>rsquare</th><th scope=col>adjr</th><th scope=col>predrsq</th><th scope=col>cp</th><th scope=col>aic</th><th scope=col>sbic</th><th scope=col>sbc</th><th scope=col>msep</th><th scope=col>fpe</th><th scope=col>apc</th><th scope=col>hsp</th></tr>\n",
       "\t<tr><th></th><th scope=col>&lt;int&gt;</th><th scope=col>&lt;int&gt;</th><th scope=col>&lt;chr&gt;</th><th scope=col>&lt;dbl&gt;</th><th scope=col>&lt;dbl&gt;</th><th scope=col>&lt;dbl&gt;</th><th scope=col>&lt;dbl&gt;</th><th scope=col>&lt;dbl&gt;</th><th scope=col>&lt;dbl&gt;</th><th scope=col>&lt;dbl&gt;</th><th scope=col>&lt;dbl&gt;</th><th scope=col>&lt;dbl&gt;</th><th scope=col>&lt;dbl&gt;</th><th scope=col>&lt;dbl&gt;</th></tr>\n",
       "</thead>\n",
       "<tbody>\n",
       "\t<tr><th scope=row>4</th><td> 1</td><td>1</td><td>x4            </td><td>0.72052420</td><td> 0.71017324</td><td> 0.66925799</td><td> 38.721380</td><td>231.9133</td><td>146.8415</td><td>236.0152</td><td> 4407.994</td><td>162.45282</td><td>0.3208796</td><td> 5.845077</td></tr>\n",
       "\t<tr><th scope=row>1</th><td> 2</td><td>1</td><td>x1            </td><td>0.39393873</td><td> 0.37149202</td><td> 0.26286550</td><td>113.183914</td><td>254.3612</td><td>167.6536</td><td>258.4631</td><td> 9559.019</td><td>352.28939</td><td>0.6958481</td><td>12.675425</td></tr>\n",
       "\t<tr><th scope=row>5</th><td> 3</td><td>1</td><td>x5            </td><td>0.12153476</td><td> 0.08899901</td><td>-0.07689869</td><td>175.292894</td><td>265.1259</td><td>177.9438</td><td>269.2278</td><td>13855.473</td><td>510.63151</td><td>1.0086082</td><td>18.372598</td></tr>\n",
       "\t<tr><th scope=row>3</th><td> 4</td><td>1</td><td>x3            </td><td>0.01256447</td><td>-0.02400721</td><td>-0.10822289</td><td>200.138469</td><td>268.5170</td><td>181.2158</td><td>272.6189</td><td>15574.192</td><td>573.97342</td><td>1.1337223</td><td>20.651649</td></tr>\n",
       "\t<tr><th scope=row>2</th><td> 5</td><td>1</td><td>x2            </td><td>0.01047594</td><td>-0.02617310</td><td>-0.10035893</td><td>200.614661</td><td>268.5783</td><td>181.2751</td><td>272.6801</td><td>15607.133</td><td>575.18743</td><td>1.1361202</td><td>20.695329</td></tr>\n",
       "\t<tr><th scope=row>13</th><td> 6</td><td>2</td><td>x3 x4         </td><td>0.85871542</td><td> 0.84784738</td><td> 0.81361382</td><td>  9.213338</td><td>214.1313</td><td>131.2144</td><td>219.6005</td><td> 2317.527</td><td> 88.03523</td><td>0.1738887</td><td> 3.191277</td></tr>\n",
       "\t<tr><th scope=row>15</th><td> 7</td><td>2</td><td>x4 x5         </td><td>0.82091186</td><td> 0.80713584</td><td> 0.74337520</td><td> 17.832672</td><td>221.0072</td><td>136.8021</td><td>226.4764</td><td> 2937.629</td><td>111.59085</td><td>0.2204162</td><td> 4.045168</td></tr>\n",
       "\t<tr><th scope=row>8</th><td> 8</td><td>2</td><td>x1 x4         </td><td>0.73386067</td><td> 0.71338841</td><td> 0.66912580</td><td> 37.680621</td><td>232.4953</td><td>146.5192</td><td>237.9645</td><td> 4365.552</td><td>165.83294</td><td>0.3275561</td><td> 6.011444</td></tr>\n",
       "\t<tr><th scope=row>11</th><td> 9</td><td>2</td><td>x2 x4         </td><td>0.72053206</td><td> 0.69903453</td><td> 0.63546717</td><td> 40.719587</td><td>233.9125</td><td>147.7510</td><td>239.3817</td><td> 4584.185</td><td>174.13807</td><td>0.3439605</td><td> 6.312505</td></tr>\n",
       "\t<tr><th scope=row>6</th><td>10</td><td>2</td><td>x1 x2         </td><td>0.44922541</td><td> 0.40685814</td><td> 0.27233435</td><td>102.578373</td><td>253.5872</td><td>165.4914</td><td>259.0564</td><td> 9034.498</td><td>343.19079</td><td>0.6778764</td><td>12.440666</td></tr>\n",
       "\t<tr><th scope=row>7</th><td>11</td><td>2</td><td>x1 x3         </td><td>0.42636430</td><td> 0.38223847</td><td> 0.26831058</td><td>107.790782</td><td>254.7666</td><td>166.5871</td><td>260.2358</td><td> 9409.494</td><td>357.43568</td><td>0.7060132</td><td>12.957044</td></tr>\n",
       "\t<tr><th scope=row>9</th><td>12</td><td>2</td><td>x1 x5         </td><td>0.39436813</td><td> 0.34778106</td><td> 0.21871464</td><td>115.086010</td><td>256.3407</td><td>168.0542</td><td>261.8098</td><td> 9934.336</td><td>377.37268</td><td>0.7453931</td><td>13.679760</td></tr>\n",
       "\t<tr><th scope=row>14</th><td>13</td><td>2</td><td>x3 x5         </td><td>0.36648777</td><td> 0.31775606</td><td> 0.08874789</td><td>121.442822</td><td>257.6459</td><td>169.2745</td><td>263.1150</td><td>10391.664</td><td>394.74509</td><td>0.7797074</td><td>14.309509</td></tr>\n",
       "\t<tr><th scope=row>12</th><td>14</td><td>2</td><td>x2 x5         </td><td>0.12786602</td><td> 0.06077879</td><td>-0.12421394</td><td>175.849347</td><td>266.9161</td><td>178.0335</td><td>272.3853</td><td>14305.839</td><td>543.43166</td><td>1.0733957</td><td>19.699398</td></tr>\n",
       "\t<tr><th scope=row>10</th><td>15</td><td>2</td><td>x2 x3         </td><td>0.03427915</td><td>-0.04000706</td><td>-0.11279275</td><td>197.187452</td><td>269.8721</td><td>180.8561</td><td>275.3413</td><td>15840.968</td><td>601.74617</td><td>1.1885795</td><td>21.813299</td></tr>\n",
       "\t<tr><th scope=row>22</th><td>16</td><td>3</td><td>x2 x3 x4      </td><td>0.87412678</td><td> 0.85902200</td><td> 0.78955967</td><td>  7.699497</td><td>212.7817</td><td>130.5669</td><td>219.6182</td><td> 2150.761</td><td> 84.11866</td><td>0.1661526</td><td> 3.080103</td></tr>\n",
       "\t<tr><th scope=row>19</th><td>17</td><td>3</td><td>x1 x3 x4      </td><td>0.86478901</td><td> 0.84856370</td><td> 0.81433580</td><td>  9.828539</td><td>214.8570</td><td>132.0770</td><td>221.6935</td><td> 2310.313</td><td> 90.35892</td><td>0.1784785</td><td> 3.308597</td></tr>\n",
       "\t<tr><th scope=row>25</th><td>18</td><td>3</td><td>x3 x4 x5      </td><td>0.86401481</td><td> 0.84769659</td><td> 0.79380310</td><td> 10.005059</td><td>215.0226</td><td>132.1984</td><td>221.8591</td><td> 2323.542</td><td> 90.87630</td><td>0.1795004</td><td> 3.327541</td></tr>\n",
       "\t<tr><th scope=row>21</th><td>19</td><td>3</td><td>x1 x4 x5      </td><td>0.86350720</td><td> 0.84712806</td><td> 0.80328563</td><td> 10.120797</td><td>215.1306</td><td>132.2777</td><td>221.9671</td><td> 2332.215</td><td> 91.21553</td><td>0.1801705</td><td> 3.339963</td></tr>\n",
       "\t<tr><th scope=row>24</th><td>20</td><td>3</td><td>x2 x4 x5      </td><td>0.82092371</td><td> 0.79943456</td><td> 0.71296138</td><td> 19.829969</td><td>223.0053</td><td>138.2211</td><td>229.8418</td><td> 3059.828</td><td>119.67326</td><td>0.2363807</td><td> 4.381975</td></tr>\n",
       "\t<tr><th scope=row>17</th><td>21</td><td>3</td><td>x1 x2 x4      </td><td>0.73615340</td><td> 0.70449181</td><td> 0.63353182</td><td> 39.157872</td><td>234.2444</td><td>147.2660</td><td>241.0809</td><td> 4508.275</td><td>176.32364</td><td>0.3482775</td><td> 6.456295</td></tr>\n",
       "\t<tr><th scope=row>16</th><td>22</td><td>3</td><td>x1 x2 x3      </td><td>0.52969885</td><td> 0.47326272</td><td> 0.34802937</td><td> 86.230171</td><td>251.0066</td><td>161.8072</td><td>257.8431</td><td> 8035.907</td><td>314.29326</td><td>0.6207975</td><td>11.508213</td></tr>\n",
       "\t<tr><th scope=row>20</th><td>23</td><td>3</td><td>x1 x3 x5      </td><td>0.46432189</td><td> 0.40004052</td><td> 0.26445978</td><td>101.136328</td><td>254.7812</td><td>165.2193</td><td>261.6177</td><td> 9152.986</td><td>357.98343</td><td>0.7070951</td><td>13.107979</td></tr>\n",
       "\t<tr><th scope=row>23</th><td>24</td><td>3</td><td>x2 x3 x5      </td><td>0.45610818</td><td> 0.39084116</td><td> 0.12545245</td><td>103.009081</td><td>255.2225</td><td>165.6210</td><td>262.0590</td><td> 9293.331</td><td>363.47250</td><td>0.7179372</td><td>13.308968</td></tr>\n",
       "\t<tr><th scope=row>18</th><td>25</td><td>3</td><td>x1 x2 x5      </td><td>0.45520336</td><td> 0.38982776</td><td> 0.23823726</td><td>103.215382</td><td>255.2707</td><td>165.6649</td><td>262.1072</td><td> 9308.791</td><td>364.07717</td><td>0.7191316</td><td>13.331109</td></tr>\n",
       "\t<tr><th scope=row>26</th><td>26</td><td>4</td><td>x1 x2 x3 x4   </td><td>0.89089317</td><td> 0.87270870</td><td> 0.80607673</td><td>  5.876707</td><td>210.6363</td><td>129.9404</td><td>218.8400</td><td> 1945.334</td><td> 78.25367</td><td>0.1545680</td><td> 2.901990</td></tr>\n",
       "\t<tr><th scope=row>29</th><td>27</td><td>4</td><td>x1 x3 x4 x5   </td><td>0.88077188</td><td> 0.86090053</td><td> 0.79290346</td><td>  8.184394</td><td>213.2089</td><td>131.5694</td><td>221.4127</td><td> 2125.793</td><td> 85.51287</td><td>0.1689065</td><td> 3.171193</td></tr>\n",
       "\t<tr><th scope=row>30</th><td>28</td><td>4</td><td>x2 x3 x4 x5   </td><td>0.87500842</td><td> 0.85417649</td><td> 0.76690969</td><td>  9.498481</td><td>214.5779</td><td>132.4548</td><td>222.7817</td><td> 2228.553</td><td> 89.64654</td><td>0.1770714</td><td> 3.324488</td></tr>\n",
       "\t<tr><th scope=row>28</th><td>29</td><td>4</td><td>x1 x2 x4 x5   </td><td>0.86967484</td><td> 0.84795398</td><td> 0.78591209</td><td> 10.714555</td><td>215.7897</td><td>133.2496</td><td>223.9935</td><td> 2323.649</td><td> 93.47189</td><td>0.1846273</td><td> 3.466349</td></tr>\n",
       "\t<tr><th scope=row>27</th><td>30</td><td>4</td><td>x1 x2 x3 x5   </td><td>0.57984679</td><td> 0.50982126</td><td> 0.34783752</td><td> 76.796280</td><td>249.7367</td><td>159.4932</td><td>257.9405</td><td> 7491.175</td><td>301.34255</td><td>0.5952170</td><td>11.175107</td></tr>\n",
       "\t<tr><th scope=row>31</th><td>31</td><td>5</td><td>x1 x2 x3 x4 x5</td><td>0.89912423</td><td> 0.87719471</td><td> 0.78820938</td><td>  6.000000</td><td>210.3616</td><td>131.0575</td><td>219.9326</td><td> 1880.331</td><td> 77.71631</td><td>0.1535066</td><td> 2.926978</td></tr>\n",
       "</tbody>\n",
       "</table>\n"
      ],
      "text/latex": [
       "A ols\\_step\\_all\\_possible: 31 × 14\n",
       "\\begin{tabular}{r|llllllllllllll}\n",
       "  & mindex & n & predictors & rsquare & adjr & predrsq & cp & aic & sbic & sbc & msep & fpe & apc & hsp\\\\\n",
       "  & <int> & <int> & <chr> & <dbl> & <dbl> & <dbl> & <dbl> & <dbl> & <dbl> & <dbl> & <dbl> & <dbl> & <dbl> & <dbl>\\\\\n",
       "\\hline\n",
       "\t4 &  1 & 1 & x4             & 0.72052420 &  0.71017324 &  0.66925799 &  38.721380 & 231.9133 & 146.8415 & 236.0152 &  4407.994 & 162.45282 & 0.3208796 &  5.845077\\\\\n",
       "\t1 &  2 & 1 & x1             & 0.39393873 &  0.37149202 &  0.26286550 & 113.183914 & 254.3612 & 167.6536 & 258.4631 &  9559.019 & 352.28939 & 0.6958481 & 12.675425\\\\\n",
       "\t5 &  3 & 1 & x5             & 0.12153476 &  0.08899901 & -0.07689869 & 175.292894 & 265.1259 & 177.9438 & 269.2278 & 13855.473 & 510.63151 & 1.0086082 & 18.372598\\\\\n",
       "\t3 &  4 & 1 & x3             & 0.01256447 & -0.02400721 & -0.10822289 & 200.138469 & 268.5170 & 181.2158 & 272.6189 & 15574.192 & 573.97342 & 1.1337223 & 20.651649\\\\\n",
       "\t2 &  5 & 1 & x2             & 0.01047594 & -0.02617310 & -0.10035893 & 200.614661 & 268.5783 & 181.2751 & 272.6801 & 15607.133 & 575.18743 & 1.1361202 & 20.695329\\\\\n",
       "\t13 &  6 & 2 & x3 x4          & 0.85871542 &  0.84784738 &  0.81361382 &   9.213338 & 214.1313 & 131.2144 & 219.6005 &  2317.527 &  88.03523 & 0.1738887 &  3.191277\\\\\n",
       "\t15 &  7 & 2 & x4 x5          & 0.82091186 &  0.80713584 &  0.74337520 &  17.832672 & 221.0072 & 136.8021 & 226.4764 &  2937.629 & 111.59085 & 0.2204162 &  4.045168\\\\\n",
       "\t8 &  8 & 2 & x1 x4          & 0.73386067 &  0.71338841 &  0.66912580 &  37.680621 & 232.4953 & 146.5192 & 237.9645 &  4365.552 & 165.83294 & 0.3275561 &  6.011444\\\\\n",
       "\t11 &  9 & 2 & x2 x4          & 0.72053206 &  0.69903453 &  0.63546717 &  40.719587 & 233.9125 & 147.7510 & 239.3817 &  4584.185 & 174.13807 & 0.3439605 &  6.312505\\\\\n",
       "\t6 & 10 & 2 & x1 x2          & 0.44922541 &  0.40685814 &  0.27233435 & 102.578373 & 253.5872 & 165.4914 & 259.0564 &  9034.498 & 343.19079 & 0.6778764 & 12.440666\\\\\n",
       "\t7 & 11 & 2 & x1 x3          & 0.42636430 &  0.38223847 &  0.26831058 & 107.790782 & 254.7666 & 166.5871 & 260.2358 &  9409.494 & 357.43568 & 0.7060132 & 12.957044\\\\\n",
       "\t9 & 12 & 2 & x1 x5          & 0.39436813 &  0.34778106 &  0.21871464 & 115.086010 & 256.3407 & 168.0542 & 261.8098 &  9934.336 & 377.37268 & 0.7453931 & 13.679760\\\\\n",
       "\t14 & 13 & 2 & x3 x5          & 0.36648777 &  0.31775606 &  0.08874789 & 121.442822 & 257.6459 & 169.2745 & 263.1150 & 10391.664 & 394.74509 & 0.7797074 & 14.309509\\\\\n",
       "\t12 & 14 & 2 & x2 x5          & 0.12786602 &  0.06077879 & -0.12421394 & 175.849347 & 266.9161 & 178.0335 & 272.3853 & 14305.839 & 543.43166 & 1.0733957 & 19.699398\\\\\n",
       "\t10 & 15 & 2 & x2 x3          & 0.03427915 & -0.04000706 & -0.11279275 & 197.187452 & 269.8721 & 180.8561 & 275.3413 & 15840.968 & 601.74617 & 1.1885795 & 21.813299\\\\\n",
       "\t22 & 16 & 3 & x2 x3 x4       & 0.87412678 &  0.85902200 &  0.78955967 &   7.699497 & 212.7817 & 130.5669 & 219.6182 &  2150.761 &  84.11866 & 0.1661526 &  3.080103\\\\\n",
       "\t19 & 17 & 3 & x1 x3 x4       & 0.86478901 &  0.84856370 &  0.81433580 &   9.828539 & 214.8570 & 132.0770 & 221.6935 &  2310.313 &  90.35892 & 0.1784785 &  3.308597\\\\\n",
       "\t25 & 18 & 3 & x3 x4 x5       & 0.86401481 &  0.84769659 &  0.79380310 &  10.005059 & 215.0226 & 132.1984 & 221.8591 &  2323.542 &  90.87630 & 0.1795004 &  3.327541\\\\\n",
       "\t21 & 19 & 3 & x1 x4 x5       & 0.86350720 &  0.84712806 &  0.80328563 &  10.120797 & 215.1306 & 132.2777 & 221.9671 &  2332.215 &  91.21553 & 0.1801705 &  3.339963\\\\\n",
       "\t24 & 20 & 3 & x2 x4 x5       & 0.82092371 &  0.79943456 &  0.71296138 &  19.829969 & 223.0053 & 138.2211 & 229.8418 &  3059.828 & 119.67326 & 0.2363807 &  4.381975\\\\\n",
       "\t17 & 21 & 3 & x1 x2 x4       & 0.73615340 &  0.70449181 &  0.63353182 &  39.157872 & 234.2444 & 147.2660 & 241.0809 &  4508.275 & 176.32364 & 0.3482775 &  6.456295\\\\\n",
       "\t16 & 22 & 3 & x1 x2 x3       & 0.52969885 &  0.47326272 &  0.34802937 &  86.230171 & 251.0066 & 161.8072 & 257.8431 &  8035.907 & 314.29326 & 0.6207975 & 11.508213\\\\\n",
       "\t20 & 23 & 3 & x1 x3 x5       & 0.46432189 &  0.40004052 &  0.26445978 & 101.136328 & 254.7812 & 165.2193 & 261.6177 &  9152.986 & 357.98343 & 0.7070951 & 13.107979\\\\\n",
       "\t23 & 24 & 3 & x2 x3 x5       & 0.45610818 &  0.39084116 &  0.12545245 & 103.009081 & 255.2225 & 165.6210 & 262.0590 &  9293.331 & 363.47250 & 0.7179372 & 13.308968\\\\\n",
       "\t18 & 25 & 3 & x1 x2 x5       & 0.45520336 &  0.38982776 &  0.23823726 & 103.215382 & 255.2707 & 165.6649 & 262.1072 &  9308.791 & 364.07717 & 0.7191316 & 13.331109\\\\\n",
       "\t26 & 26 & 4 & x1 x2 x3 x4    & 0.89089317 &  0.87270870 &  0.80607673 &   5.876707 & 210.6363 & 129.9404 & 218.8400 &  1945.334 &  78.25367 & 0.1545680 &  2.901990\\\\\n",
       "\t29 & 27 & 4 & x1 x3 x4 x5    & 0.88077188 &  0.86090053 &  0.79290346 &   8.184394 & 213.2089 & 131.5694 & 221.4127 &  2125.793 &  85.51287 & 0.1689065 &  3.171193\\\\\n",
       "\t30 & 28 & 4 & x2 x3 x4 x5    & 0.87500842 &  0.85417649 &  0.76690969 &   9.498481 & 214.5779 & 132.4548 & 222.7817 &  2228.553 &  89.64654 & 0.1770714 &  3.324488\\\\\n",
       "\t28 & 29 & 4 & x1 x2 x4 x5    & 0.86967484 &  0.84795398 &  0.78591209 &  10.714555 & 215.7897 & 133.2496 & 223.9935 &  2323.649 &  93.47189 & 0.1846273 &  3.466349\\\\\n",
       "\t27 & 30 & 4 & x1 x2 x3 x5    & 0.57984679 &  0.50982126 &  0.34783752 &  76.796280 & 249.7367 & 159.4932 & 257.9405 &  7491.175 & 301.34255 & 0.5952170 & 11.175107\\\\\n",
       "\t31 & 31 & 5 & x1 x2 x3 x4 x5 & 0.89912423 &  0.87719471 &  0.78820938 &   6.000000 & 210.3616 & 131.0575 & 219.9326 &  1880.331 &  77.71631 & 0.1535066 &  2.926978\\\\\n",
       "\\end{tabular}\n"
      ],
      "text/markdown": [
       "\n",
       "A ols_step_all_possible: 31 × 14\n",
       "\n",
       "| <!--/--> | mindex &lt;int&gt; | n &lt;int&gt; | predictors &lt;chr&gt; | rsquare &lt;dbl&gt; | adjr &lt;dbl&gt; | predrsq &lt;dbl&gt; | cp &lt;dbl&gt; | aic &lt;dbl&gt; | sbic &lt;dbl&gt; | sbc &lt;dbl&gt; | msep &lt;dbl&gt; | fpe &lt;dbl&gt; | apc &lt;dbl&gt; | hsp &lt;dbl&gt; |\n",
       "|---|---|---|---|---|---|---|---|---|---|---|---|---|---|---|\n",
       "| 4 |  1 | 1 | x4             | 0.72052420 |  0.71017324 |  0.66925799 |  38.721380 | 231.9133 | 146.8415 | 236.0152 |  4407.994 | 162.45282 | 0.3208796 |  5.845077 |\n",
       "| 1 |  2 | 1 | x1             | 0.39393873 |  0.37149202 |  0.26286550 | 113.183914 | 254.3612 | 167.6536 | 258.4631 |  9559.019 | 352.28939 | 0.6958481 | 12.675425 |\n",
       "| 5 |  3 | 1 | x5             | 0.12153476 |  0.08899901 | -0.07689869 | 175.292894 | 265.1259 | 177.9438 | 269.2278 | 13855.473 | 510.63151 | 1.0086082 | 18.372598 |\n",
       "| 3 |  4 | 1 | x3             | 0.01256447 | -0.02400721 | -0.10822289 | 200.138469 | 268.5170 | 181.2158 | 272.6189 | 15574.192 | 573.97342 | 1.1337223 | 20.651649 |\n",
       "| 2 |  5 | 1 | x2             | 0.01047594 | -0.02617310 | -0.10035893 | 200.614661 | 268.5783 | 181.2751 | 272.6801 | 15607.133 | 575.18743 | 1.1361202 | 20.695329 |\n",
       "| 13 |  6 | 2 | x3 x4          | 0.85871542 |  0.84784738 |  0.81361382 |   9.213338 | 214.1313 | 131.2144 | 219.6005 |  2317.527 |  88.03523 | 0.1738887 |  3.191277 |\n",
       "| 15 |  7 | 2 | x4 x5          | 0.82091186 |  0.80713584 |  0.74337520 |  17.832672 | 221.0072 | 136.8021 | 226.4764 |  2937.629 | 111.59085 | 0.2204162 |  4.045168 |\n",
       "| 8 |  8 | 2 | x1 x4          | 0.73386067 |  0.71338841 |  0.66912580 |  37.680621 | 232.4953 | 146.5192 | 237.9645 |  4365.552 | 165.83294 | 0.3275561 |  6.011444 |\n",
       "| 11 |  9 | 2 | x2 x4          | 0.72053206 |  0.69903453 |  0.63546717 |  40.719587 | 233.9125 | 147.7510 | 239.3817 |  4584.185 | 174.13807 | 0.3439605 |  6.312505 |\n",
       "| 6 | 10 | 2 | x1 x2          | 0.44922541 |  0.40685814 |  0.27233435 | 102.578373 | 253.5872 | 165.4914 | 259.0564 |  9034.498 | 343.19079 | 0.6778764 | 12.440666 |\n",
       "| 7 | 11 | 2 | x1 x3          | 0.42636430 |  0.38223847 |  0.26831058 | 107.790782 | 254.7666 | 166.5871 | 260.2358 |  9409.494 | 357.43568 | 0.7060132 | 12.957044 |\n",
       "| 9 | 12 | 2 | x1 x5          | 0.39436813 |  0.34778106 |  0.21871464 | 115.086010 | 256.3407 | 168.0542 | 261.8098 |  9934.336 | 377.37268 | 0.7453931 | 13.679760 |\n",
       "| 14 | 13 | 2 | x3 x5          | 0.36648777 |  0.31775606 |  0.08874789 | 121.442822 | 257.6459 | 169.2745 | 263.1150 | 10391.664 | 394.74509 | 0.7797074 | 14.309509 |\n",
       "| 12 | 14 | 2 | x2 x5          | 0.12786602 |  0.06077879 | -0.12421394 | 175.849347 | 266.9161 | 178.0335 | 272.3853 | 14305.839 | 543.43166 | 1.0733957 | 19.699398 |\n",
       "| 10 | 15 | 2 | x2 x3          | 0.03427915 | -0.04000706 | -0.11279275 | 197.187452 | 269.8721 | 180.8561 | 275.3413 | 15840.968 | 601.74617 | 1.1885795 | 21.813299 |\n",
       "| 22 | 16 | 3 | x2 x3 x4       | 0.87412678 |  0.85902200 |  0.78955967 |   7.699497 | 212.7817 | 130.5669 | 219.6182 |  2150.761 |  84.11866 | 0.1661526 |  3.080103 |\n",
       "| 19 | 17 | 3 | x1 x3 x4       | 0.86478901 |  0.84856370 |  0.81433580 |   9.828539 | 214.8570 | 132.0770 | 221.6935 |  2310.313 |  90.35892 | 0.1784785 |  3.308597 |\n",
       "| 25 | 18 | 3 | x3 x4 x5       | 0.86401481 |  0.84769659 |  0.79380310 |  10.005059 | 215.0226 | 132.1984 | 221.8591 |  2323.542 |  90.87630 | 0.1795004 |  3.327541 |\n",
       "| 21 | 19 | 3 | x1 x4 x5       | 0.86350720 |  0.84712806 |  0.80328563 |  10.120797 | 215.1306 | 132.2777 | 221.9671 |  2332.215 |  91.21553 | 0.1801705 |  3.339963 |\n",
       "| 24 | 20 | 3 | x2 x4 x5       | 0.82092371 |  0.79943456 |  0.71296138 |  19.829969 | 223.0053 | 138.2211 | 229.8418 |  3059.828 | 119.67326 | 0.2363807 |  4.381975 |\n",
       "| 17 | 21 | 3 | x1 x2 x4       | 0.73615340 |  0.70449181 |  0.63353182 |  39.157872 | 234.2444 | 147.2660 | 241.0809 |  4508.275 | 176.32364 | 0.3482775 |  6.456295 |\n",
       "| 16 | 22 | 3 | x1 x2 x3       | 0.52969885 |  0.47326272 |  0.34802937 |  86.230171 | 251.0066 | 161.8072 | 257.8431 |  8035.907 | 314.29326 | 0.6207975 | 11.508213 |\n",
       "| 20 | 23 | 3 | x1 x3 x5       | 0.46432189 |  0.40004052 |  0.26445978 | 101.136328 | 254.7812 | 165.2193 | 261.6177 |  9152.986 | 357.98343 | 0.7070951 | 13.107979 |\n",
       "| 23 | 24 | 3 | x2 x3 x5       | 0.45610818 |  0.39084116 |  0.12545245 | 103.009081 | 255.2225 | 165.6210 | 262.0590 |  9293.331 | 363.47250 | 0.7179372 | 13.308968 |\n",
       "| 18 | 25 | 3 | x1 x2 x5       | 0.45520336 |  0.38982776 |  0.23823726 | 103.215382 | 255.2707 | 165.6649 | 262.1072 |  9308.791 | 364.07717 | 0.7191316 | 13.331109 |\n",
       "| 26 | 26 | 4 | x1 x2 x3 x4    | 0.89089317 |  0.87270870 |  0.80607673 |   5.876707 | 210.6363 | 129.9404 | 218.8400 |  1945.334 |  78.25367 | 0.1545680 |  2.901990 |\n",
       "| 29 | 27 | 4 | x1 x3 x4 x5    | 0.88077188 |  0.86090053 |  0.79290346 |   8.184394 | 213.2089 | 131.5694 | 221.4127 |  2125.793 |  85.51287 | 0.1689065 |  3.171193 |\n",
       "| 30 | 28 | 4 | x2 x3 x4 x5    | 0.87500842 |  0.85417649 |  0.76690969 |   9.498481 | 214.5779 | 132.4548 | 222.7817 |  2228.553 |  89.64654 | 0.1770714 |  3.324488 |\n",
       "| 28 | 29 | 4 | x1 x2 x4 x5    | 0.86967484 |  0.84795398 |  0.78591209 |  10.714555 | 215.7897 | 133.2496 | 223.9935 |  2323.649 |  93.47189 | 0.1846273 |  3.466349 |\n",
       "| 27 | 30 | 4 | x1 x2 x3 x5    | 0.57984679 |  0.50982126 |  0.34783752 |  76.796280 | 249.7367 | 159.4932 | 257.9405 |  7491.175 | 301.34255 | 0.5952170 | 11.175107 |\n",
       "| 31 | 31 | 5 | x1 x2 x3 x4 x5 | 0.89912423 |  0.87719471 |  0.78820938 |   6.000000 | 210.3616 | 131.0575 | 219.9326 |  1880.331 |  77.71631 | 0.1535066 |  2.926978 |\n",
       "\n"
      ],
      "text/plain": [
       "   mindex n predictors     rsquare    adjr        predrsq     cp        \n",
       "4   1     1 x4             0.72052420  0.71017324  0.66925799  38.721380\n",
       "1   2     1 x1             0.39393873  0.37149202  0.26286550 113.183914\n",
       "5   3     1 x5             0.12153476  0.08899901 -0.07689869 175.292894\n",
       "3   4     1 x3             0.01256447 -0.02400721 -0.10822289 200.138469\n",
       "2   5     1 x2             0.01047594 -0.02617310 -0.10035893 200.614661\n",
       "13  6     2 x3 x4          0.85871542  0.84784738  0.81361382   9.213338\n",
       "15  7     2 x4 x5          0.82091186  0.80713584  0.74337520  17.832672\n",
       "8   8     2 x1 x4          0.73386067  0.71338841  0.66912580  37.680621\n",
       "11  9     2 x2 x4          0.72053206  0.69903453  0.63546717  40.719587\n",
       "6  10     2 x1 x2          0.44922541  0.40685814  0.27233435 102.578373\n",
       "7  11     2 x1 x3          0.42636430  0.38223847  0.26831058 107.790782\n",
       "9  12     2 x1 x5          0.39436813  0.34778106  0.21871464 115.086010\n",
       "14 13     2 x3 x5          0.36648777  0.31775606  0.08874789 121.442822\n",
       "12 14     2 x2 x5          0.12786602  0.06077879 -0.12421394 175.849347\n",
       "10 15     2 x2 x3          0.03427915 -0.04000706 -0.11279275 197.187452\n",
       "22 16     3 x2 x3 x4       0.87412678  0.85902200  0.78955967   7.699497\n",
       "19 17     3 x1 x3 x4       0.86478901  0.84856370  0.81433580   9.828539\n",
       "25 18     3 x3 x4 x5       0.86401481  0.84769659  0.79380310  10.005059\n",
       "21 19     3 x1 x4 x5       0.86350720  0.84712806  0.80328563  10.120797\n",
       "24 20     3 x2 x4 x5       0.82092371  0.79943456  0.71296138  19.829969\n",
       "17 21     3 x1 x2 x4       0.73615340  0.70449181  0.63353182  39.157872\n",
       "16 22     3 x1 x2 x3       0.52969885  0.47326272  0.34802937  86.230171\n",
       "20 23     3 x1 x3 x5       0.46432189  0.40004052  0.26445978 101.136328\n",
       "23 24     3 x2 x3 x5       0.45610818  0.39084116  0.12545245 103.009081\n",
       "18 25     3 x1 x2 x5       0.45520336  0.38982776  0.23823726 103.215382\n",
       "26 26     4 x1 x2 x3 x4    0.89089317  0.87270870  0.80607673   5.876707\n",
       "29 27     4 x1 x3 x4 x5    0.88077188  0.86090053  0.79290346   8.184394\n",
       "30 28     4 x2 x3 x4 x5    0.87500842  0.85417649  0.76690969   9.498481\n",
       "28 29     4 x1 x2 x4 x5    0.86967484  0.84795398  0.78591209  10.714555\n",
       "27 30     4 x1 x2 x3 x5    0.57984679  0.50982126  0.34783752  76.796280\n",
       "31 31     5 x1 x2 x3 x4 x5 0.89912423  0.87719471  0.78820938   6.000000\n",
       "   aic      sbic     sbc      msep      fpe       apc       hsp      \n",
       "4  231.9133 146.8415 236.0152  4407.994 162.45282 0.3208796  5.845077\n",
       "1  254.3612 167.6536 258.4631  9559.019 352.28939 0.6958481 12.675425\n",
       "5  265.1259 177.9438 269.2278 13855.473 510.63151 1.0086082 18.372598\n",
       "3  268.5170 181.2158 272.6189 15574.192 573.97342 1.1337223 20.651649\n",
       "2  268.5783 181.2751 272.6801 15607.133 575.18743 1.1361202 20.695329\n",
       "13 214.1313 131.2144 219.6005  2317.527  88.03523 0.1738887  3.191277\n",
       "15 221.0072 136.8021 226.4764  2937.629 111.59085 0.2204162  4.045168\n",
       "8  232.4953 146.5192 237.9645  4365.552 165.83294 0.3275561  6.011444\n",
       "11 233.9125 147.7510 239.3817  4584.185 174.13807 0.3439605  6.312505\n",
       "6  253.5872 165.4914 259.0564  9034.498 343.19079 0.6778764 12.440666\n",
       "7  254.7666 166.5871 260.2358  9409.494 357.43568 0.7060132 12.957044\n",
       "9  256.3407 168.0542 261.8098  9934.336 377.37268 0.7453931 13.679760\n",
       "14 257.6459 169.2745 263.1150 10391.664 394.74509 0.7797074 14.309509\n",
       "12 266.9161 178.0335 272.3853 14305.839 543.43166 1.0733957 19.699398\n",
       "10 269.8721 180.8561 275.3413 15840.968 601.74617 1.1885795 21.813299\n",
       "22 212.7817 130.5669 219.6182  2150.761  84.11866 0.1661526  3.080103\n",
       "19 214.8570 132.0770 221.6935  2310.313  90.35892 0.1784785  3.308597\n",
       "25 215.0226 132.1984 221.8591  2323.542  90.87630 0.1795004  3.327541\n",
       "21 215.1306 132.2777 221.9671  2332.215  91.21553 0.1801705  3.339963\n",
       "24 223.0053 138.2211 229.8418  3059.828 119.67326 0.2363807  4.381975\n",
       "17 234.2444 147.2660 241.0809  4508.275 176.32364 0.3482775  6.456295\n",
       "16 251.0066 161.8072 257.8431  8035.907 314.29326 0.6207975 11.508213\n",
       "20 254.7812 165.2193 261.6177  9152.986 357.98343 0.7070951 13.107979\n",
       "23 255.2225 165.6210 262.0590  9293.331 363.47250 0.7179372 13.308968\n",
       "18 255.2707 165.6649 262.1072  9308.791 364.07717 0.7191316 13.331109\n",
       "26 210.6363 129.9404 218.8400  1945.334  78.25367 0.1545680  2.901990\n",
       "29 213.2089 131.5694 221.4127  2125.793  85.51287 0.1689065  3.171193\n",
       "30 214.5779 132.4548 222.7817  2228.553  89.64654 0.1770714  3.324488\n",
       "28 215.7897 133.2496 223.9935  2323.649  93.47189 0.1846273  3.466349\n",
       "27 249.7367 159.4932 257.9405  7491.175 301.34255 0.5952170 11.175107\n",
       "31 210.3616 131.0575 219.9326  1880.331  77.71631 0.1535066  2.926978"
      ]
     },
     "metadata": {},
     "output_type": "display_data"
    }
   ],
   "source": [
    "library(olsrr)\n",
    "lm.all<-lm(y~.,data=df)\n",
    "(df.all=ols_step_all_possible(lm.all))\n",
    "N=29"
   ]
  },
  {
   "cell_type": "code",
   "execution_count": 43,
   "metadata": {
    "vscode": {
     "languageId": "r"
    }
   },
   "outputs": [],
   "source": [
    "sst=sum((df$y-mean(df$y))^2)"
   ]
  },
  {
   "cell_type": "code",
   "execution_count": 49,
   "metadata": {
    "vscode": {
     "languageId": "r"
    }
   },
   "outputs": [],
   "source": [
    "rms=(sst*(1-df.all$rsquare))/(N-df.all$n)"
   ]
  },
  {
   "cell_type": "code",
   "execution_count": 47,
   "metadata": {
    "vscode": {
     "languageId": "r"
    }
   },
   "outputs": [
    {
     "data": {
      "text/html": [
       "<style>\n",
       ".list-inline {list-style: none; margin:0; padding: 0}\n",
       ".list-inline>li {display: inline-block}\n",
       ".list-inline>li:not(:last-child)::after {content: \"\\00b7\"; padding: 0 .5ex}\n",
       "</style>\n",
       "<ol class=list-inline><li>28</li><li>28</li><li>28</li><li>28</li><li>28</li><li>27</li><li>27</li><li>27</li><li>27</li><li>27</li><li>27</li><li>27</li><li>27</li><li>27</li><li>27</li><li>26</li><li>26</li><li>26</li><li>26</li><li>26</li><li>26</li><li>26</li><li>26</li><li>26</li><li>26</li><li>25</li><li>25</li><li>25</li><li>25</li><li>25</li><li>24</li></ol>\n"
      ],
      "text/latex": [
       "\\begin{enumerate*}\n",
       "\\item 28\n",
       "\\item 28\n",
       "\\item 28\n",
       "\\item 28\n",
       "\\item 28\n",
       "\\item 27\n",
       "\\item 27\n",
       "\\item 27\n",
       "\\item 27\n",
       "\\item 27\n",
       "\\item 27\n",
       "\\item 27\n",
       "\\item 27\n",
       "\\item 27\n",
       "\\item 27\n",
       "\\item 26\n",
       "\\item 26\n",
       "\\item 26\n",
       "\\item 26\n",
       "\\item 26\n",
       "\\item 26\n",
       "\\item 26\n",
       "\\item 26\n",
       "\\item 26\n",
       "\\item 26\n",
       "\\item 25\n",
       "\\item 25\n",
       "\\item 25\n",
       "\\item 25\n",
       "\\item 25\n",
       "\\item 24\n",
       "\\end{enumerate*}\n"
      ],
      "text/markdown": [
       "1. 28\n",
       "2. 28\n",
       "3. 28\n",
       "4. 28\n",
       "5. 28\n",
       "6. 27\n",
       "7. 27\n",
       "8. 27\n",
       "9. 27\n",
       "10. 27\n",
       "11. 27\n",
       "12. 27\n",
       "13. 27\n",
       "14. 27\n",
       "15. 27\n",
       "16. 26\n",
       "17. 26\n",
       "18. 26\n",
       "19. 26\n",
       "20. 26\n",
       "21. 26\n",
       "22. 26\n",
       "23. 26\n",
       "24. 26\n",
       "25. 26\n",
       "26. 25\n",
       "27. 25\n",
       "28. 25\n",
       "29. 25\n",
       "30. 25\n",
       "31. 24\n",
       "\n",
       "\n"
      ],
      "text/plain": [
       " [1] 28 28 28 28 28 27 27 27 27 27 27 27 27 27 27 26 26 26 26 26 26 26 26 26 26\n",
       "[26] 25 25 25 25 25 24"
      ]
     },
     "metadata": {},
     "output_type": "display_data"
    }
   ],
   "source": [
    "N-df.all$n"
   ]
  },
  {
   "cell_type": "code",
   "execution_count": 51,
   "metadata": {
    "vscode": {
     "languageId": "r"
    }
   },
   "outputs": [
    {
     "data": {
      "text/html": [
       "<table class=\"dataframe\">\n",
       "<caption>A data.frame: 31 × 3</caption>\n",
       "<thead>\n",
       "\t<tr><th scope=col>predictors</th><th scope=col>rms</th><th scope=col>aic</th></tr>\n",
       "\t<tr><th scope=col>&lt;chr&gt;</th><th scope=col>&lt;dbl&gt;</th><th scope=col>&lt;dbl&gt;</th></tr>\n",
       "</thead>\n",
       "<tbody>\n",
       "\t<tr><td>x4            </td><td>146.54442</td><td>231.9133</td></tr>\n",
       "\t<tr><td>x1            </td><td>317.79100</td><td>254.3612</td></tr>\n",
       "\t<tr><td>x5            </td><td>460.62727</td><td>265.1259</td></tr>\n",
       "\t<tr><td>x3            </td><td>517.76634</td><td>268.5170</td></tr>\n",
       "\t<tr><td>x2            </td><td>518.86147</td><td>268.5783</td></tr>\n",
       "\t<tr><td>x3 x4         </td><td> 76.82704</td><td>214.1313</td></tr>\n",
       "\t<tr><td>x4 x5         </td><td> 97.38368</td><td>221.0072</td></tr>\n",
       "\t<tr><td>x1 x4         </td><td>144.71995</td><td>232.4953</td></tr>\n",
       "\t<tr><td>x2 x4         </td><td>151.96771</td><td>233.9125</td></tr>\n",
       "\t<tr><td>x1 x2         </td><td>299.49752</td><td>253.5872</td></tr>\n",
       "\t<tr><td>x1 x3         </td><td>311.92883</td><td>254.7666</td></tr>\n",
       "\t<tr><td>x1 x5         </td><td>329.32754</td><td>256.3407</td></tr>\n",
       "\t<tr><td>x3 x5         </td><td>344.48819</td><td>257.6459</td></tr>\n",
       "\t<tr><td>x2 x5         </td><td>474.24476</td><td>266.9161</td></tr>\n",
       "\t<tr><td>x2 x3         </td><td>525.13497</td><td>269.8721</td></tr>\n",
       "\t<tr><td>x2 x3 x4      </td><td> 71.07929</td><td>212.7817</td></tr>\n",
       "\t<tr><td>x1 x3 x4      </td><td> 76.35223</td><td>214.8570</td></tr>\n",
       "\t<tr><td>x3 x4 x5      </td><td> 76.78941</td><td>215.0226</td></tr>\n",
       "\t<tr><td>x1 x4 x5      </td><td> 77.07606</td><td>215.1306</td></tr>\n",
       "\t<tr><td>x2 x4 x5      </td><td>101.12251</td><td>223.0053</td></tr>\n",
       "\t<tr><td>x1 x2 x4      </td><td>148.99142</td><td>234.2444</td></tr>\n",
       "\t<tr><td>x1 x2 x3      </td><td>265.57414</td><td>251.0066</td></tr>\n",
       "\t<tr><td>x1 x3 x5      </td><td>302.49183</td><td>254.7812</td></tr>\n",
       "\t<tr><td>x2 x3 x5      </td><td>307.13003</td><td>255.2225</td></tr>\n",
       "\t<tr><td>x1 x2 x5      </td><td>307.64097</td><td>255.2707</td></tr>\n",
       "\t<tr><td>x1 x2 x3 x4   </td><td> 64.07595</td><td>210.6363</td></tr>\n",
       "\t<tr><td>x1 x3 x4 x5   </td><td> 70.01995</td><td>213.2089</td></tr>\n",
       "\t<tr><td>x2 x3 x4 x5   </td><td> 73.40470</td><td>214.5779</td></tr>\n",
       "\t<tr><td>x1 x2 x4 x5   </td><td> 76.53699</td><td>215.7897</td></tr>\n",
       "\t<tr><td>x1 x2 x3 x5   </td><td>246.74637</td><td>249.7367</td></tr>\n",
       "\t<tr><td>x1 x2 x3 x4 x5</td><td> 61.71045</td><td>210.3616</td></tr>\n",
       "</tbody>\n",
       "</table>\n"
      ],
      "text/latex": [
       "A data.frame: 31 × 3\n",
       "\\begin{tabular}{lll}\n",
       " predictors & rms & aic\\\\\n",
       " <chr> & <dbl> & <dbl>\\\\\n",
       "\\hline\n",
       "\t x4             & 146.54442 & 231.9133\\\\\n",
       "\t x1             & 317.79100 & 254.3612\\\\\n",
       "\t x5             & 460.62727 & 265.1259\\\\\n",
       "\t x3             & 517.76634 & 268.5170\\\\\n",
       "\t x2             & 518.86147 & 268.5783\\\\\n",
       "\t x3 x4          &  76.82704 & 214.1313\\\\\n",
       "\t x4 x5          &  97.38368 & 221.0072\\\\\n",
       "\t x1 x4          & 144.71995 & 232.4953\\\\\n",
       "\t x2 x4          & 151.96771 & 233.9125\\\\\n",
       "\t x1 x2          & 299.49752 & 253.5872\\\\\n",
       "\t x1 x3          & 311.92883 & 254.7666\\\\\n",
       "\t x1 x5          & 329.32754 & 256.3407\\\\\n",
       "\t x3 x5          & 344.48819 & 257.6459\\\\\n",
       "\t x2 x5          & 474.24476 & 266.9161\\\\\n",
       "\t x2 x3          & 525.13497 & 269.8721\\\\\n",
       "\t x2 x3 x4       &  71.07929 & 212.7817\\\\\n",
       "\t x1 x3 x4       &  76.35223 & 214.8570\\\\\n",
       "\t x3 x4 x5       &  76.78941 & 215.0226\\\\\n",
       "\t x1 x4 x5       &  77.07606 & 215.1306\\\\\n",
       "\t x2 x4 x5       & 101.12251 & 223.0053\\\\\n",
       "\t x1 x2 x4       & 148.99142 & 234.2444\\\\\n",
       "\t x1 x2 x3       & 265.57414 & 251.0066\\\\\n",
       "\t x1 x3 x5       & 302.49183 & 254.7812\\\\\n",
       "\t x2 x3 x5       & 307.13003 & 255.2225\\\\\n",
       "\t x1 x2 x5       & 307.64097 & 255.2707\\\\\n",
       "\t x1 x2 x3 x4    &  64.07595 & 210.6363\\\\\n",
       "\t x1 x3 x4 x5    &  70.01995 & 213.2089\\\\\n",
       "\t x2 x3 x4 x5    &  73.40470 & 214.5779\\\\\n",
       "\t x1 x2 x4 x5    &  76.53699 & 215.7897\\\\\n",
       "\t x1 x2 x3 x5    & 246.74637 & 249.7367\\\\\n",
       "\t x1 x2 x3 x4 x5 &  61.71045 & 210.3616\\\\\n",
       "\\end{tabular}\n"
      ],
      "text/markdown": [
       "\n",
       "A data.frame: 31 × 3\n",
       "\n",
       "| predictors &lt;chr&gt; | rms &lt;dbl&gt; | aic &lt;dbl&gt; |\n",
       "|---|---|---|\n",
       "| x4             | 146.54442 | 231.9133 |\n",
       "| x1             | 317.79100 | 254.3612 |\n",
       "| x5             | 460.62727 | 265.1259 |\n",
       "| x3             | 517.76634 | 268.5170 |\n",
       "| x2             | 518.86147 | 268.5783 |\n",
       "| x3 x4          |  76.82704 | 214.1313 |\n",
       "| x4 x5          |  97.38368 | 221.0072 |\n",
       "| x1 x4          | 144.71995 | 232.4953 |\n",
       "| x2 x4          | 151.96771 | 233.9125 |\n",
       "| x1 x2          | 299.49752 | 253.5872 |\n",
       "| x1 x3          | 311.92883 | 254.7666 |\n",
       "| x1 x5          | 329.32754 | 256.3407 |\n",
       "| x3 x5          | 344.48819 | 257.6459 |\n",
       "| x2 x5          | 474.24476 | 266.9161 |\n",
       "| x2 x3          | 525.13497 | 269.8721 |\n",
       "| x2 x3 x4       |  71.07929 | 212.7817 |\n",
       "| x1 x3 x4       |  76.35223 | 214.8570 |\n",
       "| x3 x4 x5       |  76.78941 | 215.0226 |\n",
       "| x1 x4 x5       |  77.07606 | 215.1306 |\n",
       "| x2 x4 x5       | 101.12251 | 223.0053 |\n",
       "| x1 x2 x4       | 148.99142 | 234.2444 |\n",
       "| x1 x2 x3       | 265.57414 | 251.0066 |\n",
       "| x1 x3 x5       | 302.49183 | 254.7812 |\n",
       "| x2 x3 x5       | 307.13003 | 255.2225 |\n",
       "| x1 x2 x5       | 307.64097 | 255.2707 |\n",
       "| x1 x2 x3 x4    |  64.07595 | 210.6363 |\n",
       "| x1 x3 x4 x5    |  70.01995 | 213.2089 |\n",
       "| x2 x3 x4 x5    |  73.40470 | 214.5779 |\n",
       "| x1 x2 x4 x5    |  76.53699 | 215.7897 |\n",
       "| x1 x2 x3 x5    | 246.74637 | 249.7367 |\n",
       "| x1 x2 x3 x4 x5 |  61.71045 | 210.3616 |\n",
       "\n"
      ],
      "text/plain": [
       "   predictors     rms       aic     \n",
       "1  x4             146.54442 231.9133\n",
       "2  x1             317.79100 254.3612\n",
       "3  x5             460.62727 265.1259\n",
       "4  x3             517.76634 268.5170\n",
       "5  x2             518.86147 268.5783\n",
       "6  x3 x4           76.82704 214.1313\n",
       "7  x4 x5           97.38368 221.0072\n",
       "8  x1 x4          144.71995 232.4953\n",
       "9  x2 x4          151.96771 233.9125\n",
       "10 x1 x2          299.49752 253.5872\n",
       "11 x1 x3          311.92883 254.7666\n",
       "12 x1 x5          329.32754 256.3407\n",
       "13 x3 x5          344.48819 257.6459\n",
       "14 x2 x5          474.24476 266.9161\n",
       "15 x2 x3          525.13497 269.8721\n",
       "16 x2 x3 x4        71.07929 212.7817\n",
       "17 x1 x3 x4        76.35223 214.8570\n",
       "18 x3 x4 x5        76.78941 215.0226\n",
       "19 x1 x4 x5        77.07606 215.1306\n",
       "20 x2 x4 x5       101.12251 223.0053\n",
       "21 x1 x2 x4       148.99142 234.2444\n",
       "22 x1 x2 x3       265.57414 251.0066\n",
       "23 x1 x3 x5       302.49183 254.7812\n",
       "24 x2 x3 x5       307.13003 255.2225\n",
       "25 x1 x2 x5       307.64097 255.2707\n",
       "26 x1 x2 x3 x4     64.07595 210.6363\n",
       "27 x1 x3 x4 x5     70.01995 213.2089\n",
       "28 x2 x3 x4 x5     73.40470 214.5779\n",
       "29 x1 x2 x4 x5     76.53699 215.7897\n",
       "30 x1 x2 x3 x5    246.74637 249.7367\n",
       "31 x1 x2 x3 x4 x5  61.71045 210.3616"
      ]
     },
     "metadata": {},
     "output_type": "display_data"
    }
   ],
   "source": [
    "(out.all=data.frame(predictors=df.all$predictors,rms=rms,aic=df.all$aic))"
   ]
  },
  {
   "cell_type": "code",
   "execution_count": null,
   "metadata": {
    "vscode": {
     "languageId": "r"
    }
   },
   "outputs": [],
   "source": []
  }
 ],
 "metadata": {
  "kernelspec": {
   "display_name": "R",
   "language": "R",
   "name": "ir"
  },
  "language_info": {
   "codemirror_mode": "r",
   "file_extension": ".r",
   "mimetype": "text/x-r-source",
   "name": "R",
   "pygments_lexer": "r",
   "version": "4.2.1"
  },
  "orig_nbformat": 4,
  "vscode": {
   "interpreter": {
    "hash": "dbd5104f6212b1fc6f64e8e19ae2007e53f3ed0d4bd4f1dbbcdf8e035cfbf35c"
   }
  }
 },
 "nbformat": 4,
 "nbformat_minor": 2
}
