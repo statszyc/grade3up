{
 "cells": [
  {
   "cell_type": "markdown",
   "metadata": {},
   "source": [
    "## 用向前法建立子集回归模型"
   ]
  },
  {
   "cell_type": "markdown",
   "metadata": {},
   "source": [
    "### 源代码如下："
   ]
  },
  {
   "cell_type": "code",
   "execution_count": 1,
   "metadata": {
    "vscode": {
     "languageId": "r"
    }
   },
   "outputs": [],
   "source": [
    "library(xlsx)\n",
    "df<-read.xlsx(\"5-7.xlsx\",1)[,1:6]"
   ]
  },
  {
   "cell_type": "code",
   "execution_count": 2,
   "metadata": {
    "vscode": {
     "languageId": "r"
    }
   },
   "outputs": [
    {
     "data": {
      "text/html": [
       "<table class=\"dataframe\">\n",
       "<caption>A anova: 6 × 6</caption>\n",
       "<thead>\n",
       "\t<tr><th></th><th scope=col>Df</th><th scope=col>Sum of Sq</th><th scope=col>RSS</th><th scope=col>AIC</th><th scope=col>F value</th><th scope=col>Pr(&gt;F)</th></tr>\n",
       "\t<tr><th></th><th scope=col>&lt;dbl&gt;</th><th scope=col>&lt;dbl&gt;</th><th scope=col>&lt;dbl&gt;</th><th scope=col>&lt;dbl&gt;</th><th scope=col>&lt;dbl&gt;</th><th scope=col>&lt;dbl&gt;</th></tr>\n",
       "</thead>\n",
       "<tbody>\n",
       "\t<tr><th scope=row>&lt;none&gt;</th><td>NA</td><td>        NA</td><td>14681.928</td><td>182.5852</td><td>        NA</td><td>          NA</td></tr>\n",
       "\t<tr><th scope=row>x1</th><td> 1</td><td> 5783.7802</td><td> 8898.148</td><td>170.0628</td><td>17.5499512</td><td>2.677828e-04</td></tr>\n",
       "\t<tr><th scope=row>x2</th><td> 1</td><td>  153.8070</td><td>14528.121</td><td>184.2798</td><td> 0.2858449</td><td>5.972713e-01</td></tr>\n",
       "\t<tr><th scope=row>x3</th><td> 1</td><td>  184.4707</td><td>14497.458</td><td>184.2185</td><td> 0.3435574</td><td>5.626514e-01</td></tr>\n",
       "\t<tr><th scope=row>x4</th><td> 1</td><td>10578.6846</td><td> 4103.244</td><td>147.6149</td><td>69.6094369</td><td>5.935009e-09</td></tr>\n",
       "\t<tr><th scope=row>x5</th><td> 1</td><td> 1784.3647</td><td>12897.564</td><td>180.8274</td><td> 3.7354222</td><td>6.382273e-02</td></tr>\n",
       "</tbody>\n",
       "</table>\n"
      ],
      "text/latex": [
       "A anova: 6 × 6\n",
       "\\begin{tabular}{r|llllll}\n",
       "  & Df & Sum of Sq & RSS & AIC & F value & Pr(>F)\\\\\n",
       "  & <dbl> & <dbl> & <dbl> & <dbl> & <dbl> & <dbl>\\\\\n",
       "\\hline\n",
       "\t<none> & NA &         NA & 14681.928 & 182.5852 &         NA &           NA\\\\\n",
       "\tx1 &  1 &  5783.7802 &  8898.148 & 170.0628 & 17.5499512 & 2.677828e-04\\\\\n",
       "\tx2 &  1 &   153.8070 & 14528.121 & 184.2798 &  0.2858449 & 5.972713e-01\\\\\n",
       "\tx3 &  1 &   184.4707 & 14497.458 & 184.2185 &  0.3435574 & 5.626514e-01\\\\\n",
       "\tx4 &  1 & 10578.6846 &  4103.244 & 147.6149 & 69.6094369 & 5.935009e-09\\\\\n",
       "\tx5 &  1 &  1784.3647 & 12897.564 & 180.8274 &  3.7354222 & 6.382273e-02\\\\\n",
       "\\end{tabular}\n"
      ],
      "text/markdown": [
       "\n",
       "A anova: 6 × 6\n",
       "\n",
       "| <!--/--> | Df &lt;dbl&gt; | Sum of Sq &lt;dbl&gt; | RSS &lt;dbl&gt; | AIC &lt;dbl&gt; | F value &lt;dbl&gt; | Pr(&gt;F) &lt;dbl&gt; |\n",
       "|---|---|---|---|---|---|---|\n",
       "| &lt;none&gt; | NA |         NA | 14681.928 | 182.5852 |         NA |           NA |\n",
       "| x1 |  1 |  5783.7802 |  8898.148 | 170.0628 | 17.5499512 | 2.677828e-04 |\n",
       "| x2 |  1 |   153.8070 | 14528.121 | 184.2798 |  0.2858449 | 5.972713e-01 |\n",
       "| x3 |  1 |   184.4707 | 14497.458 | 184.2185 |  0.3435574 | 5.626514e-01 |\n",
       "| x4 |  1 | 10578.6846 |  4103.244 | 147.6149 | 69.6094369 | 5.935009e-09 |\n",
       "| x5 |  1 |  1784.3647 | 12897.564 | 180.8274 |  3.7354222 | 6.382273e-02 |\n",
       "\n"
      ],
      "text/plain": [
       "       Df Sum of Sq  RSS       AIC      F value    Pr(>F)      \n",
       "<none> NA         NA 14681.928 182.5852         NA           NA\n",
       "x1      1  5783.7802  8898.148 170.0628 17.5499512 2.677828e-04\n",
       "x2      1   153.8070 14528.121 184.2798  0.2858449 5.972713e-01\n",
       "x3      1   184.4707 14497.458 184.2185  0.3435574 5.626514e-01\n",
       "x4      1 10578.6846  4103.244 147.6149 69.6094369 5.935009e-09\n",
       "x5      1  1784.3647 12897.564 180.8274  3.7354222 6.382273e-02"
      ]
     },
     "metadata": {},
     "output_type": "display_data"
    }
   ],
   "source": [
    "lm.0<-lm(y~1,data=df)\n",
    "# summary(lm.0)\n",
    "add1(lm.0,scope=.~.+x1+x2+x3+x4+x5,test=\"F\")"
   ]
  },
  {
   "cell_type": "code",
   "execution_count": 3,
   "metadata": {
    "vscode": {
     "languageId": "r"
    }
   },
   "outputs": [],
   "source": [
    "lm.1<- update(lm.0,formula=.~.+x4)\n",
    "# summary(lm.1)"
   ]
  },
  {
   "cell_type": "code",
   "execution_count": 4,
   "metadata": {
    "vscode": {
     "languageId": "r"
    }
   },
   "outputs": [
    {
     "data": {
      "text/html": [
       "<table class=\"dataframe\">\n",
       "<caption>A anova: 5 × 6</caption>\n",
       "<thead>\n",
       "\t<tr><th></th><th scope=col>Df</th><th scope=col>Sum of Sq</th><th scope=col>RSS</th><th scope=col>AIC</th><th scope=col>F value</th><th scope=col>Pr(&gt;F)</th></tr>\n",
       "\t<tr><th></th><th scope=col>&lt;dbl&gt;</th><th scope=col>&lt;dbl&gt;</th><th scope=col>&lt;dbl&gt;</th><th scope=col>&lt;dbl&gt;</th><th scope=col>&lt;dbl&gt;</th><th scope=col>&lt;dbl&gt;</th></tr>\n",
       "</thead>\n",
       "<tbody>\n",
       "\t<tr><th scope=row>&lt;none&gt;</th><td>NA</td><td>          NA</td><td>4103.244</td><td>147.6149</td><td>          NA</td><td>          NA</td></tr>\n",
       "\t<tr><th scope=row>x1</th><td> 1</td><td> 195.8051638</td><td>3907.439</td><td>148.1969</td><td>1.302883e+00</td><td>2.640916e-01</td></tr>\n",
       "\t<tr><th scope=row>x2</th><td> 1</td><td>   0.1154703</td><td>4103.128</td><td>149.6141</td><td>7.316922e-04</td><td>9.786266e-01</td></tr>\n",
       "\t<tr><th scope=row>x3</th><td> 1</td><td>2028.9136301</td><td>2074.330</td><td>129.8328</td><td>2.543074e+01</td><td>3.001027e-05</td></tr>\n",
       "\t<tr><th scope=row>x5</th><td> 1</td><td>1473.8844079</td><td>2629.359</td><td>136.7088</td><td>1.457427e+01</td><td>7.508875e-04</td></tr>\n",
       "</tbody>\n",
       "</table>\n"
      ],
      "text/latex": [
       "A anova: 5 × 6\n",
       "\\begin{tabular}{r|llllll}\n",
       "  & Df & Sum of Sq & RSS & AIC & F value & Pr(>F)\\\\\n",
       "  & <dbl> & <dbl> & <dbl> & <dbl> & <dbl> & <dbl>\\\\\n",
       "\\hline\n",
       "\t<none> & NA &           NA & 4103.244 & 147.6149 &           NA &           NA\\\\\n",
       "\tx1 &  1 &  195.8051638 & 3907.439 & 148.1969 & 1.302883e+00 & 2.640916e-01\\\\\n",
       "\tx2 &  1 &    0.1154703 & 4103.128 & 149.6141 & 7.316922e-04 & 9.786266e-01\\\\\n",
       "\tx3 &  1 & 2028.9136301 & 2074.330 & 129.8328 & 2.543074e+01 & 3.001027e-05\\\\\n",
       "\tx5 &  1 & 1473.8844079 & 2629.359 & 136.7088 & 1.457427e+01 & 7.508875e-04\\\\\n",
       "\\end{tabular}\n"
      ],
      "text/markdown": [
       "\n",
       "A anova: 5 × 6\n",
       "\n",
       "| <!--/--> | Df &lt;dbl&gt; | Sum of Sq &lt;dbl&gt; | RSS &lt;dbl&gt; | AIC &lt;dbl&gt; | F value &lt;dbl&gt; | Pr(&gt;F) &lt;dbl&gt; |\n",
       "|---|---|---|---|---|---|---|\n",
       "| &lt;none&gt; | NA |           NA | 4103.244 | 147.6149 |           NA |           NA |\n",
       "| x1 |  1 |  195.8051638 | 3907.439 | 148.1969 | 1.302883e+00 | 2.640916e-01 |\n",
       "| x2 |  1 |    0.1154703 | 4103.128 | 149.6141 | 7.316922e-04 | 9.786266e-01 |\n",
       "| x3 |  1 | 2028.9136301 | 2074.330 | 129.8328 | 2.543074e+01 | 3.001027e-05 |\n",
       "| x5 |  1 | 1473.8844079 | 2629.359 | 136.7088 | 1.457427e+01 | 7.508875e-04 |\n",
       "\n"
      ],
      "text/plain": [
       "       Df Sum of Sq    RSS      AIC      F value      Pr(>F)      \n",
       "<none> NA           NA 4103.244 147.6149           NA           NA\n",
       "x1      1  195.8051638 3907.439 148.1969 1.302883e+00 2.640916e-01\n",
       "x2      1    0.1154703 4103.128 149.6141 7.316922e-04 9.786266e-01\n",
       "x3      1 2028.9136301 2074.330 129.8328 2.543074e+01 3.001027e-05\n",
       "x5      1 1473.8844079 2629.359 136.7088 1.457427e+01 7.508875e-04"
      ]
     },
     "metadata": {},
     "output_type": "display_data"
    }
   ],
   "source": [
    "add1(lm.1,scope=.~.+x1+x2+x3+x4+x5,test=\"F\")"
   ]
  },
  {
   "cell_type": "code",
   "execution_count": 5,
   "metadata": {
    "vscode": {
     "languageId": "r"
    }
   },
   "outputs": [],
   "source": [
    "lm.2<- update(lm.1,formula=.~.+x3)\n",
    "# summary(lm.2)"
   ]
  },
  {
   "cell_type": "code",
   "execution_count": 6,
   "metadata": {
    "vscode": {
     "languageId": "r"
    }
   },
   "outputs": [
    {
     "data": {
      "text/html": [
       "<table class=\"dataframe\">\n",
       "<caption>A anova: 4 × 6</caption>\n",
       "<thead>\n",
       "\t<tr><th></th><th scope=col>Df</th><th scope=col>Sum of Sq</th><th scope=col>RSS</th><th scope=col>AIC</th><th scope=col>F value</th><th scope=col>Pr(&gt;F)</th></tr>\n",
       "\t<tr><th></th><th scope=col>&lt;dbl&gt;</th><th scope=col>&lt;dbl&gt;</th><th scope=col>&lt;dbl&gt;</th><th scope=col>&lt;dbl&gt;</th><th scope=col>&lt;dbl&gt;</th><th scope=col>&lt;dbl&gt;</th></tr>\n",
       "</thead>\n",
       "<tbody>\n",
       "\t<tr><th scope=row>&lt;none&gt;</th><td>NA</td><td>       NA</td><td>2074.330</td><td>129.8328</td><td>       NA</td><td>        NA</td></tr>\n",
       "\t<tr><th scope=row>x1</th><td> 1</td><td> 89.17209</td><td>1985.158</td><td>130.5586</td><td>1.1229848</td><td>0.29940822</td></tr>\n",
       "\t<tr><th scope=row>x2</th><td> 1</td><td>226.26853</td><td>1848.062</td><td>128.4833</td><td>3.0608900</td><td>0.09246551</td></tr>\n",
       "\t<tr><th scope=row>x5</th><td> 1</td><td> 77.80531</td><td>1996.525</td><td>130.7242</td><td>0.9742592</td><td>0.33307753</td></tr>\n",
       "</tbody>\n",
       "</table>\n"
      ],
      "text/latex": [
       "A anova: 4 × 6\n",
       "\\begin{tabular}{r|llllll}\n",
       "  & Df & Sum of Sq & RSS & AIC & F value & Pr(>F)\\\\\n",
       "  & <dbl> & <dbl> & <dbl> & <dbl> & <dbl> & <dbl>\\\\\n",
       "\\hline\n",
       "\t<none> & NA &        NA & 2074.330 & 129.8328 &        NA &         NA\\\\\n",
       "\tx1 &  1 &  89.17209 & 1985.158 & 130.5586 & 1.1229848 & 0.29940822\\\\\n",
       "\tx2 &  1 & 226.26853 & 1848.062 & 128.4833 & 3.0608900 & 0.09246551\\\\\n",
       "\tx5 &  1 &  77.80531 & 1996.525 & 130.7242 & 0.9742592 & 0.33307753\\\\\n",
       "\\end{tabular}\n"
      ],
      "text/markdown": [
       "\n",
       "A anova: 4 × 6\n",
       "\n",
       "| <!--/--> | Df &lt;dbl&gt; | Sum of Sq &lt;dbl&gt; | RSS &lt;dbl&gt; | AIC &lt;dbl&gt; | F value &lt;dbl&gt; | Pr(&gt;F) &lt;dbl&gt; |\n",
       "|---|---|---|---|---|---|---|\n",
       "| &lt;none&gt; | NA |        NA | 2074.330 | 129.8328 |        NA |         NA |\n",
       "| x1 |  1 |  89.17209 | 1985.158 | 130.5586 | 1.1229848 | 0.29940822 |\n",
       "| x2 |  1 | 226.26853 | 1848.062 | 128.4833 | 3.0608900 | 0.09246551 |\n",
       "| x5 |  1 |  77.80531 | 1996.525 | 130.7242 | 0.9742592 | 0.33307753 |\n",
       "\n"
      ],
      "text/plain": [
       "       Df Sum of Sq RSS      AIC      F value   Pr(>F)    \n",
       "<none> NA        NA 2074.330 129.8328        NA         NA\n",
       "x1      1  89.17209 1985.158 130.5586 1.1229848 0.29940822\n",
       "x2      1 226.26853 1848.062 128.4833 3.0608900 0.09246551\n",
       "x5      1  77.80531 1996.525 130.7242 0.9742592 0.33307753"
      ]
     },
     "metadata": {},
     "output_type": "display_data"
    }
   ],
   "source": [
    "add1(lm.2,scope=.~.+x1+x2+x3+x4+x5,test=\"F\")"
   ]
  },
  {
   "cell_type": "markdown",
   "metadata": {},
   "source": [
    "### 统计分析：\n",
    "\n",
    "每步在未进入模型的变量中挑选一个加入模型并建立回归模型，对新加入的变量进行F检验；对每一个变量都这样做，得到一系列F检验值。如果有变量通过了显著性检验，则在通过了显著性检验的变量中挑选F值最大的变量加入模型，再重复上面步骤；否则，终止算法。\n",
    "\n",
    "上面各表的最后一列是p值，p值小于0.05代表该变量是显著的。如上各表：第一个表中变量$x_1,x_4$通过了显著性检验，且$x_4$的F值最大，于是引入$x_4$。第二张表中变量$x_3,x_5$通过了显著性检验，且$x_3$的F值最大，于是引入$x_3$。第三张表中没有变量通过显著性检验，则终止算法。\n",
    "\n",
    "F检验统计量为：\n",
    "\n",
    "$$F_{in}(i)=(n-q-1)\\frac{\\hat{\\beta}_i^2(x_i'N_qx_i)}{RSS_{q+1}}$$\n",
    "\n",
    "其中，$N_q=I-X_q(X_q'X_q)^{-1}X_q'$"
   ]
  },
  {
   "cell_type": "markdown",
   "metadata": {},
   "source": [
    "## 用逐步回归法建立子集回归模型"
   ]
  },
  {
   "cell_type": "code",
   "execution_count": 7,
   "metadata": {
    "vscode": {
     "languageId": "r"
    }
   },
   "outputs": [],
   "source": [
    "library(xlsx)\n",
    "df<-read.xlsx(\"5-7.xlsx\",1)[,1:6]"
   ]
  },
  {
   "cell_type": "code",
   "execution_count": 8,
   "metadata": {
    "vscode": {
     "languageId": "r"
    }
   },
   "outputs": [
    {
     "data": {
      "text/html": [
       "<table class=\"dataframe\">\n",
       "<caption>A anova: 6 × 6</caption>\n",
       "<thead>\n",
       "\t<tr><th></th><th scope=col>Df</th><th scope=col>Sum of Sq</th><th scope=col>RSS</th><th scope=col>AIC</th><th scope=col>F value</th><th scope=col>Pr(&gt;F)</th></tr>\n",
       "\t<tr><th></th><th scope=col>&lt;dbl&gt;</th><th scope=col>&lt;dbl&gt;</th><th scope=col>&lt;dbl&gt;</th><th scope=col>&lt;dbl&gt;</th><th scope=col>&lt;dbl&gt;</th><th scope=col>&lt;dbl&gt;</th></tr>\n",
       "</thead>\n",
       "<tbody>\n",
       "\t<tr><th scope=row>&lt;none&gt;</th><td>NA</td><td>        NA</td><td>14681.928</td><td>182.5852</td><td>        NA</td><td>          NA</td></tr>\n",
       "\t<tr><th scope=row>x1</th><td> 1</td><td> 5783.7802</td><td> 8898.148</td><td>170.0628</td><td>17.5499512</td><td>2.677828e-04</td></tr>\n",
       "\t<tr><th scope=row>x2</th><td> 1</td><td>  153.8070</td><td>14528.121</td><td>184.2798</td><td> 0.2858449</td><td>5.972713e-01</td></tr>\n",
       "\t<tr><th scope=row>x3</th><td> 1</td><td>  184.4707</td><td>14497.458</td><td>184.2185</td><td> 0.3435574</td><td>5.626514e-01</td></tr>\n",
       "\t<tr><th scope=row>x4</th><td> 1</td><td>10578.6846</td><td> 4103.244</td><td>147.6149</td><td>69.6094369</td><td>5.935009e-09</td></tr>\n",
       "\t<tr><th scope=row>x5</th><td> 1</td><td> 1784.3647</td><td>12897.564</td><td>180.8274</td><td> 3.7354222</td><td>6.382273e-02</td></tr>\n",
       "</tbody>\n",
       "</table>\n"
      ],
      "text/latex": [
       "A anova: 6 × 6\n",
       "\\begin{tabular}{r|llllll}\n",
       "  & Df & Sum of Sq & RSS & AIC & F value & Pr(>F)\\\\\n",
       "  & <dbl> & <dbl> & <dbl> & <dbl> & <dbl> & <dbl>\\\\\n",
       "\\hline\n",
       "\t<none> & NA &         NA & 14681.928 & 182.5852 &         NA &           NA\\\\\n",
       "\tx1 &  1 &  5783.7802 &  8898.148 & 170.0628 & 17.5499512 & 2.677828e-04\\\\\n",
       "\tx2 &  1 &   153.8070 & 14528.121 & 184.2798 &  0.2858449 & 5.972713e-01\\\\\n",
       "\tx3 &  1 &   184.4707 & 14497.458 & 184.2185 &  0.3435574 & 5.626514e-01\\\\\n",
       "\tx4 &  1 & 10578.6846 &  4103.244 & 147.6149 & 69.6094369 & 5.935009e-09\\\\\n",
       "\tx5 &  1 &  1784.3647 & 12897.564 & 180.8274 &  3.7354222 & 6.382273e-02\\\\\n",
       "\\end{tabular}\n"
      ],
      "text/markdown": [
       "\n",
       "A anova: 6 × 6\n",
       "\n",
       "| <!--/--> | Df &lt;dbl&gt; | Sum of Sq &lt;dbl&gt; | RSS &lt;dbl&gt; | AIC &lt;dbl&gt; | F value &lt;dbl&gt; | Pr(&gt;F) &lt;dbl&gt; |\n",
       "|---|---|---|---|---|---|---|\n",
       "| &lt;none&gt; | NA |         NA | 14681.928 | 182.5852 |         NA |           NA |\n",
       "| x1 |  1 |  5783.7802 |  8898.148 | 170.0628 | 17.5499512 | 2.677828e-04 |\n",
       "| x2 |  1 |   153.8070 | 14528.121 | 184.2798 |  0.2858449 | 5.972713e-01 |\n",
       "| x3 |  1 |   184.4707 | 14497.458 | 184.2185 |  0.3435574 | 5.626514e-01 |\n",
       "| x4 |  1 | 10578.6846 |  4103.244 | 147.6149 | 69.6094369 | 5.935009e-09 |\n",
       "| x5 |  1 |  1784.3647 | 12897.564 | 180.8274 |  3.7354222 | 6.382273e-02 |\n",
       "\n"
      ],
      "text/plain": [
       "       Df Sum of Sq  RSS       AIC      F value    Pr(>F)      \n",
       "<none> NA         NA 14681.928 182.5852         NA           NA\n",
       "x1      1  5783.7802  8898.148 170.0628 17.5499512 2.677828e-04\n",
       "x2      1   153.8070 14528.121 184.2798  0.2858449 5.972713e-01\n",
       "x3      1   184.4707 14497.458 184.2185  0.3435574 5.626514e-01\n",
       "x4      1 10578.6846  4103.244 147.6149 69.6094369 5.935009e-09\n",
       "x5      1  1784.3647 12897.564 180.8274  3.7354222 6.382273e-02"
      ]
     },
     "metadata": {},
     "output_type": "display_data"
    }
   ],
   "source": [
    "lm.0<-lm(y~1,data=df)\n",
    "add1(lm.0,scope=.~.+x1+x2+x3+x4+x5,test=\"F\")"
   ]
  },
  {
   "cell_type": "code",
   "execution_count": 10,
   "metadata": {
    "vscode": {
     "languageId": "r"
    }
   },
   "outputs": [],
   "source": [
    "lm.1<- update(lm.0,formula=.~.+x4)"
   ]
  },
  {
   "cell_type": "code",
   "execution_count": 11,
   "metadata": {
    "vscode": {
     "languageId": "r"
    }
   },
   "outputs": [
    {
     "data": {
      "text/plain": [
       "\n",
       "Call:\n",
       "lm(formula = y ~ x4, data = df)\n",
       "\n",
       "Residuals:\n",
       "     Min       1Q   Median       3Q      Max \n",
       "-26.2487  -4.5029   0.5202   7.9093  24.5080 \n",
       "\n",
       "Coefficients:\n",
       "            Estimate Std. Error t value Pr(>|t|)    \n",
       "(Intercept)  607.103     42.906  14.150 5.24e-14 ***\n",
       "x4           -21.402      2.565  -8.343 5.94e-09 ***\n",
       "---\n",
       "Signif. codes:  0 '***' 0.001 '**' 0.01 '*' 0.05 '.' 0.1 ' ' 1\n",
       "\n",
       "Residual standard error: 12.33 on 27 degrees of freedom\n",
       "Multiple R-squared:  0.7205,\tAdjusted R-squared:  0.7102 \n",
       "F-statistic: 69.61 on 1 and 27 DF,  p-value: 5.935e-09\n"
      ]
     },
     "metadata": {},
     "output_type": "display_data"
    }
   ],
   "source": [
    "summary(lm.1)"
   ]
  },
  {
   "cell_type": "code",
   "execution_count": 12,
   "metadata": {
    "vscode": {
     "languageId": "r"
    }
   },
   "outputs": [
    {
     "data": {
      "text/html": [
       "<table class=\"dataframe\">\n",
       "<caption>A anova: 5 × 6</caption>\n",
       "<thead>\n",
       "\t<tr><th></th><th scope=col>Df</th><th scope=col>Sum of Sq</th><th scope=col>RSS</th><th scope=col>AIC</th><th scope=col>F value</th><th scope=col>Pr(&gt;F)</th></tr>\n",
       "\t<tr><th></th><th scope=col>&lt;dbl&gt;</th><th scope=col>&lt;dbl&gt;</th><th scope=col>&lt;dbl&gt;</th><th scope=col>&lt;dbl&gt;</th><th scope=col>&lt;dbl&gt;</th><th scope=col>&lt;dbl&gt;</th></tr>\n",
       "</thead>\n",
       "<tbody>\n",
       "\t<tr><th scope=row>&lt;none&gt;</th><td>NA</td><td>          NA</td><td>4103.244</td><td>147.6149</td><td>          NA</td><td>          NA</td></tr>\n",
       "\t<tr><th scope=row>x1</th><td> 1</td><td> 195.8051638</td><td>3907.439</td><td>148.1969</td><td>1.302883e+00</td><td>2.640916e-01</td></tr>\n",
       "\t<tr><th scope=row>x2</th><td> 1</td><td>   0.1154703</td><td>4103.128</td><td>149.6141</td><td>7.316922e-04</td><td>9.786266e-01</td></tr>\n",
       "\t<tr><th scope=row>x3</th><td> 1</td><td>2028.9136301</td><td>2074.330</td><td>129.8328</td><td>2.543074e+01</td><td>3.001027e-05</td></tr>\n",
       "\t<tr><th scope=row>x5</th><td> 1</td><td>1473.8844079</td><td>2629.359</td><td>136.7088</td><td>1.457427e+01</td><td>7.508875e-04</td></tr>\n",
       "</tbody>\n",
       "</table>\n"
      ],
      "text/latex": [
       "A anova: 5 × 6\n",
       "\\begin{tabular}{r|llllll}\n",
       "  & Df & Sum of Sq & RSS & AIC & F value & Pr(>F)\\\\\n",
       "  & <dbl> & <dbl> & <dbl> & <dbl> & <dbl> & <dbl>\\\\\n",
       "\\hline\n",
       "\t<none> & NA &           NA & 4103.244 & 147.6149 &           NA &           NA\\\\\n",
       "\tx1 &  1 &  195.8051638 & 3907.439 & 148.1969 & 1.302883e+00 & 2.640916e-01\\\\\n",
       "\tx2 &  1 &    0.1154703 & 4103.128 & 149.6141 & 7.316922e-04 & 9.786266e-01\\\\\n",
       "\tx3 &  1 & 2028.9136301 & 2074.330 & 129.8328 & 2.543074e+01 & 3.001027e-05\\\\\n",
       "\tx5 &  1 & 1473.8844079 & 2629.359 & 136.7088 & 1.457427e+01 & 7.508875e-04\\\\\n",
       "\\end{tabular}\n"
      ],
      "text/markdown": [
       "\n",
       "A anova: 5 × 6\n",
       "\n",
       "| <!--/--> | Df &lt;dbl&gt; | Sum of Sq &lt;dbl&gt; | RSS &lt;dbl&gt; | AIC &lt;dbl&gt; | F value &lt;dbl&gt; | Pr(&gt;F) &lt;dbl&gt; |\n",
       "|---|---|---|---|---|---|---|\n",
       "| &lt;none&gt; | NA |           NA | 4103.244 | 147.6149 |           NA |           NA |\n",
       "| x1 |  1 |  195.8051638 | 3907.439 | 148.1969 | 1.302883e+00 | 2.640916e-01 |\n",
       "| x2 |  1 |    0.1154703 | 4103.128 | 149.6141 | 7.316922e-04 | 9.786266e-01 |\n",
       "| x3 |  1 | 2028.9136301 | 2074.330 | 129.8328 | 2.543074e+01 | 3.001027e-05 |\n",
       "| x5 |  1 | 1473.8844079 | 2629.359 | 136.7088 | 1.457427e+01 | 7.508875e-04 |\n",
       "\n"
      ],
      "text/plain": [
       "       Df Sum of Sq    RSS      AIC      F value      Pr(>F)      \n",
       "<none> NA           NA 4103.244 147.6149           NA           NA\n",
       "x1      1  195.8051638 3907.439 148.1969 1.302883e+00 2.640916e-01\n",
       "x2      1    0.1154703 4103.128 149.6141 7.316922e-04 9.786266e-01\n",
       "x3      1 2028.9136301 2074.330 129.8328 2.543074e+01 3.001027e-05\n",
       "x5      1 1473.8844079 2629.359 136.7088 1.457427e+01 7.508875e-04"
      ]
     },
     "metadata": {},
     "output_type": "display_data"
    }
   ],
   "source": [
    "add1(lm.1,scope=.~.+x1+x2+x3+x4+x5,test=\"F\")"
   ]
  },
  {
   "cell_type": "code",
   "execution_count": 13,
   "metadata": {
    "vscode": {
     "languageId": "r"
    }
   },
   "outputs": [],
   "source": [
    "lm.2<- update(lm.1,formula=.~.+x3)"
   ]
  },
  {
   "cell_type": "code",
   "execution_count": 14,
   "metadata": {
    "vscode": {
     "languageId": "r"
    }
   },
   "outputs": [
    {
     "data": {
      "text/plain": [
       "\n",
       "Call:\n",
       "lm(formula = y ~ x4 + x3, data = df)\n",
       "\n",
       "Residuals:\n",
       "     Min       1Q   Median       3Q      Max \n",
       "-15.2773  -3.5636  -0.9829   4.8435  23.5852 \n",
       "\n",
       "Coefficients:\n",
       "            Estimate Std. Error t value Pr(>|t|)    \n",
       "(Intercept) 483.6703    39.5671  12.224 2.78e-12 ***\n",
       "x4          -24.2150     1.9405 -12.479 1.75e-12 ***\n",
       "x3            4.7963     0.9511   5.043 3.00e-05 ***\n",
       "---\n",
       "Signif. codes:  0 '***' 0.001 '**' 0.01 '*' 0.05 '.' 0.1 ' ' 1\n",
       "\n",
       "Residual standard error: 8.932 on 26 degrees of freedom\n",
       "Multiple R-squared:  0.8587,\tAdjusted R-squared:  0.8478 \n",
       "F-statistic: 79.01 on 2 and 26 DF,  p-value: 8.938e-12\n"
      ]
     },
     "metadata": {},
     "output_type": "display_data"
    }
   ],
   "source": [
    "summary(lm.2)"
   ]
  },
  {
   "cell_type": "code",
   "execution_count": 15,
   "metadata": {
    "vscode": {
     "languageId": "r"
    }
   },
   "outputs": [
    {
     "data": {
      "text/html": [
       "<table class=\"dataframe\">\n",
       "<caption>A anova: 4 × 6</caption>\n",
       "<thead>\n",
       "\t<tr><th></th><th scope=col>Df</th><th scope=col>Sum of Sq</th><th scope=col>RSS</th><th scope=col>AIC</th><th scope=col>F value</th><th scope=col>Pr(&gt;F)</th></tr>\n",
       "\t<tr><th></th><th scope=col>&lt;dbl&gt;</th><th scope=col>&lt;dbl&gt;</th><th scope=col>&lt;dbl&gt;</th><th scope=col>&lt;dbl&gt;</th><th scope=col>&lt;dbl&gt;</th><th scope=col>&lt;dbl&gt;</th></tr>\n",
       "</thead>\n",
       "<tbody>\n",
       "\t<tr><th scope=row>&lt;none&gt;</th><td>NA</td><td>       NA</td><td>2074.330</td><td>129.8328</td><td>       NA</td><td>        NA</td></tr>\n",
       "\t<tr><th scope=row>x1</th><td> 1</td><td> 89.17209</td><td>1985.158</td><td>130.5586</td><td>1.1229848</td><td>0.29940822</td></tr>\n",
       "\t<tr><th scope=row>x2</th><td> 1</td><td>226.26853</td><td>1848.062</td><td>128.4833</td><td>3.0608900</td><td>0.09246551</td></tr>\n",
       "\t<tr><th scope=row>x5</th><td> 1</td><td> 77.80531</td><td>1996.525</td><td>130.7242</td><td>0.9742592</td><td>0.33307753</td></tr>\n",
       "</tbody>\n",
       "</table>\n"
      ],
      "text/latex": [
       "A anova: 4 × 6\n",
       "\\begin{tabular}{r|llllll}\n",
       "  & Df & Sum of Sq & RSS & AIC & F value & Pr(>F)\\\\\n",
       "  & <dbl> & <dbl> & <dbl> & <dbl> & <dbl> & <dbl>\\\\\n",
       "\\hline\n",
       "\t<none> & NA &        NA & 2074.330 & 129.8328 &        NA &         NA\\\\\n",
       "\tx1 &  1 &  89.17209 & 1985.158 & 130.5586 & 1.1229848 & 0.29940822\\\\\n",
       "\tx2 &  1 & 226.26853 & 1848.062 & 128.4833 & 3.0608900 & 0.09246551\\\\\n",
       "\tx5 &  1 &  77.80531 & 1996.525 & 130.7242 & 0.9742592 & 0.33307753\\\\\n",
       "\\end{tabular}\n"
      ],
      "text/markdown": [
       "\n",
       "A anova: 4 × 6\n",
       "\n",
       "| <!--/--> | Df &lt;dbl&gt; | Sum of Sq &lt;dbl&gt; | RSS &lt;dbl&gt; | AIC &lt;dbl&gt; | F value &lt;dbl&gt; | Pr(&gt;F) &lt;dbl&gt; |\n",
       "|---|---|---|---|---|---|---|\n",
       "| &lt;none&gt; | NA |        NA | 2074.330 | 129.8328 |        NA |         NA |\n",
       "| x1 |  1 |  89.17209 | 1985.158 | 130.5586 | 1.1229848 | 0.29940822 |\n",
       "| x2 |  1 | 226.26853 | 1848.062 | 128.4833 | 3.0608900 | 0.09246551 |\n",
       "| x5 |  1 |  77.80531 | 1996.525 | 130.7242 | 0.9742592 | 0.33307753 |\n",
       "\n"
      ],
      "text/plain": [
       "       Df Sum of Sq RSS      AIC      F value   Pr(>F)    \n",
       "<none> NA        NA 2074.330 129.8328        NA         NA\n",
       "x1      1  89.17209 1985.158 130.5586 1.1229848 0.29940822\n",
       "x2      1 226.26853 1848.062 128.4833 3.0608900 0.09246551\n",
       "x5      1  77.80531 1996.525 130.7242 0.9742592 0.33307753"
      ]
     },
     "metadata": {},
     "output_type": "display_data"
    }
   ],
   "source": [
    "add1(lm.2,scope=.~.+x1+x2+x3+x4+x5,test=\"F\")"
   ]
  },
  {
   "cell_type": "markdown",
   "metadata": {},
   "source": [
    "### 统计分析：\n",
    "“引入”、“剔除”两步骤循环进行，直到达到终止条件：\n",
    "\n",
    "“引入”步骤是：在未进入模型的变量中挑选一个加入模型并建立回归模型，对新加入的变量进行F检验；对每一个变量都这样做，得到一系列F检验值。如果有变量通过了显著性检验，则在通过了显著性检验的变量中挑选F值最大的变量加入模型，转入“剔除”步骤；否则，终止算法。\n",
    "\n",
    "“剔除”步骤是：对已经引入模型的变量做显著性检验，若变量全部通过显著性检验，则转“引入”步骤；若有变量未通过显著性检验，则剔除F值最小的变量，对剩下变量重新建立回归模型，重复“剔除”步骤。\n",
    "\n",
    "上面各表的最后一列是p值，p值小于0.05代表该变量是显著的。如上各表：第一次“引入”中变量$x_1,x_4$通过了显著性检验，且$x_4$的F值最大，于是引入$x_4$。用summary函数对模型lm.1中各变量做F检验，均通过显著性检验。第二次“引入”中变量$x_3,x_5$通过了显著性检验，且$x_3$的F值最大，于是引入$x_3$。用summary函数对模型lm.2中各变量做F检验，均通过显著性检验。第三次“引入”中没有变量通过显著性检验，则终止算法。\n",
    "\n",
    "“引入”步骤的F检验统计量为：\n",
    "\n",
    "$$F_{in}(i)=(n-q-1)\\frac{\\hat{\\beta}_i^2(x_i'N_qx_i)}{RSS_{q+1}}$$\n",
    "\n",
    "其中，$N_q=I-X_q(X_q'X_q)^{-1}X_q'$\n",
    "\n",
    "“剔除”步骤的F检验统计量为：\n",
    "\n",
    "$$F_{out}(i)=(n-q-1)\\frac{\\hat{\\beta}_i^2(x_i'N_ix_i)}{RSS_{q+1}}$$\n",
    "\n",
    "其中，$N_i=I-X_{(i)}(X_{(i)}'X_{(i)})^{-1}X_{(i)}'$，$X_{(i)}=(1_n,x_1,\\cdots,x_{i-1},x_{i+1},\\cdots,x_q)$\n"
   ]
  },
  {
   "cell_type": "markdown",
   "metadata": {},
   "source": [
    "## 所有子集回归"
   ]
  },
  {
   "cell_type": "markdown",
   "metadata": {},
   "source": [
    "### 源代码如下："
   ]
  },
  {
   "cell_type": "code",
   "execution_count": 19,
   "metadata": {
    "vscode": {
     "languageId": "r"
    }
   },
   "outputs": [
    {
     "name": "stderr",
     "output_type": "stream",
     "text": [
      "Warning message:\n",
      "\"package 'olsrr' was built under R version 4.2.2\"\n",
      "\n",
      "Attaching package: 'olsrr'\n",
      "\n",
      "\n",
      "The following object is masked from 'package:datasets':\n",
      "\n",
      "    rivers\n",
      "\n",
      "\n"
     ]
    }
   ],
   "source": [
    "library(olsrr)\n",
    "lm.all<-lm(y~.,data=df)\n",
    "df.all=ols_step_all_possible(lm.all)\n",
    "N=29\n",
    "sst=sum((df$y-mean(df$y))^2)\n",
    "rms=(sst*(1-df.all$rsquare))/(N-df.all$n)"
   ]
  },
  {
   "cell_type": "code",
   "execution_count": 24,
   "metadata": {
    "vscode": {
     "languageId": "r"
    }
   },
   "outputs": [
    {
     "data": {
      "text/html": [
       "<table class=\"dataframe\">\n",
       "<caption>A data.frame: 31 × 3</caption>\n",
       "<thead>\n",
       "\t<tr><th scope=col>predictors</th><th scope=col>RMS</th><th scope=col>AIC</th></tr>\n",
       "\t<tr><th scope=col>&lt;chr&gt;</th><th scope=col>&lt;dbl&gt;</th><th scope=col>&lt;dbl&gt;</th></tr>\n",
       "</thead>\n",
       "<tbody>\n",
       "\t<tr><td>x4            </td><td>146.54442</td><td>231.9133</td></tr>\n",
       "\t<tr><td>x1            </td><td>317.79100</td><td>254.3612</td></tr>\n",
       "\t<tr><td>x5            </td><td>460.62727</td><td>265.1259</td></tr>\n",
       "\t<tr><td>x3            </td><td>517.76634</td><td>268.5170</td></tr>\n",
       "\t<tr><td>x2            </td><td>518.86147</td><td>268.5783</td></tr>\n",
       "\t<tr><td>x3 x4         </td><td> 76.82704</td><td>214.1313</td></tr>\n",
       "\t<tr><td>x4 x5         </td><td> 97.38368</td><td>221.0072</td></tr>\n",
       "\t<tr><td>x1 x4         </td><td>144.71995</td><td>232.4953</td></tr>\n",
       "\t<tr><td>x2 x4         </td><td>151.96771</td><td>233.9125</td></tr>\n",
       "\t<tr><td>x1 x2         </td><td>299.49752</td><td>253.5872</td></tr>\n",
       "\t<tr><td>x1 x3         </td><td>311.92883</td><td>254.7666</td></tr>\n",
       "\t<tr><td>x1 x5         </td><td>329.32754</td><td>256.3407</td></tr>\n",
       "\t<tr><td>x3 x5         </td><td>344.48819</td><td>257.6459</td></tr>\n",
       "\t<tr><td>x2 x5         </td><td>474.24476</td><td>266.9161</td></tr>\n",
       "\t<tr><td>x2 x3         </td><td>525.13497</td><td>269.8721</td></tr>\n",
       "\t<tr><td>x2 x3 x4      </td><td> 71.07929</td><td>212.7817</td></tr>\n",
       "\t<tr><td>x1 x3 x4      </td><td> 76.35223</td><td>214.8570</td></tr>\n",
       "\t<tr><td>x3 x4 x5      </td><td> 76.78941</td><td>215.0226</td></tr>\n",
       "\t<tr><td>x1 x4 x5      </td><td> 77.07606</td><td>215.1306</td></tr>\n",
       "\t<tr><td>x2 x4 x5      </td><td>101.12251</td><td>223.0053</td></tr>\n",
       "\t<tr><td>x1 x2 x4      </td><td>148.99142</td><td>234.2444</td></tr>\n",
       "\t<tr><td>x1 x2 x3      </td><td>265.57414</td><td>251.0066</td></tr>\n",
       "\t<tr><td>x1 x3 x5      </td><td>302.49183</td><td>254.7812</td></tr>\n",
       "\t<tr><td>x2 x3 x5      </td><td>307.13003</td><td>255.2225</td></tr>\n",
       "\t<tr><td>x1 x2 x5      </td><td>307.64097</td><td>255.2707</td></tr>\n",
       "\t<tr><td>x1 x2 x3 x4   </td><td> 64.07595</td><td>210.6363</td></tr>\n",
       "\t<tr><td>x1 x3 x4 x5   </td><td> 70.01995</td><td>213.2089</td></tr>\n",
       "\t<tr><td>x2 x3 x4 x5   </td><td> 73.40470</td><td>214.5779</td></tr>\n",
       "\t<tr><td>x1 x2 x4 x5   </td><td> 76.53699</td><td>215.7897</td></tr>\n",
       "\t<tr><td>x1 x2 x3 x5   </td><td>246.74637</td><td>249.7367</td></tr>\n",
       "\t<tr><td>x1 x2 x3 x4 x5</td><td> 61.71045</td><td>210.3616</td></tr>\n",
       "</tbody>\n",
       "</table>\n"
      ],
      "text/latex": [
       "A data.frame: 31 × 3\n",
       "\\begin{tabular}{lll}\n",
       " predictors & RMS & AIC\\\\\n",
       " <chr> & <dbl> & <dbl>\\\\\n",
       "\\hline\n",
       "\t x4             & 146.54442 & 231.9133\\\\\n",
       "\t x1             & 317.79100 & 254.3612\\\\\n",
       "\t x5             & 460.62727 & 265.1259\\\\\n",
       "\t x3             & 517.76634 & 268.5170\\\\\n",
       "\t x2             & 518.86147 & 268.5783\\\\\n",
       "\t x3 x4          &  76.82704 & 214.1313\\\\\n",
       "\t x4 x5          &  97.38368 & 221.0072\\\\\n",
       "\t x1 x4          & 144.71995 & 232.4953\\\\\n",
       "\t x2 x4          & 151.96771 & 233.9125\\\\\n",
       "\t x1 x2          & 299.49752 & 253.5872\\\\\n",
       "\t x1 x3          & 311.92883 & 254.7666\\\\\n",
       "\t x1 x5          & 329.32754 & 256.3407\\\\\n",
       "\t x3 x5          & 344.48819 & 257.6459\\\\\n",
       "\t x2 x5          & 474.24476 & 266.9161\\\\\n",
       "\t x2 x3          & 525.13497 & 269.8721\\\\\n",
       "\t x2 x3 x4       &  71.07929 & 212.7817\\\\\n",
       "\t x1 x3 x4       &  76.35223 & 214.8570\\\\\n",
       "\t x3 x4 x5       &  76.78941 & 215.0226\\\\\n",
       "\t x1 x4 x5       &  77.07606 & 215.1306\\\\\n",
       "\t x2 x4 x5       & 101.12251 & 223.0053\\\\\n",
       "\t x1 x2 x4       & 148.99142 & 234.2444\\\\\n",
       "\t x1 x2 x3       & 265.57414 & 251.0066\\\\\n",
       "\t x1 x3 x5       & 302.49183 & 254.7812\\\\\n",
       "\t x2 x3 x5       & 307.13003 & 255.2225\\\\\n",
       "\t x1 x2 x5       & 307.64097 & 255.2707\\\\\n",
       "\t x1 x2 x3 x4    &  64.07595 & 210.6363\\\\\n",
       "\t x1 x3 x4 x5    &  70.01995 & 213.2089\\\\\n",
       "\t x2 x3 x4 x5    &  73.40470 & 214.5779\\\\\n",
       "\t x1 x2 x4 x5    &  76.53699 & 215.7897\\\\\n",
       "\t x1 x2 x3 x5    & 246.74637 & 249.7367\\\\\n",
       "\t x1 x2 x3 x4 x5 &  61.71045 & 210.3616\\\\\n",
       "\\end{tabular}\n"
      ],
      "text/markdown": [
       "\n",
       "A data.frame: 31 × 3\n",
       "\n",
       "| predictors &lt;chr&gt; | RMS &lt;dbl&gt; | AIC &lt;dbl&gt; |\n",
       "|---|---|---|\n",
       "| x4             | 146.54442 | 231.9133 |\n",
       "| x1             | 317.79100 | 254.3612 |\n",
       "| x5             | 460.62727 | 265.1259 |\n",
       "| x3             | 517.76634 | 268.5170 |\n",
       "| x2             | 518.86147 | 268.5783 |\n",
       "| x3 x4          |  76.82704 | 214.1313 |\n",
       "| x4 x5          |  97.38368 | 221.0072 |\n",
       "| x1 x4          | 144.71995 | 232.4953 |\n",
       "| x2 x4          | 151.96771 | 233.9125 |\n",
       "| x1 x2          | 299.49752 | 253.5872 |\n",
       "| x1 x3          | 311.92883 | 254.7666 |\n",
       "| x1 x5          | 329.32754 | 256.3407 |\n",
       "| x3 x5          | 344.48819 | 257.6459 |\n",
       "| x2 x5          | 474.24476 | 266.9161 |\n",
       "| x2 x3          | 525.13497 | 269.8721 |\n",
       "| x2 x3 x4       |  71.07929 | 212.7817 |\n",
       "| x1 x3 x4       |  76.35223 | 214.8570 |\n",
       "| x3 x4 x5       |  76.78941 | 215.0226 |\n",
       "| x1 x4 x5       |  77.07606 | 215.1306 |\n",
       "| x2 x4 x5       | 101.12251 | 223.0053 |\n",
       "| x1 x2 x4       | 148.99142 | 234.2444 |\n",
       "| x1 x2 x3       | 265.57414 | 251.0066 |\n",
       "| x1 x3 x5       | 302.49183 | 254.7812 |\n",
       "| x2 x3 x5       | 307.13003 | 255.2225 |\n",
       "| x1 x2 x5       | 307.64097 | 255.2707 |\n",
       "| x1 x2 x3 x4    |  64.07595 | 210.6363 |\n",
       "| x1 x3 x4 x5    |  70.01995 | 213.2089 |\n",
       "| x2 x3 x4 x5    |  73.40470 | 214.5779 |\n",
       "| x1 x2 x4 x5    |  76.53699 | 215.7897 |\n",
       "| x1 x2 x3 x5    | 246.74637 | 249.7367 |\n",
       "| x1 x2 x3 x4 x5 |  61.71045 | 210.3616 |\n",
       "\n"
      ],
      "text/plain": [
       "   predictors     RMS       AIC     \n",
       "1  x4             146.54442 231.9133\n",
       "2  x1             317.79100 254.3612\n",
       "3  x5             460.62727 265.1259\n",
       "4  x3             517.76634 268.5170\n",
       "5  x2             518.86147 268.5783\n",
       "6  x3 x4           76.82704 214.1313\n",
       "7  x4 x5           97.38368 221.0072\n",
       "8  x1 x4          144.71995 232.4953\n",
       "9  x2 x4          151.96771 233.9125\n",
       "10 x1 x2          299.49752 253.5872\n",
       "11 x1 x3          311.92883 254.7666\n",
       "12 x1 x5          329.32754 256.3407\n",
       "13 x3 x5          344.48819 257.6459\n",
       "14 x2 x5          474.24476 266.9161\n",
       "15 x2 x3          525.13497 269.8721\n",
       "16 x2 x3 x4        71.07929 212.7817\n",
       "17 x1 x3 x4        76.35223 214.8570\n",
       "18 x3 x4 x5        76.78941 215.0226\n",
       "19 x1 x4 x5        77.07606 215.1306\n",
       "20 x2 x4 x5       101.12251 223.0053\n",
       "21 x1 x2 x4       148.99142 234.2444\n",
       "22 x1 x2 x3       265.57414 251.0066\n",
       "23 x1 x3 x5       302.49183 254.7812\n",
       "24 x2 x3 x5       307.13003 255.2225\n",
       "25 x1 x2 x5       307.64097 255.2707\n",
       "26 x1 x2 x3 x4     64.07595 210.6363\n",
       "27 x1 x3 x4 x5     70.01995 213.2089\n",
       "28 x2 x3 x4 x5     73.40470 214.5779\n",
       "29 x1 x2 x4 x5     76.53699 215.7897\n",
       "30 x1 x2 x3 x5    246.74637 249.7367\n",
       "31 x1 x2 x3 x4 x5  61.71045 210.3616"
      ]
     },
     "metadata": {},
     "output_type": "display_data"
    }
   ],
   "source": [
    "(out.all=data.frame(predictors=df.all$predictors,RMS=rms,AIC=df.all$aic))"
   ]
  },
  {
   "cell_type": "code",
   "execution_count": 27,
   "metadata": {
    "vscode": {
     "languageId": "r"
    }
   },
   "outputs": [
    {
     "data": {
      "image/png": "[encoded data removed]",
      "text/plain": [
       "plot without title"
      ]
     },
     "metadata": {
      "image/png": {
       "height": 420,
       "width": 420
      }
     },
     "output_type": "display_data"
    }
   ],
   "source": [
    "plot(rms)"
   ]
  },
  {
   "cell_type": "code",
   "execution_count": 29,
   "metadata": {
    "vscode": {
     "languageId": "r"
    }
   },
   "outputs": [
    {
     "data": {
      "image/png": "[encoded data removed]",
      "text/plain": [
       "plot without title"
      ]
     },
     "metadata": {
      "image/png": {
       "height": 420,
       "width": 420
      }
     },
     "output_type": "display_data"
    }
   ],
   "source": [
    "plot(df.all$aic)"
   ]
  },
  {
   "cell_type": "markdown",
   "metadata": {},
   "source": [
    "### 统计分析：\n",
    "\n",
    "应用所有可能子集回归法建立子集回归模型，并计算$RMS_q,AIC$值如上。从这两个统计量的定义可以看出，这两个统计量的值越小，自变量子集越好。\n",
    "\n",
    "推荐选择子集回归模型$\\{x_3,x_4\\}$，原因：从两张图中可以看出，子集$\\{x_3,x_4\\},\\{x_2,x_3,x_4\\},\\{x_1,x_2,x_3,x_4\\},$ $\\{x_1,x_2,x_3,x_4,x_5\\}$的RMS和AIC值都较小。其中，$\\{x_1,x_2,x_3,x_4,x_5\\}$的RMS和AIC都是最小的。但是从前两问的分析可以看出，存在变量是不显著的，即变量之间存在某些相关性，选择全模型是不合理的。结合前两问的分析，子集回归模型$\\{x_3,x_4\\}$中不含冗余变量，也没有丢失关键变量，又考虑到上述的自变量子集的$RMS_q$和$AIC$值都相差不多，故推荐选择子集回归模型$\\{x_3,x_4\\}$。\n",
    "\n",
    "$RMS_q,AIC$统计量的定义为：\n",
    "\n",
    "$$RMS_q=\\frac{1}{n-q}RSS_q=\\frac{SST(1-r^2)}{n-q}$$\n",
    "$$AIC=n\\ln(RSS_q)+2q$$\n",
    "\n",
    "其中，SST是总平方和，$r^2=1-\\frac{RSS_q}{SST}$"
   ]
  },
  {
   "cell_type": "code",
   "execution_count": null,
   "metadata": {
    "vscode": {
     "languageId": "r"
    }
   },
   "outputs": [],
   "source": []
  },
  {
   "cell_type": "code",
   "execution_count": null,
   "metadata": {
    "vscode": {
     "languageId": "r"
    }
   },
   "outputs": [],
   "source": []
  }
 ],
 "metadata": {
  "kernelspec": {
   "display_name": "R",
   "language": "R",
   "name": "ir"
  },
  "language_info": {
   "codemirror_mode": "r",
   "file_extension": ".r",
   "mimetype": "text/x-r-source",
   "name": "R",
   "pygments_lexer": "r",
   "version": "4.2.1"
  },
  "orig_nbformat": 4,
  "vscode": {
   "interpreter": {
    "hash": "dbd5104f6212b1fc6f64e8e19ae2007e53f3ed0d4bd4f1dbbcdf8e035cfbf35c"
   }
  }
 },
 "nbformat": 4,
 "nbformat_minor": 2
}
