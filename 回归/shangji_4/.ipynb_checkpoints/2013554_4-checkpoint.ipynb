{
 "cells": [
  {
   "cell_type": "markdown",
   "metadata": {},
   "source": [
    "# 第一问"
   ]
  },
  {
   "cell_type": "markdown",
   "metadata": {},
   "source": [
    "\\begin{aligned}\n",
    "&40=\\mu_1+e_{11}, \\\\\n",
    "&48=\\mu_1+e_{12} \\\\\n",
    "&38=\\mu_1+e_{13} \\\\\n",
    "&42=\\mu_1+e_{14}, \\\\\n",
    "&45=\\mu_1+e_{15}, \\\\\n",
    "&46=\\mu_1+e_{16}, \\\\\n",
    "&26=\\mu_2+e_{21}, \\\\\n",
    "&34=\\mu_2+e_{22}, \\\\\n",
    "&30=\\mu_2+e_{23}, \\\\\n",
    "&28=\\mu_2+e_{24}, \\\\\n",
    "&32=\\mu_2+e_{25}, \\\\\n",
    "&33=\\mu_2+e_{26}, \\\\\n",
    "&39=\\mu_3+e_{31}, \\\\\n",
    "&40=\\mu_3+e_{32}, \\\\\n",
    "&48=\\mu_3+e_{33}, \\\\\n",
    "&50=\\mu_3+e_{34}, \\\\\n",
    "&50=\\mu_3+e_{35}, \\\\\n",
    "&52=\\mu_3+e_{36}, \\\\\n",
    "&e_{ij}\\sim N(0,\\sigma^2),i=1,2,3,j=1,\\cdots,6\n",
    "\\end{aligned}\n",
    "\n",
    "其中$\\mu_i$是第i个整体的均值，$e_{ij}$是相应的试验误差"
   ]
  },
  {
   "cell_type": "markdown",
   "metadata": {},
   "source": [
    "# 第二问"
   ]
  },
  {
   "cell_type": "markdown",
   "metadata": {},
   "source": [
    "## 源代码："
   ]
  },
  {
   "cell_type": "code",
   "execution_count": 1,
   "metadata": {},
   "outputs": [],
   "source": [
    "import pandas as pd\n",
    "import statsmodels.formula.api as smf\n",
    "from statsmodels.stats.anova import anova_lm\n",
    "from scipy import stats\n",
    "import numpy as np\n",
    "df=pd.read_csv(\"6-4.txt\",sep='\\s+',names=['factory','life'])\n"
   ]
  },
  {
   "cell_type": "code",
   "execution_count": 3,
   "metadata": {},
   "outputs": [
    {
     "data": {
      "text/html": [
       "<div>\n",
       "<style scoped>\n",
       "    .dataframe tbody tr th:only-of-type {\n",
       "        vertical-align: middle;\n",
       "    }\n",
       "\n",
       "    .dataframe tbody tr th {\n",
       "        vertical-align: top;\n",
       "    }\n",
       "\n",
       "    .dataframe thead th {\n",
       "        text-align: right;\n",
       "    }\n",
       "</style>\n",
       "<table border=\"1\" class=\"dataframe\">\n",
       "  <thead>\n",
       "    <tr style=\"text-align: right;\">\n",
       "      <th></th>\n",
       "      <th>df</th>\n",
       "      <th>sum_sq</th>\n",
       "      <th>mean_sq</th>\n",
       "      <th>F</th>\n",
       "      <th>PR(&gt;F)</th>\n",
       "    </tr>\n",
       "  </thead>\n",
       "  <tbody>\n",
       "    <tr>\n",
       "      <th>C(factory)</th>\n",
       "      <td>2.0</td>\n",
       "      <td>855.111111</td>\n",
       "      <td>427.555556</td>\n",
       "      <td>23.250755</td>\n",
       "      <td>0.000025</td>\n",
       "    </tr>\n",
       "    <tr>\n",
       "      <th>Residual</th>\n",
       "      <td>15.0</td>\n",
       "      <td>275.833333</td>\n",
       "      <td>18.388889</td>\n",
       "      <td>NaN</td>\n",
       "      <td>NaN</td>\n",
       "    </tr>\n",
       "  </tbody>\n",
       "</table>\n",
       "</div>"
      ],
      "text/plain": [
       "              df      sum_sq     mean_sq          F    PR(>F)\n",
       "C(factory)   2.0  855.111111  427.555556  23.250755  0.000025\n",
       "Residual    15.0  275.833333   18.388889        NaN       NaN"
      ]
     },
     "execution_count": 3,
     "metadata": {},
     "output_type": "execute_result"
    }
   ],
   "source": [
    "model=smf.ols('life~C(factory)',data=df).fit()\n",
    "anova_table=anova_lm(model,type=2)\n",
    "anova_df=pd.DataFrame(anova_table)\n",
    "anova_df"
   ]
  },
  {
   "cell_type": "markdown",
   "metadata": {},
   "source": [
    "## 统计分析：\n",
    "\n",
    "在显著性水平$\\alpha=0.05$下三厂生产的电池的平均寿命有显著差异。\n",
    "\n",
    "方差分析表如上。由于p值=0.000025\\<0.05，可见在显著性水平$\\alpha=0.05$下三厂生产的电池的平均寿命有显著差异。"
   ]
  },
  {
   "cell_type": "markdown",
   "metadata": {},
   "source": [
    "# 第三问"
   ]
  },
  {
   "cell_type": "markdown",
   "metadata": {},
   "source": [
    "## 源代码："
   ]
  },
  {
   "cell_type": "code",
   "execution_count": 6,
   "metadata": {},
   "outputs": [],
   "source": [
    "ybar=[df.groupby('factory')['life'].mean().iloc[i] for i in range(3)]\n",
    "ni=6\n",
    "n=3*ni\n",
    "sighat=np.sqrt(anova_df.loc['Residual']['mean_sq'])\n",
    "tq=stats.t.isf(0.05/6,n-3)"
   ]
  },
  {
   "cell_type": "code",
   "execution_count": 7,
   "metadata": {},
   "outputs": [
    {
     "name": "stdout",
     "output_type": "stream",
     "text": [
      "5.997482929343184\n",
      "19.335850403990143\n"
     ]
    }
   ],
   "source": [
    "print((ybar[0]-ybar[1])-sighat*np.sqrt(2/ni)*tq)\n",
    "print((ybar[0]-ybar[1])+sighat*np.sqrt(2/ni)*tq)"
   ]
  },
  {
   "cell_type": "code",
   "execution_count": 34,
   "metadata": {},
   "outputs": [
    {
     "name": "stdout",
     "output_type": "stream",
     "text": [
      "-10.002517070656815\n",
      "3.335850403990144\n"
     ]
    }
   ],
   "source": [
    "print((ybar[0]-ybar[2])-sighat*np.sqrt(2/ni)*tq)\n",
    "print((ybar[0]-ybar[2])+sighat*np.sqrt(2/ni)*tq)"
   ]
  },
  {
   "cell_type": "code",
   "execution_count": 35,
   "metadata": {},
   "outputs": [
    {
     "name": "stdout",
     "output_type": "stream",
     "text": [
      "-22.66918373732348\n",
      "-9.330816262676521\n"
     ]
    }
   ],
   "source": [
    "print((ybar[1]-ybar[2])-sighat*np.sqrt(2/ni)*tq)\n",
    "print((ybar[1]-ybar[2])+sighat*np.sqrt(2/ni)*tq)"
   ]
  },
  {
   "cell_type": "markdown",
   "metadata": {},
   "source": [
    "## 统计分析："
   ]
  },
  {
   "cell_type": "markdown",
   "metadata": {},
   "source": [
    "由上面的计算可知：\n",
    "\n",
    "$\\mu_A-\\mu_B$的95%的同时置信区间为：[5.997482929343184,19.335850403990143]\n",
    "\n",
    "$\\mu_A-\\mu_C$的95%的同时置信区间为：[-10.002517070656815,3.335850403990144]\n",
    "\n",
    "$\\mu_B-\\mu_C$的95%的同时置信区间为：[-22.66918373732348,-9.330816262676521]\n",
    "\n",
    "对每个$\\mu_i-\\mu_j$而言，m对均值差的同时置信区间为：\n",
    "\n",
    "$$[\\mu_i-\\mu_j-\\hat{\\sigma}\\sqrt{\\frac{1}{n_i}+\\frac{1}{n_j}}t_{n-a}(\\frac{\\alpha}{2m}),\\mu_i-\\mu_j+\\hat{\\sigma}\\sqrt{\\frac{1}{n_i}+\\frac{1}{n_j}}t_{n-a}(\\frac{\\alpha}{2m})]$$\n",
    "\n",
    "由Bonferroni不等式：\n",
    "\n",
    "$$P(\\cap_{i=1}^{m}E_i)=1-P(\\cup_{i=1}^{m}\\bar{E_i})\\geq 1-\\sum_{i=1}^{m}P(\\bar{E_i})=1-m\\alpha$$\n",
    "\n",
    "则取置信度为$\\frac{\\alpha}{m}$，就有$P(\\cap_{i=1}^{m}E_i)\\geq 1-\\alpha$，故每对均值差置信区间的置信度均取$\\frac{\\alpha}{m}$时，其同时置信区间的置信度至少为$1-\\alpha$"
   ]
  }
 ],
 "metadata": {
  "kernelspec": {
   "display_name": "Python 3.10.6 64-bit",
   "language": "python",
   "name": "python3"
  },
  "language_info": {
   "codemirror_mode": {
    "name": "ipython",
    "version": 3
   },
   "file_extension": ".py",
   "mimetype": "text/x-python",
   "name": "python",
   "nbconvert_exporter": "python",
   "pygments_lexer": "ipython3",
   "version": "3.10.6"
  },
  "orig_nbformat": 4,
  "vscode": {
   "interpreter": {
    "hash": "dbd5104f6212b1fc6f64e8e19ae2007e53f3ed0d4bd4f1dbbcdf8e035cfbf35c"
   }
  }
 },
 "nbformat": 4,
 "nbformat_minor": 2
}
