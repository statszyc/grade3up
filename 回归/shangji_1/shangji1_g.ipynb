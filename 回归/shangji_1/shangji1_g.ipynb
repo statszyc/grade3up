{
 "cells": [
  {
   "cell_type": "code",
   "execution_count": 1,
   "metadata": {
    "vscode": {
     "languageId": "r"
    }
   },
   "outputs": [],
   "source": [
    "# require(stats); require(graphics)\n",
    "# X=as.matrix(longley[,1:6])\n",
    "# y=as.matrix(longley[,7])\n",
    "\n",
    "# ## give the data set in the form it is used in S-PLUS:\n",
    "# longley.x <- data.matrix(scale(longley[, 1:6]))\n",
    "# longley.y <- scale(longley[, \"Employed\"])\n",
    "# pairs(longley, main = \"longley data\")\n",
    "# summary(fm1 <- lm(Employed ~ ., data = as.data.frame(scale(longley))))\n",
    "# opar <- par(mfrow = c(2, 2), oma = c(0, 0, 1.1, 0),\n",
    "#             mar = c(4.1, 4.1, 2.1, 1.1))\n",
    "# plot(fm1)\n",
    "# par(opar)"
   ]
  },
  {
   "cell_type": "markdown",
   "metadata": {},
   "source": [
    "## 第一问：检查复共线性"
   ]
  },
  {
   "cell_type": "code",
   "execution_count": 1,
   "metadata": {
    "vscode": {
     "languageId": "r"
    }
   },
   "outputs": [],
   "source": [
    "X=as.matrix(longley[,1:6])\n",
    "y=as.matrix(longley[,7])\n",
    "oldX=X\n",
    "oldY=y\n",
    "xmean=colMeans(X)\n",
    "xsd=apply(X,2,sd)*sqrt(15)\n",
    "ymean=mean(y)\n",
    "ysd=sd(y)*sqrt(15)\n",
    "centered=X-matrix(rep(colMeans(X),16),byrow=T,nrow=16,ncol=6)\n",
    "X=centered/matrix(rep(apply(X,2,sd)*sqrt(15),16),byrow=T,nrow=16,ncol=6)\n",
    "y=(y-mean(y))/matrix(rep(sd(y)*sqrt(15),16),byrow=T,nrow=16,ncol=1)\n",
    "fm1 <- lm(Employed ~ ., data = as.data.frame(scale(longley)))"
   ]
  },
  {
   "cell_type": "code",
   "execution_count": 3,
   "metadata": {
    "vscode": {
     "languageId": "r"
    }
   },
   "outputs": [
    {
     "ename": "ERROR",
     "evalue": "Error in eval(expr, envir, enclos): object 'phi' not found\n",
     "output_type": "error",
     "traceback": [
      "Error in eval(expr, envir, enclos): object 'phi' not found\nTraceback:\n"
     ]
    }
   ],
   "source": [
    "ysd*(phi[,1:3]%*%alph2)/as.vector(xsd)"
   ]
  },
  {
   "cell_type": "code",
   "execution_count": null,
   "metadata": {
    "vscode": {
     "languageId": "r"
    }
   },
   "outputs": [
    {
     "data": {
      "text/html": [
       "<table class=\"dataframe\">\n",
       "<caption>A matrix: 6 × 1 of type dbl</caption>\n",
       "<tbody>\n",
       "\t<tr><td> 3.961708</td></tr>\n",
       "\t<tr><td> 4.879001</td></tr>\n",
       "\t<tr><td>-4.203628</td></tr>\n",
       "\t<tr><td>-1.613747</td></tr>\n",
       "\t<tr><td> 4.145179</td></tr>\n",
       "\t<tr><td> 3.742352</td></tr>\n",
       "</tbody>\n",
       "</table>\n"
      ],
      "text/latex": [
       "A matrix: 6 × 1 of type dbl\n",
       "\\begin{tabular}{l}\n",
       "\t  3.961708\\\\\n",
       "\t  4.879001\\\\\n",
       "\t -4.203628\\\\\n",
       "\t -1.613747\\\\\n",
       "\t  4.145179\\\\\n",
       "\t  3.742352\\\\\n",
       "\\end{tabular}\n"
      ],
      "text/markdown": [
       "\n",
       "A matrix: 6 × 1 of type dbl\n",
       "\n",
       "|  3.961708 |\n",
       "|  4.879001 |\n",
       "| -4.203628 |\n",
       "| -1.613747 |\n",
       "|  4.145179 |\n",
       "|  3.742352 |\n",
       "\n"
      ],
      "text/plain": [
       "     [,1]     \n",
       "[1,]  3.961708\n",
       "[2,]  4.879001\n",
       "[3,] -4.203628\n",
       "[4,] -1.613747\n",
       "[5,]  4.145179\n",
       "[6,]  3.742352"
      ]
     },
     "metadata": {},
     "output_type": "display_data"
    }
   ],
   "source": [
    "(phi[,1:3]%*%alph2)"
   ]
  },
  {
   "cell_type": "code",
   "execution_count": null,
   "metadata": {
    "vscode": {
     "languageId": "r"
    }
   },
   "outputs": [
    {
     "data": {
      "text/html": [
       "<table class=\"dataframe\">\n",
       "<caption>A matrix: 3 × 1 of type dbl</caption>\n",
       "<tbody>\n",
       "\t<tr><td>-0.4456511</td></tr>\n",
       "\t<tr><td> 0.1115693</td></tr>\n",
       "\t<tr><td> 0.5297276</td></tr>\n",
       "</tbody>\n",
       "</table>\n"
      ],
      "text/latex": [
       "A matrix: 3 × 1 of type dbl\n",
       "\\begin{tabular}{l}\n",
       "\t -0.4456511\\\\\n",
       "\t  0.1115693\\\\\n",
       "\t  0.5297276\\\\\n",
       "\\end{tabular}\n"
      ],
      "text/markdown": [
       "\n",
       "A matrix: 3 × 1 of type dbl\n",
       "\n",
       "| -0.4456511 |\n",
       "|  0.1115693 |\n",
       "|  0.5297276 |\n",
       "\n"
      ],
      "text/plain": [
       "     [,1]      \n",
       "[1,] -0.4456511\n",
       "[2,]  0.1115693\n",
       "[3,]  0.5297276"
      ]
     },
     "metadata": {},
     "output_type": "display_data"
    }
   ],
   "source": [
    "alph2"
   ]
  },
  {
   "cell_type": "markdown",
   "metadata": {},
   "source": [
    "下面是主成分回归的检验结果"
   ]
  },
  {
   "cell_type": "code",
   "execution_count": null,
   "metadata": {
    "vscode": {
     "languageId": "r"
    }
   },
   "outputs": [
    {
     "data": {
      "text/html": [
       "<table class=\"dataframe\">\n",
       "<caption>A matrix: 16 × 1 of type dbl</caption>\n",
       "<tbody>\n",
       "\t<tr><th scope=row>1947</th><td>165.9878</td></tr>\n",
       "\t<tr><th scope=row>1948</th><td>178.9425</td></tr>\n",
       "\t<tr><th scope=row>1949</th><td>136.1006</td></tr>\n",
       "\t<tr><th scope=row>1950</th><td>155.4386</td></tr>\n",
       "\t<tr><th scope=row>1951</th><td>193.3999</td></tr>\n",
       "\t<tr><th scope=row>1952</th><td>199.9283</td></tr>\n",
       "\t<tr><th scope=row>1953</th><td>208.7402</td></tr>\n",
       "\t<tr><th scope=row>1954</th><td>159.6137</td></tr>\n",
       "\t<tr><th scope=row>1955</th><td>195.0735</td></tr>\n",
       "\t<tr><th scope=row>1956</th><td>207.4992</td></tr>\n",
       "\t<tr><th scope=row>1957</th><td>214.7289</td></tr>\n",
       "\t<tr><th scope=row>1958</th><td>166.4361</td></tr>\n",
       "\t<tr><th scope=row>1959</th><td>207.0464</td></tr>\n",
       "\t<tr><th scope=row>1960</th><td>211.4298</td></tr>\n",
       "\t<tr><th scope=row>1961</th><td>190.9876</td></tr>\n",
       "\t<tr><th scope=row>1962</th><td>225.9112</td></tr>\n",
       "</tbody>\n",
       "</table>\n"
      ],
      "text/latex": [
       "A matrix: 16 × 1 of type dbl\n",
       "\\begin{tabular}{r|l}\n",
       "\t1947 & 165.9878\\\\\n",
       "\t1948 & 178.9425\\\\\n",
       "\t1949 & 136.1006\\\\\n",
       "\t1950 & 155.4386\\\\\n",
       "\t1951 & 193.3999\\\\\n",
       "\t1952 & 199.9283\\\\\n",
       "\t1953 & 208.7402\\\\\n",
       "\t1954 & 159.6137\\\\\n",
       "\t1955 & 195.0735\\\\\n",
       "\t1956 & 207.4992\\\\\n",
       "\t1957 & 214.7289\\\\\n",
       "\t1958 & 166.4361\\\\\n",
       "\t1959 & 207.0464\\\\\n",
       "\t1960 & 211.4298\\\\\n",
       "\t1961 & 190.9876\\\\\n",
       "\t1962 & 225.9112\\\\\n",
       "\\end{tabular}\n"
      ],
      "text/markdown": [
       "\n",
       "A matrix: 16 × 1 of type dbl\n",
       "\n",
       "| 1947 | 165.9878 |\n",
       "| 1948 | 178.9425 |\n",
       "| 1949 | 136.1006 |\n",
       "| 1950 | 155.4386 |\n",
       "| 1951 | 193.3999 |\n",
       "| 1952 | 199.9283 |\n",
       "| 1953 | 208.7402 |\n",
       "| 1954 | 159.6137 |\n",
       "| 1955 | 195.0735 |\n",
       "| 1956 | 207.4992 |\n",
       "| 1957 | 214.7289 |\n",
       "| 1958 | 166.4361 |\n",
       "| 1959 | 207.0464 |\n",
       "| 1960 | 211.4298 |\n",
       "| 1961 | 190.9876 |\n",
       "| 1962 | 225.9112 |\n",
       "\n"
      ],
      "text/plain": [
       "     [,1]    \n",
       "1947 165.9878\n",
       "1948 178.9425\n",
       "1949 136.1006\n",
       "1950 155.4386\n",
       "1951 193.3999\n",
       "1952 199.9283\n",
       "1953 208.7402\n",
       "1954 159.6137\n",
       "1955 195.0735\n",
       "1956 207.4992\n",
       "1957 214.7289\n",
       "1958 166.4361\n",
       "1959 207.0464\n",
       "1960 211.4298\n",
       "1961 190.9876\n",
       "1962 225.9112"
      ]
     },
     "metadata": {},
     "output_type": "display_data"
    }
   ],
   "source": [
    "(as.matrix(longley[,1:6])%*%betaz+rep(inter,16)-as.vector(longley[,7]))"
   ]
  },
  {
   "cell_type": "code",
   "execution_count": null,
   "metadata": {
    "vscode": {
     "languageId": "r"
    }
   },
   "outputs": [
    {
     "data": {
      "text/html": [
       "<table class=\"dataframe\">\n",
       "<caption>A matrix: 6 × 1 of type dbl</caption>\n",
       "<tbody>\n",
       "\t<tr><td> 0.2912636</td></tr>\n",
       "\t<tr><td> 0.3587028</td></tr>\n",
       "\t<tr><td>-0.3090495</td></tr>\n",
       "\t<tr><td>-0.1186422</td></tr>\n",
       "\t<tr><td> 0.3047524</td></tr>\n",
       "\t<tr><td> 0.2751366</td></tr>\n",
       "</tbody>\n",
       "</table>\n"
      ],
      "text/latex": [
       "A matrix: 6 × 1 of type dbl\n",
       "\\begin{tabular}{l}\n",
       "\t  0.2912636\\\\\n",
       "\t  0.3587028\\\\\n",
       "\t -0.3090495\\\\\n",
       "\t -0.1186422\\\\\n",
       "\t  0.3047524\\\\\n",
       "\t  0.2751366\\\\\n",
       "\\end{tabular}\n"
      ],
      "text/markdown": [
       "\n",
       "A matrix: 6 × 1 of type dbl\n",
       "\n",
       "|  0.2912636 |\n",
       "|  0.3587028 |\n",
       "| -0.3090495 |\n",
       "| -0.1186422 |\n",
       "|  0.3047524 |\n",
       "|  0.2751366 |\n",
       "\n"
      ],
      "text/plain": [
       "     [,1]      \n",
       "[1,]  0.2912636\n",
       "[2,]  0.3587028\n",
       "[3,] -0.3090495\n",
       "[4,] -0.1186422\n",
       "[5,]  0.3047524\n",
       "[6,]  0.2751366"
      ]
     },
     "metadata": {},
     "output_type": "display_data"
    }
   ],
   "source": [
    "betaz"
   ]
  },
  {
   "cell_type": "code",
   "execution_count": null,
   "metadata": {
    "vscode": {
     "languageId": "r"
    }
   },
   "outputs": [
    {
     "data": {
      "text/html": [
       "<table class=\"dataframe\">\n",
       "<caption>A data.frame: 16 × 7</caption>\n",
       "<thead>\n",
       "\t<tr><th></th><th scope=col>GNP.deflator</th><th scope=col>GNP</th><th scope=col>Unemployed</th><th scope=col>Armed.Forces</th><th scope=col>Population</th><th scope=col>Year</th><th scope=col>Employed</th></tr>\n",
       "\t<tr><th></th><th scope=col>&lt;dbl&gt;</th><th scope=col>&lt;dbl&gt;</th><th scope=col>&lt;dbl&gt;</th><th scope=col>&lt;dbl&gt;</th><th scope=col>&lt;dbl&gt;</th><th scope=col>&lt;int&gt;</th><th scope=col>&lt;dbl&gt;</th></tr>\n",
       "</thead>\n",
       "<tbody>\n",
       "\t<tr><th scope=row>1947</th><td> 83.0</td><td>234.289</td><td>235.6</td><td>159.0</td><td>107.608</td><td>1947</td><td>60.323</td></tr>\n",
       "\t<tr><th scope=row>1948</th><td> 88.5</td><td>259.426</td><td>232.5</td><td>145.6</td><td>108.632</td><td>1948</td><td>61.122</td></tr>\n",
       "\t<tr><th scope=row>1949</th><td> 88.2</td><td>258.054</td><td>368.2</td><td>161.6</td><td>109.773</td><td>1949</td><td>60.171</td></tr>\n",
       "\t<tr><th scope=row>1950</th><td> 89.5</td><td>284.599</td><td>335.1</td><td>165.0</td><td>110.929</td><td>1950</td><td>61.187</td></tr>\n",
       "\t<tr><th scope=row>1951</th><td> 96.2</td><td>328.975</td><td>209.9</td><td>309.9</td><td>112.075</td><td>1951</td><td>63.221</td></tr>\n",
       "\t<tr><th scope=row>1952</th><td> 98.1</td><td>346.999</td><td>193.2</td><td>359.4</td><td>113.270</td><td>1952</td><td>63.639</td></tr>\n",
       "\t<tr><th scope=row>1953</th><td> 99.0</td><td>365.385</td><td>187.0</td><td>354.7</td><td>115.094</td><td>1953</td><td>64.989</td></tr>\n",
       "\t<tr><th scope=row>1954</th><td>100.0</td><td>363.112</td><td>357.8</td><td>335.0</td><td>116.219</td><td>1954</td><td>63.761</td></tr>\n",
       "\t<tr><th scope=row>1955</th><td>101.2</td><td>397.469</td><td>290.4</td><td>304.8</td><td>117.388</td><td>1955</td><td>66.019</td></tr>\n",
       "\t<tr><th scope=row>1956</th><td>104.6</td><td>419.180</td><td>282.2</td><td>285.7</td><td>118.734</td><td>1956</td><td>67.857</td></tr>\n",
       "\t<tr><th scope=row>1957</th><td>108.4</td><td>442.769</td><td>293.6</td><td>279.8</td><td>120.445</td><td>1957</td><td>68.169</td></tr>\n",
       "\t<tr><th scope=row>1958</th><td>110.8</td><td>444.546</td><td>468.1</td><td>263.7</td><td>121.950</td><td>1958</td><td>66.513</td></tr>\n",
       "\t<tr><th scope=row>1959</th><td>112.6</td><td>482.704</td><td>381.3</td><td>255.2</td><td>123.366</td><td>1959</td><td>68.655</td></tr>\n",
       "\t<tr><th scope=row>1960</th><td>114.2</td><td>502.601</td><td>393.1</td><td>251.4</td><td>125.368</td><td>1960</td><td>69.564</td></tr>\n",
       "\t<tr><th scope=row>1961</th><td>115.7</td><td>518.173</td><td>480.6</td><td>257.2</td><td>127.852</td><td>1961</td><td>69.331</td></tr>\n",
       "\t<tr><th scope=row>1962</th><td>116.9</td><td>554.894</td><td>400.7</td><td>282.7</td><td>130.081</td><td>1962</td><td>70.551</td></tr>\n",
       "</tbody>\n",
       "</table>\n"
      ],
      "text/latex": [
       "A data.frame: 16 × 7\n",
       "\\begin{tabular}{r|lllllll}\n",
       "  & GNP.deflator & GNP & Unemployed & Armed.Forces & Population & Year & Employed\\\\\n",
       "  & <dbl> & <dbl> & <dbl> & <dbl> & <dbl> & <int> & <dbl>\\\\\n",
       "\\hline\n",
       "\t1947 &  83.0 & 234.289 & 235.6 & 159.0 & 107.608 & 1947 & 60.323\\\\\n",
       "\t1948 &  88.5 & 259.426 & 232.5 & 145.6 & 108.632 & 1948 & 61.122\\\\\n",
       "\t1949 &  88.2 & 258.054 & 368.2 & 161.6 & 109.773 & 1949 & 60.171\\\\\n",
       "\t1950 &  89.5 & 284.599 & 335.1 & 165.0 & 110.929 & 1950 & 61.187\\\\\n",
       "\t1951 &  96.2 & 328.975 & 209.9 & 309.9 & 112.075 & 1951 & 63.221\\\\\n",
       "\t1952 &  98.1 & 346.999 & 193.2 & 359.4 & 113.270 & 1952 & 63.639\\\\\n",
       "\t1953 &  99.0 & 365.385 & 187.0 & 354.7 & 115.094 & 1953 & 64.989\\\\\n",
       "\t1954 & 100.0 & 363.112 & 357.8 & 335.0 & 116.219 & 1954 & 63.761\\\\\n",
       "\t1955 & 101.2 & 397.469 & 290.4 & 304.8 & 117.388 & 1955 & 66.019\\\\\n",
       "\t1956 & 104.6 & 419.180 & 282.2 & 285.7 & 118.734 & 1956 & 67.857\\\\\n",
       "\t1957 & 108.4 & 442.769 & 293.6 & 279.8 & 120.445 & 1957 & 68.169\\\\\n",
       "\t1958 & 110.8 & 444.546 & 468.1 & 263.7 & 121.950 & 1958 & 66.513\\\\\n",
       "\t1959 & 112.6 & 482.704 & 381.3 & 255.2 & 123.366 & 1959 & 68.655\\\\\n",
       "\t1960 & 114.2 & 502.601 & 393.1 & 251.4 & 125.368 & 1960 & 69.564\\\\\n",
       "\t1961 & 115.7 & 518.173 & 480.6 & 257.2 & 127.852 & 1961 & 69.331\\\\\n",
       "\t1962 & 116.9 & 554.894 & 400.7 & 282.7 & 130.081 & 1962 & 70.551\\\\\n",
       "\\end{tabular}\n"
      ],
      "text/markdown": [
       "\n",
       "A data.frame: 16 × 7\n",
       "\n",
       "| <!--/--> | GNP.deflator &lt;dbl&gt; | GNP &lt;dbl&gt; | Unemployed &lt;dbl&gt; | Armed.Forces &lt;dbl&gt; | Population &lt;dbl&gt; | Year &lt;int&gt; | Employed &lt;dbl&gt; |\n",
       "|---|---|---|---|---|---|---|---|\n",
       "| 1947 |  83.0 | 234.289 | 235.6 | 159.0 | 107.608 | 1947 | 60.323 |\n",
       "| 1948 |  88.5 | 259.426 | 232.5 | 145.6 | 108.632 | 1948 | 61.122 |\n",
       "| 1949 |  88.2 | 258.054 | 368.2 | 161.6 | 109.773 | 1949 | 60.171 |\n",
       "| 1950 |  89.5 | 284.599 | 335.1 | 165.0 | 110.929 | 1950 | 61.187 |\n",
       "| 1951 |  96.2 | 328.975 | 209.9 | 309.9 | 112.075 | 1951 | 63.221 |\n",
       "| 1952 |  98.1 | 346.999 | 193.2 | 359.4 | 113.270 | 1952 | 63.639 |\n",
       "| 1953 |  99.0 | 365.385 | 187.0 | 354.7 | 115.094 | 1953 | 64.989 |\n",
       "| 1954 | 100.0 | 363.112 | 357.8 | 335.0 | 116.219 | 1954 | 63.761 |\n",
       "| 1955 | 101.2 | 397.469 | 290.4 | 304.8 | 117.388 | 1955 | 66.019 |\n",
       "| 1956 | 104.6 | 419.180 | 282.2 | 285.7 | 118.734 | 1956 | 67.857 |\n",
       "| 1957 | 108.4 | 442.769 | 293.6 | 279.8 | 120.445 | 1957 | 68.169 |\n",
       "| 1958 | 110.8 | 444.546 | 468.1 | 263.7 | 121.950 | 1958 | 66.513 |\n",
       "| 1959 | 112.6 | 482.704 | 381.3 | 255.2 | 123.366 | 1959 | 68.655 |\n",
       "| 1960 | 114.2 | 502.601 | 393.1 | 251.4 | 125.368 | 1960 | 69.564 |\n",
       "| 1961 | 115.7 | 518.173 | 480.6 | 257.2 | 127.852 | 1961 | 69.331 |\n",
       "| 1962 | 116.9 | 554.894 | 400.7 | 282.7 | 130.081 | 1962 | 70.551 |\n",
       "\n"
      ],
      "text/plain": [
       "     GNP.deflator GNP     Unemployed Armed.Forces Population Year Employed\n",
       "1947  83.0        234.289 235.6      159.0        107.608    1947 60.323  \n",
       "1948  88.5        259.426 232.5      145.6        108.632    1948 61.122  \n",
       "1949  88.2        258.054 368.2      161.6        109.773    1949 60.171  \n",
       "1950  89.5        284.599 335.1      165.0        110.929    1950 61.187  \n",
       "1951  96.2        328.975 209.9      309.9        112.075    1951 63.221  \n",
       "1952  98.1        346.999 193.2      359.4        113.270    1952 63.639  \n",
       "1953  99.0        365.385 187.0      354.7        115.094    1953 64.989  \n",
       "1954 100.0        363.112 357.8      335.0        116.219    1954 63.761  \n",
       "1955 101.2        397.469 290.4      304.8        117.388    1955 66.019  \n",
       "1956 104.6        419.180 282.2      285.7        118.734    1956 67.857  \n",
       "1957 108.4        442.769 293.6      279.8        120.445    1957 68.169  \n",
       "1958 110.8        444.546 468.1      263.7        121.950    1958 66.513  \n",
       "1959 112.6        482.704 381.3      255.2        123.366    1959 68.655  \n",
       "1960 114.2        502.601 393.1      251.4        125.368    1960 69.564  \n",
       "1961 115.7        518.173 480.6      257.2        127.852    1961 69.331  \n",
       "1962 116.9        554.894 400.7      282.7        130.081    1962 70.551  "
      ]
     },
     "metadata": {},
     "output_type": "display_data"
    }
   ],
   "source": [
    "longley"
   ]
  },
  {
   "cell_type": "code",
   "execution_count": null,
   "metadata": {
    "vscode": {
     "languageId": "r"
    }
   },
   "outputs": [],
   "source": [
    "inter=mean(y)-sd(y)*sqrt(15)*t(beta2)%*%(as.vector(colMeans(X)/(apply(X,2,sd)*sqrt(15))))"
   ]
  },
  {
   "cell_type": "markdown",
   "metadata": {},
   "source": [
    "条件数：程度小  100  较强  1000  严重"
   ]
  },
  {
   "cell_type": "markdown",
   "metadata": {},
   "source": []
  },
  {
   "cell_type": "code",
   "execution_count": null,
   "metadata": {
    "vscode": {
     "languageId": "r"
    }
   },
   "outputs": [
    {
     "data": {
      "text/html": [
       "12220.0098602743"
      ],
      "text/latex": [
       "12220.0098602743"
      ],
      "text/markdown": [
       "12220.0098602743"
      ],
      "text/plain": [
       "[1] 12220.01"
      ]
     },
     "metadata": {},
     "output_type": "display_data"
    }
   ],
   "source": [
    "kappa(t(X)%*%X,exact=T)"
   ]
  },
  {
   "cell_type": "code",
   "execution_count": 4,
   "metadata": {
    "vscode": {
     "languageId": "r"
    }
   },
   "outputs": [
    {
     "data": {
      "text/html": [
       "<table class=\"dataframe\">\n",
       "<caption>A matrix: 6 × 1 of type dbl</caption>\n",
       "<tbody>\n",
       "\t<tr><th scope=row>GNP.deflator</th><td> 0.04628202</td></tr>\n",
       "\t<tr><th scope=row>GNP</th><td>-1.01374635</td></tr>\n",
       "\t<tr><th scope=row>Unemployed</th><td>-0.53754258</td></tr>\n",
       "\t<tr><th scope=row>Armed.Forces</th><td>-0.20474069</td></tr>\n",
       "\t<tr><th scope=row>Population</th><td>-0.10122111</td></tr>\n",
       "\t<tr><th scope=row>Year</th><td> 2.47966438</td></tr>\n",
       "</tbody>\n",
       "</table>\n"
      ],
      "text/latex": [
       "A matrix: 6 × 1 of type dbl\n",
       "\\begin{tabular}{r|l}\n",
       "\tGNP.deflator &  0.04628202\\\\\n",
       "\tGNP & -1.01374635\\\\\n",
       "\tUnemployed & -0.53754258\\\\\n",
       "\tArmed.Forces & -0.20474069\\\\\n",
       "\tPopulation & -0.10122111\\\\\n",
       "\tYear &  2.47966438\\\\\n",
       "\\end{tabular}\n"
      ],
      "text/markdown": [
       "\n",
       "A matrix: 6 × 1 of type dbl\n",
       "\n",
       "| GNP.deflator |  0.04628202 |\n",
       "| GNP | -1.01374635 |\n",
       "| Unemployed | -0.53754258 |\n",
       "| Armed.Forces | -0.20474069 |\n",
       "| Population | -0.10122111 |\n",
       "| Year |  2.47966438 |\n",
       "\n"
      ],
      "text/plain": [
       "             [,1]       \n",
       "GNP.deflator  0.04628202\n",
       "GNP          -1.01374635\n",
       "Unemployed   -0.53754258\n",
       "Armed.Forces -0.20474069\n",
       "Population   -0.10122111\n",
       "Year          2.47966438"
      ]
     },
     "metadata": {},
     "output_type": "display_data"
    }
   ],
   "source": [
    "solve(t(X)%*%X)%*%t(X)%*%y"
   ]
  },
  {
   "cell_type": "markdown",
   "metadata": {},
   "source": [
    "方差扩大因子法：不存在  10  较强   100    严重"
   ]
  },
  {
   "cell_type": "code",
   "execution_count": null,
   "metadata": {
    "vscode": {
     "languageId": "r"
    }
   },
   "outputs": [
    {
     "data": {
      "text/html": [
       "<style>\n",
       ".dl-inline {width: auto; margin:0; padding: 0}\n",
       ".dl-inline>dt, .dl-inline>dd {float: none; width: auto; display: inline-block}\n",
       ".dl-inline>dt::after {content: \":\\0020\"; padding-right: .5ex}\n",
       ".dl-inline>dt:not(:first-of-type) {padding-left: .5ex}\n",
       "</style><dl class=dl-inline><dt>GNP.deflator</dt><dd>135.53243827999</dd><dt>GNP</dt><dd>1788.513482718</dd><dt>Unemployed</dt><dd>33.6188905960484</dd><dt>Armed.Forces</dt><dd>3.58893019344552</dd><dt>Population</dt><dd>399.151022312601</dd><dt>Year</dt><dd>758.980597406813</dd></dl>\n"
      ],
      "text/latex": [
       "\\begin{description*}\n",
       "\\item[GNP.deflator] 135.53243827999\n",
       "\\item[GNP] 1788.513482718\n",
       "\\item[Unemployed] 33.6188905960484\n",
       "\\item[Armed.Forces] 3.58893019344552\n",
       "\\item[Population] 399.151022312601\n",
       "\\item[Year] 758.980597406813\n",
       "\\end{description*}\n"
      ],
      "text/markdown": [
       "GNP.deflator\n",
       ":   135.53243827999GNP\n",
       ":   1788.513482718Unemployed\n",
       ":   33.6188905960484Armed.Forces\n",
       ":   3.58893019344552Population\n",
       ":   399.151022312601Year\n",
       ":   758.980597406813\n",
       "\n"
      ],
      "text/plain": [
       "GNP.deflator          GNP   Unemployed Armed.Forces   Population         Year \n",
       "   135.53244   1788.51348     33.61889      3.58893    399.15102    758.98060 "
      ]
     },
     "metadata": {},
     "output_type": "display_data"
    }
   ],
   "source": [
    "library(car)\n",
    "vif(fm1)"
   ]
  },
  {
   "cell_type": "markdown",
   "metadata": {},
   "source": [
    "绘图"
   ]
  },
  {
   "cell_type": "code",
   "execution_count": null,
   "metadata": {
    "vscode": {
     "languageId": "r"
    }
   },
   "outputs": [
    {
     "data": {
      "image/png": "[encoded data removed]",
      "text/plain": [
       "Plot with title \"\""
      ]
     },
     "metadata": {
      "image/png": {
       "height": 420,
       "width": 420
      }
     },
     "output_type": "display_data"
    }
   ],
   "source": [
    "library(corrplot)\n",
    "corrplot.mixed(cor(X))"
   ]
  },
  {
   "cell_type": "markdown",
   "metadata": {},
   "source": [
    "## 第二问：主成分估计"
   ]
  },
  {
   "cell_type": "code",
   "execution_count": null,
   "metadata": {
    "vscode": {
     "languageId": "r"
    }
   },
   "outputs": [
    {
     "data": {
      "text/html": [
       "-4.92227786308419e-16"
      ],
      "text/latex": [
       "-4.92227786308419e-16"
      ],
      "text/markdown": [
       "-4.92227786308419e-16"
      ],
      "text/plain": [
       "[1] -4.922278e-16"
      ]
     },
     "metadata": {},
     "output_type": "display_data"
    },
    {
     "data": {
      "text/html": [
       "<table class=\"dataframe\">\n",
       "<caption>A matrix: 16 × 1 of type dbl</caption>\n",
       "<tbody>\n",
       "\t<tr><th scope=row>1947</th><td>-0.17234061</td></tr>\n",
       "\t<tr><th scope=row>1948</th><td> 0.34533289</td></tr>\n",
       "\t<tr><th scope=row>1949</th><td>-0.04291875</td></tr>\n",
       "\t<tr><th scope=row>1950</th><td> 0.14566152</td></tr>\n",
       "\t<tr><th scope=row>1951</th><td> 0.27508290</td></tr>\n",
       "\t<tr><th scope=row>1952</th><td> 0.55004065</td></tr>\n",
       "\t<tr><th scope=row>1953</th><td> 0.10213269</td></tr>\n",
       "\t<tr><th scope=row>1954</th><td>-0.09371295</td></tr>\n",
       "\t<tr><th scope=row>1955</th><td>-0.45603563</td></tr>\n",
       "\t<tr><th scope=row>1956</th><td>-1.07693130</td></tr>\n",
       "\t<tr><th scope=row>1957</th><td>-0.36063457</td></tr>\n",
       "\t<tr><th scope=row>1958</th><td> 0.04949157</td></tr>\n",
       "\t<tr><th scope=row>1959</th><td> 0.04162528</td></tr>\n",
       "\t<tr><th scope=row>1960</th><td>-0.06684996</td></tr>\n",
       "\t<tr><th scope=row>1961</th><td> 0.03981460</td></tr>\n",
       "\t<tr><th scope=row>1962</th><td> 0.72024169</td></tr>\n",
       "</tbody>\n",
       "</table>\n"
      ],
      "text/latex": [
       "A matrix: 16 × 1 of type dbl\n",
       "\\begin{tabular}{r|l}\n",
       "\t1947 & -0.17234061\\\\\n",
       "\t1948 &  0.34533289\\\\\n",
       "\t1949 & -0.04291875\\\\\n",
       "\t1950 &  0.14566152\\\\\n",
       "\t1951 &  0.27508290\\\\\n",
       "\t1952 &  0.55004065\\\\\n",
       "\t1953 &  0.10213269\\\\\n",
       "\t1954 & -0.09371295\\\\\n",
       "\t1955 & -0.45603563\\\\\n",
       "\t1956 & -1.07693130\\\\\n",
       "\t1957 & -0.36063457\\\\\n",
       "\t1958 &  0.04949157\\\\\n",
       "\t1959 &  0.04162528\\\\\n",
       "\t1960 & -0.06684996\\\\\n",
       "\t1961 &  0.03981460\\\\\n",
       "\t1962 &  0.72024169\\\\\n",
       "\\end{tabular}\n"
      ],
      "text/markdown": [
       "\n",
       "A matrix: 16 × 1 of type dbl\n",
       "\n",
       "| 1947 | -0.17234061 |\n",
       "| 1948 |  0.34533289 |\n",
       "| 1949 | -0.04291875 |\n",
       "| 1950 |  0.14566152 |\n",
       "| 1951 |  0.27508290 |\n",
       "| 1952 |  0.55004065 |\n",
       "| 1953 |  0.10213269 |\n",
       "| 1954 | -0.09371295 |\n",
       "| 1955 | -0.45603563 |\n",
       "| 1956 | -1.07693130 |\n",
       "| 1957 | -0.36063457 |\n",
       "| 1958 |  0.04949157 |\n",
       "| 1959 |  0.04162528 |\n",
       "| 1960 | -0.06684996 |\n",
       "| 1961 |  0.03981460 |\n",
       "| 1962 |  0.72024169 |\n",
       "\n"
      ],
      "text/plain": [
       "     [,1]       \n",
       "1947 -0.17234061\n",
       "1948  0.34533289\n",
       "1949 -0.04291875\n",
       "1950  0.14566152\n",
       "1951  0.27508290\n",
       "1952  0.55004065\n",
       "1953  0.10213269\n",
       "1954 -0.09371295\n",
       "1955 -0.45603563\n",
       "1956 -1.07693130\n",
       "1957 -0.36063457\n",
       "1958  0.04949157\n",
       "1959  0.04162528\n",
       "1960 -0.06684996\n",
       "1961  0.03981460\n",
       "1962  0.72024169"
      ]
     },
     "metadata": {},
     "output_type": "display_data"
    }
   ],
   "source": [
    "(alph0=mean(y))\n",
    "Z1=X%*%phi[,1:3]\n",
    "alph1=solve(t(Z1)%*%Z1)%*%t(Z1)%*%y\n",
    "beta1=phi[,1:3]%*%alph1\n",
    "inter=ymean-ysd*t(beta2)%*%(as.vector(xmean/xsd))\n",
    "betaz=ysd*(phi[,1:3]%*%alph2)/as.vector(xsd)\n",
    "(oldX%*%betaz+rep(inter,16)-oldY)"
   ]
  },
  {
   "cell_type": "code",
   "execution_count": null,
   "metadata": {
    "vscode": {
     "languageId": "r"
    }
   },
   "outputs": [
    {
     "data": {
      "text/html": [
       "<table class=\"dataframe\">\n",
       "<caption>A matrix: 6 × 6 of type dbl</caption>\n",
       "<tbody>\n",
       "\t<tr><td>-0.4618349</td><td> 0.0578427677</td><td> 0.1491199</td><td> 0.792873559</td><td>-0.337937826</td><td> 0.13518707</td></tr>\n",
       "\t<tr><td>-0.4615043</td><td> 0.0532122862</td><td> 0.2776823</td><td>-0.121621225</td><td> 0.149573192</td><td>-0.81848082</td></tr>\n",
       "\t<tr><td>-0.3213167</td><td>-0.5955137627</td><td>-0.7283057</td><td> 0.007645795</td><td>-0.009231961</td><td>-0.10745268</td></tr>\n",
       "\t<tr><td>-0.2015097</td><td> 0.7981925480</td><td>-0.5616075</td><td>-0.077254979</td><td>-0.024252472</td><td>-0.01797096</td></tr>\n",
       "\t<tr><td>-0.4622794</td><td>-0.0455444698</td><td> 0.1959846</td><td>-0.589744965</td><td>-0.548578173</td><td> 0.31157087</td></tr>\n",
       "\t<tr><td>-0.4649403</td><td> 0.0006187884</td><td> 0.1281157</td><td>-0.052286554</td><td> 0.749542836</td><td> 0.45040888</td></tr>\n",
       "</tbody>\n",
       "</table>\n"
      ],
      "text/latex": [
       "A matrix: 6 × 6 of type dbl\n",
       "\\begin{tabular}{llllll}\n",
       "\t -0.4618349 &  0.0578427677 &  0.1491199 &  0.792873559 & -0.337937826 &  0.13518707\\\\\n",
       "\t -0.4615043 &  0.0532122862 &  0.2776823 & -0.121621225 &  0.149573192 & -0.81848082\\\\\n",
       "\t -0.3213167 & -0.5955137627 & -0.7283057 &  0.007645795 & -0.009231961 & -0.10745268\\\\\n",
       "\t -0.2015097 &  0.7981925480 & -0.5616075 & -0.077254979 & -0.024252472 & -0.01797096\\\\\n",
       "\t -0.4622794 & -0.0455444698 &  0.1959846 & -0.589744965 & -0.548578173 &  0.31157087\\\\\n",
       "\t -0.4649403 &  0.0006187884 &  0.1281157 & -0.052286554 &  0.749542836 &  0.45040888\\\\\n",
       "\\end{tabular}\n"
      ],
      "text/markdown": [
       "\n",
       "A matrix: 6 × 6 of type dbl\n",
       "\n",
       "| -0.4618349 |  0.0578427677 |  0.1491199 |  0.792873559 | -0.337937826 |  0.13518707 |\n",
       "| -0.4615043 |  0.0532122862 |  0.2776823 | -0.121621225 |  0.149573192 | -0.81848082 |\n",
       "| -0.3213167 | -0.5955137627 | -0.7283057 |  0.007645795 | -0.009231961 | -0.10745268 |\n",
       "| -0.2015097 |  0.7981925480 | -0.5616075 | -0.077254979 | -0.024252472 | -0.01797096 |\n",
       "| -0.4622794 | -0.0455444698 |  0.1959846 | -0.589744965 | -0.548578173 |  0.31157087 |\n",
       "| -0.4649403 |  0.0006187884 |  0.1281157 | -0.052286554 |  0.749542836 |  0.45040888 |\n",
       "\n"
      ],
      "text/plain": [
       "     [,1]       [,2]          [,3]       [,4]         [,5]         [,6]       \n",
       "[1,] -0.4618349  0.0578427677  0.1491199  0.792873559 -0.337937826  0.13518707\n",
       "[2,] -0.4615043  0.0532122862  0.2776823 -0.121621225  0.149573192 -0.81848082\n",
       "[3,] -0.3213167 -0.5955137627 -0.7283057  0.007645795 -0.009231961 -0.10745268\n",
       "[4,] -0.2015097  0.7981925480 -0.5616075 -0.077254979 -0.024252472 -0.01797096\n",
       "[5,] -0.4622794 -0.0455444698  0.1959846 -0.589744965 -0.548578173  0.31157087\n",
       "[6,] -0.4649403  0.0006187884  0.1281157 -0.052286554  0.749542836  0.45040888"
      ]
     },
     "metadata": {},
     "output_type": "display_data"
    },
    {
     "data": {
      "text/html": [
       "<table class=\"dataframe\">\n",
       "<caption>A matrix: 6 × 6 of type dbl</caption>\n",
       "<tbody>\n",
       "\t<tr><td>4.603377</td><td>0.00000</td><td>0.0000000</td><td>0.00000000</td><td>0.000000000</td><td>0.0000000000</td></tr>\n",
       "\t<tr><td>0.000000</td><td>1.17534</td><td>0.0000000</td><td>0.00000000</td><td>0.000000000</td><td>0.0000000000</td></tr>\n",
       "\t<tr><td>0.000000</td><td>0.00000</td><td>0.2034254</td><td>0.00000000</td><td>0.000000000</td><td>0.0000000000</td></tr>\n",
       "\t<tr><td>0.000000</td><td>0.00000</td><td>0.0000000</td><td>0.01492826</td><td>0.000000000</td><td>0.0000000000</td></tr>\n",
       "\t<tr><td>0.000000</td><td>0.00000</td><td>0.0000000</td><td>0.00000000</td><td>0.002552066</td><td>0.0000000000</td></tr>\n",
       "\t<tr><td>0.000000</td><td>0.00000</td><td>0.0000000</td><td>0.00000000</td><td>0.000000000</td><td>0.0003767081</td></tr>\n",
       "</tbody>\n",
       "</table>\n"
      ],
      "text/latex": [
       "A matrix: 6 × 6 of type dbl\n",
       "\\begin{tabular}{llllll}\n",
       "\t 4.603377 & 0.00000 & 0.0000000 & 0.00000000 & 0.000000000 & 0.0000000000\\\\\n",
       "\t 0.000000 & 1.17534 & 0.0000000 & 0.00000000 & 0.000000000 & 0.0000000000\\\\\n",
       "\t 0.000000 & 0.00000 & 0.2034254 & 0.00000000 & 0.000000000 & 0.0000000000\\\\\n",
       "\t 0.000000 & 0.00000 & 0.0000000 & 0.01492826 & 0.000000000 & 0.0000000000\\\\\n",
       "\t 0.000000 & 0.00000 & 0.0000000 & 0.00000000 & 0.002552066 & 0.0000000000\\\\\n",
       "\t 0.000000 & 0.00000 & 0.0000000 & 0.00000000 & 0.000000000 & 0.0003767081\\\\\n",
       "\\end{tabular}\n"
      ],
      "text/markdown": [
       "\n",
       "A matrix: 6 × 6 of type dbl\n",
       "\n",
       "| 4.603377 | 0.00000 | 0.0000000 | 0.00000000 | 0.000000000 | 0.0000000000 |\n",
       "| 0.000000 | 1.17534 | 0.0000000 | 0.00000000 | 0.000000000 | 0.0000000000 |\n",
       "| 0.000000 | 0.00000 | 0.2034254 | 0.00000000 | 0.000000000 | 0.0000000000 |\n",
       "| 0.000000 | 0.00000 | 0.0000000 | 0.01492826 | 0.000000000 | 0.0000000000 |\n",
       "| 0.000000 | 0.00000 | 0.0000000 | 0.00000000 | 0.002552066 | 0.0000000000 |\n",
       "| 0.000000 | 0.00000 | 0.0000000 | 0.00000000 | 0.000000000 | 0.0003767081 |\n",
       "\n"
      ],
      "text/plain": [
       "     [,1]     [,2]    [,3]      [,4]       [,5]        [,6]        \n",
       "[1,] 4.603377 0.00000 0.0000000 0.00000000 0.000000000 0.0000000000\n",
       "[2,] 0.000000 1.17534 0.0000000 0.00000000 0.000000000 0.0000000000\n",
       "[3,] 0.000000 0.00000 0.2034254 0.00000000 0.000000000 0.0000000000\n",
       "[4,] 0.000000 0.00000 0.0000000 0.01492826 0.000000000 0.0000000000\n",
       "[5,] 0.000000 0.00000 0.0000000 0.00000000 0.002552066 0.0000000000\n",
       "[6,] 0.000000 0.00000 0.0000000 0.00000000 0.000000000 0.0003767081"
      ]
     },
     "metadata": {},
     "output_type": "display_data"
    },
    {
     "data": {
      "text/html": [
       "<table class=\"dataframe\">\n",
       "<caption>A matrix: 16 × 6 of type dbl</caption>\n",
       "<tbody>\n",
       "\t<tr><th scope=row>1947</th><td> 0.898235508</td><td>-0.19402775</td><td> 0.079511268</td><td>-0.042406054</td><td>-0.0022714303</td><td> 0.0006659502</td></tr>\n",
       "\t<tr><th scope=row>1948</th><td> 0.777310468</td><td>-0.21922133</td><td> 0.165823376</td><td> 0.032512939</td><td>-0.0158913128</td><td> 0.0030932645</td></tr>\n",
       "\t<tr><th scope=row>1949</th><td> 0.605037469</td><td>-0.39762541</td><td>-0.127403989</td><td>-0.002276517</td><td>-0.0014836793</td><td> 0.0013065120</td></tr>\n",
       "\t<tr><th scope=row>1950</th><td> 0.540643189</td><td>-0.32954452</td><td>-0.028735776</td><td>-0.015816335</td><td> 0.0159683879</td><td>-0.0035312718</td></tr>\n",
       "\t<tr><th scope=row>1951</th><td> 0.371351917</td><td> 0.31908067</td><td>-0.007512367</td><td> 0.025165094</td><td>-0.0134924582</td><td>-0.0110204407</td></tr>\n",
       "\t<tr><th scope=row>1952</th><td> 0.260847578</td><td> 0.49628523</td><td>-0.041625960</td><td> 0.011978645</td><td>-0.0095631050</td><td>-0.0032922649</td></tr>\n",
       "\t<tr><th scope=row>1953</th><td> 0.181365955</td><td> 0.49330529</td><td> 0.017334423</td><td>-0.018304337</td><td>-0.0056063465</td><td> 0.0082025012</td></tr>\n",
       "\t<tr><th scope=row>1954</th><td>-0.008388974</td><td> 0.15312430</td><td>-0.268267955</td><td>-0.016823278</td><td> 0.0005828204</td><td> 0.0043103827</td></tr>\n",
       "\t<tr><th scope=row>1955</th><td>-0.025693908</td><td> 0.17905905</td><td>-0.025191774</td><td>-0.026106642</td><td> 0.0255123675</td><td>-0.0048862303</td></tr>\n",
       "\t<tr><th scope=row>1956</th><td>-0.116042743</td><td> 0.14145282</td><td> 0.075638915</td><td> 0.004534462</td><td> 0.0216272081</td><td> 0.0036510912</td></tr>\n",
       "\t<tr><th scope=row>1957</th><td>-0.246596117</td><td> 0.11088300</td><td> 0.114960022</td><td> 0.030810933</td><td> 0.0061175778</td><td> 0.0070111363</td></tr>\n",
       "\t<tr><th scope=row>1958</th><td>-0.469173083</td><td>-0.22287000</td><td>-0.174908528</td><td> 0.048298843</td><td>-0.0055953377</td><td> 0.0020924381</td></tr>\n",
       "\t<tr><th scope=row>1959</th><td>-0.500903096</td><td>-0.09981213</td><td> 0.068671188</td><td> 0.037160158</td><td> 0.0094725599</td><td>-0.0060755291</td></tr>\n",
       "\t<tr><th scope=row>1960</th><td>-0.609639039</td><td>-0.12886808</td><td> 0.094416131</td><td> 0.015904827</td><td> 0.0041919316</td><td> 0.0011251072</td></tr>\n",
       "\t<tr><th scope=row>1961</th><td>-0.794740919</td><td>-0.25560549</td><td>-0.052147875</td><td>-0.017584680</td><td>-0.0145700602</td><td>-0.0003430311</td></tr>\n",
       "\t<tr><th scope=row>1962</th><td>-0.863614206</td><td>-0.04561565</td><td> 0.109438903</td><td>-0.067048057</td><td>-0.0149991233</td><td>-0.0023096154</td></tr>\n",
       "</tbody>\n",
       "</table>\n"
      ],
      "text/latex": [
       "A matrix: 16 × 6 of type dbl\n",
       "\\begin{tabular}{r|llllll}\n",
       "\t1947 &  0.898235508 & -0.19402775 &  0.079511268 & -0.042406054 & -0.0022714303 &  0.0006659502\\\\\n",
       "\t1948 &  0.777310468 & -0.21922133 &  0.165823376 &  0.032512939 & -0.0158913128 &  0.0030932645\\\\\n",
       "\t1949 &  0.605037469 & -0.39762541 & -0.127403989 & -0.002276517 & -0.0014836793 &  0.0013065120\\\\\n",
       "\t1950 &  0.540643189 & -0.32954452 & -0.028735776 & -0.015816335 &  0.0159683879 & -0.0035312718\\\\\n",
       "\t1951 &  0.371351917 &  0.31908067 & -0.007512367 &  0.025165094 & -0.0134924582 & -0.0110204407\\\\\n",
       "\t1952 &  0.260847578 &  0.49628523 & -0.041625960 &  0.011978645 & -0.0095631050 & -0.0032922649\\\\\n",
       "\t1953 &  0.181365955 &  0.49330529 &  0.017334423 & -0.018304337 & -0.0056063465 &  0.0082025012\\\\\n",
       "\t1954 & -0.008388974 &  0.15312430 & -0.268267955 & -0.016823278 &  0.0005828204 &  0.0043103827\\\\\n",
       "\t1955 & -0.025693908 &  0.17905905 & -0.025191774 & -0.026106642 &  0.0255123675 & -0.0048862303\\\\\n",
       "\t1956 & -0.116042743 &  0.14145282 &  0.075638915 &  0.004534462 &  0.0216272081 &  0.0036510912\\\\\n",
       "\t1957 & -0.246596117 &  0.11088300 &  0.114960022 &  0.030810933 &  0.0061175778 &  0.0070111363\\\\\n",
       "\t1958 & -0.469173083 & -0.22287000 & -0.174908528 &  0.048298843 & -0.0055953377 &  0.0020924381\\\\\n",
       "\t1959 & -0.500903096 & -0.09981213 &  0.068671188 &  0.037160158 &  0.0094725599 & -0.0060755291\\\\\n",
       "\t1960 & -0.609639039 & -0.12886808 &  0.094416131 &  0.015904827 &  0.0041919316 &  0.0011251072\\\\\n",
       "\t1961 & -0.794740919 & -0.25560549 & -0.052147875 & -0.017584680 & -0.0145700602 & -0.0003430311\\\\\n",
       "\t1962 & -0.863614206 & -0.04561565 &  0.109438903 & -0.067048057 & -0.0149991233 & -0.0023096154\\\\\n",
       "\\end{tabular}\n"
      ],
      "text/markdown": [
       "\n",
       "A matrix: 16 × 6 of type dbl\n",
       "\n",
       "| 1947 |  0.898235508 | -0.19402775 |  0.079511268 | -0.042406054 | -0.0022714303 |  0.0006659502 |\n",
       "| 1948 |  0.777310468 | -0.21922133 |  0.165823376 |  0.032512939 | -0.0158913128 |  0.0030932645 |\n",
       "| 1949 |  0.605037469 | -0.39762541 | -0.127403989 | -0.002276517 | -0.0014836793 |  0.0013065120 |\n",
       "| 1950 |  0.540643189 | -0.32954452 | -0.028735776 | -0.015816335 |  0.0159683879 | -0.0035312718 |\n",
       "| 1951 |  0.371351917 |  0.31908067 | -0.007512367 |  0.025165094 | -0.0134924582 | -0.0110204407 |\n",
       "| 1952 |  0.260847578 |  0.49628523 | -0.041625960 |  0.011978645 | -0.0095631050 | -0.0032922649 |\n",
       "| 1953 |  0.181365955 |  0.49330529 |  0.017334423 | -0.018304337 | -0.0056063465 |  0.0082025012 |\n",
       "| 1954 | -0.008388974 |  0.15312430 | -0.268267955 | -0.016823278 |  0.0005828204 |  0.0043103827 |\n",
       "| 1955 | -0.025693908 |  0.17905905 | -0.025191774 | -0.026106642 |  0.0255123675 | -0.0048862303 |\n",
       "| 1956 | -0.116042743 |  0.14145282 |  0.075638915 |  0.004534462 |  0.0216272081 |  0.0036510912 |\n",
       "| 1957 | -0.246596117 |  0.11088300 |  0.114960022 |  0.030810933 |  0.0061175778 |  0.0070111363 |\n",
       "| 1958 | -0.469173083 | -0.22287000 | -0.174908528 |  0.048298843 | -0.0055953377 |  0.0020924381 |\n",
       "| 1959 | -0.500903096 | -0.09981213 |  0.068671188 |  0.037160158 |  0.0094725599 | -0.0060755291 |\n",
       "| 1960 | -0.609639039 | -0.12886808 |  0.094416131 |  0.015904827 |  0.0041919316 |  0.0011251072 |\n",
       "| 1961 | -0.794740919 | -0.25560549 | -0.052147875 | -0.017584680 | -0.0145700602 | -0.0003430311 |\n",
       "| 1962 | -0.863614206 | -0.04561565 |  0.109438903 | -0.067048057 | -0.0149991233 | -0.0023096154 |\n",
       "\n"
      ],
      "text/plain": [
       "     [,1]         [,2]        [,3]         [,4]         [,5]         \n",
       "1947  0.898235508 -0.19402775  0.079511268 -0.042406054 -0.0022714303\n",
       "1948  0.777310468 -0.21922133  0.165823376  0.032512939 -0.0158913128\n",
       "1949  0.605037469 -0.39762541 -0.127403989 -0.002276517 -0.0014836793\n",
       "1950  0.540643189 -0.32954452 -0.028735776 -0.015816335  0.0159683879\n",
       "1951  0.371351917  0.31908067 -0.007512367  0.025165094 -0.0134924582\n",
       "1952  0.260847578  0.49628523 -0.041625960  0.011978645 -0.0095631050\n",
       "1953  0.181365955  0.49330529  0.017334423 -0.018304337 -0.0056063465\n",
       "1954 -0.008388974  0.15312430 -0.268267955 -0.016823278  0.0005828204\n",
       "1955 -0.025693908  0.17905905 -0.025191774 -0.026106642  0.0255123675\n",
       "1956 -0.116042743  0.14145282  0.075638915  0.004534462  0.0216272081\n",
       "1957 -0.246596117  0.11088300  0.114960022  0.030810933  0.0061175778\n",
       "1958 -0.469173083 -0.22287000 -0.174908528  0.048298843 -0.0055953377\n",
       "1959 -0.500903096 -0.09981213  0.068671188  0.037160158  0.0094725599\n",
       "1960 -0.609639039 -0.12886808  0.094416131  0.015904827  0.0041919316\n",
       "1961 -0.794740919 -0.25560549 -0.052147875 -0.017584680 -0.0145700602\n",
       "1962 -0.863614206 -0.04561565  0.109438903 -0.067048057 -0.0149991233\n",
       "     [,6]         \n",
       "1947  0.0006659502\n",
       "1948  0.0030932645\n",
       "1949  0.0013065120\n",
       "1950 -0.0035312718\n",
       "1951 -0.0110204407\n",
       "1952 -0.0032922649\n",
       "1953  0.0082025012\n",
       "1954  0.0043103827\n",
       "1955 -0.0048862303\n",
       "1956  0.0036510912\n",
       "1957  0.0070111363\n",
       "1958  0.0020924381\n",
       "1959 -0.0060755291\n",
       "1960  0.0011251072\n",
       "1961 -0.0003430311\n",
       "1962 -0.0023096154"
      ]
     },
     "metadata": {},
     "output_type": "display_data"
    }
   ],
   "source": [
    "(phi=eigen(t(X)%*%X)$vectors)\n",
    "(gam=diag(eigen(t(X)%*%X)$values))\n",
    "(Z=X%*%phi)\n",
    "#这里没问题"
   ]
  },
  {
   "cell_type": "code",
   "execution_count": null,
   "metadata": {
    "vscode": {
     "languageId": "r"
    }
   },
   "outputs": [
    {
     "data": {
      "text/html": [
       "0.767229515961398"
      ],
      "text/latex": [
       "0.767229515961398"
      ],
      "text/markdown": [
       "0.767229515961398"
      ],
      "text/plain": [
       "[1] 0.7672295"
      ]
     },
     "metadata": {},
     "output_type": "display_data"
    },
    {
     "data": {
      "text/html": [
       "0.997023827904495"
      ],
      "text/latex": [
       "0.997023827904495"
      ],
      "text/markdown": [
       "0.997023827904495"
      ],
      "text/plain": [
       "[1] 0.9970238"
      ]
     },
     "metadata": {},
     "output_type": "display_data"
    }
   ],
   "source": [
    "(gam[1,1]/sum(diag(gam)))\n",
    "((gam[1,1]+gam[2,2]+gam[3,3])/sum(diag(gam)))\n",
    "#没问题"
   ]
  },
  {
   "cell_type": "markdown",
   "metadata": {},
   "source": [
    "于是选前两个主成分"
   ]
  },
  {
   "cell_type": "code",
   "execution_count": null,
   "metadata": {
    "vscode": {
     "languageId": "r"
    }
   },
   "outputs": [
    {
     "data": {
      "text/html": [
       "<table class=\"dataframe\">\n",
       "<caption>A matrix: 16 × 2 of type dbl</caption>\n",
       "<tbody>\n",
       "\t<tr><th scope=row>1947</th><td> 0.898235508</td><td>-0.19402775</td></tr>\n",
       "\t<tr><th scope=row>1948</th><td> 0.777310468</td><td>-0.21922133</td></tr>\n",
       "\t<tr><th scope=row>1949</th><td> 0.605037469</td><td>-0.39762541</td></tr>\n",
       "\t<tr><th scope=row>1950</th><td> 0.540643189</td><td>-0.32954452</td></tr>\n",
       "\t<tr><th scope=row>1951</th><td> 0.371351917</td><td> 0.31908067</td></tr>\n",
       "\t<tr><th scope=row>1952</th><td> 0.260847578</td><td> 0.49628523</td></tr>\n",
       "\t<tr><th scope=row>1953</th><td> 0.181365955</td><td> 0.49330529</td></tr>\n",
       "\t<tr><th scope=row>1954</th><td>-0.008388974</td><td> 0.15312430</td></tr>\n",
       "\t<tr><th scope=row>1955</th><td>-0.025693908</td><td> 0.17905905</td></tr>\n",
       "\t<tr><th scope=row>1956</th><td>-0.116042743</td><td> 0.14145282</td></tr>\n",
       "\t<tr><th scope=row>1957</th><td>-0.246596117</td><td> 0.11088300</td></tr>\n",
       "\t<tr><th scope=row>1958</th><td>-0.469173083</td><td>-0.22287000</td></tr>\n",
       "\t<tr><th scope=row>1959</th><td>-0.500903096</td><td>-0.09981213</td></tr>\n",
       "\t<tr><th scope=row>1960</th><td>-0.609639039</td><td>-0.12886808</td></tr>\n",
       "\t<tr><th scope=row>1961</th><td>-0.794740919</td><td>-0.25560549</td></tr>\n",
       "\t<tr><th scope=row>1962</th><td>-0.863614206</td><td>-0.04561565</td></tr>\n",
       "</tbody>\n",
       "</table>\n"
      ],
      "text/latex": [
       "A matrix: 16 × 2 of type dbl\n",
       "\\begin{tabular}{r|ll}\n",
       "\t1947 &  0.898235508 & -0.19402775\\\\\n",
       "\t1948 &  0.777310468 & -0.21922133\\\\\n",
       "\t1949 &  0.605037469 & -0.39762541\\\\\n",
       "\t1950 &  0.540643189 & -0.32954452\\\\\n",
       "\t1951 &  0.371351917 &  0.31908067\\\\\n",
       "\t1952 &  0.260847578 &  0.49628523\\\\\n",
       "\t1953 &  0.181365955 &  0.49330529\\\\\n",
       "\t1954 & -0.008388974 &  0.15312430\\\\\n",
       "\t1955 & -0.025693908 &  0.17905905\\\\\n",
       "\t1956 & -0.116042743 &  0.14145282\\\\\n",
       "\t1957 & -0.246596117 &  0.11088300\\\\\n",
       "\t1958 & -0.469173083 & -0.22287000\\\\\n",
       "\t1959 & -0.500903096 & -0.09981213\\\\\n",
       "\t1960 & -0.609639039 & -0.12886808\\\\\n",
       "\t1961 & -0.794740919 & -0.25560549\\\\\n",
       "\t1962 & -0.863614206 & -0.04561565\\\\\n",
       "\\end{tabular}\n"
      ],
      "text/markdown": [
       "\n",
       "A matrix: 16 × 2 of type dbl\n",
       "\n",
       "| 1947 |  0.898235508 | -0.19402775 |\n",
       "| 1948 |  0.777310468 | -0.21922133 |\n",
       "| 1949 |  0.605037469 | -0.39762541 |\n",
       "| 1950 |  0.540643189 | -0.32954452 |\n",
       "| 1951 |  0.371351917 |  0.31908067 |\n",
       "| 1952 |  0.260847578 |  0.49628523 |\n",
       "| 1953 |  0.181365955 |  0.49330529 |\n",
       "| 1954 | -0.008388974 |  0.15312430 |\n",
       "| 1955 | -0.025693908 |  0.17905905 |\n",
       "| 1956 | -0.116042743 |  0.14145282 |\n",
       "| 1957 | -0.246596117 |  0.11088300 |\n",
       "| 1958 | -0.469173083 | -0.22287000 |\n",
       "| 1959 | -0.500903096 | -0.09981213 |\n",
       "| 1960 | -0.609639039 | -0.12886808 |\n",
       "| 1961 | -0.794740919 | -0.25560549 |\n",
       "| 1962 | -0.863614206 | -0.04561565 |\n",
       "\n"
      ],
      "text/plain": [
       "     [,1]         [,2]       \n",
       "1947  0.898235508 -0.19402775\n",
       "1948  0.777310468 -0.21922133\n",
       "1949  0.605037469 -0.39762541\n",
       "1950  0.540643189 -0.32954452\n",
       "1951  0.371351917  0.31908067\n",
       "1952  0.260847578  0.49628523\n",
       "1953  0.181365955  0.49330529\n",
       "1954 -0.008388974  0.15312430\n",
       "1955 -0.025693908  0.17905905\n",
       "1956 -0.116042743  0.14145282\n",
       "1957 -0.246596117  0.11088300\n",
       "1958 -0.469173083 -0.22287000\n",
       "1959 -0.500903096 -0.09981213\n",
       "1960 -0.609639039 -0.12886808\n",
       "1961 -0.794740919 -0.25560549\n",
       "1962 -0.863614206 -0.04561565"
      ]
     },
     "metadata": {},
     "output_type": "display_data"
    }
   ],
   "source": [
    "(Z1=X%*%phi[,1:2])"
   ]
  },
  {
   "cell_type": "code",
   "execution_count": null,
   "metadata": {
    "vscode": {
     "languageId": "r"
    }
   },
   "outputs": [
    {
     "data": {
      "text/html": [
       "<table class=\"dataframe\">\n",
       "<caption>A matrix: 16 × 3 of type dbl</caption>\n",
       "<tbody>\n",
       "\t<tr><th scope=row>1947</th><td> 0.898235508</td><td>-0.19402775</td><td> 0.079511268</td></tr>\n",
       "\t<tr><th scope=row>1948</th><td> 0.777310468</td><td>-0.21922133</td><td> 0.165823376</td></tr>\n",
       "\t<tr><th scope=row>1949</th><td> 0.605037469</td><td>-0.39762541</td><td>-0.127403989</td></tr>\n",
       "\t<tr><th scope=row>1950</th><td> 0.540643189</td><td>-0.32954452</td><td>-0.028735776</td></tr>\n",
       "\t<tr><th scope=row>1951</th><td> 0.371351917</td><td> 0.31908067</td><td>-0.007512367</td></tr>\n",
       "\t<tr><th scope=row>1952</th><td> 0.260847578</td><td> 0.49628523</td><td>-0.041625960</td></tr>\n",
       "\t<tr><th scope=row>1953</th><td> 0.181365955</td><td> 0.49330529</td><td> 0.017334423</td></tr>\n",
       "\t<tr><th scope=row>1954</th><td>-0.008388974</td><td> 0.15312430</td><td>-0.268267955</td></tr>\n",
       "\t<tr><th scope=row>1955</th><td>-0.025693908</td><td> 0.17905905</td><td>-0.025191774</td></tr>\n",
       "\t<tr><th scope=row>1956</th><td>-0.116042743</td><td> 0.14145282</td><td> 0.075638915</td></tr>\n",
       "\t<tr><th scope=row>1957</th><td>-0.246596117</td><td> 0.11088300</td><td> 0.114960022</td></tr>\n",
       "\t<tr><th scope=row>1958</th><td>-0.469173083</td><td>-0.22287000</td><td>-0.174908528</td></tr>\n",
       "\t<tr><th scope=row>1959</th><td>-0.500903096</td><td>-0.09981213</td><td> 0.068671188</td></tr>\n",
       "\t<tr><th scope=row>1960</th><td>-0.609639039</td><td>-0.12886808</td><td> 0.094416131</td></tr>\n",
       "\t<tr><th scope=row>1961</th><td>-0.794740919</td><td>-0.25560549</td><td>-0.052147875</td></tr>\n",
       "\t<tr><th scope=row>1962</th><td>-0.863614206</td><td>-0.04561565</td><td> 0.109438903</td></tr>\n",
       "</tbody>\n",
       "</table>\n"
      ],
      "text/latex": [
       "A matrix: 16 × 3 of type dbl\n",
       "\\begin{tabular}{r|lll}\n",
       "\t1947 &  0.898235508 & -0.19402775 &  0.079511268\\\\\n",
       "\t1948 &  0.777310468 & -0.21922133 &  0.165823376\\\\\n",
       "\t1949 &  0.605037469 & -0.39762541 & -0.127403989\\\\\n",
       "\t1950 &  0.540643189 & -0.32954452 & -0.028735776\\\\\n",
       "\t1951 &  0.371351917 &  0.31908067 & -0.007512367\\\\\n",
       "\t1952 &  0.260847578 &  0.49628523 & -0.041625960\\\\\n",
       "\t1953 &  0.181365955 &  0.49330529 &  0.017334423\\\\\n",
       "\t1954 & -0.008388974 &  0.15312430 & -0.268267955\\\\\n",
       "\t1955 & -0.025693908 &  0.17905905 & -0.025191774\\\\\n",
       "\t1956 & -0.116042743 &  0.14145282 &  0.075638915\\\\\n",
       "\t1957 & -0.246596117 &  0.11088300 &  0.114960022\\\\\n",
       "\t1958 & -0.469173083 & -0.22287000 & -0.174908528\\\\\n",
       "\t1959 & -0.500903096 & -0.09981213 &  0.068671188\\\\\n",
       "\t1960 & -0.609639039 & -0.12886808 &  0.094416131\\\\\n",
       "\t1961 & -0.794740919 & -0.25560549 & -0.052147875\\\\\n",
       "\t1962 & -0.863614206 & -0.04561565 &  0.109438903\\\\\n",
       "\\end{tabular}\n"
      ],
      "text/markdown": [
       "\n",
       "A matrix: 16 × 3 of type dbl\n",
       "\n",
       "| 1947 |  0.898235508 | -0.19402775 |  0.079511268 |\n",
       "| 1948 |  0.777310468 | -0.21922133 |  0.165823376 |\n",
       "| 1949 |  0.605037469 | -0.39762541 | -0.127403989 |\n",
       "| 1950 |  0.540643189 | -0.32954452 | -0.028735776 |\n",
       "| 1951 |  0.371351917 |  0.31908067 | -0.007512367 |\n",
       "| 1952 |  0.260847578 |  0.49628523 | -0.041625960 |\n",
       "| 1953 |  0.181365955 |  0.49330529 |  0.017334423 |\n",
       "| 1954 | -0.008388974 |  0.15312430 | -0.268267955 |\n",
       "| 1955 | -0.025693908 |  0.17905905 | -0.025191774 |\n",
       "| 1956 | -0.116042743 |  0.14145282 |  0.075638915 |\n",
       "| 1957 | -0.246596117 |  0.11088300 |  0.114960022 |\n",
       "| 1958 | -0.469173083 | -0.22287000 | -0.174908528 |\n",
       "| 1959 | -0.500903096 | -0.09981213 |  0.068671188 |\n",
       "| 1960 | -0.609639039 | -0.12886808 |  0.094416131 |\n",
       "| 1961 | -0.794740919 | -0.25560549 | -0.052147875 |\n",
       "| 1962 | -0.863614206 | -0.04561565 |  0.109438903 |\n",
       "\n"
      ],
      "text/plain": [
       "     [,1]         [,2]        [,3]        \n",
       "1947  0.898235508 -0.19402775  0.079511268\n",
       "1948  0.777310468 -0.21922133  0.165823376\n",
       "1949  0.605037469 -0.39762541 -0.127403989\n",
       "1950  0.540643189 -0.32954452 -0.028735776\n",
       "1951  0.371351917  0.31908067 -0.007512367\n",
       "1952  0.260847578  0.49628523 -0.041625960\n",
       "1953  0.181365955  0.49330529  0.017334423\n",
       "1954 -0.008388974  0.15312430 -0.268267955\n",
       "1955 -0.025693908  0.17905905 -0.025191774\n",
       "1956 -0.116042743  0.14145282  0.075638915\n",
       "1957 -0.246596117  0.11088300  0.114960022\n",
       "1958 -0.469173083 -0.22287000 -0.174908528\n",
       "1959 -0.500903096 -0.09981213  0.068671188\n",
       "1960 -0.609639039 -0.12886808  0.094416131\n",
       "1961 -0.794740919 -0.25560549 -0.052147875\n",
       "1962 -0.863614206 -0.04561565  0.109438903"
      ]
     },
     "metadata": {},
     "output_type": "display_data"
    }
   ],
   "source": [
    "(Z2=X%*%phi[,1:3])"
   ]
  },
  {
   "cell_type": "markdown",
   "metadata": {},
   "source": [
    "其最小二乘估计为："
   ]
  },
  {
   "cell_type": "code",
   "execution_count": null,
   "metadata": {
    "vscode": {
     "languageId": "r"
    }
   },
   "outputs": [
    {
     "data": {
      "text/html": [
       "-4.92227786308419e-16"
      ],
      "text/latex": [
       "-4.92227786308419e-16"
      ],
      "text/markdown": [
       "-4.92227786308419e-16"
      ],
      "text/plain": [
       "[1] -4.922278e-16"
      ]
     },
     "metadata": {},
     "output_type": "display_data"
    },
    {
     "data": {
      "text/html": [
       "<table class=\"dataframe\">\n",
       "<caption>A matrix: 2 × 1 of type dbl</caption>\n",
       "<tbody>\n",
       "\t<tr><td>-0.4456511</td></tr>\n",
       "\t<tr><td> 0.1115693</td></tr>\n",
       "</tbody>\n",
       "</table>\n"
      ],
      "text/latex": [
       "A matrix: 2 × 1 of type dbl\n",
       "\\begin{tabular}{l}\n",
       "\t -0.4456511\\\\\n",
       "\t  0.1115693\\\\\n",
       "\\end{tabular}\n"
      ],
      "text/markdown": [
       "\n",
       "A matrix: 2 × 1 of type dbl\n",
       "\n",
       "| -0.4456511 |\n",
       "|  0.1115693 |\n",
       "\n"
      ],
      "text/plain": [
       "     [,1]      \n",
       "[1,] -0.4456511\n",
       "[2,]  0.1115693"
      ]
     },
     "metadata": {},
     "output_type": "display_data"
    }
   ],
   "source": [
    "(alph0=mean(y))\n",
    "(alph1=solve(t(Z1)%*%Z1)%*%t(Z1)%*%y)"
   ]
  },
  {
   "cell_type": "code",
   "execution_count": null,
   "metadata": {
    "vscode": {
     "languageId": "r"
    }
   },
   "outputs": [
    {
     "data": {
      "text/html": [
       "<table class=\"dataframe\">\n",
       "<caption>A matrix: 3 × 1 of type dbl</caption>\n",
       "<tbody>\n",
       "\t<tr><td>-0.4456511</td></tr>\n",
       "\t<tr><td> 0.1115693</td></tr>\n",
       "\t<tr><td> 0.5297276</td></tr>\n",
       "</tbody>\n",
       "</table>\n"
      ],
      "text/latex": [
       "A matrix: 3 × 1 of type dbl\n",
       "\\begin{tabular}{l}\n",
       "\t -0.4456511\\\\\n",
       "\t  0.1115693\\\\\n",
       "\t  0.5297276\\\\\n",
       "\\end{tabular}\n"
      ],
      "text/markdown": [
       "\n",
       "A matrix: 3 × 1 of type dbl\n",
       "\n",
       "| -0.4456511 |\n",
       "|  0.1115693 |\n",
       "|  0.5297276 |\n",
       "\n"
      ],
      "text/plain": [
       "     [,1]      \n",
       "[1,] -0.4456511\n",
       "[2,]  0.1115693\n",
       "[3,]  0.5297276"
      ]
     },
     "metadata": {},
     "output_type": "display_data"
    }
   ],
   "source": [
    "(alph2=solve(t(Z2)%*%Z2)%*%t(Z2)%*%y)"
   ]
  },
  {
   "cell_type": "code",
   "execution_count": null,
   "metadata": {
    "vscode": {
     "languageId": "r"
    }
   },
   "outputs": [
    {
     "data": {
      "text/html": [
       "<table class=\"dataframe\">\n",
       "<caption>A matrix: 6 × 1 of type dbl</caption>\n",
       "<tbody>\n",
       "\t<tr><td> 0.2912636</td></tr>\n",
       "\t<tr><td> 0.3587028</td></tr>\n",
       "\t<tr><td>-0.3090495</td></tr>\n",
       "\t<tr><td>-0.1186422</td></tr>\n",
       "\t<tr><td> 0.3047524</td></tr>\n",
       "\t<tr><td> 0.2751366</td></tr>\n",
       "</tbody>\n",
       "</table>\n"
      ],
      "text/latex": [
       "A matrix: 6 × 1 of type dbl\n",
       "\\begin{tabular}{l}\n",
       "\t  0.2912636\\\\\n",
       "\t  0.3587028\\\\\n",
       "\t -0.3090495\\\\\n",
       "\t -0.1186422\\\\\n",
       "\t  0.3047524\\\\\n",
       "\t  0.2751366\\\\\n",
       "\\end{tabular}\n"
      ],
      "text/markdown": [
       "\n",
       "A matrix: 6 × 1 of type dbl\n",
       "\n",
       "|  0.2912636 |\n",
       "|  0.3587028 |\n",
       "| -0.3090495 |\n",
       "| -0.1186422 |\n",
       "|  0.3047524 |\n",
       "|  0.2751366 |\n",
       "\n"
      ],
      "text/plain": [
       "     [,1]      \n",
       "[1,]  0.2912636\n",
       "[2,]  0.3587028\n",
       "[3,] -0.3090495\n",
       "[4,] -0.1186422\n",
       "[5,]  0.3047524\n",
       "[6,]  0.2751366"
      ]
     },
     "metadata": {},
     "output_type": "display_data"
    }
   ],
   "source": [
    "beta2"
   ]
  },
  {
   "cell_type": "code",
   "execution_count": null,
   "metadata": {
    "vscode": {
     "languageId": "r"
    }
   },
   "outputs": [],
   "source": [
    "betaz=sd(y)*sqrt(15)*(phi[,1:3]%*%alph2)/as.vector(apply(X,2,sd)*sqrt(15))"
   ]
  },
  {
   "cell_type": "code",
   "execution_count": null,
   "metadata": {
    "vscode": {
     "languageId": "r"
    }
   },
   "outputs": [
    {
     "data": {
      "text/html": [
       "0.00446808510638298"
      ],
      "text/latex": [
       "0.00446808510638298"
      ],
      "text/markdown": [
       "0.00446808510638298"
      ],
      "text/plain": [
       "[1] 0.004468085"
      ]
     },
     "metadata": {},
     "output_type": "display_data"
    }
   ],
   "source": [
    "0.42/94"
   ]
  },
  {
   "cell_type": "code",
   "execution_count": null,
   "metadata": {
    "vscode": {
     "languageId": "r"
    }
   },
   "outputs": [
    {
     "data": {
      "text/html": [
       "<table class=\"dataframe\">\n",
       "<caption>A matrix: 6 × 1 of type dbl</caption>\n",
       "<tbody>\n",
       "\t<tr><td>0.2122707</td></tr>\n",
       "\t<tr><td>0.2116068</td></tr>\n",
       "\t<tr><td>0.0767541</td></tr>\n",
       "\t<tr><td>0.1788568</td></tr>\n",
       "\t<tr><td>0.2009339</td></tr>\n",
       "\t<tr><td>0.2072702</td></tr>\n",
       "</tbody>\n",
       "</table>\n"
      ],
      "text/latex": [
       "A matrix: 6 × 1 of type dbl\n",
       "\\begin{tabular}{l}\n",
       "\t 0.2122707\\\\\n",
       "\t 0.2116068\\\\\n",
       "\t 0.0767541\\\\\n",
       "\t 0.1788568\\\\\n",
       "\t 0.2009339\\\\\n",
       "\t 0.2072702\\\\\n",
       "\\end{tabular}\n"
      ],
      "text/markdown": [
       "\n",
       "A matrix: 6 × 1 of type dbl\n",
       "\n",
       "| 0.2122707 |\n",
       "| 0.2116068 |\n",
       "| 0.0767541 |\n",
       "| 0.1788568 |\n",
       "| 0.2009339 |\n",
       "| 0.2072702 |\n",
       "\n"
      ],
      "text/plain": [
       "     [,1]     \n",
       "[1,] 0.2122707\n",
       "[2,] 0.2116068\n",
       "[3,] 0.0767541\n",
       "[4,] 0.1788568\n",
       "[5,] 0.2009339\n",
       "[6,] 0.2072702"
      ]
     },
     "metadata": {},
     "output_type": "display_data"
    }
   ],
   "source": [
    "(beta1=phi[,1:2]%*%alph1)"
   ]
  },
  {
   "cell_type": "code",
   "execution_count": null,
   "metadata": {
    "vscode": {
     "languageId": "r"
    }
   },
   "outputs": [
    {
     "data": {
      "text/html": [
       "<table class=\"dataframe\">\n",
       "<caption>A matrix: 16 × 6 of type dbl</caption>\n",
       "<thead>\n",
       "\t<tr><th></th><th scope=col>GNP.deflator</th><th scope=col>GNP</th><th scope=col>Unemployed</th><th scope=col>Armed.Forces</th><th scope=col>Population</th><th scope=col>Year</th></tr>\n",
       "</thead>\n",
       "<tbody>\n",
       "\t<tr><th scope=row>1947</th><td>-0.44696790</td><td>-0.39851271</td><td>-0.23135519</td><td>-0.37720964</td><td>-0.36435355</td><td>-0.40674461</td></tr>\n",
       "\t<tr><th scope=row>1948</th><td>-0.31537481</td><td>-0.33321416</td><td>-0.23992071</td><td>-0.42692609</td><td>-0.32634438</td><td>-0.35251199</td></tr>\n",
       "\t<tr><th scope=row>1949</th><td>-0.32255262</td><td>-0.33677822</td><td> 0.13502771</td><td>-0.36756317</td><td>-0.28399236</td><td>-0.29827938</td></tr>\n",
       "\t<tr><th scope=row>1950</th><td>-0.29144879</td><td>-0.26782209</td><td> 0.04357014</td><td>-0.35494854</td><td>-0.24108357</td><td>-0.24404677</td></tr>\n",
       "\t<tr><th scope=row>1951</th><td>-0.13114448</td><td>-0.15254626</td><td>-0.30236606</td><td> 0.18265693</td><td>-0.19854596</td><td>-0.18981415</td></tr>\n",
       "\t<tr><th scope=row>1952</th><td>-0.08568505</td><td>-0.10572520</td><td>-0.34850931</td><td> 0.36631098</td><td>-0.15418955</td><td>-0.13558154</td></tr>\n",
       "\t<tr><th scope=row>1953</th><td>-0.06415163</td><td>-0.05796376</td><td>-0.36564033</td><td> 0.34887312</td><td>-0.08648571</td><td>-0.08134892</td></tr>\n",
       "\t<tr><th scope=row>1954</th><td>-0.04022562</td><td>-0.06386835</td><td> 0.10629180</td><td> 0.27578252</td><td>-0.04472759</td><td>-0.02711631</td></tr>\n",
       "\t<tr><th scope=row>1955</th><td>-0.01151440</td><td> 0.02538106</td><td>-0.07993903</td><td> 0.16373500</td><td>-0.00133626</td><td> 0.02711631</td></tr>\n",
       "\t<tr><th scope=row>1956</th><td> 0.06983406</td><td> 0.08177986</td><td>-0.10259619</td><td> 0.09287051</td><td> 0.04862502</td><td> 0.08134892</td></tr>\n",
       "\t<tr><th scope=row>1957</th><td> 0.16075293</td><td> 0.14305717</td><td>-0.07109721</td><td> 0.07098043</td><td> 0.11213448</td><td> 0.13558154</td></tr>\n",
       "\t<tr><th scope=row>1958</th><td> 0.21817537</td><td> 0.14767329</td><td> 0.41105827</td><td> 0.01124649</td><td> 0.16799757</td><td> 0.18981415</td></tr>\n",
       "\t<tr><th scope=row>1959</th><td> 0.26124220</td><td> 0.24679658</td><td> 0.17122391</td><td>-0.02029006</td><td> 0.22055713</td><td> 0.24404677</td></tr>\n",
       "\t<tr><th scope=row>1960</th><td> 0.29952382</td><td> 0.29848315</td><td> 0.20382812</td><td>-0.03438876</td><td> 0.29486803</td><td> 0.29827938</td></tr>\n",
       "\t<tr><th scope=row>1961</th><td> 0.33541285</td><td> 0.33893464</td><td> 0.44559663</td><td>-0.01286970</td><td> 0.38706997</td><td> 0.35251199</td></tr>\n",
       "\t<tr><th scope=row>1962</th><td> 0.36412407</td><td> 0.43432502</td><td> 0.22482744</td><td> 0.08173996</td><td> 0.46980673</td><td> 0.40674461</td></tr>\n",
       "</tbody>\n",
       "</table>\n"
      ],
      "text/latex": [
       "A matrix: 16 × 6 of type dbl\n",
       "\\begin{tabular}{r|llllll}\n",
       "  & GNP.deflator & GNP & Unemployed & Armed.Forces & Population & Year\\\\\n",
       "\\hline\n",
       "\t1947 & -0.44696790 & -0.39851271 & -0.23135519 & -0.37720964 & -0.36435355 & -0.40674461\\\\\n",
       "\t1948 & -0.31537481 & -0.33321416 & -0.23992071 & -0.42692609 & -0.32634438 & -0.35251199\\\\\n",
       "\t1949 & -0.32255262 & -0.33677822 &  0.13502771 & -0.36756317 & -0.28399236 & -0.29827938\\\\\n",
       "\t1950 & -0.29144879 & -0.26782209 &  0.04357014 & -0.35494854 & -0.24108357 & -0.24404677\\\\\n",
       "\t1951 & -0.13114448 & -0.15254626 & -0.30236606 &  0.18265693 & -0.19854596 & -0.18981415\\\\\n",
       "\t1952 & -0.08568505 & -0.10572520 & -0.34850931 &  0.36631098 & -0.15418955 & -0.13558154\\\\\n",
       "\t1953 & -0.06415163 & -0.05796376 & -0.36564033 &  0.34887312 & -0.08648571 & -0.08134892\\\\\n",
       "\t1954 & -0.04022562 & -0.06386835 &  0.10629180 &  0.27578252 & -0.04472759 & -0.02711631\\\\\n",
       "\t1955 & -0.01151440 &  0.02538106 & -0.07993903 &  0.16373500 & -0.00133626 &  0.02711631\\\\\n",
       "\t1956 &  0.06983406 &  0.08177986 & -0.10259619 &  0.09287051 &  0.04862502 &  0.08134892\\\\\n",
       "\t1957 &  0.16075293 &  0.14305717 & -0.07109721 &  0.07098043 &  0.11213448 &  0.13558154\\\\\n",
       "\t1958 &  0.21817537 &  0.14767329 &  0.41105827 &  0.01124649 &  0.16799757 &  0.18981415\\\\\n",
       "\t1959 &  0.26124220 &  0.24679658 &  0.17122391 & -0.02029006 &  0.22055713 &  0.24404677\\\\\n",
       "\t1960 &  0.29952382 &  0.29848315 &  0.20382812 & -0.03438876 &  0.29486803 &  0.29827938\\\\\n",
       "\t1961 &  0.33541285 &  0.33893464 &  0.44559663 & -0.01286970 &  0.38706997 &  0.35251199\\\\\n",
       "\t1962 &  0.36412407 &  0.43432502 &  0.22482744 &  0.08173996 &  0.46980673 &  0.40674461\\\\\n",
       "\\end{tabular}\n"
      ],
      "text/markdown": [
       "\n",
       "A matrix: 16 × 6 of type dbl\n",
       "\n",
       "| <!--/--> | GNP.deflator | GNP | Unemployed | Armed.Forces | Population | Year |\n",
       "|---|---|---|---|---|---|---|\n",
       "| 1947 | -0.44696790 | -0.39851271 | -0.23135519 | -0.37720964 | -0.36435355 | -0.40674461 |\n",
       "| 1948 | -0.31537481 | -0.33321416 | -0.23992071 | -0.42692609 | -0.32634438 | -0.35251199 |\n",
       "| 1949 | -0.32255262 | -0.33677822 |  0.13502771 | -0.36756317 | -0.28399236 | -0.29827938 |\n",
       "| 1950 | -0.29144879 | -0.26782209 |  0.04357014 | -0.35494854 | -0.24108357 | -0.24404677 |\n",
       "| 1951 | -0.13114448 | -0.15254626 | -0.30236606 |  0.18265693 | -0.19854596 | -0.18981415 |\n",
       "| 1952 | -0.08568505 | -0.10572520 | -0.34850931 |  0.36631098 | -0.15418955 | -0.13558154 |\n",
       "| 1953 | -0.06415163 | -0.05796376 | -0.36564033 |  0.34887312 | -0.08648571 | -0.08134892 |\n",
       "| 1954 | -0.04022562 | -0.06386835 |  0.10629180 |  0.27578252 | -0.04472759 | -0.02711631 |\n",
       "| 1955 | -0.01151440 |  0.02538106 | -0.07993903 |  0.16373500 | -0.00133626 |  0.02711631 |\n",
       "| 1956 |  0.06983406 |  0.08177986 | -0.10259619 |  0.09287051 |  0.04862502 |  0.08134892 |\n",
       "| 1957 |  0.16075293 |  0.14305717 | -0.07109721 |  0.07098043 |  0.11213448 |  0.13558154 |\n",
       "| 1958 |  0.21817537 |  0.14767329 |  0.41105827 |  0.01124649 |  0.16799757 |  0.18981415 |\n",
       "| 1959 |  0.26124220 |  0.24679658 |  0.17122391 | -0.02029006 |  0.22055713 |  0.24404677 |\n",
       "| 1960 |  0.29952382 |  0.29848315 |  0.20382812 | -0.03438876 |  0.29486803 |  0.29827938 |\n",
       "| 1961 |  0.33541285 |  0.33893464 |  0.44559663 | -0.01286970 |  0.38706997 |  0.35251199 |\n",
       "| 1962 |  0.36412407 |  0.43432502 |  0.22482744 |  0.08173996 |  0.46980673 |  0.40674461 |\n",
       "\n"
      ],
      "text/plain": [
       "     GNP.deflator GNP         Unemployed  Armed.Forces Population  Year       \n",
       "1947 -0.44696790  -0.39851271 -0.23135519 -0.37720964  -0.36435355 -0.40674461\n",
       "1948 -0.31537481  -0.33321416 -0.23992071 -0.42692609  -0.32634438 -0.35251199\n",
       "1949 -0.32255262  -0.33677822  0.13502771 -0.36756317  -0.28399236 -0.29827938\n",
       "1950 -0.29144879  -0.26782209  0.04357014 -0.35494854  -0.24108357 -0.24404677\n",
       "1951 -0.13114448  -0.15254626 -0.30236606  0.18265693  -0.19854596 -0.18981415\n",
       "1952 -0.08568505  -0.10572520 -0.34850931  0.36631098  -0.15418955 -0.13558154\n",
       "1953 -0.06415163  -0.05796376 -0.36564033  0.34887312  -0.08648571 -0.08134892\n",
       "1954 -0.04022562  -0.06386835  0.10629180  0.27578252  -0.04472759 -0.02711631\n",
       "1955 -0.01151440   0.02538106 -0.07993903  0.16373500  -0.00133626  0.02711631\n",
       "1956  0.06983406   0.08177986 -0.10259619  0.09287051   0.04862502  0.08134892\n",
       "1957  0.16075293   0.14305717 -0.07109721  0.07098043   0.11213448  0.13558154\n",
       "1958  0.21817537   0.14767329  0.41105827  0.01124649   0.16799757  0.18981415\n",
       "1959  0.26124220   0.24679658  0.17122391 -0.02029006   0.22055713  0.24404677\n",
       "1960  0.29952382   0.29848315  0.20382812 -0.03438876   0.29486803  0.29827938\n",
       "1961  0.33541285   0.33893464  0.44559663 -0.01286970   0.38706997  0.35251199\n",
       "1962  0.36412407   0.43432502  0.22482744  0.08173996   0.46980673  0.40674461"
      ]
     },
     "metadata": {},
     "output_type": "display_data"
    }
   ],
   "source": [
    "X"
   ]
  },
  {
   "cell_type": "markdown",
   "metadata": {},
   "source": [
    "用自带的函数写为："
   ]
  },
  {
   "cell_type": "code",
   "execution_count": null,
   "metadata": {
    "vscode": {
     "languageId": "r"
    }
   },
   "outputs": [
    {
     "data": {
      "text/plain": [
       "Importance of components:\n",
       "                          Comp.1    Comp.2     Comp.3      Comp.4       Comp.5\n",
       "Standard deviation     0.5363871 0.2710328 0.11275675 0.030545313 0.0126294937\n",
       "Proportion of Variance 0.7672295 0.1958901 0.03390423 0.002488043 0.0004253443\n",
       "Cumulative Proportion  0.7672295 0.9631196 0.99702383 0.999511871 0.9999372153\n",
       "                             Comp.6\n",
       "Standard deviation     4.852243e-03\n",
       "Proportion of Variance 6.278469e-05\n",
       "Cumulative Proportion  1.000000e+00\n",
       "\n",
       "Loadings:\n",
       "             Comp.1 Comp.2 Comp.3 Comp.4 Comp.5 Comp.6\n",
       "GNP.deflator  0.462         0.149  0.793  0.338  0.135\n",
       "GNP           0.462         0.278 -0.122 -0.150 -0.818\n",
       "Unemployed    0.321 -0.596 -0.728               -0.107\n",
       "Armed.Forces  0.202  0.798 -0.562                     \n",
       "Population    0.462         0.196 -0.590  0.549  0.312\n",
       "Year          0.465         0.128        -0.750  0.450"
      ]
     },
     "metadata": {},
     "output_type": "display_data"
    },
    {
     "data": {
      "image/png": "[encoded data removed]",
      "text/plain": [
       "Plot with title \"PCA\""
      ]
     },
     "metadata": {
      "image/png": {
       "height": 420,
       "width": 420
      }
     },
     "output_type": "display_data"
    }
   ],
   "source": [
    "PCA=princomp(X)\n",
    "summary(PCA,loadings=T)\n",
    "screeplot(PCA,type=\"lines\")"
   ]
  },
  {
   "cell_type": "code",
   "execution_count": null,
   "metadata": {
    "vscode": {
     "languageId": "r"
    }
   },
   "outputs": [
    {
     "data": {
      "text/html": [
       "<table class=\"dataframe\">\n",
       "<caption>A matrix: 16 × 4 of type dbl</caption>\n",
       "<thead>\n",
       "\t<tr><th></th><th scope=col>Comp.1</th><th scope=col>Comp.2</th><th scope=col>PC</th><th scope=col>rank</th></tr>\n",
       "</thead>\n",
       "<tbody>\n",
       "\t<tr><th scope=row>1947</th><td>-0.898235508</td><td>-0.19402775</td><td>-0.75500582</td><td> 1</td></tr>\n",
       "\t<tr><th scope=row>1948</th><td>-0.777310468</td><td>-0.21922133</td><td>-0.66380003</td><td> 2</td></tr>\n",
       "\t<tr><th scope=row>1949</th><td>-0.605037469</td><td>-0.39762541</td><td>-0.56285167</td><td> 3</td></tr>\n",
       "\t<tr><th scope=row>1950</th><td>-0.540643189</td><td>-0.32954452</td><td>-0.49770757</td><td> 4</td></tr>\n",
       "\t<tr><th scope=row>1951</th><td>-0.371351917</td><td> 0.31908067</td><td>-0.23092398</td><td> 5</td></tr>\n",
       "\t<tr><th scope=row>1952</th><td>-0.260847578</td><td> 0.49628523</td><td>-0.10685340</td><td> 6</td></tr>\n",
       "\t<tr><th scope=row>1953</th><td>-0.181365955</td><td> 0.49330529</td><td>-0.04414374</td><td> 7</td></tr>\n",
       "\t<tr><th scope=row>1954</th><td> 0.008388974</td><td> 0.15312430</td><td> 0.03782687</td><td> 8</td></tr>\n",
       "\t<tr><th scope=row>1955</th><td> 0.025693908</td><td> 0.17905905</td><td> 0.05688703</td><td> 9</td></tr>\n",
       "\t<tr><th scope=row>1956</th><td> 0.116042743</td><td> 0.14145282</td><td> 0.12121093</td><td>10</td></tr>\n",
       "\t<tr><th scope=row>1957</th><td> 0.246596117</td><td> 0.11088300</td><td> 0.21899326</td><td>11</td></tr>\n",
       "\t<tr><th scope=row>1958</th><td> 0.469173083</td><td>-0.22287000</td><td> 0.32841759</td><td>12</td></tr>\n",
       "\t<tr><th scope=row>1959</th><td> 0.500903096</td><td>-0.09981213</td><td> 0.37872288</td><td>13</td></tr>\n",
       "\t<tr><th scope=row>1960</th><td> 0.609639039</td><td>-0.12886808</td><td> 0.45943316</td><td>14</td></tr>\n",
       "\t<tr><th scope=row>1961</th><td> 0.794740919</td><td>-0.25560549</td><td> 0.58110967</td><td>15</td></tr>\n",
       "\t<tr><th scope=row>1962</th><td> 0.863614206</td><td>-0.04561565</td><td> 0.67868483</td><td>16</td></tr>\n",
       "</tbody>\n",
       "</table>\n"
      ],
      "text/latex": [
       "A matrix: 16 × 4 of type dbl\n",
       "\\begin{tabular}{r|llll}\n",
       "  & Comp.1 & Comp.2 & PC & rank\\\\\n",
       "\\hline\n",
       "\t1947 & -0.898235508 & -0.19402775 & -0.75500582 &  1\\\\\n",
       "\t1948 & -0.777310468 & -0.21922133 & -0.66380003 &  2\\\\\n",
       "\t1949 & -0.605037469 & -0.39762541 & -0.56285167 &  3\\\\\n",
       "\t1950 & -0.540643189 & -0.32954452 & -0.49770757 &  4\\\\\n",
       "\t1951 & -0.371351917 &  0.31908067 & -0.23092398 &  5\\\\\n",
       "\t1952 & -0.260847578 &  0.49628523 & -0.10685340 &  6\\\\\n",
       "\t1953 & -0.181365955 &  0.49330529 & -0.04414374 &  7\\\\\n",
       "\t1954 &  0.008388974 &  0.15312430 &  0.03782687 &  8\\\\\n",
       "\t1955 &  0.025693908 &  0.17905905 &  0.05688703 &  9\\\\\n",
       "\t1956 &  0.116042743 &  0.14145282 &  0.12121093 & 10\\\\\n",
       "\t1957 &  0.246596117 &  0.11088300 &  0.21899326 & 11\\\\\n",
       "\t1958 &  0.469173083 & -0.22287000 &  0.32841759 & 12\\\\\n",
       "\t1959 &  0.500903096 & -0.09981213 &  0.37872288 & 13\\\\\n",
       "\t1960 &  0.609639039 & -0.12886808 &  0.45943316 & 14\\\\\n",
       "\t1961 &  0.794740919 & -0.25560549 &  0.58110967 & 15\\\\\n",
       "\t1962 &  0.863614206 & -0.04561565 &  0.67868483 & 16\\\\\n",
       "\\end{tabular}\n"
      ],
      "text/markdown": [
       "\n",
       "A matrix: 16 × 4 of type dbl\n",
       "\n",
       "| <!--/--> | Comp.1 | Comp.2 | PC | rank |\n",
       "|---|---|---|---|---|\n",
       "| 1947 | -0.898235508 | -0.19402775 | -0.75500582 |  1 |\n",
       "| 1948 | -0.777310468 | -0.21922133 | -0.66380003 |  2 |\n",
       "| 1949 | -0.605037469 | -0.39762541 | -0.56285167 |  3 |\n",
       "| 1950 | -0.540643189 | -0.32954452 | -0.49770757 |  4 |\n",
       "| 1951 | -0.371351917 |  0.31908067 | -0.23092398 |  5 |\n",
       "| 1952 | -0.260847578 |  0.49628523 | -0.10685340 |  6 |\n",
       "| 1953 | -0.181365955 |  0.49330529 | -0.04414374 |  7 |\n",
       "| 1954 |  0.008388974 |  0.15312430 |  0.03782687 |  8 |\n",
       "| 1955 |  0.025693908 |  0.17905905 |  0.05688703 |  9 |\n",
       "| 1956 |  0.116042743 |  0.14145282 |  0.12121093 | 10 |\n",
       "| 1957 |  0.246596117 |  0.11088300 |  0.21899326 | 11 |\n",
       "| 1958 |  0.469173083 | -0.22287000 |  0.32841759 | 12 |\n",
       "| 1959 |  0.500903096 | -0.09981213 |  0.37872288 | 13 |\n",
       "| 1960 |  0.609639039 | -0.12886808 |  0.45943316 | 14 |\n",
       "| 1961 |  0.794740919 | -0.25560549 |  0.58110967 | 15 |\n",
       "| 1962 |  0.863614206 | -0.04561565 |  0.67868483 | 16 |\n",
       "\n"
      ],
      "text/plain": [
       "     Comp.1       Comp.2      PC          rank\n",
       "1947 -0.898235508 -0.19402775 -0.75500582  1  \n",
       "1948 -0.777310468 -0.21922133 -0.66380003  2  \n",
       "1949 -0.605037469 -0.39762541 -0.56285167  3  \n",
       "1950 -0.540643189 -0.32954452 -0.49770757  4  \n",
       "1951 -0.371351917  0.31908067 -0.23092398  5  \n",
       "1952 -0.260847578  0.49628523 -0.10685340  6  \n",
       "1953 -0.181365955  0.49330529 -0.04414374  7  \n",
       "1954  0.008388974  0.15312430  0.03782687  8  \n",
       "1955  0.025693908  0.17905905  0.05688703  9  \n",
       "1956  0.116042743  0.14145282  0.12121093 10  \n",
       "1957  0.246596117  0.11088300  0.21899326 11  \n",
       "1958  0.469173083 -0.22287000  0.32841759 12  \n",
       "1959  0.500903096 -0.09981213  0.37872288 13  \n",
       "1960  0.609639039 -0.12886808  0.45943316 14  \n",
       "1961  0.794740919 -0.25560549  0.58110967 15  \n",
       "1962  0.863614206 -0.04561565  0.67868483 16  "
      ]
     },
     "metadata": {},
     "output_type": "display_data"
    },
    {
     "data": {
      "text/html": [
       "<table class=\"dataframe\">\n",
       "<caption>A matrix: 16 × 4 of type dbl</caption>\n",
       "<thead>\n",
       "\t<tr><th></th><th scope=col>Comp.1</th><th scope=col>Comp.2</th><th scope=col>PC</th><th scope=col>rank</th></tr>\n",
       "</thead>\n",
       "<tbody>\n",
       "\t<tr><th scope=row>1947</th><td>-0.898235508</td><td>-0.19402775</td><td>-0.75500582</td><td> 1</td></tr>\n",
       "\t<tr><th scope=row>1948</th><td>-0.777310468</td><td>-0.21922133</td><td>-0.66380003</td><td> 2</td></tr>\n",
       "\t<tr><th scope=row>1949</th><td>-0.605037469</td><td>-0.39762541</td><td>-0.56285167</td><td> 3</td></tr>\n",
       "\t<tr><th scope=row>1950</th><td>-0.540643189</td><td>-0.32954452</td><td>-0.49770757</td><td> 4</td></tr>\n",
       "\t<tr><th scope=row>1951</th><td>-0.371351917</td><td> 0.31908067</td><td>-0.23092398</td><td> 5</td></tr>\n",
       "\t<tr><th scope=row>1952</th><td>-0.260847578</td><td> 0.49628523</td><td>-0.10685340</td><td> 6</td></tr>\n",
       "\t<tr><th scope=row>1953</th><td>-0.181365955</td><td> 0.49330529</td><td>-0.04414374</td><td> 7</td></tr>\n",
       "\t<tr><th scope=row>1954</th><td> 0.008388974</td><td> 0.15312430</td><td> 0.03782687</td><td> 8</td></tr>\n",
       "\t<tr><th scope=row>1955</th><td> 0.025693908</td><td> 0.17905905</td><td> 0.05688703</td><td> 9</td></tr>\n",
       "\t<tr><th scope=row>1956</th><td> 0.116042743</td><td> 0.14145282</td><td> 0.12121093</td><td>10</td></tr>\n",
       "\t<tr><th scope=row>1957</th><td> 0.246596117</td><td> 0.11088300</td><td> 0.21899326</td><td>11</td></tr>\n",
       "\t<tr><th scope=row>1958</th><td> 0.469173083</td><td>-0.22287000</td><td> 0.32841759</td><td>12</td></tr>\n",
       "\t<tr><th scope=row>1959</th><td> 0.500903096</td><td>-0.09981213</td><td> 0.37872288</td><td>13</td></tr>\n",
       "\t<tr><th scope=row>1960</th><td> 0.609639039</td><td>-0.12886808</td><td> 0.45943316</td><td>14</td></tr>\n",
       "\t<tr><th scope=row>1961</th><td> 0.794740919</td><td>-0.25560549</td><td> 0.58110967</td><td>15</td></tr>\n",
       "\t<tr><th scope=row>1962</th><td> 0.863614206</td><td>-0.04561565</td><td> 0.67868483</td><td>16</td></tr>\n",
       "</tbody>\n",
       "</table>\n"
      ],
      "text/latex": [
       "A matrix: 16 × 4 of type dbl\n",
       "\\begin{tabular}{r|llll}\n",
       "  & Comp.1 & Comp.2 & PC & rank\\\\\n",
       "\\hline\n",
       "\t1947 & -0.898235508 & -0.19402775 & -0.75500582 &  1\\\\\n",
       "\t1948 & -0.777310468 & -0.21922133 & -0.66380003 &  2\\\\\n",
       "\t1949 & -0.605037469 & -0.39762541 & -0.56285167 &  3\\\\\n",
       "\t1950 & -0.540643189 & -0.32954452 & -0.49770757 &  4\\\\\n",
       "\t1951 & -0.371351917 &  0.31908067 & -0.23092398 &  5\\\\\n",
       "\t1952 & -0.260847578 &  0.49628523 & -0.10685340 &  6\\\\\n",
       "\t1953 & -0.181365955 &  0.49330529 & -0.04414374 &  7\\\\\n",
       "\t1954 &  0.008388974 &  0.15312430 &  0.03782687 &  8\\\\\n",
       "\t1955 &  0.025693908 &  0.17905905 &  0.05688703 &  9\\\\\n",
       "\t1956 &  0.116042743 &  0.14145282 &  0.12121093 & 10\\\\\n",
       "\t1957 &  0.246596117 &  0.11088300 &  0.21899326 & 11\\\\\n",
       "\t1958 &  0.469173083 & -0.22287000 &  0.32841759 & 12\\\\\n",
       "\t1959 &  0.500903096 & -0.09981213 &  0.37872288 & 13\\\\\n",
       "\t1960 &  0.609639039 & -0.12886808 &  0.45943316 & 14\\\\\n",
       "\t1961 &  0.794740919 & -0.25560549 &  0.58110967 & 15\\\\\n",
       "\t1962 &  0.863614206 & -0.04561565 &  0.67868483 & 16\\\\\n",
       "\\end{tabular}\n"
      ],
      "text/markdown": [
       "\n",
       "A matrix: 16 × 4 of type dbl\n",
       "\n",
       "| <!--/--> | Comp.1 | Comp.2 | PC | rank |\n",
       "|---|---|---|---|---|\n",
       "| 1947 | -0.898235508 | -0.19402775 | -0.75500582 |  1 |\n",
       "| 1948 | -0.777310468 | -0.21922133 | -0.66380003 |  2 |\n",
       "| 1949 | -0.605037469 | -0.39762541 | -0.56285167 |  3 |\n",
       "| 1950 | -0.540643189 | -0.32954452 | -0.49770757 |  4 |\n",
       "| 1951 | -0.371351917 |  0.31908067 | -0.23092398 |  5 |\n",
       "| 1952 | -0.260847578 |  0.49628523 | -0.10685340 |  6 |\n",
       "| 1953 | -0.181365955 |  0.49330529 | -0.04414374 |  7 |\n",
       "| 1954 |  0.008388974 |  0.15312430 |  0.03782687 |  8 |\n",
       "| 1955 |  0.025693908 |  0.17905905 |  0.05688703 |  9 |\n",
       "| 1956 |  0.116042743 |  0.14145282 |  0.12121093 | 10 |\n",
       "| 1957 |  0.246596117 |  0.11088300 |  0.21899326 | 11 |\n",
       "| 1958 |  0.469173083 | -0.22287000 |  0.32841759 | 12 |\n",
       "| 1959 |  0.500903096 | -0.09981213 |  0.37872288 | 13 |\n",
       "| 1960 |  0.609639039 | -0.12886808 |  0.45943316 | 14 |\n",
       "| 1961 |  0.794740919 | -0.25560549 |  0.58110967 | 15 |\n",
       "| 1962 |  0.863614206 | -0.04561565 |  0.67868483 | 16 |\n",
       "\n"
      ],
      "text/plain": [
       "     Comp.1       Comp.2      PC          rank\n",
       "1947 -0.898235508 -0.19402775 -0.75500582  1  \n",
       "1948 -0.777310468 -0.21922133 -0.66380003  2  \n",
       "1949 -0.605037469 -0.39762541 -0.56285167  3  \n",
       "1950 -0.540643189 -0.32954452 -0.49770757  4  \n",
       "1951 -0.371351917  0.31908067 -0.23092398  5  \n",
       "1952 -0.260847578  0.49628523 -0.10685340  6  \n",
       "1953 -0.181365955  0.49330529 -0.04414374  7  \n",
       "1954  0.008388974  0.15312430  0.03782687  8  \n",
       "1955  0.025693908  0.17905905  0.05688703  9  \n",
       "1956  0.116042743  0.14145282  0.12121093 10  \n",
       "1957  0.246596117  0.11088300  0.21899326 11  \n",
       "1958  0.469173083 -0.22287000  0.32841759 12  \n",
       "1959  0.500903096 -0.09981213  0.37872288 13  \n",
       "1960  0.609639039 -0.12886808  0.45943316 14  \n",
       "1961  0.794740919 -0.25560549  0.58110967 15  \n",
       "1962  0.863614206 -0.04561565  0.67868483 16  "
      ]
     },
     "metadata": {},
     "output_type": "display_data"
    },
    {
     "data": {
      "image/png": "[encoded data removed]",
      "text/plain": [
       "plot without title"
      ]
     },
     "metadata": {
      "image/png": {
       "height": 420,
       "width": 420
      }
     },
     "output_type": "display_data"
    }
   ],
   "source": [
    "#这个不知道干啥用的\n",
    "source(\"mvstats.R\")\n",
    "princomp.rank(PCA,m=2)\n",
    "princomp.rank(PCA,m=2,plot=T)"
   ]
  },
  {
   "cell_type": "markdown",
   "metadata": {},
   "source": [
    "## 第三问：岭回归"
   ]
  },
  {
   "cell_type": "code",
   "execution_count": 6,
   "metadata": {
    "vscode": {
     "languageId": "r"
    }
   },
   "outputs": [],
   "source": [
    "betahat <- function(k){\n",
    "    return (solve(t(X)%*%X+k*diag(6))%*%t(X)%*%y)\n",
    "}"
   ]
  },
  {
   "cell_type": "code",
   "execution_count": 10,
   "metadata": {
    "vscode": {
     "languageId": "r"
    }
   },
   "outputs": [
    {
     "data": {
      "text/html": [
       "<table class=\"dataframe\">\n",
       "<caption>A matrix: 6 × 1 of type dbl</caption>\n",
       "<tbody>\n",
       "\t<tr><th scope=row>GNP.deflator</th><td> 0.04628202</td></tr>\n",
       "\t<tr><th scope=row>GNP</th><td>-1.01374635</td></tr>\n",
       "\t<tr><th scope=row>Unemployed</th><td>-0.53754258</td></tr>\n",
       "\t<tr><th scope=row>Armed.Forces</th><td>-0.20474069</td></tr>\n",
       "\t<tr><th scope=row>Population</th><td>-0.10122111</td></tr>\n",
       "\t<tr><th scope=row>Year</th><td> 2.47966438</td></tr>\n",
       "</tbody>\n",
       "</table>\n"
      ],
      "text/latex": [
       "A matrix: 6 × 1 of type dbl\n",
       "\\begin{tabular}{r|l}\n",
       "\tGNP.deflator &  0.04628202\\\\\n",
       "\tGNP & -1.01374635\\\\\n",
       "\tUnemployed & -0.53754258\\\\\n",
       "\tArmed.Forces & -0.20474069\\\\\n",
       "\tPopulation & -0.10122111\\\\\n",
       "\tYear &  2.47966438\\\\\n",
       "\\end{tabular}\n"
      ],
      "text/markdown": [
       "\n",
       "A matrix: 6 × 1 of type dbl\n",
       "\n",
       "| GNP.deflator |  0.04628202 |\n",
       "| GNP | -1.01374635 |\n",
       "| Unemployed | -0.53754258 |\n",
       "| Armed.Forces | -0.20474069 |\n",
       "| Population | -0.10122111 |\n",
       "| Year |  2.47966438 |\n",
       "\n"
      ],
      "text/plain": [
       "             [,1]       \n",
       "GNP.deflator  0.04628202\n",
       "GNP          -1.01374635\n",
       "Unemployed   -0.53754258\n",
       "Armed.Forces -0.20474069\n",
       "Population   -0.10122111\n",
       "Year          2.47966438"
      ]
     },
     "metadata": {},
     "output_type": "display_data"
    }
   ],
   "source": [
    "betahat(0)"
   ]
  },
  {
   "cell_type": "code",
   "execution_count": 12,
   "metadata": {
    "vscode": {
     "languageId": "r"
    }
   },
   "outputs": [
    {
     "data": {
      "text/html": [
       "<table class=\"dataframe\">\n",
       "<caption>A matrix: 6 × 6 of type dbl</caption>\n",
       "<thead>\n",
       "\t<tr><th></th><th scope=col>GNP.deflator</th><th scope=col>GNP</th><th scope=col>Unemployed</th><th scope=col>Armed.Forces</th><th scope=col>Population</th><th scope=col>Year</th></tr>\n",
       "</thead>\n",
       "<tbody>\n",
       "\t<tr><th scope=row>GNP.deflator</th><td> 24.1075452</td><td>-10.1982461</td><td>-0.8837947</td><td>-1.8255787</td><td> -2.925058</td><td> -9.298475</td></tr>\n",
       "\t<tr><th scope=row>GNP</th><td>-10.1982461</td><td> 34.6853658</td><td> 3.3286450</td><td> 0.1876594</td><td>-13.812172</td><td>-12.732826</td></tr>\n",
       "\t<tr><th scope=row>Unemployed</th><td> -0.8837947</td><td>  3.3286450</td><td> 3.2651752</td><td> 1.5348188</td><td> -2.131576</td><td> -3.079043</td></tr>\n",
       "\t<tr><th scope=row>Armed.Forces</th><td> -1.8255787</td><td>  0.1876594</td><td> 1.5348188</td><td> 2.1662534</td><td>  1.116668</td><td> -1.388999</td></tr>\n",
       "\t<tr><th scope=row>Population</th><td> -2.9250585</td><td>-13.8121718</td><td>-2.1315761</td><td> 1.1166681</td><td> 28.285630</td><td>-10.303931</td></tr>\n",
       "\t<tr><th scope=row>Year</th><td> -9.2984748</td><td>-12.7328265</td><td>-3.0790433</td><td>-1.3889986</td><td>-10.303931</td><td> 35.066261</td></tr>\n",
       "</tbody>\n",
       "</table>\n"
      ],
      "text/latex": [
       "A matrix: 6 × 6 of type dbl\n",
       "\\begin{tabular}{r|llllll}\n",
       "  & GNP.deflator & GNP & Unemployed & Armed.Forces & Population & Year\\\\\n",
       "\\hline\n",
       "\tGNP.deflator &  24.1075452 & -10.1982461 & -0.8837947 & -1.8255787 &  -2.925058 &  -9.298475\\\\\n",
       "\tGNP & -10.1982461 &  34.6853658 &  3.3286450 &  0.1876594 & -13.812172 & -12.732826\\\\\n",
       "\tUnemployed &  -0.8837947 &   3.3286450 &  3.2651752 &  1.5348188 &  -2.131576 &  -3.079043\\\\\n",
       "\tArmed.Forces &  -1.8255787 &   0.1876594 &  1.5348188 &  2.1662534 &   1.116668 &  -1.388999\\\\\n",
       "\tPopulation &  -2.9250585 & -13.8121718 & -2.1315761 &  1.1166681 &  28.285630 & -10.303931\\\\\n",
       "\tYear &  -9.2984748 & -12.7328265 & -3.0790433 & -1.3889986 & -10.303931 &  35.066261\\\\\n",
       "\\end{tabular}\n"
      ],
      "text/markdown": [
       "\n",
       "A matrix: 6 × 6 of type dbl\n",
       "\n",
       "| <!--/--> | GNP.deflator | GNP | Unemployed | Armed.Forces | Population | Year |\n",
       "|---|---|---|---|---|---|---|\n",
       "| GNP.deflator |  24.1075452 | -10.1982461 | -0.8837947 | -1.8255787 |  -2.925058 |  -9.298475 |\n",
       "| GNP | -10.1982461 |  34.6853658 |  3.3286450 |  0.1876594 | -13.812172 | -12.732826 |\n",
       "| Unemployed |  -0.8837947 |   3.3286450 |  3.2651752 |  1.5348188 |  -2.131576 |  -3.079043 |\n",
       "| Armed.Forces |  -1.8255787 |   0.1876594 |  1.5348188 |  2.1662534 |   1.116668 |  -1.388999 |\n",
       "| Population |  -2.9250585 | -13.8121718 | -2.1315761 |  1.1166681 |  28.285630 | -10.303931 |\n",
       "| Year |  -9.2984748 | -12.7328265 | -3.0790433 | -1.3889986 | -10.303931 |  35.066261 |\n",
       "\n"
      ],
      "text/plain": [
       "             GNP.deflator GNP         Unemployed Armed.Forces Population\n",
       "GNP.deflator  24.1075452  -10.1982461 -0.8837947 -1.8255787    -2.925058\n",
       "GNP          -10.1982461   34.6853658  3.3286450  0.1876594   -13.812172\n",
       "Unemployed    -0.8837947    3.3286450  3.2651752  1.5348188    -2.131576\n",
       "Armed.Forces  -1.8255787    0.1876594  1.5348188  2.1662534     1.116668\n",
       "Population    -2.9250585  -13.8121718 -2.1315761  1.1166681    28.285630\n",
       "Year          -9.2984748  -12.7328265 -3.0790433 -1.3889986   -10.303931\n",
       "             Year      \n",
       "GNP.deflator  -9.298475\n",
       "GNP          -12.732826\n",
       "Unemployed    -3.079043\n",
       "Armed.Forces  -1.388999\n",
       "Population   -10.303931\n",
       "Year          35.066261"
      ]
     },
     "metadata": {},
     "output_type": "display_data"
    }
   ],
   "source": [
    "solve(t(X)%*%X+0.02*diag(6))"
   ]
  },
  {
   "cell_type": "code",
   "execution_count": 51,
   "metadata": {
    "vscode": {
     "languageId": "r"
    }
   },
   "outputs": [],
   "source": [
    "betat=solve(t(oldX)%*%oldX)%*%t(oldX)%*%oldY"
   ]
  },
  {
   "cell_type": "code",
   "execution_count": 15,
   "metadata": {
    "vscode": {
     "languageId": "r"
    }
   },
   "outputs": [
    {
     "data": {
      "text/html": [
       "<table class=\"dataframe\">\n",
       "<caption>A matrix: 1 × 1 of type dbl</caption>\n",
       "<tbody>\n",
       "\t<tr><td>-3482.259</td></tr>\n",
       "</tbody>\n",
       "</table>\n"
      ],
      "text/latex": [
       "A matrix: 1 × 1 of type dbl\n",
       "\\begin{tabular}{l}\n",
       "\t -3482.259\\\\\n",
       "\\end{tabular}\n"
      ],
      "text/markdown": [
       "\n",
       "A matrix: 1 × 1 of type dbl\n",
       "\n",
       "| -3482.259 |\n",
       "\n"
      ],
      "text/plain": [
       "     [,1]     \n",
       "[1,] -3482.259"
      ]
     },
     "metadata": {},
     "output_type": "display_data"
    }
   ],
   "source": [
    "inter2=ymean-ysd*t(betahat(0))%*%(as.vector(xmean/xsd))\n",
    "inter2"
   ]
  },
  {
   "cell_type": "code",
   "execution_count": 14,
   "metadata": {
    "vscode": {
     "languageId": "r"
    }
   },
   "outputs": [
    {
     "data": {
      "text/html": [
       "13.6017949550785"
      ],
      "text/latex": [
       "13.6017949550785"
      ],
      "text/markdown": [
       "13.6017949550785"
      ],
      "text/plain": [
       "[1] 13.60179"
      ]
     },
     "metadata": {},
     "output_type": "display_data"
    }
   ],
   "source": [
    "ysd"
   ]
  },
  {
   "cell_type": "code",
   "execution_count": 18,
   "metadata": {
    "vscode": {
     "languageId": "r"
    }
   },
   "outputs": [
    {
     "data": {
      "text/html": [
       "<style>\n",
       ".list-inline {list-style: none; margin:0; padding: 0}\n",
       ".list-inline>li {display: inline-block}\n",
       ".list-inline>li:not(:last-child)::after {content: \"\\00b7\"; padding: 0 .5ex}\n",
       "</style>\n",
       "<ol class=list-inline><li>0.0150618722711611</li><li>-0.0358191792925654</li><li>-0.0202022980381649</li><li>-0.0103322686717355</li><li>-0.051104105653712</li></ol>\n"
      ],
      "text/latex": [
       "\\begin{enumerate*}\n",
       "\\item 0.0150618722711611\n",
       "\\item -0.0358191792925654\n",
       "\\item -0.0202022980381649\n",
       "\\item -0.0103322686717355\n",
       "\\item -0.051104105653712\n",
       "\\end{enumerate*}\n"
      ],
      "text/markdown": [
       "1. 0.0150618722711611\n",
       "2. -0.0358191792925654\n",
       "3. -0.0202022980381649\n",
       "4. -0.0103322686717355\n",
       "5. -0.051104105653712\n",
       "\n",
       "\n"
      ],
      "text/plain": [
       "[1]  0.01506187 -0.03581918 -0.02020230 -0.01033227 -0.05110411"
      ]
     },
     "metadata": {},
     "output_type": "display_data"
    }
   ],
   "source": [
    "betal2=ysd*(betahat(0))/as.vector(xsd)\n",
    "betal2[1:5]"
   ]
  },
  {
   "cell_type": "code",
   "execution_count": 19,
   "metadata": {
    "vscode": {
     "languageId": "r"
    }
   },
   "outputs": [
    {
     "data": {
      "text/html": [
       "<table class=\"dataframe\">\n",
       "<caption>A matrix: 16 × 1 of type dbl</caption>\n",
       "<tbody>\n",
       "\t<tr><th scope=row>1947</th><td>-3561.625</td></tr>\n",
       "\t<tr><th scope=row>1948</th><td>-3563.093</td></tr>\n",
       "\t<tr><th scope=row>1949</th><td>-3565.062</td></tr>\n",
       "\t<tr><th scope=row>1950</th><td>-3566.435</td></tr>\n",
       "\t<tr><th scope=row>1951</th><td>-3568.984</td></tr>\n",
       "\t<tr><th scope=row>1952</th><td>-3570.254</td></tr>\n",
       "\t<tr><th scope=row>1953</th><td>-3572.169</td></tr>\n",
       "\t<tr><th scope=row>1954</th><td>-3574.149</td></tr>\n",
       "\t<tr><th scope=row>1955</th><td>-3576.005</td></tr>\n",
       "\t<tr><th scope=row>1956</th><td>-3578.276</td></tr>\n",
       "\t<tr><th scope=row>1957</th><td>-3579.632</td></tr>\n",
       "\t<tr><th scope=row>1958</th><td>-3581.440</td></tr>\n",
       "\t<tr><th scope=row>1959</th><td>-3583.152</td></tr>\n",
       "\t<tr><th scope=row>1960</th><td>-3585.051</td></tr>\n",
       "\t<tr><th scope=row>1961</th><td>-3587.308</td></tr>\n",
       "\t<tr><th scope=row>1962</th><td>-3588.588</td></tr>\n",
       "</tbody>\n",
       "</table>\n"
      ],
      "text/latex": [
       "A matrix: 16 × 1 of type dbl\n",
       "\\begin{tabular}{r|l}\n",
       "\t1947 & -3561.625\\\\\n",
       "\t1948 & -3563.093\\\\\n",
       "\t1949 & -3565.062\\\\\n",
       "\t1950 & -3566.435\\\\\n",
       "\t1951 & -3568.984\\\\\n",
       "\t1952 & -3570.254\\\\\n",
       "\t1953 & -3572.169\\\\\n",
       "\t1954 & -3574.149\\\\\n",
       "\t1955 & -3576.005\\\\\n",
       "\t1956 & -3578.276\\\\\n",
       "\t1957 & -3579.632\\\\\n",
       "\t1958 & -3581.440\\\\\n",
       "\t1959 & -3583.152\\\\\n",
       "\t1960 & -3585.051\\\\\n",
       "\t1961 & -3587.308\\\\\n",
       "\t1962 & -3588.588\\\\\n",
       "\\end{tabular}\n"
      ],
      "text/markdown": [
       "\n",
       "A matrix: 16 × 1 of type dbl\n",
       "\n",
       "| 1947 | -3561.625 |\n",
       "| 1948 | -3563.093 |\n",
       "| 1949 | -3565.062 |\n",
       "| 1950 | -3566.435 |\n",
       "| 1951 | -3568.984 |\n",
       "| 1952 | -3570.254 |\n",
       "| 1953 | -3572.169 |\n",
       "| 1954 | -3574.149 |\n",
       "| 1955 | -3576.005 |\n",
       "| 1956 | -3578.276 |\n",
       "| 1957 | -3579.632 |\n",
       "| 1958 | -3581.440 |\n",
       "| 1959 | -3583.152 |\n",
       "| 1960 | -3585.051 |\n",
       "| 1961 | -3587.308 |\n",
       "| 1962 | -3588.588 |\n",
       "\n"
      ],
      "text/plain": [
       "     [,1]     \n",
       "1947 -3561.625\n",
       "1948 -3563.093\n",
       "1949 -3565.062\n",
       "1950 -3566.435\n",
       "1951 -3568.984\n",
       "1952 -3570.254\n",
       "1953 -3572.169\n",
       "1954 -3574.149\n",
       "1955 -3576.005\n",
       "1956 -3578.276\n",
       "1957 -3579.632\n",
       "1958 -3581.440\n",
       "1959 -3583.152\n",
       "1960 -3585.051\n",
       "1961 -3587.308\n",
       "1962 -3588.588"
      ]
     },
     "metadata": {},
     "output_type": "display_data"
    }
   ],
   "source": [
    "oldX[,1:5]%*%betal2[1:5]+rep(inter2,16) - oldY"
   ]
  },
  {
   "cell_type": "code",
   "execution_count": 44,
   "metadata": {
    "vscode": {
     "languageId": "r"
    }
   },
   "outputs": [
    {
     "data": {
      "text/html": [
       "<style>\n",
       ".list-inline {list-style: none; margin:0; padding: 0}\n",
       ".list-inline>li {display: inline-block}\n",
       ".list-inline>li:not(:last-child)::after {content: \"\\00b7\"; padding: 0 .5ex}\n",
       "</style>\n",
       "<ol class=list-inline><li>0.0150618722711611</li><li>-0.0358191792925654</li><li>-0.0202022980381649</li><li>-0.0103322686717355</li><li>-0.051104105653712</li><li>1.82915146461349</li></ol>\n"
      ],
      "text/latex": [
       "\\begin{enumerate*}\n",
       "\\item 0.0150618722711611\n",
       "\\item -0.0358191792925654\n",
       "\\item -0.0202022980381649\n",
       "\\item -0.0103322686717355\n",
       "\\item -0.051104105653712\n",
       "\\item 1.82915146461349\n",
       "\\end{enumerate*}\n"
      ],
      "text/markdown": [
       "1. 0.0150618722711611\n",
       "2. -0.0358191792925654\n",
       "3. -0.0202022980381649\n",
       "4. -0.0103322686717355\n",
       "5. -0.051104105653712\n",
       "6. 1.82915146461349\n",
       "\n",
       "\n"
      ],
      "text/plain": [
       "[1]  0.01506187 -0.03581918 -0.02020230 -0.01033227 -0.05110411  1.82915146"
      ]
     },
     "metadata": {},
     "output_type": "display_data"
    },
    {
     "data": {
      "text/html": [
       "<table class=\"dataframe\">\n",
       "<caption>A matrix: 1 × 1 of type dbl</caption>\n",
       "<tbody>\n",
       "\t<tr><td>-3482.259</td></tr>\n",
       "</tbody>\n",
       "</table>\n"
      ],
      "text/latex": [
       "A matrix: 1 × 1 of type dbl\n",
       "\\begin{tabular}{l}\n",
       "\t -3482.259\\\\\n",
       "\\end{tabular}\n"
      ],
      "text/markdown": [
       "\n",
       "A matrix: 1 × 1 of type dbl\n",
       "\n",
       "| -3482.259 |\n",
       "\n"
      ],
      "text/plain": [
       "     [,1]     \n",
       "[1,] -3482.259"
      ]
     },
     "metadata": {},
     "output_type": "display_data"
    }
   ],
   "source": [
    "as.vector(betal2)\n",
    "inter2\n"
   ]
  },
  {
   "cell_type": "code",
   "execution_count": 53,
   "metadata": {
    "vscode": {
     "languageId": "r"
    }
   },
   "outputs": [
    {
     "data": {
      "text/html": [
       "<table class=\"dataframe\">\n",
       "<caption>A matrix: 16 × 1 of type dbl</caption>\n",
       "<tbody>\n",
       "\t<tr><th scope=row>1947</th><td>-3482.539</td></tr>\n",
       "\t<tr><th scope=row>1948</th><td>-3482.128</td></tr>\n",
       "\t<tr><th scope=row>1949</th><td>-3482.349</td></tr>\n",
       "\t<tr><th scope=row>1950</th><td>-3481.857</td></tr>\n",
       "\t<tr><th scope=row>1951</th><td>-3481.818</td></tr>\n",
       "\t<tr><th scope=row>1952</th><td>-3481.715</td></tr>\n",
       "\t<tr><th scope=row>1953</th><td>-3482.460</td></tr>\n",
       "\t<tr><th scope=row>1954</th><td>-3482.475</td></tr>\n",
       "\t<tr><th scope=row>1955</th><td>-3482.332</td></tr>\n",
       "\t<tr><th scope=row>1956</th><td>-3483.172</td></tr>\n",
       "\t<tr><th scope=row>1957</th><td>-3482.683</td></tr>\n",
       "\t<tr><th scope=row>1958</th><td>-3482.250</td></tr>\n",
       "\t<tr><th scope=row>1959</th><td>-3481.897</td></tr>\n",
       "\t<tr><th scope=row>1960</th><td>-3482.286</td></tr>\n",
       "\t<tr><th scope=row>1961</th><td>-3482.410</td></tr>\n",
       "\t<tr><th scope=row>1962</th><td>-3481.766</td></tr>\n",
       "</tbody>\n",
       "</table>\n"
      ],
      "text/latex": [
       "A matrix: 16 × 1 of type dbl\n",
       "\\begin{tabular}{r|l}\n",
       "\t1947 & -3482.539\\\\\n",
       "\t1948 & -3482.128\\\\\n",
       "\t1949 & -3482.349\\\\\n",
       "\t1950 & -3481.857\\\\\n",
       "\t1951 & -3481.818\\\\\n",
       "\t1952 & -3481.715\\\\\n",
       "\t1953 & -3482.460\\\\\n",
       "\t1954 & -3482.475\\\\\n",
       "\t1955 & -3482.332\\\\\n",
       "\t1956 & -3483.172\\\\\n",
       "\t1957 & -3482.683\\\\\n",
       "\t1958 & -3482.250\\\\\n",
       "\t1959 & -3481.897\\\\\n",
       "\t1960 & -3482.286\\\\\n",
       "\t1961 & -3482.410\\\\\n",
       "\t1962 & -3481.766\\\\\n",
       "\\end{tabular}\n"
      ],
      "text/markdown": [
       "\n",
       "A matrix: 16 × 1 of type dbl\n",
       "\n",
       "| 1947 | -3482.539 |\n",
       "| 1948 | -3482.128 |\n",
       "| 1949 | -3482.349 |\n",
       "| 1950 | -3481.857 |\n",
       "| 1951 | -3481.818 |\n",
       "| 1952 | -3481.715 |\n",
       "| 1953 | -3482.460 |\n",
       "| 1954 | -3482.475 |\n",
       "| 1955 | -3482.332 |\n",
       "| 1956 | -3483.172 |\n",
       "| 1957 | -3482.683 |\n",
       "| 1958 | -3482.250 |\n",
       "| 1959 | -3481.897 |\n",
       "| 1960 | -3482.286 |\n",
       "| 1961 | -3482.410 |\n",
       "| 1962 | -3481.766 |\n",
       "\n"
      ],
      "text/plain": [
       "     [,1]     \n",
       "1947 -3482.539\n",
       "1948 -3482.128\n",
       "1949 -3482.349\n",
       "1950 -3481.857\n",
       "1951 -3481.818\n",
       "1952 -3481.715\n",
       "1953 -3482.460\n",
       "1954 -3482.475\n",
       "1955 -3482.332\n",
       "1956 -3483.172\n",
       "1957 -3482.683\n",
       "1958 -3482.250\n",
       "1959 -3481.897\n",
       "1960 -3482.286\n",
       "1961 -3482.410\n",
       "1962 -3481.766"
      ]
     },
     "metadata": {},
     "output_type": "display_data"
    }
   ],
   "source": [
    "e=as.matrix(longley[,1:6])%*%betat+rep(inter2,16)-as.vector(longley[,7])\n",
    "e"
   ]
  },
  {
   "cell_type": "code",
   "execution_count": 46,
   "metadata": {
    "vscode": {
     "languageId": "r"
    }
   },
   "outputs": [
    {
     "data": {
      "text/html": [
       "<table class=\"dataframe\">\n",
       "<caption>A matrix: 1 × 1 of type dbl</caption>\n",
       "<tbody>\n",
       "\t<tr><td>0.9145622</td></tr>\n",
       "</tbody>\n",
       "</table>\n"
      ],
      "text/latex": [
       "A matrix: 1 × 1 of type dbl\n",
       "\\begin{tabular}{l}\n",
       "\t 0.9145622\\\\\n",
       "\\end{tabular}\n"
      ],
      "text/markdown": [
       "\n",
       "A matrix: 1 × 1 of type dbl\n",
       "\n",
       "| 0.9145622 |\n",
       "\n"
      ],
      "text/plain": [
       "     [,1]     \n",
       "[1,] 0.9145622"
      ]
     },
     "metadata": {},
     "output_type": "display_data"
    }
   ],
   "source": [
    "sqrt(t(e)%*%e)"
   ]
  },
  {
   "cell_type": "code",
   "execution_count": 47,
   "metadata": {
    "vscode": {
     "languageId": "r"
    }
   },
   "outputs": [
    {
     "data": {
      "text/html": [
       "<table class=\"dataframe\">\n",
       "<caption>A matrix: 16 × 1 of type dbl</caption>\n",
       "<tbody>\n",
       "\t<tr><th scope=row>1947</th><td>-0.26734003</td></tr>\n",
       "\t<tr><th scope=row>1948</th><td> 0.09401394</td></tr>\n",
       "\t<tr><th scope=row>1949</th><td>-0.04628717</td></tr>\n",
       "\t<tr><th scope=row>1950</th><td> 0.41011462</td></tr>\n",
       "\t<tr><th scope=row>1951</th><td>-0.30971459</td></tr>\n",
       "\t<tr><th scope=row>1952</th><td> 0.24931122</td></tr>\n",
       "\t<tr><th scope=row>1953</th><td> 0.16404896</td></tr>\n",
       "\t<tr><th scope=row>1954</th><td> 0.01318036</td></tr>\n",
       "\t<tr><th scope=row>1955</th><td>-0.01430477</td></tr>\n",
       "\t<tr><th scope=row>1956</th><td>-0.45539409</td></tr>\n",
       "\t<tr><th scope=row>1957</th><td> 0.01726893</td></tr>\n",
       "\t<tr><th scope=row>1958</th><td> 0.03905504</td></tr>\n",
       "\t<tr><th scope=row>1959</th><td> 0.15554997</td></tr>\n",
       "\t<tr><th scope=row>1960</th><td> 0.08567131</td></tr>\n",
       "\t<tr><th scope=row>1961</th><td>-0.34193151</td></tr>\n",
       "\t<tr><th scope=row>1962</th><td> 0.20675783</td></tr>\n",
       "</tbody>\n",
       "</table>\n"
      ],
      "text/latex": [
       "A matrix: 16 × 1 of type dbl\n",
       "\\begin{tabular}{r|l}\n",
       "\t1947 & -0.26734003\\\\\n",
       "\t1948 &  0.09401394\\\\\n",
       "\t1949 & -0.04628717\\\\\n",
       "\t1950 &  0.41011462\\\\\n",
       "\t1951 & -0.30971459\\\\\n",
       "\t1952 &  0.24931122\\\\\n",
       "\t1953 &  0.16404896\\\\\n",
       "\t1954 &  0.01318036\\\\\n",
       "\t1955 & -0.01430477\\\\\n",
       "\t1956 & -0.45539409\\\\\n",
       "\t1957 &  0.01726893\\\\\n",
       "\t1958 &  0.03905504\\\\\n",
       "\t1959 &  0.15554997\\\\\n",
       "\t1960 &  0.08567131\\\\\n",
       "\t1961 & -0.34193151\\\\\n",
       "\t1962 &  0.20675783\\\\\n",
       "\\end{tabular}\n"
      ],
      "text/markdown": [
       "\n",
       "A matrix: 16 × 1 of type dbl\n",
       "\n",
       "| 1947 | -0.26734003 |\n",
       "| 1948 |  0.09401394 |\n",
       "| 1949 | -0.04628717 |\n",
       "| 1950 |  0.41011462 |\n",
       "| 1951 | -0.30971459 |\n",
       "| 1952 |  0.24931122 |\n",
       "| 1953 |  0.16404896 |\n",
       "| 1954 |  0.01318036 |\n",
       "| 1955 | -0.01430477 |\n",
       "| 1956 | -0.45539409 |\n",
       "| 1957 |  0.01726893 |\n",
       "| 1958 |  0.03905504 |\n",
       "| 1959 |  0.15554997 |\n",
       "| 1960 |  0.08567131 |\n",
       "| 1961 | -0.34193151 |\n",
       "| 1962 |  0.20675783 |\n",
       "\n"
      ],
      "text/plain": [
       "     [,1]       \n",
       "1947 -0.26734003\n",
       "1948  0.09401394\n",
       "1949 -0.04628717\n",
       "1950  0.41011462\n",
       "1951 -0.30971459\n",
       "1952  0.24931122\n",
       "1953  0.16404896\n",
       "1954  0.01318036\n",
       "1955 -0.01430477\n",
       "1956 -0.45539409\n",
       "1957  0.01726893\n",
       "1958  0.03905504\n",
       "1959  0.15554997\n",
       "1960  0.08567131\n",
       "1961 -0.34193151\n",
       "1962  0.20675783"
      ]
     },
     "metadata": {},
     "output_type": "display_data"
    }
   ],
   "source": [
    "e"
   ]
  },
  {
   "cell_type": "markdown",
   "metadata": {},
   "source": [
    "岭迹法"
   ]
  },
  {
   "cell_type": "code",
   "execution_count": null,
   "metadata": {
    "vscode": {
     "languageId": "r"
    }
   },
   "outputs": [
    {
     "data": {
      "image/png": "[encoded data removed]",
      "text/plain": [
       "plot without title"
      ]
     },
     "metadata": {
      "image/png": {
       "height": 420,
       "width": 420
      }
     },
     "output_type": "display_data"
    }
   ],
   "source": [
    "library(\"MASS\")\n",
    "plot(lm.ridge(Employed~.,as.data.frame(scale(longley)),lambda = seq(0,0.3,0.001)))\n",
    "abline(v=0.05)"
   ]
  },
  {
   "cell_type": "code",
   "execution_count": null,
   "metadata": {
    "vscode": {
     "languageId": "r"
    }
   },
   "outputs": [
    {
     "data": {
      "text/plain": [
       "               GNP.deflator           GNP    Unemployed  Armed.Forces \n",
       "-1.640219e-15  4.379723e-02  1.860545e-01 -3.584611e-01 -1.577363e-01 \n",
       "   Population          Year \n",
       "-2.335685e-01  1.278342e+00 "
      ]
     },
     "metadata": {},
     "output_type": "display_data"
    }
   ],
   "source": [
    "lm.ridge(Employed~.,as.data.frame(scale(longley)),lambda =0.024)"
   ]
  },
  {
   "cell_type": "code",
   "execution_count": null,
   "metadata": {
    "vscode": {
     "languageId": "r"
    }
   },
   "outputs": [
    {
     "data": {
      "text/html": [
       "<table class=\"dataframe\">\n",
       "<caption>A matrix: 7 × 7 of type dbl</caption>\n",
       "<thead>\n",
       "\t<tr><th></th><th scope=col>GNP.deflator</th><th scope=col>GNP</th><th scope=col>Unemployed</th><th scope=col>Armed.Forces</th><th scope=col>Population</th><th scope=col>Year</th><th scope=col>Employed</th></tr>\n",
       "</thead>\n",
       "<tbody>\n",
       "\t<tr><th scope=row>GNP.deflator</th><td>1.0000000</td><td>0.9915892</td><td> 0.6206334</td><td> 0.4647442</td><td>0.9791634</td><td>0.9911492</td><td>0.9708985</td></tr>\n",
       "\t<tr><th scope=row>GNP</th><td>0.9915892</td><td>1.0000000</td><td> 0.6042609</td><td> 0.4464368</td><td>0.9910901</td><td>0.9952735</td><td>0.9835516</td></tr>\n",
       "\t<tr><th scope=row>Unemployed</th><td>0.6206334</td><td>0.6042609</td><td> 1.0000000</td><td>-0.1774206</td><td>0.6865515</td><td>0.6682566</td><td>0.5024981</td></tr>\n",
       "\t<tr><th scope=row>Armed.Forces</th><td>0.4647442</td><td>0.4464368</td><td>-0.1774206</td><td> 1.0000000</td><td>0.3644163</td><td>0.4172451</td><td>0.4573074</td></tr>\n",
       "\t<tr><th scope=row>Population</th><td>0.9791634</td><td>0.9910901</td><td> 0.6865515</td><td> 0.3644163</td><td>1.0000000</td><td>0.9939528</td><td>0.9603906</td></tr>\n",
       "\t<tr><th scope=row>Year</th><td>0.9911492</td><td>0.9952735</td><td> 0.6682566</td><td> 0.4172451</td><td>0.9939528</td><td>1.0000000</td><td>0.9713295</td></tr>\n",
       "\t<tr><th scope=row>Employed</th><td>0.9708985</td><td>0.9835516</td><td> 0.5024981</td><td> 0.4573074</td><td>0.9603906</td><td>0.9713295</td><td>1.0000000</td></tr>\n",
       "</tbody>\n",
       "</table>\n"
      ],
      "text/latex": [
       "A matrix: 7 × 7 of type dbl\n",
       "\\begin{tabular}{r|lllllll}\n",
       "  & GNP.deflator & GNP & Unemployed & Armed.Forces & Population & Year & Employed\\\\\n",
       "\\hline\n",
       "\tGNP.deflator & 1.0000000 & 0.9915892 &  0.6206334 &  0.4647442 & 0.9791634 & 0.9911492 & 0.9708985\\\\\n",
       "\tGNP & 0.9915892 & 1.0000000 &  0.6042609 &  0.4464368 & 0.9910901 & 0.9952735 & 0.9835516\\\\\n",
       "\tUnemployed & 0.6206334 & 0.6042609 &  1.0000000 & -0.1774206 & 0.6865515 & 0.6682566 & 0.5024981\\\\\n",
       "\tArmed.Forces & 0.4647442 & 0.4464368 & -0.1774206 &  1.0000000 & 0.3644163 & 0.4172451 & 0.4573074\\\\\n",
       "\tPopulation & 0.9791634 & 0.9910901 &  0.6865515 &  0.3644163 & 1.0000000 & 0.9939528 & 0.9603906\\\\\n",
       "\tYear & 0.9911492 & 0.9952735 &  0.6682566 &  0.4172451 & 0.9939528 & 1.0000000 & 0.9713295\\\\\n",
       "\tEmployed & 0.9708985 & 0.9835516 &  0.5024981 &  0.4573074 & 0.9603906 & 0.9713295 & 1.0000000\\\\\n",
       "\\end{tabular}\n"
      ],
      "text/markdown": [
       "\n",
       "A matrix: 7 × 7 of type dbl\n",
       "\n",
       "| <!--/--> | GNP.deflator | GNP | Unemployed | Armed.Forces | Population | Year | Employed |\n",
       "|---|---|---|---|---|---|---|---|\n",
       "| GNP.deflator | 1.0000000 | 0.9915892 |  0.6206334 |  0.4647442 | 0.9791634 | 0.9911492 | 0.9708985 |\n",
       "| GNP | 0.9915892 | 1.0000000 |  0.6042609 |  0.4464368 | 0.9910901 | 0.9952735 | 0.9835516 |\n",
       "| Unemployed | 0.6206334 | 0.6042609 |  1.0000000 | -0.1774206 | 0.6865515 | 0.6682566 | 0.5024981 |\n",
       "| Armed.Forces | 0.4647442 | 0.4464368 | -0.1774206 |  1.0000000 | 0.3644163 | 0.4172451 | 0.4573074 |\n",
       "| Population | 0.9791634 | 0.9910901 |  0.6865515 |  0.3644163 | 1.0000000 | 0.9939528 | 0.9603906 |\n",
       "| Year | 0.9911492 | 0.9952735 |  0.6682566 |  0.4172451 | 0.9939528 | 1.0000000 | 0.9713295 |\n",
       "| Employed | 0.9708985 | 0.9835516 |  0.5024981 |  0.4573074 | 0.9603906 | 0.9713295 | 1.0000000 |\n",
       "\n"
      ],
      "text/plain": [
       "             GNP.deflator GNP       Unemployed Armed.Forces Population\n",
       "GNP.deflator 1.0000000    0.9915892  0.6206334  0.4647442   0.9791634 \n",
       "GNP          0.9915892    1.0000000  0.6042609  0.4464368   0.9910901 \n",
       "Unemployed   0.6206334    0.6042609  1.0000000 -0.1774206   0.6865515 \n",
       "Armed.Forces 0.4647442    0.4464368 -0.1774206  1.0000000   0.3644163 \n",
       "Population   0.9791634    0.9910901  0.6865515  0.3644163   1.0000000 \n",
       "Year         0.9911492    0.9952735  0.6682566  0.4172451   0.9939528 \n",
       "Employed     0.9708985    0.9835516  0.5024981  0.4573074   0.9603906 \n",
       "             Year      Employed \n",
       "GNP.deflator 0.9911492 0.9708985\n",
       "GNP          0.9952735 0.9835516\n",
       "Unemployed   0.6682566 0.5024981\n",
       "Armed.Forces 0.4172451 0.4573074\n",
       "Population   0.9939528 0.9603906\n",
       "Year         1.0000000 0.9713295\n",
       "Employed     0.9713295 1.0000000"
      ]
     },
     "metadata": {},
     "output_type": "display_data"
    }
   ],
   "source": [
    "cor(longley)"
   ]
  },
  {
   "cell_type": "code",
   "execution_count": null,
   "metadata": {
    "vscode": {
     "languageId": "r"
    }
   },
   "outputs": [
    {
     "data": {
      "image/png": "[encoded data removed]",
      "text/plain": [
       "plot without title"
      ]
     },
     "metadata": {
      "image/png": {
       "height": 420,
       "width": 420
      }
     },
     "output_type": "display_data"
    }
   ],
   "source": [
    "plot(seq(0,0.1,0.001),sapply(seq(0,0.1,0.001),betahat)[1,])\n",
    "lines(seq(0,0.1,0.001),sapply(seq(0,0.1,0.001),betahat)[2,])"
   ]
  },
  {
   "cell_type": "code",
   "execution_count": null,
   "metadata": {
    "vscode": {
     "languageId": "r"
    }
   },
   "outputs": [
    {
     "data": {
      "text/html": [
       "<style>\n",
       ".list-inline {list-style: none; margin:0; padding: 0}\n",
       ".list-inline>li {display: inline-block}\n",
       ".list-inline>li:not(:last-child)::after {content: \"\\00b7\"; padding: 0 .5ex}\n",
       "</style>\n",
       "<ol class=list-inline><li>'V2'</li><li>'V3'</li><li>'V4'</li><li>'V5'</li><li>'V6'</li><li>'V7'</li></ol>\n"
      ],
      "text/latex": [
       "\\begin{enumerate*}\n",
       "\\item 'V2'\n",
       "\\item 'V3'\n",
       "\\item 'V4'\n",
       "\\item 'V5'\n",
       "\\item 'V6'\n",
       "\\item 'V7'\n",
       "\\end{enumerate*}\n"
      ],
      "text/markdown": [
       "1. 'V2'\n",
       "2. 'V3'\n",
       "3. 'V4'\n",
       "4. 'V5'\n",
       "5. 'V6'\n",
       "6. 'V7'\n",
       "\n",
       "\n"
      ],
      "text/plain": [
       "[1] \"V2\" \"V3\" \"V4\" \"V5\" \"V6\" \"V7\""
      ]
     },
     "metadata": {},
     "output_type": "display_data"
    }
   ],
   "source": [
    "names(as.data.frame(t(rbind(seq(0,0.3,0.001),sapply(seq(0,0.3,0.001),betahat)))))[2:7]"
   ]
  },
  {
   "cell_type": "code",
   "execution_count": null,
   "metadata": {
    "vscode": {
     "languageId": "r"
    }
   },
   "outputs": [],
   "source": [
    "dd<- as.data.frame(t(rbind(seq(0,0.03,0.00001),sapply(seq(0,0.03,0.00001),betahat))),col.names=c('x',' GNP.deflator', 'GNP', 'Unemployed', 'Armed.Forces', 'Population','Year'))"
   ]
  },
  {
   "cell_type": "code",
   "execution_count": null,
   "metadata": {
    "vscode": {
     "languageId": "r"
    }
   },
   "outputs": [],
   "source": [
    "write.csv(dd,\"dd.csv\")"
   ]
  },
  {
   "cell_type": "code",
   "execution_count": null,
   "metadata": {
    "vscode": {
     "languageId": "r"
    }
   },
   "outputs": [
    {
     "data": {
      "text/html": [
       "<table class=\"dataframe\">\n",
       "<caption>A data.frame: 3001 × 7</caption>\n",
       "<thead>\n",
       "\t<tr><th scope=col>V1</th><th scope=col>V2</th><th scope=col>V3</th><th scope=col>V4</th><th scope=col>V5</th><th scope=col>V6</th><th scope=col>V7</th></tr>\n",
       "\t<tr><th scope=col>&lt;dbl&gt;</th><th scope=col>&lt;dbl&gt;</th><th scope=col>&lt;dbl&gt;</th><th scope=col>&lt;dbl&gt;</th><th scope=col>&lt;dbl&gt;</th><th scope=col>&lt;dbl&gt;</th><th scope=col>&lt;dbl&gt;</th></tr>\n",
       "</thead>\n",
       "<tbody>\n",
       "\t<tr><td>0.00000</td><td> 0.0462820227</td><td>-1.0137463</td><td>-0.5375426</td><td>-0.2047407</td><td>-0.1012211</td><td>2.479664</td></tr>\n",
       "\t<tr><td>0.00001</td><td> 0.0416094733</td><td>-0.9728058</td><td>-0.5319512</td><td>-0.2036340</td><td>-0.1133999</td><td>2.451431</td></tr>\n",
       "\t<tr><td>0.00002</td><td> 0.0372684236</td><td>-0.9339729</td><td>-0.5266381</td><td>-0.2025751</td><td>-0.1248027</td><td>2.424402</td></tr>\n",
       "\t<tr><td>0.00003</td><td> 0.0332333068</td><td>-0.8970918</td><td>-0.5215827</td><td>-0.2015606</td><td>-0.1354884</td><td>2.398490</td></tr>\n",
       "\t<tr><td>0.00004</td><td> 0.0294810269</td><td>-0.8620215</td><td>-0.5167665</td><td>-0.2005872</td><td>-0.1455105</td><td>2.373619</td></tr>\n",
       "\t<tr><td>0.00005</td><td> 0.0259906692</td><td>-0.8286342</td><td>-0.5121728</td><td>-0.1996522</td><td>-0.1549173</td><td>2.349716</td></tr>\n",
       "\t<tr><td>0.00006</td><td> 0.0227432501</td><td>-0.7968138</td><td>-0.5077863</td><td>-0.1987530</td><td>-0.1637526</td><td>2.326718</td></tr>\n",
       "\t<tr><td>0.00007</td><td> 0.0197215007</td><td>-0.7664547</td><td>-0.5035931</td><td>-0.1978873</td><td>-0.1720565</td><td>2.304566</td></tr>\n",
       "\t<tr><td>0.00008</td><td> 0.0169096788</td><td>-0.7374606</td><td>-0.4995804</td><td>-0.1970529</td><td>-0.1798653</td><td>2.283207</td></tr>\n",
       "\t<tr><td>0.00009</td><td> 0.0142934050</td><td>-0.7097432</td><td>-0.4957369</td><td>-0.1962480</td><td>-0.1872124</td><td>2.262591</td></tr>\n",
       "\t<tr><td>0.00010</td><td> 0.0118595198</td><td>-0.6832218</td><td>-0.4920517</td><td>-0.1954706</td><td>-0.1941281</td><td>2.242673</td></tr>\n",
       "\t<tr><td>0.00011</td><td> 0.0095959577</td><td>-0.6578224</td><td>-0.4885153</td><td>-0.1947192</td><td>-0.2006404</td><td>2.223413</td></tr>\n",
       "\t<tr><td>0.00012</td><td> 0.0074916368</td><td>-0.6334769</td><td>-0.4851185</td><td>-0.1939923</td><td>-0.2067749</td><td>2.204773</td></tr>\n",
       "\t<tr><td>0.00013</td><td> 0.0055363619</td><td>-0.6101224</td><td>-0.4818532</td><td>-0.1932884</td><td>-0.2125554</td><td>2.186717</td></tr>\n",
       "\t<tr><td>0.00014</td><td> 0.0037207382</td><td>-0.5877012</td><td>-0.4787118</td><td>-0.1926063</td><td>-0.2180035</td><td>2.169213</td></tr>\n",
       "\t<tr><td>0.00015</td><td> 0.0020360952</td><td>-0.5661597</td><td>-0.4756872</td><td>-0.1919448</td><td>-0.2231393</td><td>2.152231</td></tr>\n",
       "\t<tr><td>0.00016</td><td> 0.0004744191</td><td>-0.5454485</td><td>-0.4727730</td><td>-0.1913028</td><td>-0.2279815</td><td>2.135745</td></tr>\n",
       "\t<tr><td>0.00017</td><td>-0.0009717078</td><td>-0.5255218</td><td>-0.4699630</td><td>-0.1906792</td><td>-0.2325472</td><td>2.119727</td></tr>\n",
       "\t<tr><td>0.00018</td><td>-0.0023091602</td><td>-0.5063368</td><td>-0.4672516</td><td>-0.1900732</td><td>-0.2368525</td><td>2.104154</td></tr>\n",
       "\t<tr><td>0.00019</td><td>-0.0035443186</td><td>-0.4878542</td><td>-0.4646338</td><td>-0.1894838</td><td>-0.2409120</td><td>2.089005</td></tr>\n",
       "\t<tr><td>0.00020</td><td>-0.0046831117</td><td>-0.4700371</td><td>-0.4621046</td><td>-0.1889103</td><td>-0.2447397</td><td>2.074258</td></tr>\n",
       "\t<tr><td>0.00021</td><td>-0.0057310553</td><td>-0.4528513</td><td>-0.4596594</td><td>-0.1883517</td><td>-0.2483483</td><td>2.059894</td></tr>\n",
       "\t<tr><td>0.00022</td><td>-0.0066932872</td><td>-0.4362646</td><td>-0.4572942</td><td>-0.1878076</td><td>-0.2517498</td><td>2.045895</td></tr>\n",
       "\t<tr><td>0.00023</td><td>-0.0075745984</td><td>-0.4202473</td><td>-0.4550050</td><td>-0.1872771</td><td>-0.2549552</td><td>2.032245</td></tr>\n",
       "\t<tr><td>0.00024</td><td>-0.0083794610</td><td>-0.4047714</td><td>-0.4527880</td><td>-0.1867596</td><td>-0.2579752</td><td>2.018927</td></tr>\n",
       "\t<tr><td>0.00025</td><td>-0.0091120546</td><td>-0.3898108</td><td>-0.4506398</td><td>-0.1862546</td><td>-0.2608192</td><td>2.005927</td></tr>\n",
       "\t<tr><td>0.00026</td><td>-0.0097762885</td><td>-0.3753409</td><td>-0.4485573</td><td>-0.1857615</td><td>-0.2634966</td><td>1.993230</td></tr>\n",
       "\t<tr><td>0.00027</td><td>-0.0103758232</td><td>-0.3613388</td><td>-0.4465373</td><td>-0.1852797</td><td>-0.2660157</td><td>1.980825</td></tr>\n",
       "\t<tr><td>0.00028</td><td>-0.0109140896</td><td>-0.3477829</td><td>-0.4445771</td><td>-0.1848089</td><td>-0.2683847</td><td>1.968699</td></tr>\n",
       "\t<tr><td>0.00029</td><td>-0.0113943060</td><td>-0.3346530</td><td>-0.4426739</td><td>-0.1843486</td><td>-0.2706110</td><td>1.956840</td></tr>\n",
       "\t<tr><td>⋮</td><td>⋮</td><td>⋮</td><td>⋮</td><td>⋮</td><td>⋮</td><td>⋮</td></tr>\n",
       "\t<tr><td>0.02971</td><td>0.2630875</td><td>0.3348211</td><td>-0.2628546</td><td>-0.08994639</td><td>0.2017597</td><td>0.3787245</td></tr>\n",
       "\t<tr><td>0.02972</td><td>0.2630914</td><td>0.3348163</td><td>-0.2628387</td><td>-0.08993439</td><td>0.2017810</td><td>0.3786859</td></tr>\n",
       "\t<tr><td>0.02973</td><td>0.2630954</td><td>0.3348115</td><td>-0.2628228</td><td>-0.08992239</td><td>0.2018022</td><td>0.3786473</td></tr>\n",
       "\t<tr><td>0.02974</td><td>0.2630993</td><td>0.3348068</td><td>-0.2628069</td><td>-0.08991039</td><td>0.2018234</td><td>0.3786088</td></tr>\n",
       "\t<tr><td>0.02975</td><td>0.2631032</td><td>0.3348020</td><td>-0.2627910</td><td>-0.08989839</td><td>0.2018447</td><td>0.3785703</td></tr>\n",
       "\t<tr><td>0.02976</td><td>0.2631072</td><td>0.3347973</td><td>-0.2627751</td><td>-0.08988640</td><td>0.2018659</td><td>0.3785318</td></tr>\n",
       "\t<tr><td>0.02977</td><td>0.2631111</td><td>0.3347925</td><td>-0.2627592</td><td>-0.08987441</td><td>0.2018870</td><td>0.3784933</td></tr>\n",
       "\t<tr><td>0.02978</td><td>0.2631150</td><td>0.3347877</td><td>-0.2627433</td><td>-0.08986242</td><td>0.2019082</td><td>0.3784549</td></tr>\n",
       "\t<tr><td>0.02979</td><td>0.2631189</td><td>0.3347830</td><td>-0.2627275</td><td>-0.08985043</td><td>0.2019294</td><td>0.3784165</td></tr>\n",
       "\t<tr><td>0.02980</td><td>0.2631228</td><td>0.3347782</td><td>-0.2627116</td><td>-0.08983844</td><td>0.2019505</td><td>0.3783781</td></tr>\n",
       "\t<tr><td>0.02981</td><td>0.2631267</td><td>0.3347735</td><td>-0.2626957</td><td>-0.08982646</td><td>0.2019716</td><td>0.3783397</td></tr>\n",
       "\t<tr><td>0.02982</td><td>0.2631306</td><td>0.3347687</td><td>-0.2626798</td><td>-0.08981447</td><td>0.2019928</td><td>0.3783013</td></tr>\n",
       "\t<tr><td>0.02983</td><td>0.2631345</td><td>0.3347639</td><td>-0.2626640</td><td>-0.08980249</td><td>0.2020139</td><td>0.3782630</td></tr>\n",
       "\t<tr><td>0.02984</td><td>0.2631384</td><td>0.3347592</td><td>-0.2626481</td><td>-0.08979052</td><td>0.2020350</td><td>0.3782247</td></tr>\n",
       "\t<tr><td>0.02985</td><td>0.2631422</td><td>0.3347544</td><td>-0.2626322</td><td>-0.08977854</td><td>0.2020560</td><td>0.3781864</td></tr>\n",
       "\t<tr><td>0.02986</td><td>0.2631461</td><td>0.3347497</td><td>-0.2626163</td><td>-0.08976656</td><td>0.2020771</td><td>0.3781481</td></tr>\n",
       "\t<tr><td>0.02987</td><td>0.2631500</td><td>0.3347449</td><td>-0.2626005</td><td>-0.08975459</td><td>0.2020981</td><td>0.3781099</td></tr>\n",
       "\t<tr><td>0.02988</td><td>0.2631538</td><td>0.3347401</td><td>-0.2625846</td><td>-0.08974262</td><td>0.2021192</td><td>0.3780717</td></tr>\n",
       "\t<tr><td>0.02989</td><td>0.2631577</td><td>0.3347354</td><td>-0.2625688</td><td>-0.08973065</td><td>0.2021402</td><td>0.3780335</td></tr>\n",
       "\t<tr><td>0.02990</td><td>0.2631615</td><td>0.3347306</td><td>-0.2625529</td><td>-0.08971868</td><td>0.2021612</td><td>0.3779953</td></tr>\n",
       "\t<tr><td>0.02991</td><td>0.2631654</td><td>0.3347258</td><td>-0.2625370</td><td>-0.08970672</td><td>0.2021822</td><td>0.3779571</td></tr>\n",
       "\t<tr><td>0.02992</td><td>0.2631692</td><td>0.3347211</td><td>-0.2625212</td><td>-0.08969476</td><td>0.2022031</td><td>0.3779190</td></tr>\n",
       "\t<tr><td>0.02993</td><td>0.2631731</td><td>0.3347163</td><td>-0.2625053</td><td>-0.08968279</td><td>0.2022241</td><td>0.3778809</td></tr>\n",
       "\t<tr><td>0.02994</td><td>0.2631769</td><td>0.3347115</td><td>-0.2624895</td><td>-0.08967083</td><td>0.2022450</td><td>0.3778428</td></tr>\n",
       "\t<tr><td>0.02995</td><td>0.2631807</td><td>0.3347068</td><td>-0.2624736</td><td>-0.08965888</td><td>0.2022660</td><td>0.3778047</td></tr>\n",
       "\t<tr><td>0.02996</td><td>0.2631845</td><td>0.3347020</td><td>-0.2624578</td><td>-0.08964692</td><td>0.2022869</td><td>0.3777667</td></tr>\n",
       "\t<tr><td>0.02997</td><td>0.2631884</td><td>0.3346972</td><td>-0.2624419</td><td>-0.08963497</td><td>0.2023078</td><td>0.3777287</td></tr>\n",
       "\t<tr><td>0.02998</td><td>0.2631922</td><td>0.3346925</td><td>-0.2624261</td><td>-0.08962302</td><td>0.2023287</td><td>0.3776907</td></tr>\n",
       "\t<tr><td>0.02999</td><td>0.2631960</td><td>0.3346877</td><td>-0.2624103</td><td>-0.08961107</td><td>0.2023495</td><td>0.3776527</td></tr>\n",
       "\t<tr><td>0.03000</td><td>0.2631998</td><td>0.3346829</td><td>-0.2623944</td><td>-0.08959912</td><td>0.2023704</td><td>0.3776147</td></tr>\n",
       "</tbody>\n",
       "</table>\n"
      ],
      "text/latex": [
       "A data.frame: 3001 × 7\n",
       "\\begin{tabular}{lllllll}\n",
       " V1 & V2 & V3 & V4 & V5 & V6 & V7\\\\\n",
       " <dbl> & <dbl> & <dbl> & <dbl> & <dbl> & <dbl> & <dbl>\\\\\n",
       "\\hline\n",
       "\t 0.00000 &  0.0462820227 & -1.0137463 & -0.5375426 & -0.2047407 & -0.1012211 & 2.479664\\\\\n",
       "\t 0.00001 &  0.0416094733 & -0.9728058 & -0.5319512 & -0.2036340 & -0.1133999 & 2.451431\\\\\n",
       "\t 0.00002 &  0.0372684236 & -0.9339729 & -0.5266381 & -0.2025751 & -0.1248027 & 2.424402\\\\\n",
       "\t 0.00003 &  0.0332333068 & -0.8970918 & -0.5215827 & -0.2015606 & -0.1354884 & 2.398490\\\\\n",
       "\t 0.00004 &  0.0294810269 & -0.8620215 & -0.5167665 & -0.2005872 & -0.1455105 & 2.373619\\\\\n",
       "\t 0.00005 &  0.0259906692 & -0.8286342 & -0.5121728 & -0.1996522 & -0.1549173 & 2.349716\\\\\n",
       "\t 0.00006 &  0.0227432501 & -0.7968138 & -0.5077863 & -0.1987530 & -0.1637526 & 2.326718\\\\\n",
       "\t 0.00007 &  0.0197215007 & -0.7664547 & -0.5035931 & -0.1978873 & -0.1720565 & 2.304566\\\\\n",
       "\t 0.00008 &  0.0169096788 & -0.7374606 & -0.4995804 & -0.1970529 & -0.1798653 & 2.283207\\\\\n",
       "\t 0.00009 &  0.0142934050 & -0.7097432 & -0.4957369 & -0.1962480 & -0.1872124 & 2.262591\\\\\n",
       "\t 0.00010 &  0.0118595198 & -0.6832218 & -0.4920517 & -0.1954706 & -0.1941281 & 2.242673\\\\\n",
       "\t 0.00011 &  0.0095959577 & -0.6578224 & -0.4885153 & -0.1947192 & -0.2006404 & 2.223413\\\\\n",
       "\t 0.00012 &  0.0074916368 & -0.6334769 & -0.4851185 & -0.1939923 & -0.2067749 & 2.204773\\\\\n",
       "\t 0.00013 &  0.0055363619 & -0.6101224 & -0.4818532 & -0.1932884 & -0.2125554 & 2.186717\\\\\n",
       "\t 0.00014 &  0.0037207382 & -0.5877012 & -0.4787118 & -0.1926063 & -0.2180035 & 2.169213\\\\\n",
       "\t 0.00015 &  0.0020360952 & -0.5661597 & -0.4756872 & -0.1919448 & -0.2231393 & 2.152231\\\\\n",
       "\t 0.00016 &  0.0004744191 & -0.5454485 & -0.4727730 & -0.1913028 & -0.2279815 & 2.135745\\\\\n",
       "\t 0.00017 & -0.0009717078 & -0.5255218 & -0.4699630 & -0.1906792 & -0.2325472 & 2.119727\\\\\n",
       "\t 0.00018 & -0.0023091602 & -0.5063368 & -0.4672516 & -0.1900732 & -0.2368525 & 2.104154\\\\\n",
       "\t 0.00019 & -0.0035443186 & -0.4878542 & -0.4646338 & -0.1894838 & -0.2409120 & 2.089005\\\\\n",
       "\t 0.00020 & -0.0046831117 & -0.4700371 & -0.4621046 & -0.1889103 & -0.2447397 & 2.074258\\\\\n",
       "\t 0.00021 & -0.0057310553 & -0.4528513 & -0.4596594 & -0.1883517 & -0.2483483 & 2.059894\\\\\n",
       "\t 0.00022 & -0.0066932872 & -0.4362646 & -0.4572942 & -0.1878076 & -0.2517498 & 2.045895\\\\\n",
       "\t 0.00023 & -0.0075745984 & -0.4202473 & -0.4550050 & -0.1872771 & -0.2549552 & 2.032245\\\\\n",
       "\t 0.00024 & -0.0083794610 & -0.4047714 & -0.4527880 & -0.1867596 & -0.2579752 & 2.018927\\\\\n",
       "\t 0.00025 & -0.0091120546 & -0.3898108 & -0.4506398 & -0.1862546 & -0.2608192 & 2.005927\\\\\n",
       "\t 0.00026 & -0.0097762885 & -0.3753409 & -0.4485573 & -0.1857615 & -0.2634966 & 1.993230\\\\\n",
       "\t 0.00027 & -0.0103758232 & -0.3613388 & -0.4465373 & -0.1852797 & -0.2660157 & 1.980825\\\\\n",
       "\t 0.00028 & -0.0109140896 & -0.3477829 & -0.4445771 & -0.1848089 & -0.2683847 & 1.968699\\\\\n",
       "\t 0.00029 & -0.0113943060 & -0.3346530 & -0.4426739 & -0.1843486 & -0.2706110 & 1.956840\\\\\n",
       "\t ⋮ & ⋮ & ⋮ & ⋮ & ⋮ & ⋮ & ⋮\\\\\n",
       "\t 0.02971 & 0.2630875 & 0.3348211 & -0.2628546 & -0.08994639 & 0.2017597 & 0.3787245\\\\\n",
       "\t 0.02972 & 0.2630914 & 0.3348163 & -0.2628387 & -0.08993439 & 0.2017810 & 0.3786859\\\\\n",
       "\t 0.02973 & 0.2630954 & 0.3348115 & -0.2628228 & -0.08992239 & 0.2018022 & 0.3786473\\\\\n",
       "\t 0.02974 & 0.2630993 & 0.3348068 & -0.2628069 & -0.08991039 & 0.2018234 & 0.3786088\\\\\n",
       "\t 0.02975 & 0.2631032 & 0.3348020 & -0.2627910 & -0.08989839 & 0.2018447 & 0.3785703\\\\\n",
       "\t 0.02976 & 0.2631072 & 0.3347973 & -0.2627751 & -0.08988640 & 0.2018659 & 0.3785318\\\\\n",
       "\t 0.02977 & 0.2631111 & 0.3347925 & -0.2627592 & -0.08987441 & 0.2018870 & 0.3784933\\\\\n",
       "\t 0.02978 & 0.2631150 & 0.3347877 & -0.2627433 & -0.08986242 & 0.2019082 & 0.3784549\\\\\n",
       "\t 0.02979 & 0.2631189 & 0.3347830 & -0.2627275 & -0.08985043 & 0.2019294 & 0.3784165\\\\\n",
       "\t 0.02980 & 0.2631228 & 0.3347782 & -0.2627116 & -0.08983844 & 0.2019505 & 0.3783781\\\\\n",
       "\t 0.02981 & 0.2631267 & 0.3347735 & -0.2626957 & -0.08982646 & 0.2019716 & 0.3783397\\\\\n",
       "\t 0.02982 & 0.2631306 & 0.3347687 & -0.2626798 & -0.08981447 & 0.2019928 & 0.3783013\\\\\n",
       "\t 0.02983 & 0.2631345 & 0.3347639 & -0.2626640 & -0.08980249 & 0.2020139 & 0.3782630\\\\\n",
       "\t 0.02984 & 0.2631384 & 0.3347592 & -0.2626481 & -0.08979052 & 0.2020350 & 0.3782247\\\\\n",
       "\t 0.02985 & 0.2631422 & 0.3347544 & -0.2626322 & -0.08977854 & 0.2020560 & 0.3781864\\\\\n",
       "\t 0.02986 & 0.2631461 & 0.3347497 & -0.2626163 & -0.08976656 & 0.2020771 & 0.3781481\\\\\n",
       "\t 0.02987 & 0.2631500 & 0.3347449 & -0.2626005 & -0.08975459 & 0.2020981 & 0.3781099\\\\\n",
       "\t 0.02988 & 0.2631538 & 0.3347401 & -0.2625846 & -0.08974262 & 0.2021192 & 0.3780717\\\\\n",
       "\t 0.02989 & 0.2631577 & 0.3347354 & -0.2625688 & -0.08973065 & 0.2021402 & 0.3780335\\\\\n",
       "\t 0.02990 & 0.2631615 & 0.3347306 & -0.2625529 & -0.08971868 & 0.2021612 & 0.3779953\\\\\n",
       "\t 0.02991 & 0.2631654 & 0.3347258 & -0.2625370 & -0.08970672 & 0.2021822 & 0.3779571\\\\\n",
       "\t 0.02992 & 0.2631692 & 0.3347211 & -0.2625212 & -0.08969476 & 0.2022031 & 0.3779190\\\\\n",
       "\t 0.02993 & 0.2631731 & 0.3347163 & -0.2625053 & -0.08968279 & 0.2022241 & 0.3778809\\\\\n",
       "\t 0.02994 & 0.2631769 & 0.3347115 & -0.2624895 & -0.08967083 & 0.2022450 & 0.3778428\\\\\n",
       "\t 0.02995 & 0.2631807 & 0.3347068 & -0.2624736 & -0.08965888 & 0.2022660 & 0.3778047\\\\\n",
       "\t 0.02996 & 0.2631845 & 0.3347020 & -0.2624578 & -0.08964692 & 0.2022869 & 0.3777667\\\\\n",
       "\t 0.02997 & 0.2631884 & 0.3346972 & -0.2624419 & -0.08963497 & 0.2023078 & 0.3777287\\\\\n",
       "\t 0.02998 & 0.2631922 & 0.3346925 & -0.2624261 & -0.08962302 & 0.2023287 & 0.3776907\\\\\n",
       "\t 0.02999 & 0.2631960 & 0.3346877 & -0.2624103 & -0.08961107 & 0.2023495 & 0.3776527\\\\\n",
       "\t 0.03000 & 0.2631998 & 0.3346829 & -0.2623944 & -0.08959912 & 0.2023704 & 0.3776147\\\\\n",
       "\\end{tabular}\n"
      ],
      "text/markdown": [
       "\n",
       "A data.frame: 3001 × 7\n",
       "\n",
       "| V1 &lt;dbl&gt; | V2 &lt;dbl&gt; | V3 &lt;dbl&gt; | V4 &lt;dbl&gt; | V5 &lt;dbl&gt; | V6 &lt;dbl&gt; | V7 &lt;dbl&gt; |\n",
       "|---|---|---|---|---|---|---|\n",
       "| 0.00000 |  0.0462820227 | -1.0137463 | -0.5375426 | -0.2047407 | -0.1012211 | 2.479664 |\n",
       "| 0.00001 |  0.0416094733 | -0.9728058 | -0.5319512 | -0.2036340 | -0.1133999 | 2.451431 |\n",
       "| 0.00002 |  0.0372684236 | -0.9339729 | -0.5266381 | -0.2025751 | -0.1248027 | 2.424402 |\n",
       "| 0.00003 |  0.0332333068 | -0.8970918 | -0.5215827 | -0.2015606 | -0.1354884 | 2.398490 |\n",
       "| 0.00004 |  0.0294810269 | -0.8620215 | -0.5167665 | -0.2005872 | -0.1455105 | 2.373619 |\n",
       "| 0.00005 |  0.0259906692 | -0.8286342 | -0.5121728 | -0.1996522 | -0.1549173 | 2.349716 |\n",
       "| 0.00006 |  0.0227432501 | -0.7968138 | -0.5077863 | -0.1987530 | -0.1637526 | 2.326718 |\n",
       "| 0.00007 |  0.0197215007 | -0.7664547 | -0.5035931 | -0.1978873 | -0.1720565 | 2.304566 |\n",
       "| 0.00008 |  0.0169096788 | -0.7374606 | -0.4995804 | -0.1970529 | -0.1798653 | 2.283207 |\n",
       "| 0.00009 |  0.0142934050 | -0.7097432 | -0.4957369 | -0.1962480 | -0.1872124 | 2.262591 |\n",
       "| 0.00010 |  0.0118595198 | -0.6832218 | -0.4920517 | -0.1954706 | -0.1941281 | 2.242673 |\n",
       "| 0.00011 |  0.0095959577 | -0.6578224 | -0.4885153 | -0.1947192 | -0.2006404 | 2.223413 |\n",
       "| 0.00012 |  0.0074916368 | -0.6334769 | -0.4851185 | -0.1939923 | -0.2067749 | 2.204773 |\n",
       "| 0.00013 |  0.0055363619 | -0.6101224 | -0.4818532 | -0.1932884 | -0.2125554 | 2.186717 |\n",
       "| 0.00014 |  0.0037207382 | -0.5877012 | -0.4787118 | -0.1926063 | -0.2180035 | 2.169213 |\n",
       "| 0.00015 |  0.0020360952 | -0.5661597 | -0.4756872 | -0.1919448 | -0.2231393 | 2.152231 |\n",
       "| 0.00016 |  0.0004744191 | -0.5454485 | -0.4727730 | -0.1913028 | -0.2279815 | 2.135745 |\n",
       "| 0.00017 | -0.0009717078 | -0.5255218 | -0.4699630 | -0.1906792 | -0.2325472 | 2.119727 |\n",
       "| 0.00018 | -0.0023091602 | -0.5063368 | -0.4672516 | -0.1900732 | -0.2368525 | 2.104154 |\n",
       "| 0.00019 | -0.0035443186 | -0.4878542 | -0.4646338 | -0.1894838 | -0.2409120 | 2.089005 |\n",
       "| 0.00020 | -0.0046831117 | -0.4700371 | -0.4621046 | -0.1889103 | -0.2447397 | 2.074258 |\n",
       "| 0.00021 | -0.0057310553 | -0.4528513 | -0.4596594 | -0.1883517 | -0.2483483 | 2.059894 |\n",
       "| 0.00022 | -0.0066932872 | -0.4362646 | -0.4572942 | -0.1878076 | -0.2517498 | 2.045895 |\n",
       "| 0.00023 | -0.0075745984 | -0.4202473 | -0.4550050 | -0.1872771 | -0.2549552 | 2.032245 |\n",
       "| 0.00024 | -0.0083794610 | -0.4047714 | -0.4527880 | -0.1867596 | -0.2579752 | 2.018927 |\n",
       "| 0.00025 | -0.0091120546 | -0.3898108 | -0.4506398 | -0.1862546 | -0.2608192 | 2.005927 |\n",
       "| 0.00026 | -0.0097762885 | -0.3753409 | -0.4485573 | -0.1857615 | -0.2634966 | 1.993230 |\n",
       "| 0.00027 | -0.0103758232 | -0.3613388 | -0.4465373 | -0.1852797 | -0.2660157 | 1.980825 |\n",
       "| 0.00028 | -0.0109140896 | -0.3477829 | -0.4445771 | -0.1848089 | -0.2683847 | 1.968699 |\n",
       "| 0.00029 | -0.0113943060 | -0.3346530 | -0.4426739 | -0.1843486 | -0.2706110 | 1.956840 |\n",
       "| ⋮ | ⋮ | ⋮ | ⋮ | ⋮ | ⋮ | ⋮ |\n",
       "| 0.02971 | 0.2630875 | 0.3348211 | -0.2628546 | -0.08994639 | 0.2017597 | 0.3787245 |\n",
       "| 0.02972 | 0.2630914 | 0.3348163 | -0.2628387 | -0.08993439 | 0.2017810 | 0.3786859 |\n",
       "| 0.02973 | 0.2630954 | 0.3348115 | -0.2628228 | -0.08992239 | 0.2018022 | 0.3786473 |\n",
       "| 0.02974 | 0.2630993 | 0.3348068 | -0.2628069 | -0.08991039 | 0.2018234 | 0.3786088 |\n",
       "| 0.02975 | 0.2631032 | 0.3348020 | -0.2627910 | -0.08989839 | 0.2018447 | 0.3785703 |\n",
       "| 0.02976 | 0.2631072 | 0.3347973 | -0.2627751 | -0.08988640 | 0.2018659 | 0.3785318 |\n",
       "| 0.02977 | 0.2631111 | 0.3347925 | -0.2627592 | -0.08987441 | 0.2018870 | 0.3784933 |\n",
       "| 0.02978 | 0.2631150 | 0.3347877 | -0.2627433 | -0.08986242 | 0.2019082 | 0.3784549 |\n",
       "| 0.02979 | 0.2631189 | 0.3347830 | -0.2627275 | -0.08985043 | 0.2019294 | 0.3784165 |\n",
       "| 0.02980 | 0.2631228 | 0.3347782 | -0.2627116 | -0.08983844 | 0.2019505 | 0.3783781 |\n",
       "| 0.02981 | 0.2631267 | 0.3347735 | -0.2626957 | -0.08982646 | 0.2019716 | 0.3783397 |\n",
       "| 0.02982 | 0.2631306 | 0.3347687 | -0.2626798 | -0.08981447 | 0.2019928 | 0.3783013 |\n",
       "| 0.02983 | 0.2631345 | 0.3347639 | -0.2626640 | -0.08980249 | 0.2020139 | 0.3782630 |\n",
       "| 0.02984 | 0.2631384 | 0.3347592 | -0.2626481 | -0.08979052 | 0.2020350 | 0.3782247 |\n",
       "| 0.02985 | 0.2631422 | 0.3347544 | -0.2626322 | -0.08977854 | 0.2020560 | 0.3781864 |\n",
       "| 0.02986 | 0.2631461 | 0.3347497 | -0.2626163 | -0.08976656 | 0.2020771 | 0.3781481 |\n",
       "| 0.02987 | 0.2631500 | 0.3347449 | -0.2626005 | -0.08975459 | 0.2020981 | 0.3781099 |\n",
       "| 0.02988 | 0.2631538 | 0.3347401 | -0.2625846 | -0.08974262 | 0.2021192 | 0.3780717 |\n",
       "| 0.02989 | 0.2631577 | 0.3347354 | -0.2625688 | -0.08973065 | 0.2021402 | 0.3780335 |\n",
       "| 0.02990 | 0.2631615 | 0.3347306 | -0.2625529 | -0.08971868 | 0.2021612 | 0.3779953 |\n",
       "| 0.02991 | 0.2631654 | 0.3347258 | -0.2625370 | -0.08970672 | 0.2021822 | 0.3779571 |\n",
       "| 0.02992 | 0.2631692 | 0.3347211 | -0.2625212 | -0.08969476 | 0.2022031 | 0.3779190 |\n",
       "| 0.02993 | 0.2631731 | 0.3347163 | -0.2625053 | -0.08968279 | 0.2022241 | 0.3778809 |\n",
       "| 0.02994 | 0.2631769 | 0.3347115 | -0.2624895 | -0.08967083 | 0.2022450 | 0.3778428 |\n",
       "| 0.02995 | 0.2631807 | 0.3347068 | -0.2624736 | -0.08965888 | 0.2022660 | 0.3778047 |\n",
       "| 0.02996 | 0.2631845 | 0.3347020 | -0.2624578 | -0.08964692 | 0.2022869 | 0.3777667 |\n",
       "| 0.02997 | 0.2631884 | 0.3346972 | -0.2624419 | -0.08963497 | 0.2023078 | 0.3777287 |\n",
       "| 0.02998 | 0.2631922 | 0.3346925 | -0.2624261 | -0.08962302 | 0.2023287 | 0.3776907 |\n",
       "| 0.02999 | 0.2631960 | 0.3346877 | -0.2624103 | -0.08961107 | 0.2023495 | 0.3776527 |\n",
       "| 0.03000 | 0.2631998 | 0.3346829 | -0.2623944 | -0.08959912 | 0.2023704 | 0.3776147 |\n",
       "\n"
      ],
      "text/plain": [
       "     V1      V2            V3         V4         V5          V6        \n",
       "1    0.00000  0.0462820227 -1.0137463 -0.5375426 -0.2047407  -0.1012211\n",
       "2    0.00001  0.0416094733 -0.9728058 -0.5319512 -0.2036340  -0.1133999\n",
       "3    0.00002  0.0372684236 -0.9339729 -0.5266381 -0.2025751  -0.1248027\n",
       "4    0.00003  0.0332333068 -0.8970918 -0.5215827 -0.2015606  -0.1354884\n",
       "5    0.00004  0.0294810269 -0.8620215 -0.5167665 -0.2005872  -0.1455105\n",
       "6    0.00005  0.0259906692 -0.8286342 -0.5121728 -0.1996522  -0.1549173\n",
       "7    0.00006  0.0227432501 -0.7968138 -0.5077863 -0.1987530  -0.1637526\n",
       "8    0.00007  0.0197215007 -0.7664547 -0.5035931 -0.1978873  -0.1720565\n",
       "9    0.00008  0.0169096788 -0.7374606 -0.4995804 -0.1970529  -0.1798653\n",
       "10   0.00009  0.0142934050 -0.7097432 -0.4957369 -0.1962480  -0.1872124\n",
       "11   0.00010  0.0118595198 -0.6832218 -0.4920517 -0.1954706  -0.1941281\n",
       "12   0.00011  0.0095959577 -0.6578224 -0.4885153 -0.1947192  -0.2006404\n",
       "13   0.00012  0.0074916368 -0.6334769 -0.4851185 -0.1939923  -0.2067749\n",
       "14   0.00013  0.0055363619 -0.6101224 -0.4818532 -0.1932884  -0.2125554\n",
       "15   0.00014  0.0037207382 -0.5877012 -0.4787118 -0.1926063  -0.2180035\n",
       "16   0.00015  0.0020360952 -0.5661597 -0.4756872 -0.1919448  -0.2231393\n",
       "17   0.00016  0.0004744191 -0.5454485 -0.4727730 -0.1913028  -0.2279815\n",
       "18   0.00017 -0.0009717078 -0.5255218 -0.4699630 -0.1906792  -0.2325472\n",
       "19   0.00018 -0.0023091602 -0.5063368 -0.4672516 -0.1900732  -0.2368525\n",
       "20   0.00019 -0.0035443186 -0.4878542 -0.4646338 -0.1894838  -0.2409120\n",
       "21   0.00020 -0.0046831117 -0.4700371 -0.4621046 -0.1889103  -0.2447397\n",
       "22   0.00021 -0.0057310553 -0.4528513 -0.4596594 -0.1883517  -0.2483483\n",
       "23   0.00022 -0.0066932872 -0.4362646 -0.4572942 -0.1878076  -0.2517498\n",
       "24   0.00023 -0.0075745984 -0.4202473 -0.4550050 -0.1872771  -0.2549552\n",
       "25   0.00024 -0.0083794610 -0.4047714 -0.4527880 -0.1867596  -0.2579752\n",
       "26   0.00025 -0.0091120546 -0.3898108 -0.4506398 -0.1862546  -0.2608192\n",
       "27   0.00026 -0.0097762885 -0.3753409 -0.4485573 -0.1857615  -0.2634966\n",
       "28   0.00027 -0.0103758232 -0.3613388 -0.4465373 -0.1852797  -0.2660157\n",
       "29   0.00028 -0.0109140896 -0.3477829 -0.4445771 -0.1848089  -0.2683847\n",
       "30   0.00029 -0.0113943060 -0.3346530 -0.4426739 -0.1843486  -0.2706110\n",
       "⋮    ⋮       ⋮             ⋮          ⋮          ⋮           ⋮         \n",
       "2972 0.02971 0.2630875     0.3348211  -0.2628546 -0.08994639 0.2017597 \n",
       "2973 0.02972 0.2630914     0.3348163  -0.2628387 -0.08993439 0.2017810 \n",
       "2974 0.02973 0.2630954     0.3348115  -0.2628228 -0.08992239 0.2018022 \n",
       "2975 0.02974 0.2630993     0.3348068  -0.2628069 -0.08991039 0.2018234 \n",
       "2976 0.02975 0.2631032     0.3348020  -0.2627910 -0.08989839 0.2018447 \n",
       "2977 0.02976 0.2631072     0.3347973  -0.2627751 -0.08988640 0.2018659 \n",
       "2978 0.02977 0.2631111     0.3347925  -0.2627592 -0.08987441 0.2018870 \n",
       "2979 0.02978 0.2631150     0.3347877  -0.2627433 -0.08986242 0.2019082 \n",
       "2980 0.02979 0.2631189     0.3347830  -0.2627275 -0.08985043 0.2019294 \n",
       "2981 0.02980 0.2631228     0.3347782  -0.2627116 -0.08983844 0.2019505 \n",
       "2982 0.02981 0.2631267     0.3347735  -0.2626957 -0.08982646 0.2019716 \n",
       "2983 0.02982 0.2631306     0.3347687  -0.2626798 -0.08981447 0.2019928 \n",
       "2984 0.02983 0.2631345     0.3347639  -0.2626640 -0.08980249 0.2020139 \n",
       "2985 0.02984 0.2631384     0.3347592  -0.2626481 -0.08979052 0.2020350 \n",
       "2986 0.02985 0.2631422     0.3347544  -0.2626322 -0.08977854 0.2020560 \n",
       "2987 0.02986 0.2631461     0.3347497  -0.2626163 -0.08976656 0.2020771 \n",
       "2988 0.02987 0.2631500     0.3347449  -0.2626005 -0.08975459 0.2020981 \n",
       "2989 0.02988 0.2631538     0.3347401  -0.2625846 -0.08974262 0.2021192 \n",
       "2990 0.02989 0.2631577     0.3347354  -0.2625688 -0.08973065 0.2021402 \n",
       "2991 0.02990 0.2631615     0.3347306  -0.2625529 -0.08971868 0.2021612 \n",
       "2992 0.02991 0.2631654     0.3347258  -0.2625370 -0.08970672 0.2021822 \n",
       "2993 0.02992 0.2631692     0.3347211  -0.2625212 -0.08969476 0.2022031 \n",
       "2994 0.02993 0.2631731     0.3347163  -0.2625053 -0.08968279 0.2022241 \n",
       "2995 0.02994 0.2631769     0.3347115  -0.2624895 -0.08967083 0.2022450 \n",
       "2996 0.02995 0.2631807     0.3347068  -0.2624736 -0.08965888 0.2022660 \n",
       "2997 0.02996 0.2631845     0.3347020  -0.2624578 -0.08964692 0.2022869 \n",
       "2998 0.02997 0.2631884     0.3346972  -0.2624419 -0.08963497 0.2023078 \n",
       "2999 0.02998 0.2631922     0.3346925  -0.2624261 -0.08962302 0.2023287 \n",
       "3000 0.02999 0.2631960     0.3346877  -0.2624103 -0.08961107 0.2023495 \n",
       "3001 0.03000 0.2631998     0.3346829  -0.2623944 -0.08959912 0.2023704 \n",
       "     V7       \n",
       "1    2.479664 \n",
       "2    2.451431 \n",
       "3    2.424402 \n",
       "4    2.398490 \n",
       "5    2.373619 \n",
       "6    2.349716 \n",
       "7    2.326718 \n",
       "8    2.304566 \n",
       "9    2.283207 \n",
       "10   2.262591 \n",
       "11   2.242673 \n",
       "12   2.223413 \n",
       "13   2.204773 \n",
       "14   2.186717 \n",
       "15   2.169213 \n",
       "16   2.152231 \n",
       "17   2.135745 \n",
       "18   2.119727 \n",
       "19   2.104154 \n",
       "20   2.089005 \n",
       "21   2.074258 \n",
       "22   2.059894 \n",
       "23   2.045895 \n",
       "24   2.032245 \n",
       "25   2.018927 \n",
       "26   2.005927 \n",
       "27   1.993230 \n",
       "28   1.980825 \n",
       "29   1.968699 \n",
       "30   1.956840 \n",
       "⋮    ⋮        \n",
       "2972 0.3787245\n",
       "2973 0.3786859\n",
       "2974 0.3786473\n",
       "2975 0.3786088\n",
       "2976 0.3785703\n",
       "2977 0.3785318\n",
       "2978 0.3784933\n",
       "2979 0.3784549\n",
       "2980 0.3784165\n",
       "2981 0.3783781\n",
       "2982 0.3783397\n",
       "2983 0.3783013\n",
       "2984 0.3782630\n",
       "2985 0.3782247\n",
       "2986 0.3781864\n",
       "2987 0.3781481\n",
       "2988 0.3781099\n",
       "2989 0.3780717\n",
       "2990 0.3780335\n",
       "2991 0.3779953\n",
       "2992 0.3779571\n",
       "2993 0.3779190\n",
       "2994 0.3778809\n",
       "2995 0.3778428\n",
       "2996 0.3778047\n",
       "2997 0.3777667\n",
       "2998 0.3777287\n",
       "2999 0.3776907\n",
       "3000 0.3776527\n",
       "3001 0.3776147"
      ]
     },
     "metadata": {},
     "output_type": "display_data"
    }
   ],
   "source": [
    "dd"
   ]
  },
  {
   "cell_type": "markdown",
   "metadata": {},
   "source": [
    "H-K公式"
   ]
  },
  {
   "cell_type": "code",
   "execution_count": null,
   "metadata": {
    "vscode": {
     "languageId": "r"
    }
   },
   "outputs": [
    {
     "data": {
      "text/html": [
       "<table class=\"dataframe\">\n",
       "<caption>A matrix: 6 × 1 of type dbl</caption>\n",
       "<tbody>\n",
       "\t<tr><td>-0.4456511</td></tr>\n",
       "\t<tr><td> 0.1115693</td></tr>\n",
       "\t<tr><td> 0.5297276</td></tr>\n",
       "\t<tr><td> 0.1017377</td></tr>\n",
       "\t<tr><td> 1.7568007</td></tr>\n",
       "\t<tr><td> 1.9827538</td></tr>\n",
       "</tbody>\n",
       "</table>\n"
      ],
      "text/latex": [
       "A matrix: 6 × 1 of type dbl\n",
       "\\begin{tabular}{l}\n",
       "\t -0.4456511\\\\\n",
       "\t  0.1115693\\\\\n",
       "\t  0.5297276\\\\\n",
       "\t  0.1017377\\\\\n",
       "\t  1.7568007\\\\\n",
       "\t  1.9827538\\\\\n",
       "\\end{tabular}\n"
      ],
      "text/markdown": [
       "\n",
       "A matrix: 6 × 1 of type dbl\n",
       "\n",
       "| -0.4456511 |\n",
       "|  0.1115693 |\n",
       "|  0.5297276 |\n",
       "|  0.1017377 |\n",
       "|  1.7568007 |\n",
       "|  1.9827538 |\n",
       "\n"
      ],
      "text/plain": [
       "     [,1]      \n",
       "[1,] -0.4456511\n",
       "[2,]  0.1115693\n",
       "[3,]  0.5297276\n",
       "[4,]  0.1017377\n",
       "[5,]  1.7568007\n",
       "[6,]  1.9827538"
      ]
     },
     "metadata": {},
     "output_type": "display_data"
    },
    {
     "data": {
      "text/html": [
       "<table class=\"dataframe\">\n",
       "<caption>A matrix: 1 × 1 of type dbl</caption>\n",
       "<tbody>\n",
       "\t<tr><td>0.0004520995</td></tr>\n",
       "</tbody>\n",
       "</table>\n"
      ],
      "text/latex": [
       "A matrix: 1 × 1 of type dbl\n",
       "\\begin{tabular}{l}\n",
       "\t 0.0004520995\\\\\n",
       "\\end{tabular}\n"
      ],
      "text/markdown": [
       "\n",
       "A matrix: 1 × 1 of type dbl\n",
       "\n",
       "| 0.0004520995 |\n",
       "\n"
      ],
      "text/plain": [
       "     [,1]        \n",
       "[1,] 0.0004520995"
      ]
     },
     "metadata": {},
     "output_type": "display_data"
    }
   ],
   "source": [
    "(alphhat=solve(gam)%*%t(Z)%*%y)\n",
    "\n",
    "(sig2hat=(t(y-Z%*%alphhat-(rep(alph0,length(y))))%*%(y-Z%*%alphhat-(rep(alph0,length(y)))))/10)"
   ]
  },
  {
   "cell_type": "code",
   "execution_count": null,
   "metadata": {
    "vscode": {
     "languageId": "r"
    }
   },
   "outputs": [
    {
     "data": {
      "text/html": [
       "<table class=\"dataframe\">\n",
       "<caption>A matrix: 16 × 1 of type dbl</caption>\n",
       "<tbody>\n",
       "\t<tr><th scope=row>1947</th><td> 0.019654761</td></tr>\n",
       "\t<tr><th scope=row>1948</th><td>-0.006911878</td></tr>\n",
       "\t<tr><th scope=row>1949</th><td> 0.003403019</td></tr>\n",
       "\t<tr><th scope=row>1950</th><td>-0.030151507</td></tr>\n",
       "\t<tr><th scope=row>1951</th><td> 0.022770126</td></tr>\n",
       "\t<tr><th scope=row>1952</th><td>-0.018329288</td></tr>\n",
       "\t<tr><th scope=row>1953</th><td>-0.012060831</td></tr>\n",
       "\t<tr><th scope=row>1954</th><td>-0.000969016</td></tr>\n",
       "\t<tr><th scope=row>1955</th><td> 0.001051683</td></tr>\n",
       "\t<tr><th scope=row>1956</th><td> 0.033480441</td></tr>\n",
       "\t<tr><th scope=row>1957</th><td>-0.001269606</td></tr>\n",
       "\t<tr><th scope=row>1958</th><td>-0.002871315</td></tr>\n",
       "\t<tr><th scope=row>1959</th><td>-0.011435989</td></tr>\n",
       "\t<tr><th scope=row>1960</th><td>-0.006298530</td></tr>\n",
       "\t<tr><th scope=row>1961</th><td> 0.025138705</td></tr>\n",
       "\t<tr><th scope=row>1962</th><td>-0.015200775</td></tr>\n",
       "</tbody>\n",
       "</table>\n"
      ],
      "text/latex": [
       "A matrix: 16 × 1 of type dbl\n",
       "\\begin{tabular}{r|l}\n",
       "\t1947 &  0.019654761\\\\\n",
       "\t1948 & -0.006911878\\\\\n",
       "\t1949 &  0.003403019\\\\\n",
       "\t1950 & -0.030151507\\\\\n",
       "\t1951 &  0.022770126\\\\\n",
       "\t1952 & -0.018329288\\\\\n",
       "\t1953 & -0.012060831\\\\\n",
       "\t1954 & -0.000969016\\\\\n",
       "\t1955 &  0.001051683\\\\\n",
       "\t1956 &  0.033480441\\\\\n",
       "\t1957 & -0.001269606\\\\\n",
       "\t1958 & -0.002871315\\\\\n",
       "\t1959 & -0.011435989\\\\\n",
       "\t1960 & -0.006298530\\\\\n",
       "\t1961 &  0.025138705\\\\\n",
       "\t1962 & -0.015200775\\\\\n",
       "\\end{tabular}\n"
      ],
      "text/markdown": [
       "\n",
       "A matrix: 16 × 1 of type dbl\n",
       "\n",
       "| 1947 |  0.019654761 |\n",
       "| 1948 | -0.006911878 |\n",
       "| 1949 |  0.003403019 |\n",
       "| 1950 | -0.030151507 |\n",
       "| 1951 |  0.022770126 |\n",
       "| 1952 | -0.018329288 |\n",
       "| 1953 | -0.012060831 |\n",
       "| 1954 | -0.000969016 |\n",
       "| 1955 |  0.001051683 |\n",
       "| 1956 |  0.033480441 |\n",
       "| 1957 | -0.001269606 |\n",
       "| 1958 | -0.002871315 |\n",
       "| 1959 | -0.011435989 |\n",
       "| 1960 | -0.006298530 |\n",
       "| 1961 |  0.025138705 |\n",
       "| 1962 | -0.015200775 |\n",
       "\n"
      ],
      "text/plain": [
       "     [,1]        \n",
       "1947  0.019654761\n",
       "1948 -0.006911878\n",
       "1949  0.003403019\n",
       "1950 -0.030151507\n",
       "1951  0.022770126\n",
       "1952 -0.018329288\n",
       "1953 -0.012060831\n",
       "1954 -0.000969016\n",
       "1955  0.001051683\n",
       "1956  0.033480441\n",
       "1957 -0.001269606\n",
       "1958 -0.002871315\n",
       "1959 -0.011435989\n",
       "1960 -0.006298530\n",
       "1961  0.025138705\n",
       "1962 -0.015200775"
      ]
     },
     "metadata": {},
     "output_type": "display_data"
    }
   ],
   "source": [
    "y-Z%*%alphhat"
   ]
  },
  {
   "cell_type": "code",
   "execution_count": null,
   "metadata": {
    "vscode": {
     "languageId": "r"
    }
   },
   "outputs": [
    {
     "data": {
      "text/html": [
       "<table class=\"dataframe\">\n",
       "<caption>A matrix: 6 × 1 of type dbl</caption>\n",
       "<tbody>\n",
       "\t<tr><th scope=row>GNP.deflator</th><td> 0.2554418</td></tr>\n",
       "\t<tr><th scope=row>GNP</th><td> 0.3389921</td></tr>\n",
       "\t<tr><th scope=row>Unemployed</th><td>-0.2794636</td></tr>\n",
       "\t<tr><th scope=row>Armed.Forces</th><td>-0.1027295</td></tr>\n",
       "\t<tr><th scope=row>Population</th><td> 0.1713698</td></tr>\n",
       "\t<tr><th scope=row>Year</th><td> 0.4314136</td></tr>\n",
       "</tbody>\n",
       "</table>\n"
      ],
      "text/latex": [
       "A matrix: 6 × 1 of type dbl\n",
       "\\begin{tabular}{r|l}\n",
       "\tGNP.deflator &  0.2554418\\\\\n",
       "\tGNP &  0.3389921\\\\\n",
       "\tUnemployed & -0.2794636\\\\\n",
       "\tArmed.Forces & -0.1027295\\\\\n",
       "\tPopulation &  0.1713698\\\\\n",
       "\tYear &  0.4314136\\\\\n",
       "\\end{tabular}\n"
      ],
      "text/markdown": [
       "\n",
       "A matrix: 6 × 1 of type dbl\n",
       "\n",
       "| GNP.deflator |  0.2554418 |\n",
       "| GNP |  0.3389921 |\n",
       "| Unemployed | -0.2794636 |\n",
       "| Armed.Forces | -0.1027295 |\n",
       "| Population |  0.1713698 |\n",
       "| Year |  0.4314136 |\n",
       "\n"
      ],
      "text/plain": [
       "             [,1]      \n",
       "GNP.deflator  0.2554418\n",
       "GNP           0.3389921\n",
       "Unemployed   -0.2794636\n",
       "Armed.Forces -0.1027295\n",
       "Population    0.1713698\n",
       "Year          0.4314136"
      ]
     },
     "metadata": {},
     "output_type": "display_data"
    }
   ],
   "source": [
    "betahat(0.02)"
   ]
  },
  {
   "cell_type": "code",
   "execution_count": null,
   "metadata": {
    "vscode": {
     "languageId": "r"
    }
   },
   "outputs": [
    {
     "data": {
      "text/html": [
       "<table class=\"dataframe\">\n",
       "<caption>A matrix: 1 × 1 of type dbl</caption>\n",
       "<tbody>\n",
       "\t<tr><td>5.199129e-08</td></tr>\n",
       "</tbody>\n",
       "</table>\n"
      ],
      "text/latex": [
       "A matrix: 1 × 1 of type dbl\n",
       "\\begin{tabular}{l}\n",
       "\t 5.199129e-08\\\\\n",
       "\\end{tabular}\n"
      ],
      "text/markdown": [
       "\n",
       "A matrix: 1 × 1 of type dbl\n",
       "\n",
       "| 5.199129e-08 |\n",
       "\n"
      ],
      "text/plain": [
       "     [,1]        \n",
       "[1,] 5.199129e-08"
      ]
     },
     "metadata": {},
     "output_type": "display_data"
    }
   ],
   "source": [
    "sig2hat^2/(max(alphhat^2)) #不对！！"
   ]
  },
  {
   "cell_type": "markdown",
   "metadata": {},
   "source": [
    "方差膨胀因子法：\n",
    "https://blog.csdn.net/weixin_36245388/article/details/112481767?spm=1001.2101.3001.6650.3&utm_medium=distribute.pc_relevant.none-task-blog-2%7Edefault%7ECTRLIST%7ERate-3-112481767-blog-104657790.pc_relevant_3mothn_strategy_recovery&depth_1-utm_source=distribute.pc_relevant.none-task-blog-2%7Edefault%7ECTRLIST%7ERate-3-112481767-blog-104657790.pc_relevant_3mothn_strategy_recovery&utm_relevant_index=6"
   ]
  },
  {
   "cell_type": "code",
   "execution_count": null,
   "metadata": {
    "vscode": {
     "languageId": "r"
    }
   },
   "outputs": [],
   "source": [
    "chat <- function(k){\n",
    "    return (max(diag(solve(t(Z)%*%Z+diag(k,6))%*%t(Z)%*%(Z)%*%solve(t(Z)%*%Z+diag(k,6)))))\n",
    "}"
   ]
  },
  {
   "cell_type": "code",
   "execution_count": null,
   "metadata": {
    "vscode": {
     "languageId": "r"
    }
   },
   "outputs": [
    {
     "data": {
      "image/png": "[encoded data removed]",
      "text/plain": [
       "plot without title"
      ]
     },
     "metadata": {
      "image/png": {
       "height": 420,
       "width": 420
      }
     },
     "output_type": "display_data"
    }
   ],
   "source": [
    "plot(seq(0.01,0.2,0.001),lapply(seq(0.01,0.2,0.001),chat))\n",
    "abline(h=10,v=0.024)"
   ]
  },
  {
   "cell_type": "code",
   "execution_count": null,
   "metadata": {
    "vscode": {
     "languageId": "r"
    }
   },
   "outputs": [
    {
     "data": {
      "text/html": [
       "<table class=\"dataframe\">\n",
       "<caption>A matrix: 6 × 1 of type dbl</caption>\n",
       "<tbody>\n",
       "\t<tr><th scope=row>GNP.deflator</th><td> 0.25974398</td></tr>\n",
       "\t<tr><th scope=row>GNP</th><td> 0.33742682</td></tr>\n",
       "\t<tr><th scope=row>Unemployed</th><td>-0.27230214</td></tr>\n",
       "\t<tr><th scope=row>Armed.Forces</th><td>-0.09715509</td></tr>\n",
       "\t<tr><th scope=row>Population</th><td> 0.18673721</td></tr>\n",
       "\t<tr><th scope=row>Year</th><td> 0.40522428</td></tr>\n",
       "</tbody>\n",
       "</table>\n"
      ],
      "text/latex": [
       "A matrix: 6 × 1 of type dbl\n",
       "\\begin{tabular}{r|l}\n",
       "\tGNP.deflator &  0.25974398\\\\\n",
       "\tGNP &  0.33742682\\\\\n",
       "\tUnemployed & -0.27230214\\\\\n",
       "\tArmed.Forces & -0.09715509\\\\\n",
       "\tPopulation &  0.18673721\\\\\n",
       "\tYear &  0.40522428\\\\\n",
       "\\end{tabular}\n"
      ],
      "text/markdown": [
       "\n",
       "A matrix: 6 × 1 of type dbl\n",
       "\n",
       "| GNP.deflator |  0.25974398 |\n",
       "| GNP |  0.33742682 |\n",
       "| Unemployed | -0.27230214 |\n",
       "| Armed.Forces | -0.09715509 |\n",
       "| Population |  0.18673721 |\n",
       "| Year |  0.40522428 |\n",
       "\n"
      ],
      "text/plain": [
       "             [,1]       \n",
       "GNP.deflator  0.25974398\n",
       "GNP           0.33742682\n",
       "Unemployed   -0.27230214\n",
       "Armed.Forces -0.09715509\n",
       "Population    0.18673721\n",
       "Year          0.40522428"
      ]
     },
     "metadata": {},
     "output_type": "display_data"
    }
   ],
   "source": [
    "betahat(0.024)"
   ]
  },
  {
   "cell_type": "code",
   "execution_count": null,
   "metadata": {
    "vscode": {
     "languageId": "r"
    }
   },
   "outputs": [
    {
     "data": {
      "text/plain": [
       "\n",
       "Call:\n",
       "linearRidge(formula = fm1)\n",
       "\n",
       "\n",
       "Coefficients:\n",
       "               Estimate Scaled estimate Std. Error (scaled) t value (scaled)\n",
       "(Intercept)  -1.927e-15              NA                  NA               NA\n",
       "GNP.deflator  2.650e-01       1.027e+00           2.188e-01            4.691\n",
       "GNP           3.259e-01       1.262e+00           9.414e-02           13.408\n",
       "Unemployed   -2.364e-01      -9.155e-01           1.925e-01            4.757\n",
       "Armed.Forces -7.043e-02      -2.728e-01           1.689e-01            1.615\n",
       "Population    2.250e-01       8.715e-01           1.817e-01            4.795\n",
       "Year          3.320e-01       1.286e+00           1.136e-01           11.318\n",
       "             Pr(>|t|)    \n",
       "(Intercept)        NA    \n",
       "GNP.deflator 2.72e-06 ***\n",
       "GNP           < 2e-16 ***\n",
       "Unemployed   1.97e-06 ***\n",
       "Armed.Forces    0.106    \n",
       "Population   1.62e-06 ***\n",
       "Year          < 2e-16 ***\n",
       "---\n",
       "Signif. codes:  0 '***' 0.001 '**' 0.01 '*' 0.05 '.' 0.1 ' ' 1\n",
       "\n",
       "Ridge parameter: 0.04813729, chosen automatically, computed using 2 PCs\n",
       "\n",
       "Degrees of freedom: model 3.054 , variance 2.615 , residual 3.493 \n"
      ]
     },
     "metadata": {},
     "output_type": "display_data"
    }
   ],
   "source": [
    "library(ridge)\n",
    "mod <- linearRidge(fm1)\n",
    "summary(mod)"
   ]
  },
  {
   "cell_type": "code",
   "execution_count": null,
   "metadata": {
    "vscode": {
     "languageId": "r"
    }
   },
   "outputs": [],
   "source": []
  }
 ],
 "metadata": {
  "kernelspec": {
   "display_name": "R",
   "language": "R",
   "name": "ir"
  },
  "language_info": {
   "codemirror_mode": "r",
   "file_extension": ".r",
   "mimetype": "text/x-r-source",
   "name": "R",
   "pygments_lexer": "r",
   "version": "4.2.1"
  },
  "orig_nbformat": 4
 },
 "nbformat": 4,
 "nbformat_minor": 2
}
