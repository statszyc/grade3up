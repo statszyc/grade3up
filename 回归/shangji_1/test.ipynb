{
 "cells": [
  {
   "cell_type": "code",
   "execution_count": 1,
   "metadata": {},
   "outputs": [
    {
     "data": {
      "text/plain": [
       "array([[1., 1., 1.],\n",
       "       [1., 1., 1.],\n",
       "       [1., 1., 1.]])"
      ]
     },
     "execution_count": 1,
     "metadata": {},
     "output_type": "execute_result"
    }
   ],
   "source": [
    "import numpy as np\n",
    "X=np.array([[1,1,1],[2,2,2],[3,3,3]])\n",
    "np.mean(X,axis=0)\n",
    "test=(X-np.mean(X,axis=0))/np.sqrt(np.var(X,axis=0)*3)\n",
    "test.T@test"
   ]
  },
  {
   "cell_type": "code",
   "execution_count": 2,
   "metadata": {},
   "outputs": [
    {
     "data": {
      "text/plain": [
       "1.0"
      ]
     },
     "execution_count": 2,
     "metadata": {},
     "output_type": "execute_result"
    }
   ],
   "source": [
    "np.var(np.array([1,2,3]))*3/2"
   ]
  },
  {
   "cell_type": "code",
   "execution_count": 3,
   "metadata": {},
   "outputs": [
    {
     "data": {
      "text/plain": [
       "array([1., 1., 1.])"
      ]
     },
     "execution_count": 3,
     "metadata": {},
     "output_type": "execute_result"
    }
   ],
   "source": [
    "np.var(X,axis=0)*3/2"
   ]
  },
  {
   "cell_type": "code",
   "execution_count": 4,
   "metadata": {},
   "outputs": [
    {
     "data": {
      "text/html": [
       "<div>\n",
       "<style scoped>\n",
       "    .dataframe tbody tr th:only-of-type {\n",
       "        vertical-align: middle;\n",
       "    }\n",
       "\n",
       "    .dataframe tbody tr th {\n",
       "        vertical-align: top;\n",
       "    }\n",
       "\n",
       "    .dataframe thead th {\n",
       "        text-align: right;\n",
       "    }\n",
       "</style>\n",
       "<table border=\"1\" class=\"dataframe\">\n",
       "  <thead>\n",
       "    <tr style=\"text-align: right;\">\n",
       "      <th></th>\n",
       "      <th>GNP.deflator</th>\n",
       "      <th>GNP</th>\n",
       "      <th>Unemployed</th>\n",
       "      <th>Armed.Forces</th>\n",
       "      <th>Population</th>\n",
       "      <th>Year</th>\n",
       "      <th>Employed</th>\n",
       "    </tr>\n",
       "  </thead>\n",
       "  <tbody>\n",
       "    <tr>\n",
       "      <th>GNP.deflator</th>\n",
       "      <td>16.000000</td>\n",
       "      <td>15.865427</td>\n",
       "      <td>9.930134</td>\n",
       "      <td>7.435907</td>\n",
       "      <td>15.666615</td>\n",
       "      <td>15.858387</td>\n",
       "      <td>15.534376</td>\n",
       "    </tr>\n",
       "    <tr>\n",
       "      <th>GNP</th>\n",
       "      <td>15.865427</td>\n",
       "      <td>16.000000</td>\n",
       "      <td>9.668175</td>\n",
       "      <td>7.142989</td>\n",
       "      <td>15.857441</td>\n",
       "      <td>15.924376</td>\n",
       "      <td>15.736826</td>\n",
       "    </tr>\n",
       "    <tr>\n",
       "      <th>Unemployed</th>\n",
       "      <td>9.930134</td>\n",
       "      <td>9.668175</td>\n",
       "      <td>16.000000</td>\n",
       "      <td>-2.838730</td>\n",
       "      <td>10.984824</td>\n",
       "      <td>10.692106</td>\n",
       "      <td>8.039969</td>\n",
       "    </tr>\n",
       "    <tr>\n",
       "      <th>Armed.Forces</th>\n",
       "      <td>7.435907</td>\n",
       "      <td>7.142989</td>\n",
       "      <td>-2.838730</td>\n",
       "      <td>16.000000</td>\n",
       "      <td>5.830660</td>\n",
       "      <td>6.675922</td>\n",
       "      <td>7.316918</td>\n",
       "    </tr>\n",
       "    <tr>\n",
       "      <th>Population</th>\n",
       "      <td>15.666615</td>\n",
       "      <td>15.857441</td>\n",
       "      <td>10.984824</td>\n",
       "      <td>5.830660</td>\n",
       "      <td>16.000000</td>\n",
       "      <td>15.903246</td>\n",
       "      <td>15.366249</td>\n",
       "    </tr>\n",
       "    <tr>\n",
       "      <th>Year</th>\n",
       "      <td>15.858387</td>\n",
       "      <td>15.924376</td>\n",
       "      <td>10.692106</td>\n",
       "      <td>6.675922</td>\n",
       "      <td>15.903246</td>\n",
       "      <td>16.000000</td>\n",
       "      <td>15.541271</td>\n",
       "    </tr>\n",
       "    <tr>\n",
       "      <th>Employed</th>\n",
       "      <td>15.534376</td>\n",
       "      <td>15.736826</td>\n",
       "      <td>8.039969</td>\n",
       "      <td>7.316918</td>\n",
       "      <td>15.366249</td>\n",
       "      <td>15.541271</td>\n",
       "      <td>16.000000</td>\n",
       "    </tr>\n",
       "  </tbody>\n",
       "</table>\n",
       "</div>"
      ],
      "text/plain": [
       "                GNP.deflator        GNP  Unemployed  Armed.Forces  Population  \\\n",
       " GNP.deflator      16.000000  15.865427    9.930134      7.435907   15.666615   \n",
       "GNP                15.865427  16.000000    9.668175      7.142989   15.857441   \n",
       "Unemployed          9.930134   9.668175   16.000000     -2.838730   10.984824   \n",
       "Armed.Forces        7.435907   7.142989   -2.838730     16.000000    5.830660   \n",
       "Population         15.666615  15.857441   10.984824      5.830660   16.000000   \n",
       "Year               15.858387  15.924376   10.692106      6.675922   15.903246   \n",
       "Employed           15.534376  15.736826    8.039969      7.316918   15.366249   \n",
       "\n",
       "                    Year   Employed  \n",
       " GNP.deflator  15.858387  15.534376  \n",
       "GNP            15.924376  15.736826  \n",
       "Unemployed     10.692106   8.039969  \n",
       "Armed.Forces    6.675922   7.316918  \n",
       "Population     15.903246  15.366249  \n",
       "Year           16.000000  15.541271  \n",
       "Employed       15.541271  16.000000  "
      ]
     },
     "execution_count": 4,
     "metadata": {},
     "output_type": "execute_result"
    }
   ],
   "source": [
    "import pandas as pd\n",
    "X=pd.read_csv(\"test.csv\")\n",
    "test=(X-np.mean(X,axis=0))/np.std(X,axis=0)\n",
    "test.T@test"
   ]
  },
  {
   "cell_type": "code",
   "execution_count": 5,
   "metadata": {},
   "outputs": [
    {
     "data": {
      "text/plain": [
       "Index([' GNP.deflator', 'GNP', 'Unemployed', 'Armed.Forces', 'Population',\n",
       "       'Year', 'Employed'],\n",
       "      dtype='object')"
      ]
     },
     "execution_count": 5,
     "metadata": {},
     "output_type": "execute_result"
    }
   ],
   "source": [
    "X.columns"
   ]
  },
  {
   "cell_type": "code",
   "execution_count": 6,
   "metadata": {},
   "outputs": [
    {
     "data": {
      "image/png": "[encoded data removed]",
      "text/plain": [
       "<Figure size 640x480 with 1 Axes>"
      ]
     },
     "metadata": {},
     "output_type": "display_data"
    }
   ],
   "source": [
    "df=pd.read_csv(\"dd.csv\")\n",
    "df.iloc[:,1:].plot(x=\"V1\",legend=False)\n",
    "import matplotlib.pyplot as plt\n",
    "plt.savefig(\"lingji.png\")"
   ]
  },
  {
   "cell_type": "code",
   "execution_count": 7,
   "metadata": {},
   "outputs": [
    {
     "data": {
      "text/html": [
       "<div>\n",
       "<style scoped>\n",
       "    .dataframe tbody tr th:only-of-type {\n",
       "        vertical-align: middle;\n",
       "    }\n",
       "\n",
       "    .dataframe tbody tr th {\n",
       "        vertical-align: top;\n",
       "    }\n",
       "\n",
       "    .dataframe thead th {\n",
       "        text-align: right;\n",
       "    }\n",
       "</style>\n",
       "<table border=\"1\" class=\"dataframe\">\n",
       "  <thead>\n",
       "    <tr style=\"text-align: right;\">\n",
       "      <th></th>\n",
       "      <th>Unnamed: 0</th>\n",
       "      <th>V1</th>\n",
       "      <th>V2</th>\n",
       "      <th>V3</th>\n",
       "      <th>V4</th>\n",
       "      <th>V5</th>\n",
       "      <th>V6</th>\n",
       "      <th>V7</th>\n",
       "    </tr>\n",
       "  </thead>\n",
       "  <tbody>\n",
       "    <tr>\n",
       "      <th>0</th>\n",
       "      <td>1</td>\n",
       "      <td>0.00000</td>\n",
       "      <td>0.046282</td>\n",
       "      <td>-1.013746</td>\n",
       "      <td>-0.537543</td>\n",
       "      <td>-0.204741</td>\n",
       "      <td>-0.101221</td>\n",
       "      <td>2.479664</td>\n",
       "    </tr>\n",
       "    <tr>\n",
       "      <th>1</th>\n",
       "      <td>2</td>\n",
       "      <td>0.00001</td>\n",
       "      <td>0.041609</td>\n",
       "      <td>-0.972806</td>\n",
       "      <td>-0.531951</td>\n",
       "      <td>-0.203634</td>\n",
       "      <td>-0.113400</td>\n",
       "      <td>2.451431</td>\n",
       "    </tr>\n",
       "    <tr>\n",
       "      <th>2</th>\n",
       "      <td>3</td>\n",
       "      <td>0.00002</td>\n",
       "      <td>0.037268</td>\n",
       "      <td>-0.933973</td>\n",
       "      <td>-0.526638</td>\n",
       "      <td>-0.202575</td>\n",
       "      <td>-0.124803</td>\n",
       "      <td>2.424402</td>\n",
       "    </tr>\n",
       "    <tr>\n",
       "      <th>3</th>\n",
       "      <td>4</td>\n",
       "      <td>0.00003</td>\n",
       "      <td>0.033233</td>\n",
       "      <td>-0.897092</td>\n",
       "      <td>-0.521583</td>\n",
       "      <td>-0.201561</td>\n",
       "      <td>-0.135488</td>\n",
       "      <td>2.398490</td>\n",
       "    </tr>\n",
       "    <tr>\n",
       "      <th>4</th>\n",
       "      <td>5</td>\n",
       "      <td>0.00004</td>\n",
       "      <td>0.029481</td>\n",
       "      <td>-0.862021</td>\n",
       "      <td>-0.516767</td>\n",
       "      <td>-0.200587</td>\n",
       "      <td>-0.145510</td>\n",
       "      <td>2.373619</td>\n",
       "    </tr>\n",
       "    <tr>\n",
       "      <th>...</th>\n",
       "      <td>...</td>\n",
       "      <td>...</td>\n",
       "      <td>...</td>\n",
       "      <td>...</td>\n",
       "      <td>...</td>\n",
       "      <td>...</td>\n",
       "      <td>...</td>\n",
       "      <td>...</td>\n",
       "    </tr>\n",
       "    <tr>\n",
       "      <th>2996</th>\n",
       "      <td>2997</td>\n",
       "      <td>0.02996</td>\n",
       "      <td>0.263185</td>\n",
       "      <td>0.334702</td>\n",
       "      <td>-0.262458</td>\n",
       "      <td>-0.089647</td>\n",
       "      <td>0.202287</td>\n",
       "      <td>0.377767</td>\n",
       "    </tr>\n",
       "    <tr>\n",
       "      <th>2997</th>\n",
       "      <td>2998</td>\n",
       "      <td>0.02997</td>\n",
       "      <td>0.263188</td>\n",
       "      <td>0.334697</td>\n",
       "      <td>-0.262442</td>\n",
       "      <td>-0.089635</td>\n",
       "      <td>0.202308</td>\n",
       "      <td>0.377729</td>\n",
       "    </tr>\n",
       "    <tr>\n",
       "      <th>2998</th>\n",
       "      <td>2999</td>\n",
       "      <td>0.02998</td>\n",
       "      <td>0.263192</td>\n",
       "      <td>0.334692</td>\n",
       "      <td>-0.262426</td>\n",
       "      <td>-0.089623</td>\n",
       "      <td>0.202329</td>\n",
       "      <td>0.377691</td>\n",
       "    </tr>\n",
       "    <tr>\n",
       "      <th>2999</th>\n",
       "      <td>3000</td>\n",
       "      <td>0.02999</td>\n",
       "      <td>0.263196</td>\n",
       "      <td>0.334688</td>\n",
       "      <td>-0.262410</td>\n",
       "      <td>-0.089611</td>\n",
       "      <td>0.202350</td>\n",
       "      <td>0.377653</td>\n",
       "    </tr>\n",
       "    <tr>\n",
       "      <th>3000</th>\n",
       "      <td>3001</td>\n",
       "      <td>0.03000</td>\n",
       "      <td>0.263200</td>\n",
       "      <td>0.334683</td>\n",
       "      <td>-0.262394</td>\n",
       "      <td>-0.089599</td>\n",
       "      <td>0.202370</td>\n",
       "      <td>0.377615</td>\n",
       "    </tr>\n",
       "  </tbody>\n",
       "</table>\n",
       "<p>3001 rows × 8 columns</p>\n",
       "</div>"
      ],
      "text/plain": [
       "      Unnamed: 0       V1        V2        V3        V4        V5        V6  \\\n",
       "0              1  0.00000  0.046282 -1.013746 -0.537543 -0.204741 -0.101221   \n",
       "1              2  0.00001  0.041609 -0.972806 -0.531951 -0.203634 -0.113400   \n",
       "2              3  0.00002  0.037268 -0.933973 -0.526638 -0.202575 -0.124803   \n",
       "3              4  0.00003  0.033233 -0.897092 -0.521583 -0.201561 -0.135488   \n",
       "4              5  0.00004  0.029481 -0.862021 -0.516767 -0.200587 -0.145510   \n",
       "...          ...      ...       ...       ...       ...       ...       ...   \n",
       "2996        2997  0.02996  0.263185  0.334702 -0.262458 -0.089647  0.202287   \n",
       "2997        2998  0.02997  0.263188  0.334697 -0.262442 -0.089635  0.202308   \n",
       "2998        2999  0.02998  0.263192  0.334692 -0.262426 -0.089623  0.202329   \n",
       "2999        3000  0.02999  0.263196  0.334688 -0.262410 -0.089611  0.202350   \n",
       "3000        3001  0.03000  0.263200  0.334683 -0.262394 -0.089599  0.202370   \n",
       "\n",
       "            V7  \n",
       "0     2.479664  \n",
       "1     2.451431  \n",
       "2     2.424402  \n",
       "3     2.398490  \n",
       "4     2.373619  \n",
       "...        ...  \n",
       "2996  0.377767  \n",
       "2997  0.377729  \n",
       "2998  0.377691  \n",
       "2999  0.377653  \n",
       "3000  0.377615  \n",
       "\n",
       "[3001 rows x 8 columns]"
      ]
     },
     "execution_count": 7,
     "metadata": {},
     "output_type": "execute_result"
    }
   ],
   "source": [
    "df"
   ]
  },
  {
   "cell_type": "code",
   "execution_count": 13,
   "metadata": {},
   "outputs": [
    {
     "data": {
      "text/html": [
       "<div>\n",
       "<style scoped>\n",
       "    .dataframe tbody tr th:only-of-type {\n",
       "        vertical-align: middle;\n",
       "    }\n",
       "\n",
       "    .dataframe tbody tr th {\n",
       "        vertical-align: top;\n",
       "    }\n",
       "\n",
       "    .dataframe thead th {\n",
       "        text-align: right;\n",
       "    }\n",
       "</style>\n",
       "<table border=\"1\" class=\"dataframe\">\n",
       "  <thead>\n",
       "    <tr style=\"text-align: right;\">\n",
       "      <th></th>\n",
       "      <th>0</th>\n",
       "      <th>1</th>\n",
       "    </tr>\n",
       "  </thead>\n",
       "  <tbody>\n",
       "    <tr>\n",
       "      <th>a</th>\n",
       "      <td>0.0</td>\n",
       "      <td>NaN</td>\n",
       "    </tr>\n",
       "    <tr>\n",
       "      <th>b</th>\n",
       "      <td>1.0</td>\n",
       "      <td>0.0</td>\n",
       "    </tr>\n",
       "    <tr>\n",
       "      <th>c</th>\n",
       "      <td>0.0</td>\n",
       "      <td>1.0</td>\n",
       "    </tr>\n",
       "    <tr>\n",
       "      <th>d</th>\n",
       "      <td>NaN</td>\n",
       "      <td>0.0</td>\n",
       "    </tr>\n",
       "  </tbody>\n",
       "</table>\n",
       "</div>"
      ],
      "text/plain": [
       "     0    1\n",
       "a  0.0  NaN\n",
       "b  1.0  0.0\n",
       "c  0.0  1.0\n",
       "d  NaN  0.0"
      ]
     },
     "execution_count": 13,
     "metadata": {},
     "output_type": "execute_result"
    }
   ],
   "source": [
    "t1=pd.Series([0,1,0],index=['a','b','c'])\n",
    "t2=pd.Series([0,1,0],index=[\"b\",'c','d'])\n",
    "pd.concat([t1,t2],axis=1)"
   ]
  },
  {
   "cell_type": "code",
   "execution_count": 15,
   "metadata": {},
   "outputs": [
    {
     "data": {
      "text/plain": [
       "a     True\n",
       "b    False\n",
       "c     True\n",
       "dtype: bool"
      ]
     },
     "execution_count": 15,
     "metadata": {},
     "output_type": "execute_result"
    }
   ],
   "source": [
    "(t1==0)"
   ]
  },
  {
   "cell_type": "code",
   "execution_count": null,
   "metadata": {},
   "outputs": [],
   "source": []
  }
 ],
 "metadata": {
  "kernelspec": {
   "display_name": "Python 3.10.6 64-bit",
   "language": "python",
   "name": "python3"
  },
  "language_info": {
   "codemirror_mode": {
    "name": "ipython",
    "version": 3
   },
   "file_extension": ".py",
   "mimetype": "text/x-python",
   "name": "python",
   "nbconvert_exporter": "python",
   "pygments_lexer": "ipython3",
   "version": "3.10.6"
  },
  "orig_nbformat": 4,
  "vscode": {
   "interpreter": {
    "hash": "dbd5104f6212b1fc6f64e8e19ae2007e53f3ed0d4bd4f1dbbcdf8e035cfbf35c"
   }
  }
 },
 "nbformat": 4,
 "nbformat_minor": 2
}
