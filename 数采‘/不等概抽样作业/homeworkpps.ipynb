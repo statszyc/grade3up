{
 "cells": [
  {
   "cell_type": "code",
   "execution_count": 1,
   "metadata": {
    "vscode": {
     "languageId": "r"
    }
   },
   "outputs": [],
   "source": [
    "df<-read.csv(\"statepps.csv\")"
   ]
  },
  {
   "cell_type": "code",
   "execution_count": 2,
   "metadata": {
    "vscode": {
     "languageId": "r"
    }
   },
   "outputs": [
    {
     "name": "stderr",
     "output_type": "stream",
     "text": [
      "Loading required package: grid\n",
      "\n",
      "Loading required package: Matrix\n",
      "\n",
      "Loading required package: survival\n",
      "\n",
      "\n",
      "Attaching package: 'survival'\n",
      "\n",
      "\n",
      "The following objects are masked from 'package:sampling':\n",
      "\n",
      "    cluster, strata\n",
      "\n",
      "\n",
      "\n",
      "Attaching package: 'survey'\n",
      "\n",
      "\n",
      "The following object is masked from 'package:graphics':\n",
      "\n",
      "    dotchart\n",
      "\n",
      "\n"
     ]
    }
   ],
   "source": [
    "library(\"sampling\")\n",
    "library(\"survey\")\n",
    "N=nrow(df)\n",
    "n=10\n",
    "pik=inclusionprobabilities(df$popn, n)\n",
    "s=UPmultinomial(pik)\n",
    "df.pps = df[s!=0, ]"
   ]
  },
  {
   "cell_type": "code",
   "execution_count": 3,
   "metadata": {
    "vscode": {
     "languageId": "r"
    }
   },
   "outputs": [
    {
     "data": {
      "text/html": [
       "3686.31592771666"
      ],
      "text/latex": [
       "3686.31592771666"
      ],
      "text/markdown": [
       "3686.31592771666"
      ],
      "text/plain": [
       "[1] 3686.316"
      ]
     },
     "metadata": {},
     "output_type": "display_data"
    }
   ],
   "source": [
    "Z=pik[s!=0]/n #每个单元被抽中的概率\n",
    "Q=s[s!=0] #每个单元被抽中的次数\n",
    "Yhh=mean(df.pps$counties/Z*Q)\n",
    "Yhh "
   ]
  },
  {
   "cell_type": "code",
   "execution_count": 11,
   "metadata": {
    "vscode": {
     "languageId": "r"
    }
   },
   "outputs": [
    {
     "data": {
      "text/html": [
       "3142"
      ],
      "text/latex": [
       "3142"
      ],
      "text/markdown": [
       "3142"
      ],
      "text/plain": [
       "[1] 3142"
      ]
     },
     "metadata": {},
     "output_type": "display_data"
    }
   ],
   "source": [
    "sum(df$counties)"
   ]
  },
  {
   "cell_type": "code",
   "execution_count": 12,
   "metadata": {
    "vscode": {
     "languageId": "r"
    }
   },
   "outputs": [],
   "source": [
    "vars=1/(n*(n-1))*sum((df.pps$counties/Z-Yhh)^2*Q)"
   ]
  },
  {
   "cell_type": "code",
   "execution_count": 13,
   "metadata": {
    "vscode": {
     "languageId": "r"
    }
   },
   "outputs": [
    {
     "data": {
      "text/html": [
       "655.796730061226"
      ],
      "text/latex": [
       "655.796730061226"
      ],
      "text/markdown": [
       "655.796730061226"
      ],
      "text/plain": [
       "[1] 655.7967"
      ]
     },
     "metadata": {},
     "output_type": "display_data"
    }
   ],
   "source": [
    "std=sqrt(vars)\n",
    "std"
   ]
  },
  {
   "cell_type": "markdown",
   "metadata": {},
   "source": [
    "第二问"
   ]
  },
  {
   "cell_type": "code",
   "execution_count": 1,
   "metadata": {
    "vscode": {
     "languageId": "r"
    }
   },
   "outputs": [],
   "source": [
    "list=c(65,25,48,65,2,62,65,62,61,41)"
   ]
  },
  {
   "cell_type": "code",
   "execution_count": 2,
   "metadata": {
    "vscode": {
     "languageId": "r"
    }
   },
   "outputs": [],
   "source": [
    "phi=list/807"
   ]
  },
  {
   "cell_type": "code",
   "execution_count": 7,
   "metadata": {
    "vscode": {
     "languageId": "r"
    }
   },
   "outputs": [
    {
     "data": {
      "text/html": [
       "<style>\n",
       ".list-inline {list-style: none; margin:0; padding: 0}\n",
       ".list-inline>li {display: inline-block}\n",
       ".list-inline>li:not(:last-child)::after {content: \"\\00b7\"; padding: 0 .5ex}\n",
       "</style>\n",
       "<ol class=list-inline><li>12939.0625</li><li>976.5625</li><li>144</li><li>2376.5625</li><li>4</li><li>19460.25</li><li>4225</li><li>6006.25</li><li>14884</li><li>50850.25</li></ol>\n"
      ],
      "text/latex": [
       "\\begin{enumerate*}\n",
       "\\item 12939.0625\n",
       "\\item 976.5625\n",
       "\\item 144\n",
       "\\item 2376.5625\n",
       "\\item 4\n",
       "\\item 19460.25\n",
       "\\item 4225\n",
       "\\item 6006.25\n",
       "\\item 14884\n",
       "\\item 50850.25\n",
       "\\end{enumerate*}\n"
      ],
      "text/markdown": [
       "1. 12939.0625\n",
       "2. 976.5625\n",
       "3. 144\n",
       "4. 2376.5625\n",
       "5. 4\n",
       "6. 19460.25\n",
       "7. 4225\n",
       "8. 6006.25\n",
       "9. 14884\n",
       "10. 50850.25\n",
       "\n",
       "\n"
      ],
      "text/plain": [
       " [1] 12939.0625   976.5625   144.0000  2376.5625     4.0000 19460.2500\n",
       " [7]  4225.0000  6006.2500 14884.0000 50850.2500"
      ]
     },
     "metadata": {},
     "output_type": "display_data"
    }
   ],
   "source": [
    "yi=c(113.75,31.25,12,48.75,2,139.5,65,77.5,122,225.5)\n",
    "yi^2"
   ]
  },
  {
   "cell_type": "code",
   "execution_count": 8,
   "metadata": {
    "vscode": {
     "languageId": "r"
    }
   },
   "outputs": [
    {
     "data": {
      "text/html": [
       "1371.9"
      ],
      "text/latex": [
       "1371.9"
      ],
      "text/markdown": [
       "1371.9"
      ],
      "text/plain": [
       "[1] 1371.9"
      ]
     },
     "metadata": {},
     "output_type": "display_data"
    }
   ],
   "source": [
    "sum(yi/phi)/10"
   ]
  },
  {
   "cell_type": "code",
   "execution_count": 9,
   "metadata": {
    "vscode": {
     "languageId": "r"
    }
   },
   "outputs": [
    {
     "data": {
      "text/html": [
       "372.979922381889"
      ],
      "text/latex": [
       "372.979922381889"
      ],
      "text/markdown": [
       "372.979922381889"
      ],
      "text/plain": [
       "[1] 372.9799"
      ]
     },
     "metadata": {},
     "output_type": "display_data"
    }
   ],
   "source": [
    "sqrt(1/(10*9)*sum((yi/phi-sum(yi/phi)/10)^2))"
   ]
  },
  {
   "cell_type": "code",
   "execution_count": 11,
   "metadata": {
    "vscode": {
     "languageId": "r"
    }
   },
   "outputs": [
    {
     "data": {
      "text/html": [
       "<style>\n",
       ".list-inline {list-style: none; margin:0; padding: 0}\n",
       ".list-inline>li {display: inline-block}\n",
       ".list-inline>li:not(:last-child)::after {content: \"\\00b7\"; padding: 0 .5ex}\n",
       "</style>\n",
       "<ol class=list-inline><li>1410.49358121301</li><li>131652.586492456</li><li>1368524.72572322</li><li>587276.40610784</li><li>318761.433800148</li><li>197278.447261686</li><li>318761.433800148</li><li>131652.586492456</li><li>58762.7945693787</li><li>9405939.30726169</li></ol>\n"
      ],
      "text/latex": [
       "\\begin{enumerate*}\n",
       "\\item 1410.49358121301\n",
       "\\item 131652.586492456\n",
       "\\item 1368524.72572322\n",
       "\\item 587276.40610784\n",
       "\\item 318761.433800148\n",
       "\\item 197278.447261686\n",
       "\\item 318761.433800148\n",
       "\\item 131652.586492456\n",
       "\\item 58762.7945693787\n",
       "\\item 9405939.30726169\n",
       "\\end{enumerate*}\n"
      ],
      "text/markdown": [
       "1. 1410.49358121301\n",
       "2. 131652.586492456\n",
       "3. 1368524.72572322\n",
       "4. 587276.40610784\n",
       "5. 318761.433800148\n",
       "6. 197278.447261686\n",
       "7. 318761.433800148\n",
       "8. 131652.586492456\n",
       "9. 58762.7945693787\n",
       "10. 9405939.30726169\n",
       "\n",
       "\n"
      ],
      "text/plain": [
       " [1]    1410.494  131652.586 1368524.726  587276.406  318761.434  197278.447\n",
       " [7]  318761.434  131652.586   58762.795 9405939.307"
      ]
     },
     "metadata": {},
     "output_type": "display_data"
    }
   ],
   "source": [
    "(yi/phi-sum(yi/phi)/10)^2"
   ]
  },
  {
   "cell_type": "code",
   "execution_count": 10,
   "metadata": {
    "vscode": {
     "languageId": "r"
    }
   },
   "outputs": [
    {
     "data": {
      "text/html": [
       "1406.25"
      ],
      "text/latex": [
       "1406.25"
      ],
      "text/markdown": [
       "1406.25"
      ],
      "text/plain": [
       "[1] 1406.25"
      ]
     },
     "metadata": {},
     "output_type": "display_data"
    }
   ],
   "source": [
    "37.5^2"
   ]
  },
  {
   "cell_type": "code",
   "execution_count": null,
   "metadata": {
    "vscode": {
     "languageId": "r"
    }
   },
   "outputs": [],
   "source": []
  }
 ],
 "metadata": {
  "kernelspec": {
   "display_name": "R",
   "language": "R",
   "name": "ir"
  },
  "language_info": {
   "codemirror_mode": "r",
   "file_extension": ".r",
   "mimetype": "text/x-r-source",
   "name": "R",
   "pygments_lexer": "r",
   "version": "4.2.1"
  }
 },
 "nbformat": 4,
 "nbformat_minor": 4
}
