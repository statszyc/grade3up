{
 "cells": [
  {
   "cell_type": "code",
   "execution_count": 4,
   "metadata": {
    "vscode": {
     "languageId": "r"
    }
   },
   "outputs": [],
   "source": [
    "df<-read.csv(\"statepps.csv\")"
   ]
  },
  {
   "cell_type": "code",
   "execution_count": 7,
   "metadata": {
    "vscode": {
     "languageId": "r"
    }
   },
   "outputs": [
    {
     "ename": "ERROR",
     "evalue": "Error in strata(df[order(df$state), ], rep(23, 3), \"state\", \"srswor\"): the names of the strata are wrong\n",
     "output_type": "error",
     "traceback": [
      "Error in strata(df[order(df$state), ], rep(23, 3), \"state\", \"srswor\"): the names of the strata are wrong\nTraceback:\n",
      "1. strata(df[order(df$state), ], rep(23, 3), \"state\", \"srswor\")",
      "2. stop(\"the names of the strata are wrong\")"
     ]
    }
   ],
   "source": [
    "library(\"sampling\")\n",
    "st=strata(df[order(df$state),],rep(23,3),\"state\",\"srswor\")"
   ]
  },
  {
   "cell_type": "code",
   "execution_count": null,
   "metadata": {
    "vscode": {
     "languageId": "r"
    }
   },
   "outputs": [],
   "source": []
  }
 ],
 "metadata": {
  "kernelspec": {
   "display_name": "R",
   "language": "R",
   "name": "ir"
  },
  "language_info": {
   "codemirror_mode": "r",
   "file_extension": ".r",
   "mimetype": "text/x-r-source",
   "name": "R",
   "pygments_lexer": "r",
   "version": "4.2.1"
  },
  "orig_nbformat": 4
 },
 "nbformat": 4,
 "nbformat_minor": 2
}
