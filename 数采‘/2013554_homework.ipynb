{
 "cells": [
  {
   "cell_type": "markdown",
   "metadata": {},
   "source": [
    "# 第一问"
   ]
  },
  {
   "cell_type": "markdown",
   "metadata": {},
   "source": [
    "## 第一小问：计算因子的主效应和二阶交互效应"
   ]
  },
  {
   "cell_type": "code",
   "execution_count": 12,
   "metadata": {
    "vscode": {
     "languageId": "r"
    }
   },
   "outputs": [],
   "source": [
    "oiltemp=c(70,70,70,70,120,120,120,120)\n",
    "Cper=c(0.5,0.5,0.7,0.7,0.5,0.5,0.7,0.7)\n",
    "bftemp=c(1450,1600,1450,1600,1450,1600,1450,1600)\n",
    "goodper=c(67,79,61,75,59,90,52,87)\n",
    "df=data.frame(oiltemp,Cper,bftemp,goodper)"
   ]
  },
  {
   "cell_type": "code",
   "execution_count": 13,
   "metadata": {
    "vscode": {
     "languageId": "r"
    }
   },
   "outputs": [
    {
     "data": {
      "text/html": [
       "1.5"
      ],
      "text/latex": [
       "1.5"
      ],
      "text/markdown": [
       "1.5"
      ],
      "text/plain": [
       "[1] 1.5"
      ]
     },
     "metadata": {},
     "output_type": "display_data"
    }
   ],
   "source": [
    "library(dplyr)\n",
    "gr1=group_by(df,oiltemp)\n",
    "out1=summarise(gr1,mean(goodper))\n",
    "(ME1=as.double(out1[2,2]-out1[1,2]))"
   ]
  },
  {
   "cell_type": "code",
   "execution_count": 14,
   "metadata": {
    "vscode": {
     "languageId": "r"
    }
   },
   "outputs": [
    {
     "data": {
      "text/html": [
       "-5"
      ],
      "text/latex": [
       "-5"
      ],
      "text/markdown": [
       "-5"
      ],
      "text/plain": [
       "[1] -5"
      ]
     },
     "metadata": {},
     "output_type": "display_data"
    }
   ],
   "source": [
    "gr2=group_by(df,Cper)\n",
    "out2=summarise(gr2,mean(goodper))\n",
    "(ME2=as.double(out2[2,2]-out2[1,2]))"
   ]
  },
  {
   "cell_type": "code",
   "execution_count": 15,
   "metadata": {
    "vscode": {
     "languageId": "r"
    }
   },
   "outputs": [
    {
     "data": {
      "text/html": [
       "23"
      ],
      "text/latex": [
       "23"
      ],
      "text/markdown": [
       "23"
      ],
      "text/plain": [
       "[1] 23"
      ]
     },
     "metadata": {},
     "output_type": "display_data"
    }
   ],
   "source": [
    "gr3=group_by(df,bftemp)\n",
    "out3=summarise(gr3,mean(goodper))\n",
    "(ME3=as.double(out3[2,2]-out3[1,2]))"
   ]
  },
  {
   "cell_type": "code",
   "execution_count": 16,
   "metadata": {
    "vscode": {
     "languageId": "r"
    }
   },
   "outputs": [
    {
     "name": "stderr",
     "output_type": "stream",
     "text": [
      "\u001b[1m\u001b[22m`summarise()` has grouped output by 'oiltemp'. You can override using the\n",
      "`.groups` argument.\n"
     ]
    },
    {
     "data": {
      "text/html": [
       "<table class=\"dataframe\">\n",
       "<caption>A grouped_df: 4 × 4</caption>\n",
       "<thead>\n",
       "\t<tr><th scope=col>oiltemp</th><th scope=col>Cper</th><th scope=col>mean</th><th scope=col>n</th></tr>\n",
       "\t<tr><th scope=col>&lt;dbl&gt;</th><th scope=col>&lt;dbl&gt;</th><th scope=col>&lt;dbl&gt;</th><th scope=col>&lt;int&gt;</th></tr>\n",
       "</thead>\n",
       "<tbody>\n",
       "\t<tr><td> 70</td><td>0.5</td><td>73.0</td><td>2</td></tr>\n",
       "\t<tr><td> 70</td><td>0.7</td><td>68.0</td><td>2</td></tr>\n",
       "\t<tr><td>120</td><td>0.5</td><td>74.5</td><td>2</td></tr>\n",
       "\t<tr><td>120</td><td>0.7</td><td>69.5</td><td>2</td></tr>\n",
       "</tbody>\n",
       "</table>\n"
      ],
      "text/latex": [
       "A grouped\\_df: 4 × 4\n",
       "\\begin{tabular}{llll}\n",
       " oiltemp & Cper & mean & n\\\\\n",
       " <dbl> & <dbl> & <dbl> & <int>\\\\\n",
       "\\hline\n",
       "\t  70 & 0.5 & 73.0 & 2\\\\\n",
       "\t  70 & 0.7 & 68.0 & 2\\\\\n",
       "\t 120 & 0.5 & 74.5 & 2\\\\\n",
       "\t 120 & 0.7 & 69.5 & 2\\\\\n",
       "\\end{tabular}\n"
      ],
      "text/markdown": [
       "\n",
       "A grouped_df: 4 × 4\n",
       "\n",
       "| oiltemp &lt;dbl&gt; | Cper &lt;dbl&gt; | mean &lt;dbl&gt; | n &lt;int&gt; |\n",
       "|---|---|---|---|\n",
       "|  70 | 0.5 | 73.0 | 2 |\n",
       "|  70 | 0.7 | 68.0 | 2 |\n",
       "| 120 | 0.5 | 74.5 | 2 |\n",
       "| 120 | 0.7 | 69.5 | 2 |\n",
       "\n"
      ],
      "text/plain": [
       "  oiltemp Cper mean n\n",
       "1  70     0.5  73.0 2\n",
       "2  70     0.7  68.0 2\n",
       "3 120     0.5  74.5 2\n",
       "4 120     0.7  69.5 2"
      ]
     },
     "metadata": {},
     "output_type": "display_data"
    },
    {
     "data": {
      "text/html": [
       "0"
      ],
      "text/latex": [
       "0"
      ],
      "text/markdown": [
       "0"
      ],
      "text/plain": [
       "[1] 0"
      ]
     },
     "metadata": {},
     "output_type": "display_data"
    }
   ],
   "source": [
    "by_vs_am <- df %>% group_by(oiltemp,Cper)\n",
    "(by_vs <- by_vs_am %>% summarise(mean=mean(goodper),n=n()))\n",
    "(inf1=as.double(by_vs[1,3]+by_vs[4,3]-by_vs[2,3]-by_vs[3,3])/2.0)"
   ]
  },
  {
   "cell_type": "code",
   "execution_count": 17,
   "metadata": {
    "vscode": {
     "languageId": "r"
    }
   },
   "outputs": [
    {
     "name": "stderr",
     "output_type": "stream",
     "text": [
      "\u001b[1m\u001b[22m`summarise()` has grouped output by 'oiltemp'. You can override using the\n",
      "`.groups` argument.\n"
     ]
    },
    {
     "data": {
      "text/html": [
       "<table class=\"dataframe\">\n",
       "<caption>A grouped_df: 4 × 4</caption>\n",
       "<thead>\n",
       "\t<tr><th scope=col>oiltemp</th><th scope=col>bftemp</th><th scope=col>mean</th><th scope=col>n</th></tr>\n",
       "\t<tr><th scope=col>&lt;dbl&gt;</th><th scope=col>&lt;dbl&gt;</th><th scope=col>&lt;dbl&gt;</th><th scope=col>&lt;int&gt;</th></tr>\n",
       "</thead>\n",
       "<tbody>\n",
       "\t<tr><td> 70</td><td>1450</td><td>64.0</td><td>2</td></tr>\n",
       "\t<tr><td> 70</td><td>1600</td><td>77.0</td><td>2</td></tr>\n",
       "\t<tr><td>120</td><td>1450</td><td>55.5</td><td>2</td></tr>\n",
       "\t<tr><td>120</td><td>1600</td><td>88.5</td><td>2</td></tr>\n",
       "</tbody>\n",
       "</table>\n"
      ],
      "text/latex": [
       "A grouped\\_df: 4 × 4\n",
       "\\begin{tabular}{llll}\n",
       " oiltemp & bftemp & mean & n\\\\\n",
       " <dbl> & <dbl> & <dbl> & <int>\\\\\n",
       "\\hline\n",
       "\t  70 & 1450 & 64.0 & 2\\\\\n",
       "\t  70 & 1600 & 77.0 & 2\\\\\n",
       "\t 120 & 1450 & 55.5 & 2\\\\\n",
       "\t 120 & 1600 & 88.5 & 2\\\\\n",
       "\\end{tabular}\n"
      ],
      "text/markdown": [
       "\n",
       "A grouped_df: 4 × 4\n",
       "\n",
       "| oiltemp &lt;dbl&gt; | bftemp &lt;dbl&gt; | mean &lt;dbl&gt; | n &lt;int&gt; |\n",
       "|---|---|---|---|\n",
       "|  70 | 1450 | 64.0 | 2 |\n",
       "|  70 | 1600 | 77.0 | 2 |\n",
       "| 120 | 1450 | 55.5 | 2 |\n",
       "| 120 | 1600 | 88.5 | 2 |\n",
       "\n"
      ],
      "text/plain": [
       "  oiltemp bftemp mean n\n",
       "1  70     1450   64.0 2\n",
       "2  70     1600   77.0 2\n",
       "3 120     1450   55.5 2\n",
       "4 120     1600   88.5 2"
      ]
     },
     "metadata": {},
     "output_type": "display_data"
    },
    {
     "data": {
      "text/html": [
       "10"
      ],
      "text/latex": [
       "10"
      ],
      "text/markdown": [
       "10"
      ],
      "text/plain": [
       "[1] 10"
      ]
     },
     "metadata": {},
     "output_type": "display_data"
    }
   ],
   "source": [
    "by_vs_am <- df %>% group_by(oiltemp,bftemp)\n",
    "(by_vs <- by_vs_am %>% summarise(mean=mean(goodper),n=n()))\n",
    "(inf2=as.double(by_vs[1,3]+by_vs[4,3]-by_vs[2,3]-by_vs[3,3])/2.0)"
   ]
  },
  {
   "cell_type": "code",
   "execution_count": 18,
   "metadata": {
    "vscode": {
     "languageId": "r"
    }
   },
   "outputs": [
    {
     "name": "stderr",
     "output_type": "stream",
     "text": [
      "\u001b[1m\u001b[22m`summarise()` has grouped output by 'Cper'. You can override using the\n",
      "`.groups` argument.\n"
     ]
    },
    {
     "data": {
      "text/html": [
       "<table class=\"dataframe\">\n",
       "<caption>A grouped_df: 4 × 4</caption>\n",
       "<thead>\n",
       "\t<tr><th scope=col>Cper</th><th scope=col>bftemp</th><th scope=col>mean</th><th scope=col>n</th></tr>\n",
       "\t<tr><th scope=col>&lt;dbl&gt;</th><th scope=col>&lt;dbl&gt;</th><th scope=col>&lt;dbl&gt;</th><th scope=col>&lt;int&gt;</th></tr>\n",
       "</thead>\n",
       "<tbody>\n",
       "\t<tr><td>0.5</td><td>1450</td><td>63.0</td><td>2</td></tr>\n",
       "\t<tr><td>0.5</td><td>1600</td><td>84.5</td><td>2</td></tr>\n",
       "\t<tr><td>0.7</td><td>1450</td><td>56.5</td><td>2</td></tr>\n",
       "\t<tr><td>0.7</td><td>1600</td><td>81.0</td><td>2</td></tr>\n",
       "</tbody>\n",
       "</table>\n"
      ],
      "text/latex": [
       "A grouped\\_df: 4 × 4\n",
       "\\begin{tabular}{llll}\n",
       " Cper & bftemp & mean & n\\\\\n",
       " <dbl> & <dbl> & <dbl> & <int>\\\\\n",
       "\\hline\n",
       "\t 0.5 & 1450 & 63.0 & 2\\\\\n",
       "\t 0.5 & 1600 & 84.5 & 2\\\\\n",
       "\t 0.7 & 1450 & 56.5 & 2\\\\\n",
       "\t 0.7 & 1600 & 81.0 & 2\\\\\n",
       "\\end{tabular}\n"
      ],
      "text/markdown": [
       "\n",
       "A grouped_df: 4 × 4\n",
       "\n",
       "| Cper &lt;dbl&gt; | bftemp &lt;dbl&gt; | mean &lt;dbl&gt; | n &lt;int&gt; |\n",
       "|---|---|---|---|\n",
       "| 0.5 | 1450 | 63.0 | 2 |\n",
       "| 0.5 | 1600 | 84.5 | 2 |\n",
       "| 0.7 | 1450 | 56.5 | 2 |\n",
       "| 0.7 | 1600 | 81.0 | 2 |\n",
       "\n"
      ],
      "text/plain": [
       "  Cper bftemp mean n\n",
       "1 0.5  1450   63.0 2\n",
       "2 0.5  1600   84.5 2\n",
       "3 0.7  1450   56.5 2\n",
       "4 0.7  1600   81.0 2"
      ]
     },
     "metadata": {},
     "output_type": "display_data"
    },
    {
     "data": {
      "text/html": [
       "1.5"
      ],
      "text/latex": [
       "1.5"
      ],
      "text/markdown": [
       "1.5"
      ],
      "text/plain": [
       "[1] 1.5"
      ]
     },
     "metadata": {},
     "output_type": "display_data"
    }
   ],
   "source": [
    "by_vs_am <- df %>% group_by(Cper,bftemp)\n",
    "(by_vs <- by_vs_am %>% summarise(mean=mean(goodper),n=n()))\n",
    "(inf3=as.double(by_vs[1,3]+by_vs[4,3]-by_vs[2,3]-by_vs[3,3])/2.0)"
   ]
  },
  {
   "cell_type": "markdown",
   "metadata": {},
   "source": [
    "### 统计分析：\n",
    "\n",
    "通过上面计算可知：ME(\"油温\")=1.5, ME(\"碳百分比\")=-5, ME(\"淬火前钢的温度\")=23\n",
    "\n",
    "INF(\"油温\",\"碳百分比\")=0, INF(\"油温\",\"淬火前钢的温度\")=10, INF(\"碳百分比\",\"淬火前钢的温度\")=1.5\n",
    "\n",
    "因子A的ME的计算方法为,：$ME(A)=\\bar{y}(A=+)-\\bar{y}(A=-)$\n",
    "\n",
    "因子A和B的INF的计算方法为：$INF(A,B)=\\bar{y}(AB=+)-\\bar{y}(AB=-)$"
   ]
  },
  {
   "cell_type": "markdown",
   "metadata": {},
   "source": [
    "## 第二小问：用半正态图探查显著的因子效应"
   ]
  },
  {
   "cell_type": "code",
   "execution_count": 19,
   "metadata": {
    "vscode": {
     "languageId": "r"
    }
   },
   "outputs": [
    {
     "data": {
      "image/png": "[encoded data removed]",
      "text/plain": [
       "Plot with title \"Half Normal Plot for goodper, alpha=0.05\""
      ]
     },
     "metadata": {
      "image/png": {
       "height": 420,
       "width": 420
      }
     },
     "output_type": "display_data"
    }
   ],
   "source": [
    "library('FrF2')\n",
    "fac1<-lm(goodper~oiltemp*Cper*bftemp,data=df)\n",
    "DanielPlot(fac1,half=T)"
   ]
  },
  {
   "cell_type": "markdown",
   "metadata": {},
   "source": [
    "### 统计分析：\n",
    "\n",
    "从半正态图可以看出，位于右上方的因子效应有：ME(\"淬火前钢的温度\"), INF(\"油温\",\"淬火前钢的温度\")，可以认为这两个因子效应是显著的，其中因子INF(\"油温\",\"淬火前钢的温度\")更为显著。\n",
    "\n",
    "半正态图画法：\n",
    "\n",
    "将因子效应估计值排序：$|{\\hat{\\theta}}|_{(1)}\\leq \\cdots \\leq |\\hat{\\theta}|_{(I)}$\n",
    "\n",
    "在正态概率纸上绘点：$(|\\hat{\\theta}|_{(i)},\\psi ^{-1}(0.5+\\frac{[i-0.5]}{2I})),i=1,\\cdots,I$"
   ]
  },
  {
   "cell_type": "markdown",
   "metadata": {},
   "source": [
    "# 第二问"
   ]
  },
  {
   "cell_type": "markdown",
   "metadata": {},
   "source": [
    "## 第一小问：对因子3和4，做出两个交互效应图"
   ]
  },
  {
   "cell_type": "code",
   "execution_count": 20,
   "metadata": {
    "vscode": {
     "languageId": "r"
    }
   },
   "outputs": [],
   "source": [
    "fac1=c(0,1,0,1,0,1,0,1)\n",
    "fac2=c(0,1,1,0,1,0,0,1)\n",
    "fac3=c(0,0,1,1,1,1,0,0)\n",
    "fac4=c(0,0,0,0,1,1,1,1)\n",
    "fac5=c(0,0,1,1,0,0,1,1)\n",
    "outcome=c(26,28,23,22,19,18,30,28)\n",
    "df=data.frame(fac1,fac2,fac3,fac4,fac5,outcome)"
   ]
  },
  {
   "cell_type": "code",
   "execution_count": 21,
   "metadata": {
    "vscode": {
     "languageId": "r"
    }
   },
   "outputs": [
    {
     "name": "stderr",
     "output_type": "stream",
     "text": [
      "\u001b[1m\u001b[22m`summarise()` has grouped output by 'fac3'. You can override using the\n",
      "`.groups` argument.\n"
     ]
    },
    {
     "data": {
      "text/html": [
       "<table class=\"dataframe\">\n",
       "<caption>A grouped_df: 4 × 4</caption>\n",
       "<thead>\n",
       "\t<tr><th scope=col>fac3</th><th scope=col>fac4</th><th scope=col>Mean</th><th scope=col>N</th></tr>\n",
       "\t<tr><th scope=col>&lt;dbl&gt;</th><th scope=col>&lt;dbl&gt;</th><th scope=col>&lt;dbl&gt;</th><th scope=col>&lt;int&gt;</th></tr>\n",
       "</thead>\n",
       "<tbody>\n",
       "\t<tr><td>0</td><td>0</td><td>27.0</td><td>2</td></tr>\n",
       "\t<tr><td>0</td><td>1</td><td>29.0</td><td>2</td></tr>\n",
       "\t<tr><td>1</td><td>0</td><td>22.5</td><td>2</td></tr>\n",
       "\t<tr><td>1</td><td>1</td><td>18.5</td><td>2</td></tr>\n",
       "</tbody>\n",
       "</table>\n"
      ],
      "text/latex": [
       "A grouped\\_df: 4 × 4\n",
       "\\begin{tabular}{llll}\n",
       " fac3 & fac4 & Mean & N\\\\\n",
       " <dbl> & <dbl> & <dbl> & <int>\\\\\n",
       "\\hline\n",
       "\t 0 & 0 & 27.0 & 2\\\\\n",
       "\t 0 & 1 & 29.0 & 2\\\\\n",
       "\t 1 & 0 & 22.5 & 2\\\\\n",
       "\t 1 & 1 & 18.5 & 2\\\\\n",
       "\\end{tabular}\n"
      ],
      "text/markdown": [
       "\n",
       "A grouped_df: 4 × 4\n",
       "\n",
       "| fac3 &lt;dbl&gt; | fac4 &lt;dbl&gt; | Mean &lt;dbl&gt; | N &lt;int&gt; |\n",
       "|---|---|---|---|\n",
       "| 0 | 0 | 27.0 | 2 |\n",
       "| 0 | 1 | 29.0 | 2 |\n",
       "| 1 | 0 | 22.5 | 2 |\n",
       "| 1 | 1 | 18.5 | 2 |\n",
       "\n"
      ],
      "text/plain": [
       "  fac3 fac4 Mean N\n",
       "1 0    0    27.0 2\n",
       "2 0    1    29.0 2\n",
       "3 1    0    22.5 2\n",
       "4 1    1    18.5 2"
      ]
     },
     "metadata": {},
     "output_type": "display_data"
    }
   ],
   "source": [
    "by_vs_am <- df %>% group_by(fac3,fac4)\n",
    "(by_vs <- by_vs_am %>% summarise(Mean=mean(outcome),N=n()))"
   ]
  },
  {
   "cell_type": "code",
   "execution_count": 22,
   "metadata": {
    "vscode": {
     "languageId": "r"
    }
   },
   "outputs": [
    {
     "data": {
      "image/png": "[encoded data removed]",
      "text/plain": [
       "plot without title"
      ]
     },
     "metadata": {
      "image/png": {
       "height": 420,
       "width": 420
      }
     },
     "output_type": "display_data"
    }
   ],
   "source": [
    "library(ggplot2)\n",
    "ggplot(by_vs,aes(x=fac4,y=Mean,col=fac3,group=fac3))+geom_point()+geom_line()+labs(title=\"因子3对因子4的交互效应图\")"
   ]
  },
  {
   "cell_type": "code",
   "execution_count": 23,
   "metadata": {
    "vscode": {
     "languageId": "r"
    }
   },
   "outputs": [
    {
     "data": {
      "image/png": "[encoded data removed]",
      "text/plain": [
       "plot without title"
      ]
     },
     "metadata": {
      "image/png": {
       "height": 420,
       "width": 420
      }
     },
     "output_type": "display_data"
    }
   ],
   "source": [
    "ggplot(by_vs,aes(x=fac3,y=Mean,col=fac4,group=fac4))+geom_point()+geom_line()+labs(title=\"因子4对因子3的交互效应图\")"
   ]
  },
  {
   "cell_type": "markdown",
   "metadata": {},
   "source": [
    "## 第二小问：计算3和4的主效应以及3*4的交互效应"
   ]
  },
  {
   "cell_type": "code",
   "execution_count": 24,
   "metadata": {
    "vscode": {
     "languageId": "r"
    }
   },
   "outputs": [
    {
     "data": {
      "text/html": [
       "-7.5"
      ],
      "text/latex": [
       "-7.5"
      ],
      "text/markdown": [
       "-7.5"
      ],
      "text/plain": [
       "[1] -7.5"
      ]
     },
     "metadata": {},
     "output_type": "display_data"
    }
   ],
   "source": [
    "(ME3=as.double(by_vs[3,3]+by_vs[4,3]-by_vs[1,3]-by_vs[2,3])/2.0)"
   ]
  },
  {
   "cell_type": "code",
   "execution_count": 25,
   "metadata": {
    "vscode": {
     "languageId": "r"
    }
   },
   "outputs": [
    {
     "data": {
      "text/html": [
       "-1"
      ],
      "text/latex": [
       "-1"
      ],
      "text/markdown": [
       "-1"
      ],
      "text/plain": [
       "[1] -1"
      ]
     },
     "metadata": {},
     "output_type": "display_data"
    }
   ],
   "source": [
    "(ME4=as.double(by_vs[2,3]+by_vs[4,3]-by_vs[1,3]-by_vs[3,3])/2.0)"
   ]
  },
  {
   "cell_type": "code",
   "execution_count": 26,
   "metadata": {
    "vscode": {
     "languageId": "r"
    }
   },
   "outputs": [
    {
     "data": {
      "text/html": [
       "-3"
      ],
      "text/latex": [
       "-3"
      ],
      "text/markdown": [
       "-3"
      ],
      "text/plain": [
       "[1] -3"
      ]
     },
     "metadata": {},
     "output_type": "display_data"
    }
   ],
   "source": [
    "(inf34=as.double(by_vs[1,3]+by_vs[4,3]-by_vs[2,3]-by_vs[3,3])/2.0)"
   ]
  },
  {
   "cell_type": "markdown",
   "metadata": {},
   "source": [
    "### 统计分析：\n",
    "\n",
    "ME(3)=-7.5\n",
    "\n",
    "ME(4)=-1\n",
    "\n",
    "INF(3,4)=-3"
   ]
  },
  {
   "cell_type": "markdown",
   "metadata": {},
   "source": [
    "## 第三小问：计算标准误"
   ]
  },
  {
   "cell_type": "code",
   "execution_count": 27,
   "metadata": {
    "vscode": {
     "languageId": "r"
    }
   },
   "outputs": [
    {
     "data": {
      "text/html": [
       "1.06066017177982"
      ],
      "text/latex": [
       "1.06066017177982"
      ],
      "text/markdown": [
       "1.06066017177982"
      ],
      "text/plain": [
       "[1] 1.06066"
      ]
     },
     "metadata": {},
     "output_type": "display_data"
    }
   ],
   "source": [
    "N=length(fac1)\n",
    "sig=1.5\n",
    "(SE=sqrt(4/N*sig^2))"
   ]
  },
  {
   "cell_type": "markdown",
   "metadata": {},
   "source": [
    "### 统计分析\n",
    "\n",
    "$SE(ME(3))=SE(ME(4))=SE(INF(3,4))\\approx 1.0607$\n",
    "\n",
    "ME(A)的方差为$Var(ME(A))=Var(\\bar{y}(A=+))+Var(\\bar{y}(A=-))=\\frac{4}{N}\\sigma^2$\n",
    "\n",
    "交互效应的方差同理，也为$\\frac{4}{N}\\sigma^2$。\n",
    "\n",
    "标准误即为方差开平方\n"
   ]
  },
  {
   "cell_type": "markdown",
   "metadata": {},
   "source": [
    "## 第四小问：判断第二小问中的效应哪些是显著的"
   ]
  },
  {
   "cell_type": "code",
   "execution_count": 28,
   "metadata": {
    "vscode": {
     "languageId": "r"
    }
   },
   "outputs": [
    {
     "data": {
      "text/html": [
       "1.95996398454005"
      ],
      "text/latex": [
       "1.95996398454005"
      ],
      "text/markdown": [
       "1.95996398454005"
      ],
      "text/plain": [
       "[1] 1.959964"
      ]
     },
     "metadata": {},
     "output_type": "display_data"
    },
    {
     "data": {
      "text/html": [
       "7.07106781186548"
      ],
      "text/latex": [
       "7.07106781186548"
      ],
      "text/markdown": [
       "7.07106781186548"
      ],
      "text/plain": [
       "[1] 7.071068"
      ]
     },
     "metadata": {},
     "output_type": "display_data"
    },
    {
     "data": {
      "text/html": [
       "0.942809041582063"
      ],
      "text/latex": [
       "0.942809041582063"
      ],
      "text/markdown": [
       "0.942809041582063"
      ],
      "text/plain": [
       "[1] 0.942809"
      ]
     },
     "metadata": {},
     "output_type": "display_data"
    },
    {
     "data": {
      "text/html": [
       "2.82842712474619"
      ],
      "text/latex": [
       "2.82842712474619"
      ],
      "text/markdown": [
       "2.82842712474619"
      ],
      "text/plain": [
       "[1] 2.828427"
      ]
     },
     "metadata": {},
     "output_type": "display_data"
    }
   ],
   "source": [
    "(threshold=qnorm(.975))\n",
    "(U1=abs(ME3/SE))\n",
    "(U2=abs(ME4/SE))\n",
    "(U3=abs(inf34/SE))"
   ]
  },
  {
   "cell_type": "markdown",
   "metadata": {},
   "source": [
    "### 统计分析：\n",
    "\n"
   ]
  },
  {
   "cell_type": "markdown",
   "metadata": {},
   "source": [
    "因为每个效应的标准误$SE\\approx 1.0607$均已知，记$\\hat{\\theta}_i$是第i个效应的估计值，于是对于假设$H_i:\\ \\theta_i=0$，选取检验统计量$U=\\frac{\\hat{\\theta}_i}{SE}$，在$H_i$下U服从标准正态分布。则拒绝域为：$\\{|U|\\geq u_{\\frac{\\alpha}{2}}\\}$，其中$u_{\\frac{\\alpha}{2}}$是标准正态分布的上$\\frac{\\alpha}{2}$分位数。\n",
    "\n",
    "上面的$U_1,U_3$落在拒绝域内，说明ME(3)和INF(3,4)是显著的。$U_2$没有落在拒绝域内，则不能说明ME(4)是显著的。"
   ]
  }
 ],
 "metadata": {
  "kernelspec": {
   "display_name": "R",
   "language": "R",
   "name": "ir"
  },
  "language_info": {
   "codemirror_mode": "r",
   "file_extension": ".r",
   "mimetype": "text/x-r-source",
   "name": "R",
   "pygments_lexer": "r",
   "version": "4.2.1"
  },
  "orig_nbformat": 4
 },
 "nbformat": 4,
 "nbformat_minor": 2
}
