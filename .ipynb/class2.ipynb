{
 "cells": [
  {
   "cell_type": "markdown",
   "metadata": {},
   "source": [
    "## range类型"
   ]
  },
  {
   "cell_type": "markdown",
   "metadata": {},
   "source": [
    "range(start,stop[,step])"
   ]
  },
  {
   "cell_type": "code",
   "execution_count": null,
   "metadata": {},
   "outputs": [
    {
     "name": "stdout",
     "output_type": "stream",
     "text": [
      "range(0, 16)\n"
     ]
    },
    {
     "data": {
      "text/plain": [
       "[1, 3, 5, 7, 9, 11, 13, 15]"
      ]
     },
     "metadata": {},
     "output_type": "display_data"
    }
   ],
   "source": [
    "a=range(0,16)\n",
    "print(a)#迭代器\n",
    "a=range(1,16,2)\n",
    "list(a)#这样就可被打印"
   ]
  },
  {
   "cell_type": "code",
   "execution_count": null,
   "metadata": {},
   "outputs": [
    {
     "data": {
      "text/plain": [
       "[0, -1, -2, -3, -4, -5, -6, -7]"
      ]
     },
     "metadata": {},
     "output_type": "display_data"
    }
   ],
   "source": [
    "list(range(0,-8,-1))"
   ]
  },
  {
   "cell_type": "markdown",
   "metadata": {},
   "source": [
    "## 集合类型\n",
    "\n",
    "去重、无序"
   ]
  },
  {
   "cell_type": "markdown",
   "metadata": {},
   "source": [
    "- set可变\n",
    "- frozenset不可变"
   ]
  },
  {
   "cell_type": "code",
   "execution_count": 2,
   "metadata": {},
   "outputs": [
    {
     "data": {
      "text/plain": [
       "{'ap', 'ban', 'ora', 'pear'}"
      ]
     },
     "execution_count": 2,
     "metadata": {},
     "output_type": "execute_result"
    }
   ],
   "source": [
    "basket={\"ap\",\"ora\",\"ap\",\"ban\",\"pear\"}\n",
    "basket"
   ]
  },
  {
   "cell_type": "code",
   "execution_count": 3,
   "metadata": {},
   "outputs": [
    {
     "data": {
      "text/plain": [
       "True"
      ]
     },
     "execution_count": 3,
     "metadata": {},
     "output_type": "execute_result"
    }
   ],
   "source": [
    "'pear' in basket#在不在这个集合中"
   ]
  },
  {
   "cell_type": "code",
   "execution_count": 4,
   "metadata": {},
   "outputs": [
    {
     "data": {
      "text/plain": [
       "{'a', 'b', 'd', 'f', 'j', 'n', 's'}"
      ]
     },
     "execution_count": 4,
     "metadata": {},
     "output_type": "execute_result"
    }
   ],
   "source": [
    "a=set('ansbfjdsnfbaa')\n",
    "b=set('fdsaa')\n",
    "a"
   ]
  },
  {
   "cell_type": "code",
   "execution_count": 5,
   "metadata": {},
   "outputs": [
    {
     "data": {
      "text/plain": [
       "{'b', 'j', 'n'}"
      ]
     },
     "execution_count": 5,
     "metadata": {},
     "output_type": "execute_result"
    }
   ],
   "source": [
    "a-b#去除a中与b重复的元素"
   ]
  },
  {
   "cell_type": "code",
   "execution_count": 6,
   "metadata": {},
   "outputs": [
    {
     "data": {
      "text/plain": [
       "{'a', 'd', 'f', 's'}"
      ]
     },
     "execution_count": 6,
     "metadata": {},
     "output_type": "execute_result"
    }
   ],
   "source": [
    "a|b#并集\n",
    "a&b#交集"
   ]
  },
  {
   "cell_type": "code",
   "execution_count": 7,
   "metadata": {},
   "outputs": [
    {
     "data": {
      "text/plain": [
       "{'b', 'j', 'n'}"
      ]
     },
     "execution_count": 7,
     "metadata": {},
     "output_type": "execute_result"
    }
   ],
   "source": [
    "a^b#不同时包含于a和b的元素"
   ]
  },
  {
   "cell_type": "code",
   "execution_count": 9,
   "metadata": {},
   "outputs": [],
   "source": [
    "a.add(\"e\")#添加e\n",
    "a.remove(\"e\")#移除e"
   ]
  },
  {
   "cell_type": "code",
   "execution_count": 10,
   "metadata": {},
   "outputs": [],
   "source": [
    "a=frozenset(range(10))\n",
    "b=frozenset(\"runoob\")"
   ]
  },
  {
   "cell_type": "code",
   "execution_count": 11,
   "metadata": {},
   "outputs": [
    {
     "name": "stdout",
     "output_type": "stream",
     "text": [
      "2 1\n"
     ]
    }
   ],
   "source": [
    "a=1;b=2;a,b=b,a;print(a,b)"
   ]
  },
  {
   "cell_type": "markdown",
   "metadata": {},
   "source": [
    "# 字典类型(由键值对组成)"
   ]
  },
  {
   "cell_type": "code",
   "execution_count": 13,
   "metadata": {},
   "outputs": [
    {
     "name": "stdout",
     "output_type": "stream",
     "text": [
      "green 4\n",
      "{'color': 'green', 'points': 4}\n"
     ]
    }
   ],
   "source": [
    "alien={'color':'green','points':4}\n",
    "print(alien['color'],alien['points'])\n",
    "print(alien)"
   ]
  },
  {
   "cell_type": "code",
   "execution_count": 14,
   "metadata": {},
   "outputs": [],
   "source": [
    "alien[\"color\"]='yellow'"
   ]
  },
  {
   "cell_type": "code",
   "execution_count": 15,
   "metadata": {},
   "outputs": [],
   "source": [
    "del alien[\"points\"]#删除"
   ]
  },
  {
   "cell_type": "code",
   "execution_count": 21,
   "metadata": {},
   "outputs": [
    {
     "name": "stdout",
     "output_type": "stream",
     "text": [
      "dict_keys(['one', 'two', 'three', 'four']) dict_values([1, 2, 3, 4])\n"
     ]
    }
   ],
   "source": [
    "a=dict(one=1,two=2,three=3,four=4)\n",
    "akey=a.keys()#产生视图对象，当a.keys()发生变化，akey也发生变化，反过来也是\n",
    "aval=a.values()\n",
    "print(akey,aval)"
   ]
  },
  {
   "cell_type": "code",
   "execution_count": 22,
   "metadata": {},
   "outputs": [
    {
     "name": "stdout",
     "output_type": "stream",
     "text": [
      "2 {'one': 1, 'three': 3, 'four': 4}\n"
     ]
    }
   ],
   "source": [
    "b=a.pop(\"two\")#返回value\n",
    "print(b,a)"
   ]
  },
  {
   "cell_type": "code",
   "execution_count": 23,
   "metadata": {},
   "outputs": [
    {
     "data": {
      "text/plain": [
       "{'one': 1, 'two': 2, 'three': 3}"
      ]
     },
     "execution_count": 23,
     "metadata": {},
     "output_type": "execute_result"
    }
   ],
   "source": [
    "a=['one','two','three']\n",
    "b=[1,2,3]\n",
    "d=dict(zip(a,b))\n",
    "d"
   ]
  },
  {
   "cell_type": "code",
   "execution_count": 24,
   "metadata": {},
   "outputs": [
    {
     "data": {
      "text/plain": [
       "{'one': 1, 'two': 2, 'three': 3, 'four': 3, 'five': 5}"
      ]
     },
     "execution_count": 24,
     "metadata": {},
     "output_type": "execute_result"
    }
   ],
   "source": [
    "d.update({'four':3,'five':5})\n",
    "d"
   ]
  },
  {
   "cell_type": "markdown",
   "metadata": {},
   "source": [
    "# for循环"
   ]
  },
  {
   "cell_type": "code",
   "execution_count": 25,
   "metadata": {},
   "outputs": [
    {
     "name": "stdout",
     "output_type": "stream",
     "text": [
      "al\n",
      "da\n",
      "ma\n"
     ]
    }
   ],
   "source": [
    "magicians=['al','da','ma']\n",
    "for items in magicians:\n",
    "    print(items)"
   ]
  },
  {
   "cell_type": "code",
   "execution_count": 27,
   "metadata": {},
   "outputs": [
    {
     "name": "stdout",
     "output_type": "stream",
     "text": [
      "0\n",
      "1\n",
      "3\n",
      "6\n",
      "10\n",
      "15\n",
      "21\n",
      "28\n",
      "36\n",
      "45\n"
     ]
    }
   ],
   "source": [
    "msum=0\n",
    "for i in range(10):\n",
    "    #print(i)\n",
    "    msum+=i\n",
    "    #i=5   #本行代码不影响结果\n",
    "    print(msum)"
   ]
  },
  {
   "cell_type": "code",
   "execution_count": 29,
   "metadata": {},
   "outputs": [
    {
     "name": "stdout",
     "output_type": "stream",
     "text": [
      "one 1\n",
      "two 2\n",
      "three 3\n",
      "four 3\n",
      "five 5\n"
     ]
    }
   ],
   "source": [
    "for key,value in d.items():#item以元组形式返回键值对\n",
    "    print(key,value)"
   ]
  },
  {
   "cell_type": "code",
   "execution_count": 30,
   "metadata": {},
   "outputs": [
    {
     "name": "stdout",
     "output_type": "stream",
     "text": [
      "ji\n",
      "iojo\n",
      "jiojoi\n",
      "quir\n",
      "quit\n"
     ]
    }
   ],
   "source": [
    "message=\"\"\n",
    "while message!=\"quit\":\n",
    "    message=input(\"quit to quit\")\n",
    "    print(message)"
   ]
  },
  {
   "cell_type": "code",
   "execution_count": null,
   "metadata": {},
   "outputs": [],
   "source": [
    "for i in range(10):\n",
    "    if i%2==0:\n",
    "        continue\n",
    "    else:\n",
    "        print(i)"
   ]
  },
  {
   "cell_type": "code",
   "execution_count": 1,
   "metadata": {},
   "outputs": [
    {
     "data": {
      "text/plain": [
       "[0, 1, 4, 9, 16, 25, 36, 49, 64, 81]"
      ]
     },
     "execution_count": 1,
     "metadata": {},
     "output_type": "execute_result"
    }
   ],
   "source": [
    "[x**2 for x in range(10)]"
   ]
  },
  {
   "cell_type": "code",
   "execution_count": 2,
   "metadata": {},
   "outputs": [
    {
     "data": {
      "text/plain": [
       "[(1, 3), (1, 4), (2, 3), (2, 1), (2, 4), (3, 1), (3, 4)]"
      ]
     },
     "execution_count": 2,
     "metadata": {},
     "output_type": "execute_result"
    }
   ],
   "source": [
    "[(x,y) for x in [1,2,3] for y in [3,1,4] if x != y]"
   ]
  },
  {
   "cell_type": "code",
   "execution_count": 3,
   "metadata": {},
   "outputs": [],
   "source": [
    "pet=['cat','cat','cat']\n",
    "while 'cat' in pet:\n",
    "    pet.remove(\"cat\")"
   ]
  },
  {
   "cell_type": "markdown",
   "metadata": {},
   "source": [
    "# 逻辑表达式"
   ]
  },
  {
   "cell_type": "markdown",
   "metadata": {},
   "source": [
    "and or in 是常用逻辑连接词，not是否定词"
   ]
  },
  {
   "cell_type": "code",
   "execution_count": 7,
   "metadata": {},
   "outputs": [
    {
     "name": "stdout",
     "output_type": "stream",
     "text": [
      "is under 4\n"
     ]
    }
   ],
   "source": [
    "age=int(input(\"input a number\"))\n",
    "if age<4:\n",
    "    print(\"is under 4\")\n",
    "elif age<18:\n",
    "    print(\"above 4 under 18\")\n",
    "else:\n",
    "    print(\"above 18\")"
   ]
  },
  {
   "cell_type": "markdown",
   "metadata": {},
   "source": [
    "# 函数"
   ]
  },
  {
   "cell_type": "code",
   "execution_count": 10,
   "metadata": {},
   "outputs": [
    {
     "name": "stdout",
     "output_type": "stream",
     "text": [
      "Hello, kitty\n",
      "john\n"
     ]
    }
   ],
   "source": [
    "namel='john'\n",
    "def greet(name):#name是形参，'john'是实参，过程同赋值的过程，这里的实参不可变，\n",
    "    \"\"\"显示问候语，这是函数的注释\"\"\"\n",
    "    name='kitty'#改变形参未影响实参，这是不可变类型；可变类型则会影响\n",
    "    print(\"Hello, %s\"%name)   \n",
    "greet(namel)\n",
    "print(namel)"
   ]
  },
  {
   "cell_type": "code",
   "execution_count": 25,
   "metadata": {},
   "outputs": [
    {
     "name": "stdout",
     "output_type": "stream",
     "text": [
      "hello, hu. hello, gang.\n",
      "['john', 'kitty']\n"
     ]
    }
   ],
   "source": [
    "namel=['john','kitty']\n",
    "def greetl(name):\n",
    "    name=['hu','gang']#则不变，换了一个对象指，name和namel互不影响了\n",
    "    print(\"hello, %s.\"%name[0],'hello, %s.'%name[1])\n",
    "greetl(namel)\n",
    "print(namel)"
   ]
  },
  {
   "cell_type": "code",
   "execution_count": 21,
   "metadata": {},
   "outputs": [
    {
     "name": "stdout",
     "output_type": "stream",
     "text": [
      "['hu', 'gang']\n",
      "['kitty', 'gang']\n",
      "['kitty', 'gang']\n"
     ]
    }
   ],
   "source": [
    "name=['hu','gang']\n",
    "def greet_user(uname):\n",
    "    print(uname)\n",
    "    uname[0]='kitty'#则变，uname和name还是指向一个地方，会互相影响\n",
    "    print(uname)\n",
    "greet_user(name)\n",
    "print(name)"
   ]
  },
  {
   "cell_type": "markdown",
   "metadata": {},
   "source": [
    "## 传参"
   ]
  },
  {
   "cell_type": "markdown",
   "metadata": {},
   "source": [
    "- 位置实参\n",
    "- 关键字实参：关键字=实参（此时不用在意位置）\n",
    "- 参数默认值，在定义时用等号写上默认值，在传参时可以进行改变，也可以缺省；有默认值的参数在定义时一定要写在后面。\n",
    "  - 形参列表必须先列出无默认值的形参！\n",
    "- 返回值：返回单个值时略，返回多个值时：缺省则会返回一个元组；当然可以返回其他类型的\n"
   ]
  },
  {
   "cell_type": "code",
   "execution_count": 29,
   "metadata": {},
   "outputs": [
    {
     "name": "stdout",
     "output_type": "stream",
     "text": [
      "(1, 2)\n",
      "1\n",
      "1\n"
     ]
    }
   ],
   "source": [
    "from re import T\n",
    "\n",
    "\n",
    "def tuplere(one=1,two=2):\n",
    "    return one,two\n",
    "print(tuplere())\n",
    "a,b=tuplere()\n",
    "print(a)\n",
    "a,_=tuplere()\n",
    "print(a)"
   ]
  },
  {
   "cell_type": "markdown",
   "metadata": {},
   "source": [
    "### 传递任意数量的实参"
   ]
  },
  {
   "cell_type": "code",
   "execution_count": 34,
   "metadata": {},
   "outputs": [
    {
     "name": "stdout",
     "output_type": "stream",
     "text": [
      "12\n",
      "-p\n",
      "13\n",
      "-p\n",
      "-a\n",
      "-z\n"
     ]
    }
   ],
   "source": [
    "def make(size,*toppings):#带*的参数必须在后面，避免引起歧义\n",
    "    print(size)\n",
    "    for top in toppings:#一个*是创建一个元组，不能产生关键字\n",
    "        print('-'+top)\n",
    "make(12,'p')\n",
    "make(13,'p','a','z')"
   ]
  },
  {
   "cell_type": "code",
   "execution_count": 35,
   "metadata": {},
   "outputs": [
    {
     "ename": "SyntaxError",
     "evalue": "invalid syntax (1274838249.py, line 3)",
     "output_type": "error",
     "traceback": [
      "\u001b[1;36m  Cell \u001b[1;32mIn [35], line 3\u001b[1;36m\u001b[0m\n\u001b[1;33m    pro[]\u001b[0m\n\u001b[1;37m        ^\u001b[0m\n\u001b[1;31mSyntaxError\u001b[0m\u001b[1;31m:\u001b[0m invalid syntax\n"
     ]
    }
   ],
   "source": [
    "from distutils.command.build_scripts import first_line_re\n",
    "\n",
    "\n",
    "def file(first,last,**info):#两个*是创建一个空字典\n",
    "    pro={}\n",
    "    pro[\"first\"]=first\n",
    "    pro [\"last\"]=last\n",
    "    for key,value in info.items():\n",
    "        pro[key]=value\n",
    "    return pro"
   ]
  },
  {
   "cell_type": "markdown",
   "metadata": {},
   "source": [
    "## 函数和匿名函数"
   ]
  },
  {
   "cell_type": "markdown",
   "metadata": {},
   "source": [
    "函数也是对象，也可以作为列表的元素"
   ]
  },
  {
   "cell_type": "code",
   "execution_count": 3,
   "metadata": {},
   "outputs": [
    {
     "name": "stdout",
     "output_type": "stream",
     "text": [
      "fun1\n",
      "fun2\n"
     ]
    }
   ],
   "source": [
    "def fun1():\n",
    "    print(\"fun1\")\n",
    "def fun2():\n",
    "    print(\"fun2\")\n",
    "funs=[fun1,fun2]\n",
    "for fun in funs:\n",
    "    fun()"
   ]
  },
  {
   "cell_type": "markdown",
   "metadata": {},
   "source": [
    "匿名函数"
   ]
  },
  {
   "cell_type": "code",
   "execution_count": 7,
   "metadata": {},
   "outputs": [
    {
     "name": "stdout",
     "output_type": "stream",
     "text": [
      "['aaaa', 'foo', 'abab', 'bar', 'card']\n"
     ]
    }
   ],
   "source": [
    "def fun(alist,f):\n",
    "    return [f(x) for x in alist]\n",
    "a=[1,2,3,4]\n",
    "fun(a,lambda x:x**2)#传进去一个函数对象（不能加括号，因为不是在那调用函数）\n",
    "\n",
    "strings=['foo','card','bar','aaaa','abab']\n",
    "strings.sort(key=lambda x:len(set(list(x))))\n",
    "#去重之后按长度排序，这里的匿名函数返回一个数组，按这个数组的对应关系排序\n",
    "print(strings)"
   ]
  },
  {
   "cell_type": "markdown",
   "metadata": {},
   "source": [
    "# 错误与异常处理"
   ]
  },
  {
   "cell_type": "markdown",
   "metadata": {},
   "source": [
    "一般情况下，出现一个错误会终止程序的运行。希望避免这种情况。使用try...except"
   ]
  },
  {
   "cell_type": "code",
   "execution_count": null,
   "metadata": {},
   "outputs": [
    {
     "name": "stdout",
     "output_type": "stream",
     "text": [
      "1.234\n",
      "something\n"
     ]
    }
   ],
   "source": [
    "def attempt_float(x):\n",
    "    try:\n",
    "        return float(x)\n",
    "    except:     #except掉所有错误\n",
    "        return x\n",
    "print(attempt_float('1.234'))\n",
    "print(attempt_float(\"something\"))"
   ]
  },
  {
   "cell_type": "code",
   "execution_count": null,
   "metadata": {},
   "outputs": [
    {
     "data": {
      "text/plain": [
       "[0, 2, 3]"
      ]
     },
     "metadata": {},
     "output_type": "display_data"
    }
   ],
   "source": [
    "def changevalue(a):\n",
    "    try:  \n",
    "        a[0]=0\n",
    "    except TypeError:  #except掉一类错误，对不同错误类型处理不同\n",
    "        print(\"Type error!\")\n",
    "    return a\n",
    "changevalue([1,2,3])"
   ]
  },
  {
   "cell_type": "code",
   "execution_count": null,
   "metadata": {},
   "outputs": [],
   "source": []
  }
 ],
 "metadata": {
  "kernelspec": {
   "display_name": "Python 3.10.6 64-bit",
   "language": "python",
   "name": "python3"
  },
  "language_info": {
   "codemirror_mode": {
    "name": "ipython",
    "version": 3
   },
   "file_extension": ".py",
   "mimetype": "text/x-python",
   "name": "python",
   "nbconvert_exporter": "python",
   "pygments_lexer": "ipython3",
   "version": "3.10.6"
  },
  "orig_nbformat": 4,
  "vscode": {
   "interpreter": {
    "hash": "dbd5104f6212b1fc6f64e8e19ae2007e53f3ed0d4bd4f1dbbcdf8e035cfbf35c"
   }
  }
 },
 "nbformat": 4,
 "nbformat_minor": 2
}
