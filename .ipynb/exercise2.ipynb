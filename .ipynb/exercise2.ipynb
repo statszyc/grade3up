{
 "cells": [
  {
   "cell_type": "markdown",
   "metadata": {},
   "source": [
    "第一问"
   ]
  },
  {
   "cell_type": "markdown",
   "metadata": {},
   "source": [
    "熟食店：创建一个名为sandwich_orders 的列表，在其中包含各种三明治的名\n",
    "字；再创建一个名为finished_sandwiches 的空列表。遍历列表sandwich_orders，对于\n",
    "其中的每种三明治，都打印一条消息，如I made your tuna sandwich，并将其移到列表\n",
    "finished_sandwiches。所有三明治都制作好后，打印一条消息，将这些三明治列出来。"
   ]
  },
  {
   "cell_type": "code",
   "execution_count": 1,
   "metadata": {},
   "outputs": [
    {
     "name": "stdout",
     "output_type": "stream",
     "text": [
      "I made your tuna sandwich\n",
      "I made your pastrami sandwich\n",
      "I made your pastrami sandwich\n",
      "I made your pastrami sandwich\n",
      "I made your Chacarero sandwich\n",
      "I made your Cemita sandwich\n",
      "I made your Chivito sandwich\n",
      "We have made tuna sandwich, pastrami sandwich, pastrami sandwich, pastrami sandwich, Chacarero sandwich, Cemita sandwich, Chivito sandwich\n"
     ]
    }
   ],
   "source": [
    "sandwich_orders=['tuna', \"pastrami\", \"pastrami\", \"pastrami\",\"Chacarero\",\"Cemita\",\"Chivito\"]\n",
    "finished_sandwiches=[]\n",
    "for sandwich in sandwich_orders:\n",
    "    print(\"I made your %s sandwich\"%sandwich)\n",
    "    #sandwich_orders.remove(sandwich)\n",
    "    finished_sandwiches.append(sandwich)\n",
    "print(\"We have made \"+' sandwich, '.join(finished_sandwiches)+\" sandwich\")"
   ]
  },
  {
   "cell_type": "markdown",
   "metadata": {},
   "source": [
    "第二问"
   ]
  },
  {
   "cell_type": "markdown",
   "metadata": {},
   "source": [
    "五香烟熏牛肉（pastrami）卖完了：使用为完成练习1 而创建的列表\n",
    "sandwich_orders，并确保'pastrami'在其中至少出现了三次。在程序开头附近添加这样\n",
    "的代码：打印一条消息，指出熟食店的五香烟熏牛肉卖完了；再使用一个while 循环将\n",
    "列表sandwich_orders 中的'pastrami'都删除。确认最终的列表finished_sandwiches 中\n",
    "不包含'pastrami'。"
   ]
  },
  {
   "cell_type": "code",
   "execution_count": 2,
   "metadata": {},
   "outputs": [
    {
     "name": "stdout",
     "output_type": "stream",
     "text": [
      "We have sold out our pastrami\n",
      "This is our sandwich_orders: ['tuna', 'Chacarero', 'Cemita', 'Chivito']\n"
     ]
    }
   ],
   "source": [
    "print(\"We have sold out our pastrami\")\n",
    "while \"pastrami\" in sandwich_orders:\n",
    "    sandwich_orders.remove(\"pastrami\")\n",
    "print(\"This is our sandwich_orders: \"+str(sandwich_orders))"
   ]
  },
  {
   "cell_type": "markdown",
   "metadata": {},
   "source": [
    "第三问"
   ]
  },
  {
   "cell_type": "markdown",
   "metadata": {},
   "source": [
    "梦想的度假胜地：编写一个程序，调查用户梦想的度假胜地。使用类似于“If\n",
    "you could visit one place in the world, where would you go?”\n",
    "的提示，并编写一个打印调查结果的代码块。"
   ]
  },
  {
   "cell_type": "markdown",
   "metadata": {},
   "source": [
    "键盘输入：yes\\nParis\\nno"
   ]
  },
  {
   "cell_type": "code",
   "execution_count": 3,
   "metadata": {},
   "outputs": [
    {
     "name": "stdout",
     "output_type": "stream",
     "text": [
      "The place people dream going is Paris\n"
     ]
    }
   ],
   "source": [
    "dream_place=\"\"\n",
    "while input(\"Will you take our investigation? yes/no\") != \"no\":\n",
    "    dream_place=input(\"If you could visit one place in the world, where would you go?\")\n",
    "    print(\"The place people dream going is \"+dream_place)\n"
   ]
  },
  {
   "cell_type": "markdown",
   "metadata": {},
   "source": [
    "第四问"
   ]
  },
  {
   "cell_type": "markdown",
   "metadata": {},
   "source": [
    "大饼卷一切：编写一个函数，它接受顾客要在大饼中添加的一系列食材。这个\n",
    "函数只有一个形参（它收集函数调用中提供的所有食材），并打印一条消息，对顾客点\n",
    "的大饼卷一切进行概述。调用这个函数三次，每次都提供不同数量的实参。"
   ]
  },
  {
   "cell_type": "code",
   "execution_count": 4,
   "metadata": {},
   "outputs": [
    {
     "name": "stdout",
     "output_type": "stream",
     "text": [
      "There are lettice, banana in this big pie\n",
      "There are apple, tomato, potato in this big pie\n",
      "There are cabbage, cucumber, juice, orange in this big pie\n"
     ]
    }
   ],
   "source": [
    "def bigpie(*toppings):\n",
    "    print(\"There are \"+\", \".join(toppings)+\" in this big pie\")\n",
    "bigpie(\"lettice\",\"banana\")\n",
    "bigpie(\"apple\",\"tomato\",\"potato\")\n",
    "bigpie(\"cabbage\",\"cucumber\",\"juice\",\"orange\")"
   ]
  },
  {
   "cell_type": "markdown",
   "metadata": {},
   "source": [
    "第五问"
   ]
  },
  {
   "cell_type": "markdown",
   "metadata": {},
   "source": [
    " 同学：编写一个函数，将班级同学的信息存储在一个字典中。这个函数总是接\n",
    "受姓名和学号，还接受任意数量的关键字实参。这样调用这个函数：提供必不可少的\n",
    "信息，以及两个名称—值对，如颜色和选装配件。这个函数必须能够像下面这样进行调用：\n",
    "car = classmate('Li', 'Lei', gender='male', age=18)\n",
    "打印返回的字典，确认正确地处理了所有的信息。"
   ]
  },
  {
   "cell_type": "code",
   "execution_count": 5,
   "metadata": {},
   "outputs": [
    {
     "name": "stdout",
     "output_type": "stream",
     "text": [
      "{'name': 'Li Lei', 'stu_number': '2013554', 'gender': 'male', 'age': 18}\n"
     ]
    }
   ],
   "source": [
    "def classmate(name,stu_number,**info):\n",
    "    infos={}\n",
    "    infos[\"name\"]=name\n",
    "    infos[\"stu_number\"]=stu_number\n",
    "    for key,value in info.items():\n",
    "        infos[key]=value\n",
    "    return infos\n",
    "car = classmate('Li Lei', '2013554', gender='male', age=18)\n",
    "print(car)"
   ]
  },
  {
   "cell_type": "code",
   "execution_count": null,
   "metadata": {},
   "outputs": [],
   "source": []
  }
 ],
 "metadata": {
  "kernelspec": {
   "display_name": "Python 3.10.6 64-bit",
   "language": "python",
   "name": "python3"
  },
  "language_info": {
   "codemirror_mode": {
    "name": "ipython",
    "version": 3
   },
   "file_extension": ".py",
   "mimetype": "text/x-python",
   "name": "python",
   "nbconvert_exporter": "python",
   "pygments_lexer": "ipython3",
   "version": "3.10.6"
  },
  "orig_nbformat": 4,
  "vscode": {
   "interpreter": {
    "hash": "dbd5104f6212b1fc6f64e8e19ae2007e53f3ed0d4bd4f1dbbcdf8e035cfbf35c"
   }
  }
 },
 "nbformat": 4,
 "nbformat_minor": 2
}
