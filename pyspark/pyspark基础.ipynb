{
 "cells": [
  {
   "cell_type": "markdown",
   "metadata": {},
   "source": [
    "# 创建RDD"
   ]
  },
  {
   "cell_type": "code",
   "execution_count": 2,
   "metadata": {},
   "outputs": [],
   "source": [
    "import findspark\n",
    "findspark.init()\n",
    "from pyspark.sql import SparkSession\n",
    "spark=SparkSession.builder.appName(\"A\").config(\"B\",\"C\").getOrCreate()\n",
    "#\"\"里面的内容都随意"
   ]
  },
  {
   "cell_type": "code",
   "execution_count": 2,
   "metadata": {},
   "outputs": [],
   "source": [
    "myData=spark.sparkContext.parallelize([(1,2),(3,4),(5,6)])\n",
    "#创建了一个RDD"
   ]
  },
  {
   "cell_type": "code",
   "execution_count": 3,
   "metadata": {},
   "outputs": [
    {
     "data": {
      "text/plain": [
       "[(1, 2), (3, 4), (5, 6)]"
      ]
     },
     "execution_count": 3,
     "metadata": {},
     "output_type": "execute_result"
    }
   ],
   "source": [
    "myData.collect()"
   ]
  },
  {
   "cell_type": "markdown",
   "metadata": {},
   "source": [
    "# 创建DataFrame"
   ]
  },
  {
   "cell_type": "markdown",
   "metadata": {},
   "source": [
    "## RDD.toDF"
   ]
  },
  {
   "cell_type": "code",
   "execution_count": 4,
   "metadata": {},
   "outputs": [
    {
     "name": "stdout",
     "output_type": "stream",
     "text": [
      "+---+---+\n",
      "|  A|  B|\n",
      "+---+---+\n",
      "|  1|  2|\n",
      "|  3|  4|\n",
      "|  5|  6|\n",
      "+---+---+\n",
      "\n"
     ]
    }
   ],
   "source": [
    "myData.toDF([\"A\",\"B\"]).show()"
   ]
  },
  {
   "cell_type": "markdown",
   "metadata": {},
   "source": [
    "## spark.createDataFrame()\n",
    "\n",
    "local -> DF(RDD)"
   ]
  },
  {
   "cell_type": "code",
   "execution_count": 5,
   "metadata": {},
   "outputs": [],
   "source": [
    "my_list=[['a',1,2],['b',2,3],['c',3,4]]\n",
    "col_name=['A','B','C']\n",
    "df=spark.createDataFrame(my_list,col_name)"
   ]
  },
  {
   "cell_type": "code",
   "execution_count": 6,
   "metadata": {},
   "outputs": [
    {
     "name": "stdout",
     "output_type": "stream",
     "text": [
      "+---+---+---+\n",
      "|  A|  B|  C|\n",
      "+---+---+---+\n",
      "|  a|  1|  2|\n",
      "|  b|  2|  3|\n",
      "|  c|  3|  4|\n",
      "+---+---+---+\n",
      "\n"
     ]
    }
   ],
   "source": [
    "df.show()"
   ]
  },
  {
   "cell_type": "markdown",
   "metadata": {},
   "source": [
    "## 读入外部数据\n",
    "\n"
   ]
  },
  {
   "cell_type": "markdown",
   "metadata": {},
   "source": [
    "### spark.read.format()"
   ]
  },
  {
   "cell_type": "code",
   "execution_count": 7,
   "metadata": {},
   "outputs": [],
   "source": [
    "df=spark.read.format('com.databricks.spark.csv').options(header='true',inferchema='true').\\\n",
    "    load(\".//data//Advertising.csv\",header=True) \n",
    "#header: 表头, inferschema: 自动推断数据类型"
   ]
  },
  {
   "cell_type": "code",
   "execution_count": 8,
   "metadata": {},
   "outputs": [
    {
     "name": "stdout",
     "output_type": "stream",
     "text": [
      "+-----+-----+---------+-----+\n",
      "|   TV|radio|newspaper|sales|\n",
      "+-----+-----+---------+-----+\n",
      "|230.1| 37.8|     69.2| 22.1|\n",
      "| 44.5| 39.3|     45.1| 10.4|\n",
      "| 17.2| 45.9|     69.3|  9.3|\n",
      "|151.5| 41.3|     58.5| 18.5|\n",
      "|180.8| 10.8|     58.4| 12.9|\n",
      "|  8.7| 48.9|       75|  7.2|\n",
      "| 57.5| 32.8|     23.5| 11.8|\n",
      "|120.2| 19.6|     11.6| 13.2|\n",
      "|  8.6|  2.1|        1|  4.8|\n",
      "|199.8|  2.6|     21.2| 10.6|\n",
      "| 66.1|  5.8|     24.2|  8.6|\n",
      "|214.7|   24|        4| 17.4|\n",
      "| 23.8| 35.1|     65.9|  9.2|\n",
      "| 97.5|  7.6|      7.2|  9.7|\n",
      "|204.1| 32.9|       46|   19|\n",
      "|195.4| 47.7|     52.9| 22.4|\n",
      "| 67.8| 36.6|      114| 12.5|\n",
      "|281.4| 39.6|     55.8| 24.4|\n",
      "| 69.2| 20.5|     18.3| 11.3|\n",
      "|147.3| 23.9|     19.1| 14.6|\n",
      "+-----+-----+---------+-----+\n",
      "only showing top 20 rows\n",
      "\n"
     ]
    }
   ],
   "source": [
    "df.show()"
   ]
  },
  {
   "cell_type": "markdown",
   "metadata": {},
   "source": [
    "### read.csv()"
   ]
  },
  {
   "cell_type": "code",
   "execution_count": 9,
   "metadata": {},
   "outputs": [],
   "source": [
    "ds=spark.read.csv(path='./data/Advertising.csv',header=True,inferSchema=True)"
   ]
  },
  {
   "cell_type": "code",
   "execution_count": 10,
   "metadata": {},
   "outputs": [
    {
     "name": "stdout",
     "output_type": "stream",
     "text": [
      "+-----+-----+---------+-----+\n",
      "|   TV|radio|newspaper|sales|\n",
      "+-----+-----+---------+-----+\n",
      "|230.1| 37.8|     69.2| 22.1|\n",
      "| 44.5| 39.3|     45.1| 10.4|\n",
      "| 17.2| 45.9|     69.3|  9.3|\n",
      "+-----+-----+---------+-----+\n",
      "only showing top 3 rows\n",
      "\n"
     ]
    }
   ],
   "source": [
    "ds.show(3) #只看3行"
   ]
  },
  {
   "cell_type": "markdown",
   "metadata": {},
   "source": [
    "# spark dataframe的基本操作"
   ]
  },
  {
   "cell_type": "code",
   "execution_count": 11,
   "metadata": {},
   "outputs": [
    {
     "data": {
      "text/html": [
       "<div>\n",
       "<style scoped>\n",
       "    .dataframe tbody tr th:only-of-type {\n",
       "        vertical-align: middle;\n",
       "    }\n",
       "\n",
       "    .dataframe tbody tr th {\n",
       "        vertical-align: top;\n",
       "    }\n",
       "\n",
       "    .dataframe thead th {\n",
       "        text-align: right;\n",
       "    }\n",
       "</style>\n",
       "<table border=\"1\" class=\"dataframe\">\n",
       "  <thead>\n",
       "    <tr style=\"text-align: right;\">\n",
       "      <th></th>\n",
       "      <th>TV</th>\n",
       "      <th>radio</th>\n",
       "      <th>newspaper</th>\n",
       "      <th>sales</th>\n",
       "    </tr>\n",
       "  </thead>\n",
       "  <tbody>\n",
       "    <tr>\n",
       "      <th>0</th>\n",
       "      <td>230.1</td>\n",
       "      <td>37.8</td>\n",
       "      <td>69.2</td>\n",
       "      <td>22.1</td>\n",
       "    </tr>\n",
       "    <tr>\n",
       "      <th>1</th>\n",
       "      <td>44.5</td>\n",
       "      <td>39.3</td>\n",
       "      <td>45.1</td>\n",
       "      <td>10.4</td>\n",
       "    </tr>\n",
       "    <tr>\n",
       "      <th>2</th>\n",
       "      <td>17.2</td>\n",
       "      <td>45.9</td>\n",
       "      <td>69.3</td>\n",
       "      <td>9.3</td>\n",
       "    </tr>\n",
       "    <tr>\n",
       "      <th>3</th>\n",
       "      <td>151.5</td>\n",
       "      <td>41.3</td>\n",
       "      <td>58.5</td>\n",
       "      <td>18.5</td>\n",
       "    </tr>\n",
       "    <tr>\n",
       "      <th>4</th>\n",
       "      <td>180.8</td>\n",
       "      <td>10.8</td>\n",
       "      <td>58.4</td>\n",
       "      <td>12.9</td>\n",
       "    </tr>\n",
       "    <tr>\n",
       "      <th>...</th>\n",
       "      <td>...</td>\n",
       "      <td>...</td>\n",
       "      <td>...</td>\n",
       "      <td>...</td>\n",
       "    </tr>\n",
       "    <tr>\n",
       "      <th>195</th>\n",
       "      <td>38.2</td>\n",
       "      <td>3.7</td>\n",
       "      <td>13.8</td>\n",
       "      <td>7.6</td>\n",
       "    </tr>\n",
       "    <tr>\n",
       "      <th>196</th>\n",
       "      <td>94.2</td>\n",
       "      <td>4.9</td>\n",
       "      <td>8.1</td>\n",
       "      <td>9.7</td>\n",
       "    </tr>\n",
       "    <tr>\n",
       "      <th>197</th>\n",
       "      <td>177</td>\n",
       "      <td>9.3</td>\n",
       "      <td>6.4</td>\n",
       "      <td>12.8</td>\n",
       "    </tr>\n",
       "    <tr>\n",
       "      <th>198</th>\n",
       "      <td>283.6</td>\n",
       "      <td>42</td>\n",
       "      <td>66.2</td>\n",
       "      <td>25.5</td>\n",
       "    </tr>\n",
       "    <tr>\n",
       "      <th>199</th>\n",
       "      <td>232.1</td>\n",
       "      <td>8.6</td>\n",
       "      <td>8.7</td>\n",
       "      <td>13.4</td>\n",
       "    </tr>\n",
       "  </tbody>\n",
       "</table>\n",
       "<p>200 rows × 4 columns</p>\n",
       "</div>"
      ],
      "text/plain": [
       "        TV radio newspaper sales\n",
       "0    230.1  37.8      69.2  22.1\n",
       "1     44.5  39.3      45.1  10.4\n",
       "2     17.2  45.9      69.3   9.3\n",
       "3    151.5  41.3      58.5  18.5\n",
       "4    180.8  10.8      58.4  12.9\n",
       "..     ...   ...       ...   ...\n",
       "195   38.2   3.7      13.8   7.6\n",
       "196   94.2   4.9       8.1   9.7\n",
       "197    177   9.3       6.4  12.8\n",
       "198  283.6    42      66.2  25.5\n",
       "199  232.1   8.6       8.7  13.4\n",
       "\n",
       "[200 rows x 4 columns]"
      ]
     },
     "execution_count": 11,
     "metadata": {},
     "output_type": "execute_result"
    }
   ],
   "source": [
    "df.toPandas()\n",
    "#这是Pandas dataframe，不是分布式的了（只在主节点上）"
   ]
  },
  {
   "cell_type": "code",
   "execution_count": 12,
   "metadata": {},
   "outputs": [
    {
     "name": "stdout",
     "output_type": "stream",
     "text": [
      "['TV', 'radio', 'newspaper', 'sales']\n",
      "[('TV', 'string'), ('radio', 'string'), ('newspaper', 'string'), ('sales', 'string')]\n"
     ]
    }
   ],
   "source": [
    "print(df.columns)\n",
    "print(df.dtypes)"
   ]
  },
  {
   "cell_type": "markdown",
   "metadata": {},
   "source": [
    "## 缺失值处理"
   ]
  },
  {
   "cell_type": "code",
   "execution_count": 13,
   "metadata": {},
   "outputs": [
    {
     "data": {
      "text/html": [
       "<div>\n",
       "<style scoped>\n",
       "    .dataframe tbody tr th:only-of-type {\n",
       "        vertical-align: middle;\n",
       "    }\n",
       "\n",
       "    .dataframe tbody tr th {\n",
       "        vertical-align: top;\n",
       "    }\n",
       "\n",
       "    .dataframe thead th {\n",
       "        text-align: right;\n",
       "    }\n",
       "</style>\n",
       "<table border=\"1\" class=\"dataframe\">\n",
       "  <thead>\n",
       "    <tr style=\"text-align: right;\">\n",
       "      <th></th>\n",
       "      <th>A</th>\n",
       "      <th>B</th>\n",
       "      <th>C</th>\n",
       "    </tr>\n",
       "  </thead>\n",
       "  <tbody>\n",
       "    <tr>\n",
       "      <th>0</th>\n",
       "      <td>male</td>\n",
       "      <td>1</td>\n",
       "      <td>NaN</td>\n",
       "    </tr>\n",
       "    <tr>\n",
       "      <th>1</th>\n",
       "      <td>female</td>\n",
       "      <td>2</td>\n",
       "      <td>3.0</td>\n",
       "    </tr>\n",
       "    <tr>\n",
       "      <th>2</th>\n",
       "      <td>male</td>\n",
       "      <td>3</td>\n",
       "      <td>4.0</td>\n",
       "    </tr>\n",
       "  </tbody>\n",
       "</table>\n",
       "</div>"
      ],
      "text/plain": [
       "        A  B    C\n",
       "0    male  1  NaN\n",
       "1  female  2  3.0\n",
       "2    male  3  4.0"
      ]
     },
     "execution_count": 13,
     "metadata": {},
     "output_type": "execute_result"
    }
   ],
   "source": [
    "import pandas as pd\n",
    "my_list=[['male',1,None],['female',2,3],['male',3,4]]\n",
    "dp=pd.DataFrame(my_list,columns=['A','B','C'])\n",
    "dp"
   ]
  },
  {
   "cell_type": "code",
   "execution_count": 14,
   "metadata": {},
   "outputs": [
    {
     "name": "stdout",
     "output_type": "stream",
     "text": [
      "+------+---+----+\n",
      "|     A|  B|   C|\n",
      "+------+---+----+\n",
      "|  male|  1|null|\n",
      "|female|  2|   3|\n",
      "|  male|  3|   4|\n",
      "+------+---+----+\n",
      "\n"
     ]
    }
   ],
   "source": [
    "ds=spark.createDataFrame(my_list,['A','B','C'])\n",
    "ds.show()"
   ]
  },
  {
   "cell_type": "code",
   "execution_count": 15,
   "metadata": {},
   "outputs": [
    {
     "data": {
      "text/html": [
       "<div>\n",
       "<style scoped>\n",
       "    .dataframe tbody tr th:only-of-type {\n",
       "        vertical-align: middle;\n",
       "    }\n",
       "\n",
       "    .dataframe tbody tr th {\n",
       "        vertical-align: top;\n",
       "    }\n",
       "\n",
       "    .dataframe thead th {\n",
       "        text-align: right;\n",
       "    }\n",
       "</style>\n",
       "<table border=\"1\" class=\"dataframe\">\n",
       "  <thead>\n",
       "    <tr style=\"text-align: right;\">\n",
       "      <th></th>\n",
       "      <th>A</th>\n",
       "      <th>B</th>\n",
       "      <th>C</th>\n",
       "    </tr>\n",
       "  </thead>\n",
       "  <tbody>\n",
       "    <tr>\n",
       "      <th>0</th>\n",
       "      <td>male</td>\n",
       "      <td>1</td>\n",
       "      <td>-99.0</td>\n",
       "    </tr>\n",
       "    <tr>\n",
       "      <th>1</th>\n",
       "      <td>female</td>\n",
       "      <td>2</td>\n",
       "      <td>3.0</td>\n",
       "    </tr>\n",
       "    <tr>\n",
       "      <th>2</th>\n",
       "      <td>male</td>\n",
       "      <td>3</td>\n",
       "      <td>4.0</td>\n",
       "    </tr>\n",
       "  </tbody>\n",
       "</table>\n",
       "</div>"
      ],
      "text/plain": [
       "        A  B     C\n",
       "0    male  1 -99.0\n",
       "1  female  2   3.0\n",
       "2    male  3   4.0"
      ]
     },
     "execution_count": 15,
     "metadata": {},
     "output_type": "execute_result"
    }
   ],
   "source": [
    "dp=dp.fillna(-99)\n",
    "dp"
   ]
  },
  {
   "cell_type": "code",
   "execution_count": 16,
   "metadata": {},
   "outputs": [
    {
     "name": "stdout",
     "output_type": "stream",
     "text": [
      "+------+---+---+\n",
      "|     A|  B|  C|\n",
      "+------+---+---+\n",
      "|  male|  1|-99|\n",
      "|female|  2|  3|\n",
      "|  male|  3|  4|\n",
      "+------+---+---+\n",
      "\n"
     ]
    }
   ],
   "source": [
    "ds=ds.fillna(-99) #不是inplace型的\n",
    "ds.show()"
   ]
  },
  {
   "cell_type": "markdown",
   "metadata": {},
   "source": [
    "## 替换\n",
    "\n",
    "字符型类型变量转换成1和0"
   ]
  },
  {
   "cell_type": "code",
   "execution_count": 17,
   "metadata": {},
   "outputs": [
    {
     "name": "stdout",
     "output_type": "stream",
     "text": [
      "+---+---+---+\n",
      "|  A|  B|  C|\n",
      "+---+---+---+\n",
      "|  1|  1|-99|\n",
      "|  0|  2|  3|\n",
      "|  1|  3|  4|\n",
      "+---+---+---+\n",
      "\n"
     ]
    }
   ],
   "source": [
    "ds.na.replace(['male','female'],['1','0']).show()"
   ]
  },
  {
   "cell_type": "code",
   "execution_count": 18,
   "metadata": {},
   "outputs": [
    {
     "data": {
      "text/html": [
       "<div>\n",
       "<style scoped>\n",
       "    .dataframe tbody tr th:only-of-type {\n",
       "        vertical-align: middle;\n",
       "    }\n",
       "\n",
       "    .dataframe tbody tr th {\n",
       "        vertical-align: top;\n",
       "    }\n",
       "\n",
       "    .dataframe thead th {\n",
       "        text-align: right;\n",
       "    }\n",
       "</style>\n",
       "<table border=\"1\" class=\"dataframe\">\n",
       "  <thead>\n",
       "    <tr style=\"text-align: right;\">\n",
       "      <th></th>\n",
       "      <th>A</th>\n",
       "      <th>B</th>\n",
       "      <th>C</th>\n",
       "    </tr>\n",
       "  </thead>\n",
       "  <tbody>\n",
       "    <tr>\n",
       "      <th>0</th>\n",
       "      <td>1</td>\n",
       "      <td>1</td>\n",
       "      <td>-99.0</td>\n",
       "    </tr>\n",
       "    <tr>\n",
       "      <th>1</th>\n",
       "      <td>0</td>\n",
       "      <td>2</td>\n",
       "      <td>3.0</td>\n",
       "    </tr>\n",
       "    <tr>\n",
       "      <th>2</th>\n",
       "      <td>1</td>\n",
       "      <td>3</td>\n",
       "      <td>4.0</td>\n",
       "    </tr>\n",
       "  </tbody>\n",
       "</table>\n",
       "</div>"
      ],
      "text/plain": [
       "   A  B     C\n",
       "0  1  1 -99.0\n",
       "1  0  2   3.0\n",
       "2  1  3   4.0"
      ]
     },
     "execution_count": 18,
     "metadata": {},
     "output_type": "execute_result"
    }
   ],
   "source": [
    "#对pandas\n",
    "dp.replace(['male','female'],[1,0],inplace=True)\n",
    "dp"
   ]
  },
  {
   "cell_type": "code",
   "execution_count": 19,
   "metadata": {},
   "outputs": [
    {
     "data": {
      "text/plain": [
       "[(1, 2)]"
      ]
     },
     "execution_count": 19,
     "metadata": {},
     "output_type": "execute_result"
    }
   ],
   "source": [
    "myData=spark.sparkContext.parallelize([(1,2),(3,4),(5,6)])\n",
    "myData.take(1)"
   ]
  },
  {
   "cell_type": "markdown",
   "metadata": {},
   "source": [
    "## 改列名"
   ]
  },
  {
   "cell_type": "code",
   "execution_count": 20,
   "metadata": {},
   "outputs": [
    {
     "name": "stdout",
     "output_type": "stream",
     "text": [
      "+------+---+---+\n",
      "|     A|  B|  C|\n",
      "+------+---+---+\n",
      "|  male|  1|-99|\n",
      "|female|  2|  3|\n",
      "|  male|  3|  4|\n",
      "+------+---+---+\n",
      "\n"
     ]
    }
   ],
   "source": [
    "ds.show()"
   ]
  },
  {
   "cell_type": "code",
   "execution_count": 21,
   "metadata": {},
   "outputs": [
    {
     "name": "stdout",
     "output_type": "stream",
     "text": [
      "+------+---+---+\n",
      "|    A1| B1| C1|\n",
      "+------+---+---+\n",
      "|  male|  1|-99|\n",
      "|female|  2|  3|\n",
      "|  male|  3|  4|\n",
      "+------+---+---+\n",
      "\n"
     ]
    }
   ],
   "source": [
    "ds.toDF(*[\"A1\",\"B1\",\"C1\"]).show()\n",
    "#ds再toDF可以如上修改列名"
   ]
  },
  {
   "cell_type": "code",
   "execution_count": 4,
   "metadata": {},
   "outputs": [
    {
     "name": "stdout",
     "output_type": "stream",
     "text": [
      "C\n",
      "radio\n",
      "['TV', 'radio', 'C', 'D']\n"
     ]
    }
   ],
   "source": [
    "ds=spark.read.csv(path='./data/Advertising.csv',header=True,inferSchema=True)\n",
    "mapping={'newspaper':'C','sales':'D'}\n",
    "new_names=[mapping.get(col,col) for col in ds.columns]\n",
    "print(mapping.get('newspaper','newspaper')) #不在mapping里的\n",
    "print(mapping.get('radio','radio')) #在mapping里的\n",
    "print(new_names)"
   ]
  },
  {
   "cell_type": "code",
   "execution_count": 5,
   "metadata": {},
   "outputs": [
    {
     "name": "stdout",
     "output_type": "stream",
     "text": [
      "+-----+-----+----+----+\n",
      "|   TV|radio|   C|   D|\n",
      "+-----+-----+----+----+\n",
      "|230.1| 37.8|69.2|22.1|\n",
      "| 44.5| 39.3|45.1|10.4|\n",
      "| 17.2| 45.9|69.3| 9.3|\n",
      "|151.5| 41.3|58.5|18.5|\n",
      "+-----+-----+----+----+\n",
      "only showing top 4 rows\n",
      "\n"
     ]
    }
   ],
   "source": [
    "ds.toDF(*new_names).show(4)"
   ]
  },
  {
   "cell_type": "code",
   "execution_count": 24,
   "metadata": {},
   "outputs": [
    {
     "name": "stdout",
     "output_type": "stream",
     "text": [
      "+-----+-----+-----+-----+\n",
      "|   TV|radio|paper|sales|\n",
      "+-----+-----+-----+-----+\n",
      "|230.1| 37.8| 69.2| 22.1|\n",
      "| 44.5| 39.3| 45.1| 10.4|\n",
      "| 17.2| 45.9| 69.3|  9.3|\n",
      "|151.5| 41.3| 58.5| 18.5|\n",
      "+-----+-----+-----+-----+\n",
      "only showing top 4 rows\n",
      "\n"
     ]
    }
   ],
   "source": [
    "ds.withColumnRenamed(\"newspaper\",'paper').show(4)\n",
    "#只能改一列"
   ]
  },
  {
   "cell_type": "markdown",
   "metadata": {},
   "source": [
    "## 删除列"
   ]
  },
  {
   "cell_type": "code",
   "execution_count": 25,
   "metadata": {},
   "outputs": [
    {
     "name": "stdout",
     "output_type": "stream",
     "text": [
      "+-----+-----+\n",
      "|   TV|radio|\n",
      "+-----+-----+\n",
      "|230.1| 37.8|\n",
      "| 44.5| 39.3|\n",
      "| 17.2| 45.9|\n",
      "|151.5| 41.3|\n",
      "+-----+-----+\n",
      "only showing top 4 rows\n",
      "\n"
     ]
    }
   ],
   "source": [
    "drop_name=['newspaper','sales']\n",
    "ds.drop(*drop_name).show(4)"
   ]
  },
  {
   "cell_type": "markdown",
   "metadata": {},
   "source": [
    "## 数据过滤"
   ]
  },
  {
   "cell_type": "code",
   "execution_count": 26,
   "metadata": {},
   "outputs": [
    {
     "name": "stdout",
     "output_type": "stream",
     "text": [
      "+-----+-----+---------+-----+\n",
      "|   TV|radio|newspaper|sales|\n",
      "+-----+-----+---------+-----+\n",
      "|120.2| 19.6|     11.6| 13.2|\n",
      "|  8.6|  2.1|      1.0|  4.8|\n",
      "|214.7| 24.0|      4.0| 17.4|\n",
      "| 97.5|  7.6|      7.2|  9.7|\n",
      "+-----+-----+---------+-----+\n",
      "only showing top 4 rows\n",
      "\n",
      "+-----+-----+---------+-----+\n",
      "|   TV|radio|newspaper|sales|\n",
      "+-----+-----+---------+-----+\n",
      "|120.2| 19.6|     11.6| 13.2|\n",
      "|214.7| 24.0|      4.0| 17.4|\n",
      "|147.3| 23.9|     19.1| 14.6|\n",
      "|262.9|  3.5|     19.5| 12.0|\n",
      "+-----+-----+---------+-----+\n",
      "only showing top 4 rows\n",
      "\n"
     ]
    }
   ],
   "source": [
    "ds[ds.newspaper<20].show(4) #类似布尔索引\n",
    "ds[(ds.newspaper<20)&(ds.TV>100)].show(4)"
   ]
  },
  {
   "cell_type": "markdown",
   "metadata": {},
   "source": [
    "## 创建新的一列"
   ]
  },
  {
   "cell_type": "code",
   "execution_count": 6,
   "metadata": {},
   "outputs": [
    {
     "name": "stdout",
     "output_type": "stream",
     "text": [
      "+-----+-----+---------+-----+------------------+\n",
      "|   TV|radio|newspaper|sales|            log_tv|\n",
      "+-----+-----+---------+-----+------------------+\n",
      "|230.1| 37.8|     69.2| 22.1|  5.43851399704132|\n",
      "| 44.5| 39.3|     45.1| 10.4|3.7954891891721947|\n",
      "| 17.2| 45.9|     69.3|  9.3|2.8449093838194073|\n",
      "|151.5| 41.3|     58.5| 18.5| 5.020585624949424|\n",
      "+-----+-----+---------+-----+------------------+\n",
      "only showing top 4 rows\n",
      "\n",
      "+-----+-----+---------+-----+-----+\n",
      "|   TV|radio|newspaper|sales|tv+10|\n",
      "+-----+-----+---------+-----+-----+\n",
      "|230.1| 37.8|     69.2| 22.1|240.1|\n",
      "| 44.5| 39.3|     45.1| 10.4| 54.5|\n",
      "| 17.2| 45.9|     69.3|  9.3| 27.2|\n",
      "|151.5| 41.3|     58.5| 18.5|161.5|\n",
      "+-----+-----+---------+-----+-----+\n",
      "only showing top 4 rows\n",
      "\n"
     ]
    }
   ],
   "source": [
    "import pyspark.sql.functions as F\n",
    "ds.withColumn('log_tv',F.log(ds.TV)).show(4) #不改变原数据\n",
    "ds.withColumn('tv+10',ds.TV+10).show(4)"
   ]
  },
  {
   "cell_type": "code",
   "execution_count": 7,
   "metadata": {},
   "outputs": [
    {
     "data": {
      "text/plain": [
       "Column<'CASE WHEN (TV < 100) THEN 1 WHEN (TV < 200) THEN 2 ELSE 3 END'>"
      ]
     },
     "execution_count": 7,
     "metadata": {},
     "output_type": "execute_result"
    }
   ],
   "source": [
    "F.when(ds.TV<100,1).when(ds.TV<200,2).otherwise(3) \n",
    "#逐层往上套条件，第二个参数是返回值"
   ]
  },
  {
   "cell_type": "code",
   "execution_count": 29,
   "metadata": {},
   "outputs": [
    {
     "name": "stdout",
     "output_type": "stream",
     "text": [
      "+-----+-----+---------+-----+--------+\n",
      "|   TV|radio|newspaper|sales|codition|\n",
      "+-----+-----+---------+-----+--------+\n",
      "|230.1| 37.8|     69.2| 22.1|       3|\n",
      "| 44.5| 39.3|     45.1| 10.4|       1|\n",
      "| 17.2| 45.9|     69.3|  9.3|       1|\n",
      "|151.5| 41.3|     58.5| 18.5|       2|\n",
      "|180.8| 10.8|     58.4| 12.9|       2|\n",
      "+-----+-----+---------+-----+--------+\n",
      "only showing top 5 rows\n",
      "\n"
     ]
    }
   ],
   "source": [
    "ds.withColumn('codition',F.when(ds.TV<100,1).when(ds.TV<200,2).otherwise(3)).show(5)"
   ]
  },
  {
   "cell_type": "markdown",
   "metadata": {},
   "source": [
    "## 描述性统计量"
   ]
  },
  {
   "cell_type": "code",
   "execution_count": 30,
   "metadata": {},
   "outputs": [
    {
     "name": "stdout",
     "output_type": "stream",
     "text": [
      "+-------------+---------------+--------------------------+---------------------------------+-------+-------------+--------------------+----------------------------+-------------------+--------------------+----------+---------------------------+-----------------------------+-----------+------------------+-----------------+--------------------------+----------+----------------+---------+--------------+\n",
      "|Creditability|Account Balance|Duration of Credit (month)|Payment Status of Previous Credit|Purpose|Credit Amount|Value Savings/Stocks|Length of current employment|Instalment per cent|Sex & Marital Status|Guarantors|Duration in Current address|Most valuable available asset|Age (years)|Concurrent Credits|Type of apartment|No of Credits at this Bank|Occupation|No of dependents|Telephone|Foreign Worker|\n",
      "+-------------+---------------+--------------------------+---------------------------------+-------+-------------+--------------------+----------------------------+-------------------+--------------------+----------+---------------------------+-----------------------------+-----------+------------------+-----------------+--------------------------+----------+----------------+---------+--------------+\n",
      "|            1|              1|                        18|                                4|      2|         1049|                   1|                           2|                  4|                   2|         1|                          4|                            2|         21|                 3|                1|                         1|         3|               1|        1|             1|\n",
      "+-------------+---------------+--------------------------+---------------------------------+-------+-------------+--------------------+----------------------------+-------------------+--------------------+----------+---------------------------+-----------------------------+-----------+------------------+-----------------+--------------------------+----------+----------------+---------+--------------+\n",
      "only showing top 1 row\n",
      "\n"
     ]
    }
   ],
   "source": [
    "ds=spark.read.csv(path='./data/german_credit.csv',header=True,inferSchema=True)\n",
    "ds.show(1)"
   ]
  },
  {
   "cell_type": "code",
   "execution_count": 31,
   "metadata": {},
   "outputs": [
    {
     "data": {
      "text/plain": [
       "['Creditability',\n",
       " 'Account Balance',\n",
       " 'Duration of Credit (month)',\n",
       " 'Payment Status of Previous Credit',\n",
       " 'Purpose',\n",
       " 'Credit Amount',\n",
       " 'Value Savings/Stocks',\n",
       " 'Length of current employment',\n",
       " 'Instalment per cent',\n",
       " 'Sex & Marital Status',\n",
       " 'Guarantors',\n",
       " 'Duration in Current address',\n",
       " 'Most valuable available asset',\n",
       " 'Age (years)',\n",
       " 'Concurrent Credits',\n",
       " 'Type of apartment',\n",
       " 'No of Credits at this Bank',\n",
       " 'Occupation',\n",
       " 'No of dependents',\n",
       " 'Telephone',\n",
       " 'Foreign Worker']"
      ]
     },
     "execution_count": 31,
     "metadata": {},
     "output_type": "execute_result"
    }
   ],
   "source": [
    "num_cols=['Account Balance','No of dependents']\n",
    "ds.columns"
   ]
  },
  {
   "cell_type": "code",
   "execution_count": 32,
   "metadata": {},
   "outputs": [
    {
     "name": "stdout",
     "output_type": "stream",
     "text": [
      "+---------------+----------------+\n",
      "|Account Balance|No of dependents|\n",
      "+---------------+----------------+\n",
      "|              1|               1|\n",
      "|              1|               2|\n",
      "|              2|               1|\n",
      "|              1|               2|\n",
      "+---------------+----------------+\n",
      "only showing top 4 rows\n",
      "\n"
     ]
    },
    {
     "data": {
      "text/plain": [
       "DataFrame[summary: string, Account Balance: string, No of dependents: string]"
      ]
     },
     "execution_count": 32,
     "metadata": {},
     "output_type": "execute_result"
    }
   ],
   "source": [
    "ds.select(num_cols).show(4)\n",
    "ds.select(num_cols).describe()\n",
    "#注意describe里面都是string"
   ]
  },
  {
   "cell_type": "code",
   "execution_count": 37,
   "metadata": {},
   "outputs": [
    {
     "data": {
      "text/plain": [
       "[Row(summary='count', Account Balance='1000', No of dependents='1000'),\n",
       " Row(summary='mean', Account Balance='2.577', No of dependents='1.155'),\n",
       " Row(summary='stddev', Account Balance='1.2576377271108936', No of dependents='0.36208577175319395'),\n",
       " Row(summary='min', Account Balance='1', No of dependents='1'),\n",
       " Row(summary='max', Account Balance='4', No of dependents='2')]"
      ]
     },
     "execution_count": 37,
     "metadata": {},
     "output_type": "execute_result"
    }
   ],
   "source": [
    "ds.select(num_cols).describe().collect()\n",
    "#里面都是string"
   ]
  },
  {
   "cell_type": "code",
   "execution_count": 33,
   "metadata": {},
   "outputs": [
    {
     "name": "stdout",
     "output_type": "stream",
     "text": [
      "+-------+------------------+-------------------+\n",
      "|summary|   Account Balance|   No of dependents|\n",
      "+-------+------------------+-------------------+\n",
      "|  count|              1000|               1000|\n",
      "|   mean|             2.577|              1.155|\n",
      "| stddev|1.2576377271108936|0.36208577175319395|\n",
      "|    min|                 1|                  1|\n",
      "|    max|                 4|                  2|\n",
      "+-------+------------------+-------------------+\n",
      "\n"
     ]
    }
   ],
   "source": [
    "ds.select(num_cols).describe().show()"
   ]
  },
  {
   "cell_type": "code",
   "execution_count": 34,
   "metadata": {},
   "outputs": [],
   "source": [
    "#书P64\n",
    "import numpy as np\n",
    "def describe_pd(df_in,columns,deciles=False):\n",
    "    '''输入一个ds，返回一个df'''\n",
    "    if deciles:\n",
    "        percentiles=np.array(range(0,110,10)) #密集分位点\n",
    "    else:\n",
    "        percentiles=[25,50,75]\n",
    "    percs=np.transpose([np.percentile(df_in.select(x).collect(),percentiles) for x in columns])\n",
    "    percs=pd.DataFrame(percs,columns=columns)   \n",
    "    percs['summary']=[str(p)+'%' for p in percentiles]\n",
    "    #以上计算得到了各分位点\n",
    "    spark_describe=df_in.describe().toPandas()\n",
    "    new_df=pd.concat([spark_describe,percs],ignore_index=True)\n",
    "    new_df=new_df.round(2) #对float和double保留两位小数\n",
    "    return new_df[['summary']+columns]"
   ]
  },
  {
   "cell_type": "code",
   "execution_count": 63,
   "metadata": {},
   "outputs": [],
   "source": [
    "#书P64\n",
    "import numpy as np\n",
    "def describe_pd(df_in,columns,deciles=False):\n",
    "    '''输入一个ds，返回一个df'''\n",
    "    if deciles:\n",
    "        percentiles=np.array(range(0,110,10)) #密集分位点\n",
    "    else:\n",
    "        percentiles=[25,50,75]\n",
    "    percs=np.transpose([np.percentile(df_in.select(x).collect(),percentiles) for x in columns])\n",
    "    percs=pd.DataFrame(percs,columns=columns)   \n",
    "    percs['summary']=[str(p)+'%' for p in percentiles]\n",
    "    #以上计算得到了各分位点\n",
    "    spark_describe=df_in.describe()\n",
    "    spark_describe2=spark_describe.withColumn('Account Balance',spark_describe['Account Balance'].cast('float'))\\\n",
    "        .withColumn('No of dependents',spark_describe['No of dependents'].cast('float')).toPandas()\n",
    "    #withColumn中新增列的名字与已有的列的名字一样时，会替换已有的那一列\n",
    "    #把字符串变成了浮点数\n",
    "    new_df=pd.concat([spark_describe2,percs],ignore_index=True)\n",
    "    new_df=new_df.round(2) #对float和double保留两位小数\n",
    "    return new_df[['summary']+columns]"
   ]
  },
  {
   "cell_type": "code",
   "execution_count": 64,
   "metadata": {},
   "outputs": [
    {
     "data": {
      "text/html": [
       "<div>\n",
       "<style scoped>\n",
       "    .dataframe tbody tr th:only-of-type {\n",
       "        vertical-align: middle;\n",
       "    }\n",
       "\n",
       "    .dataframe tbody tr th {\n",
       "        vertical-align: top;\n",
       "    }\n",
       "\n",
       "    .dataframe thead th {\n",
       "        text-align: right;\n",
       "    }\n",
       "</style>\n",
       "<table border=\"1\" class=\"dataframe\">\n",
       "  <thead>\n",
       "    <tr style=\"text-align: right;\">\n",
       "      <th></th>\n",
       "      <th>summary</th>\n",
       "      <th>Account Balance</th>\n",
       "      <th>No of dependents</th>\n",
       "    </tr>\n",
       "  </thead>\n",
       "  <tbody>\n",
       "    <tr>\n",
       "      <th>0</th>\n",
       "      <td>count</td>\n",
       "      <td>1000.00</td>\n",
       "      <td>1000.00</td>\n",
       "    </tr>\n",
       "    <tr>\n",
       "      <th>1</th>\n",
       "      <td>mean</td>\n",
       "      <td>2.58</td>\n",
       "      <td>1.15</td>\n",
       "    </tr>\n",
       "    <tr>\n",
       "      <th>2</th>\n",
       "      <td>stddev</td>\n",
       "      <td>1.26</td>\n",
       "      <td>0.36</td>\n",
       "    </tr>\n",
       "    <tr>\n",
       "      <th>3</th>\n",
       "      <td>min</td>\n",
       "      <td>1.00</td>\n",
       "      <td>1.00</td>\n",
       "    </tr>\n",
       "    <tr>\n",
       "      <th>4</th>\n",
       "      <td>max</td>\n",
       "      <td>4.00</td>\n",
       "      <td>2.00</td>\n",
       "    </tr>\n",
       "    <tr>\n",
       "      <th>5</th>\n",
       "      <td>0%</td>\n",
       "      <td>1.00</td>\n",
       "      <td>1.00</td>\n",
       "    </tr>\n",
       "    <tr>\n",
       "      <th>6</th>\n",
       "      <td>10%</td>\n",
       "      <td>1.00</td>\n",
       "      <td>1.00</td>\n",
       "    </tr>\n",
       "    <tr>\n",
       "      <th>7</th>\n",
       "      <td>20%</td>\n",
       "      <td>1.00</td>\n",
       "      <td>1.00</td>\n",
       "    </tr>\n",
       "    <tr>\n",
       "      <th>8</th>\n",
       "      <td>30%</td>\n",
       "      <td>2.00</td>\n",
       "      <td>1.00</td>\n",
       "    </tr>\n",
       "    <tr>\n",
       "      <th>9</th>\n",
       "      <td>40%</td>\n",
       "      <td>2.00</td>\n",
       "      <td>1.00</td>\n",
       "    </tr>\n",
       "    <tr>\n",
       "      <th>10</th>\n",
       "      <td>50%</td>\n",
       "      <td>2.00</td>\n",
       "      <td>1.00</td>\n",
       "    </tr>\n",
       "    <tr>\n",
       "      <th>11</th>\n",
       "      <td>60%</td>\n",
       "      <td>3.00</td>\n",
       "      <td>1.00</td>\n",
       "    </tr>\n",
       "    <tr>\n",
       "      <th>12</th>\n",
       "      <td>70%</td>\n",
       "      <td>4.00</td>\n",
       "      <td>1.00</td>\n",
       "    </tr>\n",
       "    <tr>\n",
       "      <th>13</th>\n",
       "      <td>80%</td>\n",
       "      <td>4.00</td>\n",
       "      <td>1.00</td>\n",
       "    </tr>\n",
       "    <tr>\n",
       "      <th>14</th>\n",
       "      <td>90%</td>\n",
       "      <td>4.00</td>\n",
       "      <td>2.00</td>\n",
       "    </tr>\n",
       "    <tr>\n",
       "      <th>15</th>\n",
       "      <td>100%</td>\n",
       "      <td>4.00</td>\n",
       "      <td>2.00</td>\n",
       "    </tr>\n",
       "  </tbody>\n",
       "</table>\n",
       "</div>"
      ],
      "text/plain": [
       "   summary  Account Balance  No of dependents\n",
       "0    count          1000.00           1000.00\n",
       "1     mean             2.58              1.15\n",
       "2   stddev             1.26              0.36\n",
       "3      min             1.00              1.00\n",
       "4      max             4.00              2.00\n",
       "5       0%             1.00              1.00\n",
       "6      10%             1.00              1.00\n",
       "7      20%             1.00              1.00\n",
       "8      30%             2.00              1.00\n",
       "9      40%             2.00              1.00\n",
       "10     50%             2.00              1.00\n",
       "11     60%             3.00              1.00\n",
       "12     70%             4.00              1.00\n",
       "13     80%             4.00              1.00\n",
       "14     90%             4.00              2.00\n",
       "15    100%             4.00              2.00"
      ]
     },
     "execution_count": 64,
     "metadata": {},
     "output_type": "execute_result"
    }
   ],
   "source": [
    "describe_pd(ds,num_cols,deciles=True)\n",
    "#但是这里并没有保留两位小数\n",
    "#因为ds.describe转为pandas之后里面的元素还是string类型"
   ]
  },
  {
   "cell_type": "code",
   "execution_count": 36,
   "metadata": {},
   "outputs": [
    {
     "name": "stdout",
     "output_type": "stream",
     "text": [
      "+---------------------+---------------------+\n",
      "|skewness(Age (years))|kurtosis(Age (years))|\n",
      "+---------------------+---------------------+\n",
      "|   1.0231743160548064|   0.6114371688367672|\n",
      "+---------------------+---------------------+\n",
      "\n"
     ]
    }
   ],
   "source": [
    "ds.select(F.skewness('Age (years)'),F.kurtosis('Age (years)')).show()\n",
    "#偏度和峰度"
   ]
  },
  {
   "cell_type": "code",
   "execution_count": 40,
   "metadata": {},
   "outputs": [],
   "source": [
    "spark_describe=ds.describe()"
   ]
  },
  {
   "cell_type": "code",
   "execution_count": 42,
   "metadata": {},
   "outputs": [
    {
     "data": {
      "text/plain": [
       "Column<'Account Balance'>"
      ]
     },
     "execution_count": 42,
     "metadata": {},
     "output_type": "execute_result"
    }
   ],
   "source": [
    "spark_describe[\"Account Balance\"]\n",
    "#不能show或者collect"
   ]
  },
  {
   "cell_type": "code",
   "execution_count": 43,
   "metadata": {},
   "outputs": [
    {
     "data": {
      "text/plain": [
       "DataFrame[Account Balance: string]"
      ]
     },
     "execution_count": 43,
     "metadata": {},
     "output_type": "execute_result"
    }
   ],
   "source": [
    "spark_describe.select(\"Account Balance\")\n",
    "#可以show和collect"
   ]
  },
  {
   "cell_type": "code",
   "execution_count": 66,
   "metadata": {},
   "outputs": [
    {
     "data": {
      "text/html": [
       "<div>\n",
       "<style scoped>\n",
       "    .dataframe tbody tr th:only-of-type {\n",
       "        vertical-align: middle;\n",
       "    }\n",
       "\n",
       "    .dataframe tbody tr th {\n",
       "        vertical-align: top;\n",
       "    }\n",
       "\n",
       "    .dataframe thead th {\n",
       "        text-align: right;\n",
       "    }\n",
       "</style>\n",
       "<table border=\"1\" class=\"dataframe\">\n",
       "  <thead>\n",
       "    <tr style=\"text-align: right;\">\n",
       "      <th></th>\n",
       "      <th>Account Balance</th>\n",
       "      <th>No of dependents</th>\n",
       "    </tr>\n",
       "  </thead>\n",
       "  <tbody>\n",
       "    <tr>\n",
       "      <th>0</th>\n",
       "      <td>1.0</td>\n",
       "      <td>1.0</td>\n",
       "    </tr>\n",
       "    <tr>\n",
       "      <th>1</th>\n",
       "      <td>2.0</td>\n",
       "      <td>1.0</td>\n",
       "    </tr>\n",
       "    <tr>\n",
       "      <th>2</th>\n",
       "      <td>4.0</td>\n",
       "      <td>1.0</td>\n",
       "    </tr>\n",
       "  </tbody>\n",
       "</table>\n",
       "</div>"
      ],
      "text/plain": [
       "   Account Balance  No of dependents\n",
       "0              1.0               1.0\n",
       "1              2.0               1.0\n",
       "2              4.0               1.0"
      ]
     },
     "execution_count": 66,
     "metadata": {},
     "output_type": "execute_result"
    }
   ],
   "source": [
    "deciles=False\n",
    "df_in=ds\n",
    "columns=num_cols\n",
    "if deciles:\n",
    "    percentiles=np.array(range(0,110,10)) #密集分位点\n",
    "else:\n",
    "    percentiles=[25,50,75]\n",
    "percs=np.transpose([np.percentile(df_in.select(x).collect(),percentiles) for x in columns])\n",
    "percs=pd.DataFrame(percs,columns=columns)\n",
    "percs"
   ]
  },
  {
   "cell_type": "code",
   "execution_count": 69,
   "metadata": {},
   "outputs": [
    {
     "data": {
      "text/html": [
       "<div>\n",
       "<style scoped>\n",
       "    .dataframe tbody tr th:only-of-type {\n",
       "        vertical-align: middle;\n",
       "    }\n",
       "\n",
       "    .dataframe tbody tr th {\n",
       "        vertical-align: top;\n",
       "    }\n",
       "\n",
       "    .dataframe thead th {\n",
       "        text-align: right;\n",
       "    }\n",
       "</style>\n",
       "<table border=\"1\" class=\"dataframe\">\n",
       "  <thead>\n",
       "    <tr style=\"text-align: right;\">\n",
       "      <th></th>\n",
       "      <th>Account Balance</th>\n",
       "      <th>No of dependents</th>\n",
       "    </tr>\n",
       "  </thead>\n",
       "  <tbody>\n",
       "    <tr>\n",
       "      <th>0</th>\n",
       "      <td>1.0</td>\n",
       "      <td>1.0</td>\n",
       "    </tr>\n",
       "    <tr>\n",
       "      <th>1</th>\n",
       "      <td>2.0</td>\n",
       "      <td>1.0</td>\n",
       "    </tr>\n",
       "    <tr>\n",
       "      <th>2</th>\n",
       "      <td>4.0</td>\n",
       "      <td>1.0</td>\n",
       "    </tr>\n",
       "  </tbody>\n",
       "</table>\n",
       "</div>"
      ],
      "text/plain": [
       "   Account Balance  No of dependents\n",
       "0              1.0               1.0\n",
       "1              2.0               1.0\n",
       "2              4.0               1.0"
      ]
     },
     "execution_count": 69,
     "metadata": {},
     "output_type": "execute_result"
    }
   ],
   "source": [
    "percs.round(2) #这个地方看一下回放"
   ]
  },
  {
   "cell_type": "code",
   "execution_count": 70,
   "metadata": {},
   "outputs": [
    {
     "data": {
      "text/html": [
       "<div>\n",
       "<style scoped>\n",
       "    .dataframe tbody tr th:only-of-type {\n",
       "        vertical-align: middle;\n",
       "    }\n",
       "\n",
       "    .dataframe tbody tr th {\n",
       "        vertical-align: top;\n",
       "    }\n",
       "\n",
       "    .dataframe thead th {\n",
       "        text-align: right;\n",
       "    }\n",
       "</style>\n",
       "<table border=\"1\" class=\"dataframe\">\n",
       "  <thead>\n",
       "    <tr style=\"text-align: right;\">\n",
       "      <th></th>\n",
       "      <th>Account Balance</th>\n",
       "      <th>No of dependents</th>\n",
       "    </tr>\n",
       "  </thead>\n",
       "  <tbody>\n",
       "    <tr>\n",
       "      <th>0</th>\n",
       "      <td>1.0</td>\n",
       "      <td>1.0000</td>\n",
       "    </tr>\n",
       "    <tr>\n",
       "      <th>1</th>\n",
       "      <td>2.0</td>\n",
       "      <td>1.1111</td>\n",
       "    </tr>\n",
       "    <tr>\n",
       "      <th>2</th>\n",
       "      <td>4.0</td>\n",
       "      <td>1.0000</td>\n",
       "    </tr>\n",
       "  </tbody>\n",
       "</table>\n",
       "</div>"
      ],
      "text/plain": [
       "   Account Balance  No of dependents\n",
       "0              1.0            1.0000\n",
       "1              2.0            1.1111\n",
       "2              4.0            1.0000"
      ]
     },
     "execution_count": 70,
     "metadata": {},
     "output_type": "execute_result"
    }
   ],
   "source": [
    "percs.iloc[1,1]=1.1111\n",
    "percs"
   ]
  },
  {
   "cell_type": "code",
   "execution_count": 71,
   "metadata": {},
   "outputs": [
    {
     "data": {
      "text/html": [
       "<div>\n",
       "<style scoped>\n",
       "    .dataframe tbody tr th:only-of-type {\n",
       "        vertical-align: middle;\n",
       "    }\n",
       "\n",
       "    .dataframe tbody tr th {\n",
       "        vertical-align: top;\n",
       "    }\n",
       "\n",
       "    .dataframe thead th {\n",
       "        text-align: right;\n",
       "    }\n",
       "</style>\n",
       "<table border=\"1\" class=\"dataframe\">\n",
       "  <thead>\n",
       "    <tr style=\"text-align: right;\">\n",
       "      <th></th>\n",
       "      <th>Account Balance</th>\n",
       "      <th>No of dependents</th>\n",
       "    </tr>\n",
       "  </thead>\n",
       "  <tbody>\n",
       "    <tr>\n",
       "      <th>0</th>\n",
       "      <td>1.0</td>\n",
       "      <td>1.00</td>\n",
       "    </tr>\n",
       "    <tr>\n",
       "      <th>1</th>\n",
       "      <td>2.0</td>\n",
       "      <td>1.11</td>\n",
       "    </tr>\n",
       "    <tr>\n",
       "      <th>2</th>\n",
       "      <td>4.0</td>\n",
       "      <td>1.00</td>\n",
       "    </tr>\n",
       "  </tbody>\n",
       "</table>\n",
       "</div>"
      ],
      "text/plain": [
       "   Account Balance  No of dependents\n",
       "0              1.0              1.00\n",
       "1              2.0              1.11\n",
       "2              4.0              1.00"
      ]
     },
     "execution_count": 71,
     "metadata": {},
     "output_type": "execute_result"
    }
   ],
   "source": [
    "percs.round(2)"
   ]
  },
  {
   "cell_type": "code",
   "execution_count": 72,
   "metadata": {},
   "outputs": [
    {
     "data": {
      "text/plain": [
       "Row(Creditability=1, Account Balance=1, Duration of Credit (month)=18, Payment Status of Previous Credit=4, Purpose=2, Credit Amount=1049, Value Savings/Stocks=1, Length of current employment=2, Instalment per cent=4, Sex & Marital Status=2, Guarantors=1, Duration in Current address=4, Most valuable available asset=2, Age (years)=21, Concurrent Credits=3, Type of apartment=1, No of Credits at this Bank=1, Occupation=3, No of dependents=1, Telephone=1, Foreign Worker=1)"
      ]
     },
     "execution_count": 72,
     "metadata": {},
     "output_type": "execute_result"
    }
   ],
   "source": [
    "ds.collect()[0] #取出了第一行"
   ]
  },
  {
   "cell_type": "code",
   "execution_count": 73,
   "metadata": {},
   "outputs": [
    {
     "data": {
      "text/plain": [
       "4"
      ]
     },
     "execution_count": 73,
     "metadata": {},
     "output_type": "execute_result"
    }
   ],
   "source": [
    "ds.collect()[0][3] #取出某个元素"
   ]
  },
  {
   "cell_type": "code",
   "execution_count": 75,
   "metadata": {},
   "outputs": [
    {
     "data": {
      "text/plain": [
       "float"
      ]
     },
     "execution_count": 75,
     "metadata": {},
     "output_type": "execute_result"
    }
   ],
   "source": [
    "#ds.select的结果中提取出数字\n",
    "type(ds.select(F.skewness('Age (years)'),F.kurtosis('Age (years)')).collect()[0][0])"
   ]
  },
  {
   "cell_type": "code",
   "execution_count": 77,
   "metadata": {},
   "outputs": [
    {
     "data": {
      "text/plain": [
       "[('TV', 'string'),\n",
       " ('radio', 'string'),\n",
       " ('newspaper', 'string'),\n",
       " ('sales', 'string')]"
      ]
     },
     "execution_count": 77,
     "metadata": {},
     "output_type": "execute_result"
    }
   ],
   "source": [
    "df.dtypes #给sparkdataframe定义的"
   ]
  },
  {
   "cell_type": "code",
   "execution_count": 78,
   "metadata": {},
   "outputs": [
    {
     "data": {
      "text/plain": [
       "[('Creditability', 'int'),\n",
       " ('Account Balance', 'int'),\n",
       " ('Duration of Credit (month)', 'int'),\n",
       " ('Payment Status of Previous Credit', 'int'),\n",
       " ('Purpose', 'int'),\n",
       " ('Credit Amount', 'int'),\n",
       " ('Value Savings/Stocks', 'int'),\n",
       " ('Length of current employment', 'int'),\n",
       " ('Instalment per cent', 'int'),\n",
       " ('Sex & Marital Status', 'int'),\n",
       " ('Guarantors', 'int'),\n",
       " ('Duration in Current address', 'int'),\n",
       " ('Most valuable available asset', 'int'),\n",
       " ('Age (years)', 'int'),\n",
       " ('Concurrent Credits', 'int'),\n",
       " ('Type of apartment', 'int'),\n",
       " ('No of Credits at this Bank', 'int'),\n",
       " ('Occupation', 'int'),\n",
       " ('No of dependents', 'int'),\n",
       " ('Telephone', 'int'),\n",
       " ('Foreign Worker', 'int')]"
      ]
     },
     "execution_count": 78,
     "metadata": {},
     "output_type": "execute_result"
    }
   ],
   "source": [
    "ds.dtypes"
   ]
  },
  {
   "cell_type": "code",
   "execution_count": 81,
   "metadata": {},
   "outputs": [
    {
     "data": {
      "text/plain": [
       "[('skewness(Age (years))', 'double'), ('kurtosis(Age (years))', 'double')]"
      ]
     },
     "execution_count": 81,
     "metadata": {},
     "output_type": "execute_result"
    }
   ],
   "source": [
    "ds.select(F.skewness('Age (years)'),F.kurtosis('Age (years)')).dtypes"
   ]
  },
  {
   "cell_type": "markdown",
   "metadata": {},
   "source": [
    "## groupby"
   ]
  },
  {
   "cell_type": "code",
   "execution_count": 83,
   "metadata": {},
   "outputs": [
    {
     "name": "stdout",
     "output_type": "stream",
     "text": [
      "+-----------+------------------+\n",
      "|Age (years)|count(Age (years))|\n",
      "+-----------+------------------+\n",
      "|         31|                38|\n",
      "|         65|                 5|\n",
      "|         53|                 7|\n",
      "|         34|                33|\n",
      "|         28|                43|\n",
      "|         26|                49|\n",
      "|         27|                50|\n",
      "|         44|                17|\n",
      "|         22|                27|\n",
      "|         47|                17|\n",
      "|         52|                 9|\n",
      "|         40|                27|\n",
      "|         20|                14|\n",
      "|         57|                 9|\n",
      "|         54|                10|\n",
      "|         48|                12|\n",
      "|         19|                 2|\n",
      "|         64|                 5|\n",
      "|         41|                17|\n",
      "|         43|                17|\n",
      "+-----------+------------------+\n",
      "only showing top 20 rows\n",
      "\n"
     ]
    }
   ],
   "source": [
    "var='Age (years)'\n",
    "ds.groupby(var).agg(F.count(var)).show()"
   ]
  },
  {
   "cell_type": "code",
   "execution_count": 86,
   "metadata": {},
   "outputs": [
    {
     "name": "stdout",
     "output_type": "stream",
     "text": [
      "+-----------+-----------------------+\n",
      "|Age (years)|count(No of dependents)|\n",
      "+-----------+-----------------------+\n",
      "|         31|                     38|\n",
      "|         65|                      5|\n",
      "|         53|                      7|\n",
      "|         34|                     33|\n",
      "|         28|                     43|\n",
      "|         26|                     49|\n",
      "|         27|                     50|\n",
      "|         44|                     17|\n",
      "|         22|                     27|\n",
      "|         47|                     17|\n",
      "|         52|                      9|\n",
      "|         40|                     27|\n",
      "|         20|                     14|\n",
      "|         57|                      9|\n",
      "|         54|                     10|\n",
      "|         48|                     12|\n",
      "|         19|                      2|\n",
      "|         64|                      5|\n",
      "|         41|                     17|\n",
      "|         43|                     17|\n",
      "+-----------+-----------------------+\n",
      "only showing top 20 rows\n",
      "\n"
     ]
    }
   ],
   "source": [
    "ds.groupby(var).agg(F.count('No of dependents')).show()\n",
    "#count就是算组内样本个数，当然不变。"
   ]
  },
  {
   "cell_type": "code",
   "execution_count": 87,
   "metadata": {},
   "outputs": [
    {
     "name": "stdout",
     "output_type": "stream",
     "text": [
      "+-----------+---------------------+\n",
      "|Age (years)|max(No of dependents)|\n",
      "+-----------+---------------------+\n",
      "|         31|                    2|\n",
      "|         65|                    1|\n",
      "|         53|                    2|\n",
      "|         34|                    2|\n",
      "|         28|                    2|\n",
      "|         26|                    2|\n",
      "|         27|                    1|\n",
      "|         44|                    2|\n",
      "|         22|                    1|\n",
      "|         47|                    2|\n",
      "|         52|                    1|\n",
      "|         40|                    2|\n",
      "|         20|                    2|\n",
      "|         57|                    1|\n",
      "|         54|                    2|\n",
      "|         48|                    2|\n",
      "|         19|                    1|\n",
      "|         64|                    1|\n",
      "|         41|                    2|\n",
      "|         43|                    2|\n",
      "+-----------+---------------------+\n",
      "only showing top 20 rows\n",
      "\n"
     ]
    }
   ],
   "source": [
    "ds.groupby(var).agg(F.max('No of dependents')).show()"
   ]
  },
  {
   "cell_type": "code",
   "execution_count": 88,
   "metadata": {},
   "outputs": [
    {
     "name": "stdout",
     "output_type": "stream",
     "text": [
      "+-----------+----------------+\n",
      "|Age (years)|avg(Age (years))|\n",
      "+-----------+----------------+\n",
      "|         31|            31.0|\n",
      "|         65|            65.0|\n",
      "|         53|            53.0|\n",
      "|         34|            34.0|\n",
      "|         28|            28.0|\n",
      "|         26|            26.0|\n",
      "|         27|            27.0|\n",
      "|         44|            44.0|\n",
      "|         22|            22.0|\n",
      "|         47|            47.0|\n",
      "|         52|            52.0|\n",
      "|         40|            40.0|\n",
      "|         20|            20.0|\n",
      "|         57|            57.0|\n",
      "|         54|            54.0|\n",
      "|         48|            48.0|\n",
      "|         19|            19.0|\n",
      "|         64|            64.0|\n",
      "|         41|            41.0|\n",
      "|         43|            43.0|\n",
      "+-----------+----------------+\n",
      "only showing top 20 rows\n",
      "\n"
     ]
    }
   ],
   "source": [
    "ds.groupby(var).agg(F.mean(var)).show()\n",
    "#因为各组内age的值都是一样的"
   ]
  },
  {
   "cell_type": "markdown",
   "metadata": {},
   "source": [
    "# 画图"
   ]
  },
  {
   "cell_type": "code",
   "execution_count": 89,
   "metadata": {},
   "outputs": [
    {
     "data": {
      "image/png": "[encoded data removed]",
      "text/plain": [
       "<Figure size 1000x800 with 1 Axes>"
      ]
     },
     "metadata": {},
     "output_type": "display_data"
    }
   ],
   "source": [
    "from scipy.stats import kurtosis, skew\n",
    "\n",
    "df = spark.read.csv(path='./data/german_credit.csv', header = True, inferSchema = True)\n",
    "\n",
    "var = 'Age (years)'\n",
    "import matplotlib.pyplot as plt\n",
    "import numpy as np\n",
    "data1 = df.toPandas()\n",
    "\n",
    "x = data1[var]\n",
    "bins = np.arange(0, 100, 5.0) #每5岁划分一下\n",
    "plt.figure(figsize=(10,8))\n",
    "# the histogram of the data\n",
    "plt.hist(x, bins, alpha=0.8, histtype='bar', color='gold',ec='black',weights=np.zeros_like(x) + 100. / x.size)\n",
    "\n",
    "plt.xlabel(var)\n",
    "plt.ylabel('percentage')\n",
    "plt.xticks(bins)\n",
    "plt.show()\n"
   ]
  },
  {
   "cell_type": "code",
   "execution_count": 94,
   "metadata": {},
   "outputs": [
    {
     "data": {
      "image/png": "[encoded data removed]",
      "text/plain": [
       "<Figure size 2000x800 with 2 Axes>"
      ]
     },
     "metadata": {},
     "output_type": "display_data"
    }
   ],
   "source": [
    "\n",
    "var = 'Age (years)'\n",
    "x = data1[var]\n",
    "bins = np.arange(0, 100, 5.0)\n",
    "\n",
    "hist, bin_edges = np.histogram(x,bins, weights=np.zeros_like(x) + 100. / x.size) #画百分比的\n",
    "\n",
    "fig = plt.figure(figsize=(20, 8))\n",
    "ax = fig.add_subplot(1, 2, 1)\n",
    "\n",
    "# Plot the histogram heights against integers on the x axis\n",
    "ax.bar(range(len(hist)),hist,width=1,alpha=0.8,ec ='black', color='gold')\n",
    "# # Set the ticks to the middle of the bars\n",
    "ax.set_xticks([0.5+i for i,j in enumerate(hist)])\n",
    "# Set the xticklabels to a string that tells us what the bin edges were\n",
    "labels =['{}'.format(int(bins[i+1])) for i,j in enumerate(hist)]\n",
    "# labels.insert(0,'0')\n",
    "ax.set_xticklabels(labels)\n",
    "plt.xlabel(var)\n",
    "plt.ylabel('percentage')\n",
    "\n",
    "hist, bin_edges = np.histogram(x,bins) # make the histogram，直接画频数的\n",
    "ax = fig.add_subplot(1, 2, 2)\n",
    "# Plot the histogram heights against integers on the x axis\n",
    "ax.bar(range(len(hist)),hist,width=1,alpha=0.8,ec ='black', color='gold')\n",
    "# # Set the ticks to the middle of the bars\n",
    "ax.set_xticks([0.5+i for i,j in enumerate(hist)])\n",
    "# Set the xticklabels to a string that tells us what the bin edges were\n",
    "labels =['{}'.format(int(bins[i+1])) for i,j in enumerate(hist)]\n",
    "# labels.insert(0,'0')\n",
    "ax.set_xticklabels(labels)\n",
    "plt.xlabel(var)\n",
    "plt.ylabel('count')\n",
    "plt.suptitle('Histogram of {}: Left with percentage output;Right with count output'.format(var), size=16)\n",
    "plt.show()\n",
    "#fig.savefig(var+\".pdf\", bbox_inches='tight')\n",
    "\n"
   ]
  },
  {
   "cell_type": "code",
   "execution_count": 92,
   "metadata": {},
   "outputs": [
    {
     "data": {
      "image/png": "[encoded data removed]",
      "text/plain": [
       "<Figure size 1000x800 with 1 Axes>"
      ]
     },
     "metadata": {},
     "output_type": "display_data"
    }
   ],
   "source": [
    "\n",
    "var = 'Credit Amount'\n",
    "plot_data = df.select(var).toPandas()\n",
    "x= plot_data[var]\n",
    "bins =[0,200,400,600,700,800,900,1000,2000,3000,4000,5000,6000,10000,25000]\n",
    "hist, bin_edges = np.histogram(x,bins,weights=np.zeros_like(x) + 100. / x.size) # make the histogram\n",
    "fig = plt.figure(figsize=(10, 8))\n",
    "ax = fig.add_subplot(1, 1, 1)\n",
    "# Plot the histogram heights against integers on the x axis\n",
    "ax.bar(range(len(hist)),hist,width=1,alpha=0.8,ec ='black',color = 'gold')\n",
    "# # Set the ticks to the middle of the bars\n",
    "ax.set_xticks([0.5+i for i,j in enumerate(hist)])\n",
    "# Set the xticklabels to a string that tells us what the bin edges were\n",
    "#labels =['{}k'.format(int(bins[i+1]/1000)) for i,j in enumerate(hist)]\n",
    "labels =['{}'.format(bins[i+1]) for i,j in enumerate(hist)]\n",
    "# labels.insert(0,'0')\n",
    "ax.set_xticklabels(labels)\n",
    "#plt.text(-0.6, -1.4,'0')\n",
    "plt.xlabel(var)\n",
    "plt.ylabel('percentage')\n",
    "plt.show()"
   ]
  },
  {
   "cell_type": "code",
   "execution_count": 95,
   "metadata": {},
   "outputs": [
    {
     "data": {
      "image/png": "[encoded data removed]",
      "text/plain": [
       "<Figure size 2000x800 with 2 Axes>"
      ]
     },
     "metadata": {},
     "output_type": "display_data"
    }
   ],
   "source": [
    "import seaborn as sns\n",
    "\n",
    "x = df.select(var).toPandas() #都转成pandas去画\n",
    "fig = plt.figure(figsize=(20, 8))\n",
    "ax = fig.add_subplot(1, 2, 1)\n",
    "ax = sns.boxplot(data=x)\n",
    "ax = fig.add_subplot(1, 2, 2)\n",
    "ax = sns.violinplot(data=x)\n",
    "plt.show()\n"
   ]
  },
  {
   "cell_type": "markdown",
   "metadata": {},
   "source": [
    "# 离散化，区间化"
   ]
  },
  {
   "cell_type": "code",
   "execution_count": 96,
   "metadata": {},
   "outputs": [],
   "source": [
    "#when的时候调用df的各列要用df['各列名']\n",
    "df = df.withColumn('age_class', F.when(df['Age (years)']<25, '<25')\\\n",
    ".when(df['Age (years)']<35, '25-34')\\\n",
    ".when(df['Age (years)']<45, '35-44')\\\n",
    ".when(df['Age (years)']<55, '45-54')\\\n",
    ".when(df['Age (years)']<65, '55-64')\\\n",
    ".otherwise('65+'))"
   ]
  },
  {
   "cell_type": "code",
   "execution_count": 97,
   "metadata": {},
   "outputs": [
    {
     "name": "stdout",
     "output_type": "stream",
     "text": [
      "+---------+\n",
      "|age_class|\n",
      "+---------+\n",
      "|      <25|\n",
      "|    35-44|\n",
      "|      <25|\n",
      "|    35-44|\n",
      "|    35-44|\n",
      "+---------+\n",
      "only showing top 5 rows\n",
      "\n"
     ]
    }
   ],
   "source": [
    "df.select('age_class').show(5)\n",
    "#得到了一个分类变量"
   ]
  },
  {
   "cell_type": "code",
   "execution_count": 101,
   "metadata": {},
   "outputs": [
    {
     "name": "stdout",
     "output_type": "stream",
     "text": [
      "+---------+----------+------------------+----------+----------+-------+\n",
      "|age_class|Credit_num|        Credit_avg|Credit_min|Credit_max|Percent|\n",
      "+---------+----------+------------------+----------+----------+-------+\n",
      "|    45-54|       120|3183.0666666666666|       338|     12612|   12.0|\n",
      "|      <25|       150| 2970.733333333333|       276|     15672|   15.0|\n",
      "|    55-64|        56| 3493.660714285714|       385|     15945|    5.6|\n",
      "|    35-44|       254| 3403.771653543307|       250|     15857|   25.4|\n",
      "|    25-34|       397| 3298.823677581864|       343|     18424|   39.7|\n",
      "|      65+|        23|3210.1739130434785|       571|     14896|    2.3|\n",
      "+---------+----------+------------------+----------+----------+-------+\n",
      "\n"
     ]
    }
   ],
   "source": [
    "from pyspark.sql import functions as F\n",
    "from pyspark.sql.functions import rank,sum,col\n",
    "from pyspark.sql import Window\n",
    "window = Window.rowsBetween(Window.unboundedPreceding,Window.unboundedFollowing)\n",
    "\n",
    "\n",
    "tab = df.select(['age_class','Credit Amount']).\\\n",
    "groupBy('age_class').\\\n",
    "agg(F.count('Credit Amount').alias('Credit_num'),\n",
    "F.mean('Credit Amount').alias('Credit_avg'),\n",
    "F.min('Credit Amount').alias('Credit_min'),\n",
    "F.max('Credit Amount').alias('Credit_max')).\\\n",
    "withColumn('total',sum(col('Credit_num')).over(window)).\\\n",
    "withColumn('Percent',col('Credit_num')*100/col('total')).\\\n",
    "drop(col('total')) #total这一列全是一个值\n",
    "\n",
    "tab.show()"
   ]
  },
  {
   "cell_type": "code",
   "execution_count": 103,
   "metadata": {},
   "outputs": [
    {
     "data": {
      "text/html": [
       "<div>\n",
       "<style scoped>\n",
       "    .dataframe tbody tr th:only-of-type {\n",
       "        vertical-align: middle;\n",
       "    }\n",
       "\n",
       "    .dataframe tbody tr th {\n",
       "        vertical-align: top;\n",
       "    }\n",
       "\n",
       "    .dataframe thead th {\n",
       "        text-align: right;\n",
       "    }\n",
       "</style>\n",
       "<table border=\"1\" class=\"dataframe\">\n",
       "  <thead>\n",
       "    <tr style=\"text-align: right;\">\n",
       "      <th></th>\n",
       "      <th>age_class</th>\n",
       "      <th>Credit_num</th>\n",
       "      <th>Credit_avg</th>\n",
       "      <th>Credit_min</th>\n",
       "      <th>Credit_max</th>\n",
       "      <th>Percent</th>\n",
       "    </tr>\n",
       "  </thead>\n",
       "  <tbody>\n",
       "    <tr>\n",
       "      <th>0</th>\n",
       "      <td>45-54</td>\n",
       "      <td>120</td>\n",
       "      <td>3183.066667</td>\n",
       "      <td>338</td>\n",
       "      <td>12612</td>\n",
       "      <td>12.0</td>\n",
       "    </tr>\n",
       "    <tr>\n",
       "      <th>1</th>\n",
       "      <td>&lt;25</td>\n",
       "      <td>150</td>\n",
       "      <td>2970.733333</td>\n",
       "      <td>276</td>\n",
       "      <td>15672</td>\n",
       "      <td>15.0</td>\n",
       "    </tr>\n",
       "    <tr>\n",
       "      <th>2</th>\n",
       "      <td>55-64</td>\n",
       "      <td>56</td>\n",
       "      <td>3493.660714</td>\n",
       "      <td>385</td>\n",
       "      <td>15945</td>\n",
       "      <td>5.6</td>\n",
       "    </tr>\n",
       "    <tr>\n",
       "      <th>3</th>\n",
       "      <td>35-44</td>\n",
       "      <td>254</td>\n",
       "      <td>3403.771654</td>\n",
       "      <td>250</td>\n",
       "      <td>15857</td>\n",
       "      <td>25.4</td>\n",
       "    </tr>\n",
       "    <tr>\n",
       "      <th>4</th>\n",
       "      <td>25-34</td>\n",
       "      <td>397</td>\n",
       "      <td>3298.823678</td>\n",
       "      <td>343</td>\n",
       "      <td>18424</td>\n",
       "      <td>39.7</td>\n",
       "    </tr>\n",
       "    <tr>\n",
       "      <th>5</th>\n",
       "      <td>65+</td>\n",
       "      <td>23</td>\n",
       "      <td>3210.173913</td>\n",
       "      <td>571</td>\n",
       "      <td>14896</td>\n",
       "      <td>2.3</td>\n",
       "    </tr>\n",
       "  </tbody>\n",
       "</table>\n",
       "</div>"
      ],
      "text/plain": [
       "  age_class  Credit_num   Credit_avg  Credit_min  Credit_max  Percent\n",
       "0     45-54         120  3183.066667         338       12612     12.0\n",
       "1       <25         150  2970.733333         276       15672     15.0\n",
       "2     55-64          56  3493.660714         385       15945      5.6\n",
       "3     35-44         254  3403.771654         250       15857     25.4\n",
       "4     25-34         397  3298.823678         343       18424     39.7\n",
       "5       65+          23  3210.173913         571       14896      2.3"
      ]
     },
     "execution_count": 103,
     "metadata": {},
     "output_type": "execute_result"
    }
   ],
   "source": [
    "plot_data=tab.toPandas()\n",
    "plot_data"
   ]
  },
  {
   "cell_type": "code",
   "execution_count": 104,
   "metadata": {},
   "outputs": [
    {
     "data": {
      "image/png": "[encoded data removed]",
      "text/plain": [
       "<Figure size 1000x800 with 1 Axes>"
      ]
     },
     "metadata": {},
     "output_type": "display_data"
    },
    {
     "data": {
      "image/png": "[encoded data removed]",
      "text/plain": [
       "<Figure size 1000x800 with 1 Axes>"
      ]
     },
     "metadata": {},
     "output_type": "display_data"
    }
   ],
   "source": [
    "\n",
    "labels = plot_data.age_class\n",
    "sizes = plot_data.Percent\n",
    "colors = ['gold', 'yellowgreen', 'lightcoral','blue', 'lightskyblue','green','red']\n",
    "explode = (0, 0.1, 0, 0,0,0) # explode 1st slice，这是每一块离中心的距离\n",
    "# Plot\n",
    "plt.figure(figsize=(10,8))\n",
    "plt.pie(sizes, explode=explode, labels=labels, colors=colors,\n",
    "autopct='%1.1f%%', shadow=True, startangle=140)\n",
    "plt.axis('equal')\n",
    "plt.show()\n",
    "\n",
    "\n",
    "labels = plot_data.age_class\n",
    "missing = plot_data.Percent\n",
    "ind = [x for x, _ in enumerate(labels)]\n",
    "plt.figure(figsize=(10,8))\n",
    "plt.bar(ind, missing, width=0.8, label='missing', color='gold')\n",
    "plt.xticks(ind, labels)\n",
    "plt.ylabel(\"percentage\")\n",
    "plt.show()\n"
   ]
  },
  {
   "cell_type": "code",
   "execution_count": 105,
   "metadata": {},
   "outputs": [
    {
     "name": "stdout",
     "output_type": "stream",
     "text": [
      "                  Account Balance  No of dependents  Credit Amount\n",
      "Account Balance          1.000000         -0.014145      -0.042695\n",
      "No of dependents        -0.014145          1.000000       0.017144\n",
      "Credit Amount           -0.042695          0.017144       1.000000\n"
     ]
    }
   ],
   "source": [
    "#相关系数阵\n",
    "from pyspark.mllib.stat import Statistics\n",
    "import pandas as pd\n",
    "num_cols = ['Account Balance', 'No of dependents', 'Credit Amount']\n",
    "corr_data = df.select(num_cols) #依然是sparkdataframe\n",
    "col_names = corr_data.columns\n",
    "features = corr_data.rdd.map(lambda row: row[0:]) #将sparkdataframe变成了rdd，把值取了出来\n",
    "corr_mat = Statistics.corr(features, method=\"pearson\")\n",
    "corr_df = pd.DataFrame(corr_mat)\n",
    "corr_df.index, corr_df.columns = col_names, col_names\n",
    "#刚把各行名列名都删了，现在又加回来\n",
    "print(corr_df.to_string())"
   ]
  },
  {
   "cell_type": "code",
   "execution_count": 107,
   "metadata": {},
   "outputs": [
    {
     "data": {
      "text/plain": [
       "['Account Balance', 'No of dependents', 'Credit Amount']"
      ]
     },
     "execution_count": 107,
     "metadata": {},
     "output_type": "execute_result"
    }
   ],
   "source": [
    "col_names"
   ]
  },
  {
   "cell_type": "code",
   "execution_count": 108,
   "metadata": {},
   "outputs": [
    {
     "name": "stdout",
     "output_type": "stream",
     "text": [
      "+---------------+----------------+-------------+\n",
      "|Account Balance|No of dependents|Credit Amount|\n",
      "+---------------+----------------+-------------+\n",
      "|              1|               1|         1049|\n",
      "|              1|               2|         2799|\n",
      "|              2|               1|          841|\n",
      "|              1|               2|         2122|\n",
      "|              1|               1|         2171|\n",
      "+---------------+----------------+-------------+\n",
      "only showing top 5 rows\n",
      "\n"
     ]
    }
   ],
   "source": [
    "corr_data.show(5)"
   ]
  },
  {
   "cell_type": "code",
   "execution_count": 111,
   "metadata": {},
   "outputs": [
    {
     "data": {
      "text/plain": [
       "[Row(Account Balance=1, No of dependents=1, Credit Amount=1049),\n",
       " Row(Account Balance=1, No of dependents=2, Credit Amount=2799),\n",
       " Row(Account Balance=2, No of dependents=1, Credit Amount=841)]"
      ]
     },
     "execution_count": 111,
     "metadata": {},
     "output_type": "execute_result"
    }
   ],
   "source": [
    "corr_data.rdd.collect()[:3]"
   ]
  },
  {
   "cell_type": "code",
   "execution_count": 112,
   "metadata": {},
   "outputs": [
    {
     "data": {
      "text/plain": [
       "Row(Account Balance=1, No of dependents=1, Credit Amount=1049)"
      ]
     },
     "execution_count": 112,
     "metadata": {},
     "output_type": "execute_result"
    }
   ],
   "source": [
    "corr_data.rdd.collect()[0]"
   ]
  },
  {
   "cell_type": "code",
   "execution_count": 113,
   "metadata": {},
   "outputs": [
    {
     "data": {
      "text/plain": [
       "(1, 1, 1049)"
      ]
     },
     "execution_count": 113,
     "metadata": {},
     "output_type": "execute_result"
    }
   ],
   "source": [
    "corr_data.rdd.collect()[0][0:] #把值取了出来"
   ]
  },
  {
   "cell_type": "code",
   "execution_count": 114,
   "metadata": {},
   "outputs": [
    {
     "data": {
      "text/plain": [
       "array([[ 1.        , -0.01414543, -0.04269513],\n",
       "       [-0.01414543,  1.        ,  0.01714358],\n",
       "       [-0.04269513,  0.01714358,  1.        ]])"
      ]
     },
     "execution_count": 114,
     "metadata": {},
     "output_type": "execute_result"
    }
   ],
   "source": [
    "corr_mat#输入一个rdd，输出的是一个np的array"
   ]
  },
  {
   "cell_type": "code",
   "execution_count": 117,
   "metadata": {},
   "outputs": [
    {
     "data": {
      "text/plain": [
       "Row(A=1, B=2.2, C=3, D=4.5)"
      ]
     },
     "execution_count": 117,
     "metadata": {},
     "output_type": "execute_result"
    }
   ],
   "source": [
    "from pyspark.sql import Row\n",
    "Row(A=1,B=2.2,C=3,D=4.5)"
   ]
  },
  {
   "cell_type": "code",
   "execution_count": 118,
   "metadata": {},
   "outputs": [
    {
     "data": {
      "text/plain": [
       "(1, 2.2, 3, 4.5)"
      ]
     },
     "execution_count": 118,
     "metadata": {},
     "output_type": "execute_result"
    }
   ],
   "source": [
    "Row(A=1,B=2.2,C=3,D=4.5)[0:]"
   ]
  },
  {
   "cell_type": "markdown",
   "metadata": {},
   "source": [
    "元组里的元素最多22个元素，但是python里没有这个限制\n"
   ]
  }
 ],
 "metadata": {
  "kernelspec": {
   "display_name": "Python 3.10.6 64-bit",
   "language": "python",
   "name": "python3"
  },
  "language_info": {
   "codemirror_mode": {
    "name": "ipython",
    "version": 3
   },
   "file_extension": ".py",
   "mimetype": "text/x-python",
   "name": "python",
   "nbconvert_exporter": "python",
   "pygments_lexer": "ipython3",
   "version": "3.10.6"
  },
  "orig_nbformat": 4,
  "vscode": {
   "interpreter": {
    "hash": "dbd5104f6212b1fc6f64e8e19ae2007e53f3ed0d4bd4f1dbbcdf8e035cfbf35c"
   }
  }
 },
 "nbformat": 4,
 "nbformat_minor": 2
}
