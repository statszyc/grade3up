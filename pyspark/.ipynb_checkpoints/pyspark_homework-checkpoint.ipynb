{
 "cells": [
  {
   "cell_type": "markdown",
   "metadata": {},
   "source": [
    "# 第二问"
   ]
  },
  {
   "cell_type": "code",
   "execution_count": 1,
   "metadata": {},
   "outputs": [],
   "source": [
    "import findspark\n",
    "findspark.init()\n",
    "from pyspark.sql import SparkSession\n",
    "spark=SparkSession.builder.appName(\"A\").config(\"b\",\"c\").getOrCreate()"
   ]
  },
  {
   "cell_type": "code",
   "execution_count": 2,
   "metadata": {},
   "outputs": [],
   "source": [
    "ds=spark.read.csv(path='./data/german_credit.csv',header=True,inferSchema=True)\n",
    "num_cols=['Account Balance','No of dependents']"
   ]
  },
  {
   "cell_type": "code",
   "execution_count": 3,
   "metadata": {},
   "outputs": [],
   "source": [
    "#书P64\n",
    "import numpy as np\n",
    "import pandas as pd\n",
    "import pyspark.sql.functions as F\n",
    "def describe_pd(df_in,columns,deciles=False):\n",
    "    '''输入一个ds，返回一个df'''\n",
    "    if deciles:\n",
    "        percentiles=np.array(range(0,110,10)) #密集分位点\n",
    "    else:\n",
    "        percentiles=[25,50,75]\n",
    "    percs=np.transpose([np.percentile(df_in.select(x).collect(),percentiles) for x in columns])\n",
    "    percs=pd.DataFrame(percs,columns=columns)   \n",
    "    percs['summary']=[str(p)+'%' for p in percentiles]\n",
    "    #以上计算得到了各分位点\n",
    "    skew_kur=np.transpose([ds.select(F.skewness(x),F.kurtosis(x)).toPandas().values[0] for x in num_cols])\n",
    "    skew_kur=pd.DataFrame(skew_kur,columns=columns)\n",
    "    skew_kur['summary']=['skewness','kurtosis']\n",
    "    \n",
    "    spark_describe=df_in.describe() \n",
    "    spark_describe2=spark_describe.withColumn(\"Account Balance\",spark_describe['Account Balance'].cast('float')).\\\n",
    "        withColumn(\"No of dependents\",spark_describe['No of dependents'].cast('float')).toPandas()\n",
    "    new_df=pd.concat([spark_describe2,percs,skew_kur],ignore_index=True)\n",
    "    new_df=new_df.round(2) #所有结果保留两位小数\n",
    "    return new_df[['summary']+columns]"
   ]
  },
  {
   "cell_type": "markdown",
   "metadata": {},
   "source": [
    "#### 结果如下"
   ]
  },
  {
   "cell_type": "code",
   "execution_count": 4,
   "metadata": {},
   "outputs": [
    {
     "data": {
      "text/html": [
       "<div>\n",
       "<style scoped>\n",
       "    .dataframe tbody tr th:only-of-type {\n",
       "        vertical-align: middle;\n",
       "    }\n",
       "\n",
       "    .dataframe tbody tr th {\n",
       "        vertical-align: top;\n",
       "    }\n",
       "\n",
       "    .dataframe thead th {\n",
       "        text-align: right;\n",
       "    }\n",
       "</style>\n",
       "<table border=\"1\" class=\"dataframe\">\n",
       "  <thead>\n",
       "    <tr style=\"text-align: right;\">\n",
       "      <th></th>\n",
       "      <th>summary</th>\n",
       "      <th>Account Balance</th>\n",
       "      <th>No of dependents</th>\n",
       "    </tr>\n",
       "  </thead>\n",
       "  <tbody>\n",
       "    <tr>\n",
       "      <th>0</th>\n",
       "      <td>count</td>\n",
       "      <td>1000.00</td>\n",
       "      <td>1000.00</td>\n",
       "    </tr>\n",
       "    <tr>\n",
       "      <th>1</th>\n",
       "      <td>mean</td>\n",
       "      <td>2.58</td>\n",
       "      <td>1.15</td>\n",
       "    </tr>\n",
       "    <tr>\n",
       "      <th>2</th>\n",
       "      <td>stddev</td>\n",
       "      <td>1.26</td>\n",
       "      <td>0.36</td>\n",
       "    </tr>\n",
       "    <tr>\n",
       "      <th>3</th>\n",
       "      <td>min</td>\n",
       "      <td>1.00</td>\n",
       "      <td>1.00</td>\n",
       "    </tr>\n",
       "    <tr>\n",
       "      <th>4</th>\n",
       "      <td>max</td>\n",
       "      <td>4.00</td>\n",
       "      <td>2.00</td>\n",
       "    </tr>\n",
       "    <tr>\n",
       "      <th>5</th>\n",
       "      <td>0%</td>\n",
       "      <td>1.00</td>\n",
       "      <td>1.00</td>\n",
       "    </tr>\n",
       "    <tr>\n",
       "      <th>6</th>\n",
       "      <td>10%</td>\n",
       "      <td>1.00</td>\n",
       "      <td>1.00</td>\n",
       "    </tr>\n",
       "    <tr>\n",
       "      <th>7</th>\n",
       "      <td>20%</td>\n",
       "      <td>1.00</td>\n",
       "      <td>1.00</td>\n",
       "    </tr>\n",
       "    <tr>\n",
       "      <th>8</th>\n",
       "      <td>30%</td>\n",
       "      <td>2.00</td>\n",
       "      <td>1.00</td>\n",
       "    </tr>\n",
       "    <tr>\n",
       "      <th>9</th>\n",
       "      <td>40%</td>\n",
       "      <td>2.00</td>\n",
       "      <td>1.00</td>\n",
       "    </tr>\n",
       "    <tr>\n",
       "      <th>10</th>\n",
       "      <td>50%</td>\n",
       "      <td>2.00</td>\n",
       "      <td>1.00</td>\n",
       "    </tr>\n",
       "    <tr>\n",
       "      <th>11</th>\n",
       "      <td>60%</td>\n",
       "      <td>3.00</td>\n",
       "      <td>1.00</td>\n",
       "    </tr>\n",
       "    <tr>\n",
       "      <th>12</th>\n",
       "      <td>70%</td>\n",
       "      <td>4.00</td>\n",
       "      <td>1.00</td>\n",
       "    </tr>\n",
       "    <tr>\n",
       "      <th>13</th>\n",
       "      <td>80%</td>\n",
       "      <td>4.00</td>\n",
       "      <td>1.00</td>\n",
       "    </tr>\n",
       "    <tr>\n",
       "      <th>14</th>\n",
       "      <td>90%</td>\n",
       "      <td>4.00</td>\n",
       "      <td>2.00</td>\n",
       "    </tr>\n",
       "    <tr>\n",
       "      <th>15</th>\n",
       "      <td>100%</td>\n",
       "      <td>4.00</td>\n",
       "      <td>2.00</td>\n",
       "    </tr>\n",
       "    <tr>\n",
       "      <th>16</th>\n",
       "      <td>skewness</td>\n",
       "      <td>0.01</td>\n",
       "      <td>1.91</td>\n",
       "    </tr>\n",
       "    <tr>\n",
       "      <th>17</th>\n",
       "      <td>kurtosis</td>\n",
       "      <td>-1.66</td>\n",
       "      <td>1.64</td>\n",
       "    </tr>\n",
       "  </tbody>\n",
       "</table>\n",
       "</div>"
      ],
      "text/plain": [
       "     summary  Account Balance  No of dependents\n",
       "0      count          1000.00           1000.00\n",
       "1       mean             2.58              1.15\n",
       "2     stddev             1.26              0.36\n",
       "3        min             1.00              1.00\n",
       "4        max             4.00              2.00\n",
       "5         0%             1.00              1.00\n",
       "6        10%             1.00              1.00\n",
       "7        20%             1.00              1.00\n",
       "8        30%             2.00              1.00\n",
       "9        40%             2.00              1.00\n",
       "10       50%             2.00              1.00\n",
       "11       60%             3.00              1.00\n",
       "12       70%             4.00              1.00\n",
       "13       80%             4.00              1.00\n",
       "14       90%             4.00              2.00\n",
       "15      100%             4.00              2.00\n",
       "16  skewness             0.01              1.91\n",
       "17  kurtosis            -1.66              1.64"
      ]
     },
     "execution_count": 4,
     "metadata": {},
     "output_type": "execute_result"
    }
   ],
   "source": [
    "describe_pd(ds,num_cols,deciles=True)"
   ]
  },
  {
   "cell_type": "code",
   "execution_count": 5,
   "metadata": {},
   "outputs": [
    {
     "name": "stdout",
     "output_type": "stream",
     "text": [
      "+-------------------------+-------------------------+\n",
      "|skewness(Account Balance)|kurtosis(Account Balance)|\n",
      "+-------------------------+-------------------------+\n",
      "|     0.006946592744377805|      -1.6613901748002375|\n",
      "+-------------------------+-------------------------+\n",
      "\n",
      "+--------------------------+--------------------------+\n",
      "|skewness(No of dependents)|kurtosis(No of dependents)|\n",
      "+--------------------------+--------------------------+\n",
      "|        1.9065793599765313|        1.6350448558885375|\n",
      "+--------------------------+--------------------------+\n",
      "\n"
     ]
    }
   ],
   "source": [
    "#检验\n",
    "ds.select(F.skewness('Account Balance'),F.kurtosis('Account Balance')).show()\n",
    "ds.select(F.skewness('No of dependents'),F.kurtosis('No of dependents')).show()\n",
    "#偏度和峰度，以检验上面的结果"
   ]
  },
  {
   "cell_type": "markdown",
   "metadata": {},
   "source": [
    "# 第三问"
   ]
  },
  {
   "cell_type": "code",
   "execution_count": 6,
   "metadata": {},
   "outputs": [],
   "source": [
    "import random #np的函数只能产生[0,1)上的均匀分布随机数\n",
    "import numpy as np\n",
    "from scipy.stats import norm\n",
    "n=50\n",
    "sample_data=list()\n",
    "for _ in range(10000):\n",
    "    #第a步\n",
    "    Xs=np.array([random.uniform(0,1) for _ in range(n)])\n",
    "    sig2=1/12\n",
    "    mu=1/2\n",
    "    #第b步\n",
    "    R=1/(np.sqrt(n*sig2))*(np.sum(Xs)-n*mu)\n",
    "    sample_data.append(R)\n",
    "#第c步"
   ]
  },
  {
   "cell_type": "code",
   "execution_count": 7,
   "metadata": {},
   "outputs": [
    {
     "data": {
      "text/plain": [
       "[<matplotlib.lines.Line2D at 0x23f9f414a60>]"
      ]
     },
     "execution_count": 7,
     "metadata": {},
     "output_type": "execute_result"
    },
    {
     "data": {
      "image/png": "[encoded data removed]",
      "text/plain": [
       "<Figure size 640x480 with 1 Axes>"
      ]
     },
     "metadata": {},
     "output_type": "display_data"
    }
   ],
   "source": [
    "#第d步\n",
    "import seaborn as sns\n",
    "import matplotlib.pyplot as plt\n",
    "sns.histplot(sample_data,kde=False,\n",
    "                stat=\"density\",\n",
    "                # norm_hist=True\n",
    "                element=\"step\",\n",
    "                kde_kws=dict(cut=3),\n",
    "                bins=40,\n",
    "                alpha=1.,\n",
    "                edgecolor=(1, 1, 1, .4))\n",
    "plt.plot(np.linspace(-4,4,1000),norm.pdf(np.linspace(-4,4,1000)),'r')"
   ]
  }
 ],
 "metadata": {
  "kernelspec": {
   "display_name": "Python 3 (ipykernel)",
   "language": "python",
   "name": "python3"
  },
  "language_info": {
   "codemirror_mode": {
    "name": "ipython",
    "version": 3
   },
   "file_extension": ".py",
   "mimetype": "text/x-python",
   "name": "python",
   "nbconvert_exporter": "python",
   "pygments_lexer": "ipython3",
   "version": "3.10.6"
  },
  "vscode": {
   "interpreter": {
    "hash": "dbd5104f6212b1fc6f64e8e19ae2007e53f3ed0d4bd4f1dbbcdf8e035cfbf35c"
   }
  }
 },
 "nbformat": 4,
 "nbformat_minor": 4
}
