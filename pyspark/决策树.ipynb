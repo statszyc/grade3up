{
 "cells": [
  {
   "cell_type": "code",
   "execution_count": 2,
   "metadata": {},
   "outputs": [],
   "source": [
    "import findspark\n",
    "findspark.init()\n",
    "from pyspark.sql import SparkSession\n",
    "spark = SparkSession.builder.appName(\"A\").config(\"B\", \"C\").getOrCreate()\n",
    "sc=spark.sparkContext"
   ]
  },
  {
   "cell_type": "code",
   "execution_count": 3,
   "metadata": {},
   "outputs": [],
   "source": [
    "from pyspark.mllib.tree import DecisionTree, DecisionTreeModel\n",
    "from pyspark.mllib.util import MLUtils\n",
    "\n",
    "# Load and parse the data file into an RDD of LabeledPoint.\n",
    "data = MLUtils.loadLibSVMFile(sc, './sample_libsvm_data.txt')\n",
    "# Split the data into training and test sets (30% held out for testing)\n",
    "(trainingData, testData) = data.randomSplit([0.7, 0.3])"
   ]
  },
  {
   "cell_type": "code",
   "execution_count": 4,
   "metadata": {},
   "outputs": [],
   "source": [
    "# Train a DecisionTree model.\n",
    "# Empty categoricalFeaturesInfo indicates all features are continuous.\n",
    "model = DecisionTree.trainClassifier(trainingData, numClasses=2, categoricalFeaturesInfo={},\n",
    "                                     impurity='gini', maxDepth=5, maxBins=32)\n",
    "\n",
    "#trainingdata：训练用的数据，nmClasses：响应变量有几种取值， categoricalFeaturesInfo={}：将自变量中属于categorical（定性）的分量放在花括号中\n",
    "#impurity：用决策树分出来的叶子节点的杂质度（希望每一个叶子节点只有0或1，是纯洁的，纯度越高越好）\n",
    "# impurity = 'entropy' information gain，熵、信息增益\n",
    "# impurity = 'gini' gini index\n",
    "#上面是两种描述杂质度的公式\n",
    "#maxDepth：决策树的深度。分得越细，杂质度越低，拟合得越好，但是有过拟合的风险。应该对庞大的决策树进行剪枝。\n",
    "#maxBins：解释变量中的数值型变量在本模型中是非常规的，应该对它进行离散化（区间化），本参数指定数值型变量分类的最大值。\n"
   ]
  },
  {
   "cell_type": "code",
   "execution_count": 5,
   "metadata": {},
   "outputs": [
    {
     "name": "stdout",
     "output_type": "stream",
     "text": [
      "Test Error = 0.037037037037037035\n",
      "Learned classification tree model:\n",
      "DecisionTreeModel classifier of depth 2 with 5 nodes\n",
      "  If (feature 406 <= 22.0)\n",
      "   If (feature 100 <= 193.5)\n",
      "    Predict: 0.0\n",
      "   Else (feature 100 > 193.5)\n",
      "    Predict: 1.0\n",
      "  Else (feature 406 > 22.0)\n",
      "   Predict: 1.0\n",
      "\n"
     ]
    }
   ],
   "source": [
    "# Evaluate model on test instances and compute test error\n",
    "predictions = model.predict(testData.map(lambda x: x.features))  #解释变量\n",
    "labelsAndPredictions = testData.map(lambda lp: lp.label).zip(predictions)\n",
    "testErr = labelsAndPredictions.filter(\n",
    "    lambda lp: lp[0] != lp[1]).count() / float(testData.count())\n",
    "#lp[0]是label，lp[1]是predictions，用filter保留不一样的元素，计数，再除以总数\n",
    "print('Test Error = ' + str(testErr))\n",
    "print('Learned classification tree model:')\n",
    "print(model.toDebugString())  #可以返回拟合出来的决策树的形状"
   ]
  },
  {
   "attachments": {},
   "cell_type": "markdown",
   "metadata": {},
   "source": [
    "读ppt的P4~20的例子，讲解展成决策树的方法"
   ]
  }
 ],
 "metadata": {
  "kernelspec": {
   "display_name": "Python 3",
   "language": "python",
   "name": "python3"
  },
  "language_info": {
   "codemirror_mode": {
    "name": "ipython",
    "version": 3
   },
   "file_extension": ".py",
   "mimetype": "text/x-python",
   "name": "python",
   "nbconvert_exporter": "python",
   "pygments_lexer": "ipython3",
   "version": "3.10.6"
  },
  "orig_nbformat": 4,
  "vscode": {
   "interpreter": {
    "hash": "dbd5104f6212b1fc6f64e8e19ae2007e53f3ed0d4bd4f1dbbcdf8e035cfbf35c"
   }
  }
 },
 "nbformat": 4,
 "nbformat_minor": 2
}
