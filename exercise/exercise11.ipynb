{
 "cells": [
  {
   "cell_type": "markdown",
   "metadata": {
    "vscode": {
     "languageId": "r"
    }
   },
   "source": [
    "# 1(a)"
   ]
  },
  {
   "cell_type": "code",
   "execution_count": 1,
   "metadata": {
    "vscode": {
     "languageId": "r"
    }
   },
   "outputs": [
    {
     "data": {
      "text/html": [
       "<style>\n",
       ".list-inline {list-style: none; margin:0; padding: 0}\n",
       ".list-inline>li {display: inline-block}\n",
       ".list-inline>li:not(:last-child)::after {content: \"\\00b7\"; padding: 0 .5ex}\n",
       "</style>\n",
       "<ol class=list-inline><li>TRUE</li><li>TRUE</li><li>TRUE</li><li>FALSE</li><li>TRUE</li><li>TRUE</li><li>TRUE</li><li>TRUE</li><li>FALSE</li><li>TRUE</li><li>TRUE</li><li>TRUE</li><li>FALSE</li><li>TRUE</li><li>FALSE</li></ol>\n"
      ],
      "text/latex": [
       "\\begin{enumerate*}\n",
       "\\item TRUE\n",
       "\\item TRUE\n",
       "\\item TRUE\n",
       "\\item FALSE\n",
       "\\item TRUE\n",
       "\\item TRUE\n",
       "\\item TRUE\n",
       "\\item TRUE\n",
       "\\item FALSE\n",
       "\\item TRUE\n",
       "\\item TRUE\n",
       "\\item TRUE\n",
       "\\item FALSE\n",
       "\\item TRUE\n",
       "\\item FALSE\n",
       "\\end{enumerate*}\n"
      ],
      "text/markdown": [
       "1. TRUE\n",
       "2. TRUE\n",
       "3. TRUE\n",
       "4. FALSE\n",
       "5. TRUE\n",
       "6. TRUE\n",
       "7. TRUE\n",
       "8. TRUE\n",
       "9. FALSE\n",
       "10. TRUE\n",
       "11. TRUE\n",
       "12. TRUE\n",
       "13. FALSE\n",
       "14. TRUE\n",
       "15. FALSE\n",
       "\n",
       "\n"
      ],
      "text/plain": [
       " [1]  TRUE  TRUE  TRUE FALSE  TRUE  TRUE  TRUE  TRUE FALSE  TRUE  TRUE  TRUE\n",
       "[13] FALSE  TRUE FALSE"
      ]
     },
     "metadata": {},
     "output_type": "display_data"
    }
   ],
   "source": [
    "foo=c(6,9,7,3,6,7,9,6,3,6,6,7,1,9,1)\n",
    "foo>=6"
   ]
  },
  {
   "cell_type": "code",
   "execution_count": 2,
   "metadata": {
    "vscode": {
     "languageId": "r"
    }
   },
   "outputs": [
    {
     "name": "stdout",
     "output_type": "stream",
     "text": [
      " [1]  TRUE FALSE FALSE FALSE  TRUE FALSE FALSE  TRUE FALSE  TRUE  TRUE FALSE\n",
      "[13] FALSE FALSE FALSE\n",
      "[1]  1  5  8 10 11\n",
      "[1] 6 6 6 6 6\n"
     ]
    }
   ],
   "source": [
    "print(foo==6)\n",
    "print(which(foo==6))\n",
    "print(foo[foo==6])"
   ]
  },
  {
   "cell_type": "code",
   "execution_count": 3,
   "metadata": {
    "vscode": {
     "languageId": "r"
    }
   },
   "outputs": [
    {
     "name": "stdout",
     "output_type": "stream",
     "text": [
      " [1]  TRUE  TRUE  TRUE FALSE  TRUE  TRUE  TRUE  TRUE FALSE  TRUE  TRUE  TRUE\n",
      "[13] FALSE  TRUE FALSE\n",
      " [1]  1  2  3  5  6  7  8 10 11 12 14\n",
      " [1] 6 9 7 6 7 9 6 6 6 7 9\n"
     ]
    }
   ],
   "source": [
    "print(foo>=6)\n",
    "print(which(foo>=6))\n",
    "print(foo[foo>=6])"
   ]
  },
  {
   "cell_type": "code",
   "execution_count": 4,
   "metadata": {
    "vscode": {
     "languageId": "r"
    }
   },
   "outputs": [
    {
     "name": "stdout",
     "output_type": "stream",
     "text": [
      " [1]  TRUE FALSE  TRUE  TRUE  TRUE  TRUE FALSE  TRUE  TRUE  TRUE  TRUE  TRUE\n",
      "[13]  TRUE FALSE  TRUE\n",
      " [1]  1  3  4  5  6  8  9 10 11 12 13 15\n",
      " [1] 6 7 3 6 7 6 3 6 6 7 1 1\n"
     ]
    }
   ],
   "source": [
    "print(foo<8)\n",
    "print(which(foo<8))\n",
    "print(foo[foo<8])"
   ]
  },
  {
   "cell_type": "code",
   "execution_count": 5,
   "metadata": {
    "vscode": {
     "languageId": "r"
    }
   },
   "outputs": [
    {
     "name": "stdout",
     "output_type": "stream",
     "text": [
      " [1] FALSE  TRUE  TRUE  TRUE FALSE  TRUE  TRUE FALSE  TRUE FALSE FALSE  TRUE\n",
      "[13]  TRUE  TRUE  TRUE\n",
      " [1]  2  3  4  6  7  9 12 13 14 15\n",
      " [1] 9 7 3 7 9 3 7 1 9 1\n"
     ]
    }
   ],
   "source": [
    "print(foo!=6)\n",
    "print(which(foo!=6))\n",
    "print(foo[foo!=6])"
   ]
  },
  {
   "cell_type": "markdown",
   "metadata": {},
   "source": [
    "# 1(b)"
   ]
  },
  {
   "cell_type": "code",
   "execution_count": 6,
   "metadata": {
    "vscode": {
     "languageId": "r"
    }
   },
   "outputs": [
    {
     "name": "stdout",
     "output_type": "stream",
     "text": [
      ", , 1\n",
      "\n",
      "     [,1] [,2]\n",
      "[1,]    3    7\n",
      "[2,]    6    9\n",
      "\n",
      ", , 2\n",
      "\n",
      "     [,1] [,2]\n",
      "[1,]    6    6\n",
      "[2,]    3    6\n",
      "\n",
      ", , 3\n",
      "\n",
      "     [,1] [,2]\n",
      "[1,]    7    9\n",
      "[2,]    1    1\n",
      "\n"
     ]
    }
   ],
   "source": [
    "bar=foo[-(1:3)]\n",
    "arr<-array(data=bar,dim=c(2,2,3))\n",
    "print(arr)"
   ]
  },
  {
   "cell_type": "code",
   "execution_count": 7,
   "metadata": {
    "vscode": {
     "languageId": "r"
    }
   },
   "outputs": [
    {
     "name": "stdout",
     "output_type": "stream",
     "text": [
      ", , 1\n",
      "\n",
      "     [,1]  [,2]\n",
      "[1,] TRUE  TRUE\n",
      "[2,] TRUE FALSE\n",
      "\n",
      ", , 2\n",
      "\n",
      "     [,1] [,2]\n",
      "[1,] TRUE TRUE\n",
      "[2,] TRUE TRUE\n",
      "\n",
      ", , 3\n",
      "\n",
      "     [,1]  [,2]\n",
      "[1,] TRUE FALSE\n",
      "[2,] TRUE  TRUE\n",
      "\n",
      " [1]  1  2  3  5  6  7  8  9 10 12\n",
      " [1] 3 6 7 6 3 6 6 7 1 1\n"
     ]
    }
   ],
   "source": [
    "print(arr<=7)\n",
    "print(which(arr<=7))\n",
    "print(arr[arr<=7])"
   ]
  },
  {
   "cell_type": "code",
   "execution_count": 8,
   "metadata": {
    "vscode": {
     "languageId": "r"
    }
   },
   "outputs": [
    {
     "name": "stdout",
     "output_type": "stream",
     "text": [
      ", , 1\n",
      "\n",
      "      [,1]  [,2]\n",
      "[1,]  TRUE FALSE\n",
      "[2,] FALSE FALSE\n",
      "\n",
      ", , 2\n",
      "\n",
      "      [,1]  [,2]\n",
      "[1,] FALSE FALSE\n",
      "[2,]  TRUE FALSE\n",
      "\n",
      ", , 3\n",
      "\n",
      "      [,1]  [,2]\n",
      "[1,] FALSE FALSE\n",
      "[2,]  TRUE  TRUE\n",
      "\n",
      "[1]  1  6 10 12\n",
      "[1] 3 3 1 1\n"
     ]
    }
   ],
   "source": [
    "print(arr+2<=7)\n",
    "print(which(arr+2<=7))\n",
    "print(arr[arr+2<=7])"
   ]
  },
  {
   "cell_type": "markdown",
   "metadata": {},
   "source": [
    "# 1(c)"
   ]
  },
  {
   "cell_type": "code",
   "execution_count": 9,
   "metadata": {
    "vscode": {
     "languageId": "r"
    }
   },
   "outputs": [
    {
     "name": "stdout",
     "output_type": "stream",
     "text": [
      "[1] TRUE\n",
      "[1] TRUE\n"
     ]
    }
   ],
   "source": [
    "print(any(arr<=7))\n",
    "print(any(arr+2<=7))"
   ]
  },
  {
   "cell_type": "code",
   "execution_count": 10,
   "metadata": {
    "vscode": {
     "languageId": "r"
    }
   },
   "outputs": [
    {
     "name": "stdout",
     "output_type": "stream",
     "text": [
      "[1] FALSE\n",
      "[1] FALSE\n"
     ]
    }
   ],
   "source": [
    "print(all(arr<=7))\n",
    "print(all(arr+2<=7))"
   ]
  },
  {
   "cell_type": "markdown",
   "metadata": {},
   "source": [
    "# 2"
   ]
  },
  {
   "cell_type": "code",
   "execution_count": 11,
   "metadata": {
    "vscode": {
     "languageId": "r"
    }
   },
   "outputs": [],
   "source": [
    "foo=c(6,9,7,3,6,7,9,9,1,6,3,6,6,7,1)\n",
    "bar=c(6,7,9,9,1,6,3,6,6,6,9,7,3,6,7)\n",
    "baz=foo+bar"
   ]
  },
  {
   "cell_type": "code",
   "execution_count": 12,
   "metadata": {
    "vscode": {
     "languageId": "r"
    }
   },
   "outputs": [
    {
     "name": "stdout",
     "output_type": "stream",
     "text": [
      " [1] FALSE  TRUE  TRUE FALSE FALSE FALSE FALSE FALSE FALSE FALSE FALSE FALSE\n",
      "[13] FALSE FALSE FALSE\n",
      "[1] 2 3\n",
      "[1] 16 16\n"
     ]
    }
   ],
   "source": [
    "print((baz>=14)&(baz!=15))\n",
    "print(which((baz>=14)&(baz!=15)))\n",
    "print(baz[(baz>=14)&(baz!=15)])"
   ]
  },
  {
   "cell_type": "code",
   "execution_count": 13,
   "metadata": {
    "vscode": {
     "languageId": "r"
    }
   },
   "outputs": [
    {
     "name": "stdout",
     "output_type": "stream",
     "text": [
      " [1]  TRUE  TRUE FALSE FALSE  TRUE  TRUE  TRUE  TRUE  TRUE  TRUE FALSE FALSE\n",
      "[13]  TRUE  TRUE  TRUE\n",
      " [1]  1  2  5  6  7  8  9 10 13 14 15\n",
      " [1] 2.000000 1.777778 1.166667 1.857143 1.333333 1.666667 7.000000 2.000000\n",
      " [9] 1.500000 1.857143 8.000000\n"
     ]
    }
   ],
   "source": [
    "myvec=baz/foo\n",
    "print((myvec>4)|(myvec<=2))\n",
    "print(which((myvec>4)|(myvec<=2)))\n",
    "print(myvec[(myvec>4)|(myvec<=2)])"
   ]
  },
  {
   "cell_type": "markdown",
   "metadata": {},
   "source": [
    "# 3(a)"
   ]
  },
  {
   "cell_type": "code",
   "execution_count": 14,
   "metadata": {
    "vscode": {
     "languageId": "r"
    }
   },
   "outputs": [
    {
     "data": {
      "text/html": [
       "<style>\n",
       ".list-inline {list-style: none; margin:0; padding: 0}\n",
       ".list-inline>li {display: inline-block}\n",
       ".list-inline>li:not(:last-child)::after {content: \"\\00b7\"; padding: 0 .5ex}\n",
       "</style>\n",
       "<ol class=list-inline><li>7</li><li>5</li><li>6</li><li>10</li><li>8</li><li>8</li></ol>\n"
      ],
      "text/latex": [
       "\\begin{enumerate*}\n",
       "\\item 7\n",
       "\\item 5\n",
       "\\item 6\n",
       "\\item 10\n",
       "\\item 8\n",
       "\\item 8\n",
       "\\end{enumerate*}\n"
      ],
      "text/markdown": [
       "1. 7\n",
       "2. 5\n",
       "3. 6\n",
       "4. 10\n",
       "5. 8\n",
       "6. 8\n",
       "\n",
       "\n"
      ],
      "text/plain": [
       "[1]  7  5  6 10  8  8"
      ]
     },
     "metadata": {},
     "output_type": "display_data"
    }
   ],
   "source": [
    "foo <- c(7,5,6,1,2,10,8,3,8,2)\n",
    "bar=foo[foo>=5]\n",
    "bar"
   ]
  },
  {
   "cell_type": "code",
   "execution_count": 15,
   "metadata": {
    "vscode": {
     "languageId": "r"
    }
   },
   "outputs": [
    {
     "name": "stdout",
     "output_type": "stream",
     "text": [
      "[1] 1 2 3 2\n"
     ]
    }
   ],
   "source": [
    "myvec=foo[-which(foo>=5)]\n",
    "print(myvec)"
   ]
  },
  {
   "cell_type": "markdown",
   "metadata": {},
   "source": [
    "# 3(b)"
   ]
  },
  {
   "cell_type": "code",
   "execution_count": 16,
   "metadata": {
    "vscode": {
     "languageId": "r"
    }
   },
   "outputs": [],
   "source": [
    "baz=matrix(bar,nrow=2,ncol=3,byrow=T)"
   ]
  },
  {
   "cell_type": "code",
   "execution_count": 17,
   "metadata": {
    "vscode": {
     "languageId": "r"
    }
   },
   "outputs": [
    {
     "data": {
      "text/html": [
       "<table class=\"dataframe\">\n",
       "<caption>A matrix: 2 × 3 of type dbl</caption>\n",
       "<tbody>\n",
       "\t<tr><td> 7</td><td> 5</td><td> 6</td></tr>\n",
       "\t<tr><td>10</td><td>25</td><td>25</td></tr>\n",
       "</tbody>\n",
       "</table>\n"
      ],
      "text/latex": [
       "A matrix: 2 × 3 of type dbl\n",
       "\\begin{tabular}{lll}\n",
       "\t  7 &  5 &  6\\\\\n",
       "\t 10 & 25 & 25\\\\\n",
       "\\end{tabular}\n"
      ],
      "text/markdown": [
       "\n",
       "A matrix: 2 × 3 of type dbl\n",
       "\n",
       "|  7 |  5 |  6 |\n",
       "| 10 | 25 | 25 |\n",
       "\n"
      ],
      "text/plain": [
       "     [,1] [,2] [,3]\n",
       "[1,]  7    5    6  \n",
       "[2,] 10   25   25  "
      ]
     },
     "metadata": {},
     "output_type": "display_data"
    }
   ],
   "source": [
    "baz[baz==8]=baz[1,2]^2\n",
    "baz"
   ]
  },
  {
   "cell_type": "code",
   "execution_count": 18,
   "metadata": {
    "vscode": {
     "languageId": "r"
    }
   },
   "outputs": [
    {
     "data": {
      "text/html": [
       "TRUE"
      ],
      "text/latex": [
       "TRUE"
      ],
      "text/markdown": [
       "TRUE"
      ],
      "text/plain": [
       "[1] TRUE"
      ]
     },
     "metadata": {},
     "output_type": "display_data"
    }
   ],
   "source": [
    "all((baz<=25)&(baz>4))"
   ]
  },
  {
   "cell_type": "markdown",
   "metadata": {},
   "source": [
    "# 4(a)"
   ]
  },
  {
   "cell_type": "code",
   "execution_count": 19,
   "metadata": {
    "vscode": {
     "languageId": "r"
    }
   },
   "outputs": [
    {
     "name": "stdout",
     "output_type": "stream",
     "text": [
      "\"The quick brown fox\n",
      "\tjumped over\n",
      "\t\tthe lazy dogs\""
     ]
    }
   ],
   "source": [
    "cat(\"\\\"The quick brown fox\\n\\tjumped over\\n\\t\\tthe lazy dogs\\\"\")"
   ]
  },
  {
   "cell_type": "markdown",
   "metadata": {},
   "source": [
    "# 4(b)"
   ]
  },
  {
   "cell_type": "code",
   "execution_count": 20,
   "metadata": {
    "vscode": {
     "languageId": "r"
    }
   },
   "outputs": [
    {
     "data": {
      "text/html": [
       "TRUE"
      ],
      "text/latex": [
       "TRUE"
      ],
      "text/markdown": [
       "TRUE"
      ],
      "text/plain": [
       "[1] TRUE"
      ]
     },
     "metadata": {},
     "output_type": "display_data"
    }
   ],
   "source": [
    "mystr=\"Two 6-packs for $16.99\"\n",
    "substr(mystr,5,10)==\"6-pack\""
   ]
  },
  {
   "cell_type": "code",
   "execution_count": 21,
   "metadata": {
    "vscode": {
     "languageId": "r"
    }
   },
   "outputs": [
    {
     "data": {
      "text/html": [
       "'Two 6-packs for $14.99'"
      ],
      "text/latex": [
       "'Two 6-packs for \\$14.99'"
      ],
      "text/markdown": [
       "'Two 6-packs for $14.99'"
      ],
      "text/plain": [
       "[1] \"Two 6-packs for $14.99\""
      ]
     },
     "metadata": {},
     "output_type": "display_data"
    }
   ],
   "source": [
    "sub(pattern = \"16.99\",replacement = \"14.99\",x=mystr)"
   ]
  },
  {
   "cell_type": "markdown",
   "metadata": {},
   "source": [
    "# 5(a)"
   ]
  },
  {
   "cell_type": "code",
   "execution_count": 22,
   "metadata": {
    "vscode": {
     "languageId": "r"
    }
   },
   "outputs": [],
   "source": [
    "myseq=seq(-4,4,length.out=20)\n",
    "mymat=matrix(c(F,T,T,T,F,T,T,F,F),nrow=3,ncol=3,byrow=F)\n",
    "myvec=c(\"don\",\"quixote\")\n",
    "myfac=factor(c(\"LOW\",\"MED\",\"LOW\",\"MED\",\"MED\",\"HIGH\"))"
   ]
  },
  {
   "cell_type": "code",
   "execution_count": 23,
   "metadata": {
    "vscode": {
     "languageId": "r"
    }
   },
   "outputs": [
    {
     "data": {
      "text/html": [
       "<table class=\"dataframe\">\n",
       "<caption>A matrix: 2 × 2 of type lgl</caption>\n",
       "<tbody>\n",
       "\t<tr><td>FALSE</td><td>FALSE</td></tr>\n",
       "\t<tr><td> TRUE</td><td> TRUE</td></tr>\n",
       "</tbody>\n",
       "</table>\n"
      ],
      "text/latex": [
       "A matrix: 2 × 2 of type lgl\n",
       "\\begin{tabular}{ll}\n",
       "\t FALSE & FALSE\\\\\n",
       "\t  TRUE &  TRUE\\\\\n",
       "\\end{tabular}\n"
      ],
      "text/markdown": [
       "\n",
       "A matrix: 2 × 2 of type lgl\n",
       "\n",
       "| FALSE | FALSE |\n",
       "|  TRUE |  TRUE |\n",
       "\n"
      ],
      "text/plain": [
       "     [,1]  [,2] \n",
       "[1,] FALSE FALSE\n",
       "[2,]  TRUE  TRUE"
      ]
     },
     "metadata": {},
     "output_type": "display_data"
    }
   ],
   "source": [
    "mymat[c(2,1),c(2,3)]"
   ]
  },
  {
   "cell_type": "code",
   "execution_count": 24,
   "metadata": {
    "vscode": {
     "languageId": "r"
    }
   },
   "outputs": [],
   "source": [
    "myvec=sub(pattern = c(\"quixote\"),replacement = c(\"Quixote\"),x=myvec)\n",
    "newvec=sub(pattern = c(\"don\"),replacement = c(\"Don\"),x=myvec)"
   ]
  },
  {
   "cell_type": "code",
   "execution_count": 25,
   "metadata": {
    "vscode": {
     "languageId": "r"
    }
   },
   "outputs": [
    {
     "name": "stdout",
     "output_type": "stream",
     "text": [
      "\"Windmills! ATTACK!\"\n",
      "\t-\\Don Quixote/-"
     ]
    }
   ],
   "source": [
    "cat(\"\\\"Windmills! ATTACK!\\\"\\n\\t-\\\\\",newvec[1],\" \",newvec[2],\"/-\",sep='')"
   ]
  },
  {
   "cell_type": "code",
   "execution_count": 26,
   "metadata": {
    "vscode": {
     "languageId": "r"
    }
   },
   "outputs": [
    {
     "data": {
      "text/html": [
       "<style>\n",
       ".list-inline {list-style: none; margin:0; padding: 0}\n",
       ".list-inline>li {display: inline-block}\n",
       ".list-inline>li:not(:last-child)::after {content: \"\\00b7\"; padding: 0 .5ex}\n",
       "</style>\n",
       "<ol class=list-inline><li>1.05263157894737</li><li>1.47368421052632</li><li>1.89473684210526</li><li>2.31578947368421</li><li>2.73684210526316</li><li>3.1578947368421</li><li>3.57894736842105</li><li>4</li></ol>\n"
      ],
      "text/latex": [
       "\\begin{enumerate*}\n",
       "\\item 1.05263157894737\n",
       "\\item 1.47368421052632\n",
       "\\item 1.89473684210526\n",
       "\\item 2.31578947368421\n",
       "\\item 2.73684210526316\n",
       "\\item 3.1578947368421\n",
       "\\item 3.57894736842105\n",
       "\\item 4\n",
       "\\end{enumerate*}\n"
      ],
      "text/markdown": [
       "1. 1.05263157894737\n",
       "2. 1.47368421052632\n",
       "3. 1.89473684210526\n",
       "4. 2.31578947368421\n",
       "5. 2.73684210526316\n",
       "6. 3.1578947368421\n",
       "7. 3.57894736842105\n",
       "8. 4\n",
       "\n",
       "\n"
      ],
      "text/plain": [
       "[1] 1.052632 1.473684 1.894737 2.315789 2.736842 3.157895 3.578947 4.000000"
      ]
     },
     "metadata": {},
     "output_type": "display_data"
    }
   ],
   "source": [
    "myseq[myseq>1]"
   ]
  },
  {
   "cell_type": "code",
   "execution_count": 27,
   "metadata": {
    "vscode": {
     "languageId": "r"
    }
   },
   "outputs": [
    {
     "name": "stdout",
     "output_type": "stream",
     "text": [
      "[1] FALSE  TRUE FALSE  TRUE  TRUE FALSE\n",
      "[1] 2 4 5\n",
      "[1] MED MED MED\n",
      "Levels: HIGH LOW MED\n"
     ]
    }
   ],
   "source": [
    "print(myfac==\"MED\")\n",
    "print(which(myfac==\"MED\"))\n",
    "print(myfac[myfac==\"MED\"])"
   ]
  },
  {
   "cell_type": "code",
   "execution_count": null,
   "metadata": {
    "vscode": {
     "languageId": "r"
    }
   },
   "outputs": [],
   "source": []
  }
 ],
 "metadata": {
  "kernelspec": {
   "display_name": "R",
   "language": "R",
   "name": "ir"
  },
  "language_info": {
   "codemirror_mode": "r",
   "file_extension": ".r",
   "mimetype": "text/x-r-source",
   "name": "R",
   "pygments_lexer": "r",
   "version": "4.2.1"
  }
 },
 "nbformat": 4,
 "nbformat_minor": 4
}
