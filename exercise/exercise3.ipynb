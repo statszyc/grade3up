{
 "cells": [
  {
   "cell_type": "markdown",
   "metadata": {},
   "source": [
    "第一题"
   ]
  },
  {
   "cell_type": "markdown",
   "metadata": {},
   "source": [
    "餐馆：创建一个名为Restaurant 的类，其方法__init__()设置两个属性：\n",
    "restaurant_name 和cuisine_type。创建一个名为describe_restaurant()的方法和一个\n",
    "名为open_restaurant()的方法，其中前者打印前述两项信息，而后者打印一条消息，\n",
    "指出餐馆正在营业。根据这个类创建一个名为restaurant 的实例，分别打印其两个属性，\n",
    "再调用前述两个方法。"
   ]
  },
  {
   "cell_type": "code",
   "execution_count": 32,
   "metadata": {},
   "outputs": [
    {
     "name": "stdout",
     "output_type": "stream",
     "text": [
      "Mille\n",
      "Chinese\n",
      "The name of our restaurant is Mille, and our cuisine type is Chinese\n",
      "Our restaurant is open for business\n"
     ]
    }
   ],
   "source": [
    "class Restaurant():\n",
    "    def __init__(self,name,type):\n",
    "        self.restaurant_name=name\n",
    "        self.cuisine_type=type\n",
    "    def describe_restaurant(self):\n",
    "        print(\"The name of our restaurant is \"+self.restaurant_name+\", and our cuisine type is \"+self.cuisine_type)\n",
    "    def open_restaurant(self):\n",
    "        print(\"Our restaurant is open for business\")\n",
    "restaurant = Restaurant(\"Mille\",\"Chinese\")\n",
    "print(restaurant.restaurant_name)\n",
    "print(restaurant.cuisine_type)\n",
    "restaurant.describe_restaurant()\n",
    "restaurant.open_restaurant()"
   ]
  },
  {
   "cell_type": "markdown",
   "metadata": {},
   "source": [
    "第二题"
   ]
  },
  {
   "cell_type": "markdown",
   "metadata": {},
   "source": [
    "三家餐馆：根据你为完成练习1 而编写的类创建三个实例，并对每个实例调\n",
    "用方法describe_restaurant()。"
   ]
  },
  {
   "cell_type": "code",
   "execution_count": 33,
   "metadata": {},
   "outputs": [
    {
     "name": "stdout",
     "output_type": "stream",
     "text": [
      "The name of our restaurant is zs, and our cuisine type is French\n",
      "The name of our restaurant is ys, and our cuisine type is Japanese\n",
      "The name of our restaurant is cs, and our cuisine type is German\n"
     ]
    }
   ],
   "source": [
    "zs_restaurant = Restaurant(\"zs\",\"French\")\n",
    "ys_restaurant = Restaurant(\"ys\",\"Japanese\")\n",
    "cs_restaurant = Restaurant(\"cs\",\"German\")\n",
    "zs_restaurant.describe_restaurant()\n",
    "ys_restaurant.describe_restaurant()\n",
    "cs_restaurant.describe_restaurant()"
   ]
  },
  {
   "cell_type": "markdown",
   "metadata": {},
   "source": [
    "第三题"
   ]
  },
  {
   "cell_type": "markdown",
   "metadata": {},
   "source": [
    "用户：创建一个名为User 的类，其中包含属性first_name 和last_name，还有\n",
    "用户简介通常会存储的其他几个属性。在类User 中定义一个名为describe_user()的方\n",
    "法，它打印用户信息摘要；再定义一个名为greet_user()的方法，它向用户发出个性化\n",
    "的问候。创建多个表示不同用户的实例，并对每个实例都调用上述两个方法。"
   ]
  },
  {
   "cell_type": "code",
   "execution_count": 34,
   "metadata": {},
   "outputs": [
    {
     "name": "stdout",
     "output_type": "stream",
     "text": [
      "The info of the guest is: John Smith, male, USA\n",
      "Hello! Dear John Smith\n",
      "The info of the guest is: Tom Riddel, male, UK\n",
      "Hello! Dear Tom Riddel\n",
      "The info of the guest is: Alice Riddel, female, Canada\n",
      "Hello! Dear Alice Riddel\n"
     ]
    }
   ],
   "source": [
    "class User():\n",
    "    def __init__(self,first_name,last_name,gender,nation):\n",
    "        self.first_name = first_name\n",
    "        self.last_name = last_name\n",
    "        self.gender = gender\n",
    "        self.nation = nation\n",
    "    def describe_user(self):\n",
    "        print(\"The info of the guest is: \"+self.first_name+\" \"+self.last_name+\", \"+self.gender+\", \"+self.nation)\n",
    "    def greet_user(self):\n",
    "        print(\"Hello! Dear \"+self.first_name+\" \"+self.last_name)\n",
    "john=User(\"John\",\"Smith\",\"male\",\"USA\")\n",
    "john.describe_user()\n",
    "john.greet_user()\n",
    "tom=User(\"Tom\",\"Riddel\",\"male\",\"UK\")\n",
    "tom.describe_user()\n",
    "tom.greet_user()\n",
    "alice=User(\"Alice\",\"Riddel\",\"female\",\"Canada\")\n",
    "alice.describe_user()\n",
    "alice.greet_user()"
   ]
  },
  {
   "cell_type": "markdown",
   "metadata": {},
   "source": [
    "第四题"
   ]
  },
  {
   "cell_type": "markdown",
   "metadata": {},
   "source": [
    "就餐人数：在为完成练习1 而编写的程序中，添加一个名为number_served\n",
    "的属性，并将其默认值设置为0。根据这个类创建一个名为restaurant 的实例；打印有\n",
    "多少人在这家餐馆就餐过，然后修改这个值并再次打印它。\n",
    "添加一个名为set_number_served()的方法，它让你能够设置就餐人数。调用这个\n",
    "方法并向它传递一个值，然后再次打印这个值。\n",
    "添加一个名为increment_number_served()的方法，它让你能够将就餐人数递增。"
   ]
  },
  {
   "cell_type": "code",
   "execution_count": 35,
   "metadata": {},
   "outputs": [
    {
     "name": "stdout",
     "output_type": "stream",
     "text": [
      "0\n",
      "40\n",
      "70\n"
     ]
    }
   ],
   "source": [
    "class Restaurant():\n",
    "    def __init__(self,name,type):\n",
    "        self.restaurant_name=name\n",
    "        self.cuisine_type=type\n",
    "        self.number_served=0\n",
    "    def describe_restaurant(self):\n",
    "        print(\"The name of our restaurant is \"+self.restaurant_name+\", and our cuisine type is \"+self.cuisine_type)\n",
    "    def open_restaurant(self):\n",
    "        print(\"Our restaurant is open for business\")\n",
    "    def set_number_served(self,number):\n",
    "        self.number_served=number\n",
    "    def increment_number_served(self,delta):   #问过了老师，老师说从函数名看，应传入增加的人数\n",
    "        self.number_served+=delta\n",
    "restaurant=Restaurant(\"number\",\"Chinese\")\n",
    "print(restaurant.number_served)\n",
    "restaurant.set_number_served(40)\n",
    "print(restaurant.number_served)\n",
    "restaurant.increment_number_served(30)\n",
    "print(restaurant.number_served)"
   ]
  },
  {
   "cell_type": "markdown",
   "metadata": {},
   "source": [
    "第五题"
   ]
  },
  {
   "cell_type": "markdown",
   "metadata": {},
   "source": [
    "尝试登录次数：在为完成练习3 而编写的User 类中，添加一个名为\n",
    "login_attempts 的属性。编写一个名为increment_login_attempts()的方法，它将属性\n",
    "login_attempts 的值加1。再编写一个名为reset_login_attempts()的方法，它将属性\n",
    "login_attempts 的值重置为0。\n",
    "根据User 类创建一个实例，再调用方法increment_login_attempts()多次。打印属\n",
    "性login_attempts 的值，确认它被正确地递增；然后，调用方法reset_login_attempts()，\n",
    "并再次打印属性login_attempts 的值，确认它被重置为0。"
   ]
  },
  {
   "cell_type": "code",
   "execution_count": 36,
   "metadata": {},
   "outputs": [
    {
     "name": "stdout",
     "output_type": "stream",
     "text": [
      "3\n",
      "0\n"
     ]
    }
   ],
   "source": [
    "class User():\n",
    "    def __init__(self,first_name,last_name,gender,nation,login_attempts):\n",
    "        self.first_name = first_name\n",
    "        self.last_name = last_name\n",
    "        self.gender = gender\n",
    "        self.nation = nation\n",
    "        self.login_attempts = login_attempts\n",
    "    def describe_user(self):\n",
    "        print(\"The info of the guest is: \"+self.first_name+\" \"+self.last_name+\", \"+self.gender,\", \"+self.nation+\", attempts to login for \"+str(self.login_attempts)+\" times\")\n",
    "    def greet_user(self):\n",
    "        print(\"Hello! Dear \"+self.first_name+\" \"+self.last_name)\n",
    "    def increment_login_attempts(self):\n",
    "        self.login_attempts+=1\n",
    "    def reset_login_attempts(self):\n",
    "        self.login_attempts=0\n",
    "Bob=User(\"Bob\",\"Smith\",\"male\",\"USA\",0)\n",
    "Bob.increment_login_attempts()\n",
    "Bob.increment_login_attempts()\n",
    "Bob.increment_login_attempts()\n",
    "print(Bob.login_attempts)\n",
    "Bob.reset_login_attempts()\n",
    "print(Bob.login_attempts)"
   ]
  },
  {
   "cell_type": "markdown",
   "metadata": {},
   "source": [
    "第六题"
   ]
  },
  {
   "cell_type": "markdown",
   "metadata": {},
   "source": [
    "冰淇淋小店：冰淇淋小店是一种特殊的餐馆。编写一个名为IceCreamStand 的\n",
    "类，让它继承你为完成练习1 或练习4 而编写的Restaurant 类。这两个版本的\n",
    "Restaurant 类都可以，挑选你更喜欢的那个即可。添加一个名为flavors 的属性，用于\n",
    "存储一个由各种口味的冰淇淋组成的列表。编写一个显示这些冰淇淋的方法。创建一个\n",
    "IceCreamStand 实例，并调用这个方法。"
   ]
  },
  {
   "cell_type": "code",
   "execution_count": 37,
   "metadata": {},
   "outputs": [
    {
     "name": "stdout",
     "output_type": "stream",
     "text": [
      "We have strawberry, milk, tea icecream!\n"
     ]
    }
   ],
   "source": [
    "class Restaurant():\n",
    "    def __init__(self,name,type):\n",
    "        self.restaurant_name=name\n",
    "        self.cuisine_type=type\n",
    "        self.number_served=0\n",
    "    def describe_restaurant(self):\n",
    "        print(\"The name of our restaurant is \"+self.restaurant_name+\", and our cuisine type is \"+self.cuisine_type)\n",
    "    def open_restaurant(self):\n",
    "        print(\"Our restaurant is open for business\")\n",
    "    def set_number_served(self,number):\n",
    "        self.number_served=number\n",
    "    def increment_number_served(self,delta):   #问过了老师，老师说从函数名看，应传入增加的人数\n",
    "        self.number_served+=delta\n",
    "class IceCreamStand(Restaurant):  #继承了为练习四编写的Restaurant类\n",
    "    def __init__(self,name,type):\n",
    "        super().__init__(name,type)\n",
    "        self.flavors=[\"strawberry\",\"milk\",\"tea\"]\n",
    "    def show_flavors(self):\n",
    "        print(\"We have \"+', '.join(self.flavors)+\" icecream!\")\n",
    "icecream=IceCreamStand(\"ice\",\"icecream\")\n",
    "icecream.show_flavors()"
   ]
  },
  {
   "cell_type": "markdown",
   "metadata": {},
   "source": [
    "第七题"
   ]
  },
  {
   "cell_type": "markdown",
   "metadata": {},
   "source": [
    "管理员：管理员是一种特殊的用户。编写一个名为Admin 的类，让它继承你为\n",
    "完成练习3 或练习5 而编写的User 类。添加一个名为privileges 的属性，用于存\n",
    "储一个由字符串（如\"can add post\"、\"can delete post\"、\"can ban user\"等）组成的\n",
    "列表。编写一个名为show_privileges()的方法，它显示管理员的权限。创建一个Admin\n",
    "实例，并调用这个方法。"
   ]
  },
  {
   "cell_type": "code",
   "execution_count": 2,
   "metadata": {},
   "outputs": [
    {
     "name": "stdout",
     "output_type": "stream",
     "text": [
      "The privileges of the Adimin are can add post, can delete post, can ban user\n"
     ]
    }
   ],
   "source": [
    "class User():\n",
    "    def __init__(self,first_name,last_name,gender,nation,login_attempts):\n",
    "        self.first_name = first_name\n",
    "        self.last_name = last_name\n",
    "        self.gender = gender\n",
    "        self.nation = nation\n",
    "        self.login_attempts = login_attempts\n",
    "    def describe_user(self):\n",
    "        print(\"The info of the guest is: \"+self.first_name+\" \"+self.last_name+\", \"+self.gender,\", \"+self.nation+\", attempts to login for \"+str(self.login_attempts)+\" times\")\n",
    "    def greet_user(self):\n",
    "        print(\"Hello! Dear \"+self.first_name+\" \"+self.last_name)\n",
    "    def increment_login_attempts(self):\n",
    "        self.login_attempts+=1\n",
    "    def reset_login_attempts(self):\n",
    "        self.login_attempts=0\n",
    "class Admin(User):   #继承了为练习5而编写的User类\n",
    "    def __init__(self,first_name,last_name,gender,nation,login_attempts):\n",
    "        super().__init__(first_name,last_name,gender,nation,login_attempts)\n",
    "        self.privileges=[\"can add post\",\"can delete post\",\"can ban user\"]\n",
    "    def show_privileges(self):\n",
    "        print(\"The privileges of the Adimin are \"+', '.join(self.privileges))\n",
    "admin=Admin(\"Donald\",\"Trump\",\"male\",\"USA\",0)\n",
    "admin.show_privileges()"
   ]
  },
  {
   "cell_type": "markdown",
   "metadata": {},
   "source": [
    "第八题"
   ]
  },
  {
   "cell_type": "markdown",
   "metadata": {},
   "source": [
    "权限：编写一个名为Privileges 的类，它只有一个属性——privileges，其中\n",
    "存储了练习7 所说的字符串列表。将方法show_privileges()移到这个类中。在Admin\n",
    "类中，将一个Privileges 实例用作其属性。创建一个Admin 实例，并使用方法\n",
    "show_privileges()来显示其权限。"
   ]
  },
  {
   "cell_type": "code",
   "execution_count": 6,
   "metadata": {},
   "outputs": [
    {
     "name": "stdout",
     "output_type": "stream",
     "text": [
      "The privileges of the Adimin are can add post, can delete post, can ban user\n"
     ]
    }
   ],
   "source": [
    "class Admin(User):   #继承了为练习5而编写的User类\n",
    "    def __init__(self,first_name,last_name,gender,nation,login_attempts):\n",
    "        super().__init__(first_name,last_name,gender,nation,login_attempts)\n",
    "        self.privilege=self.Previleges()\n",
    "    class Previleges():\n",
    "        def __init__(self):\n",
    "            self.privileges=[\"can add post\",\"can delete post\",\"can ban user\"]\n",
    "        def show_privileges(self):\n",
    "            print(\"The privileges of the Adimin are \"+', '.join(self.privileges))\n",
    "\n",
    "adm=Admin(\"Donald\",\"Trump\",\"male\",\"USA\",0)\n",
    "adm.privilege.show_privileges()"
   ]
  },
  {
   "cell_type": "code",
   "execution_count": null,
   "metadata": {},
   "outputs": [],
   "source": []
  }
 ],
 "metadata": {
  "kernelspec": {
   "display_name": "Python 3.10.6 64-bit",
   "language": "python",
   "name": "python3"
  },
  "language_info": {
   "codemirror_mode": {
    "name": "ipython",
    "version": 3
   },
   "file_extension": ".py",
   "mimetype": "text/x-python",
   "name": "python",
   "nbconvert_exporter": "python",
   "pygments_lexer": "ipython3",
   "version": "3.10.6"
  },
  "orig_nbformat": 4,
  "vscode": {
   "interpreter": {
    "hash": "dbd5104f6212b1fc6f64e8e19ae2007e53f3ed0d4bd4f1dbbcdf8e035cfbf35c"
   }
  }
 },
 "nbformat": 4,
 "nbformat_minor": 2
}
