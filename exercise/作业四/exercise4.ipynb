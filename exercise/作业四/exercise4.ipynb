{
 "cells": [
  {
   "cell_type": "markdown",
   "metadata": {},
   "source": [
    "第一题"
   ]
  },
  {
   "cell_type": "code",
   "execution_count": 9,
   "metadata": {},
   "outputs": [
    {
     "name": "stdout",
     "output_type": "stream",
     "text": [
      "Hello, Dear John\n",
      "Hello, Dear Tom\n",
      "Hello, Dear Alice\n",
      "Hello, Dear Jay\n"
     ]
    }
   ],
   "source": [
    "with open(\"guest_book.txt\",'w') as file:\n",
    "    while True:\n",
    "        name=input(\"Please input your name: ('quit' to terminate)\")\n",
    "        if name==\"quit\":\n",
    "            break\n",
    "        print(\"Hello, Dear \"+name)\n",
    "        file.write(name+'\\n')\n"
   ]
  },
  {
   "cell_type": "markdown",
   "metadata": {},
   "source": [
    "第二题"
   ]
  },
  {
   "cell_type": "code",
   "execution_count": 2,
   "metadata": {},
   "outputs": [
    {
     "name": "stdout",
     "output_type": "stream",
     "text": [
      "I know your favorite number! It's 2345\n"
     ]
    }
   ],
   "source": [
    "import json\n",
    "with open(\"number.json\",\"w\") as file:\n",
    "    num=input(\"Please input your favorite number: \")\n",
    "    json.dump(num, file)\n",
    "with open(\"number.json\",\"r\") as file:\n",
    "    num=json.load(file)\n",
    "    print(\"I know your favorite number! It's \"+num)"
   ]
  },
  {
   "cell_type": "markdown",
   "metadata": {},
   "source": [
    "第三题"
   ]
  },
  {
   "cell_type": "code",
   "execution_count": null,
   "metadata": {},
   "outputs": [],
   "source": [
    "import json\n",
    "with open(\"num.json\",'w') as orfile:\n",
    "    json.dump({}, orfile)"
   ]
  },
  {
   "cell_type": "code",
   "execution_count": 45,
   "metadata": {},
   "outputs": [
    {
     "name": "stdout",
     "output_type": "stream",
     "text": [
      "Alice's favorite number is 4000\n",
      "Riddle's favorite number is 3000\n"
     ]
    }
   ],
   "source": [
    "with open(\"num.json\",'r') as file:\n",
    "    filed=json.load(file)\n",
    "    while True:\n",
    "        name=input(\"Please input your name: ('quit' to terminate)\")\n",
    "        if name==\"quit\":\n",
    "            break\n",
    "        if name in filed.keys():\n",
    "            print(name+\"'s favorite number is \"+filed[name])\n",
    "        else:\n",
    "            num=input(\"Sorry, but please input your favorite number: \")\n",
    "            filed[name]=num\n",
    "        with open(\"num.json\",\"w\") as subfile:\n",
    "            json.dump(filed,subfile)\n",
    "        "
   ]
  },
  {
   "cell_type": "markdown",
   "metadata": {},
   "source": [
    "第四题"
   ]
  },
  {
   "cell_type": "code",
   "execution_count": 48,
   "metadata": {},
   "outputs": [
    {
     "name": "stdout",
     "output_type": "stream",
     "text": [
      "304952 is in pi1000000\n",
      "It begins from the 154190th number after the dot\n"
     ]
    }
   ],
   "source": [
    "with open(\"pi1000000.txt\",\"r\") as file:\n",
    "    obj=file.readlines()\n",
    "    pi=\"\"\n",
    "    for line in obj:\n",
    "        pi+=line.strip()\n",
    "    num=input(\"Please input a number: \")\n",
    "    if num in pi:\n",
    "        print(num+\" is in pi1000000\")\n",
    "        print(\"It begins from the \"+str(pi.find(num)-1)+\"th number after the dot\")\n",
    "    else:\n",
    "        print(\"The number is not in pi1000000\")\n",
    "    \n"
   ]
  },
  {
   "cell_type": "markdown",
   "metadata": {},
   "source": [
    "第五题"
   ]
  },
  {
   "cell_type": "code",
   "execution_count": 35,
   "metadata": {},
   "outputs": [],
   "source": [
    "import os\n",
    "import shutil\n",
    "targetdir=\"D:/vscode/vscode_doc/统计软件\"\n",
    "os.chdir(targetdir)\n",
    "expandname=input(\"What expand name do you want? \")\n",
    "fileandname=[]\n",
    "os.mkdir(targetdir+\"/\"+expandname)\n",
    "for foldername,subfolders,filenames in os.walk(targetdir):\n",
    "    for filename in filenames:\n",
    "        if os.path.splitext(filename)[1]==expandname:\n",
    "            shutil.copy(foldername+\"/\"+filename,targetdir+'\\\\'+expandname)"
   ]
  },
  {
   "cell_type": "code",
   "execution_count": 36,
   "metadata": {},
   "outputs": [
    {
     "data": {
      "text/plain": [
       "['class1.ipynb',\n",
       " 'class2.ipynb',\n",
       " 'class3.ipynb',\n",
       " 'class4.ipynb',\n",
       " 'exercise1.ipynb',\n",
       " 'exercise2.ipynb',\n",
       " 'exercise3.ipynb',\n",
       " 'exercise4.ipynb',\n",
       " 'pythonclassfive.ipynb',\n",
       " 'pythonclassfour.ipynb',\n",
       " 'pythonclassthree.ipynb',\n",
       " 'pythonclasstwo1.ipynb',\n",
       " 'pythonclass_one.ipynb']"
      ]
     },
     "execution_count": 36,
     "metadata": {},
     "output_type": "execute_result"
    }
   ],
   "source": [
    "os.listdir(targetdir+\"/\"+expandname)"
   ]
  },
  {
   "cell_type": "markdown",
   "metadata": {},
   "source": [
    "第六题"
   ]
  },
  {
   "cell_type": "code",
   "execution_count": 45,
   "metadata": {},
   "outputs": [],
   "source": [
    "import os\n",
    "import shutil\n",
    "import random\n",
    "targetdir=\"D:/vscode/vscode_doc/统计软件/exercise/作业四/assignment\"\n",
    "os.chdir(targetdir)\n",
    "for i in range(100):\n",
    "    with open(\"assignment_\"+str(i+1)+\".txt\",'w') as file:\n",
    "        file.write(targetdir+\"/assignment_\"+str(i+1)+\".txt\")\n",
    "for i in random.sample(range(100), 5):\n",
    "    os.unlink(targetdir+\"/assignment_\"+str(i+1)+\".txt\")"
   ]
  },
  {
   "cell_type": "code",
   "execution_count": 46,
   "metadata": {},
   "outputs": [
    {
     "name": "stdout",
     "output_type": "stream",
     "text": [
      "assignment_27.txt is missing! \n",
      "assignment_27.txt has been fixed! \n",
      "assignment_57.txt is missing! \n",
      "assignment_57.txt has been fixed! \n",
      "assignment_72.txt is missing! \n",
      "assignment_72.txt has been fixed! \n",
      "assignment_73.txt is missing! \n",
      "assignment_73.txt has been fixed! \n",
      "assignment_91.txt is missing! \n",
      "assignment_91.txt has been fixed! \n"
     ]
    }
   ],
   "source": [
    "totalstr=''.join(os.listdir(targetdir))\n",
    "for i in range(100):\n",
    "    if str(i+1) in totalstr:\n",
    "        pass\n",
    "    else:\n",
    "        print(\"assignment_\"+str(i+1)+\".txt is missing! \")\n",
    "        with open(\"assignment_\"+str(i+1)+\".txt\",'w') as file:\n",
    "            file.write(targetdir+\"/assignment_\"+str(i+1)+\".txt\")\n",
    "        print(\"assignment_\"+str(i+1)+\".txt has been fixed! \")"
   ]
  },
  {
   "cell_type": "code",
   "execution_count": null,
   "metadata": {},
   "outputs": [],
   "source": []
  }
 ],
 "metadata": {
  "kernelspec": {
   "display_name": "Python 3 (ipykernel)",
   "language": "python",
   "name": "python3"
  },
  "language_info": {
   "codemirror_mode": {
    "name": "ipython",
    "version": 3
   },
   "file_extension": ".py",
   "mimetype": "text/x-python",
   "name": "python",
   "nbconvert_exporter": "python",
   "pygments_lexer": "ipython3",
   "version": "3.10.6"
  },
  "vscode": {
   "interpreter": {
    "hash": "dbd5104f6212b1fc6f64e8e19ae2007e53f3ed0d4bd4f1dbbcdf8e035cfbf35c"
   }
  }
 },
 "nbformat": 4,
 "nbformat_minor": 4
}
