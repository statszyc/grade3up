{
 "cells": [
  {
   "attachments": {},
   "cell_type": "markdown",
   "metadata": {},
   "source": [
    "# 迪利克雷分布的充分统计量"
   ]
  },
  {
   "attachments": {},
   "cell_type": "markdown",
   "metadata": {},
   "source": [
    "理论：充分统计量\n",
    "\n",
    "$f(\\alpha,x)=(\\frac{1}{B(\\alpha)})^n\\Pi_{j=1}^n\\Pi_{i=1}^3x_{ij}^{\\alpha_i-1}=(\\frac{1}{B(\\alpha)})^ne^{\\Sigma_{i=1}^3\\alpha_i\\Sigma_{j=1}^nlnx_{ij}}e^{-\\Sigma_{i=1}^3\\Sigma_{j=1}^nlnx_{ij}}$\n",
    "\n",
    "由指数族的充分统计量，可知充分统计量就是取ln再加和\n",
    "\n",
    "![pic](./sf.jpg)"
   ]
  },
  {
   "cell_type": "code",
   "execution_count": null,
   "metadata": {},
   "outputs": [
    {
     "data": {
      "text/plain": [
       "mydir: breeze.stats.distributions.Dirichlet[breeze.linalg.DenseVector[Double],Int] = Dirichlet(DenseVector(3.0, 2.0, 6.0))\r\n"
      ]
     },
     "metadata": {},
     "output_type": "display_data"
    }
   ],
   "source": [
    "val mydir=new Dirichlet(DenseVector(3.0,2.0,6.0))"
   ]
  },
  {
   "cell_type": "code",
   "execution_count": null,
   "metadata": {},
   "outputs": [
    {
     "data": {
      "text/plain": [
       "dat: IndexedSeq[breeze.linalg.DenseVector[Double]] = Vector(DenseVector(0.16665142232253013, 0.4135585555934651, 0.4197900220840048), DenseVector(0.09435547382469794, 0.39725336240609554, 0.5083911637692065), DenseVector(0.27084507898497445, 0.28232158591156353, 0.44683333510346196), DenseVector(0.2405785416598318, 0.3169802815778915, 0.4424411767622767), DenseVector(0.08520063243904205, 0.24168989453634127, 0.6731094730246167), DenseVector(0.03760848355442195, 0.3567799163715225, 0.6056116000740557), DenseVector(0.29982708368333477, 0.140044663344858, 0.5601282529718072), DenseVector(0.548406242918418, 0.14143389813630597, 0.3101598589452759), DenseVector(0.10380797809227232, 0.19093438951554093, 0.7052576323921868), DenseVector(0.07994046986039205, 0.27316052429240856, 0.6468990058471...\r\n"
      ]
     },
     "metadata": {},
     "output_type": "display_data"
    }
   ],
   "source": [
    "val dat=mydir.sample(10)  //多元分布，10个DenseVector"
   ]
  },
  {
   "cell_type": "code",
   "execution_count": null,
   "metadata": {},
   "outputs": [
    {
     "data": {
      "text/plain": [
       "data0: scala.collection.immutable.IndexedSeq[breeze.linalg.DenseVector[Double]] = Vector(DenseVector(0.16665142232253013, 0.4135585555934651, 0.4197900220840048), DenseVector(0.09435547382469794, 0.39725336240609554, 0.5083911637692065), DenseVector(0.27084507898497445, 0.28232158591156353, 0.44683333510346196), DenseVector(0.2405785416598318, 0.3169802815778915, 0.4424411767622767), DenseVector(0.08520063243904205, 0.24168989453634127, 0.6731094730246167), DenseVector(0.03760848355442195, 0.3567799163715225, 0.6056116000740557), DenseVector(0.29982708368333477, 0.140044663344858, 0.5601282529718072), DenseVector(0.548406242918418, 0.14143389813630597, 0.3101598589452759), DenseVector(0.10380797809227232, 0.19093438951554093, 0.7052576323921868), DenseVector(0.07994046986039205, 0.27316...\r\n"
      ]
     },
     "metadata": {},
     "output_type": "display_data"
    }
   ],
   "source": [
    "val data0=dat.toIndexedSeq  \n",
    "//为了做下面的mle必须要这么改"
   ]
  },
  {
   "attachments": {},
   "cell_type": "markdown",
   "metadata": {},
   "source": [
    "复习：mle是充分统计量的一个函数\n",
    "\n",
    "故我们先算充分统计量，再用它算mle"
   ]
  },
  {
   "cell_type": "code",
   "execution_count": null,
   "metadata": {},
   "outputs": [
    {
     "data": {
      "text/plain": [
       "expFam: breeze.stats.distributions.Dirichlet.ExpFam[breeze.linalg.DenseVector[Double],Int] = breeze.stats.distributions.Dirichlet$ExpFam@d44bbc1\r\n",
       "SuffStat: expFam.SufficientStatistic = SufficientStatistic(10.0,DenseVector(-19.22369973869366, -13.545735118154479, -6.597899982729782))\r\n"
      ]
     },
     "metadata": {},
     "output_type": "display_data"
    }
   ],
   "source": [
    "val expFam=new Dirichlet.ExpFam(DenseVector.zeros[Double](3)) //指数族\n",
    "//定义充分统计量初值为(0,0,0)\n",
    "val SuffStat=data0.foldLeft(expFam.emptySufficientStatistic){(x,y)=>x+expFam.sufficientStatisticFor(y)}\n",
    "//第一个括号中的值为初值，从初值expFam.emptySufficientStatistic开始，即一个值全零的SufficientStatistic类型变量\n",
    "//x指代上一次迭代的结果，就是sufficient类型的\n",
    "//y是从样本data0中顺序抽的，转化成sufficient类型和x相加\n",
    "//看sufficient类型：第一个元素统计的是样本的个数（即foldLeft中迭代的次数）：初始时都是1，每两个相加会使它也加1.\n",
    "//第二个元素即为取log之后的结果（迪利克雷分布的充分统计量就是取log）"
   ]
  },
  {
   "cell_type": "code",
   "execution_count": null,
   "metadata": {},
   "outputs": [
    {
     "data": {
      "text/plain": [
       "mle: breeze.linalg.DenseVector[Double] = DenseVector(2.263052441408801, 3.637508092143793, 6.804922609173228)\r\n"
      ]
     },
     "metadata": {},
     "output_type": "display_data"
    }
   ],
   "source": [
    "val mle=expFam.mle(SuffStat)"
   ]
  }
 ],
 "metadata": {
  "kernelspec": {
   "display_name": "spylon-kernel",
   "language": "scala",
   "name": "spylon-kernel"
  },
  "language_info": {
   "name": "scala",
   "version": "3.10.6 (tags/v3.10.6:9c7b4bd, Aug  1 2022, 21:53:49) [MSC v.1932 64 bit (AMD64)]"
  },
  "orig_nbformat": 4,
  "vscode": {
   "interpreter": {
    "hash": "dbd5104f6212b1fc6f64e8e19ae2007e53f3ed0d4bd4f1dbbcdf8e035cfbf35c"
   }
  }
 },
 "nbformat": 4,
 "nbformat_minor": 2
}
