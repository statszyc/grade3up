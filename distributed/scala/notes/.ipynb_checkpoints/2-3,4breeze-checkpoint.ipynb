{
 "cells": [
  {
   "cell_type": "code",
   "execution_count": 1,
   "metadata": {},
   "outputs": [
    {
     "data": {
      "text/plain": [
       "Intitializing Scala interpreter ..."
      ]
     },
     "metadata": {},
     "output_type": "display_data"
    },
    {
     "data": {
      "text/plain": [
       "Spark Web UI available at http://LAPTOP-9RG91OPS:4040\n",
       "SparkContext available as 'sc' (version = 3.3.0, master = local[*], app id = local-1666182043029)\n",
       "SparkSession available as 'spark'\n"
      ]
     },
     "metadata": {},
     "output_type": "display_data"
    },
    {
     "data": {
      "text/plain": [
       "import breeze.numerics._\r\n",
       "import breeze.linalg._\r\n"
      ]
     },
     "execution_count": 1,
     "metadata": {},
     "output_type": "execute_result"
    },
    {
     "name": "stdout",
     "output_type": "stream",
     "text": [
      "22/10/19 20:20:54 WARN ProcfsMetricsGetter: Exception when trying to compute pagesize, as a result reporting of ProcessTree metrics is stopped\n"
     ]
    }
   ],
   "source": [
    "import breeze.numerics._\n",
    "import breeze.linalg._"
   ]
  },
  {
   "cell_type": "code",
   "execution_count": 13,
   "metadata": {},
   "outputs": [
    {
     "data": {
      "text/plain": [
       "tmp: breeze.linalg.DenseVector[Double] = DenseVector(0.0, 1.1, 2.2, 3.3)\r\n"
      ]
     },
     "execution_count": 13,
     "metadata": {},
     "output_type": "execute_result"
    }
   ],
   "source": [
    "val tmp=DenseVector(0.0,1.1,2.2,3.3)"
   ]
  },
  {
   "cell_type": "code",
   "execution_count": 6,
   "metadata": {},
   "outputs": [
    {
     "data": {
      "text/plain": [
       "res0: breeze.linalg.DenseVector[Double] = DenseVector(0.0, 1.2100000000000002, 4.840000000000001, 10.889999999999999)\r\n"
      ]
     },
     "execution_count": 6,
     "metadata": {},
     "output_type": "execute_result"
    }
   ],
   "source": [
    "exp(tmp)\n",
    "sqrt(tmp)\n",
    "pow(tmp,2)\n"
   ]
  },
  {
   "cell_type": "markdown",
   "metadata": {},
   "source": [
    "2-4"
   ]
  },
  {
   "cell_type": "code",
   "execution_count": 2,
   "metadata": {},
   "outputs": [
    {
     "data": {
      "text/plain": [
       "import breeze.stats.distributions._\r\n"
      ]
     },
     "execution_count": 2,
     "metadata": {},
     "output_type": "execute_result"
    }
   ],
   "source": [
    "import breeze.stats.distributions._"
   ]
  },
  {
   "cell_type": "code",
   "execution_count": 10,
   "metadata": {},
   "outputs": [
    {
     "data": {
      "text/plain": [
       "pois: breeze.stats.distributions.Poisson = Poisson(2.0)\r\n"
      ]
     },
     "execution_count": 10,
     "metadata": {},
     "output_type": "execute_result"
    }
   ],
   "source": [
    "val pois=new Poisson(2.0)"
   ]
  },
  {
   "cell_type": "code",
   "execution_count": 4,
   "metadata": {},
   "outputs": [
    {
     "data": {
      "text/plain": [
       "rand: IndexedSeq[Int] = Vector(1, 1, 0, 1, 2, 3, 2, 2, 1, 0, 2, 2, 4, 3, 1, 1, 4, 0, 2, 4, 4, 3, 0, 3, 1, 3, 4, 1, 2, 2, 0, 1, 0, 3, 3, 2, 4, 1, 1, 2, 2, 1, 2, 4, 5, 1, 2, 1, 3, 0, 0, 1, 2, 4, 4, 1, 0, 1, 1, 2, 1, 2, 1, 1, 4, 1, 1, 4, 2, 1, 4, 0, 3, 3, 2, 4, 1, 2, 5, 2, 2, 2, 3, 1, 6, 2, 2, 1, 3, 1, 3, 2, 3, 2, 2, 1, 3, 1, 3, 2)\r\n"
      ]
     },
     "execution_count": 4,
     "metadata": {},
     "output_type": "execute_result"
    }
   ],
   "source": [
    "val rand=pois.sample(100)"
   ]
  },
  {
   "cell_type": "code",
   "execution_count": 13,
   "metadata": {},
   "outputs": [
    {
     "data": {
      "text/plain": [
       "res3: Int = 100\r\n"
      ]
     },
     "execution_count": 13,
     "metadata": {},
     "output_type": "execute_result"
    }
   ],
   "source": [
    "rand.size"
   ]
  },
  {
   "cell_type": "code",
   "execution_count": 15,
   "metadata": {},
   "outputs": [
    {
     "data": {
      "text/plain": [
       "res5: Double = 1.92\r\n"
      ]
     },
     "execution_count": 15,
     "metadata": {},
     "output_type": "execute_result"
    }
   ],
   "source": [
    "sum(rand).toDouble/rand.size.toDouble"
   ]
  },
  {
   "cell_type": "code",
   "execution_count": 20,
   "metadata": {},
   "outputs": [
    {
     "data": {
      "text/plain": [
       "res10: IndexedSeq[Double] = Vector(0.1353352832366127, 0.18044704431548356, 0.18044704431548356, 0.18044704431548356, 0.1353352832366127, 0.2706705664732254, 0.2706705664732254, 0.2706705664732254, 0.03608940886309672, 0.2706705664732254, 0.2706705664732254, 0.2706705664732254, 0.18044704431548356, 0.1353352832366127, 0.2706705664732254, 0.2706705664732254, 0.2706705664732254, 0.2706705664732254, 0.2706705664732254, 0.2706705664732254, 0.18044704431548356, 0.1353352832366127, 0.1353352832366127, 0.2706705664732254, 0.2706705664732254, 0.0034370865583901616, 0.2706705664732254, 0.03608940886309672, 0.2706705664732254, 0.18044704431548356, 0.2706705664732254, 0.1353352832366127, 0.18044704431548356, 0.09022352215774178, 0.2706705664732254, 0.2706705664732254, 0.2706705664732254, 0.0902235...\r\n"
      ]
     },
     "execution_count": 20,
     "metadata": {},
     "output_type": "execute_result"
    }
   ],
   "source": [
    "rand.map(i=>pois.probabilityOf(i))   //输出了每个值对应的概率\n",
    "//或写：\n",
    "rand.map{pois.probabilityOf(_)}"
   ]
  },
  {
   "cell_type": "code",
   "execution_count": 11,
   "metadata": {},
   "outputs": [
    {
     "data": {
      "text/plain": [
       "res2: Double = 0.6766764161830635\r\n"
      ]
     },
     "execution_count": 11,
     "metadata": {},
     "output_type": "execute_result"
    }
   ],
   "source": [
    "pois.probabilityOf(2)\n",
    "pois.cdf(2)"
   ]
  },
  {
   "cell_type": "code",
   "execution_count": 18,
   "metadata": {},
   "outputs": [
    {
     "data": {
      "text/plain": [
       "res8: Double = 0.6766764161830635\r\n"
      ]
     },
     "execution_count": 18,
     "metadata": {},
     "output_type": "execute_result"
    }
   ],
   "source": [
    "pois.probabilityOf(0)+pois.probabilityOf(1)+pois.probabilityOf(2)"
   ]
  },
  {
   "cell_type": "code",
   "execution_count": 21,
   "metadata": {},
   "outputs": [
    {
     "data": {
      "text/plain": [
       "doublepois: breeze.stats.distributions.Rand[Double] = MappedRand(Poisson(2.0),$Lambda$2085/1807979409@1f367a33)\r\n"
      ]
     },
     "execution_count": 21,
     "metadata": {},
     "output_type": "execute_result"
    }
   ],
   "source": [
    "//变为Double类型，用for循环\n",
    "val doublepois=for(x<- pois) yield x.toDouble"
   ]
  },
  {
   "cell_type": "code",
   "execution_count": 23,
   "metadata": {},
   "outputs": [
    {
     "data": {
      "text/plain": [
       "res12: IndexedSeq[Double] = Vector(3.0, 2.0, 2.0, 0.0, 4.0, 2.0, 2.0, 4.0, 2.0, 0.0)\r\n"
      ]
     },
     "execution_count": 23,
     "metadata": {},
     "output_type": "execute_result"
    }
   ],
   "source": [
    "doublepois.sample(10)//产生了双精度样本"
   ]
  },
  {
   "cell_type": "code",
   "execution_count": 25,
   "metadata": {},
   "outputs": [
    {
     "data": {
      "text/plain": [
       "res14: breeze.stats.meanAndVariance.MeanAndVariance = MeanAndVariance(2.0121999999999973,1.983449504950501,10000)\r\n"
      ]
     },
     "execution_count": 25,
     "metadata": {},
     "output_type": "execute_result"
    }
   ],
   "source": [
    "breeze.stats.meanAndVariance(doublepois.sample(10000))  \n",
    "//三个返回值为：均值、方差和样本容量"
   ]
  },
  {
   "cell_type": "code",
   "execution_count": 5,
   "metadata": {},
   "outputs": [
    {
     "data": {
      "text/plain": [
       "res0: Double = 2.0\r\n"
      ]
     },
     "execution_count": 5,
     "metadata": {},
     "output_type": "execute_result"
    }
   ],
   "source": [
    "pois.mean  //总体均值"
   ]
  },
  {
   "cell_type": "code",
   "execution_count": 6,
   "metadata": {},
   "outputs": [
    {
     "data": {
      "text/plain": [
       "res1: Double = 2.0\r\n"
      ]
     },
     "execution_count": 6,
     "metadata": {},
     "output_type": "execute_result"
    }
   ],
   "source": [
    "pois.variance  //总体方差"
   ]
  },
  {
   "cell_type": "code",
   "execution_count": 7,
   "metadata": {},
   "outputs": [
    {
     "data": {
      "text/plain": [
       "beta: breeze.stats.distributions.Beta = Beta(1.0,2.0)\r\n",
       "randb: IndexedSeq[Double] = Vector(0.32632084283167245, 0.08352021941854418, 0.39318700460535094, 0.09339939659430432, 0.254970595586706, 0.15848737554162806, 0.5606546937907082, 0.04939903762403318, 0.25891610262332093, 0.1677756958197413)\r\n",
       "res2: IndexedSeq[Double] = Vector(1.3473583143366552, 1.8329595611629115, 1.2136259907892981, 1.8132012068113912, 1.490058808826588, 1.6830252489167439, 0.8786906124185836, 1.9012019247519336, 1.4821677947533582, 1.6644486083605174)\r\n"
      ]
     },
     "execution_count": 7,
     "metadata": {},
     "output_type": "execute_result"
    }
   ],
   "source": [
    "val beta=new Beta(1.0,2.0)\n",
    "val randb=beta.sample(10)\n",
    "beta.pdf(0.05)\n",
    "randb.map{beta.pdf(_)}"
   ]
  },
  {
   "cell_type": "code",
   "execution_count": 14,
   "metadata": {},
   "outputs": [
    {
     "data": {
      "text/plain": [
       "res4: Array[Double] = Array(1.3473583143366552, 1.8329595611629115, 1.2136259907892981, 1.8132012068113912, 1.490058808826588, 1.6830252489167439, 0.8786906124185836, 1.9012019247519336, 1.4821677947533582, 1.6644486083605174)\r\n"
      ]
     },
     "execution_count": 14,
     "metadata": {},
     "output_type": "execute_result"
    }
   ],
   "source": [
    "beta.pdf(randb.toArray)\n",
    "//但是cdf不行。。。"
   ]
  },
  {
   "cell_type": "markdown",
   "metadata": {},
   "source": [
    "求迪利克雷分布的mle"
   ]
  },
  {
   "cell_type": "code",
   "execution_count": 3,
   "metadata": {},
   "outputs": [
    {
     "data": {
      "text/plain": [
       "mydir: breeze.stats.distributions.Dirichlet[breeze.linalg.DenseVector[Double],Int] = Dirichlet(DenseVector(3.0, 2.0, 6.0))\r\n"
      ]
     },
     "execution_count": 3,
     "metadata": {},
     "output_type": "execute_result"
    }
   ],
   "source": [
    "val mydir=new Dirichlet(DenseVector(3.0,2.0,6.0))"
   ]
  },
  {
   "cell_type": "code",
   "execution_count": 4,
   "metadata": {},
   "outputs": [
    {
     "data": {
      "text/plain": [
       "dat: IndexedSeq[breeze.linalg.DenseVector[Double]] = Vector(DenseVector(0.30499388585414827, 0.29395668894503973, 0.40104942520081194), DenseVector(0.11463030567173572, 0.026169747864027818, 0.8591999464642365), DenseVector(0.48104791875616876, 0.10196762417743457, 0.41698445706639653), DenseVector(0.25649653100377984, 0.17194260891598712, 0.5715608600802331), DenseVector(0.21156372900888878, 0.15266718640796167, 0.6357690845831495), DenseVector(0.18043403546220477, 0.31376970175215163, 0.5057962627856436), DenseVector(0.3902347453104134, 0.047798454100982046, 0.5619668005886045), DenseVector(0.29628899382871615, 0.10281866895363886, 0.6008923372176449), DenseVector(0.22746669588630375, 0.18127687136085574, 0.5912564327528407), DenseVector(0.6822920153620186, 0.043918959458440696, 0.273...\r\n"
      ]
     },
     "execution_count": 4,
     "metadata": {},
     "output_type": "execute_result"
    }
   ],
   "source": [
    "val dat=mydir.sample(10)  //多元分布，10个DenseVector"
   ]
  },
  {
   "cell_type": "code",
   "execution_count": 5,
   "metadata": {},
   "outputs": [
    {
     "data": {
      "text/plain": [
       "data0: scala.collection.immutable.IndexedSeq[breeze.linalg.DenseVector[Double]] = Vector(DenseVector(0.30499388585414827, 0.29395668894503973, 0.40104942520081194), DenseVector(0.11463030567173572, 0.026169747864027818, 0.8591999464642365), DenseVector(0.48104791875616876, 0.10196762417743457, 0.41698445706639653), DenseVector(0.25649653100377984, 0.17194260891598712, 0.5715608600802331), DenseVector(0.21156372900888878, 0.15266718640796167, 0.6357690845831495), DenseVector(0.18043403546220477, 0.31376970175215163, 0.5057962627856436), DenseVector(0.3902347453104134, 0.047798454100982046, 0.5619668005886045), DenseVector(0.29628899382871615, 0.10281866895363886, 0.6008923372176449), DenseVector(0.22746669588630375, 0.18127687136085574, 0.5912564327528407), DenseVector(0.6822920153620186...\r\n"
      ]
     },
     "execution_count": 5,
     "metadata": {},
     "output_type": "execute_result"
    }
   ],
   "source": [
    "val data0=dat.toIndexedSeq  \n",
    "//为了做下面的mle必须要这么改"
   ]
  },
  {
   "cell_type": "markdown",
   "metadata": {},
   "source": [
    "复习：mle是充分统计量的一个函数"
   ]
  },
  {
   "cell_type": "code",
   "execution_count": 7,
   "metadata": {},
   "outputs": [
    {
     "data": {
      "text/plain": [
       "expFam: breeze.stats.distributions.Dirichlet.ExpFam[breeze.linalg.DenseVector[Double],Int] = breeze.stats.distributions.Dirichlet$ExpFam@4965df31\r\n",
       "SuffStat: expFam.SufficientStatistic = SufficientStatistic(10.0,DenseVector(-12.732029930994296, -22.098448697383674, -6.5406109662597025))\r\n"
      ]
     },
     "execution_count": 7,
     "metadata": {},
     "output_type": "execute_result"
    }
   ],
   "source": [
    "val expFam=new Dirichlet.ExpFam(DenseVector.zeros[Double](3)) \n",
    "//定义充分统计量初值为(0,0,0)\n",
    "val SuffStat=data0.foldLeft(expFam.emptySufficientStatistic){(x,y)=>x+expFam.sufficientStatisticFor(y)}\n",
    "//x本身就是sufficient类型的，\n",
    "//从初值expFam.emptySufficientStatistic开始的，\n",
    "//然后x就一直是sufficient类型的，然后\n",
    "//y是从样本data0中顺序抽的，转化成sufficient类型和x相加\n"
   ]
  },
  {
   "cell_type": "code",
   "execution_count": 6,
   "metadata": {},
   "outputs": [
    {
     "data": {
      "text/plain": [
       "res0: breeze.linalg.DenseVector[Double] = DenseVector(-12.732029930994296, -22.098448697383674, -6.540610966259703)\r\n"
      ]
     },
     "execution_count": 6,
     "metadata": {},
     "output_type": "execute_result"
    }
   ],
   "source": [
    "sc.parallelize(data0).map(x=>log(x)).reduce((x,y)=>x+y)\n",
    "//并行运算，结果一样，类型不大一样"
   ]
  },
  {
   "cell_type": "code",
   "execution_count": 9,
   "metadata": {},
   "outputs": [
    {
     "data": {
      "text/plain": [
       "res2: breeze.linalg.DenseVector[Double] = DenseVector(-12.732029930994297, -22.098448697383677, -6.540610966259703)\r\n"
      ]
     },
     "execution_count": 9,
     "metadata": {},
     "output_type": "execute_result"
    }
   ],
   "source": [
    "sc.parallelize(data0).map(s => log(s)).reduce((x,y) => DenseVector(x(0)+y(0),x(1)+y(1),x(2)+y(2)))\n",
    "//也可以，这样写不如上面的写法"
   ]
  },
  {
   "cell_type": "code",
   "execution_count": 32,
   "metadata": {},
   "outputs": [
    {
     "data": {
      "text/plain": [
       "res18: Array[breeze.linalg.DenseVector[Double]] = Array(DenseVector(0.2721806304041514, 0.1409908357953789, 0.5868285338004698), DenseVector(0.192331419073717, 0.23536015457107737, 0.5723084263552056), DenseVector(0.118221476084197, 0.4112079757150876, 0.4705705482007154), DenseVector(0.18544317534664292, 0.12511103378863758, 0.6894457908647195), DenseVector(0.40347841742469986, 0.2670946532189456, 0.3294269293563546), DenseVector(0.18462928938319093, 0.32768783833348575, 0.4876828722833234), DenseVector(0.23271456596580672, 0.06361929906863713, 0.7036661349655562), DenseVector(0.3625235478457301, 0.16887632982090978, 0.46860012233336024), DenseVector(0.14759756718312214, 0.07324179401436433, 0.7791606388025135), DenseVector(0.25467917772820725, 0.09315444694874546, 0.6521663753230473))\r\n"
      ]
     },
     "execution_count": 32,
     "metadata": {},
     "output_type": "execute_result"
    }
   ],
   "source": [
    "sc.parallelize(data0).collect()"
   ]
  },
  {
   "cell_type": "code",
   "execution_count": 19,
   "metadata": {},
   "outputs": [
    {
     "data": {
      "text/plain": [
       "res6: expFam.SufficientStatistic = SufficientStatistic(0.0,DenseVector(0.0, 0.0, 0.0))\r\n"
      ]
     },
     "execution_count": 19,
     "metadata": {},
     "output_type": "execute_result"
    }
   ],
   "source": [
    "expFam.emptySufficientStatistic  "
   ]
  },
  {
   "cell_type": "code",
   "execution_count": 21,
   "metadata": {},
   "outputs": [
    {
     "data": {
      "text/plain": [
       "res8: expFam.SufficientStatistic = SufficientStatistic(1.0,DenseVector(-1.6485352540146387, -1.4466383653860346, -0.5580772260074565))\r\n"
      ]
     },
     "execution_count": 21,
     "metadata": {},
     "output_type": "execute_result"
    }
   ],
   "source": [
    "expFam.sufficientStatisticFor(data0(1))  \n",
    "//第一个元素1.0意为目前用了一个样本，然后相当于取log"
   ]
  },
  {
   "cell_type": "code",
   "execution_count": 22,
   "metadata": {},
   "outputs": [
    {
     "data": {
      "text/plain": [
       "res9: breeze.linalg.DenseVector[Double] = DenseVector(-1.6485352540146387, -1.4466383653860346, -0.5580772260074565)\r\n"
      ]
     },
     "execution_count": 22,
     "metadata": {},
     "output_type": "execute_result"
    }
   ],
   "source": [
    "log(data0(1))"
   ]
  },
  {
   "cell_type": "code",
   "execution_count": 23,
   "metadata": {},
   "outputs": [
    {
     "data": {
      "text/plain": [
       "res10: expFam.SufficientStatistic = SufficientStatistic(2.0,DenseVector(-2.949824604737698, -3.4056987504612435, -1.0910998337944746))\r\n"
      ]
     },
     "execution_count": 23,
     "metadata": {},
     "output_type": "execute_result"
    }
   ],
   "source": [
    "expFam.sufficientStatisticFor(data0(0))+expFam.sufficientStatisticFor(data0(1)) //两个样本了"
   ]
  },
  {
   "cell_type": "code",
   "execution_count": 27,
   "metadata": {},
   "outputs": [
    {
     "data": {
      "text/plain": [
       "res13: Int = 6\r\n"
      ]
     },
     "execution_count": 27,
     "metadata": {},
     "output_type": "execute_result"
    }
   ],
   "source": [
    "List(1,2,3).foldLeft(0)((x,y)=>x+y)  //那个0是初始值\n",
    "//原理：f(f(f(0,1),2),3)以此类推，是串型的，而不是并行的。问：怎么用mapreduce改成并行的？\n",
    "sc.parallelize(Array(1,2,3)).reduce((x,y)=>x+y)"
   ]
  },
  {
   "cell_type": "code",
   "execution_count": 25,
   "metadata": {},
   "outputs": [
    {
     "data": {
      "text/plain": [
       "mle: breeze.linalg.DenseVector[Double] = DenseVector(3.9654197598061436, 3.0065058289703135, 9.298871889895535)\r\n"
      ]
     },
     "execution_count": 25,
     "metadata": {},
     "output_type": "execute_result"
    }
   ],
   "source": [
    "val mle=expFam.mle(SuffStat)"
   ]
  },
  {
   "cell_type": "code",
   "execution_count": 2,
   "metadata": {},
   "outputs": [
    {
     "ename": "<console>",
     "evalue": "30: error: reassignment to val\r",
     "output_type": "error",
     "traceback": [
      "<console>:30: error: reassignment to val\r",
      "           a=a+1;\r",
      "            ^\r",
      ""
     ]
    }
   ],
   "source": [
    "def test(a:Int):Int={\n",
    "    a=a+1; //不能更改val的值\n",
    "    a;}"
   ]
  },
  {
   "cell_type": "code",
   "execution_count": 3,
   "metadata": {},
   "outputs": [
    {
     "data": {
      "text/plain": [
       "import breeze.linalg._\r\n"
      ]
     },
     "execution_count": 3,
     "metadata": {},
     "output_type": "execute_result"
    }
   ],
   "source": [
    "import breeze.linalg._"
   ]
  },
  {
   "cell_type": "code",
   "execution_count": 4,
   "metadata": {},
   "outputs": [
    {
     "data": {
      "text/plain": [
       "test: (a: breeze.linalg.DenseVector[Int])Int\r\n"
      ]
     },
     "execution_count": 4,
     "metadata": {},
     "output_type": "execute_result"
    }
   ],
   "source": [
    "def test(a:DenseVector[Int]):Int={\n",
    "    a(0)=a(1);\n",
    "    a(0)\n",
    "}"
   ]
  },
  {
   "cell_type": "code",
   "execution_count": 5,
   "metadata": {},
   "outputs": [
    {
     "data": {
      "text/plain": [
       "res0: Int = 2\r\n"
      ]
     },
     "execution_count": 5,
     "metadata": {},
     "output_type": "execute_result"
    }
   ],
   "source": [
    "test(DenseVector(1,2,3))"
   ]
  },
  {
   "cell_type": "code",
   "execution_count": 6,
   "metadata": {},
   "outputs": [
    {
     "ename": "<console>",
     "evalue": "33: error: reassignment to val\r",
     "output_type": "error",
     "traceback": [
      "<console>:33: error: reassignment to val\r",
      "           x=x(0 to 2)\r",
      "            ^\r",
      ""
     ]
    }
   ],
   "source": [
    "def f1(x:DenseVector[Int]):DenseVector[Int]={\n",
    "    x=x(0 to 2)\n",
    "    x\n",
    "}"
   ]
  },
  {
   "cell_type": "code",
   "execution_count": 7,
   "metadata": {},
   "outputs": [
    {
     "data": {
      "text/plain": [
       "f1: (x: breeze.linalg.DenseVector[Int])breeze.linalg.DenseVector[Int]\r\n"
      ]
     },
     "execution_count": 7,
     "metadata": {},
     "output_type": "execute_result"
    }
   ],
   "source": [
    "def f1(x:DenseVector[Int]):DenseVector[Int]={\n",
    "    x(0 to 2):=3\n",
    "    x\n",
    "}"
   ]
  },
  {
   "cell_type": "code",
   "execution_count": null,
   "metadata": {},
   "outputs": [],
   "source": []
  }
 ],
 "metadata": {
  "kernelspec": {
   "display_name": "spylon-kernel",
   "language": "scala",
   "name": "spylon-kernel"
  },
  "language_info": {
   "codemirror_mode": "text/x-scala",
   "file_extension": ".scala",
   "help_links": [
    {
     "text": "MetaKernel Magics",
     "url": "https://metakernel.readthedocs.io/en/latest/source/README.html"
    }
   ],
   "mimetype": "text/x-scala",
   "name": "scala",
   "pygments_lexer": "scala",
   "version": "0.4.1"
  },
  "vscode": {
   "interpreter": {
    "hash": "dbd5104f6212b1fc6f64e8e19ae2007e53f3ed0d4bd4f1dbbcdf8e035cfbf35c"
   }
  }
 },
 "nbformat": 4,
 "nbformat_minor": 4
}
