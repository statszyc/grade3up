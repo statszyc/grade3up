{
 "cells": [
  {
   "cell_type": "code",
   "execution_count": 1,
   "id": "0379a5bd",
   "metadata": {},
   "outputs": [
    {
     "data": {
      "text/plain": [
       "Intitializing Scala interpreter ..."
      ]
     },
     "metadata": {},
     "output_type": "display_data"
    },
    {
     "data": {
      "text/plain": [
       "Spark Web UI available at http://LAPTOP-9RG91OPS:4042\n",
       "SparkContext available as 'sc' (version = 3.3.0, master = local[*], app id = local-1666106162871)\n",
       "SparkSession available as 'spark'\n"
      ]
     },
     "metadata": {},
     "output_type": "display_data"
    },
    {
     "data": {
      "text/plain": [
       "import breeze.stats.distributions._\r\n"
      ]
     },
     "execution_count": 1,
     "metadata": {},
     "output_type": "execute_result"
    }
   ],
   "source": [
    "import breeze.stats.distributions._"
   ]
  },
  {
   "cell_type": "code",
   "execution_count": 2,
   "id": "62d6f2dd",
   "metadata": {},
   "outputs": [
    {
     "data": {
      "text/plain": [
       "import breeze.linalg._\r\n"
      ]
     },
     "execution_count": 2,
     "metadata": {},
     "output_type": "execute_result"
    }
   ],
   "source": [
    "import breeze.linalg._"
   ]
  },
  {
   "cell_type": "code",
   "execution_count": 3,
   "id": "4fc1ca7e",
   "metadata": {},
   "outputs": [
    {
     "name": "stdout",
     "output_type": "stream",
     "text": [
      "22/10/18 23:16:09 WARN LAPACK: Failed to load implementation from: com.github.fommil.netlib.NativeSystemLAPACK\n",
      "22/10/18 23:16:09 WARN LAPACK: Failed to load implementation from: com.github.fommil.netlib.NativeRefLAPACK\n"
     ]
    },
    {
     "data": {
      "text/plain": [
       "normal2d: breeze.stats.distributions.MultivariateGaussian =\r\n",
       "MultivariateGaussian(DenseVector(1.0, 2.0),1.0  0.5\r\n",
       "0.5  1.0  )\r\n"
      ]
     },
     "execution_count": 3,
     "metadata": {},
     "output_type": "execute_result"
    }
   ],
   "source": [
    "val normal2d=new MultivariateGaussian(DenseVector(1.0,2.0),DenseMatrix((1.0,0.5),(0.5,1.0)))"
   ]
  },
  {
   "cell_type": "code",
   "execution_count": 4,
   "id": "8d7bec3f",
   "metadata": {},
   "outputs": [
    {
     "name": "stdout",
     "output_type": "stream",
     "text": [
      "22/10/18 23:16:10 WARN BLAS: Failed to load implementation from: com.github.fommil.netlib.NativeSystemBLAS\n",
      "22/10/18 23:16:10 WARN BLAS: Failed to load implementation from: com.github.fommil.netlib.NativeRefBLAS\n"
     ]
    },
    {
     "data": {
      "text/plain": [
       "randn: IndexedSeq[breeze.linalg.DenseVector[Double]] = Vector(DenseVector(1.638064558742394, 2.4774832406084077), DenseVector(1.967222965658507, 2.0882230476616126), DenseVector(1.432325325965695, 3.4911327483316574), DenseVector(-0.4210456302085439, 0.6933513461833964), DenseVector(-0.02549619510339962, 1.3734485623871946))\r\n"
      ]
     },
     "execution_count": 4,
     "metadata": {},
     "output_type": "execute_result"
    }
   ],
   "source": [
    "val randn=normal2d.sample(5)"
   ]
  },
  {
   "cell_type": "code",
   "execution_count": 5,
   "id": "2434cff0-1145-45da-a054-24a70e7648da",
   "metadata": {},
   "outputs": [
    {
     "data": {
      "text/plain": [
       "res0: breeze.linalg.DenseVector[Double] = DenseVector(1.0, 2.0)\r\n"
      ]
     },
     "execution_count": 5,
     "metadata": {},
     "output_type": "execute_result"
    }
   ],
   "source": [
    "normal2d.mean"
   ]
  },
  {
   "cell_type": "code",
   "execution_count": 6,
   "id": "c8b9ef96",
   "metadata": {},
   "outputs": [
    {
     "data": {
      "text/plain": [
       "res1: breeze.linalg.DenseMatrix[Double] =\r\n",
       "1.0  0.5\r\n",
       "0.5  1.0\r\n"
      ]
     },
     "execution_count": 6,
     "metadata": {},
     "output_type": "execute_result"
    }
   ],
   "source": [
    "normal2d.variance"
   ]
  },
  {
   "cell_type": "code",
   "execution_count": 7,
   "id": "ef69cab2",
   "metadata": {},
   "outputs": [
    {
     "data": {
      "text/plain": [
       "res2: IndexedSeq[Double] = Vector(0.14743954885358826, 0.10372444059407773, 0.05663162129750702, 0.05283232557502863, 0.10769077137539995)\r\n"
      ]
     },
     "execution_count": 7,
     "metadata": {},
     "output_type": "execute_result"
    }
   ],
   "source": [
    "randn.map(normal2d.pdf(_))"
   ]
  },
  {
   "cell_type": "code",
   "execution_count": 8,
   "id": "afd6aaa8",
   "metadata": {},
   "outputs": [
    {
     "data": {
      "text/plain": [
       "pdf_sample: Double = 0.18377629847393073\r\n"
      ]
     },
     "execution_count": 8,
     "metadata": {},
     "output_type": "execute_result"
    }
   ],
   "source": [
    "val pdf_sample=normal2d.pdf(DenseVector(1.0,2.0))\n",
    "//作业可能要用到这个"
   ]
  },
  {
   "cell_type": "markdown",
   "id": "52a5cdc2",
   "metadata": {},
   "source": [
    "基于breeze包的分布式计算"
   ]
  },
  {
   "cell_type": "code",
   "execution_count": 9,
   "id": "4f291c7a",
   "metadata": {},
   "outputs": [
    {
     "data": {
      "text/plain": [
       "data: org.apache.spark.rdd.RDD[breeze.linalg.DenseVector[Double]] = ParallelCollectionRDD[0] at parallelize at <console>:30\r\n"
      ]
     },
     "execution_count": 9,
     "metadata": {},
     "output_type": "execute_result"
    }
   ],
   "source": [
    "val data=sc.parallelize(Array(DenseVector(1.0,2.0,3.0),DenseVector(4.0,5.0,6.0),DenseVector(7.0,8.0,9.0)))"
   ]
  },
  {
   "cell_type": "code",
   "execution_count": 10,
   "id": "4ae46d4e",
   "metadata": {},
   "outputs": [
    {
     "data": {
      "text/plain": [
       "computation: org.apache.spark.rdd.RDD[breeze.linalg.DenseVector[Double]] = MapPartitionsRDD[1] at map at <console>:30\r\n"
      ]
     },
     "execution_count": 10,
     "metadata": {},
     "output_type": "execute_result"
    }
   ],
   "source": [
    "val computation=data.map({s=>s(1)*=2.0;s})//由于s(1)*=2.0是赋值语句，值为空，于是还要再写一个s表示返回s"
   ]
  },
  {
   "cell_type": "code",
   "execution_count": 11,
   "id": "bcbf27d3",
   "metadata": {},
   "outputs": [
    {
     "data": {
      "text/plain": [
       "res3: Array[breeze.linalg.DenseVector[Double]] = Array(DenseVector(1.0, 4.0, 3.0), DenseVector(4.0, 10.0, 6.0), DenseVector(7.0, 16.0, 9.0))\r\n"
      ]
     },
     "execution_count": 11,
     "metadata": {},
     "output_type": "execute_result"
    }
   ],
   "source": [
    "computation.collect()//表示第二个元素乘2"
   ]
  },
  {
   "cell_type": "code",
   "execution_count": 12,
   "id": "d1297889",
   "metadata": {},
   "outputs": [
    {
     "data": {
      "text/plain": [
       "res4: breeze.linalg.DenseVector[Double] = DenseVector(12.0, 30.0, 18.0)\r\n"
      ]
     },
     "execution_count": 12,
     "metadata": {},
     "output_type": "execute_result"
    }
   ],
   "source": [
    "computation.reduce((x,y)=>x+y)"
   ]
  },
  {
   "cell_type": "code",
   "execution_count": 13,
   "id": "cbaab52d",
   "metadata": {},
   "outputs": [
    {
     "data": {
      "text/plain": [
       "test: org.apache.spark.rdd.RDD[Double] = MapPartitionsRDD[2] at map at <console>:30\r\n"
      ]
     },
     "execution_count": 13,
     "metadata": {},
     "output_type": "execute_result"
    }
   ],
   "source": [
    "val test=data.map(s=>s.t*s)//变成内积"
   ]
  },
  {
   "cell_type": "code",
   "execution_count": 14,
   "id": "bfebc8ef",
   "metadata": {},
   "outputs": [
    {
     "data": {
      "text/plain": [
       "res5: Array[Double] = Array(14.0, 77.0, 194.0)\r\n"
      ]
     },
     "execution_count": 14,
     "metadata": {},
     "output_type": "execute_result"
    }
   ],
   "source": [
    "test.collect()"
   ]
  },
  {
   "cell_type": "code",
   "execution_count": 15,
   "id": "80412db9",
   "metadata": {},
   "outputs": [
    {
     "data": {
      "text/plain": [
       "res6: Double = 285.0\r\n"
      ]
     },
     "execution_count": 15,
     "metadata": {},
     "output_type": "execute_result"
    }
   ],
   "source": [
    "test.reduce((x,y)=>x+y)"
   ]
  },
  {
   "cell_type": "code",
   "execution_count": 16,
   "id": "937bf340",
   "metadata": {},
   "outputs": [
    {
     "data": {
      "text/plain": [
       "test: org.apache.spark.rdd.RDD[breeze.linalg.DenseMatrix[Double]] = MapPartitionsRDD[3] at map at <console>:30\r\n"
      ]
     },
     "execution_count": 16,
     "metadata": {},
     "output_type": "execute_result"
    }
   ],
   "source": [
    "val test=data.map(s=>s*s.t)//变成矩阵"
   ]
  },
  {
   "cell_type": "code",
   "execution_count": 17,
   "id": "05194f05",
   "metadata": {},
   "outputs": [
    {
     "data": {
      "text/plain": [
       "res7: Array[breeze.linalg.DenseMatrix[Double]] =\r\n",
       "Array(1.0  2.0  3.0\r\n",
       "2.0  4.0  6.0\r\n",
       "3.0  6.0  9.0  , 16.0  20.0  24.0\r\n",
       "20.0  25.0  30.0\r\n",
       "24.0  30.0  36.0  , 49.0  56.0  63.0\r\n",
       "56.0  64.0  72.0\r\n",
       "63.0  72.0  81.0  )\r\n"
      ]
     },
     "execution_count": 17,
     "metadata": {},
     "output_type": "execute_result"
    }
   ],
   "source": [
    "test.collect()"
   ]
  },
  {
   "cell_type": "code",
   "execution_count": 18,
   "id": "047d09d7",
   "metadata": {},
   "outputs": [
    {
     "data": {
      "text/plain": [
       "res8: breeze.linalg.DenseMatrix[Double] =\r\n",
       "66.0  78.0   90.0\r\n",
       "78.0  93.0   108.0\r\n",
       "90.0  108.0  126.0\r\n"
      ]
     },
     "execution_count": 18,
     "metadata": {},
     "output_type": "execute_result"
    }
   ],
   "source": [
    "test.reduce((x,y)=>x+y)//矩阵仍可reduce"
   ]
  },
  {
   "cell_type": "markdown",
   "id": "e1f61892-8bf3-4fc0-b414-e3282eb1389c",
   "metadata": {},
   "source": [
    "补充知识点:\n",
    "\n",
    "问有一个任务若用一个节点的时候要用T时间去完成，现在如果我们有M个节点：\n",
    "\n",
    "若所用函数为map，时间会减少为：$\\frac{T}{M}$\n",
    "\n",
    "若所用函数为reduce，时间会减少为：$\\frac{T}{M}$\n",
    "\n",
    "map好理解，就这么多任务，用M个节点去做肯定减少为上面的时间\n",
    "\n",
    "看reduce：\n",
    "\n",
    "n个数求和最少要加(n-1)次，就算是reduce的加的方法也是(n-1)次。\n",
    "\n",
    "M个节点即把n个数分成了M堆，每一堆上有$[\\frac{n}{M}]$个数，要做$[\\frac{n}{M}]-1$次加法，再把这M个和加起来需要M-1次加法，最终需要的时间就是$\\frac{T}{M}$"
   ]
  },
  {
   "cell_type": "code",
   "execution_count": null,
   "id": "79f7d553-b7ea-4dde-8cc0-4ca74e611226",
   "metadata": {},
   "outputs": [],
   "source": []
  }
 ],
 "metadata": {
  "kernelspec": {
   "display_name": "spylon-kernel",
   "language": "scala",
   "name": "spylon-kernel"
  },
  "language_info": {
   "codemirror_mode": "text/x-scala",
   "file_extension": ".scala",
   "help_links": [
    {
     "text": "MetaKernel Magics",
     "url": "https://metakernel.readthedocs.io/en/latest/source/README.html"
    }
   ],
   "mimetype": "text/x-scala",
   "name": "scala",
   "pygments_lexer": "scala",
   "version": "0.4.1"
  }
 },
 "nbformat": 4,
 "nbformat_minor": 5
}
