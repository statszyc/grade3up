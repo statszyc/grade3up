{
 "cells": [
  {
   "cell_type": "code",
   "execution_count": 6,
   "metadata": {},
   "outputs": [
    {
     "data": {
      "text/plain": [
       "import breeze.linalg._\r\n"
      ]
     },
     "execution_count": 6,
     "metadata": {},
     "output_type": "execute_result"
    }
   ],
   "source": [
    "import breeze.linalg._"
   ]
  },
  {
   "cell_type": "markdown",
   "metadata": {},
   "source": [
    "复习：\n",
    "1. 对称矩阵的谱分解："
   ]
  },
  {
   "cell_type": "code",
   "execution_count": 7,
   "metadata": {},
   "outputs": [
    {
     "data": {
      "text/plain": [
       "a: breeze.linalg.DenseMatrix[Double] =\r\n",
       "1.0  2.0  3.0\r\n",
       "2.0  1.0  2.0\r\n",
       "3.0  2.0  1.0\r\n",
       "res4: breeze.linalg.eig.DenseEig =\r\n",
       "Eig(DenseVector(5.701562118716426, -1.9999999999999991, -0.7015621187164245),DenseVector(0.0, 0.0, 0.0),-0.6059128001754497  -0.7071067811865476    0.36451293335565677\r\n",
       "-0.5154991340119701  1.322561063466695E-16  -0.8568900996235802\r\n",
       "-0.6059128001754497  0.7071067811865474     0.3645129333556568   )\r\n"
      ]
     },
     "execution_count": 7,
     "metadata": {},
     "output_type": "execute_result"
    }
   ],
   "source": [
    "val a=DenseMatrix((1.0,2.0,3.0),(2.0,1.0,2.0),(3.0,2.0,1.0))   //必须用Double定义\n",
    "eig(a)"
   ]
  },
  {
   "cell_type": "code",
   "execution_count": 9,
   "metadata": {},
   "outputs": [
    {
     "data": {
      "text/plain": [
       "import breeze.linalg._\r\n",
       "res4: breeze.linalg.DenseMatrix[Double] =\r\n",
       "-0.6059128001754497  -0.7071067811865476    0.36451293335565677\r\n",
       "-0.5154991340119701  1.322561063466695E-16  -0.8568900996235802\r\n",
       "-0.6059128001754497  0.7071067811865474     0.3645129333556568\r\n"
      ]
     },
     "execution_count": 9,
     "metadata": {},
     "output_type": "execute_result"
    }
   ],
   "source": [
    "import breeze.linalg._\n",
    "eig(a)\n",
    "eig(a).eigenvalues   //特征值\n",
    "eig(a).eigenvectors    //特征向量\n",
    "\n",
    "//norm(error.toDenseVector)  //可证明谱分解   \n",
    "//验证相等关系的通法：算相减的norm趋于0"
   ]
  },
  {
   "cell_type": "code",
   "execution_count": 18,
   "metadata": {},
   "outputs": [
    {
     "data": {
      "text/plain": [
       "u: breeze.linalg.DenseMatrix[Double] =\r\n",
       "-0.6059128001754495  0.7071067811865475      0.3645129333556568\r\n",
       "-0.51549913401197    3.3306690738754696E-16  -0.8568900996235802\r\n",
       "-0.6059128001754499  -0.7071067811865476     0.3645129333556567\r\n",
       "d: breeze.linalg.DenseVector[Double] = DenseVector(5.701562118716424, 2.0, 0.7015621187164245)\r\n",
       "v: breeze.linalg.DenseMatrix[Double] =\r\n",
       "-0.60591280017545     -0.5154991340119698     -0.6059128001754496\r\n",
       "-0.7071067811865475   3.3306690738754696E-16  0.7071067811865477\r\n",
       "-0.36451293335565665  0.8568900996235802      -0.3645129333556567\r\n"
      ]
     },
     "execution_count": 18,
     "metadata": {},
     "output_type": "execute_result"
    }
   ],
   "source": [
    "val svd.SVD(u,d,v)=svd(a)  //奇异值分解，可见u与v是互相转置的关系"
   ]
  },
  {
   "cell_type": "code",
   "execution_count": 8,
   "metadata": {},
   "outputs": [
    {
     "data": {
      "text/plain": [
       "b: breeze.linalg.DenseMatrix[Double] =\r\n",
       "1.0  2.0\r\n",
       "2.0  1.0\r\n",
       "3.0  2.0\r\n"
      ]
     },
     "execution_count": 8,
     "metadata": {},
     "output_type": "execute_result"
    }
   ],
   "source": [
    "val b=a(::,0 to 1)"
   ]
  },
  {
   "cell_type": "code",
   "execution_count": 9,
   "metadata": {},
   "outputs": [
    {
     "data": {
      "text/plain": [
       "u: breeze.linalg.DenseMatrix[Double] =\r\n",
       "-0.43235170029091186  0.8801195764178972    -0.19611613513818413\r\n",
       "-0.46935335528743893  -0.40536750300906926  -0.784464540552736\r\n",
       "-0.7699217071468892   -0.247116811872793    0.5883484054145521\r\n",
       "d: breeze.linalg.DenseVector[Double] = DenseVector(4.669878377864261, 1.0918955700779482)\r\n",
       "v: breeze.linalg.DenseMatrix[Double] =\r\n",
       "-0.7882054380161092  -0.6154122094026354\r\n",
       "-0.6154122094026354  0.7882054380161092\r\n"
      ]
     },
     "execution_count": 9,
     "metadata": {},
     "output_type": "execute_result"
    }
   ],
   "source": [
    "val svd.SVD(u,d,v)=svd(b) \n",
    " //可用奇异值分解的定义来验证是否正确，注意D应该先变为对角再进行补全\n",
    " //（用0矩阵进行垂直补全：vertcat）"
   ]
  },
  {
   "cell_type": "code",
   "execution_count": 14,
   "metadata": {},
   "outputs": [
    {
     "data": {
      "text/plain": [
       "res9: Double = 2.2562397986482602E-15\r\n"
      ]
     },
     "execution_count": 14,
     "metadata": {},
     "output_type": "execute_result"
    }
   ],
   "source": [
    "norm((b-u*DenseMatrix.vertcat(diag(d),DenseMatrix.zeros[Double](1,2))*v).toDenseVector)\n",
    "//只有DenseVector才有norm。趋近于0，说明相等"
   ]
  },
  {
   "cell_type": "code",
   "execution_count": 26,
   "metadata": {},
   "outputs": [
    {
     "data": {
      "text/plain": [
       "res14: Int = 2\r\n"
      ]
     },
     "execution_count": 26,
     "metadata": {},
     "output_type": "execute_result"
    }
   ],
   "source": [
    "rank(b)  //求矩阵的秩"
   ]
  },
  {
   "cell_type": "markdown",
   "metadata": {},
   "source": [
    "# 2.2整行或整列的运算"
   ]
  },
  {
   "cell_type": "code",
   "execution_count": 27,
   "metadata": {},
   "outputs": [
    {
     "data": {
      "text/plain": [
       "res15: breeze.linalg.DenseVector[Double] = DenseVector(6.0, 5.0, 6.0)\r\n"
      ]
     },
     "execution_count": 27,
     "metadata": {},
     "output_type": "execute_result"
    }
   ],
   "source": [
    "sum(a(*,::))//对行求和，得到列向量"
   ]
  },
  {
   "cell_type": "code",
   "execution_count": 28,
   "metadata": {},
   "outputs": [
    {
     "data": {
      "text/plain": [
       "res16: breeze.linalg.Transpose[breeze.linalg.DenseVector[Double]] = Transpose(DenseVector(6.0, 5.0, 6.0))\r\n"
      ]
     },
     "execution_count": 28,
     "metadata": {},
     "output_type": "execute_result"
    }
   ],
   "source": [
    "sum(a(::,*))//对列求和，得到行向量"
   ]
  },
  {
   "cell_type": "code",
   "execution_count": 6,
   "metadata": {},
   "outputs": [
    {
     "data": {
      "text/plain": [
       "meancol: breeze.linalg.Transpose[breeze.linalg.DenseVector[Double]] = Transpose(DenseVector(2.0, 1.6666666666666667, 2.0))\r\n"
      ]
     },
     "execution_count": 6,
     "metadata": {},
     "output_type": "execute_result"
    }
   ],
   "source": [
    "val meancol=sum(a(::,*))/a.rows.toDouble"
   ]
  },
  {
   "cell_type": "code",
   "execution_count": 7,
   "metadata": {},
   "outputs": [
    {
     "data": {
      "text/plain": [
       "res2: breeze.linalg.DenseMatrix[Double] =\r\n",
       "-1.0  0.33333333333333326  1.0\r\n",
       "0.0   -0.6666666666666667  0.0\r\n",
       "1.0   0.33333333333333326  -1.0\r\n"
      ]
     },
     "execution_count": 7,
     "metadata": {},
     "output_type": "execute_result"
    }
   ],
   "source": [
    "a(*,::)-meancol.t   //减去必须是列向量"
   ]
  },
  {
   "cell_type": "code",
   "execution_count": 9,
   "metadata": {},
   "outputs": [
    {
     "data": {
      "text/plain": [
       "mean: breeze.linalg.DenseVector[Double] = DenseVector(2.0, 1.6666666666666667, 2.0)\r\n"
      ]
     },
     "execution_count": 9,
     "metadata": {},
     "output_type": "execute_result"
    }
   ],
   "source": [
    "val mean=sum(a(*,::))/a.cols.toDouble  //出来一个列向量"
   ]
  },
  {
   "cell_type": "code",
   "execution_count": 11,
   "metadata": {},
   "outputs": [
    {
     "data": {
      "text/plain": [
       "res7: breeze.linalg.DenseMatrix[Double] =\r\n",
       "-1.0                 0.0                  1.0\r\n",
       "0.33333333333333326  -0.6666666666666667  0.33333333333333326\r\n",
       "1.0                  0.0                  -1.0\r\n"
      ]
     },
     "execution_count": 11,
     "metadata": {},
     "output_type": "execute_result"
    }
   ],
   "source": [
    "a(::,*)-mean  //按列相减，此为中心化的步骤"
   ]
  },
  {
   "cell_type": "code",
   "execution_count": 4,
   "metadata": {},
   "outputs": [
    {
     "data": {
      "text/plain": [
       "res2: breeze.linalg.DenseMatrix[Double] =\r\n",
       "1.0  2.0                 3.0\r\n",
       "1.0  0.5                 1.0\r\n",
       "1.0  0.6666666666666666  0.3333333333333333\r\n"
      ]
     },
     "execution_count": 4,
     "metadata": {},
     "output_type": "execute_result"
    }
   ],
   "source": [
    "a(::,*)/DenseVector(1.0,2.0,3.0)  \n",
    "//按行相除，被除的必须为列向量，可以此进行标准化"
   ]
  },
  {
   "cell_type": "markdown",
   "metadata": {},
   "source": [
    "注意：向函数中传入DenseVector是传入了引用，可以在函数体内修改外面的DenseVector的值"
   ]
  }
 ],
 "metadata": {
  "kernelspec": {
   "display_name": "spylon-kernel",
   "language": "scala",
   "name": "spylon-kernel"
  },
  "language_info": {
   "codemirror_mode": "text/x-scala",
   "file_extension": ".scala",
   "help_links": [
    {
     "text": "MetaKernel Magics",
     "url": "https://metakernel.readthedocs.io/en/latest/source/README.html"
    }
   ],
   "mimetype": "text/x-scala",
   "name": "scala",
   "pygments_lexer": "scala",
   "version": "0.4.1"
  },
  "orig_nbformat": 4,
  "vscode": {
   "interpreter": {
    "hash": "dbd5104f6212b1fc6f64e8e19ae2007e53f3ed0d4bd4f1dbbcdf8e035cfbf35c"
   }
  }
 },
 "nbformat": 4,
 "nbformat_minor": 2
}
