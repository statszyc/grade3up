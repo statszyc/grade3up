{
 "cells": [
  {
   "cell_type": "code",
   "execution_count": 1,
   "id": "bca3f243-6bb4-4b7f-8df0-6b1ae909dfae",
   "metadata": {},
   "outputs": [
    {
     "data": {
      "text/plain": [
       "Intitializing Scala interpreter ..."
      ]
     },
     "metadata": {},
     "output_type": "display_data"
    },
    {
     "data": {
      "text/plain": [
       "Spark Web UI available at http://LAPTOP-9RG91OPS:4040\n",
       "SparkContext available as 'sc' (version = 3.3.0, master = local[*], app id = local-1667300741014)\n",
       "SparkSession available as 'spark'\n"
      ]
     },
     "metadata": {},
     "output_type": "display_data"
    },
    {
     "data": {
      "text/plain": [
       "import java.util.concurrent.ThreadLocalRandom\r\n"
      ]
     },
     "execution_count": 1,
     "metadata": {},
     "output_type": "execute_result"
    }
   ],
   "source": [
    "import java.util.concurrent.ThreadLocalRandom"
   ]
  },
  {
   "cell_type": "markdown",
   "id": "0e68bfef-0ae1-4fa2-a43a-7e9daa535326",
   "metadata": {},
   "source": [
    "生成样本"
   ]
  },
  {
   "cell_type": "code",
   "execution_count": 3,
   "id": "c6def7cc-6958-4da6-8962-d3d73920e51f",
   "metadata": {},
   "outputs": [
    {
     "data": {
      "text/plain": [
       "random: java.util.concurrent.ThreadLocalRandom = java.util.concurrent.ThreadLocalRandom@22eae734\r\n"
      ]
     },
     "execution_count": 3,
     "metadata": {},
     "output_type": "execute_result"
    }
   ],
   "source": [
    "val random=ThreadLocalRandom.current"
   ]
  },
  {
   "cell_type": "code",
   "execution_count": 4,
   "id": "615b38fa-2d95-42e9-b368-2f758362361f",
   "metadata": {},
   "outputs": [
    {
     "data": {
      "text/plain": [
       "res0: Double = -0.10856599884755151\r\n"
      ]
     },
     "execution_count": 4,
     "metadata": {},
     "output_type": "execute_result"
    }
   ],
   "source": [
    "random.nextGaussian"
   ]
  },
  {
   "cell_type": "code",
   "execution_count": 5,
   "id": "d29ac5d2-ec71-4fd8-a7f7-e2328c1b8e10",
   "metadata": {},
   "outputs": [
    {
     "data": {
      "text/plain": [
       "N: Int = 10000\r\n"
      ]
     },
     "execution_count": 5,
     "metadata": {},
     "output_type": "execute_result"
    }
   ],
   "source": [
    "val N=10000"
   ]
  },
  {
   "cell_type": "code",
   "execution_count": 6,
   "id": "250ac8a0-b8b8-4052-87eb-71a8712be1b9",
   "metadata": {},
   "outputs": [
    {
     "data": {
      "text/plain": [
       "MU1: Double = 5.0\r\n"
      ]
     },
     "execution_count": 6,
     "metadata": {},
     "output_type": "execute_result"
    }
   ],
   "source": [
    "val MU1=5.0"
   ]
  },
  {
   "cell_type": "code",
   "execution_count": 7,
   "id": "ed6b03f6-1b63-4a33-8989-da8c987fc3a6",
   "metadata": {},
   "outputs": [
    {
     "data": {
      "text/plain": [
       "Sig1: Double = 2.0\r\n"
      ]
     },
     "execution_count": 7,
     "metadata": {},
     "output_type": "execute_result"
    }
   ],
   "source": [
    "val Sig1=2.0  //第一个正态分布"
   ]
  },
  {
   "cell_type": "code",
   "execution_count": 8,
   "id": "030336d2-f4cd-44ef-b5eb-0e94f8a8c74e",
   "metadata": {},
   "outputs": [
    {
     "data": {
      "text/plain": [
       "MU2: Double = 0.0\r\n"
      ]
     },
     "execution_count": 8,
     "metadata": {},
     "output_type": "execute_result"
    }
   ],
   "source": [
    "val MU2=0.0"
   ]
  },
  {
   "cell_type": "code",
   "execution_count": 9,
   "id": "48a302e9-8b86-404a-b89d-ab34f07c45a1",
   "metadata": {},
   "outputs": [
    {
     "data": {
      "text/plain": [
       "Sig2: Double = 1.0\r\n"
      ]
     },
     "execution_count": 9,
     "metadata": {},
     "output_type": "execute_result"
    }
   ],
   "source": [
    "val Sig2=1.0  //第二个正态分布"
   ]
  },
  {
   "cell_type": "code",
   "execution_count": 10,
   "id": "d8e8027f-ea9a-4be2-b8c9-2f093c16d460",
   "metadata": {},
   "outputs": [
    {
     "data": {
      "text/plain": [
       "P: Double = 0.2\r\n"
      ]
     },
     "execution_count": 10,
     "metadata": {},
     "output_type": "execute_result"
    }
   ],
   "source": [
    "val P=0.2 //x来自第一个分布的概率"
   ]
  },
  {
   "cell_type": "code",
   "execution_count": 13,
   "id": "bece43cf-e745-4a7b-9374-574058267dfc",
   "metadata": {},
   "outputs": [
    {
     "data": {
      "text/plain": [
       "data: Array[Double] = Array(0.0, 0.0, 0.0, 0.0, 0.0, 0.0, 0.0, 0.0, 0.0, 0.0, 0.0, 0.0, 0.0, 0.0, 0.0, 0.0, 0.0, 0.0, 0.0, 0.0, 0.0, 0.0, 0.0, 0.0, 0.0, 0.0, 0.0, 0.0, 0.0, 0.0, 0.0, 0.0, 0.0, 0.0, 0.0, 0.0, 0.0, 0.0, 0.0, 0.0, 0.0, 0.0, 0.0, 0.0, 0.0, 0.0, 0.0, 0.0, 0.0, 0.0, 0.0, 0.0, 0.0, 0.0, 0.0, 0.0, 0.0, 0.0, 0.0, 0.0, 0.0, 0.0, 0.0, 0.0, 0.0, 0.0, 0.0, 0.0, 0.0, 0.0, 0.0, 0.0, 0.0, 0.0, 0.0, 0.0, 0.0, 0.0, 0.0, 0.0, 0.0, 0.0, 0.0, 0.0, 0.0, 0.0, 0.0, 0.0, 0.0, 0.0, 0.0, 0.0, 0.0, 0.0, 0.0, 0.0, 0.0, 0.0, 0.0, 0.0, 0.0, 0.0, 0.0, 0.0, 0.0, 0.0, 0.0, 0.0, 0.0, 0.0, 0.0, 0.0, 0.0, 0.0, 0.0, 0.0, 0.0, 0.0, 0.0, 0.0, 0.0, 0.0, 0.0, 0.0, 0.0, 0.0, 0.0, 0.0, 0.0, 0.0, 0.0, 0.0, 0.0, 0.0, 0.0, 0.0, 0.0, 0.0, 0.0, 0.0, 0.0, 0.0, 0.0, 0.0, 0.0, 0.0, 0.0, 0.0, 0.0, 0.0, 0.0, 0.0, 0.0, 0.0,...\r\n"
      ]
     },
     "execution_count": 13,
     "metadata": {},
     "output_type": "execute_result"
    }
   ],
   "source": [
    "//生成Array\n",
    "val data=Array.ofDim[Double](N) //中括号为元素类型，圆括号为元素个数"
   ]
  },
  {
   "cell_type": "code",
   "execution_count": 14,
   "id": "0073edaf-431b-4291-a174-6af6752e48d4",
   "metadata": {},
   "outputs": [
    {
     "data": {
      "text/plain": [
       "d2: Array[Array[Double]] = Array(Array(0.0, 0.0), Array(0.0, 0.0), Array(0.0, 0.0))\r\n",
       "d3: Array[Array[Array[Double]]] = Array(Array(Array(0.0, 0.0), Array(0.0, 0.0)), Array(Array(0.0, 0.0), Array(0.0, 0.0)), Array(Array(0.0, 0.0), Array(0.0, 0.0)))\r\n"
      ]
     },
     "execution_count": 14,
     "metadata": {},
     "output_type": "execute_result"
    }
   ],
   "source": [
    "//如何生成二维的array\n",
    "val d2=Array.ofDim[Double](3,2)\n",
    "val d3=Array.ofDim[Double](3,2,2)"
   ]
  },
  {
   "cell_type": "code",
   "execution_count": 16,
   "id": "1ca4b665-0335-40fc-8f60-69700dad6eb4",
   "metadata": {},
   "outputs": [],
   "source": [
    "//生成混合正态分布的随机数\n",
    "for(i<- 0 until N){\n",
    "    val db=random.nextDouble //均匀分布，来决定是生成哪个正态的随机数\n",
    "    if(db<P){\n",
    "        data(i)=MU1+Sig1*random.nextGaussian //来自第一个正态分布\n",
    "    }else{\n",
    "        data(i)=MU2+Sig2*random.nextGaussian //来自第二个正态分布\n",
    "    }\n",
    "}"
   ]
  },
  {
   "cell_type": "code",
   "execution_count": 17,
   "id": "f2d7d413-c1f1-4cd6-8619-268137c3edfc",
   "metadata": {},
   "outputs": [
    {
     "data": {
      "text/plain": [
       "res3: Array[Double] = Array(0.4854418387565187, -0.9450169157427564, 3.6050242498452856, 0.04474020471982475, -0.8898998492286624, 3.7406136971708976, 5.322772725354201, 2.3057854743059067, 0.5708206980992881, 4.320479831364698, 0.17123032809014324, 1.2026426515569821, -0.9819048119434024, 1.8784796464564062, 0.18855290607775302, 5.043931514887023, -0.18978237676947504, 0.34778370251668844, -1.7415974007346566, 2.429562573226356, 0.8527942748606918, -1.0297348694983384, -1.0057084537046186, -0.6578779008038388, -0.4735106619749103, -0.1605442105857936, 7.725883060626813, -1.3798448178721425, -1.19090630569866, 0.11094929160451018, 0.5651590194082612, -0.25154826568169364, -2.1094213931477963, 6.290241251550655, 6.825529599767166, -0.2340410284440871, -1.2668810541740845, -0.761968701631...\r\n"
      ]
     },
     "execution_count": 17,
     "metadata": {},
     "output_type": "execute_result"
    }
   ],
   "source": [
    "data"
   ]
  },
  {
   "cell_type": "markdown",
   "id": "2a804c86-6e9a-4c84-8860-fe332cefe682",
   "metadata": {},
   "source": [
    "参数估计"
   ]
  },
  {
   "cell_type": "code",
   "execution_count": 18,
   "id": "360956d8-41e1-47bc-a404-be237f98c7a4",
   "metadata": {},
   "outputs": [
    {
     "data": {
      "text/plain": [
       "NumOfSlaves: Int = 5\r\n"
      ]
     },
     "execution_count": 18,
     "metadata": {},
     "output_type": "execute_result"
    }
   ],
   "source": [
    "val NumOfSlaves=5"
   ]
  },
  {
   "cell_type": "code",
   "execution_count": 19,
   "id": "fa94d25a-75de-4522-b68c-f418f99962fc",
   "metadata": {},
   "outputs": [
    {
     "data": {
      "text/plain": [
       "ParData: org.apache.spark.rdd.RDD[Double] = ParallelCollectionRDD[0] at parallelize at <console>:27\r\n"
      ]
     },
     "execution_count": 19,
     "metadata": {},
     "output_type": "execute_result"
    }
   ],
   "source": [
    "var ParData=sc.parallelize(data,NumOfSlaves)"
   ]
  },
  {
   "cell_type": "code",
   "execution_count": 21,
   "id": "624cd3d4-c8ad-4363-85d0-0f3f688f3862",
   "metadata": {},
   "outputs": [],
   "source": [
    "//数据产生后先转化成RDD格式，然后将其转化为文本格式，再转化为Double型，这是为了防止直接产生的随机数无法序列化带来的问题。具体见课本P36"
   ]
  },
  {
   "cell_type": "code",
   "execution_count": 23,
   "id": "1396e2e8-86ad-4209-b4a6-9735a0628ce6",
   "metadata": {},
   "outputs": [
    {
     "data": {
      "text/plain": [
       "ParDataStr: org.apache.spark.rdd.RDD[String] = MapPartitionsRDD[1] at map at <console>:25\r\n"
      ]
     },
     "execution_count": 23,
     "metadata": {},
     "output_type": "execute_result"
    }
   ],
   "source": [
    "val ParDataStr=ParData.map(\"%.4f\" format _)"
   ]
  },
  {
   "cell_type": "code",
   "execution_count": 24,
   "id": "4fc71dca-7531-41a6-971e-2e59b600acc5",
   "metadata": {},
   "outputs": [
    {
     "data": {
      "text/plain": [
       "ParData: org.apache.spark.rdd.RDD[Double] = MapPartitionsRDD[2] at map at <console>:25\r\n"
      ]
     },
     "execution_count": 24,
     "metadata": {},
     "output_type": "execute_result"
    }
   ],
   "source": [
    "val ParData=ParDataStr.map(_.toDouble)"
   ]
  },
  {
   "cell_type": "code",
   "execution_count": 26,
   "id": "cb774a5b-40d9-418e-8e70-c2ec630c6bc3",
   "metadata": {},
   "outputs": [
    {
     "data": {
      "text/plain": [
       "res7: Array[Double] = Array(0.4854, -0.945, 3.605, 0.0447, -0.8899, 3.7406, 5.3228, 2.3058, 0.5708, 4.3205, 0.1712, 1.2026, -0.9819, 1.8785, 0.1886, 5.0439, -0.1898, 0.3478, -1.7416, 2.4296, 0.8528, -1.0297, -1.0057, -0.6579, -0.4735, -0.1605, 7.7259, -1.3798, -1.1909, 0.1109, 0.5652, -0.2515, -2.1094, 6.2902, 6.8255, -0.234, -1.2669, -0.762, 6.2351, 5.3088, 2.1828, 0.9032, -0.0326, 0.7156, -0.1326, 5.7141, -0.9715, 0.8121, 1.1106, -1.736, -0.2577, 0.5966, 1.4918, -1.8474, 4.9651, -0.1767, 0.436, -0.5249, 0.23, 0.8713, -0.797, 4.4167, 0.807, 1.4983, -0.7616, 2.3048, -1.5183, 1.5689, -0.8312, 9.5686, -0.6513, 6.2526, 0.7119, 6.3963, 0.0332, -0.279, 3.9386, -0.8134, -1.0965, 1.352, 1.1043, -1.7428, -1.2219, 4.1034, 0.3053, 0.0814, -0.4504, 0.3188, 1.8471, 0.1146, -0.6283, -0.8527, 2.5783,...\r\n"
      ]
     },
     "execution_count": 26,
     "metadata": {},
     "output_type": "execute_result"
    }
   ],
   "source": [
    "ParData.collect() //PS：本算法的初值取值很随便，直接猜则可（只要不一样）"
   ]
  },
  {
   "cell_type": "code",
   "execution_count": 27,
   "id": "2426c854-2858-4641-a45c-a0c1783ff153",
   "metadata": {},
   "outputs": [
    {
     "data": {
      "text/plain": [
       "InitialP: Double = 0.5\r\n"
      ]
     },
     "execution_count": 27,
     "metadata": {},
     "output_type": "execute_result"
    }
   ],
   "source": [
    "val InitialP=0.5"
   ]
  },
  {
   "cell_type": "code",
   "execution_count": 29,
   "id": "8a288d89-5ed7-4f44-8900-5aad35f26f50",
   "metadata": {},
   "outputs": [
    {
     "data": {
      "text/plain": [
       "Nk: Double = 5000.0\r\n"
      ]
     },
     "execution_count": 29,
     "metadata": {},
     "output_type": "execute_result"
    }
   ],
   "source": [
    "var Nk=N.toDouble*InitialP //第一个样本的初始数"
   ]
  },
  {
   "cell_type": "code",
   "execution_count": 32,
   "id": "98bcef1d-770e-4569-b223-a7493f461bf4",
   "metadata": {},
   "outputs": [
    {
     "data": {
      "text/plain": [
       "EstMu1: Double = 1.0107199999999996\r\n"
      ]
     },
     "execution_count": 32,
     "metadata": {},
     "output_type": "execute_result"
    }
   ],
   "source": [
    "var EstMu1=ParData.reduce((x,y) => (x+y))/N.toDouble //第一个分布mu的初始值"
   ]
  },
  {
   "cell_type": "code",
   "execution_count": 33,
   "id": "ed61f5c6-6c07-4c6d-9711-c946932a63e5",
   "metadata": {},
   "outputs": [
    {
     "data": {
      "text/plain": [
       "EstSig1: Double = 2.3661129198848485\r\n"
      ]
     },
     "execution_count": 33,
     "metadata": {},
     "output_type": "execute_result"
    }
   ],
   "source": [
    "var EstSig1=math.sqrt(ParData.map(x => x*x).reduce((x,y)=> x+y)/N.toDouble-EstMu1*EstMu1) //Ex^2-mu^2"
   ]
  },
  {
   "cell_type": "code",
   "execution_count": 34,
   "id": "9d4775ea-9436-4e92-a1a7-edf8e098be66",
   "metadata": {},
   "outputs": [
    {
     "data": {
      "text/plain": [
       "EstMu2: Double = 0.010719999999999619\r\n",
       "EstSig2: Double = 2.3661129198848485\r\n"
      ]
     },
     "execution_count": 34,
     "metadata": {},
     "output_type": "execute_result"
    }
   ],
   "source": [
    "//稍微调整一下，使得初值不完全一样就行\n",
    "var EstMu2=EstMu1-1.0\n",
    "var EstSig2=EstSig1"
   ]
  },
  {
   "cell_type": "code",
   "execution_count": 36,
   "id": "a9b6ae4f-f231-4c2a-b55c-bc721502dd11",
   "metadata": {},
   "outputs": [
    {
     "data": {
      "text/plain": [
       "Diff: Double = 1.0\r\n"
      ]
     },
     "execution_count": 36,
     "metadata": {},
     "output_type": "execute_result"
    }
   ],
   "source": [
    "//控制参数前后两次迭代差异的平方和\n",
    "var Diff=1.0"
   ]
  },
  {
   "cell_type": "code",
   "execution_count": 37,
   "id": "7a7ece94-1f3f-401c-b6cd-19ab28d9ac90",
   "metadata": {},
   "outputs": [
    {
     "data": {
      "text/plain": [
       "eps: Double = 0.001\r\n"
      ]
     },
     "execution_count": 37,
     "metadata": {},
     "output_type": "execute_result"
    }
   ],
   "source": [
    "//收敛性的阈值\n",
    "val eps=0.001"
   ]
  },
  {
   "cell_type": "code",
   "execution_count": 38,
   "id": "97f464ba-b87f-40fe-ba8b-702258520ee3",
   "metadata": {},
   "outputs": [
    {
     "data": {
      "text/plain": [
       "OldEstMu1: Double = 0.0\r\n",
       "OldEstMu2: Double = 0.0\r\n",
       "OldEstSig1: Double = 0.0\r\n",
       "OldEstSig2: Double = 0.0\r\n",
       "ii: Int = 0\r\n"
      ]
     },
     "execution_count": 38,
     "metadata": {},
     "output_type": "execute_result"
    }
   ],
   "source": [
    "var OldEstMu1=0.0\n",
    "var OldEstMu2=0.0\n",
    "var OldEstSig1=0.0\n",
    "var OldEstSig2=0.0\n",
    "//循环到第几次的指示变量\n",
    "var ii=0"
   ]
  },
  {
   "cell_type": "code",
   "execution_count": 40,
   "id": "7b7f8254-4061-4def-878f-54fde5b0e3c1",
   "metadata": {},
   "outputs": [],
   "source": [
    "do{\n",
    "    ii+=1\n",
    "    OldEstMu1=EstMu1\n",
    "    OldEstMu2=EstMu2\n",
    "    OldEstSig1=EstSig1\n",
    "    OldEstSig2=EstSig2 //将上一轮的参数都存下来，待会要用\n",
    "    //计算充分统计量是唯一可以并行的步骤\n",
    "    var SufficientStatistics=ParData.map(line => {  //line是来自混合正态分布的一个随机数\n",
    "        val x2= -math.pow((line-EstMu1)/EstSig1,2)/2.0\n",
    "        val x1= -math.pow((line-EstMu2)/EstSig2,2)/2.0  //它这里取名怪，是反的\n",
    "        val gamma=Nk*EstSig2/(Nk*EstSig2+(N-Nk)*EstSig1*math.exp(x1-x2)) //笔记最后一面推导了\n",
    "        (line,gamma,line*gamma,line*line*gamma,1-gamma,line*(1-gamma),line*line*(1-gamma)) //这里是返回值，是一个元组\n",
    "    })//返回值的含义分别为：样本x，来自第一个分布的gamma，sum(gamma_i1*x_i)，sum(gamma_i1*x_i^2)，后面都是对分布2的\n",
    "    val Results=SufficientStatistics.reduce((x,y) => (x._1+y._1,x._2+y._2,x._3+y._3,x._4+y._4,x._5+y._5,x._6+y._6,x._7+y._7))//得到了充分统计量\n",
    "    Nk=Results._2\n",
    "    EstMu1=Results._3/Nk\n",
    "    EstSig1=math.sqrt(Results._4/Nk-EstMu1*EstMu1)\n",
    "    EstMu2=Results._6/Results._5\n",
    "    EstSig2=math.sqrt(Results._7/Results._5-EstMu2*EstMu2)\n",
    "    //参数更新的变化以判断是否终止循环\n",
    "    Diff=math.abs(EstMu1 - OldEstMu1)+math.abs(EstMu2-OldEstMu2)\n",
    "    Diff+=math.abs(EstSig1 - OldEstSig1)+math.abs(EstSig2-OldEstSig2)\n",
    "}while(Diff>eps)  //大于eps时继续运行"
   ]
  },
  {
   "cell_type": "code",
   "execution_count": 41,
   "id": "1995adaa-d17f-4a30-945f-cbfa19f69eea",
   "metadata": {},
   "outputs": [
    {
     "data": {
      "text/plain": [
       "res10: Int = 35\r\n"
      ]
     },
     "execution_count": 41,
     "metadata": {},
     "output_type": "execute_result"
    }
   ],
   "source": [
    "ii"
   ]
  },
  {
   "cell_type": "code",
   "execution_count": 42,
   "id": "164accfd-1cf1-4462-b7a6-67e2d2550dba",
   "metadata": {},
   "outputs": [
    {
     "data": {
      "text/plain": [
       "res11: Double = 9.159530367103216E-4\r\n"
      ]
     },
     "execution_count": 42,
     "metadata": {},
     "output_type": "execute_result"
    }
   ],
   "source": [
    "Diff"
   ]
  },
  {
   "cell_type": "code",
   "execution_count": 45,
   "id": "bfd1c0bb-2954-4457-a3b5-7da72f33ab2c",
   "metadata": {},
   "outputs": [
    {
     "name": "stdout",
     "output_type": "stream",
     "text": [
      "4.981039573353394\n",
      "1.96817731906175\n",
      "0.00273965514928362\n",
      "1.0023499133858425\n"
     ]
    }
   ],
   "source": [
    "println(EstMu1)\n",
    "println(EstSig1)\n",
    "println(EstMu2)\n",
    "println(EstSig2)"
   ]
  },
  {
   "cell_type": "markdown",
   "id": "4a2096ea-f8ed-4444-b37a-8b592347e502",
   "metadata": {},
   "source": [
    "P26 练习1  用标准正态为例\n",
    "\n",
    "F(x)=U，这里U是来自均匀分布的，F为标准正态的cdf\n",
    "\n",
    "反解出x，则x~标准正态分布\n",
    "\n",
    "t分布是同理的，只要知道t分布的cdf则可。"
   ]
  },
  {
   "cell_type": "code",
   "execution_count": 47,
   "id": "2e35cc46-35d1-47d4-9720-0f4eb8487fe4",
   "metadata": {},
   "outputs": [
    {
     "name": "stdout",
     "output_type": "stream",
     "text": [
      "0.234\n"
     ]
    },
    {
     "data": {
      "text/plain": [
       "import breeze.stats.distributions._\r\n",
       "myNormal: breeze.stats.distributions.Gaussian = Gaussian(0.0, 1.0)\r\n",
       "U: Double = 0.234\r\n",
       "f: (x: Double, U: Double)Double\r\n",
       "BiSec: (a: Double, b: Double, U: Double, eps: Double)Double\r\n",
       "X: Double = -0.7257370452862233\r\n",
       "res16: Double = 0.23399999350503375\r\n"
      ]
     },
     "execution_count": 47,
     "metadata": {},
     "output_type": "execute_result"
    }
   ],
   "source": [
    "import breeze.stats.distributions._\n",
    "\n",
    "val myNormal = new Gaussian(0.0, 1.0)\n",
    "\n",
    "val U = 0.234\n",
    "\n",
    "def f(x: Double, U: Double): Double={myNormal.cdf(x)-U} //要求这个方程的根\n",
    "\n",
    "def BiSec(a: Double, b: Double, U: Double, eps: Double): Double={\n",
    "\n",
    "var a0 = a;\n",
    "var b0 = b;\n",
    "\n",
    "var mid = (a0+b0)/2.0;\n",
    "\n",
    "var result = 0.0;\n",
    "\n",
    "if((b0-a0)<eps)\n",
    "{\n",
    "    result = mid;\n",
    "}else\n",
    "{\n",
    "       while((b0-a0)>=eps)\n",
    "       {\n",
    "                 if(f(a0,U)*f(mid,U)<0)\n",
    "                 {\n",
    "                            b0 = mid;\n",
    "                 }else\n",
    "                 {\n",
    "                            a0 = mid;\n",
    "                 }\n",
    "\n",
    "                 mid = (a0+b0)/2.0;\n",
    "       }\n",
    "\n",
    "       result = mid;\n",
    "}\n",
    "\n",
    "result\n",
    "\n",
    "}\n",
    "\n",
    "val X = BiSec(-1000.0, 1000.0, U, 0.0000001)\n",
    "println(U)\n",
    "myNormal.cdf(X)"
   ]
  },
  {
   "cell_type": "code",
   "execution_count": null,
   "id": "4f399ed9-5ee1-48d8-bdf4-3e14c2a347bf",
   "metadata": {},
   "outputs": [],
   "source": []
  }
 ],
 "metadata": {
  "kernelspec": {
   "display_name": "spylon-kernel",
   "language": "scala",
   "name": "spylon-kernel"
  },
  "language_info": {
   "codemirror_mode": "text/x-scala",
   "file_extension": ".scala",
   "help_links": [
    {
     "text": "MetaKernel Magics",
     "url": "https://metakernel.readthedocs.io/en/latest/source/README.html"
    }
   ],
   "mimetype": "text/x-scala",
   "name": "scala",
   "pygments_lexer": "scala",
   "version": "0.4.1"
  }
 },
 "nbformat": 4,
 "nbformat_minor": 5
}
