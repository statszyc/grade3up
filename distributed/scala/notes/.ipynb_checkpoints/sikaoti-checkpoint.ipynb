{
 "cells": [
  {
   "cell_type": "code",
   "execution_count": 1,
   "id": "4ec0d2ae-4078-459d-951d-72904f296d3b",
   "metadata": {},
   "outputs": [
    {
     "data": {
      "text/plain": [
       "Intitializing Scala interpreter ..."
      ]
     },
     "metadata": {},
     "output_type": "display_data"
    },
    {
     "data": {
      "text/plain": [
       "Spark Web UI available at http://LAPTOP-9RG91OPS:4041\n",
       "SparkContext available as 'sc' (version = 3.3.0, master = local[*], app id = local-1669721950392)\n",
       "SparkSession available as 'spark'\n"
      ]
     },
     "metadata": {},
     "output_type": "display_data"
    },
    {
     "data": {
      "text/plain": [
       "import breeze.linalg._\r\n"
      ]
     },
     "execution_count": 1,
     "metadata": {},
     "output_type": "execute_result"
    },
    {
     "name": "stdout",
     "output_type": "stream",
     "text": [
      "22/11/29 19:39:28 WARN ProcfsMetricsGetter: Exception when trying to compute pagesize, as a result reporting of ProcessTree metrics is stopped\n"
     ]
    }
   ],
   "source": [
    "import breeze.linalg._"
   ]
  },
  {
   "cell_type": "code",
   "execution_count": 31,
   "id": "7c913aa1-c4ef-4d22-8850-b36565ea4591",
   "metadata": {},
   "outputs": [
    {
     "data": {
      "text/plain": [
       "x: Array[Array[Double]] = Array(Array(1.0, 2.0, 3.0), Array(2.0, 3.0, 4.0))\r\n",
       "y: Array[Array[Double]] = Array(Array(2.0, 3.0, 4.0), Array(3.0, 4.0, 5.0))\r\n",
       "sample_array: Array[Array[Double]] = Array(Array(0.0, 1.0, 2.0, 3.0, 2.0, 3.0, 4.0), Array(1.0, 2.0, 3.0, 4.0, 3.0, 4.0, 5.0))\r\n",
       "sample_rdd: org.apache.spark.rdd.RDD[Array[Double]] = ParallelCollectionRDD[1] at parallelize at <console>:35\r\n"
      ]
     },
     "execution_count": 31,
     "metadata": {},
     "output_type": "execute_result"
    }
   ],
   "source": [
    "val x=Array(Array(1.0,2.0,3.0),Array(2.0,3.0,4.0))\n",
    "val y=Array(Array(2.0,3.0,4.0),Array(3.0,4.0,5.0))  //x*y.t\n",
    "val sample_array=(0 until 2).toArray.map(s => {\n",
    "    Array(s.toDouble).union(x(s)).union(y(s))\n",
    "})\n",
    "val sample_rdd=sc.parallelize(sample_array)"
   ]
  },
  {
   "cell_type": "code",
   "execution_count": null,
   "id": "5fdce8ff-b33c-4263-946c-b97303b5af38",
   "metadata": {},
   "outputs": [],
   "source": [
    "sample_rdd.map(s => {\n",
    "    var x_rdd=\n",
    "})"
   ]
  },
  {
   "cell_type": "code",
   "execution_count": 36,
   "id": "91f8f996-caf1-482e-a915-b9ba0856fee9",
   "metadata": {},
   "outputs": [
    {
     "ename": "<console>",
     "evalue": "29: error: value ofDim is not a member of Array[Int]\r",
     "output_type": "error",
     "traceback": [
      "<console>:29: error: value ofDim is not a member of Array[Int]\r",
      "       (0 to 6).toArray.ofDim(3,2)\r",
      "                        ^\r",
      ""
     ]
    }
   ],
   "source": [
    "var test=Array(0.0,0.0)\n",
    "(0 to 6).toArray"
   ]
  },
  {
   "cell_type": "code",
   "execution_count": null,
   "id": "3523d149-e612-4160-a8a0-09831ca00f18",
   "metadata": {},
   "outputs": [],
   "source": [
    "//关键：生成一个有坐标的结果矩阵，再把x，y的对应列放到这个结果Array的对应位置，再乘起来做sum则可。"
   ]
  },
  {
   "cell_type": "code",
   "execution_count": 2,
   "id": "877afd77-54f1-4aee-a17c-10bfc709ba0a",
   "metadata": {},
   "outputs": [
    {
     "data": {
      "text/plain": [
       "res0: Array[Int] = Array(1, 2)\r\n"
      ]
     },
     "execution_count": 2,
     "metadata": {},
     "output_type": "execute_result"
    }
   ],
   "source": [
    "(1 to 2).toArray"
   ]
  },
  {
   "cell_type": "code",
   "execution_count": 14,
   "id": "a29643c1-84d9-4e57-af49-9a7af0669c7e",
   "metadata": {},
   "outputs": [
    {
     "name": "stdout",
     "output_type": "stream",
     "text": [
      "[Lscala.Tuple2;@20361ddf\n",
      "[Lscala.Tuple2;@e928283\n"
     ]
    },
    {
     "data": {
      "text/plain": [
       "mat: Array[Double] = Array(1.0)\r\n"
      ]
     },
     "execution_count": 14,
     "metadata": {},
     "output_type": "execute_result"
    }
   ],
   "source": [
    "var mat=Array[Double](1)\n",
    "for (i <- 0 until 2){\n",
    "    var tmp=(0 until 2).toArray.map(s => (i,s))\n",
    "    println(tmp)\n",
    "    // mat=Array(mat,tmp)\n",
    "}"
   ]
  },
  {
   "cell_type": "code",
   "execution_count": 11,
   "id": "34b62989-2bd9-4b39-93d8-0ff62ed2202d",
   "metadata": {},
   "outputs": [
    {
     "data": {
      "text/plain": [
       "res9: Array[Array[_ >: (Int, Int) with Double]] = Array(Array(1.0), Array((1,0), (1,1)))\r\n"
      ]
     },
     "execution_count": 11,
     "metadata": {},
     "output_type": "execute_result"
    }
   ],
   "source": [
    "Array(mat,(0 until 2).toArray.map(s => (1,s)))"
   ]
  },
  {
   "cell_type": "code",
   "execution_count": 10,
   "id": "12eddcd6-c834-4fa5-9974-fae4311b9e1e",
   "metadata": {},
   "outputs": [
    {
     "data": {
      "text/plain": [
       "res8: Array[Array[(Int, Int)]] = Array(Array((1,0), (1,1)))\r\n"
      ]
     },
     "execution_count": 10,
     "metadata": {},
     "output_type": "execute_result"
    }
   ],
   "source": [
    "Array((0 until 2).toArray.map(s => (1,s)))"
   ]
  },
  {
   "cell_type": "code",
   "execution_count": 19,
   "id": "e4a93a5c-a26a-448f-a8c8-127d785ead6c",
   "metadata": {},
   "outputs": [
    {
     "data": {
      "text/plain": [
       "tmp: Array[(Int, Int)] = Array((0,0), (0,1))\r\n"
      ]
     },
     "execution_count": 19,
     "metadata": {},
     "output_type": "execute_result"
    }
   ],
   "source": [
    "var tmp=(0 until 2).toArray.map(s => (0,s))"
   ]
  },
  {
   "cell_type": "code",
   "execution_count": 27,
   "id": "7f77876f-dcc0-4999-83f9-4b0c2fd770b5",
   "metadata": {},
   "outputs": [
    {
     "ename": "<console>",
     "evalue": "27: error: type mismatch;\r",
     "output_type": "error",
     "traceback": [
      "<console>:27: error: type mismatch;\r",
      " found   : Array[scala.collection.immutable.IndexedSeq[(Int, Int)]]\r",
      " required: Array[Double]\r",
      "       mat=(0 until 2).toArray.map(f => {\r",
      "                                  ^\r",
      ""
     ]
    }
   ],
   "source": [
    "mat=(0 until 2).toArray.map(f => {\n",
    "    (0 until 2).map(s => (f,s))\n",
    "})"
   ]
  },
  {
   "cell_type": "code",
   "execution_count": 26,
   "id": "643c1c6b-6d8c-47e4-833f-45a394c7e275",
   "metadata": {},
   "outputs": [
    {
     "data": {
      "text/plain": [
       "res21: scala.collection.immutable.IndexedSeq[(Int, Int)] = Vector((1,0), (1,1))\r\n"
      ]
     },
     "execution_count": 26,
     "metadata": {},
     "output_type": "execute_result"
    }
   ],
   "source": [
    "(0 until 2).map(s => (1,s))"
   ]
  },
  {
   "cell_type": "code",
   "execution_count": 28,
   "id": "5ef13b1b-76df-41fe-8282-3f98fd7d40a8",
   "metadata": {},
   "outputs": [
    {
     "data": {
      "text/plain": [
       "res22: Array[(Int, Int)] = Array((1,1), (1,1))\r\n"
      ]
     },
     "execution_count": 28,
     "metadata": {},
     "output_type": "execute_result"
    }
   ],
   "source": [
    "(0 until 2).toArray.map(f => (1,1))"
   ]
  },
  {
   "cell_type": "code",
   "execution_count": null,
   "id": "87061911-1942-404a-92eb-80b60a5315d7",
   "metadata": {},
   "outputs": [],
   "source": []
  }
 ],
 "metadata": {
  "kernelspec": {
   "display_name": "spylon-kernel",
   "language": "scala",
   "name": "spylon-kernel"
  },
  "language_info": {
   "codemirror_mode": "text/x-scala",
   "file_extension": ".scala",
   "help_links": [
    {
     "text": "MetaKernel Magics",
     "url": "https://metakernel.readthedocs.io/en/latest/source/README.html"
    }
   ],
   "mimetype": "text/x-scala",
   "name": "scala",
   "pygments_lexer": "scala",
   "version": "0.4.1"
  }
 },
 "nbformat": 4,
 "nbformat_minor": 5
}
