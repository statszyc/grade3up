{
 "cells": [
  {
   "cell_type": "code",
   "execution_count": 1,
   "id": "9e80aeda-d229-453b-a223-228e7d3ce120",
   "metadata": {},
   "outputs": [
    {
     "data": {
      "text/plain": [
       "Intitializing Scala interpreter ..."
      ]
     },
     "metadata": {},
     "output_type": "display_data"
    },
    {
     "data": {
      "text/plain": [
       "Spark Web UI available at http://LAPTOP-9RG91OPS:4042\n",
       "SparkContext available as 'sc' (version = 3.3.0, master = local[*], app id = local-1669437208081)\n",
       "SparkSession available as 'spark'\n"
      ]
     },
     "metadata": {},
     "output_type": "display_data"
    },
    {
     "data": {
      "text/plain": [
       "import org.apache.spark.SparkContext\r\n"
      ]
     },
     "execution_count": 1,
     "metadata": {},
     "output_type": "execute_result"
    }
   ],
   "source": [
    "import org.apache.spark.SparkContext"
   ]
  },
  {
   "cell_type": "code",
   "execution_count": 2,
   "id": "af587fc2-437e-4379-881a-d1f3f70db20e",
   "metadata": {},
   "outputs": [
    {
     "data": {
      "text/plain": [
       "import org.apache.spark.SparkConf\r\n"
      ]
     },
     "execution_count": 2,
     "metadata": {},
     "output_type": "execute_result"
    }
   ],
   "source": [
    "import org.apache.spark.SparkConf"
   ]
  },
  {
   "cell_type": "code",
   "execution_count": 3,
   "id": "d0e287ce-cd38-4749-8477-167fbf61bfbe",
   "metadata": {},
   "outputs": [
    {
     "data": {
      "text/plain": [
       "import org.apache.spark.mllib.linalg.distributed._\r\n"
      ]
     },
     "execution_count": 3,
     "metadata": {},
     "output_type": "execute_result"
    }
   ],
   "source": [
    "import org.apache.spark.mllib.linalg.distributed._"
   ]
  },
  {
   "cell_type": "code",
   "execution_count": 4,
   "id": "81c8b81e-7d86-43f6-8bf6-ce70ccee6c1b",
   "metadata": {},
   "outputs": [
    {
     "data": {
      "text/plain": [
       "import org.apache.spark.mllib.linalg.{Vectors, Matrix=>sparkMatrix, DenseMatrix=>sparkDenseMatrix}\r\n"
      ]
     },
     "execution_count": 4,
     "metadata": {},
     "output_type": "execute_result"
    }
   ],
   "source": [
    "import org.apache.spark.mllib.linalg.{Vectors,Matrix => sparkMatrix,DenseMatrix => sparkDenseMatrix}"
   ]
  },
  {
   "cell_type": "code",
   "execution_count": 5,
   "id": "9226a04f-3dc3-4bc8-9fac-f77aaa22eaaf",
   "metadata": {},
   "outputs": [
    {
     "data": {
      "text/plain": [
       "import breeze.linalg._\r\n",
       "import breeze.stats.distributions._\r\n",
       "import scala.math._\r\n"
      ]
     },
     "execution_count": 5,
     "metadata": {},
     "output_type": "execute_result"
    }
   ],
   "source": [
    "import breeze.linalg._  //为了给矩阵求逆\n",
    "import breeze.stats.distributions._\n",
    "import scala.math._"
   ]
  },
  {
   "cell_type": "code",
   "execution_count": 6,
   "id": "b1844417-dd21-49e9-9246-2cb72c7634d4",
   "metadata": {},
   "outputs": [
    {
     "data": {
      "text/plain": [
       "tobreezematrix: (tmp1: org.apache.spark.mllib.linalg.Matrix)breeze.linalg.DenseMatrix[Double]\r\n"
      ]
     },
     "execution_count": 6,
     "metadata": {},
     "output_type": "execute_result"
    }
   ],
   "source": [
    "//要写一个转化函数，把sparkmatrix变成DenseMatrix\n",
    "def tobreezematrix(tmp1: sparkMatrix):DenseMatrix[Double]={\n",
    "    var tmp2:DenseMatrix[Double]=DenseMatrix.zeros[Double](tmp1.numRows,tmp1.numCols) //调用行数列数，DenseMatrix里用的是.rows, .cols\n",
    "    for (i <- 0 until tmp1.numRows){\n",
    "        for (j <- 0 until tmp1.numCols){\n",
    "            tmp2(i,j)=tmp1(i,j)\n",
    "        }\n",
    "    }\n",
    "    tmp2\n",
    "}"
   ]
  },
  {
   "cell_type": "code",
   "execution_count": 7,
   "id": "d78b8463-c695-4463-90bb-6f24990612ce",
   "metadata": {},
   "outputs": [
    {
     "data": {
      "text/plain": [
       "N: org.apache.spark.broadcast.Broadcast[Int] = Broadcast(0)\r\n",
       "r1: org.apache.spark.broadcast.Broadcast[Int] = Broadcast(1)\r\n",
       "P: org.apache.spark.broadcast.Broadcast[Int] = Broadcast(2)\r\n",
       "tau: org.apache.spark.broadcast.Broadcast[Double] = Broadcast(3)\r\n",
       "iter: org.apache.spark.broadcast.Broadcast[Int] = Broadcast(4)\r\n",
       "indeces: scala.collection.immutable.Range = Range 0 until 10000\r\n",
       "Beta: org.apache.spark.broadcast.Broadcast[breeze.linalg.DenseVector[Double]] = Broadcast(5)\r\n"
      ]
     },
     "execution_count": 7,
     "metadata": {},
     "output_type": "execute_result"
    }
   ],
   "source": [
    "val N=sc.broadcast(10000) //X行数\n",
    "val r1=sc.broadcast(2)\n",
    "val P=sc.broadcast(100)  //X列数\n",
    "val tau=sc.broadcast(0.5)\n",
    "val iter=sc.broadcast(20)  //控制迭代次数\n",
    "var indeces=0 until N.value  //行的标签，不能1 to N.value，这样X的维数会多1\n",
    "var Beta=sc.broadcast(DenseVector.ones[Double](P.value)) "
   ]
  },
  {
   "cell_type": "code",
   "execution_count": 8,
   "id": "4916b879-9b30-44ad-92ba-8b9bee38b8ec",
   "metadata": {},
   "outputs": [
    {
     "data": {
      "text/plain": [
       "PallallelIndeces: org.apache.spark.rdd.RDD[Int] = ParallelCollectionRDD[0] at parallelize at <console>:40\r\n"
      ]
     },
     "execution_count": 8,
     "metadata": {},
     "output_type": "execute_result"
    }
   ],
   "source": [
    "var PallallelIndeces=sc.parallelize(indeces)"
   ]
  },
  {
   "cell_type": "code",
   "execution_count": 9,
   "id": "547f1e5c-799b-4058-8c7c-305d4e771adb",
   "metadata": {},
   "outputs": [
    {
     "data": {
      "text/plain": [
       "sample_matrix: org.apache.spark.rdd.RDD[Array[Double]] = MapPartitionsRDD[1] at map at <console>:40\r\n"
      ]
     },
     "execution_count": 9,
     "metadata": {},
     "output_type": "execute_result"
    }
   ],
   "source": [
    "var sample_matrix=PallallelIndeces.map(s => {\n",
    "    var p=100\n",
    "    var norm_dist=new Gaussian(0,1)\n",
    "    var x=new DenseMatrix(rows=1,cols=p,norm_dist.sample(p).toArray) //生成一个行向量（一个样本），即用随机数（记得toArray）去填充一个1*p的向量\n",
    "    //按课件上的公式生成y\n",
    "    var y=x*Beta.value+x(0,0)*norm_dist.draw()  //draw直接出来一个数，sample出来一个Vector，要得到数还要把它提出来。现在y是一个1*1的DenseVector\n",
    "    //下面组装我们要的矩阵\n",
    "    Array(s.toDouble).union(x.toArray).union(Array(y(0))) //x左一个，右一个\n",
    "})"
   ]
  },
  {
   "cell_type": "code",
   "execution_count": 10,
   "id": "1ac968dd-df12-423a-a7f0-49b2f319a728",
   "metadata": {},
   "outputs": [
    {
     "data": {
      "text/plain": [
       "res0: Double = 0.0\r\n"
      ]
     },
     "execution_count": 10,
     "metadata": {},
     "output_type": "execute_result"
    }
   ],
   "source": [
    "sample_matrix.collect()(0)(0)"
   ]
  },
  {
   "cell_type": "code",
   "execution_count": 11,
   "id": "c7f6d366-073c-46ca-8fd5-0a15077d8118",
   "metadata": {},
   "outputs": [
    {
     "name": "stdout",
     "output_type": "stream",
     "text": [
      "22/11/26 12:33:40 WARN ProcfsMetricsGetter: Exception when trying to compute pagesize, as a result reporting of ProcessTree metrics is stopped\n"
     ]
    },
    {
     "data": {
      "text/plain": [
       "res1: org.apache.spark.rdd.RDD[Array[Double]] = MapPartitionsRDD[1] at map at <console>:40\r\n"
      ]
     },
     "execution_count": 11,
     "metadata": {},
     "output_type": "execute_result"
    }
   ],
   "source": [
    "sample_matrix.persist()//老师好像说不考这个"
   ]
  },
  {
   "cell_type": "code",
   "execution_count": 12,
   "id": "105dab08-a9bb-41ea-9b2e-39eab46cc61e",
   "metadata": {},
   "outputs": [
    {
     "data": {
      "text/plain": [
       "sample_x: org.apache.spark.rdd.RDD[org.apache.spark.mllib.linalg.distributed.IndexedRow] = MapPartitionsRDD[2] at map at <console>:39\r\n"
      ]
     },
     "execution_count": 12,
     "metadata": {},
     "output_type": "execute_result"
    }
   ],
   "source": [
    "var sample_x=sample_matrix.map(f => IndexedRow(f.take(1)(0).toLong,Vectors.dense(f.drop(1).dropRight(1))))"
   ]
  },
  {
   "cell_type": "code",
   "execution_count": 23,
   "id": "8aa82b64-0bfe-4cfe-980c-b58d394b130d",
   "metadata": {},
   "outputs": [
    {
     "data": {
      "text/plain": [
       "res4: Array[org.apache.spark.mllib.linalg.distributed.IndexedRow] = Array(IndexedRow(0,[-1.5321567351359915,1.445454311139898,1.2408404912027982,-0.22824705987539123,0.1280907016877129,-0.7329541400141468,1.3112663958546984,-1.3280176637070449,0.14477976255105093,-1.7424185897060243,0.8803363986924924,0.5328978542006915,-0.30421249943838763,-1.888064559756426,-0.14636951573362408,-0.0746274445674509,0.4464533850258876,0.3624030988199465,-1.5597055718139676,-1.219292554636905,-0.1970897678927677,1.667273419109798,1.972901764127209,0.23347269528246042,-0.007655014296921575,1.0762630686252848,1.1507682462610185,0.09270391755104529,1.68340085173412,0.1810183553405911,0.8217417945747164,-0.41243659745666544,-1.7193013069547551,0.6290338852363124,0.8282525504274483,1.4102360820692659,0.119278...\r\n"
      ]
     },
     "execution_count": 23,
     "metadata": {},
     "output_type": "execute_result"
    }
   ],
   "source": [
    "sample_x.collect()"
   ]
  },
  {
   "cell_type": "code",
   "execution_count": 13,
   "id": "f8cf592d-696d-4d87-933c-59b3e50c82bc",
   "metadata": {},
   "outputs": [
    {
     "data": {
      "text/plain": [
       "sample_y: org.apache.spark.rdd.RDD[org.apache.spark.mllib.linalg.distributed.IndexedRow] = MapPartitionsRDD[3] at map at <console>:40\r\n"
      ]
     },
     "execution_count": 13,
     "metadata": {},
     "output_type": "execute_result"
    }
   ],
   "source": [
    "var sample_y=sample_matrix.map(f => IndexedRow(f.take(1)(0).toLong,Vectors.dense(f.drop(P.value+1))))"
   ]
  },
  {
   "cell_type": "code",
   "execution_count": 14,
   "id": "3fde4470-26ee-4970-be06-7f4915d98885",
   "metadata": {},
   "outputs": [
    {
     "data": {
      "text/plain": [
       "sample_x_indexedrowmatrix: org.apache.spark.mllib.linalg.distributed.IndexedRowMatrix = org.apache.spark.mllib.linalg.distributed.IndexedRowMatrix@596d0cc8\r\n"
      ]
     },
     "execution_count": 14,
     "metadata": {},
     "output_type": "execute_result"
    }
   ],
   "source": [
    "var sample_x_indexedrowmatrix=new IndexedRowMatrix(sample_x)"
   ]
  },
  {
   "cell_type": "code",
   "execution_count": 15,
   "id": "429a9048-69c8-4f31-a0cd-094cee24adcc",
   "metadata": {},
   "outputs": [
    {
     "data": {
      "text/plain": [
       "sample_y_indexedrowmatrix: org.apache.spark.mllib.linalg.distributed.IndexedRowMatrix = org.apache.spark.mllib.linalg.distributed.IndexedRowMatrix@39646b32\r\n"
      ]
     },
     "execution_count": 15,
     "metadata": {},
     "output_type": "execute_result"
    }
   ],
   "source": [
    "var sample_y_indexedrowmatrix=new IndexedRowMatrix(sample_y)"
   ]
  },
  {
   "cell_type": "code",
   "execution_count": 16,
   "id": "4cb28e9d-a0e5-4049-b983-666232562aaf",
   "metadata": {},
   "outputs": [
    {
     "data": {
      "text/plain": [
       "x: org.apache.spark.mllib.linalg.distributed.BlockMatrix = org.apache.spark.mllib.linalg.distributed.BlockMatrix@1f8d925c\r\n"
      ]
     },
     "execution_count": 16,
     "metadata": {},
     "output_type": "execute_result"
    }
   ],
   "source": [
    "var x=sample_x_indexedrowmatrix.toBlockMatrix(rowsPerBlock=N.value/10,colsPerBlock=P.value/10)"
   ]
  },
  {
   "cell_type": "code",
   "execution_count": 17,
   "id": "88809124-a72b-42ca-b373-eaaf9e5091d4",
   "metadata": {},
   "outputs": [
    {
     "data": {
      "text/plain": [
       "y: org.apache.spark.mllib.linalg.distributed.BlockMatrix = org.apache.spark.mllib.linalg.distributed.BlockMatrix@db42446\r\n"
      ]
     },
     "execution_count": 17,
     "metadata": {},
     "output_type": "execute_result"
    }
   ],
   "source": [
    "var y=sample_y_indexedrowmatrix.toBlockMatrix(rowsPerBlock=N.value/10,colsPerBlock=1)"
   ]
  },
  {
   "cell_type": "code",
   "execution_count": 22,
   "id": "117ee227-b6fb-4209-87e0-35fde030ff8b",
   "metadata": {},
   "outputs": [
    {
     "data": {
      "text/plain": [
       "res3: Int = 10000\r\n"
      ]
     },
     "execution_count": 22,
     "metadata": {},
     "output_type": "execute_result"
    }
   ],
   "source": [
    "x.toLocalMatrix.numRows"
   ]
  },
  {
   "cell_type": "code",
   "execution_count": 18,
   "id": "bb2c8805-c335-42e5-aa42-0ce834c3749c",
   "metadata": {
    "tags": []
   },
   "outputs": [
    {
     "name": "stdout",
     "output_type": "stream",
     "text": [
      "22/11/15 15:59:35 WARN LAPACK: Failed to load implementation from: com.github.fommil.netlib.NativeSystemLAPACK\n",
      "22/11/15 15:59:35 WARN LAPACK: Failed to load implementation from: com.github.fommil.netlib.NativeRefLAPACK\n"
     ]
    },
    {
     "data": {
      "text/plain": [
       "i: Int = 0\r\n",
       "diff: Double = 1.0\r\n",
       "y_local: org.apache.spark.mllib.linalg.Matrix =\r\n",
       "-0.7732071060150143\r\n",
       "4.739355175363766\r\n",
       "-1.4742410176872829\r\n",
       "0.6864741885467989\r\n",
       "13.046942938908085\r\n",
       "-14.547996352425871\r\n",
       "2.4125842634608654\r\n",
       "7.705059875014631\r\n",
       "1.762097865932509\r\n",
       "-18.204980997714973\r\n",
       "3.116896117082451\r\n",
       "-8.09298057552503\r\n",
       "6.328552953440119\r\n",
       "-0.4054758367924276\r\n",
       "1.3487961078505781\r\n",
       "9.70679094207935\r\n",
       "3.079832473426257\r\n",
       "-6.267668929790236\r\n",
       "1.4611698735328218\r\n",
       "-1.0645408762080293\r\n",
       "-0.37477224320676583\r\n",
       "1.4837948685460778\r\n",
       "13.088740556269897\r\n",
       "7.9436641298465664\r\n",
       "12.213651994208288\r\n",
       "1.730056159864605\r\n",
       "-5.707027481332222\r\n",
       "-15.384871900573529\r\n",
       "9.411795130890106\r\n",
       "-0.5259135601582927\r\n",
       "1.3211027337363959\r\n",
       "15.429525903180677\r\n",
       "24.809544228909147\r\n",
       "-0.21352001984947122\r\n",
       "-36.23202770763289\r\n",
       "-5.670785558824...\r\n"
      ]
     },
     "execution_count": 18,
     "metadata": {},
     "output_type": "execute_result"
    }
   ],
   "source": [
    "//初始化ADMM算法\n",
    "var i:Int=0\n",
    "var diff:Double=1.0\n",
    "val y_local=y.toLocalMatrix()  //block to local\n",
    "var beta_hat,beta_old:DenseMatrix[Double]=DenseMatrix.zeros[Double](P.value,1)\n",
    "var z:DenseMatrix[Double]=DenseMatrix.zeros[Double](N.value,1)\n",
    "var alpha: DenseMatrix[Double]=DenseMatrix.zeros[Double](N.value,1)\n",
    "val tmp1=x.transpose.multiply(x).toLocalMatrix() //block to local\n",
    "var tmp2=tobreezematrix(tmp1) //local to breeze\n",
    "val beta_fixed=inv(tmp2) //用breezematrix求逆"
   ]
  },
  {
   "cell_type": "code",
   "execution_count": 19,
   "id": "71b627a6-2ccd-4e5b-b502-401edd1727d4",
   "metadata": {},
   "outputs": [
    {
     "data": {
      "text/plain": [
       "res2: org.apache.spark.mllib.linalg.distributed.IndexedRowMatrix = org.apache.spark.mllib.linalg.distributed.IndexedRowMatrix@2d89d05f\r\n"
      ]
     },
     "execution_count": 19,
     "metadata": {},
     "output_type": "execute_result"
    }
   ],
   "source": [
    "sample_y_indexedrowmatrix.multiply(y_local.transpose)"
   ]
  },
  {
   "cell_type": "code",
   "execution_count": 20,
   "id": "7e17dc76-b2c3-41bb-b8ac-8f79c8450d94",
   "metadata": {},
   "outputs": [],
   "source": [
    "while(i < iter.value && diff > pow(10,-6)){\n",
    "    //更新beta\n",
    "    beta_old=beta_hat\n",
    "    var tmp3=(tobreezematrix(y_local)-z).toArray\n",
    "    var beta_right=x.transpose.toIndexedRowMatrix\n",
    "    .multiply(new sparkDenseMatrix(N.value,1,alpha.map(s => s/r1.value).toArray))\n",
    "    .toBlockMatrix(rowsPerBlock=P.value/10,colsPerBlock=1)\n",
    "    .add(x.transpose.toIndexedRowMatrix.multiply(new sparkDenseMatrix(N.value,1,tmp3)).toBlockMatrix(rowsPerBlock=P.value/10,colsPerBlock=1))\n",
    "    .toLocalMatrix() //变成local方便tobreeze\n",
    "    \n",
    "    beta_hat=beta_fixed*tobreezematrix(beta_right)\n",
    "    //更新z\n",
    "    var tmp4=y\n",
    "    .subtract(x.toIndexedRowMatrix.multiply(new sparkDenseMatrix(P.value,1,beta_hat.toArray)).toBlockMatrix(rowsPerBlock=N.value/10,colsPerBlock=1))\n",
    "    .toLocalMatrix()  //变成local方便tobreeze\n",
    "    \n",
    "    z=(tobreezematrix(tmp4)+alpha.map(s => s/r1.value)).map(s => {\n",
    "        if((tau.value/r1.value) < s) s-tau.value/r1.value\n",
    "        else if (s<((tau.value-1)/r1.value)) s-(tau.value-1)/r1.value\n",
    "        else 0\n",
    "    })\n",
    "    //更新alpha\n",
    "    alpha=alpha+(tobreezematrix(tmp4)-z).map(s => s*r1.value)\n",
    "    diff=sum((beta_old-beta_hat).map(s => abs(s)))//scala.math包里的abs只能对单个数做运算\n",
    "    i += 1\n",
    "}"
   ]
  },
  {
   "cell_type": "code",
   "execution_count": 21,
   "id": "a1dec3e5-3c71-4908-baab-655b59d4a3a4",
   "metadata": {},
   "outputs": [
    {
     "data": {
      "text/plain": [
       "res4: Double = 100.0310394714913\r\n"
      ]
     },
     "execution_count": 21,
     "metadata": {},
     "output_type": "execute_result"
    }
   ],
   "source": [
    "sum(beta_hat)"
   ]
  }
 ],
 "metadata": {
  "kernelspec": {
   "display_name": "spylon-kernel",
   "language": "scala",
   "name": "spylon-kernel"
  },
  "language_info": {
   "codemirror_mode": "text/x-scala",
   "file_extension": ".scala",
   "help_links": [
    {
     "text": "MetaKernel Magics",
     "url": "https://metakernel.readthedocs.io/en/latest/source/README.html"
    }
   ],
   "mimetype": "text/x-scala",
   "name": "scala",
   "pygments_lexer": "scala",
   "version": "0.4.1"
  }
 },
 "nbformat": 4,
 "nbformat_minor": 5
}
