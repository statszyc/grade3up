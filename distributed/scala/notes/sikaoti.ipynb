{
 "cells": [
  {
   "cell_type": "code",
   "execution_count": 1,
   "id": "4ec0d2ae-4078-459d-951d-72904f296d3b",
   "metadata": {},
   "outputs": [
    {
     "data": {
      "text/plain": [
       "Intitializing Scala interpreter ..."
      ]
     },
     "metadata": {},
     "output_type": "display_data"
    },
    {
     "data": {
      "text/plain": [
       "Spark Web UI available at http://LAPTOP-9RG91OPS:4041\n",
       "SparkContext available as 'sc' (version = 3.3.0, master = local[*], app id = local-1669721950392)\n",
       "SparkSession available as 'spark'\n"
      ]
     },
     "metadata": {},
     "output_type": "display_data"
    },
    {
     "data": {
      "text/plain": [
       "import breeze.linalg._\r\n"
      ]
     },
     "execution_count": 1,
     "metadata": {},
     "output_type": "execute_result"
    },
    {
     "name": "stdout",
     "output_type": "stream",
     "text": [
      "22/11/29 19:39:28 WARN ProcfsMetricsGetter: Exception when trying to compute pagesize, as a result reporting of ProcessTree metrics is stopped\n"
     ]
    }
   ],
   "source": [
    "import breeze.linalg._"
   ]
  },
  {
   "cell_type": "code",
   "execution_count": 79,
   "id": "7c913aa1-c4ef-4d22-8850-b36565ea4591",
   "metadata": {},
   "outputs": [
    {
     "data": {
      "text/plain": [
       "x: Array[Array[Double]] = Array(Array(1.0, 2.0, 3.0), Array(2.0, 3.0, 4.0), Array(3.0, 4.0, 5.0))\r\n",
       "y: Array[Array[Double]] = Array(Array(2.0, 3.0, 4.0), Array(3.0, 4.0, 5.0), Array(4.0, 5.0, 6.0))\r\n",
       "nr: Int = 3\r\n"
      ]
     },
     "execution_count": 79,
     "metadata": {},
     "output_type": "execute_result"
    }
   ],
   "source": [
    "val x=Array(Array(1.0,2.0,3.0),Array(2.0,3.0,4.0),Array(3.0,4.0,5.0))\n",
    "val y=Array(Array(2.0,3.0,4.0),Array(3.0,4.0,5.0),Array(4.0,5.0,6.0))  \n",
    "val nr=x.length"
   ]
  },
  {
   "cell_type": "code",
   "execution_count": 80,
   "id": "3523d149-e612-4160-a8a0-09831ca00f18",
   "metadata": {},
   "outputs": [],
   "source": [
    "//关键：生成一个有坐标的结果矩阵，再把x，y的对应列放到这个结果Array的对应位置，再乘起来做sum则可。"
   ]
  },
  {
   "cell_type": "code",
   "execution_count": 81,
   "id": "7f77876f-dcc0-4999-83f9-4b0c2fd770b5",
   "metadata": {},
   "outputs": [
    {
     "data": {
      "text/plain": [
       "out: Array[Array[(Int, Int)]] = Array(Array((0,0), (0,1), (0,2)), Array((1,0), (1,1), (1,2)), Array((2,0), (2,1), (2,2)))\r\n"
      ]
     },
     "execution_count": 81,
     "metadata": {},
     "output_type": "execute_result"
    }
   ],
   "source": [
    "var out=(0 until nr).toArray.map(f => {\n",
    "    (0 until nr).toArray.map(s => (f,s))\n",
    "})  //不能再用mat=了，因为数据类型不一样啊（scala对数据类型要求很严格啊，就是详细框架都不能错）\n",
    "//所谓详细框架，是维数数组类型和其中的元素类型，如：Array[Array[Double]]"
   ]
  },
  {
   "cell_type": "code",
   "execution_count": 82,
   "id": "70271d6d-c9bc-40b4-bbf4-ff838dc2adad",
   "metadata": {},
   "outputs": [
    {
     "data": {
      "text/plain": [
       "mat_array: Array[Array[(breeze.linalg.DenseVector[Double], breeze.linalg.DenseVector[Double])]] = Array(Array((DenseVector(1.0, 2.0, 3.0),DenseVector(2.0, 3.0, 4.0)), (DenseVector(1.0, 2.0, 3.0),DenseVector(3.0, 4.0, 5.0)), (DenseVector(1.0, 2.0, 3.0),DenseVector(4.0, 5.0, 6.0))), Array((DenseVector(2.0, 3.0, 4.0),DenseVector(2.0, 3.0, 4.0)), (DenseVector(2.0, 3.0, 4.0),DenseVector(3.0, 4.0, 5.0)), (DenseVector(2.0, 3.0, 4.0),DenseVector(4.0, 5.0, 6.0))), Array((DenseVector(3.0, 4.0, 5.0),DenseVector(2.0, 3.0, 4.0)), (DenseVector(3.0, 4.0, 5.0),DenseVector(3.0, 4.0, 5.0)), (DenseVector(3.0, 4.0, 5.0),DenseVector(4.0, 5.0, 6.0))))\r\n"
      ]
     },
     "execution_count": 82,
     "metadata": {},
     "output_type": "execute_result"
    }
   ],
   "source": [
    "var mat_array=out.map(s => {\n",
    "    s.map(f => {\n",
    "        (DenseVector(x(f._1)),DenseVector(y(f._2)))\n",
    "    })\n",
    "})\n",
    "//map只要框架不错就行，所谓详细框架，是维数数组类型，如：Array[Array[]]"
   ]
  },
  {
   "cell_type": "code",
   "execution_count": 83,
   "id": "f6392ee8-1b08-4dfe-a424-9d6fe27619bf",
   "metadata": {},
   "outputs": [
    {
     "data": {
      "text/plain": [
       "mat_rdd: org.apache.spark.rdd.RDD[Array[(breeze.linalg.DenseVector[Double], breeze.linalg.DenseVector[Double])]] = ParallelCollectionRDD[7] at parallelize at <console>:28\r\n"
      ]
     },
     "execution_count": 83,
     "metadata": {},
     "output_type": "execute_result"
    }
   ],
   "source": [
    "var mat_rdd=sc.parallelize(mat_array)"
   ]
  },
  {
   "cell_type": "code",
   "execution_count": 84,
   "id": "283f63f3-7f59-469c-a708-2ea2b7657fe6",
   "metadata": {},
   "outputs": [
    {
     "data": {
      "text/plain": [
       "res53: Array[Array[Double]] = Array(Array(20.0, 26.0, 32.0), Array(29.0, 38.0, 47.0), Array(38.0, 50.0, 62.0))\r\n"
      ]
     },
     "execution_count": 84,
     "metadata": {},
     "output_type": "execute_result"
    }
   ],
   "source": [
    "//x*y.t\n",
    "mat_rdd.map(s => {\n",
    "    s.map(f => {\n",
    "        f._1.t*f._2\n",
    "    })\n",
    "}).collect()"
   ]
  },
  {
   "cell_type": "code",
   "execution_count": 85,
   "id": "87cfe65f-ecfa-4d10-a1b0-d66800e9678a",
   "metadata": {},
   "outputs": [
    {
     "data": {
      "text/plain": [
       "res54: Array[Array[breeze.linalg.DenseVector[Double]]] = Array(Array(DenseVector(3.0, 5.0, 7.0), DenseVector(4.0, 6.0, 8.0), DenseVector(5.0, 7.0, 9.0)), Array(DenseVector(4.0, 6.0, 8.0), DenseVector(5.0, 7.0, 9.0), DenseVector(6.0, 8.0, 10.0)), Array(DenseVector(5.0, 7.0, 9.0), DenseVector(6.0, 8.0, 10.0), DenseVector(7.0, 9.0, 11.0)))\r\n"
      ]
     },
     "execution_count": 85,
     "metadata": {},
     "output_type": "execute_result"
    }
   ],
   "source": [
    "//x+y\n",
    "mat_rdd.map(s => {\n",
    "    s.map(f => {\n",
    "        f._1+f._2\n",
    "    })\n",
    "}).collect()"
   ]
  },
  {
   "cell_type": "code",
   "execution_count": null,
   "id": "2eae61af-2337-4634-9191-563d430a3794",
   "metadata": {},
   "outputs": [],
   "source": []
  }
 ],
 "metadata": {
  "kernelspec": {
   "display_name": "spylon-kernel",
   "language": "scala",
   "name": "spylon-kernel"
  },
  "language_info": {
   "codemirror_mode": "text/x-scala",
   "file_extension": ".scala",
   "help_links": [
    {
     "text": "MetaKernel Magics",
     "url": "https://metakernel.readthedocs.io/en/latest/source/README.html"
    }
   ],
   "mimetype": "text/x-scala",
   "name": "scala",
   "pygments_lexer": "scala",
   "version": "0.4.1"
  }
 },
 "nbformat": 4,
 "nbformat_minor": 5
}
