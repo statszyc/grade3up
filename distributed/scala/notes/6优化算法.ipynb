{
 "cells": [
  {
   "cell_type": "code",
   "execution_count": 1,
   "id": "ccff1fd1-c7d7-4b14-b892-f34b97a5fb76",
   "metadata": {},
   "outputs": [
    {
     "data": {
      "text/plain": [
       "Intitializing Scala interpreter ..."
      ]
     },
     "metadata": {},
     "output_type": "display_data"
    },
    {
     "data": {
      "text/plain": [
       "Spark Web UI available at http://LAPTOP-9RG91OPS:4040\n",
       "SparkContext available as 'sc' (version = 3.3.0, master = local[*], app id = local-1669115591240)\n",
       "SparkSession available as 'spark'\n"
      ]
     },
     "metadata": {},
     "output_type": "display_data"
    },
    {
     "data": {
      "text/plain": [
       "import scala.util.Random\r\n"
      ]
     },
     "execution_count": 1,
     "metadata": {},
     "output_type": "execute_result"
    },
    {
     "name": "stdout",
     "output_type": "stream",
     "text": [
      "22/11/22 19:13:29 WARN ProcfsMetricsGetter: Exception when trying to compute pagesize, as a result reporting of ProcessTree metrics is stopped\n"
     ]
    }
   ],
   "source": [
    "import scala.util.Random"
   ]
  },
  {
   "cell_type": "code",
   "execution_count": 2,
   "id": "f9a0277f-e1ff-4237-8679-41e337c72538",
   "metadata": {},
   "outputs": [
    {
     "data": {
      "text/plain": [
       "import scala.collection.JavaConverters._\r\n"
      ]
     },
     "execution_count": 2,
     "metadata": {},
     "output_type": "execute_result"
    }
   ],
   "source": [
    "import scala.collection.JavaConverters._"
   ]
  },
  {
   "cell_type": "code",
   "execution_count": 3,
   "id": "a591b57b-a54e-48d0-9e5f-e98fc383c024",
   "metadata": {},
   "outputs": [
    {
     "data": {
      "text/plain": [
       "import org.apache.spark.mllib.linalg.Vectors\r\n"
      ]
     },
     "execution_count": 3,
     "metadata": {},
     "output_type": "execute_result"
    }
   ],
   "source": [
    "import org.apache.spark.mllib.linalg.Vectors"
   ]
  },
  {
   "cell_type": "code",
   "execution_count": 4,
   "id": "2189d6eb-a30a-4705-b8a0-d1ccfe2964ca",
   "metadata": {},
   "outputs": [
    {
     "data": {
      "text/plain": [
       "import org.apache.spark.mllib.regression._\r\n"
      ]
     },
     "execution_count": 4,
     "metadata": {},
     "output_type": "execute_result"
    }
   ],
   "source": [
    "import org.apache.spark.mllib.regression._"
   ]
  },
  {
   "cell_type": "code",
   "execution_count": 9,
   "id": "79e6a4df-a7db-42fb-bf76-f0bf92f151f7",
   "metadata": {},
   "outputs": [
    {
     "data": {
      "text/plain": [
       "import org.apache.spark.mllib.optimization.{GradientDescent, LogisticGradient, SquaredL2Updater}\r\n"
      ]
     },
     "execution_count": 9,
     "metadata": {},
     "output_type": "execute_result"
    }
   ],
   "source": [
    "import org.apache.spark.mllib.optimization.{GradientDescent,LogisticGradient,SquaredL2Updater}"
   ]
  },
  {
   "cell_type": "code",
   "execution_count": 7,
   "id": "cd00a75e-3bb3-412a-8038-5f72dc846897",
   "metadata": {},
   "outputs": [
    {
     "data": {
      "text/plain": [
       "gradient: org.apache.spark.mllib.optimization.LogisticGradient = org.apache.spark.mllib.optimization.LogisticGradient@4125b030\r\n"
      ]
     },
     "execution_count": 7,
     "metadata": {},
     "output_type": "execute_result"
    }
   ],
   "source": [
    "val gradient=new LogisticGradient()"
   ]
  },
  {
   "cell_type": "code",
   "execution_count": 10,
   "id": "570579fe-5f4f-42a8-8774-5abefa7d29be",
   "metadata": {},
   "outputs": [
    {
     "data": {
      "text/plain": [
       "updater: org.apache.spark.mllib.optimization.SquaredL2Updater = org.apache.spark.mllib.optimization.SquaredL2Updater@37ad29c9\r\n"
      ]
     },
     "execution_count": 10,
     "metadata": {},
     "output_type": "execute_result"
    }
   ],
   "source": [
    "val updater=new SquaredL2Updater() //squared"
   ]
  },
  {
   "cell_type": "code",
   "execution_count": 11,
   "id": "7382b1eb-3e14-4530-9941-0867edc27220",
   "metadata": {},
   "outputs": [
    {
     "data": {
      "text/plain": [
       "stepSize: Double = 0.1\r\n"
      ]
     },
     "execution_count": 11,
     "metadata": {},
     "output_type": "execute_result"
    }
   ],
   "source": [
    "val stepSize=0.1"
   ]
  },
  {
   "cell_type": "code",
   "execution_count": 31,
   "id": "a2515a2d-2c59-43e4-8038-942d209288a1",
   "metadata": {},
   "outputs": [
    {
     "data": {
      "text/plain": [
       "numIterations: Int = 10\r\n"
      ]
     },
     "execution_count": 31,
     "metadata": {},
     "output_type": "execute_result"
    }
   ],
   "source": [
    "val numIterations=10"
   ]
  },
  {
   "cell_type": "code",
   "execution_count": 13,
   "id": "b9ac1af4-283f-4b83-9c50-2a8ed9d5d30e",
   "metadata": {},
   "outputs": [
    {
     "data": {
      "text/plain": [
       "regParam: Double = 1.0\r\n"
      ]
     },
     "execution_count": 13,
     "metadata": {},
     "output_type": "execute_result"
    }
   ],
   "source": [
    "val regParam=1.0"
   ]
  },
  {
   "cell_type": "code",
   "execution_count": 57,
   "id": "56057cac-3980-4174-b5a8-33a13b15cdf6",
   "metadata": {},
   "outputs": [
    {
     "data": {
      "text/plain": [
       "miniBatchFrac: Double = 1.0\r\n"
      ]
     },
     "execution_count": 57,
     "metadata": {},
     "output_type": "execute_result"
    }
   ],
   "source": [
    "val miniBatchFrac=1.0"
   ]
  },
  {
   "cell_type": "code",
   "execution_count": 15,
   "id": "20bcbdfe-34ac-4061-9b8f-9edc6744badf",
   "metadata": {},
   "outputs": [
    {
     "data": {
      "text/plain": [
       "n: Int = 40\r\n"
      ]
     },
     "execution_count": 15,
     "metadata": {},
     "output_type": "execute_result"
    }
   ],
   "source": [
    "val n=40"
   ]
  },
  {
   "cell_type": "code",
   "execution_count": 17,
   "id": "2cc66923-b500-4409-986d-b69bdfd5b95a",
   "metadata": {},
   "outputs": [
    {
     "data": {
      "text/plain": [
       "p: Int = 2000\r\n"
      ]
     },
     "execution_count": 17,
     "metadata": {},
     "output_type": "execute_result"
    }
   ],
   "source": [
    "val p=2000  //2000个解释变量"
   ]
  },
  {
   "cell_type": "code",
   "execution_count": 21,
   "id": "5923a60f-bf3e-4c40-bdd6-f3181516ceb6",
   "metadata": {},
   "outputs": [
    {
     "data": {
      "text/plain": [
       "points: org.apache.spark.rdd.RDD[(Double, org.apache.spark.mllib.linalg.Vector)] = MapPartitionsRDD[1] at map at <console>:37\r\n"
      ]
     },
     "execution_count": 21,
     "metadata": {},
     "output_type": "execute_result"
    }
   ],
   "source": [
    "val points=sc.parallelize(0 until n,2).map{iter => \n",
    "val random=new Random()\n",
    "val u=random.nextDouble()\n",
    "val y=if(u>0.5)1.0 else 0.0\n",
    "(y,Vectors.dense(Array.fill(p)(random.nextDouble()))) //fill里面填充随机数里面的数是各不相同的\n",
    "}"
   ]
  },
  {
   "cell_type": "code",
   "execution_count": 58,
   "id": "ddb7e657-ed64-4ab2-8142-a3218fd7d686",
   "metadata": {},
   "outputs": [
    {
     "data": {
      "text/plain": [
       "weights: org.apache.spark.mllib.linalg.Vector = [-0.007686649470253611,-0.004589655854978666,-0.0064099546544570014,9.977420640499132E-4,-0.0027859570038381532,-0.004331676135481402,-0.01096860613927115,-0.0047617227861861105,-0.002135881597045604,-0.0036439396166489347,-0.002159850024978981,-1.327213475884534E-4,-0.0016012468642423233,-0.004779841595733593,-9.815363312333973E-4,-0.006674583501177464,-0.005046724959992151,-4.2281563493777336E-4,1.1564266055336028E-4,-0.008593240998050759,0.0052647098702491586,2.180864181095081E-4,-0.004283346617628985,-0.006499861037076174,-0.006209755835180007,8.075815911985813E-5,0.0010163665154089233,-0.007089884211528779,-0.00881941327320666,-8.427942925825285E-4,-0.003405423240028173,-0.005306568128660343,-0.00761328223939023,-0.009111171910069606,...\r\n"
      ]
     },
     "execution_count": 58,
     "metadata": {},
     "output_type": "execute_result"
    }
   ],
   "source": [
    "val (weights,loss)=GradientDescent.runMiniBatchSGD( //核心函数\n",
    "points,\n",
    "gradient,  //梯度\n",
    "updater,\n",
    "stepSize,  //步长\n",
    "numIterations, //最大迭代次数\n",
    "regParam,  //lambda\n",
    "miniBatchFrac,\n",
    "Vectors.dense(new Array[Double](p)) //beta的初始值,均为0\n",
    ")"
   ]
  },
  {
   "cell_type": "code",
   "execution_count": 33,
   "id": "e151dc73-9bc9-4510-b6a4-7645b7ab4b27",
   "metadata": {},
   "outputs": [
    {
     "data": {
      "text/plain": [
       "res6: org.apache.spark.mllib.linalg.Vector = [-0.0035678752242428438,-0.0034214872795092664,-0.0032499412225731076,-0.00296872536539081,-0.005274461901882402,-0.0025968135534190848,-0.0012071530502924697,-4.3201190406186134E-4,0.001306591919767756,-0.0018831340718240223,-0.002316303549802794,-3.3634509448312797E-4,-0.007139297191745308,-0.00390719046569095,0.004004829281050339,-0.004779842767128435,-0.007286200556720643,-0.007616247593845209,-0.005052515228290472,-0.009025336129279499,-0.007397321741962641,-0.0021487301804974813,-0.005816563990665918,-0.006721074992829193,-0.0011103447723783567,-0.0065334748105338545,-0.003961696519661644,-0.0015967988136510796,-0.0011188702980505331,-0.007246725925564944,-1.611848523944328E-4,-0.0024268028468494938,0.0033447493077795945,0.0043008281712...\r\n"
      ]
     },
     "execution_count": 33,
     "metadata": {},
     "output_type": "execute_result"
    }
   ],
   "source": [
    "weights//spark的vector,这是关于beta的估计值"
   ]
  },
  {
   "cell_type": "code",
   "execution_count": 34,
   "id": "3c21d5f4-a09a-4ba6-bd95-2017fc9a4db2",
   "metadata": {},
   "outputs": [
    {
     "data": {
      "text/plain": [
       "res7: Int = 2000\r\n"
      ]
     },
     "execution_count": 34,
     "metadata": {},
     "output_type": "execute_result"
    }
   ],
   "source": [
    "weights.size"
   ]
  },
  {
   "cell_type": "code",
   "execution_count": 59,
   "id": "63560c95-856b-4590-8a6b-4a388149665f",
   "metadata": {},
   "outputs": [
    {
     "data": {
      "text/plain": [
       "res15: Array[Double] = Array(0.6931471805599453, 1.473293362060148, 8.557589455319041, 1.7075307068237744, 4.698275248998362, 0.8532449876709487, 1.8113104993839375, 2.4283076018322673, 1.7894205411773088, 2.281239952259362, 1.7598461393272329)\r\n"
      ]
     },
     "execution_count": 59,
     "metadata": {},
     "output_type": "execute_result"
    }
   ],
   "source": [
    "loss"
   ]
  },
  {
   "cell_type": "code",
   "execution_count": 36,
   "id": "f8b67b37-f06e-4ad8-8de3-a4c554a663e2",
   "metadata": {},
   "outputs": [
    {
     "data": {
      "text/plain": [
       "res9: Int = 11\r\n"
      ]
     },
     "execution_count": 36,
     "metadata": {},
     "output_type": "execute_result"
    }
   ],
   "source": [
    "loss.size //第一次没迭代求一次，后面每迭代一次求一次"
   ]
  },
  {
   "cell_type": "code",
   "execution_count": 37,
   "id": "91cb22e5-1151-4430-ab3b-35a3e0834bce",
   "metadata": {},
   "outputs": [
    {
     "data": {
      "text/plain": [
       "res10: Int = 10\r\n"
      ]
     },
     "execution_count": 37,
     "metadata": {},
     "output_type": "execute_result"
    }
   ],
   "source": [
    "numIterations"
   ]
  },
  {
   "cell_type": "markdown",
   "id": "34cf49ec-c1be-46ea-a804-db57a5f8b154",
   "metadata": {},
   "source": [
    "## 有限内存BFGS算法"
   ]
  },
  {
   "cell_type": "code",
   "execution_count": 1,
   "id": "3d106ddf-3895-40b1-ad6d-72e9ea381a1f",
   "metadata": {},
   "outputs": [
    {
     "data": {
      "text/plain": [
       "Intitializing Scala interpreter ..."
      ]
     },
     "metadata": {},
     "output_type": "display_data"
    },
    {
     "data": {
      "text/plain": [
       "Spark Web UI available at http://192.168.176.1:4041\n",
       "SparkContext available as 'sc' (version = 3.3.0, master = local[*], app id = local-1671708916446)\n",
       "SparkSession available as 'spark'\n"
      ]
     },
     "metadata": {},
     "output_type": "display_data"
    },
    {
     "data": {
      "text/plain": [
       "import org.apache.spark.mllib.linalg.Vectors\r\n"
      ]
     },
     "execution_count": 1,
     "metadata": {},
     "output_type": "execute_result"
    }
   ],
   "source": [
    "import org.apache.spark.mllib.linalg.Vectors"
   ]
  },
  {
   "cell_type": "code",
   "execution_count": 2,
   "id": "5a86d040-6738-417d-99a3-93ebdaa9ad02",
   "metadata": {},
   "outputs": [
    {
     "data": {
      "text/plain": [
       "import org.apache.spark.mllib.classification.LogisticRegressionModel\r\n"
      ]
     },
     "execution_count": 2,
     "metadata": {},
     "output_type": "execute_result"
    }
   ],
   "source": [
    "import org.apache.spark.mllib.classification.LogisticRegressionModel"
   ]
  },
  {
   "cell_type": "code",
   "execution_count": 3,
   "id": "17f4f4c1-4512-45ba-9744-57fae4900245",
   "metadata": {},
   "outputs": [
    {
     "data": {
      "text/plain": [
       "import org.apache.spark.mllib.optimization.{LBFGS, LogisticGradient, SquaredL2Updater}\r\n"
      ]
     },
     "execution_count": 3,
     "metadata": {},
     "output_type": "execute_result"
    }
   ],
   "source": [
    "import org.apache.spark.mllib.optimization.{LBFGS,LogisticGradient,SquaredL2Updater}"
   ]
  },
  {
   "cell_type": "code",
   "execution_count": 4,
   "id": "e2c9904b-e626-407f-aec6-f1369ce28a5c",
   "metadata": {},
   "outputs": [
    {
     "data": {
      "text/plain": [
       "import org.apache.spark.mllib.util.MLUtils\r\n"
      ]
     },
     "execution_count": 4,
     "metadata": {},
     "output_type": "execute_result"
    }
   ],
   "source": [
    "import org.apache.spark.mllib.util.MLUtils //读数据用的"
   ]
  },
  {
   "cell_type": "code",
   "execution_count": 5,
   "id": "361f8f51-9bea-4d69-a964-859ece76b073",
   "metadata": {},
   "outputs": [
    {
     "data": {
      "text/plain": [
       "data: org.apache.spark.rdd.RDD[org.apache.spark.mllib.regression.LabeledPoint] = MapPartitionsRDD[6] at map at MLUtils.scala:86\r\n"
      ]
     },
     "execution_count": 5,
     "metadata": {},
     "output_type": "execute_result"
    }
   ],
   "source": [
    "val data=MLUtils.loadLibSVMFile(sc,\"sample_libsvm_data.txt\")\n",
    "//数据解释，冒号左边是数据位置，冒号右边是数据的值"
   ]
  },
  {
   "cell_type": "code",
   "execution_count": 6,
   "id": "a029141d-8677-415f-afb4-0154a9762fc9",
   "metadata": {},
   "outputs": [
    {
     "name": "stdout",
     "output_type": "stream",
     "text": [
      "22/12/22 19:35:29 WARN ProcfsMetricsGetter: Exception when trying to compute pagesize, as a result reporting of ProcessTree metrics is stopped\n"
     ]
    },
    {
     "data": {
      "text/plain": [
       "res0: Array[org.apache.spark.mllib.regression.LabeledPoint] = Array((0.0,(692,[127,128,129,130,131,154,155,156,157,158,159,181,182,183,184,185,186,187,188,189,207,208,209,210,211,212,213,214,215,216,217,235,236,237,238,239,240,241,242,243,244,245,262,263,264,265,266,267,268,269,270,271,272,273,289,290,291,292,293,294,295,296,297,300,301,302,316,317,318,319,320,321,328,329,330,343,344,345,346,347,348,349,356,357,358,371,372,373,374,384,385,386,399,400,401,412,413,414,426,427,428,429,440,441,442,454,455,456,457,466,467,468,469,470,482,483,484,493,494,495,496,497,510,511,512,520,521,522,523,538,539,540,547,548,549,550,566,567,568,569,570,571,572,573,574,575,576,577,578,594,595,596,597,598,599,600,601,602,603,604,622,623,624,625,626,627,628,629,630,651,652,653,654,655,656,657],[51.0,159.0,2...\r\n"
      ]
     },
     "execution_count": 6,
     "metadata": {},
     "output_type": "execute_result"
    }
   ],
   "source": [
    "data.collect()  //数据类型labeledpoint，一个point带着一个label（响应变量）\n",
    "//692表示变量数；point（稀疏）由中括号的数据表示，第一个中括号中的数字表示非零的位置，第二个中括号中的数字表示对应位置的数值"
   ]
  },
  {
   "cell_type": "code",
   "execution_count": 7,
   "id": "44c23fd0",
   "metadata": {},
   "outputs": [
    {
     "data": {
      "text/plain": [
       "res1: Array[Double] = Array(0.0, 0.0, 0.0, 0.0, 0.0, 0.0, 0.0, 0.0, 0.0, 0.0, 0.0, 0.0, 0.0, 0.0, 0.0, 0.0, 0.0, 0.0, 0.0, 0.0, 0.0, 0.0, 0.0, 0.0, 0.0, 0.0, 0.0, 0.0, 0.0, 0.0, 0.0, 0.0, 0.0, 0.0, 0.0, 0.0, 0.0, 0.0, 0.0, 0.0, 0.0, 0.0, 0.0, 0.0, 0.0, 0.0, 0.0, 0.0, 0.0, 0.0, 0.0, 0.0, 0.0, 0.0, 0.0, 0.0, 0.0, 0.0, 0.0, 0.0, 0.0, 0.0, 0.0, 0.0, 0.0, 0.0, 0.0, 0.0, 0.0, 0.0, 0.0, 0.0, 0.0, 0.0, 0.0, 0.0, 0.0, 0.0, 0.0, 0.0, 0.0, 0.0, 0.0, 0.0, 0.0, 0.0, 0.0, 0.0, 0.0, 0.0, 0.0, 0.0, 0.0, 0.0, 0.0, 0.0, 0.0, 0.0, 0.0, 0.0, 0.0, 0.0, 0.0, 0.0, 0.0, 0.0, 0.0, 0.0, 0.0, 0.0, 0.0, 0.0, 0.0, 0.0, 0.0, 0.0, 0.0, 0.0, 0.0, 0.0, 0.0, 0.0, 0.0, 0.0, 0.0, 0.0, 0.0, 0.0, 0.0, 0.0, 0.0, 0.0, 0.0, 0.0, 0.0, 0.0, 0.0, 0.0, 0.0, 0.0, 0.0, 0.0, 0.0, 0.0, 0.0, 0.0, 0.0, 0.0, 0.0, 0.0, 0.0, 0.0, 5.0, 63.0...\r\n"
      ]
     },
     "execution_count": 7,
     "metadata": {},
     "output_type": "execute_result"
    }
   ],
   "source": [
    "data.take(5)(3).features.toArray//第一个labeledpoint"
   ]
  },
  {
   "cell_type": "code",
   "execution_count": 8,
   "id": "7ffb1bfe-3df2-410b-80ce-08a22e069123",
   "metadata": {},
   "outputs": [
    {
     "data": {
      "text/plain": [
       "numFeatures: Int = 692\r\n"
      ]
     },
     "execution_count": 8,
     "metadata": {},
     "output_type": "execute_result"
    }
   ],
   "source": [
    "val numFeatures=data.take(1)(0).features.size"
   ]
  },
  {
   "cell_type": "code",
   "execution_count": 9,
   "id": "39ac7671",
   "metadata": {},
   "outputs": [
    {
     "data": {
      "text/plain": [
       "res2: org.apache.spark.mllib.linalg.Vector = (692,[127,128,129,130,131,154,155,156,157,158,159,181,182,183,184,185,186,187,188,189,207,208,209,210,211,212,213,214,215,216,217,235,236,237,238,239,240,241,242,243,244,245,262,263,264,265,266,267,268,269,270,271,272,273,289,290,291,292,293,294,295,296,297,300,301,302,316,317,318,319,320,321,328,329,330,343,344,345,346,347,348,349,356,357,358,371,372,373,374,384,385,386,399,400,401,412,413,414,426,427,428,429,440,441,442,454,455,456,457,466,467,468,469,470,482,483,484,493,494,495,496,497,510,511,512,520,521,522,523,538,539,540,547,548,549,550,566,567,568,569,570,571,572,573,574,575,576,577,578,594,595,596,597,598,599,600,601,602,603,604,622,623,624,625,626,627,628,629,630,651,652,653,654,655,656,657],[51.0,159.0,253.0,159.0,50.0,48.0,238.0,2...\r\n"
      ]
     },
     "execution_count": 9,
     "metadata": {},
     "output_type": "execute_result"
    }
   ],
   "source": [
    "data.take(1)(0).features  //解释变量"
   ]
  },
  {
   "cell_type": "code",
   "execution_count": 10,
   "id": "e5cffe53-1a33-4bee-9c85-328a1670386a",
   "metadata": {},
   "outputs": [
    {
     "data": {
      "text/plain": [
       "res3: Double = 0.0\r\n"
      ]
     },
     "execution_count": 10,
     "metadata": {},
     "output_type": "execute_result"
    }
   ],
   "source": [
    "data.take(1)(0).label //响应变量"
   ]
  },
  {
   "cell_type": "code",
   "execution_count": 11,
   "id": "115f7d12-83f1-4ab6-b17a-8cf1a482d001",
   "metadata": {},
   "outputs": [
    {
     "data": {
      "text/plain": [
       "splits: Array[org.apache.spark.rdd.RDD[org.apache.spark.mllib.regression.LabeledPoint]] = Array(MapPartitionsRDD[7] at randomSplit at <console>:28, MapPartitionsRDD[8] at randomSplit at <console>:28)\r\n"
      ]
     },
     "execution_count": 11,
     "metadata": {},
     "output_type": "execute_result"
    }
   ],
   "source": [
    "val splits=data.randomSplit(Array(0.6,0.4),seed=11L)"
   ]
  },
  {
   "cell_type": "code",
   "execution_count": 12,
   "id": "10f0911c-2158-4456-857b-3231dcbc3086",
   "metadata": {},
   "outputs": [
    {
     "data": {
      "text/plain": [
       "test: org.apache.spark.rdd.RDD[org.apache.spark.mllib.regression.LabeledPoint] = MapPartitionsRDD[8] at randomSplit at <console>:28\r\n"
      ]
     },
     "execution_count": 12,
     "metadata": {},
     "output_type": "execute_result"
    }
   ],
   "source": [
    "val test=splits(1)"
   ]
  },
  {
   "cell_type": "code",
   "execution_count": 13,
   "id": "bca76f46-d2e8-45f7-af10-95d88047755b",
   "metadata": {},
   "outputs": [
    {
     "data": {
      "text/plain": [
       "res4: Int = 39\r\n"
      ]
     },
     "execution_count": 13,
     "metadata": {},
     "output_type": "execute_result"
    }
   ],
   "source": [
    "test.collect().size //遇到一个样本，生成u(0,1)随机数，若大于0.6归于test，小于0.6归于train"
   ]
  },
  {
   "cell_type": "code",
   "execution_count": 14,
   "id": "fb10a9d8-80d2-4567-aa11-9113715d2fcb",
   "metadata": {},
   "outputs": [
    {
     "data": {
      "text/plain": [
       "training: org.apache.spark.rdd.RDD[(Double, org.apache.spark.mllib.linalg.Vector)] = MapPartitionsRDD[9] at map at <console>:28\r\n"
      ]
     },
     "execution_count": 14,
     "metadata": {},
     "output_type": "execute_result"
    }
   ],
   "source": [
    "val training=splits(0).map(x => (x.label,MLUtils.appendBias(x.features))).cache() //x是labeledpoints格式的\n",
    "//给每个labeled点的解释变量加截距\n",
    "//.cache()不考"
   ]
  },
  {
   "cell_type": "code",
   "execution_count": 15,
   "id": "0b06d8b0-974f-44b9-ad14-76c91c5997d9",
   "metadata": {},
   "outputs": [
    {
     "data": {
      "text/plain": [
       "res5: (Double, org.apache.spark.mllib.linalg.Vector) = (0.0,(693,[127,128,129,130,131,154,155,156,157,158,159,181,182,183,184,185,186,187,188,189,207,208,209,210,211,212,213,214,215,216,217,235,236,237,238,239,240,241,242,243,244,245,262,263,264,265,266,267,268,269,270,271,272,273,289,290,291,292,293,294,295,296,297,300,301,302,316,317,318,319,320,321,328,329,330,343,344,345,346,347,348,349,356,357,358,371,372,373,374,384,385,386,399,400,401,412,413,414,426,427,428,429,440,441,442,454,455,456,457,466,467,468,469,470,482,483,484,493,494,495,496,497,510,511,512,520,521,522,523,538,539,540,547,548,549,550,566,567,568,569,570,571,572,573,574,575,576,577,578,594,595,596,597,598,599,600,601,602,603,604,622,623,624,625,626,627,628,629,630,651,652,653,654,655,656,657,692],[51.0,159.0,253.0,159....\r\n"
      ]
     },
     "execution_count": 15,
     "metadata": {},
     "output_type": "execute_result"
    }
   ],
   "source": [
    "training.take(1)(0) //692变成了693，成功加进去了"
   ]
  },
  {
   "cell_type": "code",
   "execution_count": 16,
   "id": "456d1b84-ae4d-4095-a3b3-c13be0458a46",
   "metadata": {},
   "outputs": [
    {
     "data": {
      "text/plain": [
       "numCorrections: Int = 10\r\n",
       "convergenceTol: Double = 1.0E-4\r\n",
       "maxNumIterations: Int = 20\r\n",
       "regParam: Double = 0.1\r\n",
       "initialWerightsWithIntercept: org.apache.spark.mllib.linalg.Vector = [0.0,0.0,0.0,0.0,0.0,0.0,0.0,0.0,0.0,0.0,0.0,0.0,0.0,0.0,0.0,0.0,0.0,0.0,0.0,0.0,0.0,0.0,0.0,0.0,0.0,0.0,0.0,0.0,0.0,0.0,0.0,0.0,0.0,0.0,0.0,0.0,0.0,0.0,0.0,0.0,0.0,0.0,0.0,0.0,0.0,0.0,0.0,0.0,0.0,0.0,0.0,0.0,0.0,0.0,0.0,0.0,0.0,0.0,0.0,0.0,0.0,0.0,0.0,0.0,0.0,0.0,0.0,0.0,0.0,0.0,0.0,0.0,0.0,0.0,0.0,0.0,0.0,0.0,0.0,0.0,0.0,0.0,0.0,0.0,0.0,0.0,0.0,0.0,0.0,0.0,0.0,0.0,0.0,0.0,0.0,0.0,0.0,0.0,0.0,0.0,0.0,0.0,0.0,0.0,0.0,0.0,0.0,0.0,0.0,0.0,0.0,0.0,0.0,0.0,0.0,0.0,0.0,0.0,0.0,0.0,0.0,0.0,0.0,0.0,0.0,0.0,0.0,0.0,0.0,0.0,0.0,0.0,0.0,0.0,0.0,0.0,0.0,0.0,0.0,0.0,0.0,0.0,0.0,0.0,0.0,0.0,0.0,0.0,0.0,0.0,0.0,0.0,0.0,0.0,...\r\n"
      ]
     },
     "execution_count": 16,
     "metadata": {},
     "output_type": "execute_result"
    }
   ],
   "source": [
    "val numCorrections=10\n",
    "val convergenceTol=1e-4\n",
    "val maxNumIterations=20\n",
    "val regParam=0.1\n",
    "val initialWerightsWithIntercept=Vectors.dense(new Array[Double](numFeatures+1))"
   ]
  },
  {
   "cell_type": "code",
   "execution_count": 17,
   "id": "200197c2-7831-4130-ba0d-c3c846a0c442",
   "metadata": {},
   "outputs": [
    {
     "name": "stdout",
     "output_type": "stream",
     "text": [
      "22/12/22 19:35:33 WARN BLAS: Failed to load implementation from: com.github.fommil.netlib.NativeSystemBLAS\n",
      "22/12/22 19:35:33 WARN BLAS: Failed to load implementation from: com.github.fommil.netlib.NativeRefBLAS\n"
     ]
    },
    {
     "data": {
      "text/plain": [
       "weightsWithIntercept: org.apache.spark.mllib.linalg.Vector = [0.0,0.0,0.0,0.0,0.0,0.0,0.0,0.0,0.0,0.0,0.0,0.0,0.0,0.0,0.0,0.0,0.0,0.0,0.0,0.0,0.0,0.0,0.0,0.0,0.0,0.0,0.0,0.0,0.0,0.0,0.0,0.0,0.0,0.0,0.0,0.0,0.0,0.0,0.0,0.0,0.0,0.0,0.0,0.0,0.0,0.0,0.0,0.0,0.0,0.0,0.0,0.0,0.0,0.0,0.0,0.0,0.0,0.0,0.0,0.0,0.0,0.0,0.0,0.0,0.0,0.0,0.0,0.0,0.0,0.0,0.0,0.0,0.0,0.0,0.0,0.0,0.0,0.0,0.0,0.0,0.0,0.0,0.0,0.0,0.0,0.0,0.0,0.0,0.0,0.0,0.0,0.0,0.0,0.0,0.0,-1.6258126698623678E-5,-7.170995168857331E-5,5.792527923605993E-7,1.0656731417382428E-4,1.9777915336420613E-4,1.65701498337392E-5,-1.9090094533724542E-4,9.601736436052946E-6,0.0,0.0,0.0,0.0,0.0,0.0,0.0,0.0,0.0,0.0,0.0,0.0,0.0,0.0,0.0,0.0,0.0,0.0,0.0,-2.047405388873459E-5,-8.835834793715243E-6,1.9909912194126047E-4,3.0085646193983226E-4,1.030043478387045...\r\n"
      ]
     },
     "execution_count": 17,
     "metadata": {},
     "output_type": "execute_result"
    }
   ],
   "source": [
    "val (weightsWithIntercept,loss)=LBFGS.runLBFGS(\n",
    "training,\n",
    "new LogisticGradient(),\n",
    "new SquaredL2Updater(),\n",
    "numCorrections,\n",
    "convergenceTol,\n",
    "maxNumIterations,\n",
    "regParam,\n",
    "initialWerightsWithIntercept)"
   ]
  },
  {
   "cell_type": "code",
   "execution_count": 18,
   "id": "0fed7ad0-a86a-4c7b-a48b-a7691a5381d1",
   "metadata": {},
   "outputs": [
    {
     "data": {
      "text/plain": [
       "res6: org.apache.spark.mllib.linalg.Vector = [0.0,0.0,0.0,0.0,0.0,0.0,0.0,0.0,0.0,0.0,0.0,0.0,0.0,0.0,0.0,0.0,0.0,0.0,0.0,0.0,0.0,0.0,0.0,0.0,0.0,0.0,0.0,0.0,0.0,0.0,0.0,0.0,0.0,0.0,0.0,0.0,0.0,0.0,0.0,0.0,0.0,0.0,0.0,0.0,0.0,0.0,0.0,0.0,0.0,0.0,0.0,0.0,0.0,0.0,0.0,0.0,0.0,0.0,0.0,0.0,0.0,0.0,0.0,0.0,0.0,0.0,0.0,0.0,0.0,0.0,0.0,0.0,0.0,0.0,0.0,0.0,0.0,0.0,0.0,0.0,0.0,0.0,0.0,0.0,0.0,0.0,0.0,0.0,0.0,0.0,0.0,0.0,0.0,0.0,0.0,-1.6258126698623678E-5,-7.170995168857331E-5,5.792527923605993E-7,1.0656731417382428E-4,1.9777915336420613E-4,1.65701498337392E-5,-1.9090094533724542E-4,9.601736436052946E-6,0.0,0.0,0.0,0.0,0.0,0.0,0.0,0.0,0.0,0.0,0.0,0.0,0.0,0.0,0.0,0.0,0.0,0.0,0.0,-2.047405388873459E-5,-8.835834793715243E-6,1.9909912194126047E-4,3.0085646193983226E-4,1.0300434783870458E-4,3.894504382...\r\n"
      ]
     },
     "execution_count": 18,
     "metadata": {},
     "output_type": "execute_result"
    }
   ],
   "source": [
    "weightsWithIntercept"
   ]
  },
  {
   "cell_type": "markdown",
   "id": "e7992681-b50c-4ba2-ac09-8c7099cfd1fb",
   "metadata": {},
   "source": [
    "他这里参数的写法是(beta,alpha)，其中alpha是截距项，下面要拆分sparkVector"
   ]
  },
  {
   "cell_type": "code",
   "execution_count": 19,
   "id": "79452042-11dd-4737-9b1d-a696e3412313",
   "metadata": {},
   "outputs": [
    {
     "data": {
      "text/plain": [
       "res7: Int = 692\r\n"
      ]
     },
     "execution_count": 19,
     "metadata": {},
     "output_type": "execute_result"
    }
   ],
   "source": [
    "weightsWithIntercept.toArray.slice(0,numFeatures).size"
   ]
  },
  {
   "cell_type": "code",
   "execution_count": 20,
   "id": "0fdbdd4d-d70b-447f-b847-3e9db1cd14a7",
   "metadata": {},
   "outputs": [
    {
     "data": {
      "text/plain": [
       "res8: Double = 3.855481364680967E-6\r\n"
      ]
     },
     "execution_count": 20,
     "metadata": {},
     "output_type": "execute_result"
    }
   ],
   "source": [
    "weightsWithIntercept(numFeatures) //截距项"
   ]
  },
  {
   "cell_type": "code",
   "execution_count": 21,
   "id": "649adee6-347c-4635-b71a-b96331e7ecc6",
   "metadata": {},
   "outputs": [
    {
     "data": {
      "text/plain": [
       "model: org.apache.spark.mllib.classification.LogisticRegressionModel = org.apache.spark.mllib.classification.LogisticRegressionModel: intercept = 3.855481364680967E-6, numFeatures = 692, numClasses = 2, threshold = 0.5\r\n"
      ]
     },
     "execution_count": 21,
     "metadata": {},
     "output_type": "execute_result"
    }
   ],
   "source": [
    "val model=new LogisticRegressionModel(\n",
    "Vectors.dense(weightsWithIntercept.toArray.slice(0,numFeatures)),weightsWithIntercept(numFeatures))\n",
    "//当P{Y=1}>threshold，预测为1"
   ]
  },
  {
   "cell_type": "code",
   "execution_count": 22,
   "id": "70d15edd-9526-476c-bd9d-248460fca6bb",
   "metadata": {},
   "outputs": [
    {
     "data": {
      "text/plain": [
       "res9: model.type = org.apache.spark.mllib.classification.LogisticRegressionModel: intercept = 3.855481364680967E-6, numFeatures = 692, numClasses = 2, threshold = None\r\n"
      ]
     },
     "execution_count": 22,
     "metadata": {},
     "output_type": "execute_result"
    }
   ],
   "source": [
    "model.clearThreshold()//清除缺省的阈值"
   ]
  },
  {
   "cell_type": "code",
   "execution_count": 23,
   "id": "7790b902-f844-47fd-8e11-8a6f6200e742",
   "metadata": {},
   "outputs": [
    {
     "data": {
      "text/plain": [
       "ProbabilityAndLabels: org.apache.spark.rdd.RDD[(Double, Double)] = MapPartitionsRDD[44] at map at <console>:30\r\n"
      ]
     },
     "execution_count": 23,
     "metadata": {},
     "output_type": "execute_result"
    }
   ],
   "source": [
    "//测试\n",
    "val ProbabilityAndLabels=test.map{point => \n",
    "val probability=model.predict(point.features)\n",
    "(probability,point.label)}"
   ]
  },
  {
   "cell_type": "code",
   "execution_count": 24,
   "id": "f12c7c83-0580-4555-a0cb-7dfdf4588e10",
   "metadata": {},
   "outputs": [
    {
     "data": {
      "text/plain": [
       "res10: Array[(Double, Double)] = Array((2.8524920092879822E-5,0.0), (0.9999999971488216,1.0), (5.772614252612441E-7,0.0), (1.5947589454375812E-8,0.0), (2.738161786779754E-10,0.0), (0.9999999891542356,1.0), (1.033896639683206E-5,0.0), (1.9073133561740993E-6,0.0), (9.22616697551085E-9,0.0), (5.1386081747186324E-5,0.0), (0.9999999927889052,1.0), (0.9999997269928688,1.0), (0.9999999997705833,1.0), (0.9999999998991687,1.0), (2.51830122800747E-6,0.0), (0.9999990580781305,1.0), (0.9999999999930136,1.0), (0.9962526416288039,1.0), (0.9999999924134505,1.0), (1.4512536629770197E-6,0.0), (0.9999999906406031,1.0), (1.0180580897593368E-9,0.0), (0.9999999785636804,1.0), (0.9999999999991813,1.0), (9.427474653897982E-10,0.0), (5.1940238929564844E-8,0.0), (0.9999999869198901,1.0), (0.9999999786184832,1.0...\r\n"
      ]
     },
     "execution_count": 24,
     "metadata": {},
     "output_type": "execute_result"
    }
   ],
   "source": [
    "ProbabilityAndLabels.collect()"
   ]
  },
  {
   "cell_type": "code",
   "execution_count": 25,
   "id": "7813cae2-5d76-4f2e-bec0-100c7c7187e8",
   "metadata": {},
   "outputs": [
    {
     "data": {
      "text/plain": [
       "error: org.apache.spark.rdd.RDD[Double] = MapPartitionsRDD[45] at map at <console>:29\r\n"
      ]
     },
     "execution_count": 25,
     "metadata": {},
     "output_type": "execute_result"
    }
   ],
   "source": [
    "val error=test.map{point =>\n",
    "val probability=model.predict(point.features)\n",
    "// val error=0\n",
    "var predictY=0.0\n",
    "if(probability>0.5)predictY=1.0 else predictY=0.0\n",
    "math.abs(point.label-predictY)}"
   ]
  },
  {
   "cell_type": "code",
   "execution_count": 26,
   "id": "95a2a1cd-b1a7-46d6-8f5c-7d3c5268f649",
   "metadata": {},
   "outputs": [
    {
     "data": {
      "text/plain": [
       "res11: Double = 0.0\r\n"
      ]
     },
     "execution_count": 26,
     "metadata": {},
     "output_type": "execute_result"
    }
   ],
   "source": [
    "error.reduce((x,y)=>x+y)"
   ]
  },
  {
   "cell_type": "code",
   "execution_count": 74,
   "id": "8e926b84",
   "metadata": {},
   "outputs": [
    {
     "data": {
      "text/plain": [
       "import scala.util.Random\r\n",
       "import scala.collection.JavaConverters._\r\n",
       "import org.apache.spark.mllib.linalg.Vectors\r\n",
       "import org.apache.spark.mllib.regression._\r\n",
       "import org.apache.spark.mllib.optimization.{GradientDescent, LogisticGradient, SquaredL2Updater}\r\n",
       "import scala.math._\r\n",
       "import breeze.linalg._\r\n",
       "gradient: org.apache.spark.mllib.optimization.LogisticGradient = org.apache.spark.mllib.optimization.LogisticGradient@17615289\r\n",
       "updater: org.apache.spark.mllib.optimization.SquaredL2Updater = org.apache.spark.mllib.optimization.SquaredL2Updater@4b26555\r\n",
       "stepSize: Double = 0.1\r\n",
       "numIterations: Int = 10000\r\n",
       "regParam: Int = 1\r\n",
       "miniBatchFrac: Double = 0.7\r\n",
       "n: Int = 4000\r\n",
       "p: Int = 2000\r\n",
       "beta: breeze.linalg.DenseVector[Double] = DenseVector(2.0, 2.0, 2.0, 2.0, 2.0, 2.0, 2.0, 2.0, 2.0, 2.0, 2.0, 2.0...\r\n"
      ]
     },
     "execution_count": 74,
     "metadata": {},
     "output_type": "execute_result"
    }
   ],
   "source": [
    "import scala.util.Random\n",
    "import scala.collection.JavaConverters._\n",
    "import org.apache.spark.mllib.linalg.Vectors\n",
    "import org.apache.spark.mllib.regression._\n",
    "import org.apache.spark.mllib.optimization.{GradientDescent,LogisticGradient,SquaredL2Updater}\n",
    "import scala.math._\n",
    "import breeze.linalg._\n",
    "\n",
    "val gradient=new LogisticGradient()\n",
    "val updater=new SquaredL2Updater() //squared\n",
    "\n",
    "val stepSize=0.1\n",
    "val numIterations=10\n",
    "val regParam=1\n",
    "val miniBatchFrac=0.7\n",
    "val n=4000\n",
    "val p=2000  //2000个解释变量\n",
    "val beta=DenseVector(Array.ofDim[Double](p))\n",
    "beta(0 to 100):=2.0"
   ]
  },
  {
   "cell_type": "code",
   "execution_count": 78,
   "id": "6eb590fc",
   "metadata": {},
   "outputs": [
    {
     "name": "stdout",
     "output_type": "stream",
     "text": [
      "22/12/22 21:42:51 WARN GradientDescent: Testing against a convergenceTol when using miniBatchFraction < 1.0 can be unstable because of the stochasticity in sampling.\n"
     ]
    },
    {
     "data": {
      "text/plain": [
       "import scala.util.Random\r\n",
       "import scala.collection.JavaConverters._\r\n",
       "import org.apache.spark.mllib.linalg.Vectors\r\n",
       "import org.apache.spark.mllib.regression._\r\n",
       "import org.apache.spark.mllib.optimization.{GradientDescent, LogisticGradient, SquaredL2Updater}\r\n",
       "import scala.math._\r\n",
       "import breeze.linalg._\r\n",
       "gradient: org.apache.spark.mllib.optimization.LogisticGradient = org.apache.spark.mllib.optimization.LogisticGradient@4c0f49d5\r\n",
       "updater: org.apache.spark.mllib.optimization.SquaredL2Updater = org.apache.spark.mllib.optimization.SquaredL2Updater@5ca331de\r\n",
       "stepSize: Double = 0.1\r\n",
       "numIterations: Int = 10\r\n",
       "regParam: Int = 1\r\n",
       "miniBatchFrac: Double = 0.7\r\n",
       "n: Int = 4000\r\n",
       "p: Int = 2000\r\n",
       "beta: breeze.linalg.DenseVector[Double] = DenseVector(2.0, 2.0, 2.0, 2.0, 2.0, 2.0, 2.0, 2.0, 2.0, 2.0, 2.0, 2.0, ...\r\n"
      ]
     },
     "execution_count": 78,
     "metadata": {},
     "output_type": "execute_result"
    }
   ],
   "source": [
    "import scala.util.Random\n",
    "import scala.collection.JavaConverters._\n",
    "import org.apache.spark.mllib.linalg.Vectors\n",
    "import org.apache.spark.mllib.regression._\n",
    "import org.apache.spark.mllib.optimization.{GradientDescent,LogisticGradient,SquaredL2Updater}\n",
    "import scala.math._\n",
    "import breeze.linalg._\n",
    "\n",
    "val gradient=new LogisticGradient()\n",
    "val updater=new SquaredL2Updater() //squared\n",
    "\n",
    "val stepSize=0.1\n",
    "val numIterations=10\n",
    "val regParam=1\n",
    "val miniBatchFrac=0.7\n",
    "val n=4000\n",
    "val p=2000  //2000个解释变量\n",
    "val beta=DenseVector(Array.ofDim[Double](p))\n",
    "beta(0 to 100):=2.0\n",
    "val points=sc.parallelize(0 until n,10).map{iter => \n",
    "    val random=new Random()\n",
    "    val u=random.nextDouble()\n",
    "    val tmpx=Array.fill(p)(random.nextDouble())\n",
    "    val y=if(1/(1+exp(-DenseVector(tmpx).t*beta))>0.5)1.0 else 0.0 //生成响应变量\n",
    "    (y,Vectors.dense(tmpx)) \n",
    "}\n",
    "val (weights,loss)=GradientDescent.runMiniBatchSGD( //核心函数\n",
    "points,  //输入的数据\n",
    "gradient,  //用来算损失函数的梯度\n",
    "updater,   //变量选择方法\n",
    "stepSize,  //步长\n",
    "numIterations, //最大迭代次数\n",
    "regParam,  //用来设置惩罚项的调和参数lambda\n",
    "miniBatchFrac,   //每次循环用的样本占总体的比例\n",
    "Vectors.dense(new Array[Double](p)) //权重beta的初始值,均为0\n",
    ")"
   ]
  },
  {
   "cell_type": "code",
   "execution_count": 79,
   "id": "be03afc1",
   "metadata": {},
   "outputs": [
    {
     "data": {
      "text/plain": [
       "res44: Array[Double] = Array(0.6931471805599466, 0.6253888061392683, 0.5400724171257758, 0.47951046778532735, 0.4327581981769037, 0.3949166470245326, 0.36333003731202823, 0.3363839209356744, 0.31301848366591917, 0.2924984131932978, 0.27429173724485345)\r\n"
      ]
     },
     "execution_count": 79,
     "metadata": {},
     "output_type": "execute_result"
    }
   ],
   "source": [
    "loss"
   ]
  },
  {
   "cell_type": "code",
   "execution_count": 80,
   "id": "acb36a81",
   "metadata": {},
   "outputs": [
    {
     "data": {
      "text/plain": [
       "res45: Array[Double] = Array(0.01652100621751716, 0.016625362296976445, 0.016231510218110402, 0.016190386820318394, 0.016685667479470215, 0.016597558644100566, 0.01657003524714533, 0.016511046037418573, 0.016217663597248903, 0.016179235870903953, 0.016521797227734482, 0.01634700995635005, 0.016605919440244116, 0.016300748194304267, 0.016729205729012937, 0.016489331113033343, 0.016311537982487995, 0.016501493523801782, 0.016635845850873406, 0.016827884710051647, 0.01656283418234428, 0.016537252246594008, 0.01630662782694081, 0.01615694304617798, 0.016372621737825145, 0.01652277802364598, 0.016593021122042424, 0.01664137709407286, 0.016335508399018102, 0.016451595526808624, 0.01681770022631581, 0.0164795781237469, 0.016551053457064136, 0.01675284616433204, 0.016615525738744953, 0.01663431...\r\n"
      ]
     },
     "execution_count": 80,
     "metadata": {},
     "output_type": "execute_result"
    }
   ],
   "source": [
    "weights.toArray.slice(300,400)"
   ]
  },
  {
   "cell_type": "code",
   "execution_count": null,
   "id": "8493acfe",
   "metadata": {},
   "outputs": [],
   "source": []
  }
 ],
 "metadata": {
  "kernelspec": {
   "display_name": "spylon-kernel",
   "language": "scala",
   "name": "spylon-kernel"
  },
  "language_info": {
   "codemirror_mode": "text/x-scala",
   "file_extension": ".scala",
   "help_links": [
    {
     "text": "MetaKernel Magics",
     "url": "https://metakernel.readthedocs.io/en/latest/source/README.html"
    }
   ],
   "mimetype": "text/x-scala",
   "name": "scala",
   "pygments_lexer": "scala",
   "version": "0.4.1"
  }
 },
 "nbformat": 4,
 "nbformat_minor": 5
}
