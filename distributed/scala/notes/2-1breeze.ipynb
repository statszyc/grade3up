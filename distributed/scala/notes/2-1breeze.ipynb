{
 "cells": [
  {
   "cell_type": "code",
   "execution_count": 1,
   "metadata": {},
   "outputs": [
    {
     "data": {
      "text/plain": [
       "Intitializing Scala interpreter ..."
      ]
     },
     "metadata": {},
     "output_type": "display_data"
    },
    {
     "data": {
      "text/plain": [
       "Spark Web UI available at http://LAPTOP-9RG91OPS:4040\n",
       "SparkContext available as 'sc' (version = 3.3.0, master = local[*], app id = local-1670724972737)\n",
       "SparkSession available as 'spark'\n"
      ]
     },
     "metadata": {},
     "output_type": "display_data"
    },
    {
     "data": {
      "text/plain": [
       "import breeze.linalg._\r\n"
      ]
     },
     "execution_count": 1,
     "metadata": {},
     "output_type": "execute_result"
    },
    {
     "name": "stdout",
     "output_type": "stream",
     "text": [
      "22/12/11 10:16:31 WARN ProcfsMetricsGetter: Exception when trying to compute pagesize, as a result reporting of ProcessTree metrics is stopped\n"
     ]
    }
   ],
   "source": [
    "import breeze.linalg._"
   ]
  },
  {
   "cell_type": "markdown",
   "metadata": {},
   "source": [
    "# 向量"
   ]
  },
  {
   "cell_type": "markdown",
   "metadata": {},
   "source": [
    "DenseVector的创建和运用(从0开始，用圆括号调用元素)"
   ]
  },
  {
   "cell_type": "markdown",
   "metadata": {},
   "source": [
    "创建零向量、1向量、1向量的变体、固定步长的向量、linspace"
   ]
  },
  {
   "cell_type": "code",
   "execution_count": 26,
   "metadata": {},
   "outputs": [
    {
     "data": {
      "text/plain": [
       "a: breeze.linalg.DenseVector[Double] = DenseVector(0.0, 0.0, 0.0, 0.0, 0.0, 0.0, 0.0, 0.0, 0.0, 0.0)\r\n",
       "example: breeze.linalg.DenseVector[Double] = DenseVector(1.0, 2.0, 3.0)\r\n",
       "ones: breeze.linalg.DenseVector[Double] = DenseVector(1.0, 1.0, 1.0, 1.0, 1.0, 1.0, 1.0, 1.0, 1.0, 1.0)\r\n",
       "cont: breeze.linalg.DenseVector[Double] = DenseVector(2.0, 2.0, 2.0, 2.0, 2.0, 2.0, 2.0, 2.0, 2.0, 2.0)\r\n",
       "step: breeze.linalg.DenseVector[Int] = DenseVector(1, 3, 5, 7, 9)\r\n",
       "doublestep: breeze.linalg.Vector[Double] = DenseVector(1.0, 1.5, 2.0, 2.5, 3.0, 3.5, 4.0, 4.5, 5.0, 5.5, 6.0, 6.5, 7.0, 7.5, 8.0, 8.5, 9.0, 9.5)\r\n",
       "lin: breeze.linalg.DenseVector[Double] = DenseVector(0.0, 0.1, 0.2, 0.30000000000000004, 0.4, 0.5, 0.6000000000000001, 0.7000000000000001, 0.8, 0.9, 1.0)\r\n"
      ]
     },
     "execution_count": 26,
     "metadata": {},
     "output_type": "execute_result"
    }
   ],
   "source": [
    "val a=DenseVector.zeros[Double](10) //一个稠密的全零的元素为double类型的向量\n",
    "val example=DenseVector(1.0,2.0,3.0)\n",
    "val ones=DenseVector.ones[Double](10)\n",
    "val cont=DenseVector.fill(10,2.0)\n",
    "val step=DenseVector.range(1,11,2)  //begin, end, step，是左闭右开的\n",
    "val doublestep=Vector.rangeD(1.0,10.0,0.5)  //固定步长的双精度版本，是左闭右开的\n",
    "val lin=linspace(0.0,1.0,11) //输出11个结果，最后一个参数必须为整数"
   ]
  },
  {
   "cell_type": "markdown",
   "metadata": {},
   "source": [
    "转置"
   ]
  },
  {
   "cell_type": "code",
   "execution_count": 3,
   "metadata": {},
   "outputs": [
    {
     "data": {
      "text/plain": [
       "res0: breeze.linalg.Transpose[breeze.linalg.DenseVector[Double]] = Transpose(DenseVector(0.0, 0.0, 0.0, 0.0, 0.0, 0.0, 0.0, 0.0, 0.0, 0.0))\r\n"
      ]
     },
     "execution_count": 3,
     "metadata": {},
     "output_type": "execute_result"
    }
   ],
   "source": [
    "a.t"
   ]
  },
  {
   "cell_type": "markdown",
   "metadata": {},
   "source": [
    "求长度"
   ]
  },
  {
   "cell_type": "code",
   "execution_count": 4,
   "metadata": {},
   "outputs": [
    {
     "data": {
      "text/plain": [
       "res1: Int = 10\r\n"
      ]
     },
     "execution_count": 4,
     "metadata": {},
     "output_type": "execute_result"
    }
   ],
   "source": [
    "a.length"
   ]
  },
  {
   "cell_type": "code",
   "execution_count": 5,
   "metadata": {},
   "outputs": [
    {
     "data": {
      "text/plain": [
       "res2: Int = 10\r\n"
      ]
     },
     "execution_count": 5,
     "metadata": {},
     "output_type": "execute_result"
    }
   ],
   "source": [
    "a.size"
   ]
  },
  {
   "cell_type": "markdown",
   "metadata": {},
   "source": [
    "创建range和array"
   ]
  },
  {
   "cell_type": "code",
   "execution_count": 6,
   "metadata": {},
   "outputs": [
    {
     "data": {
      "text/plain": [
       "res3: scala.collection.immutable.Range.Inclusive = Range 1 to 10\r\n"
      ]
     },
     "execution_count": 6,
     "metadata": {},
     "output_type": "execute_result"
    }
   ],
   "source": [
    "(1 to a.length)"
   ]
  },
  {
   "cell_type": "code",
   "execution_count": 7,
   "metadata": {},
   "outputs": [
    {
     "data": {
      "text/plain": [
       "res4: Array[Int] = Array(1, 2, 3, 4, 5, 6, 7, 8, 9, 10)\r\n"
      ]
     },
     "execution_count": 7,
     "metadata": {},
     "output_type": "execute_result"
    }
   ],
   "source": [
    "(1 to a.length).toArray //下面中括号里的即元素的数据类型"
   ]
  },
  {
   "cell_type": "code",
   "execution_count": 8,
   "metadata": {},
   "outputs": [
    {
     "data": {
      "text/plain": [
       "res5: scala.collection.immutable.IndexedSeq[Double] = Vector(1.0, 2.0, 3.0, 4.0, 5.0, 6.0, 7.0, 8.0, 9.0, 10.0)\r\n"
      ]
     },
     "execution_count": 8,
     "metadata": {},
     "output_type": "execute_result"
    }
   ],
   "source": [
    "(1 to a.length).map(_.toDouble)"
   ]
  },
  {
   "cell_type": "markdown",
   "metadata": {},
   "source": [
    "转化为DenseVector"
   ]
  },
  {
   "cell_type": "code",
   "execution_count": 9,
   "metadata": {},
   "outputs": [
    {
     "data": {
      "text/plain": [
       "res6: breeze.linalg.DenseVector[Double] = DenseVector(0.0, 1.0, 2.0, 3.0, 4.0, 5.0, 6.0, 7.0, 8.0, 9.0)\r\n"
      ]
     },
     "execution_count": 9,
     "metadata": {},
     "output_type": "execute_result"
    }
   ],
   "source": [
    "a:=DenseVector((0 until a.length).toArray.map(_.toDouble))+a\n",
    "//a.toArray   可将DenseVector转为Array"
   ]
  },
  {
   "cell_type": "markdown",
   "metadata": {},
   "source": [
    "向量赋值用:="
   ]
  },
  {
   "cell_type": "code",
   "execution_count": 10,
   "metadata": {},
   "outputs": [
    {
     "data": {
      "text/plain": [
       "res7: breeze.linalg.DenseVector[Double] = DenseVector(100.0, -1.0, -1.0, -1.0, 4.0, 5.0, 6.0, 7.0, 8.0, 9.0)\r\n"
      ]
     },
     "execution_count": 10,
     "metadata": {},
     "output_type": "execute_result"
    }
   ],
   "source": [
    "a(1 to 3):= -1.0   //负号前一定要空格\n",
    "a(0)=100.0\n",
    "a"
   ]
  },
  {
   "cell_type": "markdown",
   "metadata": {},
   "source": [
    "# 稠密矩阵"
   ]
  },
  {
   "cell_type": "markdown",
   "metadata": {},
   "source": [
    "创建零矩阵、1矩阵、1矩阵的变体"
   ]
  },
  {
   "cell_type": "code",
   "execution_count": null,
   "metadata": {},
   "outputs": [],
   "source": [
    "val b=DenseMatrix.zeros[Int](3,5)\n",
    "val ones=DenseMatrix.ones[Double](3,5)\n",
    "ones := 2.0   //scala很敏感..."
   ]
  },
  {
   "cell_type": "code",
   "execution_count": 9,
   "metadata": {},
   "outputs": [
    {
     "data": {
      "text/plain": [
       "res7: Int = 5\r\n"
      ]
     },
     "execution_count": 9,
     "metadata": {},
     "output_type": "execute_result"
    }
   ],
   "source": [
    "b(2,::)  //第三行\n",
    "b(::,0)  //第一列\n",
    "b.cols"
   ]
  },
  {
   "cell_type": "code",
   "execution_count": 10,
   "metadata": {},
   "outputs": [
    {
     "data": {
      "text/plain": [
       "res8: Int = 3\r\n"
      ]
     },
     "execution_count": 10,
     "metadata": {},
     "output_type": "execute_result"
    }
   ],
   "source": [
    "b.rows"
   ]
  },
  {
   "cell_type": "code",
   "execution_count": 4,
   "metadata": {},
   "outputs": [
    {
     "data": {
      "text/plain": [
       "res2: breeze.linalg.DenseMatrix[Int] =\r\n",
       "0  0  0  0  0\r\n",
       "0  4  4  4  0\r\n",
       "0  4  4  4  0\r\n"
      ]
     },
     "execution_count": 4,
     "metadata": {},
     "output_type": "execute_result"
    }
   ],
   "source": [
    "b(1 to 2,1 to 3):=DenseMatrix((4,4,4),(4,4,4))//DenseMatrix的简易创建写法\n",
    "b"
   ]
  },
  {
   "cell_type": "code",
   "execution_count": 5,
   "metadata": {},
   "outputs": [
    {
     "data": {
      "text/plain": [
       "res3: breeze.linalg.DenseMatrix[Int] =\r\n",
       "4  4  4\r\n",
       "4  4  4\r\n"
      ]
     },
     "execution_count": 5,
     "metadata": {},
     "output_type": "execute_result"
    }
   ],
   "source": [
    "b(1 to 2,1 to 3):=4  //也可以"
   ]
  },
  {
   "cell_type": "markdown",
   "metadata": {},
   "source": [
    "创建矩阵进阶"
   ]
  },
  {
   "cell_type": "code",
   "execution_count": 6,
   "metadata": {},
   "outputs": [
    {
     "data": {
      "text/plain": [
       "ey: breeze.linalg.DenseMatrix[Double] =\r\n",
       "1.0  0.0  0.0  0.0  0.0\r\n",
       "0.0  1.0  0.0  0.0  0.0\r\n",
       "0.0  0.0  1.0  0.0  0.0\r\n",
       "0.0  0.0  0.0  1.0  0.0\r\n",
       "0.0  0.0  0.0  0.0  1.0\r\n",
       "dia: breeze.linalg.DenseMatrix[Int] =\r\n",
       "1  0  0  0  0\r\n",
       "0  2  0  0  0\r\n",
       "0  0  3  0  0\r\n",
       "0  0  0  4  0\r\n",
       "0  0  0  0  5\r\n",
       "diagv: breeze.linalg.DenseVector[Int] = DenseVector(1, 2, 3, 4, 5)\r\n"
      ]
     },
     "execution_count": 6,
     "metadata": {},
     "output_type": "execute_result"
    }
   ],
   "source": [
    "val ey=DenseMatrix.eye[Double](5)  //单位阵\n",
    "val dia=diag(DenseVector(1,2,3,4,5))   //对角阵\n",
    "val diagv=diag(diag(DenseVector(1,2,3,4,5)))   //抽取矩阵的对角元向量"
   ]
  },
  {
   "cell_type": "code",
   "execution_count": 2,
   "metadata": {},
   "outputs": [
    {
     "data": {
      "text/plain": [
       "import breeze.linalg._\r\n",
       "res1: breeze.linalg.DenseVector[Double] = DenseVector(1.0, 2.0)\r\n"
      ]
     },
     "execution_count": 2,
     "metadata": {},
     "output_type": "execute_result"
    }
   ],
   "source": [
    "import breeze.linalg._\n",
    "DenseVector(1,2.0)"
   ]
  },
  {
   "cell_type": "markdown",
   "metadata": {},
   "source": [
    "根据指定变换生成向量或矩阵：tabulate"
   ]
  },
  {
   "cell_type": "code",
   "execution_count": 7,
   "metadata": {},
   "outputs": [
    {
     "data": {
      "text/plain": [
       "tavec: breeze.linalg.DenseVector[Int] = DenseVector(0, 1, 4, 9, 16)\r\n",
       "tamat: breeze.linalg.DenseMatrix[Int] =\r\n",
       "0  1  2  3\r\n",
       "1  2  3  4\r\n",
       "2  3  4  5\r\n"
      ]
     },
     "execution_count": 7,
     "metadata": {},
     "output_type": "execute_result"
    }
   ],
   "source": [
    "val tavec=DenseVector.tabulate(5){i=>i*i}\n",
    "val tamat=DenseMatrix.tabulate(3,4){case(i,j)=>i+j}   //i,j是横纵坐标，箭头右边是元素的值"
   ]
  },
  {
   "cell_type": "code",
   "execution_count": 9,
   "metadata": {},
   "outputs": [
    {
     "data": {
      "text/plain": [
       "rotation: breeze.linalg.DenseMatrix[(Int, Int)] =\r\n",
       "(0,0)  (0,1)  (0,2)  (0,3)\r\n",
       "(1,0)  (1,1)  (1,2)  (1,3)\r\n",
       "(2,0)  (2,1)  (2,2)  (2,3)\r\n",
       "res7: Array[Array[(Int, Int)]] = Array(Array((0,0), (0,1), (0,2), (0,3)), Array((1,0), (1,1), (1,2), (1,3)), Array((2,0), (2,1), (2,2), (2,3)))\r\n"
      ]
     },
     "execution_count": 9,
     "metadata": {},
     "output_type": "execute_result"
    }
   ],
   "source": [
    "val rotation=DenseMatrix.tabulate(3,4){case(i,j)=>(i,j)}\n",
    "(0 until 3).toArray.map(i => rotation(i,::).t.toArray)"
   ]
  },
  {
   "cell_type": "markdown",
   "metadata": {},
   "source": [
    "试题示例"
   ]
  },
  {
   "cell_type": "code",
   "execution_count": 3,
   "metadata": {},
   "outputs": [
    {
     "data": {
      "text/plain": [
       "a: breeze.linalg.DenseVector[Double] = DenseVector(1.0, 2.0, 3.0)\r\n",
       "denseta: breeze.linalg.DenseMatrix[Double] =\r\n",
       "1.0  2.0  3.0\r\n",
       "2.0  4.0  6.0\r\n",
       "3.0  6.0  9.0\r\n"
      ]
     },
     "execution_count": 3,
     "metadata": {},
     "output_type": "execute_result"
    }
   ],
   "source": [
    "val a=DenseVector(1.0,2.0,3.0)\n",
    "val denseta=DenseMatrix.tabulate(3,3){case(i,j)=>a(i)*a(j)}  //妙"
   ]
  },
  {
   "cell_type": "markdown",
   "metadata": {},
   "source": [
    "常用的矩阵操作"
   ]
  },
  {
   "cell_type": "code",
   "execution_count": 2,
   "metadata": {},
   "outputs": [
    {
     "data": {
      "text/plain": [
       "exem: breeze.linalg.DenseMatrix[Int] =\r\n",
       "1  2  3\r\n",
       "1  2  3\r\n",
       "lazhi: breeze.linalg.DenseVector[Int] = DenseVector(1, 1, 2, 2, 3, 3)\r\n",
       "hocat: breeze.linalg.DenseMatrix[Int] =\r\n",
       "1  2  3  1  2  3\r\n",
       "1  2  3  1  2  3\r\n",
       "vecat: breeze.linalg.DenseMatrix[Int] =\r\n",
       "1  2  3\r\n",
       "1  2  3\r\n",
       "1  2  3\r\n",
       "1  2  3\r\n"
      ]
     },
     "execution_count": 2,
     "metadata": {},
     "output_type": "execute_result"
    }
   ],
   "source": [
    "val exem=DenseMatrix((1,2,3),(1,2,3))\n",
    "val lazhi=exem.toDenseVector  //拉直\n",
    "val hocat=DenseMatrix.horzcat(exem,exem)  //水平合并\n",
    "val vecat=DenseMatrix.vertcat(exem,exem)  //垂直合并"
   ]
  },
  {
   "cell_type": "markdown",
   "metadata": {},
   "source": [
    "基本运算"
   ]
  },
  {
   "cell_type": "code",
   "execution_count": 1,
   "metadata": {},
   "outputs": [
    {
     "data": {
      "text/plain": [
       "Intitializing Scala interpreter ..."
      ]
     },
     "metadata": {},
     "output_type": "display_data"
    },
    {
     "data": {
      "text/plain": [
       "Spark Web UI available at http://LAPTOP-9RG91OPS:4040\n",
       "SparkContext available as 'sc' (version = 3.3.0, master = local[*], app id = local-1670730111179)\n",
       "SparkSession available as 'spark'\n"
      ]
     },
     "metadata": {},
     "output_type": "display_data"
    },
    {
     "name": "stdout",
     "output_type": "stream",
     "text": [
      "22/12/11 11:42:01 WARN ProcfsMetricsGetter: Exception when trying to compute pagesize, as a result reporting of ProcessTree metrics is stopped\n"
     ]
    },
    {
     "data": {
      "text/plain": [
       "import breeze.linalg._\r\n",
       "a: breeze.linalg.DenseMatrix[Int] =\r\n",
       "1  2  3\r\n",
       "1  2  3\r\n"
      ]
     },
     "execution_count": 1,
     "metadata": {},
     "output_type": "execute_result"
    }
   ],
   "source": [
    "import breeze.linalg._\n",
    "val a=DenseMatrix((1,2,3),(1,2,3))"
   ]
  },
  {
   "cell_type": "code",
   "execution_count": null,
   "metadata": {},
   "outputs": [],
   "source": [
    "val b=a.t\n",
    "denseta*2.0   //乘常数\n",
    "a *:* b.t  //a与b按元素相乘，必记\n",
    "a /:/ b.t  "
   ]
  },
  {
   "cell_type": "markdown",
   "metadata": {},
   "source": [
    "最值"
   ]
  },
  {
   "cell_type": "code",
   "execution_count": 4,
   "metadata": {},
   "outputs": [
    {
     "data": {
      "text/plain": [
       "res1: breeze.linalg.DenseMatrix[Int] =\r\n",
       "2  4  6\r\n",
       "2  4  6\r\n"
      ]
     },
     "execution_count": 4,
     "metadata": {},
     "output_type": "execute_result"
    }
   ],
   "source": [
    "min(a)\n",
    "max(a)\n",
    "argmax(a.toDenseVector)  //找最大值的位置\n",
    "argmin(a.toDenseVector)\n",
    "a*=2   //a的值均乘2并改变a"
   ]
  },
  {
   "cell_type": "code",
   "execution_count": 4,
   "metadata": {},
   "outputs": [
    {
     "data": {
      "text/plain": [
       "res2: breeze.linalg.Transpose[breeze.linalg.DenseVector[Int]] = Transpose(DenseVector(1, 2, 3))\r\n"
      ]
     },
     "execution_count": 4,
     "metadata": {},
     "output_type": "execute_result"
    }
   ],
   "source": [
    "max(a(::,*))"
   ]
  },
  {
   "cell_type": "code",
   "execution_count": 20,
   "metadata": {},
   "outputs": [
    {
     "data": {
      "text/plain": [
       "mat: breeze.linalg.DenseMatrix[Double] =\r\n",
       "0.17  0.11  0.07  0.1    0.04\r\n",
       "0.11  0.16  0.07  0.09   0.05\r\n",
       "0.07  0.07  0.09  0.007  0.003\r\n",
       "0.1   0.09  0.07  0.16   0.03\r\n",
       "0.04  0.05  0.03  0.03   0.06\r\n"
      ]
     },
     "execution_count": 20,
     "metadata": {},
     "output_type": "execute_result"
    }
   ],
   "source": [
    "val mat=DenseMatrix((0.17,0.11,0.07,0.10,0.04),(0.11,0.16,0.07,0.09,0.05),(0.07,0.07,0.09,0.007,0.003),(0.10,0.09,0.07,0.16,0.03),(0.04,0.05,0.03,0.03,0.06))"
   ]
  },
  {
   "cell_type": "code",
   "execution_count": 8,
   "metadata": {},
   "outputs": [
    {
     "data": {
      "text/plain": [
       "import breeze.numerics._\r\n",
       "res5: breeze.linalg.DenseMatrix[Double] =\r\n",
       "13.255979342570603   -4.66701350274206    -1.9163488661801225  ... (5 total)\r\n",
       "-4.576804303312896   15.14607685441952    -2.5249029893133237  ...\r\n",
       "-6.521313713230213   -7.890202517266227   14.913155746898758   ...\r\n",
       "-2.7883711273286154  -1.2218812197811102  -3.467565258480381   ...\r\n",
       "-0.3684735553402265  -4.954346508331228   -2.3411435089946773  ...\r\n"
      ]
     },
     "execution_count": 8,
     "metadata": {},
     "output_type": "execute_result"
    }
   ],
   "source": [
    "det(mat)   //行列式\n",
    "inv(mat)   //逆\n",
    "pinv(mat)       //广义逆\n",
    "sqrt(mat.toDenseVector.t*mat.toDenseVector)\n",
    "norm(mat.toDenseVector)"
   ]
  },
  {
   "cell_type": "code",
   "execution_count": 11,
   "metadata": {},
   "outputs": [
    {
     "data": {
      "text/plain": [
       "res9: Double = 2.23606797749979\r\n"
      ]
     },
     "execution_count": 11,
     "metadata": {},
     "output_type": "execute_result"
    }
   ],
   "source": [
    "norm(DenseVector(2,1))"
   ]
  },
  {
   "cell_type": "code",
   "execution_count": null,
   "metadata": {},
   "outputs": [],
   "source": []
  }
 ],
 "metadata": {
  "kernelspec": {
   "display_name": "spylon-kernel",
   "language": "scala",
   "name": "spylon-kernel"
  },
  "language_info": {
   "codemirror_mode": "text/x-scala",
   "file_extension": ".scala",
   "help_links": [
    {
     "text": "MetaKernel Magics",
     "url": "https://metakernel.readthedocs.io/en/latest/source/README.html"
    }
   ],
   "mimetype": "text/x-scala",
   "name": "scala",
   "pygments_lexer": "scala",
   "version": "0.4.1"
  },
  "orig_nbformat": 4
 },
 "nbformat": 4,
 "nbformat_minor": 2
}
