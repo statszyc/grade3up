{
 "cells": [
  {
   "attachments": {},
   "cell_type": "markdown",
   "metadata": {},
   "source": [
    "# EM"
   ]
  },
  {
   "cell_type": "code",
   "execution_count": 1,
   "metadata": {},
   "outputs": [
    {
     "data": {
      "text/plain": [
       "Intitializing Scala interpreter ..."
      ]
     },
     "metadata": {},
     "output_type": "display_data"
    },
    {
     "data": {
      "text/plain": [
       "Spark Web UI available at http://LAPTOP-9RG91OPS:4040\n",
       "SparkContext available as 'sc' (version = 3.3.0, master = local[*], app id = local-1676778075546)\n",
       "SparkSession available as 'spark'\n"
      ]
     },
     "metadata": {},
     "output_type": "display_data"
    },
    {
     "name": "stdout",
     "output_type": "stream",
     "text": [
      "23/02/19 11:41:26 WARN ProcfsMetricsGetter: Exception when trying to compute pagesize, as a result reporting of ProcessTree metrics is stopped\n",
      "23/02/19 11:41:35 WARN LAPACK: Failed to load implementation from: com.github.fommil.netlib.NativeSystemLAPACK\n",
      "23/02/19 11:41:35 WARN LAPACK: Failed to load implementation from: com.github.fommil.netlib.NativeRefLAPACK\n",
      "23/02/19 11:41:35 WARN BLAS: Failed to load implementation from: com.github.fommil.netlib.NativeSystemBLAS\n",
      "23/02/19 11:41:35 WARN BLAS: Failed to load implementation from: com.github.fommil.netlib.NativeRefBLAS\n"
     ]
    },
    {
     "data": {
      "text/plain": [
       "import breeze.linalg._\r\n",
       "import java.util.concurrent.ThreadLocalRandom\r\n",
       "import breeze.stats.distributions._\r\n",
       "import breeze.numerics._\r\n",
       "r: java.util.concurrent.ThreadLocalRandom = java.util.concurrent.ThreadLocalRandom@34d981a6\r\n",
       "mu1: breeze.linalg.DenseVector[Double] = DenseVector(1.0, 2.0)\r\n",
       "sig1: breeze.linalg.DenseMatrix[Double] =\r\n",
       "2.0  1.0\r\n",
       "1.0  2.0\r\n",
       "mu2: breeze.linalg.DenseVector[Double] = DenseVector(5.0, 6.0)\r\n",
       "sig2: breeze.linalg.DenseMatrix[Double] =\r\n",
       "4.0  1.0\r\n",
       "1.0  4.0\r\n",
       "Gauss1: breeze.stats.distributions.MultivariateGaussian =\r\n",
       "MultivariateGaussian(DenseVector(1.0, 2.0),2.0  1.0\r\n",
       "1.0  2.0  )\r\n",
       "Gauss2: breeze.stats.distributions.MultivariateGaussian =\r\n",
       "MultivariateGaussian(DenseVector(5.0, 6.0),4.0  1.0\r\n",
       "1.0  4.0  )\r\n",
       "data: Array[breeze.linalg.DenseVector[Double]] = Array(DenseVector...\r\n"
      ]
     },
     "execution_count": 1,
     "metadata": {},
     "output_type": "execute_result"
    }
   ],
   "source": [
    "import breeze.linalg._\n",
    "import java.util.concurrent.ThreadLocalRandom\n",
    "import breeze.stats.distributions._\n",
    "import breeze.numerics._\n",
    "val r=ThreadLocalRandom.current\n",
    "\n",
    "val mu1 = DenseVector(1.0,2.0)\n",
    "val sig1 = DenseMatrix((2.0,1.0),(1.0,2.0))\n",
    "val mu2 = DenseVector(5.0,6.0)\n",
    "val sig2 = DenseMatrix((4.0,1.0),(1.0,4.0))\n",
    "val Gauss1 = new MultivariateGaussian(mu1,sig1)\n",
    "val Gauss2 = new MultivariateGaussian(mu2,sig2)\n",
    "val data = (0 until 10000).toArray.map(s => {\n",
    "    if(r.nextDouble<0.4){\n",
    "        Gauss1.draw  //directly draw! \n",
    "    }\n",
    "    else {\n",
    "        Gauss2.draw\n",
    "    }\n",
    "})\n",
    "\n",
    "var Diff = 1.0\n",
    "val paraData = sc.parallelize(data,4)\n",
    "var estMu1 = paraData.reduce(_+_)/10000.0\n",
    "var estMu2 = copy(estMu1) + 1.0\n",
    "var estSig1 = paraData.map(s => (s - estMu1) * (s - estMu1).t).reduce(_+_)/10000.0\n",
    "var estSig2 = copy(estSig1) + 1.0\n",
    "val N = 10000.0\n",
    "var Nk = 5000.0 \n",
    "do{\n",
    "    var OldMu1 = copy(estMu1)\n",
    "    var OldMu2 = copy(estMu2)\n",
    "    var OldSig1 = copy(estSig1)\n",
    "    var OldSig2 = copy(estSig2)\n",
    "    val Sifficient = paraData.map(x => {\n",
    "        val x1 = - (x - estMu1).t * inv(estSig1) * (x - estMu1)/2\n",
    "        val x2 = - (x - estMu2).t * inv(estSig2) * (x - estMu2)/2\n",
    "        val gamma = (Nk * sqrt(det(estSig2))) / (Nk * sqrt(det(estSig2)) + (N - Nk) * sqrt(det(estSig1)) * exp(x2 - x1))\n",
    "        (x,gamma,x * gamma,x * x.t * gamma,1.0 - gamma,(1.0 - gamma) * x,(1.0 - gamma) * x * x.t)\n",
    "    })\n",
    "    val Results = Sifficient.reduce((x,y) => (x._1 + y._1,x._2 + y._2,x._3 + y._3,x._4 + y._4,x._5 + y._5,x._6 + y._6,x._7 + y._7))\n",
    "    Nk = Results._2\n",
    "    estMu1 = Results._3/Nk\n",
    "    estSig1 = Results._4/Nk - (estMu1 * estMu1.t)\n",
    "    estMu2 = Results._6/Results._5\n",
    "    estSig2 = Results._7/Results._5 - (estMu2 * estMu2.t)\n",
    "    Diff = norm(estMu1 - OldMu1) + norm(estMu2 - OldMu2) + norm((estSig1 - OldSig1).toDenseVector) + norm((estSig2 - OldSig2).toDenseVector)\n",
    "}while(Diff > 1e-6)"
   ]
  },
  {
   "cell_type": "code",
   "execution_count": 2,
   "metadata": {},
   "outputs": [
    {
     "data": {
      "text/plain": [
       "res1: breeze.linalg.DenseVector[Double] = DenseVector(1.0177454758179587, 2.0346568202377666)\r\n"
      ]
     },
     "execution_count": 2,
     "metadata": {},
     "output_type": "execute_result"
    }
   ],
   "source": [
    "estMu1"
   ]
  },
  {
   "cell_type": "code",
   "execution_count": 4,
   "metadata": {},
   "outputs": [
    {
     "data": {
      "text/plain": [
       "res3: breeze.linalg.DenseVector[Double] = DenseVector(1.0, 2.0)\r\n"
      ]
     },
     "execution_count": 4,
     "metadata": {},
     "output_type": "execute_result"
    }
   ],
   "source": [
    "mu1"
   ]
  },
  {
   "attachments": {},
   "cell_type": "markdown",
   "metadata": {},
   "source": [
    "# Lasso"
   ]
  },
  {
   "cell_type": "code",
   "execution_count": 1,
   "metadata": {},
   "outputs": [
    {
     "data": {
      "text/plain": [
       "Intitializing Scala interpreter ..."
      ]
     },
     "metadata": {},
     "output_type": "display_data"
    },
    {
     "data": {
      "text/plain": [
       "Spark Web UI available at http://LAPTOP-9RG91OPS:4040\n",
       "SparkContext available as 'sc' (version = 3.3.0, master = local[*], app id = local-1676788363138)\n",
       "SparkSession available as 'spark'\n"
      ]
     },
     "metadata": {},
     "output_type": "display_data"
    },
    {
     "name": "stdout",
     "output_type": "stream",
     "text": [
      "23/02/19 14:32:55 WARN ProcfsMetricsGetter: Exception when trying to compute pagesize, as a result reporting of ProcessTree metrics is stopped\n"
     ]
    },
    {
     "data": {
      "text/plain": [
       "import breeze.linalg._\r\n",
       "import java.util.concurrent.ThreadLocalRandom\r\n",
       "import breeze.stats.distributions._\r\n",
       "import breeze.numerics._\r\n",
       "r: java.util.concurrent.ThreadLocalRandom = java.util.concurrent.ThreadLocalRandom@6e632d29\r\n",
       "N: Int = 1000\r\n",
       "p: Int = 200\r\n",
       "beta: breeze.linalg.DenseVector[Double] = DenseVector(2.0, 2.0, 2.0, 0.0, 0.0, 0.0, 0.0, 0.0, 0.0, 0.0, 0.0, 0.0, 0.0, 0.0, 0.0, 0.0, 0.0, 0.0, 0.0, 0.0, 0.0, 0.0, 0.0, 0.0, 0.0, 0.0, 0.0, 0.0, 0.0, 0.0, 0.0, 0.0, 0.0, 0.0, 0.0, 0.0, 0.0, 0.0, 0.0, 0.0, 0.0, 0.0, 0.0, 0.0, 0.0, 0.0, 0.0, 0.0, 0.0, 0.0, 0.0, 0.0, 0.0, 0.0, 0.0, 0.0, 0.0, 0.0, 0.0, 0.0, 0.0, 0.0, 0.0, 0.0, 0.0, 0.0, 0.0, 0.0, 0.0, 0.0, 0.0, 0.0, 0.0, 0.0, 0.0, 0.0, 0.0, 0.0, 0.0, 0.0, 0.0, 0.0, 0.0, 0.0, 0.0, 0.0, 0.0, 0.0, 0.0, 0.0, 0.0, 0.0, 0.0, 0.0, 0.0, 0.0, 0.0, 0....\r\n"
      ]
     },
     "execution_count": 1,
     "metadata": {},
     "output_type": "execute_result"
    }
   ],
   "source": [
    "import breeze.linalg._\n",
    "import java.util.concurrent.ThreadLocalRandom\n",
    "import breeze.stats.distributions._\n",
    "import breeze.numerics._\n",
    "val r=ThreadLocalRandom.current\n",
    "val N = 1000\n",
    "val p = 200\n",
    "val beta = DenseVector.zeros[Double](p)\n",
    "beta(0 to 2) := 2.0\n",
    "val myGauss = new Gaussian(0,1)\n",
    "val data = (0 until p).toArray.map(s => {\n",
    "    val tmp = DenseVector(myGauss.sample(N).toArray)\n",
    "    (s,tmp)\n",
    "})"
   ]
  },
  {
   "cell_type": "code",
   "execution_count": 31,
   "metadata": {},
   "outputs": [
    {
     "data": {
      "text/plain": [
       "X: breeze.linalg.DenseMatrix[Double] =\r\n",
       "-0.03248956493995189   -0.1135908116980738    ... (200 total)\r\n",
       "-1.1101023293831114    1.2945385092190764     ...\r\n",
       "-0.5059472624329526    -0.5110214509443586    ...\r\n",
       "-0.1993887708619674    -0.48519139769063874   ...\r\n",
       "-0.15626528275365892   -0.14656243001511596   ...\r\n",
       "-1.1793457069562827    0.620101823606608      ...\r\n",
       "-0.7136593089604237    0.5731009819563804     ...\r\n",
       "1.1756983328102983     -1.4639528680423073    ...\r\n",
       "0.16094586753064152    0.20234957028625528    ...\r\n",
       "-0.7251365392850514    0.7064428704793227     ...\r\n",
       "0.732119429229696      -0.4593231771780792    ...\r\n",
       "-1.067005869191966     0.09107656742910852    ...\r\n",
       "-0.34802920336598975   0.6348137715828132     ...\r\n",
       "-0.6338737465506113    -0.336274212133304     ...\r\n",
       "0.512253474712311      1.642498...\r\n"
      ]
     },
     "execution_count": 31,
     "metadata": {},
     "output_type": "execute_result"
    }
   ],
   "source": [
    "val X = new DenseMatrix(rows = N,cols = p,data.map(s => s._2.toArray).foldLeft(Array(0.0))((x,y) => x.union(y)).drop(1))\n",
    "//都是按列填充的啊！\n",
    "//乱序的RDD中先打标签再抠出数据比较好，如上\n",
    "//还有一种思路是直接先生成X和y再给他们打标签（不难吧？）\n",
    "val y = X * beta + 0.2 * myGauss.draw\n",
    "var estBeta = inv(X.t * X) * X.t * y\n",
    "var OldBeta = copy(estBeta)"
   ]
  },
  {
   "cell_type": "code",
   "execution_count": 32,
   "metadata": {},
   "outputs": [
    {
     "data": {
      "text/plain": [
       "Diff: Double = 3.392966230636183E-7\r\n",
       "lambda: Double = 8.5E-13\r\n",
       "maxIter: Int = 6\r\n",
       "ii: Int = 6\r\n"
      ]
     },
     "execution_count": 32,
     "metadata": {},
     "output_type": "execute_result"
    }
   ],
   "source": [
    "var Diff = 1.0\n",
    "val lambda = 0.85e-12\n",
    "val maxIter = 6\n",
    "var ii = 0\n",
    "while(Diff > 1e-6 & ii < maxIter){\n",
    "    OldBeta := estBeta\n",
    "    val tmp = data.map(s => {\n",
    "        if(OldBeta(s._1) != 0.0){\n",
    "            if(abs(s._2.t * (y - X * estBeta)) < lambda){\n",
    "                0.0\n",
    "            }\n",
    "            else{\n",
    "                s._2.t * (y - X * estBeta + s._2 * estBeta(s._1))/(lambda/abs(estBeta(s._1)) + s._2.t * s._2)\n",
    "            }\n",
    "        }else 0.0\n",
    "    })\n",
    "    estBeta = copy(DenseVector(tmp))\n",
    "    ii += 1\n",
    "    Diff = norm(OldBeta - estBeta)\n",
    "    \n",
    "}"
   ]
  },
  {
   "cell_type": "code",
   "execution_count": 33,
   "metadata": {},
   "outputs": [
    {
     "data": {
      "text/plain": [
       "res27: breeze.linalg.DenseVector[Double] = DenseVector(2.003295145022895, 1.9979988243968831, 2.0075123003673814, 0.0, 0.0, 0.0, 0.0, 0.0, 0.0, 0.0, 0.0, 0.0, 0.0, 0.0, 0.0, 0.0, 0.0, 0.0, 0.0, 0.0, 0.0, 0.0, 0.0, 0.0, 0.0, 0.0, 0.0, 0.0, 0.0, -0.005118273128754708, 0.0, 0.0, 0.0, 0.0, 0.0, 0.0, 0.0, 0.0, 0.0, 0.0, 0.0, 0.0, 0.0, 0.0, 0.0, 0.0, 0.0, 0.0, 0.0, 0.0, 0.0, 0.0, 0.0, 0.0, 0.0, 0.0, 0.0, 0.0, 0.0, 0.0, 0.0, 0.0, 0.0, 0.0, 0.0, 0.0, 0.0, 0.0, 0.0, 0.0, 0.0, 0.0, 0.0, 0.0, 0.0, 0.0, 0.0, 0.0, 0.0, 0.0, 0.0, 0.0, 0.0, 0.0, 0.0, 0.0, 0.0, 0.0, 0.0, 0.0, 0.0, 0.0, 0.0, 0.0, 0.0, 0.0, 0.0, 0.0, 0.0, 0.0, 0.0, 0.0, 0.0, 0.0, 0.0, 0.0, 0.0, 0.0, 0.0, 0.0, 0.0, 0.0, 0.0, 0.0, 0.0, 0.0, 0.0, 0.0, 0.0, 0.0, 0.0, 0.0, 0.0, 0.0, 0.0, 0.0, 0.0, 0.0, 0.0, 0.0, 0.0, 0.0, 0.0, 0.0, 0.0, 0.0, ...\r\n"
      ]
     },
     "execution_count": 33,
     "metadata": {},
     "output_type": "execute_result"
    }
   ],
   "source": [
    "estBeta"
   ]
  },
  {
   "cell_type": "code",
   "execution_count": 35,
   "metadata": {},
   "outputs": [
    {
     "data": {
      "text/plain": [
       "res29: breeze.linalg.DenseMatrix[Double] =\r\n",
       "1.4096011793308398     0.29419789506361005   ... (200 total)\r\n",
       "1.183731765935585      0.08155584442066642   ...\r\n",
       "0.79550709111341       -0.343239274701666    ...\r\n",
       "-0.3019938854707638    0.3417109817488024    ...\r\n",
       "0.5827090502413845     -0.7928479889345488   ...\r\n",
       "1.6230950811121572     -0.5250570060431082   ...\r\n",
       "0.975575167050472      -1.3132378764056518   ...\r\n",
       "-0.180166212881233     -0.2303241798463296   ...\r\n",
       "1.7699016656582325     -0.684788215649944    ...\r\n",
       "0.5889220656793581     -0.3014593004437659   ...\r\n",
       "0.7912458612276047     0.9292899361771099    ...\r\n",
       "-1.0233483060943254    1.1479429091136804    ...\r\n",
       "-0.2994557786678466    0.7453006275421138    ...\r\n",
       "0.3182775487552813     0.514312980363929     ...\r\n",
       "0.6201634353540946     1.6214080500360737...\r\n"
      ]
     },
     "execution_count": 35,
     "metadata": {},
     "output_type": "execute_result"
    }
   ],
   "source": [
    "new DenseMatrix(rows = N,cols = p,myGauss.sample(N*p).toArray)"
   ]
  },
  {
   "cell_type": "code",
   "execution_count": 1,
   "metadata": {},
   "outputs": [
    {
     "data": {
      "text/plain": [
       "Intitializing Scala interpreter ..."
      ]
     },
     "metadata": {},
     "output_type": "display_data"
    },
    {
     "data": {
      "text/plain": [
       "Spark Web UI available at http://LAPTOP-9RG91OPS:4040\n",
       "SparkContext available as 'sc' (version = 3.3.0, master = local[*], app id = local-1677236446556)\n",
       "SparkSession available as 'spark'\n"
      ]
     },
     "metadata": {},
     "output_type": "display_data"
    },
    {
     "data": {
      "text/plain": [
       "import breeze.linalg._\r\n"
      ]
     },
     "execution_count": 1,
     "metadata": {},
     "output_type": "execute_result"
    }
   ],
   "source": [
    "import breeze.linalg._"
   ]
  },
  {
   "cell_type": "code",
   "execution_count": 2,
   "metadata": {},
   "outputs": [
    {
     "data": {
      "text/plain": [
       "testdense: breeze.linalg.DenseMatrix[Int] =\r\n",
       "1  3\r\n",
       "2  4\r\n"
      ]
     },
     "execution_count": 2,
     "metadata": {},
     "output_type": "execute_result"
    }
   ],
   "source": [
    "val testdense=new DenseMatrix(rows=2,cols=2,Array(1,2,3,4))"
   ]
  },
  {
   "cell_type": "code",
   "execution_count": 4,
   "metadata": {},
   "outputs": [
    {
     "data": {
      "text/plain": [
       "res1: Int = 2\r\n"
      ]
     },
     "execution_count": 4,
     "metadata": {},
     "output_type": "execute_result"
    }
   ],
   "source": [
    "testdense.rows"
   ]
  },
  {
   "cell_type": "code",
   "execution_count": 6,
   "metadata": {},
   "outputs": [
    {
     "data": {
      "text/plain": [
       "a: breeze.linalg.DenseVector[Double] = DenseVector(1.0, 2.0, 3.0, 4.0)\r\n",
       "res3: breeze.linalg.DenseMatrix[Double] =\r\n",
       "1.0  2.0  3.0   4.0\r\n",
       "2.0  4.0  6.0   8.0\r\n",
       "3.0  6.0  9.0   12.0\r\n",
       "4.0  8.0  12.0  16.0\r\n"
      ]
     },
     "execution_count": 6,
     "metadata": {},
     "output_type": "execute_result"
    }
   ],
   "source": [
    "val a=DenseVector(1.0,2.0,3.0,4.0)\n",
    "DenseMatrix.tabulate(4,4){(i,j)=> a(i)*a(j)}"
   ]
  },
  {
   "cell_type": "code",
   "execution_count": 7,
   "metadata": {},
   "outputs": [
    {
     "data": {
      "text/plain": [
       "res4: Array[(Int, Int)] = Array(null, null, null, null)\r\n"
      ]
     },
     "execution_count": 7,
     "metadata": {},
     "output_type": "execute_result"
    }
   ],
   "source": [
    "new Array[(Int,Int)](4)"
   ]
  },
  {
   "cell_type": "code",
   "execution_count": 8,
   "metadata": {},
   "outputs": [
    {
     "data": {
      "text/plain": [
       "res5: Array[(Int, Double)] = Array(null, null, null, null, null)\r\n"
      ]
     },
     "execution_count": 8,
     "metadata": {},
     "output_type": "execute_result"
    }
   ],
   "source": [
    "Array.ofDim[(Int,Double)](5)"
   ]
  },
  {
   "cell_type": "code",
   "execution_count": 12,
   "metadata": {},
   "outputs": [
    {
     "data": {
      "text/plain": [
       "res9: breeze.linalg.Transpose[breeze.linalg.DenseVector[Int]] = Transpose(DenseVector(1, 1))\r\n"
      ]
     },
     "execution_count": 12,
     "metadata": {},
     "output_type": "execute_result"
    }
   ],
   "source": [
    "argmax(testdense(::,*))"
   ]
  },
  {
   "cell_type": "code",
   "execution_count": 14,
   "metadata": {},
   "outputs": [
    {
     "data": {
      "text/plain": [
       "import breeze.numerics._\r\n",
       "res11: breeze.linalg.DenseVector[Double] = DenseVector(0.0, 0.6931471805599453, 1.0986122886681098)\r\n"
      ]
     },
     "execution_count": 14,
     "metadata": {},
     "output_type": "execute_result"
    }
   ],
   "source": [
    "import breeze.numerics._\n",
    "log(DenseVector(1,2,3))"
   ]
  },
  {
   "cell_type": "code",
   "execution_count": 19,
   "metadata": {},
   "outputs": [
    {
     "data": {
      "text/plain": [
       "res16: breeze.stats.meanAndVariance.MeanAndVariance = MeanAndVariance(2.0,1.0,3)\r\n"
      ]
     },
     "execution_count": 19,
     "metadata": {},
     "output_type": "execute_result"
    }
   ],
   "source": [
    "breeze.stats.meanAndVariance(Array(1.0,2.0,3.0))"
   ]
  },
  {
   "cell_type": "code",
   "execution_count": 24,
   "metadata": {},
   "outputs": [
    {
     "data": {
      "text/plain": [
       "import org.apache.spark.mllib.random.RandomRDDs._\r\n",
       "res21: org.apache.spark.rdd.RDD[Double] = RandomRDD[0] at RDD at RandomRDD.scala:42\r\n"
      ]
     },
     "execution_count": 24,
     "metadata": {},
     "output_type": "execute_result"
    }
   ],
   "source": [
    "import org.apache.spark.mllib.random.RandomRDDs._\n",
    "poissonRDD(sc,1,10000,10)"
   ]
  },
  {
   "cell_type": "code",
   "execution_count": 25,
   "metadata": {},
   "outputs": [
    {
     "data": {
      "text/plain": [
       "res22: Array[Int] = Array(2, 3)\r\n"
      ]
     },
     "execution_count": 25,
     "metadata": {},
     "output_type": "execute_result"
    }
   ],
   "source": [
    "Array(1,2,3).drop(1)"
   ]
  },
  {
   "cell_type": "code",
   "execution_count": 30,
   "metadata": {},
   "outputs": [
    {
     "data": {
      "text/plain": [
       "import java.util.concurrent.ThreadLocalRandom\r\n",
       "r: java.util.concurrent.ThreadLocalRandom = java.util.concurrent.ThreadLocalRandom@41a09db8\r\n",
       "mysample: Array[Int] = Array(-1, 1, -1, -1, -1, -1, 1, -1, 1, -1, 1, -1, -1, -1, 1, 1, 1, 1, -1, -1, -1, 1, -1, 1, -1, -1, -1, -1, 1, 1, 1, -1, -1, -1, -1, -1, -1, -1, -1, -1, 1, -1, -1, -1, 1, -1, 1, 1, 1, -1, 1, -1, -1, 1, 1, -1, -1, -1, -1, 1, 1, -1, 1, 1, 1, -1, 1, 1, 1, 1, -1, 1, -1, -1, -1, 1, 1, 1, -1, 1, -1, -1, -1, -1, -1, -1, -1, 1, 1, 1, -1, -1, -1, -1, 1, -1, 1, 1, 1, -1, -1, -1, 1, -1, -1, 1, 1, 1, -1, -1, 1, 1, -1, 1, -1, 1, 1, 1, -1, -1, 1, 1, 1, 1, 1, 1, -1, 1, 1, 1, -1, 1, 1, -1, -1, -1, 1, 1, 1, 1, 1, -1, 1, 1, -1, -1, -1, -1, -1, 1, 1, -1, 1, -1, 1, 1, 1, 1, -1, -1, 1, 1, -1, -1, -1, 1, -1, -1, -1, 1, 1, 1, -1, 1, 1, -1, 1, 1, -1,...\r\n"
      ]
     },
     "execution_count": 30,
     "metadata": {},
     "output_type": "execute_result"
    }
   ],
   "source": [
    "import java.util.concurrent.ThreadLocalRandom\n",
    "val r=ThreadLocalRandom.current\n",
    "val mysample=(1 to 10000).toArray.map(s => {\n",
    "    val tmp=r.nextDouble\n",
    "    if(tmp<0.5){\n",
    "        1\n",
    "    } else -1\n",
    "})\n",
    "val mydouble=for(x <- mysample) yield x.toDouble"
   ]
  },
  {
   "cell_type": "code",
   "execution_count": 31,
   "metadata": {},
   "outputs": [
    {
     "data": {
      "text/plain": [
       "res28: breeze.stats.meanAndVariance.MeanAndVariance = MeanAndVariance(1.9999999999999524E-4,1.000099969996998,10000)\r\n"
      ]
     },
     "execution_count": 31,
     "metadata": {},
     "output_type": "execute_result"
    }
   ],
   "source": [
    "breeze.stats.meanAndVariance(mydouble)"
   ]
  },
  {
   "cell_type": "code",
   "execution_count": 33,
   "metadata": {},
   "outputs": [
    {
     "data": {
      "text/plain": [
       "import breeze.stats.distributions._\r\n",
       "mygauss: breeze.stats.distributions.Gaussian = Gaussian(0.0, 1.0)\r\n",
       "res30: Array[Double] = Array(-0.6304568590968392, 0.731062171414722, -0.009046777446450908, 0.551312351286247)\r\n"
      ]
     },
     "execution_count": 33,
     "metadata": {},
     "output_type": "execute_result"
    }
   ],
   "source": [
    "import breeze.stats.distributions._\n",
    "val mygauss=new Gaussian(0,1)\n",
    "mygauss.sample(4).toArray"
   ]
  },
  {
   "cell_type": "code",
   "execution_count": 34,
   "metadata": {},
   "outputs": [
    {
     "data": {
      "text/plain": [
       "res31: scala.collection.immutable.IndexedSeq[Double] = Vector(0.03189777723482212, 0.46642927924029787, 0.970445120504556, 0.30425960180545386, 0.4237223141301849, 0.057098033463492626, 0.8599653026604203, 0.4017773274721317, 2.849112386571484E-4, 0.056020950940620984, 0.8917874228205874, 0.35844989412861405, 0.40856070900431185, 0.9538644128376916, 0.3773165071761154, 0.04191952579233571, 0.7111976899540332, 0.6670412459101777, 0.5061788824279547, 0.7503814807815378, 0.40748685039740096, 0.3277018094312919, 0.41362361956978666, 0.27578562425226294, 0.5737170268233214, 0.4631865408872652, 0.8953105364651293, 0.21783627211879908, 0.2887047286128517, 0.9970735140077054, 0.12258054576055966, 0.5135612985272173, 0.5037363319370766, 0.6367514299412144, 0.4304051634493702, 0.4382995070293122,...\r\n"
      ]
     },
     "execution_count": 34,
     "metadata": {},
     "output_type": "execute_result"
    }
   ],
   "source": [
    "(1 to 100).map(s=> r.nextDouble) //IndexedSeq"
   ]
  },
  {
   "cell_type": "code",
   "execution_count": 41,
   "metadata": {},
   "outputs": [
    {
     "data": {
      "text/plain": [
       "mydir: breeze.stats.distributions.Dirichlet[breeze.linalg.DenseVector[Double],Int] = Dirichlet(DenseVector(3.0, 2.0, 6.0))\r\n",
       "res38: scala.collection.immutable.IndexedSeq[breeze.linalg.DenseVector[Double]] = Vector(DenseVector(0.3781676484971687, 0.09081445526622561, 0.5310178962366058), DenseVector(0.08027931589268758, 0.180593385361677, 0.7391272987456354), DenseVector(0.27691922375884426, 0.30273238508199335, 0.4203483911591624), DenseVector(0.33523665120538754, 0.2726473154594832, 0.39211603333512934), DenseVector(0.43098662885734546, 0.21714759553560625, 0.35186577560704835))\r\n"
      ]
     },
     "execution_count": 41,
     "metadata": {},
     "output_type": "execute_result"
    }
   ],
   "source": [
    "val mydir=new Dirichlet(DenseVector(3.0,2.0,6.0))\n",
    "mydir.sample(5).toIndexedSeq"
   ]
  },
  {
   "cell_type": "code",
   "execution_count": 42,
   "metadata": {},
   "outputs": [
    {
     "data": {
      "text/plain": [
       "res39: IndexedSeq[breeze.linalg.DenseVector[Double]] = Vector(DenseVector(0.29068066872142556, 0.08126556559566804, 0.6280537656829064), DenseVector(0.41015210722766837, 0.08228499227825366, 0.507562900494078), DenseVector(0.46820181172002556, 0.07586780601091038, 0.4559303822690641), DenseVector(0.18183596203565058, 0.26488724959092846, 0.553276788373421), DenseVector(0.10978112363466846, 0.09135656564720067, 0.7988623107181309))\r\n"
      ]
     },
     "execution_count": 42,
     "metadata": {},
     "output_type": "execute_result"
    }
   ],
   "source": [
    "mydir.sample(5)"
   ]
  },
  {
   "cell_type": "code",
   "execution_count": 47,
   "metadata": {},
   "outputs": [
    {
     "data": {
      "text/plain": [
       "mystr: String = 1,1 2 3,2 3 4,3 4 5\r\n",
       "res44: Array[Double] = Array(1.0, 2.0, 3.0, 2.0, 3.0, 4.0, 3.0, 4.0, 5.0)\r\n"
      ]
     },
     "execution_count": 47,
     "metadata": {},
     "output_type": "execute_result"
    }
   ],
   "source": [
    "val mystr=\"1,1 2 3,2 3 4,3 4 5\"\n",
    "mystr.split(\",\").drop(1).map(t => t.split(\" \").map(_.toDouble)).foldLeft(Array(0.0)){(x,y)=>x.union(y)}.drop(1)"
   ]
  },
  {
   "cell_type": "code",
   "execution_count": 48,
   "metadata": {},
   "outputs": [
    {
     "data": {
      "text/plain": [
       "res45: Int = 3\r\n"
      ]
     },
     "execution_count": 48,
     "metadata": {},
     "output_type": "execute_result"
    }
   ],
   "source": [
    "Array(1,2,3)(2)"
   ]
  },
  {
   "cell_type": "code",
   "execution_count": 50,
   "metadata": {},
   "outputs": [
    {
     "data": {
      "text/plain": [
       "xtmp: Array[Double] = Array(0.3157882279855736, 0.6212197577762589, -0.5536511581143947, -0.024211027458427018)\r\n",
       "y: Double = 0.682895518489464\r\n"
      ]
     },
     "execution_count": 50,
     "metadata": {},
     "output_type": "execute_result"
    }
   ],
   "source": [
    "val xtmp=Array.fill[Double](4)(r.nextGaussian)\n",
    "val y=DenseVector(xtmp).t*DenseVector(1.0,2.0,3.0,4.0)+r.nextGaussian"
   ]
  },
  {
   "cell_type": "code",
   "execution_count": 53,
   "metadata": {},
   "outputs": [
    {
     "data": {
      "text/plain": [
       "testrdd: org.apache.spark.rdd.RDD[Array[Double]] = ParallelCollectionRDD[3] at parallelize at <console>:46\r\n",
       "res47: Array[Double] = Array(1.0, 2.0)\r\n"
      ]
     },
     "execution_count": 53,
     "metadata": {},
     "output_type": "execute_result"
    }
   ],
   "source": [
    "val testrdd=sc.parallelize(Array(Array(1.0,2.0),Array(2.0,3.0)))\n",
    "testrdd.map(s=> s(0)).collect()"
   ]
  },
  {
   "cell_type": "code",
   "execution_count": 55,
   "metadata": {},
   "outputs": [
    {
     "data": {
      "text/plain": [
       "testKVP: org.apache.spark.rdd.RDD[(Int, Double)] = ParallelCollectionRDD[5] at parallelize at <console>:45\r\n",
       "res49: org.apache.spark.rdd.RDD[(Int, Double)] = MapPartitionsRDD[6] at mapValues at <console>:48\r\n"
      ]
     },
     "execution_count": 55,
     "metadata": {},
     "output_type": "execute_result"
    }
   ],
   "source": [
    "val testKVP=sc.parallelize(Array((1,2.0),(1,3.0),(2,3.0),(2,5.0)))\n",
    "testKVP.mapValues(s=> 1.0)"
   ]
  },
  {
   "cell_type": "code",
   "execution_count": 56,
   "metadata": {},
   "outputs": [
    {
     "data": {
      "text/plain": [
       "testmat: breeze.linalg.DenseMatrix[Double] =\r\n",
       "1.0  2.0  3.0\r\n",
       "2.0  3.0  4.0\r\n",
       "res50: breeze.linalg.Transpose[breeze.linalg.DenseVector[Double]] = Transpose(DenseVector(2.0, 3.0, 4.0))\r\n"
      ]
     },
     "execution_count": 56,
     "metadata": {},
     "output_type": "execute_result"
    }
   ],
   "source": [
    "val testmat=DenseMatrix((1.0,2.0,3.0),(2.0,3.0,4.0))\n",
    "testmat(1,::)"
   ]
  },
  {
   "cell_type": "code",
   "execution_count": 1,
   "metadata": {},
   "outputs": [
    {
     "data": {
      "text/plain": [
       "Intitializing Scala interpreter ..."
      ]
     },
     "metadata": {},
     "output_type": "display_data"
    },
    {
     "data": {
      "text/plain": [
       "Spark Web UI available at http://LAPTOP-9RG91OPS:4040\n",
       "SparkContext available as 'sc' (version = 3.3.0, master = local[*], app id = local-1677292136450)\n",
       "SparkSession available as 'spark'\n"
      ]
     },
     "metadata": {},
     "output_type": "display_data"
    },
    {
     "data": {
      "text/plain": [
       "c: Unit = ()\r\n"
      ]
     },
     "execution_count": 1,
     "metadata": {},
     "output_type": "execute_result"
    },
    {
     "name": "stdout",
     "output_type": "stream",
     "text": [
      "23/02/25 10:29:11 WARN ProcfsMetricsGetter: Exception when trying to compute pagesize, as a result reporting of ProcessTree metrics is stopped\n"
     ]
    }
   ],
   "source": [
    "val c = { val a = 5.0; val b=4}"
   ]
  },
  {
   "cell_type": "code",
   "execution_count": 2,
   "metadata": {},
   "outputs": [
    {
     "data": {
      "text/plain": [
       "res0: Array[Double] = Array(2.0, 2.0, 2.0, 2.0)\r\n"
      ]
     },
     "execution_count": 2,
     "metadata": {},
     "output_type": "execute_result"
    }
   ],
   "source": [
    "Array.fill(4)(2.0)"
   ]
  },
  {
   "cell_type": "code",
   "execution_count": 4,
   "metadata": {},
   "outputs": [
    {
     "data": {
      "text/plain": [
       "import breeze.linalg._\r\n",
       "res2: breeze.linalg.DenseVector[Double] = DenseVector(1.0, 1.6666666666666665, 2.333333333333333, 3.0)\r\n"
      ]
     },
     "execution_count": 4,
     "metadata": {},
     "output_type": "execute_result"
    }
   ],
   "source": [
    "import breeze.linalg._\n",
    "linspace(1,3,4)"
   ]
  },
  {
   "cell_type": "code",
   "execution_count": 16,
   "metadata": {},
   "outputs": [
    {
     "data": {
      "text/plain": [
       "res14: breeze.linalg.DenseMatrix[Double] =\r\n",
       "2.0  4.0\r\n",
       "4.0  6.0\r\n"
      ]
     },
     "execution_count": 16,
     "metadata": {},
     "output_type": "execute_result"
    }
   ],
   "source": [
    "DenseMatrix((1.0,2.0),(2.0,3.0))*:*(DenseMatrix.ones[Double](2,2)*2.0)"
   ]
  },
  {
   "cell_type": "code",
   "execution_count": 12,
   "metadata": {},
   "outputs": [
    {
     "data": {
      "text/plain": [
       "res10: breeze.linalg.DenseMatrix[Double] =\r\n",
       "2.0  2.0\r\n",
       "2.0  2.0\r\n"
      ]
     },
     "execution_count": 12,
     "metadata": {},
     "output_type": "execute_result"
    }
   ],
   "source": [
    "DenseMatrix.ones[Double](2,2)*2.0"
   ]
  },
  {
   "cell_type": "code",
   "execution_count": 17,
   "metadata": {},
   "outputs": [
    {
     "data": {
      "text/plain": [
       "a: org.apache.spark.broadcast.Broadcast[Double] = Broadcast(0)\r\n",
       "res15: Double = 1.0\r\n"
      ]
     },
     "execution_count": 17,
     "metadata": {},
     "output_type": "execute_result"
    }
   ],
   "source": [
    "val a=sc.broadcast(1.0)\n",
    "a.value"
   ]
  },
  {
   "cell_type": "code",
   "execution_count": 18,
   "metadata": {},
   "outputs": [
    {
     "data": {
      "text/plain": [
       "res16: Array[String] = Array(1.0000, 2.0000, 3.0000)\r\n"
      ]
     },
     "execution_count": 18,
     "metadata": {},
     "output_type": "execute_result"
    }
   ],
   "source": [
    "Array(1.0,2.0,3.0).map(\"%.4f\" format _)"
   ]
  },
  {
   "cell_type": "code",
   "execution_count": 20,
   "metadata": {},
   "outputs": [
    {
     "data": {
      "text/plain": [
       "OldEstMu1: breeze.linalg.DenseVector[Double] = DenseVector(5.0, 0.0)\r\n",
       "EstMu1: breeze.linalg.DenseVector[Double] = DenseVector(5.0, 0.0)\r\n"
      ]
     },
     "execution_count": 20,
     "metadata": {},
     "output_type": "execute_result"
    }
   ],
   "source": [
    "var OldEstMu1=DenseVector(0.0,0.0)\n",
    "var EstMu1=OldEstMu1\n",
    "OldEstMu1(0)=5.0"
   ]
  },
  {
   "cell_type": "code",
   "execution_count": 21,
   "metadata": {},
   "outputs": [
    {
     "data": {
      "text/plain": [
       "res19: Array[Double] = Array(1.0, 2.0)\r\n"
      ]
     },
     "execution_count": 21,
     "metadata": {},
     "output_type": "execute_result"
    }
   ],
   "source": [
    "DenseVector(1.0,2.0).toArray"
   ]
  },
  {
   "cell_type": "code",
   "execution_count": 22,
   "metadata": {},
   "outputs": [
    {
     "data": {
      "text/plain": [
       "res20: Array[Double] = Array(1.0, 2.0, 2.0, 3.0)\r\n"
      ]
     },
     "execution_count": 22,
     "metadata": {},
     "output_type": "execute_result"
    }
   ],
   "source": [
    "DenseMatrix((1.0,2.0),(2.0,3.0)).toArray"
   ]
  },
  {
   "cell_type": "code",
   "execution_count": null,
   "metadata": {},
   "outputs": [],
   "source": []
  }
 ],
 "metadata": {
  "kernelspec": {
   "display_name": "spylon-kernel",
   "language": "scala",
   "name": "spylon-kernel"
  },
  "language_info": {
   "codemirror_mode": "text/x-scala",
   "file_extension": ".scala",
   "help_links": [
    {
     "text": "MetaKernel Magics",
     "url": "https://metakernel.readthedocs.io/en/latest/source/README.html"
    }
   ],
   "mimetype": "text/x-scala",
   "name": "scala",
   "pygments_lexer": "scala",
   "version": "0.4.1"
  },
  "orig_nbformat": 4
 },
 "nbformat": 4,
 "nbformat_minor": 2
}
