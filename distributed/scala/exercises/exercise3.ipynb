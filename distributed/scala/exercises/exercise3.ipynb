{
 "cells": [
  {
   "cell_type": "markdown",
   "id": "8148aaec-e436-4f08-868b-accdbe8e4949",
   "metadata": {},
   "source": [
    "第一问"
   ]
  },
  {
   "cell_type": "code",
   "execution_count": 1,
   "id": "e6a433a1-7237-4b54-b3b6-720aca637168",
   "metadata": {},
   "outputs": [
    {
     "data": {
      "text/plain": [
       "Intitializing Scala interpreter ..."
      ]
     },
     "metadata": {},
     "output_type": "display_data"
    },
    {
     "data": {
      "text/plain": [
       "Spark Web UI available at http://LAPTOP-9RG91OPS:4040\n",
       "SparkContext available as 'sc' (version = 3.3.0, master = local[*], app id = local-1668040692943)\n",
       "SparkSession available as 'spark'\n"
      ]
     },
     "metadata": {},
     "output_type": "display_data"
    },
    {
     "data": {
      "text/plain": [
       "import java.util.concurrent.ThreadLocalRandom\r\n",
       "import scala.math._\r\n"
      ]
     },
     "execution_count": 1,
     "metadata": {},
     "output_type": "execute_result"
    }
   ],
   "source": [
    "import java.util.concurrent.ThreadLocalRandom\n",
    "import scala.math._"
   ]
  },
  {
   "cell_type": "code",
   "execution_count": 2,
   "id": "8c172515-b178-41a3-8240-441c1d35d653",
   "metadata": {},
   "outputs": [
    {
     "data": {
      "text/plain": [
       "r: java.util.concurrent.ThreadLocalRandom = java.util.concurrent.ThreadLocalRandom@112706af\r\n",
       "Frv: scala.collection.immutable.IndexedSeq[Double] = Vector(0.5449326532714861, 0.6777784202112802, 0.045772413427177416, 0.3906161886213857, 0.6240075652818017, 0.9488110208910014, 0.24390253919786964, 0.5812973895463888, 0.8779547005264623, 0.8914536257127355, 0.5847395993183665, 0.7290136074979505, 0.38666752955196804, 0.7868870006025203, 0.40441956290954606, 0.8992516114070611, 0.5138076859223146, 0.5724759558227697, 0.2903315298901433, 0.5972109869946951, 0.4932953725497796, 0.5458435484351494, 0.5136421542994389, 0.7158601024396091, 0.9224213983929662, 0.42193912693933067, 0.31424993107828547, 0.04143769542120279, 0.9575517313468137, 0.9418353129929881, 0.103665024254598, 0.554616502036446...\r\n"
      ]
     },
     "execution_count": 2,
     "metadata": {},
     "output_type": "execute_result"
    }
   ],
   "source": [
    "val r=ThreadLocalRandom.current\n",
    "val Frv=(1 to 10000).map(x => r.nextDouble)"
   ]
  },
  {
   "cell_type": "code",
   "execution_count": 3,
   "id": "9634987e-c64f-4625-9941-279821008d4e",
   "metadata": {},
   "outputs": [
    {
     "data": {
      "text/plain": [
       "out: Array[Double] = Array(0.4479168015924175, 0.7084398994800459, -0.9685034396113154, -0.6025517459338995, 0.6282889073312817, 0.9646383037014781, -0.8001015087882984, 0.5458025144771482, 0.9109402996640121, 0.9216586538030737, 0.553399548663409, 0.7708391453219495, -0.6097167375113461, 0.8309603251466979, -0.576058164077353, 0.9277384532565103, 0.30226205578951393, 0.525300703495409, -0.7484929382896934, 0.5793154567450383, -0.23757544358796054, 0.4509233663632699, 0.30104932028792436, 0.7557893910963333, 0.9453485633292479, -0.5384612643790238, -0.7188743585399366, -0.9715745176802195, 0.9708602786078008, 0.9596145102968042, -0.9254738070284235, 0.4780257510693153, -0.7104879330972376, -0.7542980328607135, 0.8646641778805795, -0.2852797413763526, -0.5601163518071329, -0.593959843932...\r\n"
      ]
     },
     "execution_count": 3,
     "metadata": {},
     "output_type": "execute_result"
    }
   ],
   "source": [
    "val out=Frv.map({x => { if (x >=0.5)  math.pow(2*x-1,1.0/3.0) else -math.pow(-2*x+1,1.0/3.0)}}).toArray\n",
    "//pow函数只能传入正数，传入负数将返回nan"
   ]
  },
  {
   "cell_type": "markdown",
   "id": "0042f423-4718-406a-9193-7986c35b0a90",
   "metadata": {},
   "source": [
    "第二问"
   ]
  },
  {
   "cell_type": "code",
   "execution_count": 4,
   "id": "e3bd5520-55fe-4541-b3a5-dcbbf2e8d515",
   "metadata": {},
   "outputs": [
    {
     "data": {
      "text/plain": [
       "import breeze.stats.distributions._\r\n",
       "import breeze.linalg._\r\n"
      ]
     },
     "execution_count": 4,
     "metadata": {},
     "output_type": "execute_result"
    }
   ],
   "source": [
    "import breeze.stats.distributions._\n",
    "import breeze.linalg._"
   ]
  },
  {
   "cell_type": "code",
   "execution_count": 31,
   "id": "db8b10d7-deb6-4c26-8143-6a8667c63139",
   "metadata": {},
   "outputs": [
    {
     "data": {
      "text/plain": [
       "mygauss: breeze.stats.distributions.MultivariateGaussian =\r\n",
       "MultivariateGaussian(DenseVector(10.0, -10.0),1.0  0.5\r\n",
       "0.5  1.0  )\r\n"
      ]
     },
     "execution_count": 31,
     "metadata": {},
     "output_type": "execute_result"
    }
   ],
   "source": [
    "val mygauss=new MultivariateGaussian(DenseVector(10.0,-10.0),DenseMatrix((1.0,0.5),(0.5,1.0)))"
   ]
  },
  {
   "cell_type": "code",
   "execution_count": 32,
   "id": "f64ccddd-1921-4509-aef7-ff8f2fcd1845",
   "metadata": {},
   "outputs": [
    {
     "data": {
      "text/plain": [
       "randn: Array[breeze.linalg.DenseVector[Double]] = Array(DenseVector(10.903945103106187, -10.064319194045623), DenseVector(9.586433027888328, -9.578699187676932), DenseVector(8.904374754847947, -9.392843873733066), DenseVector(9.310358723963379, -9.579512524797803), DenseVector(9.94676859762524, -9.779970492863942), DenseVector(10.222041300936041, -9.04816827831405), DenseVector(9.352283960341707, -10.850198174642248), DenseVector(12.073827095572813, -9.399885140621194), DenseVector(10.097422226496453, -9.172318486758831), DenseVector(10.080236003228604, -9.30900534494551), DenseVector(10.423981615443775, -10.852023423751069), DenseVector(11.055103454060818, -9.200787623494756), DenseVector(10.110783711067135, -11.284821078682906), DenseVector(10.395479826291561, -11.156213042141445), De...\r\n"
      ]
     },
     "execution_count": 32,
     "metadata": {},
     "output_type": "execute_result"
    }
   ],
   "source": [
    "val randn=mygauss.sample(100000).toArray\n",
    "// val newdata = (0 until 100000).toArray.map(s => DenseVector(randn(s)(0), randn(s)(1)))"
   ]
  },
  {
   "cell_type": "code",
   "execution_count": 33,
   "id": "8ec1c269-599d-4256-b23c-5357cdad8f1b",
   "metadata": {},
   "outputs": [
    {
     "data": {
      "text/plain": [
       "rdd: org.apache.spark.rdd.RDD[breeze.linalg.DenseVector[Double]] = ParallelCollectionRDD[91] at parallelize at <console>:35\r\n"
      ]
     },
     "execution_count": 33,
     "metadata": {},
     "output_type": "execute_result"
    }
   ],
   "source": [
    "val rdd=sc.parallelize(randn)"
   ]
  },
  {
   "cell_type": "markdown",
   "id": "d7afb775-7446-4e13-ac68-d6e0b9f5c76c",
   "metadata": {},
   "source": [
    "第一个值"
   ]
  },
  {
   "cell_type": "code",
   "execution_count": 34,
   "id": "30315091-9ab4-4f13-9bd1-d94b8d601bdd",
   "metadata": {},
   "outputs": [
    {
     "data": {
      "text/plain": [
       "res16: Double = 9997.758561448338\r\n"
      ]
     },
     "execution_count": 34,
     "metadata": {},
     "output_type": "execute_result"
    }
   ],
   "source": [
    "rdd.map(x => (x(0)*x(0)*x(1)*x(1))).reduce((x,y) => x+y)/100000.0"
   ]
  },
  {
   "cell_type": "markdown",
   "id": "d1929c7b-d861-4c8d-88d2-8c1db86f2e0c",
   "metadata": {},
   "source": [
    "第二个值"
   ]
  },
  {
   "cell_type": "code",
   "execution_count": 35,
   "id": "eb41b54c-0a83-4c4c-b91a-37d6ef683cc8",
   "metadata": {},
   "outputs": [
    {
     "data": {
      "text/plain": [
       "res17: breeze.linalg.DenseMatrix[Double] =\r\n",
       "101.01277010337648  -99.48559587462591\r\n",
       "-99.48559587462591  100.9656981249014\r\n"
      ]
     },
     "execution_count": 35,
     "metadata": {},
     "output_type": "execute_result"
    }
   ],
   "source": [
    "rdd.map(x => DenseMatrix((x(0)*x(0),x(0)*x(1)),(x(0)*x(1),x(1)*x(1)))).reduce((x,y) => x+y)/100000.0"
   ]
  },
  {
   "cell_type": "markdown",
   "id": "f37086df-404c-4d04-950c-308716dc55cc",
   "metadata": {},
   "source": [
    "第三个值"
   ]
  },
  {
   "cell_type": "code",
   "execution_count": 36,
   "id": "547ba99a-58b4-40ee-a2f6-f54a96e5f986",
   "metadata": {},
   "outputs": [
    {
     "data": {
      "text/plain": [
       "res18: breeze.linalg.DenseMatrix[Double] =\r\n",
       "-0.0018806057285820777  5.260201327264258E-4\r\n",
       "5.260201327264258E-4    0.002342055916142405\r\n"
      ]
     },
     "execution_count": 36,
     "metadata": {},
     "output_type": "execute_result"
    }
   ],
   "source": [
    "rdd.map(x => DenseMatrix((sin(x(0)*x(0)),cos(x(0)*x(1))),(cos(x(0)*x(1)),sin(x(1)*x(1))))).reduce((x,y) => x+y)/100000.0"
   ]
  },
  {
   "cell_type": "markdown",
   "id": "5f1f3336-486f-4493-9f33-8ae4f703e731",
   "metadata": {},
   "source": [
    "第三题：生成随机向量"
   ]
  },
  {
   "cell_type": "code",
   "execution_count": 11,
   "id": "4b35cdbb-486a-4562-a9b5-016259ef2fe9",
   "metadata": {},
   "outputs": [
    {
     "data": {
      "text/plain": [
       "P: Double = 0.4\r\n",
       "Mu1: breeze.linalg.DenseVector[Double] = DenseVector(1.0, 2.0)\r\n",
       "Sig1: breeze.linalg.DenseMatrix[Double] =\r\n",
       "2.0  1.0\r\n",
       "1.0  2.0\r\n",
       "Mu2: breeze.linalg.DenseVector[Double] = DenseVector(5.0, 6.0)\r\n",
       "Sig2: breeze.linalg.DenseMatrix[Double] =\r\n",
       "4.0  1.0\r\n",
       "1.0  4.0\r\n",
       "Gauss1: breeze.stats.distributions.MultivariateGaussian =\r\n",
       "MultivariateGaussian(DenseVector(1.0, 2.0),2.0  1.0\r\n",
       "1.0  2.0  )\r\n",
       "Gauss2: breeze.stats.distributions.MultivariateGaussian =\r\n",
       "MultivariateGaussian(DenseVector(5.0, 6.0),4.0  1.0\r\n",
       "1.0  4.0  )\r\n",
       "N: Int = 10000\r\n",
       "data: Array[breeze.linalg.DenseVector[Double]] = Array(null, null, null, null, null, null, null, null, null, null, null, null, null, null, null, null, null, null, null, null, null, null, null, null, null, null, null, null, null, null, null, null, null, null, n...\r\n"
      ]
     },
     "execution_count": 11,
     "metadata": {},
     "output_type": "execute_result"
    }
   ],
   "source": [
    "val P=0.4\n",
    "val Mu1=DenseVector(1.0,2.0)\n",
    "val Sig1=DenseMatrix((2.0,1.0),(1.0,2.0))\n",
    "val Mu2=DenseVector(5.0,6.0)\n",
    "val Sig2=DenseMatrix((4.0,1.0),(1.0,4.0))\n",
    "val Gauss1=new MultivariateGaussian(Mu1,Sig1)\n",
    "val Gauss2=new MultivariateGaussian(Mu2,Sig2)\n",
    "val N=10000\n",
    "val data=Array.ofDim[DenseVector[Double]](N)"
   ]
  },
  {
   "cell_type": "code",
   "execution_count": 12,
   "id": "35bdddbc-dbb6-4a79-b14b-1f2bf27bdc89",
   "metadata": {},
   "outputs": [],
   "source": [
    "for (i <- 0 until N){\n",
    "    val db=r.nextDouble\n",
    "    if (db<P){\n",
    "        data(i)=Gauss1.sample(1)(0)\n",
    "    }\n",
    "    else{\n",
    "        data(i)=Gauss2.sample(1)(0)\n",
    "    }\n",
    "}"
   ]
  },
  {
   "cell_type": "code",
   "execution_count": 13,
   "id": "b60277ed-ed57-4f90-8de3-a6d7cd1fe24f",
   "metadata": {},
   "outputs": [
    {
     "data": {
      "text/plain": [
       "res4: Array[breeze.linalg.DenseVector[Double]] = Array(DenseVector(1.5688253723276468, 6.923510479076435), DenseVector(5.482917448490002, 3.1134102754402546), DenseVector(4.0100223990893555, 6.585831186813776), DenseVector(0.9701661291074398, 2.24220019151406), DenseVector(3.991642513502722, 3.790824051375006), DenseVector(2.146821835824377, 2.921930069112661), DenseVector(3.5510461256961143, 6.723173212317443), DenseVector(1.7894079893766832, 2.0470667907160296), DenseVector(4.73771089060769, 5.095710006144961), DenseVector(1.9360315960281054, 1.942456748760304), DenseVector(4.929791418023943, 6.146297738682198), DenseVector(8.35501396721796, 8.16897895519379), DenseVector(6.316657460596011, 8.290349872984507), DenseVector(2.581786987194193, 3.9681256359576684), DenseVector(7.344074310...\r\n"
      ]
     },
     "execution_count": 13,
     "metadata": {},
     "output_type": "execute_result"
    }
   ],
   "source": [
    "data"
   ]
  },
  {
   "cell_type": "markdown",
   "id": "673ea4b8-9e52-4ca4-88bd-ac5b87fbdfea",
   "metadata": {},
   "source": [
    "第四题：EM算法"
   ]
  },
  {
   "cell_type": "code",
   "execution_count": 14,
   "id": "b426e9ef-af71-46e2-be33-5a0967abd60f",
   "metadata": {},
   "outputs": [
    {
     "data": {
      "text/plain": [
       "NumOfSlaves: Int = 4\r\n"
      ]
     },
     "execution_count": 14,
     "metadata": {},
     "output_type": "execute_result"
    }
   ],
   "source": [
    "val NumOfSlaves=4"
   ]
  },
  {
   "cell_type": "code",
   "execution_count": 15,
   "id": "c812ed8b-c71f-4356-a649-5e5d2f5f6100",
   "metadata": {},
   "outputs": [
    {
     "data": {
      "text/plain": [
       "ParData: org.apache.spark.rdd.RDD[breeze.linalg.DenseVector[Double]] = ParallelCollectionRDD[4] at parallelize at <console>:36\r\n"
      ]
     },
     "execution_count": 15,
     "metadata": {},
     "output_type": "execute_result"
    }
   ],
   "source": [
    "var ParData=sc.parallelize(data,NumOfSlaves)"
   ]
  },
  {
   "cell_type": "code",
   "execution_count": 16,
   "id": "c922b60c-c1a3-41c7-82dd-38da0fd371e0",
   "metadata": {},
   "outputs": [
    {
     "data": {
      "text/plain": [
       "ParDataStr: org.apache.spark.rdd.RDD[breeze.linalg.DenseVector[String]] = MapPartitionsRDD[5] at map at <console>:34\r\n"
      ]
     },
     "execution_count": 16,
     "metadata": {},
     "output_type": "execute_result"
    }
   ],
   "source": [
    "val ParDataStr=ParData.map(_.map(\"%.4f\" format _))"
   ]
  },
  {
   "cell_type": "code",
   "execution_count": 17,
   "id": "284adc20-296a-4a98-bf45-9bbcdc26332a",
   "metadata": {},
   "outputs": [
    {
     "data": {
      "text/plain": [
       "ParData: org.apache.spark.rdd.RDD[breeze.linalg.DenseVector[Double]] = MapPartitionsRDD[6] at map at <console>:34\r\n"
      ]
     },
     "execution_count": 17,
     "metadata": {},
     "output_type": "execute_result"
    }
   ],
   "source": [
    "ParData=ParDataStr.map(_.map(_.toDouble))"
   ]
  },
  {
   "cell_type": "code",
   "execution_count": 18,
   "id": "f609787e-b224-4e55-acc2-778fa0d80826",
   "metadata": {},
   "outputs": [
    {
     "data": {
      "text/plain": [
       "OldEstMu1: breeze.linalg.DenseVector[Double] = DenseVector(0.0, 0.0)\r\n",
       "OldEstMu2: breeze.linalg.DenseVector[Double] = DenseVector(0.0, 0.0)\r\n",
       "OldEstSig1: breeze.linalg.DenseMatrix[Double] =\r\n",
       "0.0  0.0\r\n",
       "0.0  0.0\r\n",
       "OldEstSig2: breeze.linalg.DenseMatrix[Double] =\r\n",
       "0.0  0.0\r\n",
       "0.0  0.0\r\n"
      ]
     },
     "execution_count": 18,
     "metadata": {},
     "output_type": "execute_result"
    }
   ],
   "source": [
    "\n",
    "var OldEstMu1=DenseVector(0.0,0.0)\n",
    "\n",
    "var OldEstMu2=DenseVector(0.0,0.0)\n",
    "\n",
    "var OldEstSig1=DenseMatrix((0.0,0.0),(0.0,0.0))\n",
    "\n",
    "var OldEstSig2=DenseMatrix((0.0,0.0),(0.0,0.0))\n"
   ]
  },
  {
   "cell_type": "code",
   "execution_count": 19,
   "id": "e0427297-2a0f-4906-9dd5-2714e494750e",
   "metadata": {
    "tags": []
   },
   "outputs": [
    {
     "name": "stdout",
     "output_type": "stream",
     "text": [
      "22/11/10 08:38:31 WARN ProcfsMetricsGetter: Exception when trying to compute pagesize, as a result reporting of ProcessTree metrics is stopped\n"
     ]
    },
    {
     "data": {
      "text/plain": [
       "N: Int = 10000\r\n",
       "ii: Int = 82\r\n",
       "InitialP: Double = 0.5\r\n",
       "Nk: Double = 4060.5239182785003\r\n",
       "EstMu1: breeze.linalg.DenseVector[Double] = DenseVector(1.0726383973433482, 2.0388307164553927)\r\n",
       "EstSig1: breeze.linalg.DenseMatrix[Double] =\r\n",
       "2.015384676618434   1.0239211647676578\r\n",
       "1.0239211647676578  2.0538321440495304\r\n",
       "EstMu2: breeze.linalg.DenseVector[Double] = DenseVector(5.045054651224113, 6.014427488048424)\r\n",
       "EstSig2: breeze.linalg.DenseMatrix[Double] =\r\n",
       "4.014855823011143   0.9429088001280483\r\n",
       "0.9429088001280483  4.004347482020201\r\n",
       "Diff: Double = 8.59016067046673E-8\r\n",
       "eps: Double = 1.0E-7\r\n"
      ]
     },
     "execution_count": 19,
     "metadata": {},
     "output_type": "execute_result"
    }
   ],
   "source": [
    "//jupyter特性：调用的某些变量一定要放到一个格子(cell)里面定义，否则无法序列化的\n",
    "val N=10000\n",
    "\n",
    "var ii=0\n",
    "\n",
    "val InitialP=0.5\n",
    "\n",
    "var Nk=N.toDouble*InitialP\n",
    "\n",
    "var EstMu1=ParData.reduce((x,y) => (x+y))/N.toDouble\n",
    "\n",
    "var EstSig1=(ParData.map(x => x*x.t).reduce((x,y) => x+y)/N.toDouble-EstMu1*EstMu1.t)\n",
    "\n",
    "var EstMu2=EstMu1+1.0   //这里的相对大小一定要对，这都不对还怎么区分这两个分布呢\n",
    "\n",
    "var EstSig2=EstSig1\n",
    "\n",
    "var Diff=1.0\n",
    "\n",
    "val eps=0.0000001\n",
    "do{\n",
    "    ii+=1\n",
    "    OldEstMu1=EstMu1\n",
    "    OldEstMu2=EstMu2\n",
    "    OldEstSig1=EstSig1\n",
    "    OldEstSig2=EstSig2\n",
    "    var SufficientStatistics=ParData.map(line => {\n",
    "        val x2= -(line-EstMu1).t*inv(EstSig1)*(line-EstMu1)/2\n",
    "        val x1= -(line-EstMu2).t*inv(EstSig2)*(line-EstMu2)/2\n",
    "        val gamma= Nk*math.pow(det(EstSig1),-0.5)/(Nk*math.pow(det(EstSig1),-0.5)+(N-Nk)*math.pow(det(EstSig2),-0.5)*math.exp(x1-x2))\n",
    "        (line,gamma,line*gamma,line*line.t*gamma,1-gamma,line*(1-gamma),line*line.t*(1-gamma))\n",
    "    })\n",
    "    val Results=SufficientStatistics.reduce((x,y) => (x._1+y._1,x._2+y._2,x._3+y._3,x._4+y._4,x._5+y._5,x._6+y._6,x._7+y._7))\n",
    "    Nk=Results._2\n",
    "    EstMu1=Results._3/Nk\n",
    "    EstSig1=Results._4/Nk-EstMu1*EstMu1.t\n",
    "    EstMu2=Results._6/Results._5\n",
    "    EstSig2=Results._7/Results._5-EstMu2*EstMu2.t\n",
    "    Diff=(EstMu1-OldEstMu1).t*(EstMu1-OldEstMu1)+(EstMu2-OldEstMu2).t*(EstMu2-OldEstMu2)\n",
    "    Diff+=(EstSig1-OldEstSig1).toDenseVector.t*(EstSig1-OldEstSig1).toDenseVector+(EstSig2-OldEstSig2).toDenseVector.t*(EstSig2-OldEstSig2).toDenseVector\n",
    "}while(Diff>eps)"
   ]
  },
  {
   "cell_type": "code",
   "execution_count": 20,
   "id": "5cadc91e-520c-4c61-a872-2b92af75f41c",
   "metadata": {},
   "outputs": [
    {
     "name": "stdout",
     "output_type": "stream",
     "text": [
      "DenseVector(1.0726383973433482, 2.0388307164553927)\n",
      "2.015384676618434   1.0239211647676578  \n",
      "1.0239211647676578  2.0538321440495304  \n",
      "DenseVector(5.045054651224113, 6.014427488048424)\n",
      "4.014855823011143   0.9429088001280483  \n",
      "0.9429088001280483  4.004347482020201   \n"
     ]
    }
   ],
   "source": [
    "println(EstMu1)\n",
    "println(EstSig1)\n",
    "println(EstMu2)\n",
    "println(EstSig2)"
   ]
  },
  {
   "cell_type": "code",
   "execution_count": 21,
   "id": "66b185e3-eb1f-40a3-a02d-ef9ec9a20cf1",
   "metadata": {},
   "outputs": [
    {
     "name": "stdout",
     "output_type": "stream",
     "text": [
      "DenseVector(1.0, 2.0)\n",
      "2.0  1.0  \n",
      "1.0  2.0  \n",
      "DenseVector(5.0, 6.0)\n",
      "4.0  1.0  \n",
      "1.0  4.0  \n"
     ]
    }
   ],
   "source": [
    "println(Mu1)\n",
    "println(Sig1)\n",
    "println(Mu2)\n",
    "println(Sig2)"
   ]
  },
  {
   "cell_type": "code",
   "execution_count": null,
   "id": "805687eb-efa8-4539-afc5-c291554506c3",
   "metadata": {},
   "outputs": [],
   "source": []
  }
 ],
 "metadata": {
  "kernelspec": {
   "display_name": "spylon-kernel",
   "language": "scala",
   "name": "spylon-kernel"
  },
  "language_info": {
   "codemirror_mode": "text/x-scala",
   "file_extension": ".scala",
   "help_links": [
    {
     "text": "MetaKernel Magics",
     "url": "https://metakernel.readthedocs.io/en/latest/source/README.html"
    }
   ],
   "mimetype": "text/x-scala",
   "name": "scala",
   "pygments_lexer": "scala",
   "version": "0.4.1"
  }
 },
 "nbformat": 4,
 "nbformat_minor": 5
}
