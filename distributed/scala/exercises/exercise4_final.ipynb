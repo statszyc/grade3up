{
 "cells": [
  {
   "cell_type": "markdown",
   "id": "72eacdfa-30d4-4d02-aa6a-697db5a89018",
   "metadata": {},
   "source": [
    "## 生成随机数"
   ]
  },
  {
   "cell_type": "code",
   "execution_count": 38,
   "id": "0426d31d-4f42-4e2c-b875-eabf9fe9ea7f",
   "metadata": {},
   "outputs": [
    {
     "data": {
      "text/plain": [
       "import java.util.concurrent.ThreadLocalRandom\r\n",
       "import breeze.linalg._\r\n",
       "import scala.math._\r\n",
       "import breeze.stats.distributions._\r\n",
       "import org.apache.spark.SparkContext\r\n",
       "import org.apache.spark.SparkConf\r\n",
       "import org.apache.spark.mllib.linalg.distributed._\r\n",
       "import org.apache.spark.mllib.linalg.{Vectors, Matrix=>sparkMatrix, DenseMatrix=>sparkDenseMatrix}\r\n"
      ]
     },
     "execution_count": 38,
     "metadata": {},
     "output_type": "execute_result"
    }
   ],
   "source": [
    "import java.util.concurrent.ThreadLocalRandom\n",
    "import breeze.linalg._\n",
    "import scala.math._\n",
    "import breeze.stats.distributions._\n",
    "import org.apache.spark.SparkContext\n",
    "import org.apache.spark.SparkConf\n",
    "import org.apache.spark.mllib.linalg.distributed._\n",
    "import org.apache.spark.mllib.linalg.{Vectors,Matrix => sparkMatrix,DenseMatrix=> sparkDenseMatrix}"
   ]
  },
  {
   "cell_type": "code",
   "execution_count": 39,
   "id": "6b87ab0a-f7fb-4707-b0d2-7fb64e2e1f9b",
   "metadata": {},
   "outputs": [
    {
     "data": {
      "text/plain": [
       "N: org.apache.spark.broadcast.Broadcast[Int] = Broadcast(68)\r\n",
       "p: org.apache.spark.broadcast.Broadcast[Int] = Broadcast(69)\r\n",
       "maxIter: org.apache.spark.broadcast.Broadcast[Int] = Broadcast(70)\r\n",
       "Beta: org.apache.spark.broadcast.Broadcast[breeze.linalg.DenseVector[Double]] = Broadcast(71)\r\n",
       "Indeces: scala.collection.immutable.Range = Range 0 until 1000\r\n"
      ]
     },
     "execution_count": 39,
     "metadata": {},
     "output_type": "execute_result"
    }
   ],
   "source": [
    "val N=sc.broadcast(1000)\n",
    "val p=sc.broadcast(200)\n",
    "val maxIter=sc.broadcast(6)\n",
    "val Beta=sc.broadcast(DenseVector((1 to p.value).map(_.toDouble).map(s=> {\n",
    "    if (s<=3) 2.0 else 0.0\n",
    "}).toArray))\n",
    "val Indeces=0 until N.value"
   ]
  },
  {
   "cell_type": "code",
   "execution_count": 40,
   "id": "2bb9ad6a-10bc-4f7c-8580-200971b1da87",
   "metadata": {},
   "outputs": [
    {
     "data": {
      "text/plain": [
       "norm_dist: breeze.stats.distributions.Gaussian = Gaussian(0.0, 1.0)\r\n",
       "X: breeze.linalg.DenseMatrix[Double] =\r\n",
       "1.4451362742144553     -1.8789608963914892     ... (200 total)\r\n",
       "0.9940427389257525     0.8827476082119183      ...\r\n",
       "0.20388962227178903    0.7554817055295265      ...\r\n",
       "-2.0862512363140526    -0.7917314304426422     ...\r\n",
       "-0.8227252461840148    0.8371214924103401      ...\r\n",
       "1.0382748782423563     0.7081604464392418      ...\r\n",
       "-0.2531072036075817    1.1579114961191381      ...\r\n",
       "-0.5559020120634642    -0.1408091172512501     ...\r\n",
       "-0.28835435340644283   -0.22417732258390932    ...\r\n",
       "0.8274859009571592     -2.181876728855322      ...\r\n",
       "-1.091947925233896     0.30511273503780856     ...\r\n",
       "0.6743966367795563     -0.7862772192955386     ...\r\n",
       "0.06558858774183078    -2.0204012011181254     ...\r\n",
       "...\r\n"
      ]
     },
     "execution_count": 40,
     "metadata": {},
     "output_type": "execute_result"
    }
   ],
   "source": [
    "var norm_dist=new Gaussian(0,1)\n",
    "val X = new DenseMatrix(rows = N.value, cols = p.value, norm_dist.sample(N.value*p.value).toArray)\n",
    "val epsilon=(new DenseMatrix(rows=N.value,cols=1,norm_dist.sample(N.value).toArray)).toDenseVector\n",
    "val y=X * Beta.value +epsilon\n",
    "val inibetahat=inv(X.t*X)*X.t*y\n",
    "var betahat=DenseVector.zeros[Double](p.value)"
   ]
  },
  {
   "cell_type": "markdown",
   "id": "513017cb-df00-42ae-849b-b494a4e1cc42",
   "metadata": {},
   "source": [
    "## 第一问：串型程序"
   ]
  },
  {
   "cell_type": "code",
   "execution_count": 35,
   "id": "eab82995-ad28-42d8-9fb9-b7ceb3c13826",
   "metadata": {},
   "outputs": [
    {
     "name": "stdout",
     "output_type": "stream",
     "text": [
      "5.75248204378623\n",
      "0.04067814927183755\n",
      "0.0040434760893861554\n",
      "4.0654399988726553E-4\n",
      "4.031076940558265E-5\n",
      "4.0425549674427685E-6\n",
      "DenseVector(2.0150176520346417, 1.9521555322786428, 2.0905605690262408, 0.0, 0.0, 0.0, 0.0, 0.0, 0.0, 0.0, 0.0, 0.0, 0.0, 0.0, 0.0, 0.0, 0.0, 0.0, 0.0, 0.0, 0.0, 0.0, 0.0, 0.0, 0.0, 0.0, 0.0, 0.0, 0.0, 0.0, 0.0, 0.0, 0.0, 0.0, 0.0, 0.0, 0.0, 0.0, 0.0, 0.0, 0.0, 0.0, 0.0, 0.0, 0.0, 0.0, 0.0, 0.0, 0.0, 0.0, 0.0, 0.0, 0.0, 0.0, 0.0, 0.0, 0.0, 0.0, 0.0, 0.0, 0.0, 0.0, 0.0, 0.0, 0.0, 0.0, 0.0, 0.0, 0.0, 0.0, 0.0, 0.0, 0.0, 0.0, 0.0, 0.0, 0.0, 0.0, 0.0, 0.0, 0.0, 0.0, 0.0, 0.0, 0.0, 0.0, 0.0, 0.0, 0.0, 0.0, 0.0, 0.0, 0.0, 0.0, 0.0, 0.0, 0.0, 0.0, 0.0, 0.0, 0.0, 0.0, 0.0, 0.0, 0.0, 0.0, 0.0, 0.0, 0.0, 0.0, 0.0, 0.0, 0.0, 0.0, 0.0, 0.0, 0.0, 0.0, 0.0, 0.0, 0.0, 0.0, 0.0, 0.0, 0.0, 0.0, 0.0, 0.0, 0.0, 0.0, 0.0, 0.0, 0.0, 0.0, 0.0, 0.0, 0.0, 0.0, 0.0, 0.0, 0.0, 0.0, 0.0, 0.0, 0.0, 0.0, 0.0, 0.0, 0.0, 0.0, 0.0, 0.0, 0.0, 0.0, 0.0, 0.0, 0.0, 0.0, 0.0, 0.0, 0.0, 0.0, 0.0, 0.0, 0.0, 0.0, 0.0, 0.0, 0.0, 0.0, 0.0, 0.0, 0.0, 0.0, 0.0, 0.0, 0.0, 0.0, 0.0, 0.0, 0.0, 0.0, 0.0, 0.0, 0.0, 0.0, 0.0, 0.0, 0.0, 0.0, 0.0, 0.0, 0.0, 0.0, 0.0, 0.0, 0.0, 0.0, 0.0, 0.0)\n"
     ]
    },
    {
     "data": {
      "text/plain": [
       "lam: org.apache.spark.broadcast.Broadcast[Double] = Broadcast(60)\r\n",
       "ii: Int = 6\r\n",
       "Diff: Double = 4.0425549674427685E-6\r\n",
       "eps: org.apache.spark.broadcast.Broadcast[Double] = Broadcast(61)\r\n",
       "Oldbeta: breeze.linalg.DenseVector[Double] = DenseVector(2.015016236080513, 1.9521569343591099, 2.0905617935466125, 0.0, 0.0, 0.0, 0.0, 0.0, 0.0, 0.0, 0.0, 0.0, 0.0, 0.0, 0.0, 0.0, 0.0, 0.0, 0.0, 0.0, 0.0, 0.0, 0.0, 0.0, 0.0, 0.0, 0.0, 0.0, 0.0, 0.0, 0.0, 0.0, 0.0, 0.0, 0.0, 0.0, 0.0, 0.0, 0.0, 0.0, 0.0, 0.0, 0.0, 0.0, 0.0, 0.0, 0.0, 0.0, 0.0, 0.0, 0.0, 0.0, 0.0, 0.0, 0.0, 0.0, 0.0, 0.0, 0.0, 0.0, 0.0, 0.0, 0.0, 0.0, 0.0, 0.0, 0.0, 0.0, 0.0, 0.0, 0.0, 0.0, 0.0, 0.0, 0.0, 0.0, 0.0, 0.0, 0.0, 0.0, 0.0, 0.0, 0.0, 0.0, 0.0, 0.0, 0.0, 0.0, 0.0, 0.0, 0.0, 0.0, 0.0, 0.0, 0.0, 0.0, 0.0, 0.0, 0.0, 0.0, 0.0, 0.0, 0...\r\n"
      ]
     },
     "execution_count": 35,
     "metadata": {},
     "output_type": "execute_result"
    }
   ],
   "source": [
    "betahat(0 until p.value):=inibetahat(0 until p.value)  //这样写没什么不行的\n",
    "val lam=sc.broadcast(0.85e-12)\n",
    "var ii=0\n",
    "var Diff=1.0\n",
    "val eps=sc.broadcast(1e-5)\n",
    "var Oldbeta=DenseVector.zeros[Double](p.value)\n",
    "while(ii<maxIter.value && Diff>eps.value){\n",
    "    Oldbeta:=betahat   //这样赋值简洁高效，但不写(0 until p.value)恐怕老师误判，所以咱们写copy，或就按之前那样写\n",
    "    for(i<- 0 until p.value){  //p个分量逐个运算，典型的串型程序\n",
    "        if(Oldbeta(i)!=0.0){\n",
    "            if (math.abs(X(::,i).t*(y-X*Oldbeta))<lam.value) {\n",
    "                betahat(i)=0.0\n",
    "            }\n",
    "            else {\n",
    "                val tmp=DenseVector.zeros[Double](N.value)\n",
    "                for(j<-0 until p.value){\n",
    "                    if(j!=i) tmp+=X(::,j)*Oldbeta(j)\n",
    "                }\n",
    "                betahat(i)=X(::,i).t*(y-tmp)/(lam.value/math.abs(Oldbeta(i))+X(::,i).t*X(::,i))\n",
    "            }\n",
    "        }\n",
    "    }\n",
    "    Diff=sum((Oldbeta-betahat).map(math.abs(_)))\n",
    "    println(Diff)\n",
    "    ii+=1\n",
    "}\n",
    "println(betahat)"
   ]
  },
  {
   "cell_type": "markdown",
   "id": "9a3059fb-355f-4d21-a8b6-9f3a3c7e3623",
   "metadata": {},
   "source": [
    "## 第二问：并行程序"
   ]
  },
  {
   "attachments": {},
   "cell_type": "markdown",
   "id": "40b62dc1",
   "metadata": {},
   "source": [
    "有办法解除+0和-0的"
   ]
  },
  {
   "cell_type": "code",
   "execution_count": 59,
   "id": "c81635c4-2f14-45d7-a1b3-1c7e35538250",
   "metadata": {},
   "outputs": [
    {
     "name": "stdout",
     "output_type": "stream",
     "text": [
      "23/02/18 20:10:09 WARN TaskSetManager: Stage 143 contains a task of very large size (1568 KiB). The maximum recommended task size is 1000 KiB.\n",
      "23/02/18 20:10:09 WARN TaskSetManager: Stage 144 contains a task of very large size (1568 KiB). The maximum recommended task size is 1000 KiB.\n",
      "23/02/18 20:10:09 WARN TaskSetManager: Stage 145 contains a task of very large size (1568 KiB). The maximum recommended task size is 1000 KiB.\n",
      "23/02/18 20:10:10 WARN TaskSetManager: Stage 146 contains a task of very large size (1568 KiB). The maximum recommended task size is 1000 KiB.\n",
      "23/02/18 20:10:10 WARN TaskSetManager: Stage 147 contains a task of very large size (1568 KiB). The maximum recommended task size is 1000 KiB.\n",
      "23/02/18 20:10:10 WARN TaskSetManager: Stage 148 contains a task of very large size (1568 KiB). The maximum recommended task size is 1000 KiB.\n",
      "23/02/18 20:10:10 WARN TaskSetManager: Stage 149 contains a task of very large size (1568 KiB). The maximum recommended task size is 1000 KiB.\n",
      "23/02/18 20:10:10 WARN TaskSetManager: Stage 150 contains a task of very large size (1568 KiB). The maximum recommended task size is 1000 KiB.\n",
      "23/02/18 20:10:10 WARN TaskSetManager: Stage 151 contains a task of very large size (1568 KiB). The maximum recommended task size is 1000 KiB.\n",
      "23/02/18 20:10:10 WARN TaskSetManager: Stage 152 contains a task of very large size (1568 KiB). The maximum recommended task size is 1000 KiB.\n",
      "23/02/18 20:10:10 WARN TaskSetManager: Stage 153 contains a task of very large size (1568 KiB). The maximum recommended task size is 1000 KiB.\n",
      "23/02/18 20:10:10 WARN TaskSetManager: Stage 154 contains a task of very large size (1568 KiB). The maximum recommended task size is 1000 KiB.\n",
      "DenseVector(2.0365899325313426, 2.0379748827446216, 2.0169874176531883, 0.0, 0.0, 0.0, 0.0, 0.0, 0.0, 0.0, 0.0, 0.0, 0.0, 0.0, 0.0, 0.0, 0.0, 0.0, 0.0, 0.0, 0.0, 0.0, 0.0, 0.0, 0.0, 0.0, 0.0, 0.0, 0.0, 0.0, 0.0, 0.0, 0.0, 0.0, 0.0, 0.0, 0.0, 0.0, 0.0, 0.0, 0.0, 0.0, 0.0, 0.0, 0.0, 0.0, 0.0, 0.0, 0.0, 0.0, 0.0, 0.0, 0.0, 0.0, 0.0, 0.0, 0.0, 0.0, 0.0, 0.0, 0.0, 0.0, 0.0, 0.0, 0.0, 0.0, 0.0, 0.0, 0.0, 0.0, 0.0, 0.0, 0.0, 0.0, 0.0, 0.0, 0.0, 0.0, 0.0, 0.0, 0.0, 0.0, 0.0, 0.0, 0.0, 0.0, 0.0, 0.0, 0.0, 0.0, 0.0, 0.0, 0.0, 0.0, 0.0, 0.0, 0.0, 0.0, 0.0, 0.0, 0.0, 0.0, 0.0, 0.0, 0.0, 0.0, 0.0, 0.0, 0.0, 0.0, 0.0, 0.0, 0.0, 0.0, 0.0, 0.0, 0.0, 0.0, 0.0, 0.0, 0.0, 0.0, 0.0, 0.0, 0.0, 0.0, 0.0, 0.0, 0.0, 0.0, 0.0, 0.0, 0.0, 0.0, -0.04067562517193503, 0.0, 0.0, 0.0, 0.0, 0.0, 0.0, 0.0, 0.0, 0.0, 0.0, 0.0, 0.0, 0.0, 0.0, 0.0, 0.0, 0.0, 0.0, 0.0, 0.0, 0.0, 0.0, 0.0, 0.0, 0.0, 0.0, 0.0, 0.0, 0.0, 0.0, 0.0, 0.0, 0.0, 0.0, 0.0, 0.0, 0.0, 0.0, 0.0, 0.0, 0.0, 0.0, 0.0, 0.0, 0.0, 0.0, 0.0, 0.0, 0.0, 0.0, 0.0, 0.0, 0.0, 0.0, 0.0, 0.0, 0.0, 0.0, 0.0, 0.0, 0.0, 0.0, 0.0, 0.0, 0.0)\n"
     ]
    },
    {
     "data": {
      "text/plain": [
       "norm_dist: breeze.stats.distributions.Gaussian = Gaussian(0.0, 1.0)\r\n",
       "X: breeze.linalg.DenseMatrix[Double] =\r\n",
       "-0.775262611268067    -1.8533508772797553    ... (200 total)\r\n",
       "-0.2601238543827679   0.6165901840218585     ...\r\n",
       "0.20540843201261344   -0.6017389219399428    ...\r\n",
       "-0.4170901733486124   -0.3423515982732988    ...\r\n",
       "1.3277742053753199    1.8429706384003033     ...\r\n",
       "6.498308169477537E-4  0.09898647972406638    ...\r\n",
       "1.5865172851749385    0.6755009216949134     ...\r\n",
       "1.4301981933404002    -0.6291794353299969    ...\r\n",
       "-0.5691455983682173   1.2366438821703916     ...\r\n",
       "0.44896585353781526   -0.6043190051313081    ...\r\n",
       "-0.1641703061193133   -0.15395386207412234   ...\r\n",
       "1.971139403745559     0.6428473700294344     ...\r\n",
       "-0.9950936291675966   0.27725126972076913    ...\r\n",
       "0.27049486474482914   -1.6...\r\n"
      ]
     },
     "execution_count": 59,
     "metadata": {},
     "output_type": "execute_result"
    }
   ],
   "source": [
    "var norm_dist=new Gaussian(0,1)\n",
    "val X = new DenseMatrix(rows = N.value, cols = p.value, norm_dist.sample(N.value*p.value).toArray)\n",
    "val epsilon=(new DenseMatrix(rows=N.value,cols=1,norm_dist.sample(N.value).toArray)).toDenseVector\n",
    "val y=X * Beta.value +epsilon\n",
    "//先生成数据，再打标签\n",
    "val inibetahat=inv(X.t*X)*X.t*y\n",
    "var betahat=DenseVector.zeros[Double](p.value)\n",
    "betahat:=inibetahat\n",
    "val lam=sc.broadcast(0.85e-12)\n",
    "var ii=0\n",
    "var Diff=1.0\n",
    "val eps=sc.broadcast(1e-5)\n",
    "var Oldbeta=DenseVector.zeros[Double](p.value)\n",
    "var x_array=(0 to p.value-1).map(s => (s,X(::,s),betahat(s))).toArray\n",
    "//这个x的组建是关键，要的一定是X的列向量。这一定要在拿到题的时候通过维数等的分析确定到底是列向量组还是行向量组。维数分析很重要\n",
    "var x=sc.parallelize(x_array)  //下面在不断地reassignment\n",
    "var xs=DenseVector.zeros[Double](N.value)\n",
    "\n",
    "\n",
    "while(ii<maxIter.value && Diff>eps.value){\n",
    "    Oldbeta:=betahat //这样才能达到拷贝的效果\n",
    "    xs:=x.map(s => {\n",
    "        s._2*s._3\n",
    "    }).reduce((x,y)=>x+y) //X*beta[m-1]\n",
    "    val tmp=x.map(s => {\n",
    "        if(Oldbeta(s._1)!=0.0){  //see whether the position is already been judged as 0. \n",
    "            if(math.abs(s._2.t*(y-xs))<lam.value){\n",
    "                0.0\n",
    "            }\n",
    "            else {\n",
    "                s._2.t*(y-(xs-s._2*Oldbeta(s._1)))/(lam.value/math.abs(Oldbeta(s._1))+s._2.t*s._2)\n",
    "            }\n",
    "        }else 0.0\n",
    "    }).collect()\n",
    "    betahat:=DenseVector(tmp)\n",
    "    x_array=(0 to p.value-1).map(s => (s,X(::,s),betahat(s))).toArray\n",
    "    x=sc.parallelize(x_array)\n",
    "    Diff=sum((Oldbeta-betahat).map(math.abs(_)))\n",
    "    ii+=1\n",
    "}\n",
    "println(betahat)"
   ]
  },
  {
   "cell_type": "code",
   "execution_count": 65,
   "id": "965e434e",
   "metadata": {},
   "outputs": [
    {
     "data": {
      "text/plain": [
       "a: breeze.linalg.DenseVector[Double] = DenseVector(66.0, 2.0, 3.0)\r\n",
       "b: breeze.linalg.DenseVector[Double] = DenseVector(1.0, 2.0, 3.0)\r\n",
       "b: breeze.linalg.DenseVector[Double] = DenseVector(1.0, 2.0, 3.0)\r\n",
       "res40: breeze.linalg.DenseVector[Double] = DenseVector(1.0, 2.0, 3.0)\r\n"
      ]
     },
     "execution_count": 65,
     "metadata": {},
     "output_type": "execute_result"
    }
   ],
   "source": [
    "var a=DenseVector(1.0,2.0,3.0)\n",
    "var b=DenseVector(4.0,5.0,6.0)\n",
    "b=copy(a)\n",
    "a(0)=66.0\n",
    "b"
   ]
  },
  {
   "cell_type": "code",
   "execution_count": null,
   "id": "c7f0ccbf",
   "metadata": {},
   "outputs": [],
   "source": []
  }
 ],
 "metadata": {
  "kernelspec": {
   "display_name": "spylon-kernel",
   "language": "scala",
   "name": "spylon-kernel"
  },
  "language_info": {
   "codemirror_mode": "text/x-scala",
   "file_extension": ".scala",
   "help_links": [
    {
     "text": "MetaKernel Magics",
     "url": "https://metakernel.readthedocs.io/en/latest/source/README.html"
    }
   ],
   "mimetype": "text/x-scala",
   "name": "scala",
   "pygments_lexer": "scala",
   "version": "0.4.1"
  }
 },
 "nbformat": 4,
 "nbformat_minor": 5
}
