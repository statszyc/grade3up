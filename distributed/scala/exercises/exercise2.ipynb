{
 "cells": [
  {
   "cell_type": "markdown",
   "id": "9d7032ab-0fe2-4f84-840b-9b146c203845",
   "metadata": {},
   "source": [
    "1. 假设向量a = (1.0, 3.0, 5.0, 7.0, 9.0, 7.0, 5.0, 3.0, 1.0). 试使用 Scala 中的矩阵运算新建\n",
    "一个矩阵 A 使得A(i,j)=a(i)+a(j). 注意请勿使用循环语句完成本题。\n"
   ]
  },
  {
   "cell_type": "code",
   "execution_count": 1,
   "id": "946aa87d-c9fc-485b-be73-a3ec5e814fc1",
   "metadata": {},
   "outputs": [
    {
     "data": {
      "text/plain": [
       "Intitializing Scala interpreter ..."
      ]
     },
     "metadata": {},
     "output_type": "display_data"
    },
    {
     "data": {
      "text/plain": [
       "Spark Web UI available at http://LAPTOP-9RG91OPS:4040\n",
       "SparkContext available as 'sc' (version = 3.3.0, master = local[*], app id = local-1666351838746)\n",
       "SparkSession available as 'spark'\n"
      ]
     },
     "metadata": {},
     "output_type": "display_data"
    },
    {
     "data": {
      "text/plain": [
       "import breeze.linalg._\r\n"
      ]
     },
     "execution_count": 1,
     "metadata": {},
     "output_type": "execute_result"
    }
   ],
   "source": [
    "import breeze.linalg._"
   ]
  },
  {
   "cell_type": "code",
   "execution_count": 2,
   "id": "a7ec0f07-02da-42ae-aa2a-bc78be92b31e",
   "metadata": {},
   "outputs": [
    {
     "name": "stdout",
     "output_type": "stream",
     "text": [
      "22/10/21 19:30:51 WARN ProcfsMetricsGetter: Exception when trying to compute pagesize, as a result reporting of ProcessTree metrics is stopped\n",
      "22/10/21 19:30:52 WARN BLAS: Failed to load implementation from: com.github.fommil.netlib.NativeSystemBLAS\n",
      "22/10/21 19:30:52 WARN BLAS: Failed to load implementation from: com.github.fommil.netlib.NativeRefBLAS\n",
      "2.0   4.0   6.0   8.0   10.0  8.0   6.0   4.0   2.0   \n",
      "4.0   6.0   8.0   10.0  12.0  10.0  8.0   6.0   4.0   \n",
      "6.0   8.0   10.0  12.0  14.0  12.0  10.0  8.0   6.0   \n",
      "8.0   10.0  12.0  14.0  16.0  14.0  12.0  10.0  8.0   \n",
      "10.0  12.0  14.0  16.0  18.0  16.0  14.0  12.0  10.0  \n",
      "8.0   10.0  12.0  14.0  16.0  14.0  12.0  10.0  8.0   \n",
      "6.0   8.0   10.0  12.0  14.0  12.0  10.0  8.0   6.0   \n",
      "4.0   6.0   8.0   10.0  12.0  10.0  8.0   6.0   4.0   \n",
      "2.0   4.0   6.0   8.0   10.0  8.0   6.0   4.0   2.0   \n"
     ]
    },
    {
     "data": {
      "text/plain": [
       "a: breeze.linalg.DenseVector[Double] = DenseVector(1.0, 3.0, 5.0, 7.0, 9.0, 7.0, 5.0, 3.0, 1.0)\r\n",
       "mA: breeze.linalg.DenseMatrix[Double] =\r\n",
       "1.0  3.0  5.0  7.0  9.0  7.0  5.0  3.0  1.0\r\n",
       "1.0  3.0  5.0  7.0  9.0  7.0  5.0  3.0  1.0\r\n",
       "1.0  3.0  5.0  7.0  9.0  7.0  5.0  3.0  1.0\r\n",
       "1.0  3.0  5.0  7.0  9.0  7.0  5.0  3.0  1.0\r\n",
       "1.0  3.0  5.0  7.0  9.0  7.0  5.0  3.0  1.0\r\n",
       "1.0  3.0  5.0  7.0  9.0  7.0  5.0  3.0  1.0\r\n",
       "1.0  3.0  5.0  7.0  9.0  7.0  5.0  3.0  1.0\r\n",
       "1.0  3.0  5.0  7.0  9.0  7.0  5.0  3.0  1.0\r\n",
       "1.0  3.0  5.0  7.0  9.0  7.0  5.0  3.0  1.0\r\n",
       "A: breeze.linalg.DenseMatrix[Double] =\r\n",
       "2.0   4.0   6.0   8.0   10.0  8.0   6.0   4.0   2.0\r\n",
       "4.0   6.0   8.0   10.0  12.0  10.0  8.0   6.0   4.0\r\n",
       "6.0   8.0   10.0  12.0  14.0  12.0  10.0  8.0   6.0\r\n",
       "8.0   10.0  12.0  14.0  16.0  14.0  12.0  10.0  8.0\r\n",
       "10...\r\n"
      ]
     },
     "execution_count": 2,
     "metadata": {},
     "output_type": "execute_result"
    }
   ],
   "source": [
    "val a=DenseVector(1.0, 3.0, 5.0, 7.0, 9.0, 7.0, 5.0, 3.0, 1.0)\n",
    "val mA=DenseVector.fill(9,1.0)*a.t\n",
    "val A=mA.t+mA\n",
    "println(A)"
   ]
  },
  {
   "cell_type": "markdown",
   "id": "edf79289-4417-4a89-9677-4af62049d3f9",
   "metadata": {},
   "source": [
    "2. 假设向量a = (1.0, 3.0, 5.0, 7.0, 9.0, 7.0, 5.0, 3.0, 1.0). 试使用 Scala 中的矩阵运算新建\n",
    "一个矩阵 B 使得B(i,j)=a(i)*a(j). 注意请勿使用循环语句完成本题。"
   ]
  },
  {
   "cell_type": "code",
   "execution_count": 3,
   "id": "e61f53e5-7e3c-45a4-8470-78dffcb8a28a",
   "metadata": {},
   "outputs": [
    {
     "name": "stdout",
     "output_type": "stream",
     "text": [
      "1.0  3.0   5.0   7.0   9.0   7.0   5.0   3.0   1.0  \n",
      "3.0  9.0   15.0  21.0  27.0  21.0  15.0  9.0   3.0  \n",
      "5.0  15.0  25.0  35.0  45.0  35.0  25.0  15.0  5.0  \n",
      "7.0  21.0  35.0  49.0  63.0  49.0  35.0  21.0  7.0  \n",
      "9.0  27.0  45.0  63.0  81.0  63.0  45.0  27.0  9.0  \n",
      "7.0  21.0  35.0  49.0  63.0  49.0  35.0  21.0  7.0  \n",
      "5.0  15.0  25.0  35.0  45.0  35.0  25.0  15.0  5.0  \n",
      "3.0  9.0   15.0  21.0  27.0  21.0  15.0  9.0   3.0  \n",
      "1.0  3.0   5.0   7.0   9.0   7.0   5.0   3.0   1.0  \n"
     ]
    },
    {
     "data": {
      "text/plain": [
       "a: breeze.linalg.DenseVector[Double] = DenseVector(1.0, 3.0, 5.0, 7.0, 9.0, 7.0, 5.0, 3.0, 1.0)\r\n",
       "mB: breeze.linalg.DenseMatrix[Double] =\r\n",
       "1.0  3.0  5.0  7.0  9.0  7.0  5.0  3.0  1.0\r\n",
       "1.0  3.0  5.0  7.0  9.0  7.0  5.0  3.0  1.0\r\n",
       "1.0  3.0  5.0  7.0  9.0  7.0  5.0  3.0  1.0\r\n",
       "1.0  3.0  5.0  7.0  9.0  7.0  5.0  3.0  1.0\r\n",
       "1.0  3.0  5.0  7.0  9.0  7.0  5.0  3.0  1.0\r\n",
       "1.0  3.0  5.0  7.0  9.0  7.0  5.0  3.0  1.0\r\n",
       "1.0  3.0  5.0  7.0  9.0  7.0  5.0  3.0  1.0\r\n",
       "1.0  3.0  5.0  7.0  9.0  7.0  5.0  3.0  1.0\r\n",
       "1.0  3.0  5.0  7.0  9.0  7.0  5.0  3.0  1.0\r\n",
       "B: breeze.linalg.DenseMatrix[Double] =\r\n",
       "1.0  3.0   5.0   7.0   9.0   7.0   5.0   3.0   1.0\r\n",
       "3.0  9.0   15.0  21.0  27.0  21.0  15.0  9.0   3.0\r\n",
       "5.0  15.0  25.0  35.0  45.0  35.0  25.0  15.0  5.0\r\n",
       "7.0  21.0  35.0  49.0  63.0  49.0  35.0  21.0  7.0\r\n",
       "9.0  2...\r\n"
      ]
     },
     "execution_count": 3,
     "metadata": {},
     "output_type": "execute_result"
    }
   ],
   "source": [
    "val a=DenseVector(1.0, 3.0, 5.0, 7.0, 9.0, 7.0, 5.0, 3.0, 1.0)\n",
    "val mB=DenseVector.fill(9,1.0)*a.t\n",
    "val B=mB.t*:*mB\n",
    "println(B)"
   ]
  },
  {
   "cell_type": "markdown",
   "id": "947a1f4e-5617-4b9d-909e-0f4354535ecc",
   "metadata": {},
   "source": [
    "3. 假设矩阵 C 有如下的形式：\n",
    "\n",
    "C =\n",
    "[−1.0 −2.0 −3.0\n",
    "\n",
    "4.0 5.0 6.0\n",
    "\n",
    "7.0 8.0 9.0\n",
    "\n",
    "6.0 5.0 4.0\n",
    "\n",
    "−3.0 −2.0 −1.0]\n",
    " \n",
    " \n",
    " \n",
    " \n",
    "试使用 Scala 中的矩阵运算语言计算矩阵 C 每列的均值，然后将每一行的数据减去各自\n",
    "\n",
    "对应列的均值，输出得到的新矩阵。\n"
   ]
  },
  {
   "cell_type": "code",
   "execution_count": 4,
   "id": "35bde865-96bd-4a17-89ac-575e607fc7f1",
   "metadata": {},
   "outputs": [
    {
     "name": "stdout",
     "output_type": "stream",
     "text": [
      "-3.6  -4.8  -6.0  \n",
      "1.4   2.2   3.0   \n",
      "4.4   5.2   6.0   \n",
      "3.4   2.2   1.0   \n",
      "-5.6  -4.8  -4.0  \n"
     ]
    },
    {
     "data": {
      "text/plain": [
       "c: breeze.linalg.DenseMatrix[Double] =\r\n",
       "-1.0  -2.0  -3.0\r\n",
       "4.0   5.0   6.0\r\n",
       "7.0   8.0   9.0\r\n",
       "6.0   5.0   4.0\r\n",
       "-3.0  -2.0  -1.0\r\n",
       "meancol: breeze.linalg.Transpose[breeze.linalg.DenseVector[Double]] = Transpose(DenseVector(2.6, 2.8, 3.0))\r\n",
       "newmat: breeze.linalg.DenseMatrix[Double] =\r\n",
       "-3.6  -4.8  -6.0\r\n",
       "1.4   2.2   3.0\r\n",
       "4.4   5.2   6.0\r\n",
       "3.4   2.2   1.0\r\n",
       "-5.6  -4.8  -4.0\r\n"
      ]
     },
     "execution_count": 4,
     "metadata": {},
     "output_type": "execute_result"
    }
   ],
   "source": [
    "val c=DenseMatrix((-1.0,-2.0,-3.0),(4.0,5.0,6.0),(7.0,8.0,9.0),(6.0,5.0,4.0),(-3.0,-2.0,-1.0))\n",
    "val meancol=sum(c(::,*))/c.rows.toDouble\n",
    "val newmat=c(*,::)-meancol.t\n",
    "println(newmat)"
   ]
  },
  {
   "cell_type": "markdown",
   "id": "b6912f51-e1b3-4246-991d-c58dd49a8d6d",
   "metadata": {},
   "source": [
    "4. 试编写 Scala 函数计算某方阵 X 的平方根矩阵 S, 使得 S\\*S=X。注意，这里的”\\*”指矩阵相\n",
    "乘运算，不是按元素相乘。"
   ]
  },
  {
   "cell_type": "code",
   "execution_count": 5,
   "id": "a4514c41-b09a-468c-9a92-c07f5b899fee",
   "metadata": {},
   "outputs": [
    {
     "data": {
      "text/plain": [
       "import breeze.numerics._\r\n",
       "sqrtmat: (s: breeze.linalg.DenseMatrix[Double])breeze.linalg.DenseMatrix[Double]\r\n"
      ]
     },
     "execution_count": 5,
     "metadata": {},
     "output_type": "execute_result"
    }
   ],
   "source": [
    "import breeze.numerics._\n",
    "def sqrtmat(s:DenseMatrix[Double]):DenseMatrix[Double]={\n",
    "    val lam=diag(sqrt(eig(s).eigenvalues))\n",
    "    val phi=eig(s).eigenvectors\n",
    "    return phi*lam*phi.t\n",
    "}"
   ]
  },
  {
   "cell_type": "code",
   "execution_count": 6,
   "id": "109df3c3-a8a2-4d39-9d47-f87978d08249",
   "metadata": {},
   "outputs": [
    {
     "name": "stdout",
     "output_type": "stream",
     "text": [
      "22/10/21 19:30:55 WARN LAPACK: Failed to load implementation from: com.github.fommil.netlib.NativeSystemLAPACK\n",
      "22/10/21 19:30:55 WARN LAPACK: Failed to load implementation from: com.github.fommil.netlib.NativeRefLAPACK\n"
     ]
    },
    {
     "data": {
      "text/plain": [
       "res3: breeze.linalg.DenseMatrix[Double] =\r\n",
       "2.0  0.0  0.0\r\n",
       "0.0  3.0  0.0\r\n",
       "0.0  0.0  4.0\r\n"
      ]
     },
     "execution_count": 6,
     "metadata": {},
     "output_type": "execute_result"
    }
   ],
   "source": [
    "sqrtmat(DenseMatrix((4.0,0.0,0.0),(0.0,9.0,0.0),(0.0,0.0,16.0)))"
   ]
  },
  {
   "cell_type": "code",
   "execution_count": 7,
   "id": "978a2308-e9e0-4681-9203-be9b16a401d0",
   "metadata": {},
   "outputs": [
    {
     "name": "stdout",
     "output_type": "stream",
     "text": [
      "120.0000000000002   0.999999999999929   2.999999999999894  \n",
      "0.9999999999999218  119.99999999999969  4.000000000000019  \n",
      "2.9999999999998934  4.000000000000017   160.0              \n",
      "1.0119531183135452E-10\n"
     ]
    },
    {
     "data": {
      "text/plain": [
       "s: breeze.linalg.DenseMatrix[Double] =\r\n",
       "120.0  1.0    3.0\r\n",
       "1.0    120.0  4.0\r\n",
       "3.0    4.0    160.0\r\n"
      ]
     },
     "execution_count": 7,
     "metadata": {},
     "output_type": "execute_result"
    }
   ],
   "source": [
    "val s=DenseMatrix((120.0,1.0,3.0),(1.0,120.0,4.0),(3.0,4.0,160.0))//规定了s是一个实对称矩阵\n",
    "println(sqrtmat(s*s))\n",
    "println(norm((s*s-sqrtmat(s*s)*sqrtmat(s*s)).toDenseVector))//这个值会趋于0"
   ]
  },
  {
   "cell_type": "markdown",
   "id": "fe56fd8a-b95f-4a3a-8e30-e009ad503d4c",
   "metadata": {},
   "source": [
    "5. 定义如下的一个三元正态分布：\n",
    "\n",
    " 试使用 Scala 语言从上述正态分布中抽出 100 个样本；并计算向量(1.0, 2.0, 3.0)的概率\n",
    "密度函数值"
   ]
  },
  {
   "cell_type": "code",
   "execution_count": 8,
   "id": "adfef9cd-78f1-411e-ade9-803e58a02c2c",
   "metadata": {},
   "outputs": [
    {
     "name": "stdout",
     "output_type": "stream",
     "text": [
      "0.011999169322662555\n",
      "Vector(DenseVector(2.49906640160685, 5.891921933637226, 5.506730326653669), DenseVector(1.4004830431811124, 2.9979055900377136, 3.4448180534826367), DenseVector(-4.018517527777071, 0.04174947456203748, -0.9625101677688601), DenseVector(2.0780677497000575, 5.953456067371076, 6.347754410260187), DenseVector(-0.9130008571739598, 1.1448581694808098, 1.9362593352496598), DenseVector(2.1920512584404404, 6.084630295783614, 5.594604928563421), DenseVector(-1.9935697237264822, 0.7467051666728259, 0.13955860409980758), DenseVector(0.3392604001690376, 2.3377727204195446, 4.117059967284689), DenseVector(-2.521474490956247, 1.3241935482205456, 2.547530403296726), DenseVector(1.6919167136964597, 3.5527310194095056, 4.59265848621312), DenseVector(3.6374484001670395, 3.0841514524192677, 7.911067541857613), DenseVector(4.498269221735856, 5.697548388951732, 6.689287410578593), DenseVector(-0.26285989191291437, 2.0679609649408657, 0.9528763477897573), DenseVector(3.7307718056403387, 3.0526182626283296, 4.5466108944672365), DenseVector(-0.8433493866362132, 0.4340054213121387, -0.576470629122567), DenseVector(1.7432622921215994, 0.13249553954652038, 0.8755793187398462), DenseVector(2.7925169927497606, 3.0189026281745788, 3.7522328270128456), DenseVector(1.5611446287164568, 2.800070598553618, 5.056942194157566), DenseVector(3.9929065204811423, 2.6869896543073803, 3.631423671123973), DenseVector(1.65963269649313, -0.5286375198450255, 0.7085210617923057), DenseVector(2.1020103977723905, 3.914958384602205, 4.637249953221482), DenseVector(5.030697265125623, 1.5521644387684566, 3.4742508345654253), DenseVector(5.063827709540567, 4.354125436820514, 5.196515607194465), DenseVector(-1.8409382959887735, -1.7106755114224925, 1.3187484967957572), DenseVector(-0.6420999155424947, 1.370493583099692, 3.6498553807489853), DenseVector(-0.6604170101331119, -1.6415909783929288, -1.2397983046123757), DenseVector(1.1827070339872603, -1.0008133383310107, 1.7750219151312532), DenseVector(3.159901533905723, 4.365221937099019, 5.487535271447436), DenseVector(2.1097816885225233, 0.6013962533405717, 2.113037499685059), DenseVector(-0.21683157601871672, 2.5204622301232, 3.954493367755424), DenseVector(-3.4347815392233825, 2.0268241305537478, 4.366954801554904), DenseVector(1.9780032046505713, 2.350354900590348, 4.448387691631101), DenseVector(-5.090456397374801, -2.8464180646915764, -1.5661449169320782), DenseVector(0.30153640757559785, 1.3008868715730846, 1.6194679905417622), DenseVector(4.241678813156548, 6.154197590541138, 4.900471636451607), DenseVector(2.7718009115719857, 1.9700295003331383, 3.1897501266805874), DenseVector(2.7853228996809873, 5.69180625261243, 7.520539136071472), DenseVector(-0.17493209144479893, 2.470529772484827, 5.281482619853791), DenseVector(4.824541159180241, -0.4454140435298992, 4.3158615742145585), DenseVector(-2.1482310165166916, 1.103865743921979, 0.8778412016278692), DenseVector(-0.13211019408610225, 0.9439964860062546, 1.6698543389753593), DenseVector(-1.9401293968302125, 2.1416909599623253, 2.5328701839337167), DenseVector(-0.34454470439202356, 1.7617315198305268, 3.6910999908796818), DenseVector(2.610270661704024, 2.86411771461888, 3.0802490589976586), DenseVector(2.2792881148865307, 4.997885530679582, 5.103264261848873), DenseVector(-0.26967074172840366, 0.8615704731634466, 2.203241986580971), DenseVector(3.7154464387026804, 2.928269801255771, 4.5994622792150714), DenseVector(-1.4870232804598267, 0.5507011340844992, 4.739949637673659), DenseVector(-1.092559376837262, -0.3434635733162059, -0.4718355130691507), DenseVector(1.145557608386952, 0.24745332356691452, 2.573863052641335), DenseVector(4.800200475115025, 2.7764288800720727, 3.193509703995082), DenseVector(-2.0508344901332536, 2.455275809927538, 1.050421160484875), DenseVector(1.5056122712447355, 6.197147529360908, 7.541461538033977), DenseVector(2.5790387674383677, 3.2690551233793776, 4.696202300082759), DenseVector(4.385546236959139, 6.309261754144293, 5.156348613384587), DenseVector(3.186961696141531, 5.566821840485762, 7.945709583379102), DenseVector(0.19108673888191474, 2.957375330208262, 3.4006785159228157), DenseVector(1.0251300932195289, 1.2514564035014701, 2.491229359670694), DenseVector(1.094001611097657, 4.180531696480568, 3.9589458323786575), DenseVector(4.111015863969435, 5.5364729237636645, 6.075521987841666), DenseVector(3.1494946971359967, 4.885109142323346, 4.684780705648234), DenseVector(0.10949898182936246, 0.6449750278974011, 1.809418468143902), DenseVector(4.694601314645956, -0.28541264155566815, 1.6240248503216022), DenseVector(3.1121335755462503, 5.326372732079445, 5.33134321951359), DenseVector(1.9320880838012466, 1.3712824800174341, 3.0355235692410476), DenseVector(-0.6286613431261849, 1.3973981117756025, 2.5693302981494175), DenseVector(1.5197441117125496, 2.6015160691922343, 3.370272806592149), DenseVector(3.185751853761261, 1.914171542574457, 1.70002972295049), DenseVector(-2.511578090719675, -0.6222432515925211, -0.13973364690073398), DenseVector(0.05399523846171472, 1.7576011187183842, 4.8351270805257), DenseVector(-3.3307498451823916, 1.1135470962527028, 2.443424286003527), DenseVector(0.5679759324790083, 0.36547417437888496, 2.4641405214261427), DenseVector(2.0867866638233004, -0.36723208255737294, 1.9682097788295596), DenseVector(-2.960589935884582, -1.5244624143867105, -1.6925220937714416), DenseVector(0.41320775008212696, -2.5610694563409595, -0.6835921028153895), DenseVector(1.4742228162326794, -0.2822403080308429, 1.2714290250460951), DenseVector(-3.9098281426991734, -4.494313477847368, -2.818650927983181), DenseVector(2.887476194941983, 5.227672553668837, 3.870677466143251), DenseVector(-1.3251189550537759, -0.4197205803684203, 2.4276557999263426), DenseVector(3.231460657472928, 3.3835632841852714, 5.180000805860585), DenseVector(0.724638734321692, 0.35256416842548455, 1.6472449061290986), DenseVector(0.1518774978140519, 2.9620671999798747, 2.3012780056916378), DenseVector(0.8002799924755495, 3.26621745282631, 4.860431365248351), DenseVector(5.537384642253449, 2.2839124404878723, 4.888953941919278), DenseVector(2.097529624440288, 3.733644681457696, 5.658891523894975), DenseVector(1.8278823639647828, 3.802135498121814, 4.512709897469362), DenseVector(2.5051067494041, 0.6995808727284003, 2.008874656715315), DenseVector(1.9897239364498671, 2.7096111665502765, 5.112306599048701), DenseVector(0.49849972787776187, 1.0116652502651677, 4.000607753963814), DenseVector(0.9434207341193963, -0.38649766046430134, 1.1227057309826574), DenseVector(-0.3719303436723502, 2.822312321892279, 3.970603273762162), DenseVector(-2.172005535654625, 2.769617157666182, 1.336670695055194), DenseVector(2.7313900530867885, 2.2097945169009767, 3.6674525530106923), DenseVector(0.8083919429189432, 5.253924028033259, 4.905536264509924), DenseVector(-0.7144486881694843, 2.165027078224361, 1.8538035511777626), DenseVector(-1.4257672590931825, -2.0676770104517423, -2.4763138814972754), DenseVector(-1.180813072476007, 2.5652305611517785, 2.2634760168589025), DenseVector(-1.7271322100449273, 1.9131811671854206, 2.713595282154635), DenseVector(2.7601682599673474, 2.1574090510266797, 5.065818290039082), DenseVector(-2.074555106620893, 4.929521646233059E-4, 0.18347171225898506))\n"
     ]
    },
    {
     "data": {
      "text/plain": [
       "import breeze.stats.distributions._\r\n",
       "mygaus: breeze.stats.distributions.MultivariateGaussian =\r\n",
       "MultivariateGaussian(DenseVector(1.0, 2.0, 3.0),5.0  2.0  3.0\r\n",
       "2.0  5.0  4.0\r\n",
       "3.0  4.0  5.0  )\r\n",
       "mysample: IndexedSeq[breeze.linalg.DenseVector[Double]] = Vector(DenseVector(2.49906640160685, 5.891921933637226, 5.506730326653669), DenseVector(1.4004830431811124, 2.9979055900377136, 3.4448180534826367), DenseVector(-4.018517527777071, 0.04174947456203748, -0.9625101677688601), DenseVector(2.0780677497000575, 5.953456067371076, 6.347754410260187), DenseVector(-0.9130008571739598, 1.1448581694808098, 1.9362593352496598), DenseVector(2.1920512584404404, 6.084630295783614, 5.594604928563421), DenseVector(-1.9935697237264822, 0.7467051666728259, 0.13955860409980758), DenseVector(0.3392604001690376, ...\r\n"
      ]
     },
     "execution_count": 8,
     "metadata": {},
     "output_type": "execute_result"
    }
   ],
   "source": [
    "import breeze.stats.distributions._\n",
    "val mygaus=new MultivariateGaussian(DenseVector(1.0,2.0,3.0),DenseMatrix((5.0,2.0,3.0),(2.0,5.0,4.0),(3.0,4.0,5.0)))\n",
    "val mysample=mygaus.sample(100)\n",
    "val poss=mygaus.pdf(DenseVector(1.0,2.0,3.0))\n",
    "println(poss)\n",
    "println(mysample)"
   ]
  },
  {
   "cell_type": "code",
   "execution_count": null,
   "id": "88cb8836-0a50-44e2-87d5-a10a53a87d82",
   "metadata": {},
   "outputs": [],
   "source": []
  }
 ],
 "metadata": {
  "kernelspec": {
   "display_name": "spylon-kernel",
   "language": "scala",
   "name": "spylon-kernel"
  },
  "language_info": {
   "codemirror_mode": "text/x-scala",
   "file_extension": ".scala",
   "help_links": [
    {
     "text": "MetaKernel Magics",
     "url": "https://metakernel.readthedocs.io/en/latest/source/README.html"
    }
   ],
   "mimetype": "text/x-scala",
   "name": "scala",
   "pygments_lexer": "scala",
   "version": "0.4.1"
  }
 },
 "nbformat": 4,
 "nbformat_minor": 5
}
