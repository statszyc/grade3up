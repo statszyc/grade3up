{
 "cells": [
  {
   "cell_type": "markdown",
   "id": "d01a48e9-79c8-4132-a9de-48144f468323",
   "metadata": {},
   "source": [
    "串型程序"
   ]
  },
  {
   "cell_type": "code",
   "execution_count": 1,
   "id": "474096e2-17a4-4c24-baee-c5a51d6d5526",
   "metadata": {},
   "outputs": [
    {
     "data": {
      "text/plain": [
       "Intitializing Scala interpreter ..."
      ]
     },
     "metadata": {},
     "output_type": "display_data"
    },
    {
     "data": {
      "text/plain": [
       "Spark Web UI available at http://LAPTOP-9RG91OPS:4040\n",
       "SparkContext available as 'sc' (version = 3.3.0, master = local[*], app id = local-1669392976963)\n",
       "SparkSession available as 'spark'\n"
      ]
     },
     "metadata": {},
     "output_type": "display_data"
    },
    {
     "data": {
      "text/plain": [
       "import java.util.concurrent.ThreadLocalRandom\r\n",
       "import breeze.linalg._\r\n",
       "import scala.math._\r\n"
      ]
     },
     "execution_count": 1,
     "metadata": {},
     "output_type": "execute_result"
    },
    {
     "name": "stdout",
     "output_type": "stream",
     "text": [
      "22/11/26 00:16:27 WARN ProcfsMetricsGetter: Exception when trying to compute pagesize, as a result reporting of ProcessTree metrics is stopped\n"
     ]
    }
   ],
   "source": [
    "import java.util.concurrent.ThreadLocalRandom\n",
    "import breeze.linalg._\n",
    "import scala.math._"
   ]
  },
  {
   "cell_type": "code",
   "execution_count": 2,
   "id": "7002604e-ab1c-4eb4-a24d-344959914e33",
   "metadata": {},
   "outputs": [
    {
     "data": {
      "text/plain": [
       "r: java.util.concurrent.ThreadLocalRandom = java.util.concurrent.ThreadLocalRandom@7ca34810\r\n",
       "p: Int = 200\r\n",
       "N: Int = 1000\r\n"
      ]
     },
     "execution_count": 2,
     "metadata": {},
     "output_type": "execute_result"
    }
   ],
   "source": [
    "val r=ThreadLocalRandom.current\n",
    "val p=200\n",
    "val N=1000"
   ]
  },
  {
   "cell_type": "code",
   "execution_count": 3,
   "id": "691d5fcf-ea50-4da2-9098-84a15f963836",
   "metadata": {},
   "outputs": [
    {
     "data": {
      "text/plain": [
       "beta: Array[Double] = Array(2.0, 2.0, 2.0, 0.0, 0.0, 0.0, 0.0, 0.0, 0.0, 0.0, 0.0, 0.0, 0.0, 0.0, 0.0, 0.0, 0.0, 0.0, 0.0, 0.0, 0.0, 0.0, 0.0, 0.0, 0.0, 0.0, 0.0, 0.0, 0.0, 0.0, 0.0, 0.0, 0.0, 0.0, 0.0, 0.0, 0.0, 0.0, 0.0, 0.0, 0.0, 0.0, 0.0, 0.0, 0.0, 0.0, 0.0, 0.0, 0.0, 0.0, 0.0, 0.0, 0.0, 0.0, 0.0, 0.0, 0.0, 0.0, 0.0, 0.0, 0.0, 0.0, 0.0, 0.0, 0.0, 0.0, 0.0, 0.0, 0.0, 0.0, 0.0, 0.0, 0.0, 0.0, 0.0, 0.0, 0.0, 0.0, 0.0, 0.0, 0.0, 0.0, 0.0, 0.0, 0.0, 0.0, 0.0, 0.0, 0.0, 0.0, 0.0, 0.0, 0.0, 0.0, 0.0, 0.0, 0.0, 0.0, 0.0, 0.0, 0.0, 0.0, 0.0, 0.0, 0.0, 0.0, 0.0, 0.0, 0.0, 0.0, 0.0, 0.0, 0.0, 0.0, 0.0, 0.0, 0.0, 0.0, 0.0, 0.0, 0.0, 0.0, 0.0, 0.0, 0.0, 0.0, 0.0, 0.0, 0.0, 0.0, 0.0, 0.0, 0.0, 0.0, 0.0, 0.0, 0.0, 0.0, 0.0, 0.0, 0.0, 0.0, 0.0, 0.0, 0.0, 0.0, 0.0, 0.0, 0.0, 0.0, 0.0, 0.0, 0.0, 0.0,...\r\n"
      ]
     },
     "execution_count": 3,
     "metadata": {},
     "output_type": "execute_result"
    }
   ],
   "source": [
    "val beta=(1 to p).map(_.toDouble).toArray[Double].map(i => {\n",
    "    if (i <= 3) 2.0 else 0.0\n",
    "})"
   ]
  },
  {
   "cell_type": "code",
   "execution_count": 4,
   "id": "c9b74854-da01-4133-a31a-150f5ae8009d",
   "metadata": {},
   "outputs": [
    {
     "data": {
      "text/plain": [
       "y: breeze.linalg.DenseVector[Double] = DenseVector(0.0, 0.0, 0.0, 0.0, 0.0, 0.0, 0.0, 0.0, 0.0, 0.0, 0.0, 0.0, 0.0, 0.0, 0.0, 0.0, 0.0, 0.0, 0.0, 0.0, 0.0, 0.0, 0.0, 0.0, 0.0, 0.0, 0.0, 0.0, 0.0, 0.0, 0.0, 0.0, 0.0, 0.0, 0.0, 0.0, 0.0, 0.0, 0.0, 0.0, 0.0, 0.0, 0.0, 0.0, 0.0, 0.0, 0.0, 0.0, 0.0, 0.0, 0.0, 0.0, 0.0, 0.0, 0.0, 0.0, 0.0, 0.0, 0.0, 0.0, 0.0, 0.0, 0.0, 0.0, 0.0, 0.0, 0.0, 0.0, 0.0, 0.0, 0.0, 0.0, 0.0, 0.0, 0.0, 0.0, 0.0, 0.0, 0.0, 0.0, 0.0, 0.0, 0.0, 0.0, 0.0, 0.0, 0.0, 0.0, 0.0, 0.0, 0.0, 0.0, 0.0, 0.0, 0.0, 0.0, 0.0, 0.0, 0.0, 0.0, 0.0, 0.0, 0.0, 0.0, 0.0, 0.0, 0.0, 0.0, 0.0, 0.0, 0.0, 0.0, 0.0, 0.0, 0.0, 0.0, 0.0, 0.0, 0.0, 0.0, 0.0, 0.0, 0.0, 0.0, 0.0, 0.0, 0.0, 0.0, 0.0, 0.0, 0.0, 0.0, 0.0, 0.0, 0.0, 0.0, 0.0, 0.0, 0.0, 0.0, 0.0, 0.0, 0.0, 0.0, 0.0, 0.0, 0.0, 0.0, 0.0, 0...\r\n"
      ]
     },
     "execution_count": 4,
     "metadata": {},
     "output_type": "execute_result"
    }
   ],
   "source": [
    "var y=DenseVector.zeros[Double](N)\n",
    "var X=DenseMatrix.zeros[Double](N,p)"
   ]
  },
  {
   "cell_type": "code",
   "execution_count": 5,
   "id": "386457ab-fd35-4818-ada3-211b06e0eb1a",
   "metadata": {},
   "outputs": [
    {
     "data": {
      "text/plain": [
       "tmp: Double = -0.9943879656884196\r\n",
       "tmp2: Double = 0.6680388557756061\r\n"
      ]
     },
     "execution_count": 5,
     "metadata": {},
     "output_type": "execute_result"
    }
   ],
   "source": [
    "var tmp=0.0\n",
    "var tmp2=0.0\n",
    "for(i<- 0 until N){\n",
    "    tmp=0.0\n",
    "    tmp2=0.0\n",
    "    for(j <- 0 until p){\n",
    "        tmp2=r.nextGaussian\n",
    "        tmp+=beta(j)*tmp2\n",
    "        X(i,j)=tmp2\n",
    "    }\n",
    "    y(i)=tmp+0.2*r.nextGaussian\n",
    "}"
   ]
  },
  {
   "cell_type": "code",
   "execution_count": 6,
   "id": "57773d08-8806-4495-b1df-f5b558a9840d",
   "metadata": {},
   "outputs": [
    {
     "name": "stdout",
     "output_type": "stream",
     "text": [
      "22/11/26 00:16:38 WARN BLAS: Failed to load implementation from: com.github.fommil.netlib.NativeSystemBLAS\n",
      "22/11/26 00:16:38 WARN BLAS: Failed to load implementation from: com.github.fommil.netlib.NativeRefBLAS\n",
      "22/11/26 00:16:38 WARN LAPACK: Failed to load implementation from: com.github.fommil.netlib.NativeSystemLAPACK\n",
      "22/11/26 00:16:38 WARN LAPACK: Failed to load implementation from: com.github.fommil.netlib.NativeRefLAPACK\n"
     ]
    },
    {
     "data": {
      "text/plain": [
       "lam: Double = 8.5E-13\r\n",
       "betahat: breeze.linalg.DenseVector[Double] = DenseVector(2.000906657738943, 2.00081747318638, 2.004425351656335, -0.011936187605808248, 0.006386420272103191, -0.004178300150892409, -7.098771293095434E-4, -2.386904897289507E-4, 0.008535240980701296, -0.00290192034003161, -0.009799800582073075, 0.002372152149819504, 0.01052657418425374, 0.003808703616771802, -0.007765716030649362, -0.01253478270138492, -8.89003371908577E-4, -4.46106585556865E-4, -0.004940289695097754, 0.00608572432897257, -0.011696891262168926, 0.0019436749968063712, -0.005287715322725487, 0.005254424134469727, 0.0021116845367636222, 0.00655544756208482, 0.014749741231145787, -0.00404778997600642, 0.0018303434208064543, -0.002817968140506555, 0.005729093640741715, -0.007096614740763568, 0.0065066664...\r\n"
      ]
     },
     "execution_count": 6,
     "metadata": {},
     "output_type": "execute_result"
    }
   ],
   "source": [
    "val lam=0.85e-12\n",
    "val betahat=inv(X.t*X)*X.t*y\n",
    "val maxIter=6\n",
    "val p=200\n",
    "val N=1000\n",
    "var ii=0\n",
    "var Diff=1.0\n",
    "val eps=1e-5\n",
    "var Oldbeta=DenseVector.zeros[Double](p)"
   ]
  },
  {
   "cell_type": "code",
   "execution_count": 7,
   "id": "5641991d-a54b-436f-8ce2-2bcad2d6e622",
   "metadata": {},
   "outputs": [
    {
     "name": "stdout",
     "output_type": "stream",
     "text": [
      "1.1073667634001583\n",
      "0.006006484754913721\n",
      "1.974640759923041E-4\n",
      "6.881447413675801E-6\n",
      "DenseVector(2.0030742218881565, 2.0036861958649452, 2.005599895106873, -0.0, 0.0, -0.0, -0.0, 0.0, 0.0, -0.0, -0.0, 0.0, 0.0, 0.0, -0.0, -0.0, -0.0, 0.0, -0.0, 0.0, -0.0, 0.0, -0.0, -0.0, 0.0, 0.0, 0.0, -0.0, 0.0, -0.0, 0.0, -0.0, 0.0, 0.0, 0.0, -0.0, -0.0, -0.0, 0.0, 0.0, 0.0, 0.0, 0.0, 0.0, -0.0, 0.0, 0.0, 0.0, -0.0, 0.0, 0.0, -0.0, 0.0, 0.0, -0.0, -0.0, -0.0, 0.0, 0.0, 0.0, 0.0, -0.0, 0.0, 0.0, 0.0, 0.0, 0.0, 0.0, 0.0, -0.0, -0.0, 0.0, 0.0, 0.0, -0.0, -0.0, -0.0, -0.0, 0.0, 0.0, 0.0, 0.0, -0.0, 0.0, -0.0, 0.0, -0.0, 0.0, 0.0, -0.0, 0.0, 0.0, 0.0, -0.0, 0.0, 0.0, -0.0, 0.0, 0.0, 0.0, 0.0, -0.0, -0.0, 0.0, 0.0, -0.0, 0.0, -0.0, -0.0, -0.0, 0.0, 0.0, 0.0, 0.0, 0.0, 0.0, -0.0, 0.0, -0.0, 0.0, -0.0, 0.0, -0.0, 0.0, -0.0, 0.0, -0.0, 0.0, 0.0, -0.0, 0.0, -0.0, 0.0, -0.0, 0.0, 0.0, 0.0, -0.0, 0.0, 0.0, -0.0, 0.0, 0.0, 0.0, -0.0, 0.0, -0.0, -0.0, -0.0, -0.0, 0.0, 0.0, -0.0, 0.0, -0.0, -0.0, 0.0, 0.0, -0.0, 0.0, -0.0, -0.0, -0.0, -0.0, 0.0, 0.0, 0.0, -0.0, -0.0, 0.0, 0.0, -0.0, -0.0, 0.0, -0.0, -0.0, 0.0, 0.0, -0.0, -0.0, 0.0, -0.0, -0.0, 0.0, 0.0, 0.0, 0.0, -0.0, -0.0, -0.0, -0.0, 0.0, 0.0, 0.0, 0.0, 0.0, -0.0, 0.0, -0.0, 0.0)\n"
     ]
    }
   ],
   "source": [
    "while(ii<maxIter && Diff>eps){\n",
    "    Oldbeta(0 until p):=betahat(0 until p)\n",
    "    for(i<- 0 until p){\n",
    "        // Diff=0.0\n",
    "        if (math.abs(X(::,i).t*(y-X*Oldbeta))<lam) {\n",
    "            // println(math.abs(X(::,i).t*(y-X*betahat)))\n",
    "            betahat(i)=0.0\n",
    "            // println(i)\n",
    "            // println(\"del\")\n",
    "            // println(ii)\n",
    "        }\n",
    "        else {\n",
    "            // println(math.abs(X(::,i).t*(y-X*betahat)))\n",
    "            val tmp=DenseVector.zeros[Double](N)\n",
    "            for(j<-0 until p){\n",
    "                if(j!=i) tmp+=X(::,j)*Oldbeta(j)\n",
    "            }\n",
    "            betahat(i)=X(::,i).t*(y-tmp)/(lam/math.abs(Oldbeta(i))+X(::,i).t*X(::,i))\n",
    "            // println(betahat(i))\n",
    "        }\n",
    "        // println(ii)\n",
    "    }\n",
    "    Diff=sum((Oldbeta-betahat).map(math.abs(_)))\n",
    "    // println(Oldbeta)\n",
    "    // println(betahat)\n",
    "    println(Diff)\n",
    "    ii+=1\n",
    "}\n",
    "println(betahat)"
   ]
  },
  {
   "cell_type": "code",
   "execution_count": 8,
   "id": "8ffafe13-884f-426f-bcee-8c4d470e6daa",
   "metadata": {},
   "outputs": [
    {
     "data": {
      "text/plain": [
       "res2: Double = 0.0\r\n"
      ]
     },
     "execution_count": 8,
     "metadata": {},
     "output_type": "execute_result"
    }
   ],
   "source": [
    "sum(betahat.toArray.drop(3))"
   ]
  },
  {
   "cell_type": "markdown",
   "id": "062d4920-97cd-49f9-847b-c20b1f24294a",
   "metadata": {},
   "source": [
    "并行程序"
   ]
  },
  {
   "cell_type": "code",
   "execution_count": 9,
   "id": "14fa0a7a-fb33-4170-8faf-bd65cc047e29",
   "metadata": {},
   "outputs": [
    {
     "data": {
      "text/plain": [
       "lam: org.apache.spark.broadcast.Broadcast[Double] = Broadcast(0)\r\n",
       "p: org.apache.spark.broadcast.Broadcast[Int] = Broadcast(1)\r\n",
       "N: org.apache.spark.broadcast.Broadcast[Int] = Broadcast(2)\r\n",
       "betahat: breeze.linalg.DenseVector[Double] = DenseVector(2.000906657738943, 2.00081747318638, 2.004425351656335, -0.011936187605808248, 0.006386420272103191, -0.004178300150892409, -7.098771293095434E-4, -2.386904897289507E-4, 0.008535240980701296, -0.00290192034003161, -0.009799800582073075, 0.002372152149819504, 0.01052657418425374, 0.003808703616771802, -0.007765716030649362, -0.01253478270138492, -8.89003371908577E-4, -4.46106585556865E-4, -0.004940289695097754, 0.00608572432897257, -0.011696891262168926, 0.0019436749968063712, -0.005287715322725487, 0.005254424134469727, 0.0021116845367636222, 0.0...\r\n"
      ]
     },
     "execution_count": 9,
     "metadata": {},
     "output_type": "execute_result"
    }
   ],
   "source": [
    "val lam=sc.broadcast(0.85e-12)\n",
    "val p=sc.broadcast(200)\n",
    "val N=sc.broadcast(1000)\n",
    "var betahat=inv(X.t*X)*X.t*y\n",
    "val maxIter=sc.broadcast(6)\n",
    "var ii=0\n",
    "var Diff=1.0\n",
    "val eps=sc.broadcast(1e-4)\n",
    "var Oldbeta=DenseVector.zeros[Double](p.value)"
   ]
  },
  {
   "cell_type": "code",
   "execution_count": 10,
   "id": "4f25e051-632a-41c2-9ec3-712b9541fb9e",
   "metadata": {},
   "outputs": [
    {
     "data": {
      "text/plain": [
       "x_array: Array[(Int, breeze.linalg.DenseVector[Double], Double)] = Array((0,DenseVector(1.9941641941760007, -1.374725646972081, 0.9549506987427014, -0.5152646779382724, 0.31663143703721286, 0.19970370391026865, 0.3722285844232499, 0.07335784958923848, 0.5510160216423873, -1.2139471626514033, 1.1027957816629295, 0.3117589514297112, -0.3813496545927304, 0.37511496873267447, 0.1424335921639375, -0.20419632966325624, -0.7561051064761783, 0.4249714730632415, 1.0050546366849258, -1.458567120665485, 0.11584445134634745, -1.334565571505834, -0.43150811860016575, -0.7427184794222866, 0.24071451900149865, -0.3126515745136916, 0.7849866679584376, -1.1227936846084925, 1.04116531576231, 1.3191107952908352, 0.6360263732536456, 1.443936017685366, -0.8820176269884109, 2.400269051707599, 0.0658613982401...\r\n"
      ]
     },
     "execution_count": 10,
     "metadata": {},
     "output_type": "execute_result"
    }
   ],
   "source": [
    "var x_array=(0 to p.value-1).map(s => (s,X(::,s),betahat(s))).toArray\n",
    "var x=sc.parallelize(x_array)"
   ]
  },
  {
   "cell_type": "code",
   "execution_count": 11,
   "id": "98ae599f-0c38-48ce-b20d-ebd7c60c0b73",
   "metadata": {},
   "outputs": [
    {
     "name": "stdout",
     "output_type": "stream",
     "text": [
      "22/11/26 00:17:24 WARN TaskSetManager: Stage 0 contains a task of very large size (1568 KiB). The maximum recommended task size is 1000 KiB.\n",
      "22/11/26 00:17:25 WARN DAGScheduler: Broadcasting large task binary with size 1605.5 KiB\n",
      "22/11/26 00:17:25 WARN TaskSetManager: Stage 1 contains a task of very large size (1568 KiB). The maximum recommended task size is 1000 KiB.\n",
      "22/11/26 00:17:25 WARN TaskSetManager: Stage 2 contains a task of very large size (1568 KiB). The maximum recommended task size is 1000 KiB.\n",
      "22/11/26 00:17:25 WARN DAGScheduler: Broadcasting large task binary with size 1605.5 KiB\n",
      "22/11/26 00:17:25 WARN TaskSetManager: Stage 3 contains a task of very large size (1568 KiB). The maximum recommended task size is 1000 KiB.\n",
      "22/11/26 00:17:25 WARN TaskSetManager: Stage 4 contains a task of very large size (1568 KiB). The maximum recommended task size is 1000 KiB.\n",
      "22/11/26 00:17:25 WARN DAGScheduler: Broadcasting large task binary with size 1605.5 KiB\n",
      "22/11/26 00:17:25 WARN TaskSetManager: Stage 5 contains a task of very large size (1568 KiB). The maximum recommended task size is 1000 KiB.\n",
      "22/11/26 00:17:25 WARN TaskSetManager: Stage 6 contains a task of very large size (1568 KiB). The maximum recommended task size is 1000 KiB.\n",
      "22/11/26 00:17:25 WARN DAGScheduler: Broadcasting large task binary with size 1605.5 KiB\n",
      "22/11/26 00:17:25 WARN TaskSetManager: Stage 7 contains a task of very large size (1568 KiB). The maximum recommended task size is 1000 KiB.\n",
      "DenseVector(2.0030742218881565, 2.0036861958649452, 2.005599895106873, -0.0, 0.0, -0.0, -0.0, 0.0, 0.0, -0.0, -0.0, 0.0, 0.0, 0.0, -0.0, -0.0, -0.0, 0.0, -0.0, 0.0, -0.0, 0.0, -0.0, -0.0, 0.0, 0.0, 0.0, -0.0, 0.0, -0.0, 0.0, -0.0, 0.0, 0.0, 0.0, -0.0, -0.0, -0.0, 0.0, 0.0, 0.0, 0.0, 0.0, 0.0, -0.0, 0.0, 0.0, 0.0, -0.0, 0.0, 0.0, -0.0, 0.0, 0.0, -0.0, -0.0, -0.0, 0.0, 0.0, 0.0, 0.0, -0.0, 0.0, 0.0, 0.0, 0.0, 0.0, 0.0, 0.0, -0.0, -0.0, 0.0, 0.0, 0.0, -0.0, -0.0, -0.0, -0.0, 0.0, 0.0, 0.0, 0.0, -0.0, 0.0, -0.0, 0.0, -0.0, 0.0, 0.0, -0.0, 0.0, 0.0, 0.0, -0.0, 0.0, 0.0, -0.0, 0.0, 0.0, 0.0, 0.0, -0.0, -0.0, 0.0, 0.0, -0.0, 0.0, -0.0, -0.0, -0.0, 0.0, 0.0, 0.0, 0.0, 0.0, 0.0, -0.0, 0.0, -0.0, 0.0, -0.0, 0.0, -0.0, 0.0, -0.0, 0.0, -0.0, 0.0, 0.0, -0.0, 0.0, -0.0, 0.0, -0.0, 0.0, 0.0, 0.0, -0.0, 0.0, 0.0, -0.0, 0.0, 0.0, 0.0, -0.0, 0.0, -0.0, -0.0, -0.0, -0.0, 0.0, 0.0, -0.0, 0.0, -0.0, -0.0, 0.0, 0.0, -0.0, 0.0, -0.0, -0.0, -0.0, -0.0, 0.0, 0.0, 0.0, -0.0, -0.0, 0.0, 0.0, -0.0, -0.0, 0.0, -0.0, -0.0, 0.0, 0.0, -0.0, -0.0, 0.0, -0.0, -0.0, 0.0, 0.0, 0.0, 0.0, -0.0, -0.0, -0.0, -0.0, 0.0, 0.0, 0.0, 0.0, 0.0, -0.0, 0.0, -0.0, 0.0)\n"
     ]
    },
    {
     "data": {
      "text/plain": [
       "xs: breeze.linalg.DenseVector[Double] = DenseVector(-1.5148142488989185, -2.613350217640622, 1.2564916011178078, -0.4772173162032489, -0.8904269882259944, -2.406061514462142, 5.872453627017029, 2.33456381149969, -2.3338994909033044, -1.9775154327179203, 0.46825066698067763, -0.9211115852447772, -0.15456932026959935, 0.1263583425697573, 0.2210766712657961, 1.3875063819593123, 1.9702634274430104, -2.945133273847418, 6.289957970185345, -5.027774807891573, 0.09355195370185357, -3.841292674448783, -0.0683811744161551, 1.7610119901071295, 1.1358399060421238, 1.1523062096282461, -1.8397914726193414, -4.455194535844447, 1.3144508952029046, 2.1123869698002147, 2.758748083624419, 0.1351838990966423, -2.709015543020517, 3.3488465639983325, 2.608558569482657, 1.2680811999614134, -3.3723405454202577...\r\n"
      ]
     },
     "execution_count": 11,
     "metadata": {},
     "output_type": "execute_result"
    }
   ],
   "source": [
    "var xs=DenseVector.zeros[Double](N.value)\n",
    "while(ii<maxIter.value && Diff>eps.value){\n",
    "    Oldbeta(0 until p.value):=betahat(0 until p.value) //这样才能达到拷贝的效果\n",
    "    // for(i<- 0 until p){\n",
    "    //     if (math.abs(X(::,i).t*(y-X*Oldbeta))<lam) {\n",
    "    //         betahat(i)=0.0\n",
    "    //     }\n",
    "    //     else {\n",
    "    //         val tmp=DenseVector.zeros[Double](N)\n",
    "    //         for(j<-0 until p){\n",
    "    //             if(j!=i) tmp+=X(::,j)*betahat(j)\n",
    "    //         }\n",
    "    //         betahat(i)=X(::,i).t*(y-tmp)/(lam/math.abs(betahat(i))+X(::,i).t*X(::,i))\n",
    "    //     }\n",
    "    // }\n",
    "    xs(0 until N.value):=x.map(s => {\n",
    "        s._2*s._3\n",
    "    }).reduce((x,y)=>x+y)\n",
    "    val tmp=x.map(s => {\n",
    "        if(math.abs(s._2.t*(y-X*Oldbeta))<lam.value){\n",
    "            (s._1,s._2,0.0)\n",
    "        }\n",
    "        else {\n",
    "            val ret=s._2.t*(y-(xs-s._2*Oldbeta(s._1)))/(lam.value/math.abs(Oldbeta(s._1))+s._2.t*s._2)\n",
    "            (s._1,s._2,ret)\n",
    "        }\n",
    "    }).map(s => s._3).collect()\n",
    "    betahat(0 until p.value):=DenseVector(tmp)\n",
    "    x_array=(0 to p.value-1).map(s => (s,X(::,s),betahat(s))).toArray\n",
    "    x=sc.parallelize(x_array)\n",
    "    // betahat(0 until p.value):=DenseVector(x.map(s => s._3).collect())\n",
    "    Diff=sum((Oldbeta-betahat).map(math.abs(_)))\n",
    "    ii+=1\n",
    "}\n",
    "println(betahat)"
   ]
  },
  {
   "cell_type": "code",
   "execution_count": 120,
   "id": "3987c29e-ed50-44ac-a9b3-f4a80238f2c9",
   "metadata": {},
   "outputs": [
    {
     "data": {
      "text/plain": [
       "res65: Double = 0.015519796688532303\r\n"
      ]
     },
     "execution_count": 120,
     "metadata": {},
     "output_type": "execute_result"
    }
   ],
   "source": [
    "sum(betahat.toArray.drop(3))"
   ]
  },
  {
   "cell_type": "code",
   "execution_count": 42,
   "id": "cf0e47ba-92e7-4264-99b5-01f9c2156666",
   "metadata": {},
   "outputs": [
    {
     "data": {
      "text/plain": [
       "res26: Double = 8.914768043473131E-4\r\n"
      ]
     },
     "execution_count": 42,
     "metadata": {},
     "output_type": "execute_result"
    }
   ],
   "source": [
    "Diff"
   ]
  },
  {
   "cell_type": "code",
   "execution_count": 276,
   "id": "9d65c8bc-6d20-4079-82e3-e8e7239f84ae",
   "metadata": {},
   "outputs": [
    {
     "data": {
      "text/plain": [
       "x: org.apache.spark.rdd.RDD[breeze.linalg.DenseVector[Double]] = MapPartitionsRDD[54] at map at <console>:71\r\n"
      ]
     },
     "execution_count": 276,
     "metadata": {},
     "output_type": "execute_result"
    }
   ],
   "source": [
    "betahat\n",
    "x=x.map(s => {\n",
    "    if (math.abs(s._2.t)*(y-))\n",
    "    var betahat=0.0\n",
    "    x_sum.reduce((x,y)=>x+y)\n",
    "    // betahat=s._1.t(y-)\n",
    "})"
   ]
  },
  {
   "cell_type": "code",
   "execution_count": 181,
   "id": "4eafb2fb-8df1-43b2-83ab-a45154be4a37",
   "metadata": {},
   "outputs": [
    {
     "data": {
      "text/plain": [
       "tobreezematrix: (tmp1: org.apache.spark.mllib.linalg.Matrix)breeze.linalg.DenseMatrix[Double]\r\n"
      ]
     },
     "execution_count": 181,
     "metadata": {},
     "output_type": "execute_result"
    }
   ],
   "source": [
    "def tobreezematrix(tmp1:sparkMatrix):DenseMatrix[Double]={\n",
    "    var tmp2=DenseMatrix.zeros[Double](tmp1.numRows,tmp1.numCols)\n",
    "    for (i<- 0 until tmp1.numRows){\n",
    "        for(j <- 0 until tmp1.numCols){\n",
    "            tmp2(i,j)=tmp1(i,j)\n",
    "        }\n",
    "    }\n",
    "    tmp2\n",
    "}"
   ]
  },
  {
   "cell_type": "code",
   "execution_count": 182,
   "id": "2d2bc8db-22d2-42c1-823e-7f7913538b04",
   "metadata": {},
   "outputs": [
    {
     "data": {
      "text/plain": [
       "N: org.apache.spark.broadcast.Broadcast[Int] = Broadcast(47)\r\n",
       "p: org.apache.spark.broadcast.Broadcast[Int] = Broadcast(48)\r\n",
       "maxIter: org.apache.spark.broadcast.Broadcast[Int] = Broadcast(49)\r\n",
       "Beta: org.apache.spark.broadcast.Broadcast[breeze.linalg.DenseVector[Double]] = Broadcast(50)\r\n",
       "Indeces: scala.collection.immutable.Range.Inclusive = Range 1 to 1000\r\n"
      ]
     },
     "execution_count": 182,
     "metadata": {},
     "output_type": "execute_result"
    }
   ],
   "source": [
    "val N=sc.broadcast(1000)\n",
    "val p=sc.broadcast(200)\n",
    "val maxIter=sc.broadcast(6)\n",
    "val Beta=sc.broadcast(DenseVector((1 to p.value).map(_.toDouble).map(s=> {\n",
    "    if (s<=3) 2.0 else 0.0\n",
    "}).toArray))\n",
    "val Indeces=1 to N.value"
   ]
  },
  {
   "cell_type": "code",
   "execution_count": 183,
   "id": "4b2b2da9-3283-41bb-a0c4-a521fa8f9aef",
   "metadata": {},
   "outputs": [
    {
     "data": {
      "text/plain": [
       "ParalIndeces: org.apache.spark.rdd.RDD[Int] = ParallelCollectionRDD[18] at parallelize at <console>:63\r\n"
      ]
     },
     "execution_count": 183,
     "metadata": {},
     "output_type": "execute_result"
    }
   ],
   "source": [
    "var ParalIndeces=sc.parallelize(Indeces)"
   ]
  },
  {
   "cell_type": "code",
   "execution_count": 184,
   "id": "98681d3c-5104-4c18-96f2-e07ad5f02417",
   "metadata": {},
   "outputs": [
    {
     "data": {
      "text/plain": [
       "sample_matrix: org.apache.spark.rdd.RDD[Array[Double]] = MapPartitionsRDD[19] at map at <console>:67\r\n",
       "res99: org.apache.spark.rdd.RDD[Array[Double]] = MapPartitionsRDD[19] at map at <console>:67\r\n"
      ]
     },
     "execution_count": 184,
     "metadata": {},
     "output_type": "execute_result"
    }
   ],
   "source": [
    "var sample_matrix=ParalIndeces.map(s => {\n",
    "    var norm_dist=new Gaussian(0,1)\n",
    "    var x=new DenseMatrix(rows=1,cols=p.value,norm_dist.sample(p.value).toArray)\n",
    "    var y=x*Beta.value+norm_dist.draw()\n",
    "    Array(s.toDouble).union(x.toArray).union(Array(y(0)))\n",
    "})\n",
    "sample_matrix.persist()"
   ]
  },
  {
   "cell_type": "code",
   "execution_count": 185,
   "id": "40829ac9-846e-4b3f-bd44-9b5c7fb06efc",
   "metadata": {},
   "outputs": [
    {
     "data": {
      "text/plain": [
       "sample_x: org.apache.spark.rdd.RDD[org.apache.spark.mllib.linalg.distributed.IndexedRow] = MapPartitionsRDD[20] at map at <console>:62\r\n"
      ]
     },
     "execution_count": 185,
     "metadata": {},
     "output_type": "execute_result"
    }
   ],
   "source": [
    "var sample_x=sample_matrix.map(f => {\n",
    "    IndexedRow(f.take(1)(0).toLong,Vectors.dense(f.drop(1).dropRight(1)))\n",
    "})"
   ]
  },
  {
   "cell_type": "code",
   "execution_count": 186,
   "id": "40bef440-41ef-4d57-b6eb-2fceb52fdf21",
   "metadata": {},
   "outputs": [
    {
     "data": {
      "text/plain": [
       "sample_y: org.apache.spark.rdd.RDD[org.apache.spark.mllib.linalg.distributed.IndexedRow] = MapPartitionsRDD[21] at map at <console>:63\r\n"
      ]
     },
     "execution_count": 186,
     "metadata": {},
     "output_type": "execute_result"
    }
   ],
   "source": [
    "var sample_y=sample_matrix.map(f => {\n",
    "    IndexedRow(f.take(1)(0).toLong,Vectors.dense(f.drop(p.value+1)))\n",
    "})"
   ]
  },
  {
   "cell_type": "code",
   "execution_count": 187,
   "id": "b76a37cb-c4d6-4150-a077-26650d8178b4",
   "metadata": {},
   "outputs": [
    {
     "data": {
      "text/plain": [
       "sample_x_indexedrowmatrix: org.apache.spark.mllib.linalg.distributed.IndexedRowMatrix = org.apache.spark.mllib.linalg.distributed.IndexedRowMatrix@1064ea48\r\n"
      ]
     },
     "execution_count": 187,
     "metadata": {},
     "output_type": "execute_result"
    }
   ],
   "source": [
    "var sample_x_indexedrowmatrix=new IndexedRowMatrix(sample_x)"
   ]
  },
  {
   "cell_type": "code",
   "execution_count": 188,
   "id": "80bcb863-2309-45f7-88d1-52342fb9903f",
   "metadata": {},
   "outputs": [
    {
     "data": {
      "text/plain": [
       "sample_y_indexedrowmatrix: org.apache.spark.mllib.linalg.distributed.IndexedRowMatrix = org.apache.spark.mllib.linalg.distributed.IndexedRowMatrix@5666fe17\r\n"
      ]
     },
     "execution_count": 188,
     "metadata": {},
     "output_type": "execute_result"
    }
   ],
   "source": [
    "var sample_y_indexedrowmatrix=new IndexedRowMatrix(sample_y)"
   ]
  },
  {
   "cell_type": "code",
   "execution_count": 189,
   "id": "fa112165-4a7c-4160-8c7c-5247eb82392c",
   "metadata": {},
   "outputs": [
    {
     "data": {
      "text/plain": [
       "x: org.apache.spark.mllib.linalg.distributed.BlockMatrix = org.apache.spark.mllib.linalg.distributed.BlockMatrix@2185528a\r\n"
      ]
     },
     "execution_count": 189,
     "metadata": {},
     "output_type": "execute_result"
    }
   ],
   "source": [
    "var x=sample_x_indexedrowmatrix.toBlockMatrix(rowsPerBlock=N.value/10,colsPerBlock=p.value/10)"
   ]
  },
  {
   "cell_type": "code",
   "execution_count": 190,
   "id": "3567ef1d-3c96-4788-b69e-1ad25913bd74",
   "metadata": {},
   "outputs": [
    {
     "data": {
      "text/plain": [
       "y: org.apache.spark.mllib.linalg.distributed.BlockMatrix = org.apache.spark.mllib.linalg.distributed.BlockMatrix@68daf010\r\n"
      ]
     },
     "execution_count": 190,
     "metadata": {},
     "output_type": "execute_result"
    }
   ],
   "source": [
    "var y=sample_y_indexedrowmatrix.toBlockMatrix(rowsPerBlock=N.value/10,colsPerBlock=1)"
   ]
  },
  {
   "cell_type": "code",
   "execution_count": 229,
   "id": "86e03f5f-e8fc-4c16-a329-fd481fd12807",
   "metadata": {},
   "outputs": [
    {
     "data": {
      "text/plain": [
       "breeze_x: breeze.linalg.DenseMatrix[Double] =\r\n",
       "0.0                   0.0                    ... (200 total)\r\n",
       "0.12680761411495184   -0.1494494437499007    ...\r\n",
       "-0.4025124095620357   0.3992154010968299     ...\r\n",
       "-0.20632902636608497  -0.43294883375169657   ...\r\n",
       "0.9529700604364243    -0.03591437339242585   ...\r\n",
       "1.8585412895051567    1.3014337681651675     ...\r\n",
       "2.078695852828066     0.9048992395580514     ...\r\n",
       "0.4420629308073572    -2.4815264535021466    ...\r\n",
       "-0.9507466746291348   1.7328629887000024     ...\r\n",
       "1.0815432368987612    0.5339238662437379     ...\r\n",
       "-0.42609256634155207  1.4029740513415643     ...\r\n",
       "-0.9459106344114021   0.45294445067455774    ...\r\n",
       "-0.8109120868634081   0.5631445296363733     ...\r\n",
       "1.5731989995459774    1.0782518333486275     ...\r\n",
       "-0.3330720769382427   -0.0623097715227...\r\n"
      ]
     },
     "execution_count": 229,
     "metadata": {},
     "output_type": "execute_result"
    }
   ],
   "source": [
    "val breeze_x=tobreezematrix(x.toLocalMatrix)\n",
    "val breeze_y=tobreezematrix(y.toLocalMatrix)\n",
    "var betahat_breeze=inv(breeze_x.t*breeze_x)*breeze_x.t*breeze_y"
   ]
  },
  {
   "cell_type": "code",
   "execution_count": null,
   "id": "b0340973-bf5f-4519-8a3c-6f2d075f2ef3",
   "metadata": {},
   "outputs": [],
   "source": [
    "var betahat_label=(1 to p.value).map(_.toDouble)"
   ]
  },
  {
   "cell_type": "code",
   "execution_count": 194,
   "id": "e5eb5e1c-a139-4a3e-b12d-795b22e7cfd6",
   "metadata": {},
   "outputs": [
    {
     "data": {
      "text/plain": [
       "Diff: Double = 1.0\r\n",
       "ii: Int = 0\r\n",
       "eps: Double = 1.0E-4\r\n",
       "lam: Double = 8.5E-13\r\n"
      ]
     },
     "execution_count": 194,
     "metadata": {},
     "output_type": "execute_result"
    }
   ],
   "source": [
    "var Diff=1.0\n",
    "var ii=0\n",
    "val eps=1e-4\n",
    "val lam=0.85e-12"
   ]
  },
  {
   "cell_type": "code",
   "execution_count": 216,
   "id": "2f64ad92-6fd0-4716-9f99-1a096dfb69b6",
   "metadata": {},
   "outputs": [
    {
     "ename": "<console>",
     "evalue": "69: error: type mismatch;\r",
     "output_type": "error",
     "traceback": [
      "<console>:69: error: type mismatch;\r",
      " found   : Unit\r",
      " required: Double\r",
      "           betahat=betahat.map(s =>{\r",
      "                                   ^\r",
      ""
     ]
    }
   ],
   "source": [
    "while(ii<maxIter.value&&Diff>eps){\n",
    "    \n",
    "}"
   ]
  },
  {
   "cell_type": "code",
   "execution_count": 290,
   "id": "48f9ed29-0de6-4f3d-80db-ce104655ddb9",
   "metadata": {},
   "outputs": [
    {
     "data": {
      "text/plain": [
       "x_array: Array[(Int, breeze.linalg.DenseVector[Double], Double)] = Array((0,DenseVector(1.92559507000489, -0.19150693155585907, 0.1341337880253095, 0.3956334461725089, 1.0225337985309044, -0.8444936643699197, -0.906189360854643, -0.12211049262964585, 0.7852741545016855, -0.1502388872160618, -0.5762693990707874, 0.42957040409071384, -0.31837420882724843, 0.7097917513768502, -2.0401114487725587, -1.368179067803667, -0.6854817431782987, 0.21510239454054453, 1.3280837736261255, -1.3812424751137848, -0.2067351927708026, -0.01723553269823839, -0.1229710592211993, -0.2941441770930704, -0.2251799005704094, -0.7571849506570759, -0.17998986550593338, 0.33459281964999593, -0.65159954608539, 1.895363259332674, 0.5998724945724544, 0.29827077440511124, -0.9157700589645116, -0.47087828171253526, -1.88...\r\n"
      ]
     },
     "execution_count": 290,
     "metadata": {},
     "output_type": "execute_result"
    }
   ],
   "source": [
    "val x_array=(0 to p-1).map(s => (s,X(::,s),betahat(s))).toArray\n",
    "val x_sum=(0 to p-1).map(s => X(::,s))\n",
    "val x_s_rdd=sc.parallelize(x_sum)\n",
    "var x=sc.parallelize(x_array)"
   ]
  },
  {
   "cell_type": "code",
   "execution_count": 297,
   "id": "e927c0dc-e3ab-4d5f-b4e0-ac97666d0ffd",
   "metadata": {},
   "outputs": [
    {
     "ename": "<console>",
     "evalue": "109: error: reassignment to val\r",
     "output_type": "error",
     "traceback": [
      "<console>:109: error: reassignment to val\r",
      "           betahat=DenseVector(tmp)\r",
      "                  ^\r",
      ""
     ]
    }
   ],
   "source": [
    "\n",
    "while(ii<maxIter && Diff>eps){\n",
    "    //6次循环每次循环都创建一次rdd\n",
    "    // for(i<- 0 until p.value){\n",
    "    // Oldbeta=betahat(i)\n",
    "    // Diff=0.0\n",
    "    x.map(s => {\n",
    "        val prin=s._2.t*(y-X*betahat)\n",
    "        if (math.abs(prin)<lam) {\n",
    "            // println(math.abs(X(::,i).t*(y-X*betahat)))\n",
    "            (s._1,s._2,0.0)\n",
    "            // println(i)\n",
    "            // println(\"del\")\n",
    "            // println(ii)\n",
    "        }\n",
    "        else {\n",
    "            // println(math.abs(X(::,i).t*(y-X*betahat)))\n",
    "            var ret=0.0\n",
    "            val tmp=DenseVector.zeros[Double](N)\n",
    "            for(j<-0 until p){\n",
    "                if(j!=s._1) tmp+=X(::,j)*betahat(j)\n",
    "            }\n",
    "            ret=s._2.t*(y-tmp)/(lam/math.abs(s._3)+s._2.t*s._2)\n",
    "            // println(betahat(i))\n",
    "            (s._1,s._2,ret)\n",
    "        }\n",
    "        // println(ii)\n",
    "        // Diff+=math.abs(Oldbeta-betahat(i))\n",
    "        \n",
    "    })\n",
    "    val tmp=x.map(s=> s._3).collect()\n",
    "    betahat=DenseVector(tmp)\n",
    "    // Diff=sum((Oldbeta-betahat).map(math.abs(_)))\n",
    "    // println(Oldbeta)\n",
    "    // println(betahat)\n",
    "    println(Diff)\n",
    "    ii+=1\n",
    "}\n",
    "println(betahat)"
   ]
  },
  {
   "cell_type": "code",
   "execution_count": 298,
   "id": "fc071710-c573-4158-84b0-b7834292cb47",
   "metadata": {},
   "outputs": [
    {
     "data": {
      "text/plain": [
       "res165: breeze.linalg.DenseVector[Double] = DenseVector(2.0023830275858723, 1.9998476193262393, 2.0000233764878397, -8.790022734393253E-4, -0.007878927000894162, 0.003993654823292942, -0.00876581167799734, 0.004591453374631987, 0.005066830286352464, 0.010748951429049466, 0.001722931559357874, -0.0012579475430432342, 0.0010254814312542237, -0.001906155426974969, -0.002967184390284606, -0.009869470181239065, -0.00971093849463868, 0.010698602611857943, 0.002162105578855133, 0.008712676781442715, 0.011351104932382106, 0.010500255021642839, 0.010944505518335118, 0.013179854256139373, -0.0019587813578677143, -4.0256995771451465E-4, -0.0032229284200417426, 0.010370884128201852, 0.003788939066193021, -0.0034141719707824294, 0.004612858209611154, 0.017573471420717635, 0.004665130493035942, -0.00...\r\n"
      ]
     },
     "execution_count": 298,
     "metadata": {},
     "output_type": "execute_result"
    }
   ],
   "source": [
    "betahat"
   ]
  },
  {
   "cell_type": "code",
   "execution_count": 285,
   "id": "c4399252-4eb2-4d3a-a56f-864ebbffa5e7",
   "metadata": {},
   "outputs": [
    {
     "name": "stdout",
     "output_type": "stream",
     "text": [
      "22/11/18 17:45:14 WARN TaskSetManager: Stage 57 contains a task of very large size (1568 KiB). The maximum recommended task size is 1000 KiB.\n"
     ]
    },
    {
     "data": {
      "text/plain": [
       "tmp: Array[Double] = Array(2.0023830275858723, 1.9998476193262393, 2.0000233764878397, -8.790022734393253E-4, -0.007878927000894162, 0.003993654823292942, -0.00876581167799734, 0.004591453374631987, 0.005066830286352464, 0.010748951429049466, 0.001722931559357874, -0.0012579475430432342, 0.0010254814312542237, -0.001906155426974969, -0.002967184390284606, -0.009869470181239065, -0.00971093849463868, 0.010698602611857943, 0.002162105578855133, 0.008712676781442715, 0.011351104932382106, 0.010500255021642839, 0.010944505518335118, 0.013179854256139373, -0.0019587813578677143, -4.0256995771451465E-4, -0.0032229284200417426, 0.010370884128201852, 0.003788939066193021, -0.0034141719707824294, 0.004612858209611154, 0.017573471420717635, 0.004665130493035942, -0.007841506608550921, 2.219591986...\r\n"
      ]
     },
     "execution_count": 285,
     "metadata": {},
     "output_type": "execute_result"
    }
   ],
   "source": [
    "val tmp=x.map(s=> s._3).collect()\n",
    "DenseVector(tmp)"
   ]
  },
  {
   "cell_type": "code",
   "execution_count": 228,
   "id": "a6dc98cc-ba3f-4c2d-adbd-3099afe053c5",
   "metadata": {},
   "outputs": [
    {
     "ename": "<console>",
     "evalue": "65: error: type mismatch;\r",
     "output_type": "error",
     "traceback": [
      "<console>:65: error: type mismatch;\r",
      " found   : org.apache.spark.rdd.RDD[Double]\r",
      " required: org.apache.spark.mllib.linalg.distributed.BlockMatrix\r",
      "       x.multiply(betahat)\r",
      "                  ^\r",
      ""
     ]
    }
   ],
   "source": [
    "x.multiply(betahat)"
   ]
  },
  {
   "cell_type": "code",
   "execution_count": null,
   "id": "50acf1fe-d712-4ba5-9cae-2dbb8df8effe",
   "metadata": {},
   "outputs": [],
   "source": []
  }
 ],
 "metadata": {
  "kernelspec": {
   "display_name": "spylon-kernel",
   "language": "scala",
   "name": "spylon-kernel"
  },
  "language_info": {
   "codemirror_mode": "text/x-scala",
   "file_extension": ".scala",
   "help_links": [
    {
     "text": "MetaKernel Magics",
     "url": "https://metakernel.readthedocs.io/en/latest/source/README.html"
    }
   ],
   "mimetype": "text/x-scala",
   "name": "scala",
   "pygments_lexer": "scala",
   "version": "0.4.1"
  }
 },
 "nbformat": 4,
 "nbformat_minor": 5
}
