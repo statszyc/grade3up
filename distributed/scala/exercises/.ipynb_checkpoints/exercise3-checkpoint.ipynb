{
 "cells": [
  {
   "cell_type": "markdown",
   "id": "8148aaec-e436-4f08-868b-accdbe8e4949",
   "metadata": {},
   "source": [
    "第一问"
   ]
  },
  {
   "cell_type": "code",
   "execution_count": 1,
   "id": "e6a433a1-7237-4b54-b3b6-720aca637168",
   "metadata": {},
   "outputs": [
    {
     "data": {
      "text/plain": [
       "Intitializing Scala interpreter ..."
      ]
     },
     "metadata": {},
     "output_type": "display_data"
    },
    {
     "data": {
      "text/plain": [
       "Spark Web UI available at http://LAPTOP-9RG91OPS:4040\n",
       "SparkContext available as 'sc' (version = 3.3.0, master = local[*], app id = local-1668039603054)\n",
       "SparkSession available as 'spark'\n"
      ]
     },
     "metadata": {},
     "output_type": "display_data"
    },
    {
     "data": {
      "text/plain": [
       "import java.util.concurrent.ThreadLocalRandom\r\n",
       "import scala.math._\r\n"
      ]
     },
     "execution_count": 1,
     "metadata": {},
     "output_type": "execute_result"
    }
   ],
   "source": [
    "import java.util.concurrent.ThreadLocalRandom\n",
    "import scala.math._"
   ]
  },
  {
   "cell_type": "code",
   "execution_count": 2,
   "id": "8c172515-b178-41a3-8240-441c1d35d653",
   "metadata": {},
   "outputs": [
    {
     "data": {
      "text/plain": [
       "r: java.util.concurrent.ThreadLocalRandom = java.util.concurrent.ThreadLocalRandom@66778a67\r\n"
      ]
     },
     "execution_count": 2,
     "metadata": {},
     "output_type": "execute_result"
    },
    {
     "name": "stdout",
     "output_type": "stream",
     "text": [
      "22/11/10 08:20:16 WARN ProcfsMetricsGetter: Exception when trying to compute pagesize, as a result reporting of ProcessTree metrics is stopped\n"
     ]
    }
   ],
   "source": [
    "val r=ThreadLocalRandom.current"
   ]
  },
  {
   "cell_type": "code",
   "execution_count": 3,
   "id": "9634987e-c64f-4625-9941-279821008d4e",
   "metadata": {},
   "outputs": [
    {
     "data": {
      "text/plain": [
       "Frv: scala.collection.immutable.IndexedSeq[Double] = Vector(0.37194069805931684, 0.15210576937123177, 0.21377484571565564, 0.3930459640239712, 0.9587311943836994, 0.5806707947017942, 0.3429777088925998, 0.5615508268402227, 0.6106271712747293, 0.2706451040711949, 0.02171375186859692, 0.9033582426103175, 0.6854987576775892, 0.052522257848998444, 0.6137421983970014, 0.2894386159094896, 0.3926438204780536, 0.7508846901077318, 0.28803335955162246, 0.09923990164302188, 0.9406250393994762, 0.6546772540165143, 0.995940267321256, 0.09948212151950242, 0.355976751709291, 0.5536082618359127, 0.12190243590855365, 0.6256866163766182, 0.18811235407994986, 0.4177193020181792, 0.5364559090578722, 0.34187254587916915, 0.28143510840956676, 0.9162220878054015, 0.6647655517323741, 0.29474641321598216, 0.239...\r\n"
      ]
     },
     "execution_count": 3,
     "metadata": {},
     "output_type": "execute_result"
    }
   ],
   "source": [
    "val Frv=(1 to 10000).map(x => r.nextDouble)\n",
    "val out=Frv.map({x => { if (x >=0.5)  math.pow(2*x-1,1.0/3.0) else -math.pow(-2*x+1,1.0/3.0)}}).toArray\n",
    "//pow函数只能传入正数，传入负数将返回nan"
   ]
  },
  {
   "cell_type": "markdown",
   "id": "0042f423-4718-406a-9193-7986c35b0a90",
   "metadata": {},
   "source": [
    "第二问"
   ]
  },
  {
   "cell_type": "code",
   "execution_count": 4,
   "id": "e3bd5520-55fe-4541-b3a5-dcbbf2e8d515",
   "metadata": {},
   "outputs": [
    {
     "data": {
      "text/plain": [
       "import breeze.stats.distributions._\r\n",
       "import breeze.linalg._\r\n"
      ]
     },
     "execution_count": 4,
     "metadata": {},
     "output_type": "execute_result"
    }
   ],
   "source": [
    "import breeze.stats.distributions._\n",
    "import breeze.linalg._"
   ]
  },
  {
   "cell_type": "code",
   "execution_count": 5,
   "id": "db8b10d7-deb6-4c26-8143-6a8667c63139",
   "metadata": {},
   "outputs": [
    {
     "name": "stdout",
     "output_type": "stream",
     "text": [
      "22/11/10 08:20:46 WARN LAPACK: Failed to load implementation from: com.github.fommil.netlib.NativeSystemLAPACK\n",
      "22/11/10 08:20:46 WARN LAPACK: Failed to load implementation from: com.github.fommil.netlib.NativeRefLAPACK\n"
     ]
    },
    {
     "data": {
      "text/plain": [
       "mygauss: breeze.stats.distributions.MultivariateGaussian =\r\n",
       "MultivariateGaussian(DenseVector(10.0, -10.0),1.0  0.5\r\n",
       "0.5  1.0  )\r\n"
      ]
     },
     "execution_count": 5,
     "metadata": {},
     "output_type": "execute_result"
    }
   ],
   "source": [
    "val mygauss=new MultivariateGaussian(DenseVector(10.0,-10.0),DenseMatrix((1.0,0.5),(0.5,1.0)))"
   ]
  },
  {
   "cell_type": "code",
   "execution_count": 6,
   "id": "f64ccddd-1921-4509-aef7-ff8f2fcd1845",
   "metadata": {},
   "outputs": [
    {
     "name": "stdout",
     "output_type": "stream",
     "text": [
      "22/11/10 08:20:50 WARN BLAS: Failed to load implementation from: com.github.fommil.netlib.NativeSystemBLAS\n",
      "22/11/10 08:20:50 WARN BLAS: Failed to load implementation from: com.github.fommil.netlib.NativeRefBLAS\n"
     ]
    },
    {
     "data": {
      "text/plain": [
       "randn: Array[breeze.linalg.DenseVector[Double]] = Array(DenseVector(9.430075152506882, -10.553288354681127), DenseVector(9.214660690263251, -11.278956062542743), DenseVector(10.210086828499366, -9.501706734616011), DenseVector(10.336289835891208, -9.924701905434627), DenseVector(10.285664218307272, -10.5715062524803), DenseVector(10.26079050630893, -9.17922916346331), DenseVector(10.560673773009777, -10.952776555141106), DenseVector(10.631846014220997, -8.246192031585375), DenseVector(9.640495178469717, -10.843908489119489), DenseVector(10.442689694824518, -9.252564798022753), DenseVector(10.717881962078529, -9.200051277684384), DenseVector(11.369182428062325, -8.570093540340586), DenseVector(10.492196830037377, -10.106795717841456), DenseVector(10.376629076369111, -8.687462375935079), ...\r\n"
      ]
     },
     "execution_count": 6,
     "metadata": {},
     "output_type": "execute_result"
    }
   ],
   "source": [
    "val randn=mygauss.sample(100000).toArray\n",
    "// val newdata = (0 until 100000).toArray.map(s => DenseVector(randn(s)(0), randn(s)(1)))"
   ]
  },
  {
   "cell_type": "code",
   "execution_count": 7,
   "id": "8ec1c269-599d-4256-b23c-5357cdad8f1b",
   "metadata": {},
   "outputs": [
    {
     "data": {
      "text/plain": [
       "rdd: org.apache.spark.rdd.RDD[breeze.linalg.DenseVector[Double]] = ParallelCollectionRDD[0] at parallelize at <console>:35\r\n"
      ]
     },
     "execution_count": 7,
     "metadata": {},
     "output_type": "execute_result"
    }
   ],
   "source": [
    "val rdd=sc.parallelize(randn)"
   ]
  },
  {
   "cell_type": "markdown",
   "id": "d7afb775-7446-4e13-ac68-d6e0b9f5c76c",
   "metadata": {},
   "source": [
    "第一个值"
   ]
  },
  {
   "cell_type": "code",
   "execution_count": 8,
   "id": "30315091-9ab4-4f13-9bd1-d94b8d601bdd",
   "metadata": {},
   "outputs": [
    {
     "data": {
      "text/plain": [
       "res0: Double = 10006.488895814759\r\n"
      ]
     },
     "execution_count": 8,
     "metadata": {},
     "output_type": "execute_result"
    }
   ],
   "source": [
    "rdd.map(x => (x(0)*x(0)*x(1)*x(1))).reduce((x,y) => x+y)/100000.0"
   ]
  },
  {
   "cell_type": "markdown",
   "id": "d1929c7b-d861-4c8d-88d2-8c1db86f2e0c",
   "metadata": {},
   "source": [
    "第二个值"
   ]
  },
  {
   "cell_type": "code",
   "execution_count": 9,
   "id": "eb41b54c-0a83-4c4c-b91a-37d6ef683cc8",
   "metadata": {},
   "outputs": [
    {
     "data": {
      "text/plain": [
       "res1: breeze.linalg.DenseMatrix[Double] =\r\n",
       "100.95102684464646  -99.52132180116348\r\n",
       "-99.52132180116348  101.11009797362485\r\n"
      ]
     },
     "execution_count": 9,
     "metadata": {},
     "output_type": "execute_result"
    }
   ],
   "source": [
    "rdd.map(x => DenseMatrix((x(0)*x(0),x(0)*x(1)),(x(0)*x(1),x(1)*x(1)))).reduce((x,y) => x+y)/100000.0"
   ]
  },
  {
   "cell_type": "markdown",
   "id": "f37086df-404c-4d04-950c-308716dc55cc",
   "metadata": {},
   "source": [
    "第三个值"
   ]
  },
  {
   "cell_type": "code",
   "execution_count": 10,
   "id": "547ba99a-58b4-40ee-a2f6-f54a96e5f986",
   "metadata": {},
   "outputs": [
    {
     "data": {
      "text/plain": [
       "res2: breeze.linalg.DenseMatrix[Double] =\r\n",
       "0.0016616258997770067   -0.0014145450007084696\r\n",
       "-0.0014145450007084696  0.004183971917253672\r\n"
      ]
     },
     "execution_count": 10,
     "metadata": {},
     "output_type": "execute_result"
    }
   ],
   "source": [
    "rdd.map(x => DenseMatrix((sin(x(0)*x(0)),cos(x(0)*x(1))),(cos(x(0)*x(1)),sin(x(1)*x(1))))).reduce((x,y) => x+y)/100000.0"
   ]
  },
  {
   "cell_type": "markdown",
   "id": "5f1f3336-486f-4493-9f33-8ae4f703e731",
   "metadata": {},
   "source": [
    "第三题：生成随机向量"
   ]
  },
  {
   "cell_type": "code",
   "execution_count": 11,
   "id": "4b35cdbb-486a-4562-a9b5-016259ef2fe9",
   "metadata": {},
   "outputs": [
    {
     "data": {
      "text/plain": [
       "P: Double = 0.4\r\n",
       "Mu1: breeze.linalg.DenseVector[Double] = DenseVector(1.0, 2.0)\r\n",
       "Sig1: breeze.linalg.DenseMatrix[Double] =\r\n",
       "2.0  1.0\r\n",
       "1.0  2.0\r\n",
       "Mu2: breeze.linalg.DenseVector[Double] = DenseVector(5.0, 6.0)\r\n",
       "Sig2: breeze.linalg.DenseMatrix[Double] =\r\n",
       "4.0  1.0\r\n",
       "1.0  4.0\r\n",
       "Gauss1: breeze.stats.distributions.MultivariateGaussian =\r\n",
       "MultivariateGaussian(DenseVector(1.0, 2.0),2.0  1.0\r\n",
       "1.0  2.0  )\r\n",
       "Gauss2: breeze.stats.distributions.MultivariateGaussian =\r\n",
       "MultivariateGaussian(DenseVector(5.0, 6.0),4.0  1.0\r\n",
       "1.0  4.0  )\r\n",
       "N: Int = 10000\r\n",
       "data: Array[breeze.linalg.DenseVector[Double]] = Array(null, null, null, null, null, null, null, null, null, null, null, null, null, null, null, null, null, null, null, null, null, null, null, null, null, null, null, null, null, null, null, null, null, null, n...\r\n"
      ]
     },
     "execution_count": 11,
     "metadata": {},
     "output_type": "execute_result"
    }
   ],
   "source": [
    "val P=0.4\n",
    "val Mu1=DenseVector(1.0,2.0)\n",
    "val Sig1=DenseMatrix((2.0,1.0),(1.0,2.0))\n",
    "val Mu2=DenseVector(5.0,6.0)\n",
    "val Sig2=DenseMatrix((4.0,1.0),(1.0,4.0))\n",
    "val Gauss1=new MultivariateGaussian(Mu1,Sig1)\n",
    "val Gauss2=new MultivariateGaussian(Mu2,Sig2)\n",
    "val N=10000\n",
    "val data=Array.ofDim[DenseVector[Double]](N)"
   ]
  },
  {
   "cell_type": "code",
   "execution_count": 12,
   "id": "35bdddbc-dbb6-4a79-b14b-1f2bf27bdc89",
   "metadata": {},
   "outputs": [],
   "source": [
    "for (i <- 0 until N){\n",
    "    val db=r.nextDouble\n",
    "    if (db<P){\n",
    "        data(i)=Gauss1.sample(1)(0)\n",
    "    }\n",
    "    else{\n",
    "        data(i)=Gauss2.sample(1)(0)\n",
    "    }\n",
    "}"
   ]
  },
  {
   "cell_type": "markdown",
   "id": "673ea4b8-9e52-4ca4-88bd-ac5b87fbdfea",
   "metadata": {},
   "source": [
    "第四题：EM算法"
   ]
  },
  {
   "cell_type": "code",
   "execution_count": 13,
   "id": "b426e9ef-af71-46e2-be33-5a0967abd60f",
   "metadata": {},
   "outputs": [
    {
     "data": {
      "text/plain": [
       "NumOfSlaves: Int = 4\r\n"
      ]
     },
     "execution_count": 13,
     "metadata": {},
     "output_type": "execute_result"
    }
   ],
   "source": [
    "val NumOfSlaves=4"
   ]
  },
  {
   "cell_type": "code",
   "execution_count": 14,
   "id": "c812ed8b-c71f-4356-a649-5e5d2f5f6100",
   "metadata": {},
   "outputs": [
    {
     "data": {
      "text/plain": [
       "ParData: org.apache.spark.rdd.RDD[breeze.linalg.DenseVector[Double]] = ParallelCollectionRDD[4] at parallelize at <console>:36\r\n"
      ]
     },
     "execution_count": 14,
     "metadata": {},
     "output_type": "execute_result"
    }
   ],
   "source": [
    "var ParData=sc.parallelize(data,NumOfSlaves)"
   ]
  },
  {
   "cell_type": "code",
   "execution_count": 15,
   "id": "c922b60c-c1a3-41c7-82dd-38da0fd371e0",
   "metadata": {},
   "outputs": [
    {
     "data": {
      "text/plain": [
       "ParDataStr: org.apache.spark.rdd.RDD[breeze.linalg.DenseVector[String]] = MapPartitionsRDD[5] at map at <console>:34\r\n"
      ]
     },
     "execution_count": 15,
     "metadata": {},
     "output_type": "execute_result"
    }
   ],
   "source": [
    "val ParDataStr=ParData.map(_.map(\"%.4f\" format _))"
   ]
  },
  {
   "cell_type": "code",
   "execution_count": 16,
   "id": "284adc20-296a-4a98-bf45-9bbcdc26332a",
   "metadata": {},
   "outputs": [
    {
     "data": {
      "text/plain": [
       "ParData: org.apache.spark.rdd.RDD[breeze.linalg.DenseVector[Double]] = MapPartitionsRDD[6] at map at <console>:34\r\n"
      ]
     },
     "execution_count": 16,
     "metadata": {},
     "output_type": "execute_result"
    }
   ],
   "source": [
    "val ParData=ParDataStr.map(_.map(_.toDouble))"
   ]
  },
  {
   "cell_type": "code",
   "execution_count": 17,
   "id": "f609787e-b224-4e55-acc2-778fa0d80826",
   "metadata": {},
   "outputs": [
    {
     "data": {
      "text/plain": [
       "OldEstMu1: breeze.linalg.DenseVector[Double] = DenseVector(0.0, 0.0)\r\n",
       "OldEstMu2: breeze.linalg.DenseVector[Double] = DenseVector(0.0, 0.0)\r\n",
       "OldEstSig1: breeze.linalg.DenseMatrix[Double] =\r\n",
       "0.0  0.0\r\n",
       "0.0  0.0\r\n",
       "OldEstSig2: breeze.linalg.DenseMatrix[Double] =\r\n",
       "0.0  0.0\r\n",
       "0.0  0.0\r\n"
      ]
     },
     "execution_count": 17,
     "metadata": {},
     "output_type": "execute_result"
    }
   ],
   "source": [
    "\n",
    "var OldEstMu1=DenseVector(0.0,0.0)\n",
    "\n",
    "var OldEstMu2=DenseVector(0.0,0.0)\n",
    "\n",
    "var OldEstSig1=DenseMatrix((0.0,0.0),(0.0,0.0))\n",
    "\n",
    "var OldEstSig2=DenseMatrix((0.0,0.0),(0.0,0.0))\n"
   ]
  },
  {
   "cell_type": "code",
   "execution_count": 19,
   "id": "e0427297-2a0f-4906-9dd5-2714e494750e",
   "metadata": {
    "tags": []
   },
   "outputs": [
    {
     "data": {
      "text/plain": [
       "N: Int = 10000\r\n",
       "ii: Int = 84\r\n",
       "InitialP: Double = 0.5\r\n",
       "Nk: Double = 3975.6593896902805\r\n",
       "EstMu1: breeze.linalg.DenseVector[Double] = DenseVector(0.9852777417841428, 1.9823078634244906)\r\n",
       "EstSig1: breeze.linalg.DenseMatrix[Double] =\r\n",
       "1.900300086136207   0.9642749015263845\r\n",
       "0.9642749015263845  2.039952538068606\r\n",
       "EstMu2: breeze.linalg.DenseVector[Double] = DenseVector(4.936636059974379, 5.938729023437513)\r\n",
       "EstSig2: breeze.linalg.DenseMatrix[Double] =\r\n",
       "3.9502062463680083  1.0708802560243207\r\n",
       "1.0708802560243207  4.143313442837368\r\n",
       "Diff: Double = 9.93307429199155E-8\r\n",
       "eps: Double = 1.0E-7\r\n"
      ]
     },
     "execution_count": 19,
     "metadata": {},
     "output_type": "execute_result"
    }
   ],
   "source": [
    "//jupyter特性：调用的某些变量一定要放到一个格子(cell)里面定义，否则无法序列化的\n",
    "val N=10000\n",
    "\n",
    "var ii=0\n",
    "\n",
    "val InitialP=0.5\n",
    "\n",
    "var Nk=N.toDouble*InitialP\n",
    "\n",
    "var EstMu1=ParData.reduce((x,y) => (x+y))/N.toDouble\n",
    "\n",
    "var EstSig1=(ParData.map(x => x*x.t).reduce((x,y) => x+y)/N.toDouble-EstMu1*EstMu1.t)\n",
    "\n",
    "var EstMu2=EstMu1+1.0   //这里的相对大小一定要对，这都不对还怎么区分这两个分布呢\n",
    "\n",
    "var EstSig2=EstSig1\n",
    "\n",
    "var Diff=1.0\n",
    "\n",
    "val eps=0.0000001\n",
    "do{\n",
    "    ii+=1\n",
    "    OldEstMu1=EstMu1\n",
    "    OldEstMu2=EstMu2\n",
    "    OldEstSig1=EstSig1\n",
    "    OldEstSig2=EstSig2\n",
    "    var SufficientStatistics=ParData.map(line => {\n",
    "        val x2= -(line-EstMu1).t*inv(EstSig1)*(line-EstMu1)/2\n",
    "        val x1= -(line-EstMu2).t*inv(EstSig2)*(line-EstMu2)/2\n",
    "        val gamma= Nk*math.pow(det(EstSig1),-0.5)/(Nk*math.pow(det(EstSig1),-0.5)+(N-Nk)*math.pow(det(EstSig2),-0.5)*math.exp(x1-x2))\n",
    "        (line,gamma,line*gamma,line*line.t*gamma,1-gamma,line*(1-gamma),line*line.t*(1-gamma))\n",
    "    })\n",
    "    val Results=SufficientStatistics.reduce((x,y) => (x._1+y._1,x._2+y._2,x._3+y._3,x._4+y._4,x._5+y._5,x._6+y._6,x._7+y._7))\n",
    "    Nk=Results._2\n",
    "    EstMu1=Results._3/Nk\n",
    "    EstSig1=Results._4/Nk-EstMu1*EstMu1.t\n",
    "    EstMu2=Results._6/Results._5\n",
    "    EstSig2=Results._7/Results._5-EstMu2*EstMu2.t\n",
    "    Diff=(EstMu1-OldEstMu1).t*(EstMu1-OldEstMu1)+(EstMu2-OldEstMu2).t*(EstMu2-OldEstMu2)\n",
    "    Diff+=(EstSig1-OldEstSig1).toDenseVector.t*(EstSig1-OldEstSig1).toDenseVector+(EstSig2-OldEstSig2).toDenseVector.t*(EstSig2-OldEstSig2).toDenseVector\n",
    "}while(Diff>eps)"
   ]
  },
  {
   "cell_type": "code",
   "execution_count": 20,
   "id": "5cadc91e-520c-4c61-a872-2b92af75f41c",
   "metadata": {},
   "outputs": [
    {
     "name": "stdout",
     "output_type": "stream",
     "text": [
      "DenseVector(0.9852777417841428, 1.9823078634244906)\n",
      "1.900300086136207   0.9642749015263845  \n",
      "0.9642749015263845  2.039952538068606   \n",
      "DenseVector(4.936636059974379, 5.938729023437513)\n",
      "3.9502062463680083  1.0708802560243207  \n",
      "1.0708802560243207  4.143313442837368   \n"
     ]
    }
   ],
   "source": [
    "println(EstMu1)\n",
    "println(EstSig1)\n",
    "println(EstMu2)\n",
    "println(EstSig2)"
   ]
  },
  {
   "cell_type": "code",
   "execution_count": 22,
   "id": "66b185e3-eb1f-40a3-a02d-ef9ec9a20cf1",
   "metadata": {},
   "outputs": [
    {
     "name": "stdout",
     "output_type": "stream",
     "text": [
      "DenseVector(1.0, 2.0)\n",
      "2.0  1.0  \n",
      "1.0  2.0  \n",
      "DenseVector(5.0, 6.0)\n",
      "4.0  1.0  \n",
      "1.0  4.0  \n"
     ]
    }
   ],
   "source": [
    "println(Mu1)\n",
    "println(Sig1)\n",
    "println(Mu2)\n",
    "println(Sig2)"
   ]
  },
  {
   "cell_type": "code",
   "execution_count": null,
   "id": "1cb77bcd-1a58-447c-adfc-e29161c203d8",
   "metadata": {},
   "outputs": [],
   "source": []
  }
 ],
 "metadata": {
  "kernelspec": {
   "display_name": "spylon-kernel",
   "language": "scala",
   "name": "spylon-kernel"
  },
  "language_info": {
   "codemirror_mode": "text/x-scala",
   "file_extension": ".scala",
   "help_links": [
    {
     "text": "MetaKernel Magics",
     "url": "https://metakernel.readthedocs.io/en/latest/source/README.html"
    }
   ],
   "mimetype": "text/x-scala",
   "name": "scala",
   "pygments_lexer": "scala",
   "version": "0.4.1"
  }
 },
 "nbformat": 4,
 "nbformat_minor": 5
}
