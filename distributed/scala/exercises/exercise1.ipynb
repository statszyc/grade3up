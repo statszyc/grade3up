{
 "cells": [
  {
   "cell_type": "markdown",
   "metadata": {},
   "source": [
    "第一题"
   ]
  },
  {
   "cell_type": "code",
   "execution_count": 2,
   "metadata": {},
   "outputs": [
    {
     "name": "stdout",
     "output_type": "stream",
     "text": [
      "2500\n"
     ]
    },
    {
     "data": {
      "text/plain": [
       "sum: Int = 2500\r\n"
      ]
     },
     "execution_count": 2,
     "metadata": {},
     "output_type": "execute_result"
    }
   ],
   "source": [
    "var sum=0\n",
    "for(i<- 1 until 100 if i%2 !=0)sum+=i\n",
    "println(sum)"
   ]
  },
  {
   "cell_type": "markdown",
   "metadata": {},
   "source": [
    "则100以内所有奇数的总和为2500"
   ]
  },
  {
   "cell_type": "markdown",
   "metadata": {},
   "source": [
    "第二题"
   ]
  },
  {
   "cell_type": "code",
   "execution_count": 4,
   "metadata": {},
   "outputs": [
    {
     "name": "stdout",
     "output_type": "stream",
     "text": [
      "5.187377517639621\n"
     ]
    },
    {
     "data": {
      "text/plain": [
       "sum: Double = 5.187377517639621\r\n"
      ]
     },
     "execution_count": 4,
     "metadata": {},
     "output_type": "execute_result"
    }
   ],
   "source": [
    "var sum=0.0  //初值一定要赋0.0\n",
    "for(i<- 1 to 100)sum+=1.0/i.toDouble\n",
    "println(sum)"
   ]
  },
  {
   "cell_type": "markdown",
   "metadata": {},
   "source": [
    "则待求结果为5.187377517639621"
   ]
  },
  {
   "cell_type": "markdown",
   "metadata": {},
   "source": [
    "第三题"
   ]
  },
  {
   "cell_type": "code",
   "execution_count": 8,
   "metadata": {},
   "outputs": [
    {
     "data": {
      "text/plain": [
       "fac: (n: Int)Long\r\n",
       "res7: Long = 1307674368000\r\n"
      ]
     },
     "execution_count": 8,
     "metadata": {},
     "output_type": "execute_result"
    }
   ],
   "source": [
    "def fac(n:Int):Long={  //一定要写Long\n",
    "    if(n>1) n*fac(n-1)\n",
    "    else 1   //不能写两个if...\n",
    "}\n",
    "fac(15)"
   ]
  },
  {
   "cell_type": "markdown",
   "metadata": {},
   "source": [
    "则15!=1307674368000"
   ]
  },
  {
   "cell_type": "markdown",
   "metadata": {},
   "source": [
    "第四题"
   ]
  },
  {
   "cell_type": "code",
   "execution_count": 18,
   "metadata": {},
   "outputs": [
    {
     "data": {
      "text/plain": [
       "feb: (n: Int)Long\r\n",
       "res8: Long = 102334155\r\n"
      ]
     },
     "execution_count": 18,
     "metadata": {},
     "output_type": "execute_result"
    }
   ],
   "source": [
    "def feb(n:Int):Long={\n",
    "    if(n>1) feb(n-1)+feb(n-2)\n",
    "    else if(n==1) 1 \n",
    "    else 0\n",
    "}\n",
    "feb(40)"
   ]
  },
  {
   "cell_type": "markdown",
   "metadata": {},
   "source": [
    "则斐波那契数列第四十项的值为102334155"
   ]
  },
  {
   "cell_type": "markdown",
   "metadata": {},
   "source": [
    "第五题"
   ]
  },
  {
   "cell_type": "code",
   "execution_count": 45,
   "metadata": {},
   "outputs": [
    {
     "data": {
      "text/plain": [
       "rdd: org.apache.spark.rdd.RDD[Int] = ParallelCollectionRDD[30] at parallelize at <console>:36\r\n",
       "sum: Int = 100\r\n",
       "rdd1: org.apache.spark.rdd.RDD[Double] = MapPartitionsRDD[31] at map at <console>:38\r\n",
       "rdd2: org.apache.spark.rdd.RDD[Double] = MapPartitionsRDD[32] at map at <console>:39\r\n",
       "sum1: Double = 330.0\r\n",
       "out: Double = 36.666666666666664\r\n"
      ]
     },
     "execution_count": 45,
     "metadata": {},
     "output_type": "execute_result"
    }
   ],
   "source": [
    "val rdd=sc.parallelize(Array(1,3,5,7,9,11,13,15,17,19))\n",
    "val sum=rdd.reduce((x,y)=>x+y)\n",
    "val rdd1=rdd.map(x=>x-sum.toDouble/10.0)\n",
    "val rdd2=rdd1.map(x=>x*x)\n",
    "val sum1=rdd2.reduce((x,y)=>x+y)\n",
    "val out=sum1.toDouble/9.0"
   ]
  },
  {
   "cell_type": "markdown",
   "metadata": {},
   "source": [
    "则原数据的样本方差为36.666666666666664"
   ]
  },
  {
   "cell_type": "markdown",
   "metadata": {},
   "source": [
    "第六题"
   ]
  },
  {
   "cell_type": "code",
   "execution_count": 10,
   "metadata": {},
   "outputs": [
    {
     "data": {
      "text/plain": [
       "import breeze.linalg._\r\n",
       "x0: breeze.linalg.DenseVector[Int] = DenseVector(4, 5, 3, 7, 4, 2, 7, 8, 2, 4, 6, 9, 3, 3, 76, 8)\r\n",
       "cf: (v: breeze.linalg.DenseVector[Int], k: Int)breeze.linalg.DenseVector[Int]\r\n",
       "res6: breeze.linalg.DenseVector[Int] = DenseVector(43, -23, -15, 25, 10, -41, 32, -20, 36, 27, -333)\r\n"
      ]
     },
     "execution_count": 10,
     "metadata": {},
     "output_type": "execute_result"
    }
   ],
   "source": [
    "import breeze.linalg._\n",
    "var x0=DenseVector(Array(1,5,3,7,4,2,7,8,2,4,6,9,3,3,76,8))\n",
    "def cf(v:DenseVector[Int],k:Int):DenseVector[Int]={  //DenseVector一定要写中括号及元素类型！\n",
    "    if(k==0) v\n",
    "    else {\n",
    "        val x1=cf(v,k-1)\n",
    "        // v(0)s\n",
    "        x1(1 to x1.length-1)-x1(0 to x1.length-2)\n",
    "    }\n",
    "}\n",
    "cf(x0,5)"
   ]
  },
  {
   "cell_type": "code",
   "execution_count": 11,
   "metadata": {},
   "outputs": [
    {
     "data": {
      "text/plain": [
       "res7: breeze.linalg.DenseVector[Int] = DenseVector(4, 5, 3, 7, 4, 2, 7, 8, 2, 4, 6, 9, 3, 3, 76, 8)\r\n"
      ]
     },
     "execution_count": 11,
     "metadata": {},
     "output_type": "execute_result"
    }
   ],
   "source": [
    "x0"
   ]
  },
  {
   "cell_type": "markdown",
   "metadata": {},
   "source": [
    "则题中向量的5阶差分为(46, -23, -15, 25, 10, -41, 32, -20, 36, 27, -333)"
   ]
  }
 ],
 "metadata": {
  "kernelspec": {
   "display_name": "spylon-kernel",
   "language": "scala",
   "name": "spylon-kernel"
  },
  "language_info": {
   "codemirror_mode": "text/x-scala",
   "file_extension": ".scala",
   "help_links": [
    {
     "text": "MetaKernel Magics",
     "url": "https://metakernel.readthedocs.io/en/latest/source/README.html"
    }
   ],
   "mimetype": "text/x-scala",
   "name": "scala",
   "pygments_lexer": "scala",
   "version": "0.4.1"
  },
  "orig_nbformat": 4
 },
 "nbformat": 4,
 "nbformat_minor": 2
}
