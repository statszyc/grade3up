{
 "cells": [
  {
   "cell_type": "markdown",
   "metadata": {},
   "source": [
    "## 函数与层"
   ]
  },
  {
   "cell_type": "code",
   "execution_count": 1,
   "metadata": {},
   "outputs": [],
   "source": [
    "#参考资料：《深度学习入门：基于python的理论与实现（斋藤康毅）》\n",
    "#均为一行一个样本\n",
    "\n",
    "from mnist import load_mnist\n",
    "import numpy as np\n",
    "from collections import OrderedDict\n",
    "\n",
    "\n",
    "def softmax(x):\n",
    "    if x.ndim == 2: #x维度为2，即x为矩阵时\n",
    "        x = x.T\n",
    "        x = x - np.max(x, axis=0)  #不论是axis=0还是axis=1，np.max(x, axis=xx)出来必为一个行向量，所以要转置再转置\n",
    "        y = np.exp(x) / np.sum(np.exp(x), axis=0)\n",
    "        return y.T\n",
    "    #若不加上面的if这一段，则很可能会溢出，导致模型表现极差\n",
    "    x = x - np.max(x) # 溢出对策\n",
    "    return np.exp(x) / np.sum(np.exp(x))\n",
    "\n",
    "def cross_entropy_error(y, t):\n",
    "    if y.ndim == 1:\n",
    "        t = t.reshape(1, t.size)\n",
    "        y = y.reshape(1, y.size)\n",
    "        \n",
    "    # 监督数据是one-hot-vector的情况下，转换为正确解标签的索引\n",
    "    if t.size == y.size:\n",
    "        t = t.argmax(axis=1)  #y的一行变成一个数\n",
    "             \n",
    "    batch_size = y.shape[0] #0轴维度，即行数\n",
    "    # print(-np.sum(np.log(y[np.arange(batch_size), t] + 1e-7)) / batch_size)\n",
    "    return -np.sum(np.log(y[np.arange(batch_size), t] + 1e-7)) / batch_size #平均：输出每个样本的交叉熵。y是样本行排的概率阵。\n",
    "\n",
    "class Relu:\n",
    "    def __init__(self):\n",
    "        self.mask = None\n",
    "\n",
    "    def forward(self, x):\n",
    "        self.mask = (x <= 0)  #非正的位置\n",
    "        out = x.copy()\n",
    "        out[self.mask] = 0  #非正的元素设为0，其他不变\n",
    "\n",
    "        return out\n",
    "\n",
    "    def backward(self, dout):\n",
    "        dout[self.mask] = 0\n",
    "        dx = dout\n",
    "\n",
    "        return dx\n",
    "\n",
    "\n",
    "class Affine:\n",
    "    def __init__(self, W, b):\n",
    "        self.W =W\n",
    "        self.b = b\n",
    "        \n",
    "        self.x = None\n",
    "        self.original_x_shape = None\n",
    "        # 权重和偏置参数的导数\n",
    "        self.dW = None\n",
    "        self.db = None\n",
    "\n",
    "    def forward(self, x):\n",
    "       \n",
    "        self.x = x\n",
    "\n",
    "        out = np.dot(self.x, self.W) + self.b  #因为这里是样本行排的（一行一个样本）\n",
    "\n",
    "        return out\n",
    "\n",
    "    def backward(self, dout):\n",
    "        dx = np.dot(dout, self.W.T)\n",
    "        self.dW = np.dot(self.x.T, dout)\n",
    "        self.db = np.sum(dout, axis=0)\n",
    "        \n",
    "        return dx\n",
    "\n",
    "\n",
    "class SoftmaxWithLoss:\n",
    "    def __init__(self):\n",
    "        self.loss = None\n",
    "        self.y = None # softmax的输出\n",
    "        self.t = None # 监督数据\n",
    "\n",
    "    def forward(self, x, t):\n",
    "        self.t = t\n",
    "        self.y = softmax(x)\n",
    "        self.loss = cross_entropy_error(self.y, self.t)\n",
    "        \n",
    "        return self.loss\n",
    "\n",
    "    def backward(self, dout=1):\n",
    "        batch_size = self.t.shape[0]\n",
    "        if self.t.size == self.y.size: # 监督数据是one-hot-vector的情况，t有一个值为1\n",
    "            dx = (self.y - self.t) / batch_size  #反向时为：y-t\n",
    "        else:\n",
    "            dx = self.y.copy()\n",
    "            dx[np.arange(batch_size), self.t] -= 1  #相当于onehot时的y-t，这个1就是在模拟onehot里面的那个1\n",
    "            dx = dx / batch_size  #平均\n",
    "        \n",
    "        return dx"
   ]
  },
  {
   "cell_type": "markdown",
   "metadata": {},
   "source": [
    "## 二层网络"
   ]
  },
  {
   "cell_type": "code",
   "execution_count": 10,
   "metadata": {},
   "outputs": [
    {
     "name": "stdout",
     "output_type": "stream",
     "text": [
      "0.14741666666666667 0.1473\n",
      "0.9048 0.9077\n",
      "0.9246 0.9254\n",
      "0.93435 0.9333\n",
      "0.94595 0.943\n",
      "0.9495166666666667 0.9465\n",
      "0.9554166666666667 0.9508\n",
      "0.9599 0.9566\n",
      "0.963 0.9585\n",
      "0.9653166666666667 0.9605\n",
      "0.968 0.9621\n",
      "0.97045 0.9628\n",
      "0.9724166666666667 0.9655\n",
      "0.9743166666666667 0.9668\n",
      "0.9745833333333334 0.9672\n",
      "0.9769666666666666 0.9675\n",
      "0.9788666666666667 0.9682\n"
     ]
    },
    {
     "data": {
      "text/plain": [
       "[<matplotlib.lines.Line2D at 0x1a3744612d0>]"
      ]
     },
     "execution_count": 10,
     "metadata": {},
     "output_type": "execute_result"
    },
    {
     "data": {
      "image/png": "[encoded data removed]",
      "text/plain": [
       "<Figure size 640x480 with 1 Axes>"
      ]
     },
     "metadata": {},
     "output_type": "display_data"
    }
   ],
   "source": [
    "class TwoLayerNet:\n",
    "\n",
    "    def __init__(self, input_size, hidden_size, output_size, weight_init_std = 0.01):\n",
    "        # 初始化权重：用随机的小值\n",
    "        self.params = {}\n",
    "        self.params['W1'] = weight_init_std * np.random.randn(input_size, hidden_size)\n",
    "        self.params['b1'] = np.zeros(hidden_size)\n",
    "        self.params['W2'] = weight_init_std * np.random.randn(hidden_size, output_size) \n",
    "        self.params['b2'] = np.zeros(output_size)\n",
    "\n",
    "        # 生成层\n",
    "        self.layers = OrderedDict()  #有序字典\n",
    "        self.layers['Affine1'] = Affine(self.params['W1'], self.params['b1'])\n",
    "        self.layers['Relu1'] = Relu()\n",
    "        self.layers['Affine2'] = Affine(self.params['W2'], self.params['b2'])\n",
    "\n",
    "        self.lastLayer = SoftmaxWithLoss()\n",
    "        \n",
    "    def predict(self, x):\n",
    "        for layer in self.layers.values():  #类对象组成的列表\n",
    "            x = layer.forward(x)\n",
    "        \n",
    "        return x\n",
    "        \n",
    "    # x:输入数据, t:监督数据\n",
    "    def loss(self, x, t):\n",
    "        y = self.predict(x)\n",
    "        return self.lastLayer.forward(y, t)\n",
    "    \n",
    "    def accuracy(self, x, t):\n",
    "        y = self.predict(x)\n",
    "        y = np.argmax(y, axis=1)\n",
    "        if t.ndim != 1 : \n",
    "            t = np.argmax(t, axis=1)  #将概率值最大的那个位置对应的类作为最终的预测结果\n",
    "        \n",
    "        accuracy = np.sum(y == t) / float(x.shape[0])  #算出吻合度\n",
    "        return accuracy\n",
    "        \n",
    "    def gradient(self, x, t):\n",
    "        # forward\n",
    "        self.loss(x, t) #前向传播一次，返回最后一层的输出值（交叉熵）\n",
    "\n",
    "        # backward\n",
    "        dout = 1  #最后一层返回的误差项为1（其他情况未讨论）\n",
    "        dout = self.lastLayer.backward(dout)\n",
    "        \n",
    "        layers = list(self.layers.values())\n",
    "        layers.reverse()  #反向传播\n",
    "        for layer in layers:\n",
    "            dout = layer.backward(dout)\n",
    "\n",
    "        # 设定\n",
    "        grads = {}\n",
    "        grads['W1'], grads['b1'] = self.layers['Affine1'].dW, self.layers['Affine1'].db\n",
    "        grads['W2'], grads['b2'] = self.layers['Affine2'].dW, self.layers['Affine2'].db\n",
    "\n",
    "        return grads\n",
    "\n",
    "\n",
    "# 读入数据\n",
    "(x_train, t_train), (x_test, t_test) = load_mnist(normalize=True, one_hot_label=True)\n",
    "\n",
    "network = TwoLayerNet(input_size=784, hidden_size=50, output_size=10)\n",
    "\n",
    "iters_num = 10000\n",
    "train_size = x_train.shape[0]\n",
    "batch_size = 100  #每次循环为100个样本一起跑\n",
    "learning_rate = 0.1\n",
    "\n",
    "train_loss_list2 = []\n",
    "train_acc_list2 = []\n",
    "test_acc_list2 = []\n",
    "\n",
    "iter_per_epoch = max(train_size / batch_size, 1)  #跑完所有样本所需要循环的次数\n",
    "\n",
    "for i in range(iters_num):\n",
    "    batch_mask = np.random.choice(train_size, batch_size)  #随机选下标\n",
    "    x_batch = x_train[batch_mask]  #选出batch\n",
    "    t_batch = t_train[batch_mask]\n",
    "    \n",
    "    # 梯度\n",
    "    #grad = network.numerical_gradient(x_batch, t_batch)\n",
    "    grad = network.gradient(x_batch, t_batch) #前一次，后一次\n",
    "    \n",
    "    # 更新\n",
    "    for key in ('W1','b1','W2','b2'):\n",
    "        network.params[key] -= learning_rate * grad[key]\n",
    "    \n",
    "    loss = network.loss(x_batch, t_batch)\n",
    "    train_loss_list2.append(loss)\n",
    "    \n",
    "    if i % iter_per_epoch == 0:\n",
    "        train_acc = network.accuracy(x_train, t_train)\n",
    "        test_acc = network.accuracy(x_test, t_test)  #每次epoch就来进行一次测试\n",
    "        train_acc_list2.append(train_acc)\n",
    "        test_acc_list2.append(test_acc)\n",
    "        print(train_acc, test_acc)\n",
    "import matplotlib.pyplot as plt\n",
    "plt.cla()\n",
    "plt.plot(train_loss_list2)"
   ]
  },
  {
   "cell_type": "markdown",
   "metadata": {},
   "source": [
    "## 三层网络"
   ]
  },
  {
   "cell_type": "code",
   "execution_count": 2,
   "metadata": {},
   "outputs": [
    {
     "name": "stdout",
     "output_type": "stream",
     "text": [
      "0.11236666666666667 0.1135\n",
      "0.8750833333333333 0.8804\n",
      "0.9155166666666666 0.9138\n",
      "0.9464666666666667 0.944\n",
      "0.95855 0.9553\n",
      "0.96775 0.9641\n",
      "0.9736333333333334 0.9662\n",
      "0.97845 0.9704\n",
      "0.9822333333333333 0.9721\n",
      "0.98525 0.9742\n",
      "0.9858 0.9753\n",
      "0.9876166666666667 0.9752\n",
      "0.9880166666666667 0.9748\n",
      "0.9904333333333334 0.9755\n",
      "0.9926833333333334 0.978\n",
      "0.99285 0.9782\n",
      "0.99465 0.979\n"
     ]
    },
    {
     "data": {
      "text/plain": [
       "[<matplotlib.lines.Line2D at 0x258bec56e30>]"
      ]
     },
     "execution_count": 2,
     "metadata": {},
     "output_type": "execute_result"
    },
    {
     "data": {
      "image/png": "[encoded data removed]",
      "text/plain": [
       "<Figure size 640x480 with 1 Axes>"
      ]
     },
     "metadata": {},
     "output_type": "display_data"
    }
   ],
   "source": [
    "class ThreeLayerNet:\n",
    "\n",
    "    def __init__(self, input_size,hsize1,hsize2,output_size,weight_init_std=0.01):\n",
    "        # 初始化权重\n",
    "        self.params = {}\n",
    "        self.params[\"W1\"]=weight_init_std*np.random.randn(input_size,hsize1)\n",
    "        self.params[\"b1\"]=np.zeros(hsize1)\n",
    "        self.params[\"W2\"]=weight_init_std*np.random.randn(hsize1,hsize2)\n",
    "        self.params[\"b2\"]=np.zeros(hsize2)\n",
    "        self.params[\"W3\"]=weight_init_std*np.random.randn(hsize2,output_size)\n",
    "        self.params[\"b3\"]=np.zeros(output_size)\n",
    "\n",
    "        # 生成层\n",
    "        self.layers=OrderedDict()  #有序字典\n",
    "        self.layers[\"Affine1\"]=Affine(self.params[\"W1\"],self.params[\"b1\"])\n",
    "        self.layers['Relu1']=Relu()\n",
    "        self.layers[\"Affine2\"]=Affine(self.params[\"W2\"],self.params[\"b2\"])\n",
    "        self.layers['Relu2']=Relu()\n",
    "        self.layers[\"Affine3\"]=Affine(self.params[\"W3\"],self.params[\"b3\"])\n",
    "        self.lastLayer=SoftmaxWithLoss()\n",
    "\n",
    "        \n",
    "    def predict(self, x):\n",
    "        for layer in self.layers.values():\n",
    "            x = layer.forward(x)\n",
    "        \n",
    "        return x\n",
    "        \n",
    "    # x:输入数据, t:监督数据\n",
    "    def loss(self, x, t):\n",
    "        y = self.predict(x)\n",
    "        return self.lastLayer.forward(y, t)\n",
    "    \n",
    "    def accuracy(self, x, t):\n",
    "        y = self.predict(x)\n",
    "        y = np.argmax(y, axis=1)\n",
    "        if t.ndim != 1 : \n",
    "            t = np.argmax(t, axis=1)\n",
    "        \n",
    "        accuracy = np.sum(y == t) / float(x.shape[0])\n",
    "        return accuracy\n",
    "        \n",
    " \n",
    "    def gradient(self, x, t):\n",
    "        # forward\n",
    "        self.loss(x, t)\n",
    "\n",
    "        # backward\n",
    "        dout = 1\n",
    "        dout = self.lastLayer.backward(dout)\n",
    "        \n",
    "        layers = list(self.layers.values())\n",
    "        layers.reverse()\n",
    "        for layer in layers:\n",
    "            dout = layer.backward(dout)\n",
    "\n",
    "        # 设定\n",
    "        grads = {}\n",
    "        grads['W1']=self.layers['Affine1'].dW\n",
    "        grads[\"b1\"]=self.layers['Affine1'].db\n",
    "        grads['W2']=self.layers['Affine2'].dW\n",
    "        grads[\"b2\"]=self.layers['Affine2'].db\n",
    "        grads['W3']=self.layers['Affine3'].dW\n",
    "        grads[\"b3\"]=self.layers['Affine3'].db\n",
    "        return grads\n",
    "# 读入数据\n",
    "(x_train, t_train), (x_test, t_test) = load_mnist(normalize=True, one_hot_label=True)\n",
    "\n",
    "network = ThreeLayerNet(784,250,250,10) #多给点\n",
    "\n",
    "iters_num = 10000\n",
    "train_size = x_train.shape[0]\n",
    "batch_size = 100\n",
    "learning_rate = 0.1\n",
    "\n",
    "train_loss_list3 = []\n",
    "train_acc_list3 = []\n",
    "test_acc_list3 = []\n",
    "\n",
    "iter_per_epoch = max(train_size / batch_size, 1)\n",
    "\n",
    "for i in range(iters_num):\n",
    "    batch_mask = np.random.choice(train_size, batch_size)\n",
    "    x_batch = x_train[batch_mask]\n",
    "    t_batch = t_train[batch_mask]\n",
    "    \n",
    "    # 梯度\n",
    "    #grad = network.numerical_gradient(x_batch, t_batch)\n",
    "    grad = network.gradient(x_batch, t_batch)\n",
    "    \n",
    "    # 更新\n",
    "    for key in ('W1','b1','W2','b2','W3','b3'):\n",
    "        network.params[key] -= learning_rate * grad[key]\n",
    "    \n",
    "    loss = network.loss(x_batch, t_batch)\n",
    "    train_loss_list3.append(loss)\n",
    "    \n",
    "    if i % iter_per_epoch == 0:\n",
    "        train_acc = network.accuracy(x_train, t_train)\n",
    "        test_acc = network.accuracy(x_test, t_test)\n",
    "        train_acc_list3.append(train_acc)\n",
    "        test_acc_list3.append(test_acc)\n",
    "        print(train_acc, test_acc)\n",
    "import matplotlib.pyplot as plt\n",
    "plt.cla()\n",
    "plt.plot(train_loss_list3)"
   ]
  },
  {
   "cell_type": "markdown",
   "metadata": {},
   "source": [
    "## 四层网络"
   ]
  },
  {
   "cell_type": "code",
   "execution_count": 12,
   "metadata": {},
   "outputs": [
    {
     "name": "stdout",
     "output_type": "stream",
     "text": [
      "0.09751666666666667 0.0974\n",
      "0.11236666666666667 0.1135\n",
      "0.11236666666666667 0.1135\n",
      "0.11236666666666667 0.1135\n",
      "0.11236666666666667 0.1135\n",
      "0.11236666666666667 0.1135\n",
      "0.11236666666666667 0.1135\n",
      "0.11236666666666667 0.1135\n",
      "0.11236666666666667 0.1135\n",
      "0.11236666666666667 0.1135\n",
      "0.11236666666666667 0.1135\n",
      "0.11236666666666667 0.1135\n",
      "0.11236666666666667 0.1135\n",
      "0.11236666666666667 0.1135\n",
      "0.11236666666666667 0.1135\n",
      "0.11236666666666667 0.1135\n",
      "0.11236666666666667 0.1135\n",
      "0.11236666666666667 0.1135\n",
      "0.36778333333333335 0.3618\n",
      "0.64955 0.6374\n",
      "0.86465 0.866\n",
      "0.9045166666666666 0.9008\n",
      "0.8939166666666667 0.89\n",
      "0.9307333333333333 0.9253\n",
      "0.939 0.9356\n",
      "0.9365 0.9286\n",
      "0.9399833333333333 0.9355\n",
      "0.9434833333333333 0.939\n",
      "0.9491 0.9411\n",
      "0.9521333333333334 0.946\n",
      "0.9511 0.9423\n",
      "0.9552333333333334 0.9466\n",
      "0.9545833333333333 0.9437\n",
      "0.9603333333333334 0.9482\n"
     ]
    },
    {
     "data": {
      "text/plain": [
       "[<matplotlib.lines.Line2D at 0x1a374c55d80>]"
      ]
     },
     "execution_count": 12,
     "metadata": {},
     "output_type": "execute_result"
    },
    {
     "data": {
      "image/png": "[encoded data removed]",
      "text/plain": [
       "<Figure size 640x480 with 1 Axes>"
      ]
     },
     "metadata": {},
     "output_type": "display_data"
    }
   ],
   "source": [
    "class FourLayerNet:\n",
    "\n",
    "    def __init__(self, input_size,hsize1,hsize2,hsize3,output_size,weight_init_std=0.01):\n",
    "        # 初始化权重\n",
    "        self.params = {}\n",
    "        self.params[\"W1\"]=weight_init_std*np.random.randn(input_size,hsize1)\n",
    "        self.params[\"b1\"]=np.zeros(hsize1)\n",
    "        self.params[\"W2\"]=weight_init_std*np.random.randn(hsize1,hsize2)\n",
    "        self.params[\"b2\"]=np.zeros(hsize2)\n",
    "        self.params[\"W3\"]=weight_init_std*np.random.randn(hsize2,hsize3)\n",
    "        self.params[\"b3\"]=np.zeros(hsize3)\n",
    "        self.params[\"W4\"]=weight_init_std*np.random.randn(hsize3,output_size)\n",
    "        self.params[\"b4\"]=np.zeros(output_size)\n",
    "\n",
    "        # 生成层\n",
    "        self.layers=OrderedDict()  #有序字典\n",
    "        self.layers[\"Affine1\"]=Affine(self.params[\"W1\"],self.params[\"b1\"])\n",
    "        self.layers['Relu1']=Relu()\n",
    "        self.layers[\"Affine2\"]=Affine(self.params[\"W2\"],self.params[\"b2\"])\n",
    "        self.layers['Relu2']=Relu()\n",
    "        self.layers[\"Affine3\"]=Affine(self.params[\"W3\"],self.params[\"b3\"])\n",
    "        self.layers['Relu3']=Relu()\n",
    "        self.layers[\"Affine4\"]=Affine(self.params[\"W4\"],self.params[\"b4\"])\n",
    "        self.lastLayer=SoftmaxWithLoss()\n",
    "\n",
    "        \n",
    "    def predict(self, x):\n",
    "        for layer in self.layers.values():\n",
    "            x = layer.forward(x)\n",
    "        \n",
    "        return x\n",
    "        \n",
    "    # x:输入数据, t:监督数据\n",
    "    def loss(self, x, t):\n",
    "        y = self.predict(x)\n",
    "        return self.lastLayer.forward(y, t)\n",
    "    \n",
    "    def accuracy(self, x, t):\n",
    "        y = self.predict(x)\n",
    "        y = np.argmax(y, axis=1)\n",
    "        if t.ndim != 1 : \n",
    "            t = np.argmax(t, axis=1)\n",
    "        \n",
    "        accuracy = np.sum(y == t) / float(x.shape[0])\n",
    "        return accuracy\n",
    "        \n",
    " \n",
    "    def gradient(self, x, t):\n",
    "        # forward\n",
    "        self.loss(x, t)\n",
    "\n",
    "        # backward\n",
    "        dout = 1\n",
    "        dout = self.lastLayer.backward(dout)\n",
    "        \n",
    "        layers = list(self.layers.values())\n",
    "        layers.reverse()\n",
    "        for layer in layers:\n",
    "            dout = layer.backward(dout)\n",
    "\n",
    "        # 设定\n",
    "        grads = {}\n",
    "        grads['W1']=self.layers['Affine1'].dW\n",
    "        grads[\"b1\"]=self.layers['Affine1'].db\n",
    "        grads['W2']=self.layers['Affine2'].dW\n",
    "        grads[\"b2\"]=self.layers['Affine2'].db\n",
    "        grads['W3']=self.layers['Affine3'].dW\n",
    "        grads[\"b3\"]=self.layers['Affine3'].db\n",
    "        grads['W4']=self.layers['Affine4'].dW\n",
    "        grads[\"b4\"]=self.layers['Affine4'].db\n",
    "        return grads\n",
    "\n",
    "\n",
    "# 读入数据\n",
    "(x_train, t_train), (x_test, t_test) = load_mnist(normalize=True, one_hot_label=True)\n",
    "\n",
    "network = FourLayerNet(784,20,20,20,10)\n",
    "\n",
    "iters_num = 20000 #可能20000~30000差不多\n",
    "train_size = x_train.shape[0]\n",
    "batch_size = 100\n",
    "learning_rate = 0.1\n",
    "\n",
    "train_loss_list4 = []\n",
    "train_acc_list4 = []\n",
    "test_acc_list4 = []\n",
    "\n",
    "iter_per_epoch = max(train_size / batch_size, 1)\n",
    "\n",
    "for i in range(iters_num):\n",
    "    batch_mask = np.random.choice(train_size, batch_size)\n",
    "    x_batch = x_train[batch_mask]\n",
    "    t_batch = t_train[batch_mask]\n",
    "    \n",
    "    # 梯度\n",
    "    #grad = network.numerical_gradient(x_batch, t_batch)\n",
    "    grad = network.gradient(x_batch, t_batch)\n",
    "    \n",
    "    # 更新\n",
    "    for key in ('W1','b1','W2','b2','W3','b3','W4','b4'):\n",
    "        network.params[key] -= learning_rate * grad[key]\n",
    "    \n",
    "    loss = network.loss(x_batch, t_batch)\n",
    "    train_loss_list4.append(loss)\n",
    "    \n",
    "    if i % iter_per_epoch == 0:\n",
    "        train_acc = network.accuracy(x_train, t_train)\n",
    "        test_acc = network.accuracy(x_test, t_test)\n",
    "        train_acc_list4.append(train_acc)\n",
    "        test_acc_list4.append(test_acc)\n",
    "        print(train_acc, test_acc)\n",
    "import matplotlib.pyplot as plt\n",
    "plt.cla()\n",
    "plt.plot(train_loss_list4)"
   ]
  },
  {
   "cell_type": "markdown",
   "metadata": {},
   "source": [
    "## 绘图"
   ]
  },
  {
   "cell_type": "code",
   "execution_count": 13,
   "metadata": {},
   "outputs": [
    {
     "data": {
      "text/plain": [
       "<matplotlib.legend.Legend at 0x1a374cd9a20>"
      ]
     },
     "execution_count": 13,
     "metadata": {},
     "output_type": "execute_result"
    },
    {
     "data": {
      "image/png": "[encoded data removed]",
      "text/plain": [
       "<Figure size 640x480 with 1 Axes>"
      ]
     },
     "metadata": {},
     "output_type": "display_data"
    },
    {
     "data": {
      "image/png": "[encoded data removed]",
      "text/plain": [
       "<Figure size 640x480 with 1 Axes>"
      ]
     },
     "metadata": {},
     "output_type": "display_data"
    }
   ],
   "source": [
    "plt.plot(train_acc_list2)\n",
    "plt.plot(train_acc_list3)\n",
    "plt.plot(train_acc_list4)\n",
    "plt.legend([\"layer2\",\"layer3\",\"layer4\"])\n",
    "# plt.cla()\n",
    "plt.figure()\n",
    "plt.plot(test_acc_list2)\n",
    "plt.plot(test_acc_list3)\n",
    "plt.plot(test_acc_list4)\n",
    "plt.legend([\"layer2\",\"layer3\",\"layer4\"])"
   ]
  },
  {
   "cell_type": "code",
   "execution_count": 14,
   "metadata": {},
   "outputs": [
    {
     "data": {
      "text/plain": [
       "array([[0.26894142, 0.73105858],\n",
       "       [0.26894142, 0.73105858]])"
      ]
     },
     "execution_count": 14,
     "metadata": {},
     "output_type": "execute_result"
    }
   ],
   "source": [
    "import numpy as np\n",
    "def softmax(x):\n",
    "    if x.ndim == 2:\n",
    "        x = x.T\n",
    "        x = x - np.max(x, axis=0)\n",
    "        y = np.exp(x) / np.sum(np.exp(x), axis=0)\n",
    "        return y.T \n",
    "    #若不加上面的if这一段，则很可能会溢出，导致模型表现极差\n",
    "    x = x - np.max(x) # 溢出对策\n",
    "    return np.exp(x) / np.sum(np.exp(x))\n",
    "softmax(np.array([[1,2],[1,2]]))"
   ]
  },
  {
   "cell_type": "code",
   "execution_count": 15,
   "metadata": {},
   "outputs": [
    {
     "name": "stdout",
     "output_type": "stream",
     "text": [
      "[[1 2 3]\n",
      " [1 2 3]]\n",
      "[1 2 3]\n"
     ]
    },
    {
     "data": {
      "text/plain": [
       "array([[0.5, 0.5],\n",
       "       [0.5, 0.5],\n",
       "       [0.5, 0.5]])"
      ]
     },
     "execution_count": 15,
     "metadata": {},
     "output_type": "execute_result"
    }
   ],
   "source": [
    "def softmax(x):\n",
    "    if x.ndim == 2:\n",
    "        x = x.T\n",
    "        print(x)\n",
    "        print(np.max(x, axis=0))\n",
    "        x = x - np.max(x, axis=0)\n",
    "        y = np.exp(x) / np.sum(np.exp(x), axis=0)\n",
    "        return y.T \n",
    "    #若不加上面的if这一段，则很可能会溢出，导致模型表现极差\n",
    "    x = x - np.max(x) # 溢出对策\n",
    "    return np.exp(x) / np.sum(np.exp(x))\n",
    "softmax(np.array([[1,2,3],[1,2,3]]).T)"
   ]
  },
  {
   "cell_type": "code",
   "execution_count": 16,
   "metadata": {},
   "outputs": [],
   "source": [
    "# def softmax(x):\n",
    "#     if x.ndim == 2:\n",
    "#         # x = x.T\n",
    "#         print(x)\n",
    "#         print(np.max(x, axis=1))\n",
    "#         x = x - np.max(x, axis=1).T\n",
    "#         y = np.exp(x) / np.sum(np.exp(x), axis=1)\n",
    "#         return y\n",
    "#     #若不加上面的if这一段，则很可能会溢出，导致模型表现极差\n",
    "#     x = x - np.max(x) # 溢出对策\n",
    "#     return np.exp(x) / np.sum(np.exp(x))\n",
    "# softmax(np.array([[1,2,3],[1,2,3]]).T)"
   ]
  }
 ],
 "metadata": {
  "kernelspec": {
   "display_name": "Python 3.10.6 64-bit",
   "language": "python",
   "name": "python3"
  },
  "language_info": {
   "codemirror_mode": {
    "name": "ipython",
    "version": 3
   },
   "file_extension": ".py",
   "mimetype": "text/x-python",
   "name": "python",
   "nbconvert_exporter": "python",
   "pygments_lexer": "ipython3",
   "version": "3.10.6"
  },
  "orig_nbformat": 4,
  "vscode": {
   "interpreter": {
    "hash": "dbd5104f6212b1fc6f64e8e19ae2007e53f3ed0d4bd4f1dbbcdf8e035cfbf35c"
   }
  }
 },
 "nbformat": 4,
 "nbformat_minor": 2
}
